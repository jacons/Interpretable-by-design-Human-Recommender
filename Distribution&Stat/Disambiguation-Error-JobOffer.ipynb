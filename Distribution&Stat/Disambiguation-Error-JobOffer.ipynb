{
 "cells": [
  {
   "cell_type": "code",
   "execution_count": null,
   "id": "initial_id",
   "metadata": {
    "collapsed": true
   },
   "outputs": [],
   "source": [
    "import numpy as np\n",
    "import pandas as pd\n",
    "from tqdm import tqdm\n",
    "from Class_utils.parameters import file_paths,job_graph_par\n",
    "from KnowledgeBase.JobGraph import JobGraph\n",
    "import ast\n",
    "\n",
    "import seaborn as sns\n",
    "import matplotlib.pyplot as plt\n",
    "sns.set_style(\"darkgrid\")\n",
    "\n",
    "import warnings\n",
    "warnings.filterwarnings(\"ignore\", \"is_categorical_dtype\")\n",
    "warnings.filterwarnings(\"ignore\", \"use_inf_as_na\")\n",
    "%reload_ext autoreload\n",
    "%autoreload 2"
   ]
  },
  {
   "cell_type": "code",
   "outputs": [],
   "source": [
    "job_graph = JobGraph(file_paths, **job_graph_par)"
   ],
   "metadata": {
    "collapsed": false
   },
   "id": "c2332b48c79ed09a"
  },
  {
   "cell_type": "code",
   "outputs": [],
   "source": [
    "offer = pd.read_csv(\"../outputs/test_50k_job_offers.csv\").set_index(\"qId\")"
   ],
   "metadata": {
    "collapsed": false
   },
   "id": "268ff60a27a4f0a6"
  },
  {
   "cell_type": "code",
   "outputs": [],
   "source": [
    "offer_md = pd.json_normalize(offer[\"info\"].apply(ast.literal_eval))\n",
    "offer_md.index.rename(\"qId\", inplace=True)"
   ],
   "metadata": {
    "collapsed": false
   },
   "id": "1c40b45596630d06"
  },
  {
   "cell_type": "code",
   "outputs": [],
   "source": [
    "counter = np.zeros((4,5))\n",
    "total = np.zeros((4,5))\n",
    "\n",
    "qId_error_comp_ess,qId_error_comp_opt,qId_error_know_ess,qId_error_know_opt = [],[],[],[]\n",
    "\n",
    "for qId, job in tqdm(offer.iterrows(),total=len(offer)):\n",
    "\n",
    "    essential_comp = ast.literal_eval(job[\"Competence_essential\"])\n",
    "    optional_comp = ast.literal_eval(job[\"Competence_optional\"])\n",
    "    un_es_comp, amb_es_comp = job_graph.skill_standardize(essential_comp)\n",
    "    un_op_comp, amb_op_comp = job_graph.skill_standardize(optional_comp)\n",
    "    de_amb_es_comp = job_graph.solve_ambiguous(amb_es_comp, un_es_comp + un_op_comp)\n",
    "    de_amb_op_comp = job_graph.solve_ambiguous(amb_op_comp, un_es_comp + un_op_comp)\n",
    "\n",
    "    real_uris = offer_md.loc[qId, \"uri_comp_ess\"]\n",
    "    equal_ = 0 if set(un_es_comp) | set(de_amb_es_comp)  ==  set(real_uris) else 1\n",
    "    total[0,len(amb_es_comp)] +=1\n",
    "    if equal_ == 1:\n",
    "        counter[0, len(amb_es_comp)] += 1\n",
    "        qId_error_comp_ess.append(qId)\n",
    "    \n",
    "    real_uris = offer_md.loc[qId, \"uri_comp_opt\"]\n",
    "    equal_ = 0 if set(un_op_comp) | set(de_amb_op_comp)  ==  set(real_uris) else 1\n",
    "    total[1,len(amb_op_comp)] +=1\n",
    "    if equal_ == 1:\n",
    "        counter[1, len(amb_op_comp)] += 1\n",
    "    qId_error_comp_opt.append(qId)\n",
    "    \n",
    "    essential_know = ast.literal_eval(job[\"Knowledge_essential\"])\n",
    "    optional_know = ast.literal_eval(job[\"Knowledge_optional\"])\n",
    "    un_es_know, amb_es_know = job_graph.skill_standardize(essential_know)\n",
    "    un_op_know, amb_op_know = job_graph.skill_standardize(optional_know)\n",
    "    de_amb_es_know = job_graph.solve_ambiguous(amb_es_know, un_es_know + un_op_know)\n",
    "    de_amb_op_know = job_graph.solve_ambiguous(amb_op_know, un_es_know + un_op_know)\n",
    "\n",
    "\n",
    "    real_uris = offer_md.loc[qId, \"uri_know_ess\"]\n",
    "    equal_ = 0 if set(un_es_know) | set(de_amb_es_know)  ==  set(real_uris) else 1\n",
    "    total[2,len(amb_es_know)] +=1\n",
    "    if equal_ == 1:\n",
    "        counter[2, len(amb_es_know)] += 1\n",
    "        qId_error_know_ess.append(qId)\n",
    "\n",
    "    real_uris = offer_md.loc[qId, \"uri_know_opt\"]\n",
    "    equal_ = 0 if set(un_op_know) | set(de_amb_op_know)  ==  set(real_uris) else 1\n",
    "    total[3,len(amb_op_know)] +=1\n",
    "    if equal_ == 1:\n",
    "        counter[3, len(amb_op_know)] += 1\n",
    "        qId_error_know_opt.append(qId)\n",
    "    "
   ],
   "metadata": {
    "collapsed": false
   },
   "id": "62c3705537c6e234"
  },
  {
   "cell_type": "code",
   "outputs": [],
   "source": [
    "total_, errors_ = list(total.sum(axis=0)), list(counter.sum(axis=0))\n",
    "dt = pd.DataFrame(\n",
    "    {\n",
    "        \"# ambiguous\":[*range(len(errors_))],\n",
    "        \"perc\": [e/t if t > 0 else 0 for t, e in zip(total_,errors_)],\n",
    "        \"%\": [str(format(e/t, '.4f'))+\" %\" if t > 0 else \"0.0000 %\" for t, e in zip(total_,errors_)]\n",
    "    })\n",
    "dt.drop(0,inplace=True)\n",
    "dt"
   ],
   "metadata": {
    "collapsed": false
   },
   "id": "a1d0aaeacd9bec93"
  },
  {
   "cell_type": "code",
   "outputs": [],
   "source": [
    "_, axs = plt.subplots(figsize=(10, 7))\n",
    "\n",
    "\n",
    "sns.barplot(x=\"# ambiguous\", y=\"perc\", data=dt, palette=\"flare\",hue=\"perc\",legend=False, ax=axs)\n",
    "sns.despine(left=True, bottom=True)\n",
    "axs.set_title('Number of disambiguation errors in job-offer', fontsize=18)\n",
    "axs.set_xlabel('Number of ambiguous skill', fontsize=16)\n",
    "axs.set_ylabel('Disambiguation Errors', fontsize=16)\n",
    "axs.tick_params(axis='both', labelsize=14)\n",
    "axs.set_ylim([0, 1])\n",
    "\n",
    "table = plt.table(cellText=dt[[\"# ambiguous\",\"%\"]].values, colLabels=dt[[\"# ambiguous\",\"%\"]].columns,\n",
    "                  cellLoc='center', bbox=[0.05, 0.5, 0.35, 0.4], loc='upper right')\n",
    "\n",
    "table.auto_set_font_size(False)\n",
    "table.set_fontsize(16)\n",
    "plt.show()"
   ],
   "metadata": {
    "collapsed": false
   },
   "id": "e10a2c921fbeaeae"
  }
 ],
 "metadata": {
  "kernelspec": {
   "display_name": "Python 3",
   "language": "python",
   "name": "python3"
  },
  "language_info": {
   "codemirror_mode": {
    "name": "ipython",
    "version": 2
   },
   "file_extension": ".py",
   "mimetype": "text/x-python",
   "name": "python",
   "nbconvert_exporter": "python",
   "pygments_lexer": "ipython2",
   "version": "2.7.6"
  }
 },
 "nbformat": 4,
 "nbformat_minor": 5
}
