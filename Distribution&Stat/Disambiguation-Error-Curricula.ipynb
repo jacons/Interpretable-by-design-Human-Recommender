{
 "cells": [
  {
   "cell_type": "code",
   "execution_count": null,
   "id": "initial_id",
   "metadata": {
    "collapsed": true
   },
   "outputs": [],
   "source": [
    "import numpy as np\n",
    "import pandas as pd\n",
    "from tqdm import tqdm\n",
    "from Class_utils.parameters import file_paths,job_graph_par\n",
    "from Class_utils.JobGraph import JobGraph\n",
    "import ast\n",
    "from Class_utils.FitnessFunctions import FitnessFunctions\n",
    "\n",
    "import seaborn as sns\n",
    "import matplotlib.pyplot as plt\n",
    "sns.set_style(\"darkgrid\")\n",
    "\n",
    "import warnings\n",
    "warnings.filterwarnings(\"ignore\", \"is_categorical_dtype\")\n",
    "warnings.filterwarnings(\"ignore\", \"use_inf_as_na\")\n",
    "%reload_ext autoreload\n",
    "%autoreload 2"
   ]
  },
  {
   "cell_type": "code",
   "execution_count": null,
   "outputs": [],
   "source": [
    "job_graph = JobGraph(file_paths, **job_graph_par)"
   ],
   "metadata": {
    "collapsed": false
   },
   "id": "9162907c20bdfdcc"
  },
  {
   "cell_type": "code",
   "execution_count": null,
   "outputs": [],
   "source": [
    "curricula = pd.read_csv(\"../outputs/test20k_curricula.csv\").set_index(\"kId\")"
   ],
   "metadata": {
    "collapsed": false
   },
   "id": "b6c56125933b7f5c"
  },
  {
   "cell_type": "code",
   "execution_count": null,
   "outputs": [],
   "source": [
    "curricula"
   ],
   "metadata": {
    "collapsed": false
   },
   "id": "79dabd117691feec"
  },
  {
   "cell_type": "code",
   "execution_count": null,
   "outputs": [],
   "source": [
    "curricula_md = pd.json_normalize(curricula[\"metadata\"].apply(ast.literal_eval))\n",
    "curricula_md.index.rename(\"kId\", inplace=True)"
   ],
   "metadata": {
    "collapsed": false
   },
   "id": "768ba0266f5674b0"
  },
  {
   "cell_type": "code",
   "execution_count": null,
   "outputs": [],
   "source": [
    "comp_columns = [\"Competences\"+str(i) for i in range(0, 6 + 1)]\n",
    "know_columns = [\"Knowledge\"+str(i) for i in range(0, 6 + 1)]"
   ],
   "metadata": {
    "collapsed": false
   },
   "id": "2b9e60782ab8bc63"
  },
  {
   "cell_type": "code",
   "execution_count": null,
   "outputs": [],
   "source": [
    "counter = np.zeros((2, 5))\n",
    "total = np.zeros((2, 5))\n",
    "qId_error_comp,qId_error_know = [],[]\n",
    "\n",
    "\n",
    "for kId, cv in tqdm(curricula.iterrows(),total=len(curricula)):\n",
    "\n",
    "    comp = FitnessFunctions.filter(cv[comp_columns].to_list())\n",
    "    un_comp, amb_comp = job_graph.skill_standardize(comp)\n",
    "    de_amb_comp = job_graph.solve_ambiguous(amb_comp, un_comp)\n",
    "    \n",
    "    real_uris = curricula_md.loc[kId, \"uri_competences\"]\n",
    "    total[0, len(amb_comp)] += 1\n",
    "    equal_ = 0 if set(un_comp) | set(de_amb_comp)  ==  set(real_uris) else 1\n",
    "    if equal_ == 1:\n",
    "        counter[0, len(amb_comp)] += 1\n",
    "        qId_error_comp.append(kId)\n",
    "\n",
    "    know = FitnessFunctions.filter(cv[know_columns].to_list())\n",
    "    un_know, amb_know = job_graph.skill_standardize(know)\n",
    "    de_amb_know = job_graph.solve_ambiguous(amb_know, un_know)\n",
    "\n",
    "    real_uris = curricula_md.loc[kId, \"uri_knowledge\"]\n",
    "    total[1, len(amb_know)] += 1\n",
    "    equal_ = 0 if set(un_know) | set(de_amb_know)  ==  set(real_uris) else 1\n",
    "    if equal_ == 1:\n",
    "        counter[1, len(amb_know)] += 1\n",
    "        qId_error_know.append(kId)\n"
   ],
   "metadata": {
    "collapsed": false
   },
   "id": "e5ac7ece1854fdb2"
  },
  {
   "cell_type": "code",
   "execution_count": null,
   "outputs": [],
   "source": [
    "counter"
   ],
   "metadata": {
    "collapsed": false
   },
   "id": "bc69fd3bebe2d286"
  },
  {
   "cell_type": "code",
   "execution_count": null,
   "outputs": [],
   "source": [
    "total"
   ],
   "metadata": {
    "collapsed": false
   },
   "id": "b6dae5213b9cb7c5"
  },
  {
   "cell_type": "code",
   "execution_count": null,
   "outputs": [],
   "source": [
    "total_, errors_ = list(total.sum(axis=0)), list(counter.sum(axis=0))\n",
    "dt = pd.DataFrame(\n",
    "    {\n",
    "        \"# ambiguous\":[*range(len(errors_))],\n",
    "        \"perc\": [e/t if t > 0 else 0 for t, e in zip(total_,errors_)],\n",
    "        \"%\": [str(format(e/t, '.4f'))+\" %\" if t > 0 else \"0.0000 %\" for t, e in zip(total_,errors_)]\n",
    "    })\n",
    "dt.drop(0,inplace=True)\n",
    "dt"
   ],
   "metadata": {
    "collapsed": false
   },
   "id": "d4397f55208e9014"
  },
  {
   "cell_type": "code",
   "execution_count": null,
   "outputs": [],
   "source": [
    "_, axs = plt.subplots(figsize=(10, 7))\n",
    "\n",
    "sns.barplot(x=\"# ambiguous\", y=\"perc\", palette=\"flare\", data=dt,hue=\"perc\",legend=False, ax=axs)\n",
    "sns.despine(left=True, bottom=True)\n",
    "axs.set_title('Number of disambiguation errors in curricula', fontsize=18)\n",
    "axs.set_xlabel('Number of ambiguous skills', fontsize=16)\n",
    "axs.set_ylabel('Disambiguation Errors', fontsize=16)\n",
    "axs.tick_params(axis='both', labelsize=14)\n",
    "axs.set_ylim([0, 1])\n",
    "\n",
    "table = plt.table(cellText=dt[[\"# ambiguous\",\"%\"]].values, colLabels=dt[[\"# ambiguous\",\"%\"]].columns,\n",
    "                  cellLoc='center', bbox=[0.05, 0.5, 0.35, 0.4], loc='upper right')\n",
    "\n",
    "table.auto_set_font_size(False)\n",
    "table.set_fontsize(16)\n",
    "plt.show()"
   ],
   "metadata": {
    "collapsed": false
   },
   "id": "b626f91afc0aa14d"
  }
 ],
 "metadata": {
  "kernelspec": {
   "display_name": "Python 3",
   "language": "python",
   "name": "python3"
  },
  "language_info": {
   "codemirror_mode": {
    "name": "ipython",
    "version": 2
   },
   "file_extension": ".py",
   "mimetype": "text/x-python",
   "name": "python",
   "nbconvert_exporter": "python",
   "pygments_lexer": "ipython2",
   "version": "2.7.6"
  }
 },
 "nbformat": 4,
 "nbformat_minor": 5
}
