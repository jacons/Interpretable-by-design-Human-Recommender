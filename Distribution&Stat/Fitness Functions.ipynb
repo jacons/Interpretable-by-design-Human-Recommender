{
 "cells": [
  {
   "cell_type": "code",
   "execution_count": null,
   "outputs": [],
   "source": [
    "import matplotlib.pyplot as plt\n",
    "\n",
    "from Class_utils.FitnessFunctions import *\n",
    "\n",
    "import seaborn as sns\n",
    "sns.set_style(\"darkgrid\")\n",
    "\n",
    "import warnings\n",
    "warnings.filterwarnings(\"ignore\", \"is_categorical_dtype\")\n",
    "warnings.filterwarnings(\"ignore\", \"use_inf_as_na\")\n",
    "%reload_ext autoreload\n",
    "%autoreload 2"
   ],
   "metadata": {
    "collapsed": false
   },
   "id": "427358f957dd57f4"
  },
  {
   "cell_type": "markdown",
   "source": [
    "# Fitness age function"
   ],
   "metadata": {
    "collapsed": false
   },
   "id": "b0e5c6aa22ac3942"
  },
  {
   "cell_type": "code",
   "execution_count": null,
   "id": "initial_id",
   "metadata": {
    "collapsed": true
   },
   "outputs": [],
   "source": [
    "min_age, max_age = 18, 35\n",
    "ages = [*range(16,37+1)]\n",
    "age_score = [FitnessAge.fitness_basic(i,min_age,max_age) for i in ages]\n",
    "\n",
    "_, axs = plt.subplots(figsize=(8,3))\n",
    "\n",
    "sns.lineplot(x=ages,y=age_score, label=\"fitness value\",ax=axs)\n",
    "axs.axvline(min_age, alpha=0.5,linewidth=0.8, color=\"black\", label=\"Min age\")\n",
    "axs.axvline(max_age, alpha=0.5,linewidth=0.8, color=\"black\", label=\"Max age\")\n",
    "axs.grid(color='grey', linestyle='-.', linewidth=0.5, alpha=0.5)\n",
    "axs.set_ylim(-0.05,1.2)\n",
    "axs.set_xticks(np.arange(15, 37 + 1, 1))\n",
    "axs.set_title(\"Fitness age function\")\n",
    "axs.set_xlabel('Age')\n",
    "axs.set_ylabel('Values')\n",
    "axs.legend()\n",
    "plt.show()"
   ]
  },
  {
   "cell_type": "markdown",
   "source": [
    "# Fitness Experience function"
   ],
   "metadata": {
    "collapsed": false
   },
   "id": "307a785594a9af27"
  },
  {
   "cell_type": "code",
   "execution_count": null,
   "outputs": [],
   "source": [
    "exp_essential,exp_optional = 2, True\n",
    "experience = [*range(0,5)]\n",
    "\n",
    "basic_score, bonus_score = [], []\n",
    "for i in experience:\n",
    "    a = FitnessExperience.fitness_basic(exp_essential,i)\n",
    "    b = FitnessExperience.fitness_bonus(exp_essential, exp_optional, i)\n",
    "    basic_score.append(a)\n",
    "    bonus_score.append(b)\n",
    "\n",
    "overall = [a + b for a,b in zip(basic_score,bonus_score)]\n",
    "_, axs = plt.subplots(figsize=(8,3))\n",
    "\n",
    "sns.lineplot(x=experience, y=overall, color=\"red\", linestyle=\"--\", label=\"Overall\")\n",
    "sns.lineplot(x=experience, y=basic_score, label=\"fitness essential\")\n",
    "sns.lineplot(x=experience, y=bonus_score, label=\"fitness optional\")\n",
    "axs.axvline(exp_essential, alpha=0.5,linewidth=0.8, color=\"black\", label=\"Essential experience\")\n",
    "axs.grid(color='grey', linestyle='-.', linewidth=0.5, alpha=0.5)\n",
    "axs.set_ylim(-0.05,2.2)\n",
    "axs.set_xticks(np.arange(0,5,1))\n",
    "axs.set_title(\"Fitness Experience function\")\n",
    "axs.set_xlabel('Experience')\n",
    "axs.set_ylabel('values')\n",
    "axs.legend()\n",
    "plt.show()"
   ],
   "metadata": {
    "collapsed": false
   },
   "id": "26c38c911efa7e6"
  },
  {
   "cell_type": "markdown",
   "source": [
    "# Fitness City function"
   ],
   "metadata": {
    "collapsed": false
   },
   "id": "e363a4d36b946c1c"
  },
  {
   "cell_type": "code",
   "execution_count": null,
   "outputs": [],
   "source": [
    "fitness_city = FitnessCity(\"../sources/cities_distance.csv\")\n",
    "\n",
    "distance = 100\n",
    "range_ = [*range(10,120,1)]\n",
    "fitness = [fitness_city.distance_scoring(distance, r) for r in range_]\n",
    "\n",
    "_, axs = plt.subplots(figsize=(8,3))\n",
    "\n",
    "axs.axvline(distance, alpha=0.5,linewidth=0.8, color=\"black\", label=\"Distance\")\n",
    "sns.lineplot(x=range_,y=fitness, label=\"Fitness\")\n",
    "axs.grid(color='grey', linestyle='-.', linewidth=0.5, alpha=0.5)\n",
    "axs.set_title(\"Fitness City function\")\n",
    "axs.set_xlabel('Range (KM)')\n",
    "axs.set_ylabel('Values')\n",
    "axs.set_ylim(-0.05,1.05)\n",
    "\n",
    "axs.legend()\n",
    "plt.show()"
   ],
   "metadata": {
    "collapsed": false
   },
   "id": "e572ca5fe6812e19"
  },
  {
   "cell_type": "markdown",
   "source": [
    "# Fitness Language"
   ],
   "metadata": {
    "collapsed": false
   },
   "id": "4c0febb184ce022f"
  },
  {
   "cell_type": "code",
   "execution_count": null,
   "outputs": [],
   "source": [
    "fitness_language = FitnessLanguages()"
   ],
   "metadata": {
    "collapsed": false
   },
   "id": "5b5efaaed7b17568"
  },
  {
   "cell_type": "markdown",
   "source": [
    "example"
   ],
   "metadata": {
    "collapsed": false
   },
   "id": "ac0c383fa187aaf2"
  },
  {
   "cell_type": "code",
   "execution_count": null,
   "outputs": [],
   "source": [
    "lang1 = Language(\"Italian\",\"Null\")\n",
    "lang3 = Language(\"English\",\"B1\")\n",
    "\n",
    "lang2 = Language(\"Italian\",\"A1\")\n",
    "lang4 = Language(\"English\",\"B2\")\n",
    "\n",
    "lang5 = Language(\"French\",\"C1\")"
   ],
   "metadata": {
    "collapsed": false
   },
   "id": "122ae633833f886e"
  },
  {
   "cell_type": "code",
   "execution_count": null,
   "outputs": [],
   "source": [
    "fitness_language.fitness_basic([lang1,lang3],[lang2,lang4,lang5])"
   ],
   "metadata": {
    "collapsed": false
   },
   "id": "28a6238f949947a1"
  }
 ],
 "metadata": {
  "kernelspec": {
   "display_name": "Python 3",
   "language": "python",
   "name": "python3"
  },
  "language_info": {
   "codemirror_mode": {
    "name": "ipython",
    "version": 2
   },
   "file_extension": ".py",
   "mimetype": "text/x-python",
   "name": "python",
   "nbconvert_exporter": "python",
   "pygments_lexer": "ipython2",
   "version": "2.7.6"
  }
 },
 "nbformat": 4,
 "nbformat_minor": 5
}
