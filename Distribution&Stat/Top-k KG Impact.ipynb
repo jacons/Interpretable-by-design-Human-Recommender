{
 "cells": [
  {
   "cell_type": "code",
   "execution_count": null,
   "id": "initial_id",
   "metadata": {
    "collapsed": true
   },
   "outputs": [],
   "source": [
    "from Models.grid_search_utils import GridSearch as Gs\n",
    "import seaborn as sns\n",
    "import numpy as np\n",
    "import pandas as pd\n",
    "import matplotlib.pyplot as plt\n",
    "\n",
    "import warnings\n",
    "warnings.filterwarnings(\"ignore\", \"is_categorical_dtype\")\n",
    "warnings.filterwarnings(\"ignore\", \"use_inf_as_na\")\n",
    "\n",
    "EBMReg = Gs.load_model(name=\"../Models/GlassBox/ebm/saved_models/EBMReg\")"
   ]
  },
  {
   "cell_type": "code",
   "execution_count": null,
   "outputs": [],
   "source": [
    "test_set_with = pd.read_csv(\"../outputs/scores/0_dataset_ts.csv\")\n",
    "test_set_without = pd.read_csv(\"../outputs/scores/1_dataset_ts.csv\")"
   ],
   "metadata": {
    "collapsed": false
   },
   "id": "2ff2750438ca2051"
  },
  {
   "cell_type": "code",
   "execution_count": null,
   "outputs": [],
   "source": [
    "test_result = test_set_with[[\"qId\",\"kId\"]].copy()\n",
    "test_result[\"output_with\"] = EBMReg.predict(test_set_with.iloc[:,5:].to_numpy())\n",
    "test_result[\"output_without\"] = EBMReg.predict(test_set_without.iloc[:,5:].to_numpy())"
   ],
   "metadata": {
    "collapsed": false
   },
   "id": "9ea6e05fd1590065"
  },
  {
   "cell_type": "code",
   "execution_count": null,
   "outputs": [],
   "source": [
    "job_offer = test_result[test_result[\"qId\"] == 18].iloc[:,1:].copy().set_index(\"kId\")\n",
    "job_offer = job_offer.sort_index()\n",
    "job_offer[\"ax0\"] = 0\n",
    "job_offer[\"ax1\"] = 1"
   ],
   "metadata": {
    "collapsed": false
   },
   "id": "d6d0d2a873b3a602"
  },
  {
   "cell_type": "code",
   "execution_count": null,
   "outputs": [],
   "source": [
    "job_offer[\"rank_with\"] = job_offer[\"output_with\"].rank(method=\"first\", ascending=False)\n",
    "job_offer[\"rank_without\"] = job_offer[\"output_without\"].rank(method=\"first\", ascending=False)"
   ],
   "metadata": {
    "collapsed": false
   },
   "id": "5eefd8a041a2775"
  },
  {
   "cell_type": "code",
   "execution_count": null,
   "outputs": [],
   "source": [
    "job_offer[\"diff\"] = job_offer[\"rank_without\"] - job_offer[\"rank_with\"]"
   ],
   "metadata": {
    "collapsed": false
   },
   "id": "c75c25d64aa3e053"
  },
  {
   "cell_type": "code",
   "execution_count": null,
   "outputs": [],
   "source": [
    "job_offer = job_offer.sort_values(by=\"rank_with\").head(15)"
   ],
   "metadata": {
    "collapsed": false
   },
   "id": "12154a663bfaed01"
  },
  {
   "cell_type": "code",
   "execution_count": null,
   "outputs": [],
   "source": [
    "job_offer"
   ],
   "metadata": {
    "collapsed": false
   },
   "id": "9c2916f197ba99e4"
  },
  {
   "cell_type": "code",
   "execution_count": null,
   "outputs": [],
   "source": [
    "sns.set_style(\"darkgrid\")\n",
    "\n",
    "_, axs = plt.subplots(figsize=(15, 5))\n",
    "\n",
    "for kId in job_offer.index:\n",
    "    pred_without = job_offer.loc[kId,\"rank_without\"]\n",
    "    pred_with = job_offer.loc[kId,\"rank_with\"]\n",
    "    diff = job_offer.loc[kId,\"diff\"]\n",
    "    axs.text(pred_without, job_offer.loc[kId, \"ax0\"] - 0.4, kId, horizontalalignment='center', size=14)\n",
    "    axs.text(pred_with, job_offer.loc[kId, \"ax1\"] + 0.2, kId, horizontalalignment='center', size=14)\n",
    "    \n",
    "    color = \"Red\" if diff > 0 else \"Black\"\n",
    "    line_width = 0.5 if diff > 0 else 0.08\n",
    "    axs.arrow(pred_with,1, diff, -1, linewidth=line_width, color=color)\n",
    "    \n",
    "sns.scatterplot(y=\"ax0\", x=\"rank_without\", data=job_offer, s=100, ax=axs, label=\"ranking without KG\")\n",
    "sns.scatterplot(y=\"ax1\", x=\"rank_with\", data=job_offer, s=100, ax=axs, label=\"ranking with KG\")\n",
    "\n",
    "axs.set_yticks([-1,0,1,2])\n",
    "\n",
    "last_pos = int(job_offer[\"rank_without\"].max()) + 1\n",
    "axs.set_xticks([*range(1,last_pos)],[str(i)+\"°\" for i in range(1,last_pos)])\n",
    "axs.tick_params(axis='both', labelsize=15, labelleft=False)\n",
    "axs.set_ylabel(\"\")\n",
    "axs.set_xlabel(\"Ranking position\",fontsize=16)\n",
    "axs.set_title(\"How to change the ranking using/not using KG\", fontsize=20)\n",
    "axs.grid(True)\n",
    "axs.legend(fontsize=14)\n",
    "plt.show()"
   ],
   "metadata": {
    "collapsed": false
   },
   "id": "33cfc634bd9058c1"
  },
  {
   "cell_type": "code",
   "execution_count": null,
   "outputs": [],
   "source": [
    "display(test_set_without[test_set_without[\"kId\"] == 1501].iloc[:,14:])\n",
    "display(test_set_with[test_set_with[\"kId\"] == 1501].iloc[:,14::])"
   ],
   "metadata": {
    "collapsed": false
   },
   "id": "590b1a7be317b8a9"
  },
  {
   "cell_type": "code",
   "execution_count": null,
   "outputs": [],
   "source": [
    "curricula = pd.read_csv(\"../outputs/0_curricula.csv\")\n",
    "job_offer = pd.read_csv(\"../outputs/0_job_offers.csv\")"
   ],
   "metadata": {
    "collapsed": false
   },
   "id": "e34d8e67e2ddece5"
  },
  {
   "cell_type": "code",
   "execution_count": null,
   "outputs": [],
   "source": [
    "curricula[curricula[\"kId\"]==1501].iloc[0,7:21].to_dict()"
   ],
   "metadata": {
    "collapsed": false
   },
   "id": "e35ddfc2288078c5"
  },
  {
   "cell_type": "code",
   "execution_count": null,
   "outputs": [],
   "source": [
    "job_offer[job_offer[\"qId\"]==18].iloc[:,8:22].to_dict()"
   ],
   "metadata": {
    "collapsed": false
   },
   "id": "6c3ad7f1bfa297f7"
  }
 ],
 "metadata": {
  "kernelspec": {
   "display_name": "Python 3",
   "language": "python",
   "name": "python3"
  },
  "language_info": {
   "codemirror_mode": {
    "name": "ipython",
    "version": 2
   },
   "file_extension": ".py",
   "mimetype": "text/x-python",
   "name": "python",
   "nbconvert_exporter": "python",
   "pygments_lexer": "ipython2",
   "version": "2.7.6"
  }
 },
 "nbformat": 4,
 "nbformat_minor": 5
}
