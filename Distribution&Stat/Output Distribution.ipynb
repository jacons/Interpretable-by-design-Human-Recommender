{
 "cells": [
  {
   "cell_type": "code",
   "execution_count": null,
   "id": "initial_id",
   "metadata": {
    "collapsed": true
   },
   "outputs": [],
   "source": [
    "import pandas as pd\n",
    "import matplotlib.pyplot as plt\n",
    "import seaborn as sns\n",
    "import ast, pickle\n",
    "\n",
    "from Class_utils.FitnessClasses import *\n",
    "\n",
    "sns.set_style(\"darkgrid\")\n",
    "import warnings\n",
    "warnings.filterwarnings(\"ignore\", \"is_categorical_dtype\")\n",
    "warnings.filterwarnings(\"ignore\", \"use_inf_as_na\")\n",
    "%reload_ext autoreload\n",
    "%autoreload 2"
   ]
  },
  {
   "cell_type": "markdown",
   "id": "a11d2bb2929a3c89",
   "metadata": {},
   "source": [
    "# Sources Distributions"
   ]
  },
  {
   "cell_type": "code",
   "execution_count": null,
   "outputs": [],
   "source": [
    "_, axs = plt.subplots(ncols=2,nrows=1, figsize=(20, 7))\n",
    "\n",
    "w_score,binned_score = [],[]\n",
    "for r in range(2):\n",
    "    score_dt = pd.read_csv(f\"../outputs/scores/{r}_dataset.csv\")\n",
    "    w_score.append(score_dt[\"w_score\"].tolist())\n",
    "    binned_score_ = score_dt[\"binned_score\"].to_list()\n",
    "    distri_labels = [binned_score_.count(i) for i in range(max(binned_score_)+1)]\n",
    "    name_label = [*range(max(binned_score_)+1)]\n",
    "    distri_labels = pd.DataFrame(distri_labels,index=name_label,columns=[\"Count\"])\n",
    "    binned_score.append(distri_labels)\n",
    "    \n",
    "\n",
    "sns.histplot(w_score[0], kde=True, ax=axs[0])\n",
    "axs[0].set_title('Distribution of w_score', fontsize=25)\n",
    "axs[0].set_xlabel('w_score', fontsize=16)\n",
    "axs[0].set_ylabel(\"Density\", fontsize=16)\n",
    "axs[0].tick_params(axis='both', labelsize=14)\n",
    "\n",
    "sns.barplot(x=binned_score[0].index,y=binned_score[0][\"Count\"],data=binned_score[0],\n",
    "            color=\"#4C72B0\",ax=axs[1])\n",
    "\n",
    "for index, value in enumerate(binned_score[0][\"Count\"]):\n",
    "    axs[1].text(index, value + 0.1, str(value), ha='center', va='bottom', fontsize=16)\n",
    "\n",
    "axs[1].set_title('Distribution of Binned w_score', fontsize=25)\n",
    "axs[1].set_xlabel('Binned w_score', fontsize=16)\n",
    "axs[1].set_ylabel(\"Density\", fontsize=16)\n",
    "axs[1].tick_params(axis='both', labelsize=14)\n",
    "\n",
    "plt.show()"
   ],
   "metadata": {
    "collapsed": false
   },
   "id": "cade37f874254db1"
  },
  {
   "cell_type": "markdown",
   "source": [
    "# Distributions of models' scores"
   ],
   "metadata": {
    "collapsed": false
   },
   "id": "db65e3307c6f560b"
  },
  {
   "cell_type": "code",
   "execution_count": null,
   "outputs": [],
   "source": [
    "with open(\"../Models/GlassBox/figs/saved_models/FIGSReg.pkl\", 'rb') as file:\n",
    "    model_figs = pickle.load(file)\n",
    "with open(\"../Models/GlassBox/ebm/saved_models/EBMReg.pkl\", 'rb') as file:\n",
    "    model_ebm = pickle.load(file)\n",
    "with open(\"../Models/BlackBox/lmart/saved_models/LGBMRanker.pkl\", 'rb') as file:\n",
    "    model_lgbm = pickle.load(file)"
   ],
   "metadata": {
    "collapsed": false
   },
   "id": "fafabe5a82080e55"
  },
  {
   "cell_type": "code",
   "execution_count": null,
   "outputs": [],
   "source": [
    "dataset0 = pd.read_csv(\"../outputs/scores/0_dataset.csv\")\n",
    "dataset1 = pd.read_csv(\"../outputs/scores/1_dataset.csv\")"
   ],
   "metadata": {
    "collapsed": false
   },
   "id": "3f56cef526934ac8"
  },
  {
   "cell_type": "code",
   "execution_count": null,
   "outputs": [],
   "source": [
    "axs[0].get_xticks()[1:-1]"
   ],
   "metadata": {
    "collapsed": false
   },
   "id": "c50d429a3c648c95"
  },
  {
   "cell_type": "code",
   "execution_count": null,
   "outputs": [],
   "source": [
    "\n",
    "ebm_score0 = model_ebm.predict(dataset0.iloc[:, 5:].to_numpy())\n",
    "figs_score0 = model_figs.predict(dataset0.iloc[:, 5:].to_numpy())\n",
    "lgbm_score0 = model_lgbm.predict(dataset0.iloc[:, 5:].to_numpy())\n",
    "ebm_score1 = model_ebm.predict(dataset1.iloc[:, 5:].to_numpy())\n",
    "figs_score1 = model_figs.predict(dataset1.iloc[:, 5:].to_numpy())\n",
    "lgbm_score1 = model_lgbm.predict(dataset1.iloc[:, 5:].to_numpy())\n",
    "\n",
    "_, axs = plt.subplots(ncols=2, figsize=(20, 8))\n",
    "\n",
    "sns.histplot(dataset0[\"w_score\"], kde=True, label='with KG', ax=axs[0])\n",
    "sns.histplot(dataset1[\"w_score\"], kde=True, label='without KG', ax=axs[0])\n",
    "axs[0].set_title('Distribution of Dataset', fontsize=25)\n",
    "axs[0].set_xlabel('Value of w_score', fontsize=16)\n",
    "axs[0].set_ylabel(\"Density\", fontsize=16)\n",
    "axs[0].set_xticks(axs[0].get_xticks()[1:-1])\n",
    "axs[0].set_yticks(axs[0].get_yticks())\n",
    "axs[0].set_ylim([0, 950])\n",
    "axs[0].tick_params(axis='both', labelsize=14)\n",
    "axs[0].legend(fontsize=16)\n",
    "axs_x0 = axs[0].get_xticks()\n",
    "axs_y0 = axs[0].get_yticks()\n",
    "\n",
    "sns.histplot(ebm_score0, kde=True, label='with KG', ax=axs[1])\n",
    "sns.histplot(ebm_score1, kde=True, label='without KG', ax=axs[1])\n",
    "axs[1].set_title('Distribution of Explainable Boosting machine', fontsize=25)\n",
    "axs[1].set_xlabel('Predicted value', fontsize=16)\n",
    "axs[1].set_ylabel(\"Density\", fontsize=16)\n",
    "axs[1].set_xticks(axs_x0)\n",
    "axs[1].set_yticks(axs_y0)\n",
    "axs[1].set_ylim([0,950])\n",
    "axs[1].tick_params(axis='both', labelsize=14)\n",
    "axs[1].legend(fontsize=16)\n",
    "\n",
    "plt.show()\n",
    "\n",
    "_, axs = plt.subplots(ncols=2, figsize=(20, 8))\n",
    "\n",
    "sns.histplot(figs_score0, kde=True, label='with KG', ax=axs[0])\n",
    "sns.histplot(figs_score1, kde=True, label='without KG', ax=axs[0])\n",
    "axs[0].set_title('Distribution of FIGS Trees', fontsize=25)\n",
    "axs[0].set_xlabel('Predicted value', fontsize=16)\n",
    "axs[0].set_ylabel(\"Density\", fontsize=16)\n",
    "axs[0].set_xticks(axs_x0)\n",
    "axs[0].set_yticks(axs_y0)\n",
    "axs[0].set_ylim([0, 950])\n",
    "axs[0].tick_params(axis='both', labelsize=14)\n",
    "axs[0].legend(fontsize=16)\n",
    "\n",
    "sns.histplot(lgbm_score0, kde=True, label='with KG', ax=axs[1])\n",
    "sns.histplot(lgbm_score1, kde=True, label='without KG', ax=axs[1])\n",
    "axs[1].set_title('Distribution of LGBM Ranker', fontsize=25)\n",
    "axs[1].set_xlabel('lambdas', fontsize=16)\n",
    "axs[1].set_ylabel(\"Density\", fontsize=16)\n",
    "axs[1].tick_params(axis='both', labelsize=14)\n",
    "axs[1].legend(fontsize=16)\n",
    "\n",
    "plt.show()\n"
   ],
   "metadata": {
    "collapsed": false
   },
   "id": "a4d3efb4bdafc823"
  },
  {
   "cell_type": "markdown",
   "source": [
    "# Consistent curricula"
   ],
   "metadata": {
    "collapsed": false
   },
   "id": "c37a65c351dbcee7"
  },
  {
   "cell_type": "code",
   "execution_count": null,
   "outputs": [],
   "source": [
    "curricula = pd.read_csv(\"../outputs/0_curricula.csv\",usecols=[0,1,2]).set_index(\"kId\")\n",
    "dataset = pd.read_csv(\"../outputs/scores/0_dataset.csv\").set_index(\"kId\")"
   ],
   "metadata": {
    "collapsed": false
   },
   "id": "d63e64a99d59c524"
  },
  {
   "cell_type": "code",
   "execution_count": null,
   "outputs": [],
   "source": [
    "curricula = pd.concat([curricula, pd.json_normalize(curricula['metadata'].apply(ast.literal_eval))],\n",
    "                      axis=1)[\"consistent\"]\n",
    "curricula.index.rename(\"kId\", inplace=True)\n",
    "\n",
    "curricula = dataset.merge(curricula, on=\"kId\")[[\"w_score\",\"consistent\"]]\n",
    "curricula['consistent'] = curricula['consistent'].astype(int)\n",
    "lambda_figs = model_figs.predict(dataset.iloc[:, 4:].to_numpy())\n",
    "lambda_ebm = model_ebm.predict(dataset.iloc[:, 4:].to_numpy())\n",
    "lambda_lgbm = model_lgbm.predict(dataset.iloc[:, 4:].to_numpy())\n",
    "\n",
    "predictions = [\n",
    "    pd.DataFrame({'score': lambda_lgbm, 'ax_': np.ones_like(lambda_lgbm.T) * 4, 'c': curricula['consistent']}),\n",
    "    pd.DataFrame({'score': lambda_figs, 'ax_': np.ones_like(lambda_figs.T) * 3, 'c': curricula['consistent']}),\n",
    "    pd.DataFrame({'score': lambda_ebm, 'ax_': np.ones_like(lambda_ebm.T) * 2, 'c': curricula['consistent']}),\n",
    "    pd.DataFrame({'score': curricula[\"w_score\"].to_numpy(), 'ax_': np.ones_like(curricula[\"w_score\"].to_numpy().T) * 1, 'c': curricula['consistent']})\n",
    "]\n",
    "\n",
    "predictions = pd.concat(predictions)"
   ],
   "metadata": {
    "collapsed": false
   },
   "id": "a9914602a06d100c"
  },
  {
   "cell_type": "code",
   "execution_count": null,
   "outputs": [],
   "source": [
    "\n",
    "models = [1, 2, 3, 4]\n",
    "titles = [\"Ground truth\", \"Explainable boosting machine\", \"Figs Trees\", \"LGBM Ranker\"]\n",
    "labels = [\"ground truth w_score\", \"cumulative score\", \"cumulative score\", \"lambdas\"]\n",
    "\n",
    "_, axs = plt.subplots(ncols=2, figsize=(20, 7))\n",
    "for i, model in enumerate(models[:2], start=0):\n",
    "    consistent_data = predictions[(predictions[\"c\"] == 1) & (predictions[\"ax_\"] == model)][\"score\"]\n",
    "    random_data = predictions[(predictions[\"c\"] == 0) & (predictions[\"ax_\"] == model)][\"score\"]\n",
    "\n",
    "    sns.histplot(consistent_data, kde=True, color=\"green\", label=\"Consistent cv\", ax=axs[i])\n",
    "    sns.histplot(random_data, kde=True, color=\"red\", label=\"Random cv\", ax=axs[i])\n",
    "\n",
    "    axs[i].set_title(titles[i], fontsize=25)\n",
    "    \n",
    "    axs[i].set_xlabel(labels[i], fontsize=16)\n",
    "    axs[i].set_ylabel(\"Density\", fontsize=16)\n",
    "    axs[i].tick_params(axis='both', labelsize=14)    \n",
    "    axs[i].legend(fontsize=16)\n",
    "plt.show()\n",
    "\n",
    "_, axs = plt.subplots(ncols=2, figsize=(20, 7))\n",
    "for i, model in enumerate(models[2:]):\n",
    "    consistent_data = predictions[(predictions[\"c\"] == 1) & (predictions[\"ax_\"] == model)][\"score\"]\n",
    "    random_data = predictions[(predictions[\"c\"] == 0) & (predictions[\"ax_\"] == model)][\"score\"]\n",
    "\n",
    "    sns.histplot(consistent_data, kde=True, color=\"green\", label=\"Consistent cv\", ax=axs[i])\n",
    "    sns.histplot(random_data, kde=True, color=\"red\", label=\"Random cv\", ax=axs[i])\n",
    "\n",
    "    axs[i].set_title(titles[2+i], fontsize=25)\n",
    "\n",
    "    axs[i].set_xlabel(labels[2+i], fontsize=16)\n",
    "    axs[i].set_ylabel(\"Density\", fontsize=16)\n",
    "    axs[i].tick_params(axis='both', labelsize=14)\n",
    "    axs[i].legend(fontsize=16)\n",
    "plt.show()"
   ],
   "metadata": {
    "collapsed": false
   },
   "id": "b76aea300bce195d"
  }
 ],
 "metadata": {
  "kernelspec": {
   "display_name": "Python 3 (ipykernel)",
   "language": "python",
   "name": "python3"
  },
  "language_info": {
   "codemirror_mode": {
    "name": "ipython",
    "version": 3
   },
   "file_extension": ".py",
   "mimetype": "text/x-python",
   "name": "python",
   "nbconvert_exporter": "python",
   "pygments_lexer": "ipython3",
   "version": "3.11.5"
  }
 },
 "nbformat": 4,
 "nbformat_minor": 5
}
