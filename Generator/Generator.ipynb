{
 "cells": [
  {
   "cell_type": "code",
   "execution_count": 67,
   "outputs": [],
   "source": [
    "from Generator.parameters import *\n",
    "from Generator.JobGenerator import JobGenerator\n",
    "%reload_ext autoreload\n",
    "%autoreload 2\n"
   ],
   "metadata": {
    "collapsed": false,
    "ExecuteTime": {
     "end_time": "2023-11-02T10:37:41.642493500Z",
     "start_time": "2023-11-02T10:37:37.036135700Z"
    }
   },
   "id": "6b6c22f15096c2ef"
  },
  {
   "cell_type": "code",
   "execution_count": 68,
   "outputs": [],
   "source": [
    "gen = JobGenerator(**file_path)\n",
    "\n",
    "# curricula = gen.get_curricula(**curriculum_par)\n",
    "# offers = gen.get_offers(**jobOffer_par)"
   ],
   "metadata": {
    "collapsed": false,
    "ExecuteTime": {
     "end_time": "2023-11-02T10:37:44.303415100Z",
     "start_time": "2023-11-02T10:37:41.645481800Z"
    }
   },
   "id": "f5e20e7e763a1122"
  },
  {
   "cell_type": "code",
   "execution_count": 69,
   "outputs": [
    {
     "name": "stderr",
     "output_type": "stream",
     "text": [
      "100%|██████████| 2/2 [00:00<00:00, 222.59it/s]\n"
     ]
    }
   ],
   "source": [
    "job_offers = gen.get_offers(size=2) "
   ],
   "metadata": {
    "collapsed": false,
    "ExecuteTime": {
     "end_time": "2023-11-02T10:37:45.140503500Z",
     "start_time": "2023-11-02T10:37:44.305416100Z"
    }
   },
   "id": "4b7f7186edabd244"
  },
  {
   "cell_type": "code",
   "execution_count": 70,
   "outputs": [
    {
     "data": {
      "text/plain": "     qId  kId  Education  Age                 City   JobRange  \\\n0      0    0        PhD   40               Varese  77.718080   \n1      0    1        PhD   38         Bastia Umbra  66.371321   \n2      0    2        PhD   30  Sant'Elpidio a Mare  70.761645   \n3      0    3        PhD   25               Taggia  91.046120   \n4      0    4        PhD   32    Morciano di Leuca  83.308613   \n..   ...  ...        ...  ...                  ...        ...   \n124    1  124  Master D.   54               Milano  42.419182   \n125    1  125        PhD   36               Milano  91.804629   \n126    1  126  Master D.   31       Rivignano Teor  70.317050   \n127    1  127        PhD   35              Bolzano  97.230212   \n128    1  128        PhD   35              Catania  33.989517   \n\n                                 Skills0  \\\n0                observe confidentiality   \n1                observe confidentiality   \n2                observe confidentiality   \n3                observe confidentiality   \n4                observe confidentiality   \n..                                   ...   \n124  work in textile manufacturing teams   \n125  work in textile manufacturing teams   \n126  work in textile manufacturing teams   \n127  work in textile manufacturing teams   \n128  work in textile manufacturing teams   \n\n                                               Skills1  \\\n0                                        interpret law   \n1                                        interpret law   \n2                                        interpret law   \n3                                        interpret law   \n4                                        interpret law   \n..                                                 ...   \n124  manage quality of leather throughout the produ...   \n125  manage quality of leather throughout the produ...   \n126  manage quality of leather throughout the produ...   \n127  manage quality of leather throughout the produ...   \n128  manage quality of leather throughout the produ...   \n\n                                   Skills2                       Skills3  ...  \\\n0                     hear legal arguments             legal terminology  ...   \n1                     hear legal arguments             legal terminology  ...   \n2                     hear legal arguments             legal terminology  ...   \n3                     hear legal arguments             legal terminology  ...   \n4                     hear legal arguments             legal terminology  ...   \n..                                     ...                           ...  ...   \n124  leather goods manufacturing processes  execute working instructions  ...   \n125  leather goods manufacturing processes  execute working instructions  ...   \n126  leather goods manufacturing processes  execute working instructions  ...   \n127  leather goods manufacturing processes  execute working instructions  ...   \n128  leather goods manufacturing processes  execute working instructions  ...   \n\n                                       Skills5  \\\n0                     supervise court hearings   \n1                     supervise court hearings   \n2                     supervise court hearings   \n3                     supervise court hearings   \n4                     supervise court hearings   \n..                                         ...   \n124         health and safety in the workplace   \n125                                          -   \n126         health and safety in the workplace   \n127                                          -   \n128  manage environmental impact of operations   \n\n                                Skills6                     Skills7 Language0  \\\n0                     legal terminology  write work-related reports   Spanish   \n1                                     -      authenticate documents   Spanish   \n2                      court procedures     observe confidentiality   Spanish   \n3                 guide jury activities                           -   Spanish   \n4                                     -                           -   Spanish   \n..                                  ...                         ...       ...   \n124        create solutions to problems                 lead a team    French   \n125                                   -                           -    French   \n126                     train employees                           -    French   \n127                                   -                 lead a team    French   \n128  health and safety in the workplace                           -    French   \n\n    Language1 Language2 Language_level0 Language_level1 Language_level2  \\\n0     Italian         -              B1              C2               -   \n1     Italian         -              B1              C2               -   \n2     Italian         -              B1              C2               -   \n3     Italian   English              B1              C2              A2   \n4     Italian  Albanian              B1              C2              A1   \n..        ...       ...             ...             ...             ...   \n124   Chinese   Italian              B1              A1              C2   \n125   Chinese         -              B1              A1               -   \n126   Chinese         -              B1              A1               -   \n127   Chinese         -              B1              A1               -   \n128   Chinese   Italian              B1              A1              C2   \n\n    Experience  \n0            6  \n1            6  \n2            6  \n3            5  \n4            4  \n..         ...  \n124          1  \n125          3  \n126          3  \n127          4  \n128          2  \n\n[129 rows x 21 columns]",
      "text/html": "<div>\n<style scoped>\n    .dataframe tbody tr th:only-of-type {\n        vertical-align: middle;\n    }\n\n    .dataframe tbody tr th {\n        vertical-align: top;\n    }\n\n    .dataframe thead th {\n        text-align: right;\n    }\n</style>\n<table border=\"1\" class=\"dataframe\">\n  <thead>\n    <tr style=\"text-align: right;\">\n      <th></th>\n      <th>qId</th>\n      <th>kId</th>\n      <th>Education</th>\n      <th>Age</th>\n      <th>City</th>\n      <th>JobRange</th>\n      <th>Skills0</th>\n      <th>Skills1</th>\n      <th>Skills2</th>\n      <th>Skills3</th>\n      <th>...</th>\n      <th>Skills5</th>\n      <th>Skills6</th>\n      <th>Skills7</th>\n      <th>Language0</th>\n      <th>Language1</th>\n      <th>Language2</th>\n      <th>Language_level0</th>\n      <th>Language_level1</th>\n      <th>Language_level2</th>\n      <th>Experience</th>\n    </tr>\n  </thead>\n  <tbody>\n    <tr>\n      <th>0</th>\n      <td>0</td>\n      <td>0</td>\n      <td>PhD</td>\n      <td>40</td>\n      <td>Varese</td>\n      <td>77.718080</td>\n      <td>observe confidentiality</td>\n      <td>interpret law</td>\n      <td>hear legal arguments</td>\n      <td>legal terminology</td>\n      <td>...</td>\n      <td>supervise court hearings</td>\n      <td>legal terminology</td>\n      <td>write work-related reports</td>\n      <td>Spanish</td>\n      <td>Italian</td>\n      <td>-</td>\n      <td>B1</td>\n      <td>C2</td>\n      <td>-</td>\n      <td>6</td>\n    </tr>\n    <tr>\n      <th>1</th>\n      <td>0</td>\n      <td>1</td>\n      <td>PhD</td>\n      <td>38</td>\n      <td>Bastia Umbra</td>\n      <td>66.371321</td>\n      <td>observe confidentiality</td>\n      <td>interpret law</td>\n      <td>hear legal arguments</td>\n      <td>legal terminology</td>\n      <td>...</td>\n      <td>supervise court hearings</td>\n      <td>-</td>\n      <td>authenticate documents</td>\n      <td>Spanish</td>\n      <td>Italian</td>\n      <td>-</td>\n      <td>B1</td>\n      <td>C2</td>\n      <td>-</td>\n      <td>6</td>\n    </tr>\n    <tr>\n      <th>2</th>\n      <td>0</td>\n      <td>2</td>\n      <td>PhD</td>\n      <td>30</td>\n      <td>Sant'Elpidio a Mare</td>\n      <td>70.761645</td>\n      <td>observe confidentiality</td>\n      <td>interpret law</td>\n      <td>hear legal arguments</td>\n      <td>legal terminology</td>\n      <td>...</td>\n      <td>supervise court hearings</td>\n      <td>court procedures</td>\n      <td>observe confidentiality</td>\n      <td>Spanish</td>\n      <td>Italian</td>\n      <td>-</td>\n      <td>B1</td>\n      <td>C2</td>\n      <td>-</td>\n      <td>6</td>\n    </tr>\n    <tr>\n      <th>3</th>\n      <td>0</td>\n      <td>3</td>\n      <td>PhD</td>\n      <td>25</td>\n      <td>Taggia</td>\n      <td>91.046120</td>\n      <td>observe confidentiality</td>\n      <td>interpret law</td>\n      <td>hear legal arguments</td>\n      <td>legal terminology</td>\n      <td>...</td>\n      <td>supervise court hearings</td>\n      <td>guide jury activities</td>\n      <td>-</td>\n      <td>Spanish</td>\n      <td>Italian</td>\n      <td>English</td>\n      <td>B1</td>\n      <td>C2</td>\n      <td>A2</td>\n      <td>5</td>\n    </tr>\n    <tr>\n      <th>4</th>\n      <td>0</td>\n      <td>4</td>\n      <td>PhD</td>\n      <td>32</td>\n      <td>Morciano di Leuca</td>\n      <td>83.308613</td>\n      <td>observe confidentiality</td>\n      <td>interpret law</td>\n      <td>hear legal arguments</td>\n      <td>legal terminology</td>\n      <td>...</td>\n      <td>supervise court hearings</td>\n      <td>-</td>\n      <td>-</td>\n      <td>Spanish</td>\n      <td>Italian</td>\n      <td>Albanian</td>\n      <td>B1</td>\n      <td>C2</td>\n      <td>A1</td>\n      <td>4</td>\n    </tr>\n    <tr>\n      <th>...</th>\n      <td>...</td>\n      <td>...</td>\n      <td>...</td>\n      <td>...</td>\n      <td>...</td>\n      <td>...</td>\n      <td>...</td>\n      <td>...</td>\n      <td>...</td>\n      <td>...</td>\n      <td>...</td>\n      <td>...</td>\n      <td>...</td>\n      <td>...</td>\n      <td>...</td>\n      <td>...</td>\n      <td>...</td>\n      <td>...</td>\n      <td>...</td>\n      <td>...</td>\n      <td>...</td>\n    </tr>\n    <tr>\n      <th>124</th>\n      <td>1</td>\n      <td>124</td>\n      <td>Master D.</td>\n      <td>54</td>\n      <td>Milano</td>\n      <td>42.419182</td>\n      <td>work in textile manufacturing teams</td>\n      <td>manage quality of leather throughout the produ...</td>\n      <td>leather goods manufacturing processes</td>\n      <td>execute working instructions</td>\n      <td>...</td>\n      <td>health and safety in the workplace</td>\n      <td>create solutions to problems</td>\n      <td>lead a team</td>\n      <td>French</td>\n      <td>Chinese</td>\n      <td>Italian</td>\n      <td>B1</td>\n      <td>A1</td>\n      <td>C2</td>\n      <td>1</td>\n    </tr>\n    <tr>\n      <th>125</th>\n      <td>1</td>\n      <td>125</td>\n      <td>PhD</td>\n      <td>36</td>\n      <td>Milano</td>\n      <td>91.804629</td>\n      <td>work in textile manufacturing teams</td>\n      <td>manage quality of leather throughout the produ...</td>\n      <td>leather goods manufacturing processes</td>\n      <td>execute working instructions</td>\n      <td>...</td>\n      <td>-</td>\n      <td>-</td>\n      <td>-</td>\n      <td>French</td>\n      <td>Chinese</td>\n      <td>-</td>\n      <td>B1</td>\n      <td>A1</td>\n      <td>-</td>\n      <td>3</td>\n    </tr>\n    <tr>\n      <th>126</th>\n      <td>1</td>\n      <td>126</td>\n      <td>Master D.</td>\n      <td>31</td>\n      <td>Rivignano Teor</td>\n      <td>70.317050</td>\n      <td>work in textile manufacturing teams</td>\n      <td>manage quality of leather throughout the produ...</td>\n      <td>leather goods manufacturing processes</td>\n      <td>execute working instructions</td>\n      <td>...</td>\n      <td>health and safety in the workplace</td>\n      <td>train employees</td>\n      <td>-</td>\n      <td>French</td>\n      <td>Chinese</td>\n      <td>-</td>\n      <td>B1</td>\n      <td>A1</td>\n      <td>-</td>\n      <td>3</td>\n    </tr>\n    <tr>\n      <th>127</th>\n      <td>1</td>\n      <td>127</td>\n      <td>PhD</td>\n      <td>35</td>\n      <td>Bolzano</td>\n      <td>97.230212</td>\n      <td>work in textile manufacturing teams</td>\n      <td>manage quality of leather throughout the produ...</td>\n      <td>leather goods manufacturing processes</td>\n      <td>execute working instructions</td>\n      <td>...</td>\n      <td>-</td>\n      <td>-</td>\n      <td>lead a team</td>\n      <td>French</td>\n      <td>Chinese</td>\n      <td>-</td>\n      <td>B1</td>\n      <td>A1</td>\n      <td>-</td>\n      <td>4</td>\n    </tr>\n    <tr>\n      <th>128</th>\n      <td>1</td>\n      <td>128</td>\n      <td>PhD</td>\n      <td>35</td>\n      <td>Catania</td>\n      <td>33.989517</td>\n      <td>work in textile manufacturing teams</td>\n      <td>manage quality of leather throughout the produ...</td>\n      <td>leather goods manufacturing processes</td>\n      <td>execute working instructions</td>\n      <td>...</td>\n      <td>manage environmental impact of operations</td>\n      <td>health and safety in the workplace</td>\n      <td>-</td>\n      <td>French</td>\n      <td>Chinese</td>\n      <td>Italian</td>\n      <td>B1</td>\n      <td>A1</td>\n      <td>C2</td>\n      <td>2</td>\n    </tr>\n  </tbody>\n</table>\n<p>129 rows × 21 columns</p>\n</div>"
     },
     "execution_count": 70,
     "metadata": {},
     "output_type": "execute_result"
    }
   ],
   "source": [
    "gen.generate_cvs(job_offers)"
   ],
   "metadata": {
    "collapsed": false,
    "ExecuteTime": {
     "end_time": "2023-11-02T10:37:46.236165200Z",
     "start_time": "2023-11-02T10:37:45.142500100Z"
    }
   },
   "id": "2f6cf599f714658d"
  }
 ],
 "metadata": {
  "kernelspec": {
   "display_name": "Python 3",
   "language": "python",
   "name": "python3"
  },
  "language_info": {
   "codemirror_mode": {
    "name": "ipython",
    "version": 2
   },
   "file_extension": ".py",
   "mimetype": "text/x-python",
   "name": "python",
   "nbconvert_exporter": "python",
   "pygments_lexer": "ipython2",
   "version": "2.7.6"
  }
 },
 "nbformat": 4,
 "nbformat_minor": 5
}
