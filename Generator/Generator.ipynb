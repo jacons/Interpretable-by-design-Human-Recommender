{
 "cells": [
  {
   "cell_type": "code",
   "execution_count": 14,
   "outputs": [],
   "source": [
    "from Generator.parameters import *\n",
    "from Generator.JobGenerator import JobGenerator\n",
    "from Generator.MatchingScore import MatchingScore\n",
    "\n",
    "%reload_ext autoreload\n",
    "%autoreload 2\n"
   ],
   "metadata": {
    "collapsed": false,
    "ExecuteTime": {
     "end_time": "2023-11-10T16:40:24.428978900Z",
     "start_time": "2023-11-10T16:40:24.298334500Z"
    }
   },
   "id": "6b6c22f15096c2ef"
  },
  {
   "cell_type": "code",
   "execution_count": 16,
   "outputs": [],
   "source": [
    "gen = JobGenerator(file_paths)"
   ],
   "metadata": {
    "collapsed": false,
    "ExecuteTime": {
     "end_time": "2023-11-10T16:54:26.871163300Z",
     "start_time": "2023-11-10T16:53:58.233270700Z"
    }
   },
   "id": "f5e20e7e763a1122"
  },
  {
   "cell_type": "code",
   "execution_count": 17,
   "outputs": [
    {
     "name": "stderr",
     "output_type": "stream",
     "text": [
      "100%|██████████| 10/10 [00:00<00:00, 92.83it/s]\n",
      "100%|██████████| 10/10 [00:00<00:00, 14.85it/s, qId=9]\n"
     ]
    }
   ],
   "source": [
    "job_offers = gen.get_offers(**jobOffer_par)\n",
    "curricula = gen.generate_cvs(job_offers,**curriculum_par)\n",
    "# gen.upgrade_with_synonymous(curricula,p=0)"
   ],
   "metadata": {
    "collapsed": false,
    "ExecuteTime": {
     "end_time": "2023-11-10T16:54:27.850821300Z",
     "start_time": "2023-11-10T16:54:26.873889300Z"
    }
   },
   "id": "4b7f7186edabd244"
  },
  {
   "cell_type": "code",
   "execution_count": 18,
   "outputs": [
    {
     "data": {
      "text/plain": "                                                   Job Edu_essential  \\\nqId                                                                    \n0                             child care social worker        Degree   \n1                             nailing machine operator        Degree   \n2                                     nuclear engineer        Degree   \n3    rental service representative in agricultural ...        Degree   \n4         industrial mobile devices software developer        Degree   \n5                    construction equipment technician        Degree   \n6                               financial risk manager        Degree   \n7                                                tutor        Degree   \n8                       outdoor activities coordinator   Bachelor-D.   \n9                             cultural archive manager        Degree   \n\n    Edu_optional  AgeMin  AgeMax                      City  \\\nqId                                                          \n0    Bachelor-D.      23      33                   Catania   \n1    Bachelor-D.      21      34                    Milano   \n2    Bachelor-D.      20      26                 Episcopia   \n3              -      21      31                    Milano   \n4              -      19      38                    Taggia   \n5    Bachelor-D.      19      34             Corno Giovine   \n6              -      20      36                      Sona   \n7              -      19      30  Chiusano di San Domenico   \n8      Master-D.      26      32        Trescore Balneario   \n9    Bachelor-D.      21      33         Locate di Triulzi   \n\n                                 Competence_essential0  \\\nqId                                                      \n0                         develop professional network   \n1                           remove processed workpiece   \n2                      calculate exposure to radiation   \n3                           review completed contracts   \n4    utilise computer-aided software engineering tools   \n5                                     perform test run   \n6                              create a financial plan   \n7             adapt teaching to student's capabilities   \n8              give feedback on changing circumstances   \n9                  create collection conservation plan   \n\n                                 Competence_essential1  \\\nqId                                                      \n0    follow health and safety precautions in social...   \n1                                       supply machine   \n2                       calibrate precision instrument   \n3              perform multiple tasks at the same time   \n4                                       debug software   \n5                            operate welding equipment   \n6                          advise on financial matters   \n7                              identify clients' needs   \n8                    communicate in an outdoor setting   \n9           implement risk management for works of art   \n\n                   Competence_essential2  \\\nqId                                        \n0             review social service plan   \n1                                      -   \n2    monitor nuclear power plant systems   \n3             communicate with customers   \n4               create flowchart diagram   \n5                                      -   \n6                                      -   \n7                                      -   \n8            assess risk in the outdoors   \n9                         manage budgets   \n\n                       Competence_essential3  ...  \\\nqId                                           ...   \n0                                          -  ...   \n1                                          -  ...   \n2    develop radiation protection strategies  ...   \n3                               process data  ...   \n4                  interpret technical texts  ...   \n5                                          -  ...   \n6                                          -  ...   \n7                                          -  ...   \n8                                          -  ...   \n9                monitor artistic activities  ...   \n\n                     Knowledge_optional1    Knowledge_optional2  \\\nqId                                                               \n0                                      -                      -   \n1                                      -                      -   \n2    electrical power safety regulations  automation technology   \n3                                      -                      -   \n4                                      -                      -   \n5                             pneumatics                      -   \n6        accounting department processes                      -   \n7                        adult education                      -   \n8                             ecotourism      augmented reality   \n9                                      -                      -   \n\n    Language_essential0 Language_essential1 Language_optional0  \\\nqId                                                              \n0               English                   -                  -   \n1              Albanian             Italian            English   \n2                French                   -            Italian   \n3               Spanish             Italian                  -   \n4               Italian              Arabic                  -   \n5               Italian              French            Spanish   \n6               Italian                   -            English   \n7               Italian                   -             Arabic   \n8               English                   -             German   \n9                German                   -            Spanish   \n\n    Language_level0 Language_level1 Language_level2 Experience_essential  \\\nqId                                                                        \n0                A2               -               -                    2   \n1                B1              C2              C2                    3   \n2                A2               -              C2                    -   \n3                B1              C2               -                    -   \n4                C2              A1               -                    -   \n5                C2              A1              A2                    2   \n6                C2               -              A1                    -   \n7                C2               -              C2                    1   \n8                B1               -              A1                    3   \n9                A1               -              B1                    4   \n\n    Experience_optional  \nqId                      \n0                 False  \n1                 False  \n2                 False  \n3                 False  \n4                  True  \n5                  True  \n6                  True  \n7                  True  \n8                  True  \n9                 False  \n\n[10 rows x 28 columns]",
      "text/html": "<div>\n<style scoped>\n    .dataframe tbody tr th:only-of-type {\n        vertical-align: middle;\n    }\n\n    .dataframe tbody tr th {\n        vertical-align: top;\n    }\n\n    .dataframe thead th {\n        text-align: right;\n    }\n</style>\n<table border=\"1\" class=\"dataframe\">\n  <thead>\n    <tr style=\"text-align: right;\">\n      <th></th>\n      <th>Job</th>\n      <th>Edu_essential</th>\n      <th>Edu_optional</th>\n      <th>AgeMin</th>\n      <th>AgeMax</th>\n      <th>City</th>\n      <th>Competence_essential0</th>\n      <th>Competence_essential1</th>\n      <th>Competence_essential2</th>\n      <th>Competence_essential3</th>\n      <th>...</th>\n      <th>Knowledge_optional1</th>\n      <th>Knowledge_optional2</th>\n      <th>Language_essential0</th>\n      <th>Language_essential1</th>\n      <th>Language_optional0</th>\n      <th>Language_level0</th>\n      <th>Language_level1</th>\n      <th>Language_level2</th>\n      <th>Experience_essential</th>\n      <th>Experience_optional</th>\n    </tr>\n    <tr>\n      <th>qId</th>\n      <th></th>\n      <th></th>\n      <th></th>\n      <th></th>\n      <th></th>\n      <th></th>\n      <th></th>\n      <th></th>\n      <th></th>\n      <th></th>\n      <th></th>\n      <th></th>\n      <th></th>\n      <th></th>\n      <th></th>\n      <th></th>\n      <th></th>\n      <th></th>\n      <th></th>\n      <th></th>\n      <th></th>\n    </tr>\n  </thead>\n  <tbody>\n    <tr>\n      <th>0</th>\n      <td>child care social worker</td>\n      <td>Degree</td>\n      <td>Bachelor-D.</td>\n      <td>23</td>\n      <td>33</td>\n      <td>Catania</td>\n      <td>develop professional network</td>\n      <td>follow health and safety precautions in social...</td>\n      <td>review social service plan</td>\n      <td>-</td>\n      <td>...</td>\n      <td>-</td>\n      <td>-</td>\n      <td>English</td>\n      <td>-</td>\n      <td>-</td>\n      <td>A2</td>\n      <td>-</td>\n      <td>-</td>\n      <td>2</td>\n      <td>False</td>\n    </tr>\n    <tr>\n      <th>1</th>\n      <td>nailing machine operator</td>\n      <td>Degree</td>\n      <td>Bachelor-D.</td>\n      <td>21</td>\n      <td>34</td>\n      <td>Milano</td>\n      <td>remove processed workpiece</td>\n      <td>supply machine</td>\n      <td>-</td>\n      <td>-</td>\n      <td>...</td>\n      <td>-</td>\n      <td>-</td>\n      <td>Albanian</td>\n      <td>Italian</td>\n      <td>English</td>\n      <td>B1</td>\n      <td>C2</td>\n      <td>C2</td>\n      <td>3</td>\n      <td>False</td>\n    </tr>\n    <tr>\n      <th>2</th>\n      <td>nuclear engineer</td>\n      <td>Degree</td>\n      <td>Bachelor-D.</td>\n      <td>20</td>\n      <td>26</td>\n      <td>Episcopia</td>\n      <td>calculate exposure to radiation</td>\n      <td>calibrate precision instrument</td>\n      <td>monitor nuclear power plant systems</td>\n      <td>develop radiation protection strategies</td>\n      <td>...</td>\n      <td>electrical power safety regulations</td>\n      <td>automation technology</td>\n      <td>French</td>\n      <td>-</td>\n      <td>Italian</td>\n      <td>A2</td>\n      <td>-</td>\n      <td>C2</td>\n      <td>-</td>\n      <td>False</td>\n    </tr>\n    <tr>\n      <th>3</th>\n      <td>rental service representative in agricultural ...</td>\n      <td>Degree</td>\n      <td>-</td>\n      <td>21</td>\n      <td>31</td>\n      <td>Milano</td>\n      <td>review completed contracts</td>\n      <td>perform multiple tasks at the same time</td>\n      <td>communicate with customers</td>\n      <td>process data</td>\n      <td>...</td>\n      <td>-</td>\n      <td>-</td>\n      <td>Spanish</td>\n      <td>Italian</td>\n      <td>-</td>\n      <td>B1</td>\n      <td>C2</td>\n      <td>-</td>\n      <td>-</td>\n      <td>False</td>\n    </tr>\n    <tr>\n      <th>4</th>\n      <td>industrial mobile devices software developer</td>\n      <td>Degree</td>\n      <td>-</td>\n      <td>19</td>\n      <td>38</td>\n      <td>Taggia</td>\n      <td>utilise computer-aided software engineering tools</td>\n      <td>debug software</td>\n      <td>create flowchart diagram</td>\n      <td>interpret technical texts</td>\n      <td>...</td>\n      <td>-</td>\n      <td>-</td>\n      <td>Italian</td>\n      <td>Arabic</td>\n      <td>-</td>\n      <td>C2</td>\n      <td>A1</td>\n      <td>-</td>\n      <td>-</td>\n      <td>True</td>\n    </tr>\n    <tr>\n      <th>5</th>\n      <td>construction equipment technician</td>\n      <td>Degree</td>\n      <td>Bachelor-D.</td>\n      <td>19</td>\n      <td>34</td>\n      <td>Corno Giovine</td>\n      <td>perform test run</td>\n      <td>operate welding equipment</td>\n      <td>-</td>\n      <td>-</td>\n      <td>...</td>\n      <td>pneumatics</td>\n      <td>-</td>\n      <td>Italian</td>\n      <td>French</td>\n      <td>Spanish</td>\n      <td>C2</td>\n      <td>A1</td>\n      <td>A2</td>\n      <td>2</td>\n      <td>True</td>\n    </tr>\n    <tr>\n      <th>6</th>\n      <td>financial risk manager</td>\n      <td>Degree</td>\n      <td>-</td>\n      <td>20</td>\n      <td>36</td>\n      <td>Sona</td>\n      <td>create a financial plan</td>\n      <td>advise on financial matters</td>\n      <td>-</td>\n      <td>-</td>\n      <td>...</td>\n      <td>accounting department processes</td>\n      <td>-</td>\n      <td>Italian</td>\n      <td>-</td>\n      <td>English</td>\n      <td>C2</td>\n      <td>-</td>\n      <td>A1</td>\n      <td>-</td>\n      <td>True</td>\n    </tr>\n    <tr>\n      <th>7</th>\n      <td>tutor</td>\n      <td>Degree</td>\n      <td>-</td>\n      <td>19</td>\n      <td>30</td>\n      <td>Chiusano di San Domenico</td>\n      <td>adapt teaching to student's capabilities</td>\n      <td>identify clients' needs</td>\n      <td>-</td>\n      <td>-</td>\n      <td>...</td>\n      <td>adult education</td>\n      <td>-</td>\n      <td>Italian</td>\n      <td>-</td>\n      <td>Arabic</td>\n      <td>C2</td>\n      <td>-</td>\n      <td>C2</td>\n      <td>1</td>\n      <td>True</td>\n    </tr>\n    <tr>\n      <th>8</th>\n      <td>outdoor activities coordinator</td>\n      <td>Bachelor-D.</td>\n      <td>Master-D.</td>\n      <td>26</td>\n      <td>32</td>\n      <td>Trescore Balneario</td>\n      <td>give feedback on changing circumstances</td>\n      <td>communicate in an outdoor setting</td>\n      <td>assess risk in the outdoors</td>\n      <td>-</td>\n      <td>...</td>\n      <td>ecotourism</td>\n      <td>augmented reality</td>\n      <td>English</td>\n      <td>-</td>\n      <td>German</td>\n      <td>B1</td>\n      <td>-</td>\n      <td>A1</td>\n      <td>3</td>\n      <td>True</td>\n    </tr>\n    <tr>\n      <th>9</th>\n      <td>cultural archive manager</td>\n      <td>Degree</td>\n      <td>Bachelor-D.</td>\n      <td>21</td>\n      <td>33</td>\n      <td>Locate di Triulzi</td>\n      <td>create collection conservation plan</td>\n      <td>implement risk management for works of art</td>\n      <td>manage budgets</td>\n      <td>monitor artistic activities</td>\n      <td>...</td>\n      <td>-</td>\n      <td>-</td>\n      <td>German</td>\n      <td>-</td>\n      <td>Spanish</td>\n      <td>A1</td>\n      <td>-</td>\n      <td>B1</td>\n      <td>4</td>\n      <td>False</td>\n    </tr>\n  </tbody>\n</table>\n<p>10 rows × 28 columns</p>\n</div>"
     },
     "execution_count": 18,
     "metadata": {},
     "output_type": "execute_result"
    }
   ],
   "source": [
    "job_offers"
   ],
   "metadata": {
    "collapsed": false,
    "ExecuteTime": {
     "end_time": "2023-11-10T16:54:27.965094200Z",
     "start_time": "2023-11-10T16:54:27.854844900Z"
    }
   },
   "id": "2209bea91c2b9f99"
  },
  {
   "cell_type": "code",
   "execution_count": 19,
   "outputs": [
    {
     "data": {
      "text/plain": "    qId  kId    Education  Age              City  JobRange  \\\n0     0    0    Master-D.   30           Catania        40   \n1     0    1       Degree   38            Milano        80   \n2     0    2       Degree   31          Terlizzi        80   \n3     0    3       Degree   32           Mantova        90   \n4     0    4    Master-D.   27  Ceglie Messapica        90   \n..  ...  ...          ...  ...               ...       ...   \n60    7   60       Degree   24      Bastia Umbra        50   \n61    7   61       Degree   20            Nerola        30   \n62    8   62  Bachelor-D.   32       San Teodoro        80   \n63    8   63    Master-D.   30            Milano        30   \n64    9   64    Master-D.   28         Terracina        30   \n\n                                       Competences0  \\\n0                support the positiveness of youths   \n1                        review social service plan   \n2       maintain records of work with service users   \n3                        review social service plan   \n4                        review social service plan   \n..                                              ...   \n60                          identify clients' needs   \n61                         provide lesson materials   \n62  promote virtual reality travelling experiences    \n63                     screen live fish deformities   \n64                                   manage budgets   \n\n                                         Competences1  \\\n0                        support children's wellbeing   \n1                                   promote inclusion   \n2                        develop professional network   \n3                          provide social counselling   \n4                            plan learning curriculum   \n..                                                ...   \n60                      assist children with homework   \n61  maintain safe working conditions in performing...   \n62            give feedback on changing circumstances   \n63               preserve fish samples  for diagnosis   \n64                                     manage archive   \n\n                                     Competences2  \\\n0   meet standards of practice in social services   \n1                         prevent social problems   \n2                          communicate with youth   \n3                            manage social crisis   \n4   meet standards of practice in social services   \n..                                            ...   \n60                                assess students   \n61       bring out performers’ artistic potential   \n62                    assess risk in the outdoors   \n63        maintain internal communication systems   \n64                           evaluate art quality   \n\n                                         Competences3  ...  \\\n0   follow health and safety precautions in social...  ...   \n1   follow health and safety precautions in social...  ...   \n2   build helping relationship with social service...  ...   \n3   follow health and safety precautions in social...  ...   \n4   follow health and safety precautions in social...  ...   \n..                                                ...  ...   \n60           adapt teaching to student's capabilities  ...   \n61                  assist students in their learning  ...   \n62                            animate in the outdoors  ...   \n63                  communicate in an outdoor setting  ...   \n64              compile detailed collection inventory  ...   \n\n                              Knowledge4                  Knowledge5  \\\n0   adolescent psychological development                           -   \n1                   personal development              employment law   \n2   adolescent psychological development                           -   \n3                                      -                           -   \n4                           consultation  client-centred counselling   \n..                                   ...                         ...   \n60                                     -                           -   \n61                                     -                           -   \n62                                     -                           -   \n63                                     -                           -   \n64                                     -                           -   \n\n          Knowledge6 Language0 Language1 Language2 Language_level0  \\\n0                  -   English         -         -              A2   \n1   company policies   English   Italian   Spanish              A2   \n2                  -   English         -         -              A2   \n3                  -   English   Chinese    French              A2   \n4   child protection   English    French    German              A2   \n..               ...       ...       ...       ...             ...   \n60                 -   Italian   Russian         -              C2   \n61                 -   Italian   Spanish    French              C2   \n62                 -   English         -         -              B1   \n63                 -   English   Italian         -              B1   \n64                 -    German   Russian         -              A1   \n\n   Language_level1 Language_level2 Experience  \n0                -               -          2  \n1               C2              B1          4  \n2                -               -          3  \n3               A1              B1          3  \n4               B1              A1          2  \n..             ...             ...        ...  \n60              A1               -          2  \n61              B1              B1          1  \n62               -               -          3  \n63              C2               -          4  \n64              A1               -          4  \n\n[65 rows x 27 columns]",
      "text/html": "<div>\n<style scoped>\n    .dataframe tbody tr th:only-of-type {\n        vertical-align: middle;\n    }\n\n    .dataframe tbody tr th {\n        vertical-align: top;\n    }\n\n    .dataframe thead th {\n        text-align: right;\n    }\n</style>\n<table border=\"1\" class=\"dataframe\">\n  <thead>\n    <tr style=\"text-align: right;\">\n      <th></th>\n      <th>qId</th>\n      <th>kId</th>\n      <th>Education</th>\n      <th>Age</th>\n      <th>City</th>\n      <th>JobRange</th>\n      <th>Competences0</th>\n      <th>Competences1</th>\n      <th>Competences2</th>\n      <th>Competences3</th>\n      <th>...</th>\n      <th>Knowledge4</th>\n      <th>Knowledge5</th>\n      <th>Knowledge6</th>\n      <th>Language0</th>\n      <th>Language1</th>\n      <th>Language2</th>\n      <th>Language_level0</th>\n      <th>Language_level1</th>\n      <th>Language_level2</th>\n      <th>Experience</th>\n    </tr>\n  </thead>\n  <tbody>\n    <tr>\n      <th>0</th>\n      <td>0</td>\n      <td>0</td>\n      <td>Master-D.</td>\n      <td>30</td>\n      <td>Catania</td>\n      <td>40</td>\n      <td>support the positiveness of youths</td>\n      <td>support children's wellbeing</td>\n      <td>meet standards of practice in social services</td>\n      <td>follow health and safety precautions in social...</td>\n      <td>...</td>\n      <td>adolescent psychological development</td>\n      <td>-</td>\n      <td>-</td>\n      <td>English</td>\n      <td>-</td>\n      <td>-</td>\n      <td>A2</td>\n      <td>-</td>\n      <td>-</td>\n      <td>2</td>\n    </tr>\n    <tr>\n      <th>1</th>\n      <td>0</td>\n      <td>1</td>\n      <td>Degree</td>\n      <td>38</td>\n      <td>Milano</td>\n      <td>80</td>\n      <td>review social service plan</td>\n      <td>promote inclusion</td>\n      <td>prevent social problems</td>\n      <td>follow health and safety precautions in social...</td>\n      <td>...</td>\n      <td>personal development</td>\n      <td>employment law</td>\n      <td>company policies</td>\n      <td>English</td>\n      <td>Italian</td>\n      <td>Spanish</td>\n      <td>A2</td>\n      <td>C2</td>\n      <td>B1</td>\n      <td>4</td>\n    </tr>\n    <tr>\n      <th>2</th>\n      <td>0</td>\n      <td>2</td>\n      <td>Degree</td>\n      <td>31</td>\n      <td>Terlizzi</td>\n      <td>80</td>\n      <td>maintain records of work with service users</td>\n      <td>develop professional network</td>\n      <td>communicate with youth</td>\n      <td>build helping relationship with social service...</td>\n      <td>...</td>\n      <td>adolescent psychological development</td>\n      <td>-</td>\n      <td>-</td>\n      <td>English</td>\n      <td>-</td>\n      <td>-</td>\n      <td>A2</td>\n      <td>-</td>\n      <td>-</td>\n      <td>3</td>\n    </tr>\n    <tr>\n      <th>3</th>\n      <td>0</td>\n      <td>3</td>\n      <td>Degree</td>\n      <td>32</td>\n      <td>Mantova</td>\n      <td>90</td>\n      <td>review social service plan</td>\n      <td>provide social counselling</td>\n      <td>manage social crisis</td>\n      <td>follow health and safety precautions in social...</td>\n      <td>...</td>\n      <td>-</td>\n      <td>-</td>\n      <td>-</td>\n      <td>English</td>\n      <td>Chinese</td>\n      <td>French</td>\n      <td>A2</td>\n      <td>A1</td>\n      <td>B1</td>\n      <td>3</td>\n    </tr>\n    <tr>\n      <th>4</th>\n      <td>0</td>\n      <td>4</td>\n      <td>Master-D.</td>\n      <td>27</td>\n      <td>Ceglie Messapica</td>\n      <td>90</td>\n      <td>review social service plan</td>\n      <td>plan learning curriculum</td>\n      <td>meet standards of practice in social services</td>\n      <td>follow health and safety precautions in social...</td>\n      <td>...</td>\n      <td>consultation</td>\n      <td>client-centred counselling</td>\n      <td>child protection</td>\n      <td>English</td>\n      <td>French</td>\n      <td>German</td>\n      <td>A2</td>\n      <td>B1</td>\n      <td>A1</td>\n      <td>2</td>\n    </tr>\n    <tr>\n      <th>...</th>\n      <td>...</td>\n      <td>...</td>\n      <td>...</td>\n      <td>...</td>\n      <td>...</td>\n      <td>...</td>\n      <td>...</td>\n      <td>...</td>\n      <td>...</td>\n      <td>...</td>\n      <td>...</td>\n      <td>...</td>\n      <td>...</td>\n      <td>...</td>\n      <td>...</td>\n      <td>...</td>\n      <td>...</td>\n      <td>...</td>\n      <td>...</td>\n      <td>...</td>\n      <td>...</td>\n    </tr>\n    <tr>\n      <th>60</th>\n      <td>7</td>\n      <td>60</td>\n      <td>Degree</td>\n      <td>24</td>\n      <td>Bastia Umbra</td>\n      <td>50</td>\n      <td>identify clients' needs</td>\n      <td>assist children with homework</td>\n      <td>assess students</td>\n      <td>adapt teaching to student's capabilities</td>\n      <td>...</td>\n      <td>-</td>\n      <td>-</td>\n      <td>-</td>\n      <td>Italian</td>\n      <td>Russian</td>\n      <td>-</td>\n      <td>C2</td>\n      <td>A1</td>\n      <td>-</td>\n      <td>2</td>\n    </tr>\n    <tr>\n      <th>61</th>\n      <td>7</td>\n      <td>61</td>\n      <td>Degree</td>\n      <td>20</td>\n      <td>Nerola</td>\n      <td>30</td>\n      <td>provide lesson materials</td>\n      <td>maintain safe working conditions in performing...</td>\n      <td>bring out performers’ artistic potential</td>\n      <td>assist students in their learning</td>\n      <td>...</td>\n      <td>-</td>\n      <td>-</td>\n      <td>-</td>\n      <td>Italian</td>\n      <td>Spanish</td>\n      <td>French</td>\n      <td>C2</td>\n      <td>B1</td>\n      <td>B1</td>\n      <td>1</td>\n    </tr>\n    <tr>\n      <th>62</th>\n      <td>8</td>\n      <td>62</td>\n      <td>Bachelor-D.</td>\n      <td>32</td>\n      <td>San Teodoro</td>\n      <td>80</td>\n      <td>promote virtual reality travelling experiences</td>\n      <td>give feedback on changing circumstances</td>\n      <td>assess risk in the outdoors</td>\n      <td>animate in the outdoors</td>\n      <td>...</td>\n      <td>-</td>\n      <td>-</td>\n      <td>-</td>\n      <td>English</td>\n      <td>-</td>\n      <td>-</td>\n      <td>B1</td>\n      <td>-</td>\n      <td>-</td>\n      <td>3</td>\n    </tr>\n    <tr>\n      <th>63</th>\n      <td>8</td>\n      <td>63</td>\n      <td>Master-D.</td>\n      <td>30</td>\n      <td>Milano</td>\n      <td>30</td>\n      <td>screen live fish deformities</td>\n      <td>preserve fish samples  for diagnosis</td>\n      <td>maintain internal communication systems</td>\n      <td>communicate in an outdoor setting</td>\n      <td>...</td>\n      <td>-</td>\n      <td>-</td>\n      <td>-</td>\n      <td>English</td>\n      <td>Italian</td>\n      <td>-</td>\n      <td>B1</td>\n      <td>C2</td>\n      <td>-</td>\n      <td>4</td>\n    </tr>\n    <tr>\n      <th>64</th>\n      <td>9</td>\n      <td>64</td>\n      <td>Master-D.</td>\n      <td>28</td>\n      <td>Terracina</td>\n      <td>30</td>\n      <td>manage budgets</td>\n      <td>manage archive</td>\n      <td>evaluate art quality</td>\n      <td>compile detailed collection inventory</td>\n      <td>...</td>\n      <td>-</td>\n      <td>-</td>\n      <td>-</td>\n      <td>German</td>\n      <td>Russian</td>\n      <td>-</td>\n      <td>A1</td>\n      <td>A1</td>\n      <td>-</td>\n      <td>4</td>\n    </tr>\n  </tbody>\n</table>\n<p>65 rows × 27 columns</p>\n</div>"
     },
     "execution_count": 19,
     "metadata": {},
     "output_type": "execute_result"
    }
   ],
   "source": [
    "curricula"
   ],
   "metadata": {
    "collapsed": false,
    "ExecuteTime": {
     "end_time": "2023-11-10T16:54:28.168068400Z",
     "start_time": "2023-11-10T16:54:27.961082800Z"
    }
   },
   "id": "2f6cf599f714658d"
  },
  {
   "cell_type": "code",
   "execution_count": 30,
   "outputs": [
    {
     "data": {
      "text/plain": "Job                                               child care social worker\nEdu_essential                                                       Degree\nEdu_optional                                                   Bachelor-D.\nAgeMin                                                                  23\nAgeMax                                                                  33\nCity                                                               Catania\nCompetence_essential0                         develop professional network\nCompetence_essential1    follow health and safety precautions in social...\nCompetence_essential2                           review social service plan\nCompetence_essential3                                                    -\nCompetence_optional0                                                     -\nCompetence_optional1                                                     -\nCompetence_optional2                                                     -\nKnowledge_essential0                  adolescent psychological development\nKnowledge_essential1                                       social sciences\nKnowledge_essential2                                        social justice\nKnowledge_essential3               legal requirements in the social sector\nKnowledge_optional0                                                      -\nKnowledge_optional1                                                      -\nKnowledge_optional2                                                      -\nLanguage_essential0                                                English\nLanguage_essential1                                                      -\nLanguage_optional0                                                       -\nLanguage_level0                                                         A2\nLanguage_level1                                                          -\nLanguage_level2                                                          -\nExperience_essential                                                     2\nExperience_optional                                                  False\nName: 0, dtype: object"
     },
     "execution_count": 30,
     "metadata": {},
     "output_type": "execute_result"
    }
   ],
   "source": [
    "job_offers.iloc[0]"
   ],
   "metadata": {
    "collapsed": false,
    "ExecuteTime": {
     "end_time": "2023-11-10T17:02:41.627605600Z",
     "start_time": "2023-11-10T17:02:41.489812Z"
    }
   },
   "id": "22a80e29548e51f8"
  },
  {
   "cell_type": "code",
   "execution_count": 41,
   "outputs": [
    {
     "data": {
      "text/plain": "qId                                                                0\nkId                                                                2\nEducation                                                     Degree\nAge                                                               31\nCity                                                        Terlizzi\nJobRange                                                          80\nCompetences0             maintain records of work with service users\nCompetences1                            develop professional network\nCompetences2                                  communicate with youth\nCompetences3       build helping relationship with social service...\nCompetences4                           advise on conflict management\nCompetences5                               accept own accountability\nCompetences6                                                       -\nKnowledge0                                            social justice\nKnowledge1                                       restorative justice\nKnowledge2                   legal requirements in the social sector\nKnowledge3                                              criminal law\nKnowledge4                      adolescent psychological development\nKnowledge5                                                         -\nKnowledge6                                                         -\nLanguage0                                                    English\nLanguage1                                                          -\nLanguage2                                                          -\nLanguage_level0                                                   A2\nLanguage_level1                                                    -\nLanguage_level2                                                    -\nExperience                                                         3\nName: 2, dtype: object"
     },
     "execution_count": 41,
     "metadata": {},
     "output_type": "execute_result"
    }
   ],
   "source": [
    "curricula.iloc[2]"
   ],
   "metadata": {
    "collapsed": false,
    "ExecuteTime": {
     "end_time": "2023-11-10T17:22:16.931968300Z",
     "start_time": "2023-11-10T17:22:16.806875900Z"
    }
   },
   "id": "95cb5ba03ea2179"
  },
  {
   "cell_type": "code",
   "execution_count": 42,
   "outputs": [
    {
     "data": {
      "text/plain": "{'qId': 0,\n 'kId': 0,\n 'fitness_edu': 1,\n 'fitness_city': 0.7195723684210527,\n 'fitness_age': 1,\n 'fitness_exp': 1,\n 'fitness_lang': 1.0,\n 'fitness_comp_score': 0.3333333333333333,\n 'fitness_comp_bonus': 0.24959796687865876,\n 'fitness_know_score': 0.75,\n 'fitness_knowl_bonus': 0.0193001443001443}"
     },
     "execution_count": 42,
     "metadata": {},
     "output_type": "execute_result"
    }
   ],
   "source": [
    "match = MatchingScore(gen,**matching_par)\n",
    "match.fitness(0,0,job_offers.iloc[0],curricula.iloc[2])"
   ],
   "metadata": {
    "collapsed": false,
    "ExecuteTime": {
     "end_time": "2023-11-10T17:27:39.568084900Z",
     "start_time": "2023-11-10T17:27:38.185876Z"
    }
   },
   "id": "1f371ea239201f2d"
  },
  {
   "cell_type": "code",
   "execution_count": 43,
   "outputs": [
    {
     "data": {
      "text/plain": "   qId  kId  fitness_edu  fitness_city  fitness_age  fitness_exp  \\\n0  0.0  0.0         1.25      1.000000          1.0          1.0   \n1  0.0  1.0         1.00      0.234375          0.0          1.0   \n\n   fitness_lang  fitness_comp_score  fitness_comp_bonus  fitness_know_score  \\\n0           1.0            0.333333            0.176569                0.75   \n1           1.0            1.000000            0.000000                0.50   \n\n   fitness_knowl_bonus  \n0             0.108696  \n1             0.065047  ",
      "text/html": "<div>\n<style scoped>\n    .dataframe tbody tr th:only-of-type {\n        vertical-align: middle;\n    }\n\n    .dataframe tbody tr th {\n        vertical-align: top;\n    }\n\n    .dataframe thead th {\n        text-align: right;\n    }\n</style>\n<table border=\"1\" class=\"dataframe\">\n  <thead>\n    <tr style=\"text-align: right;\">\n      <th></th>\n      <th>qId</th>\n      <th>kId</th>\n      <th>fitness_edu</th>\n      <th>fitness_city</th>\n      <th>fitness_age</th>\n      <th>fitness_exp</th>\n      <th>fitness_lang</th>\n      <th>fitness_comp_score</th>\n      <th>fitness_comp_bonus</th>\n      <th>fitness_know_score</th>\n      <th>fitness_knowl_bonus</th>\n    </tr>\n  </thead>\n  <tbody>\n    <tr>\n      <th>0</th>\n      <td>0.0</td>\n      <td>0.0</td>\n      <td>1.25</td>\n      <td>1.000000</td>\n      <td>1.0</td>\n      <td>1.0</td>\n      <td>1.0</td>\n      <td>0.333333</td>\n      <td>0.176569</td>\n      <td>0.75</td>\n      <td>0.108696</td>\n    </tr>\n    <tr>\n      <th>1</th>\n      <td>0.0</td>\n      <td>1.0</td>\n      <td>1.00</td>\n      <td>0.234375</td>\n      <td>0.0</td>\n      <td>1.0</td>\n      <td>1.0</td>\n      <td>1.000000</td>\n      <td>0.000000</td>\n      <td>0.50</td>\n      <td>0.065047</td>\n    </tr>\n  </tbody>\n</table>\n</div>"
     },
     "execution_count": 43,
     "metadata": {},
     "output_type": "execute_result"
    }
   ],
   "source": [
    "match.scoreFunction(job_offers.iloc[:1],curricula.iloc[:2])"
   ],
   "metadata": {
    "collapsed": false,
    "ExecuteTime": {
     "end_time": "2023-11-10T17:27:41.319830900Z",
     "start_time": "2023-11-10T17:27:41.159808200Z"
    }
   },
   "id": "3b435014b0a054df"
  },
  {
   "cell_type": "code",
   "execution_count": 75,
   "outputs": [],
   "source": [
    "a = next(job_offers.itertuples())"
   ],
   "metadata": {
    "collapsed": false,
    "ExecuteTime": {
     "end_time": "2023-11-10T17:41:54.959782700Z",
     "start_time": "2023-11-10T17:41:54.830181900Z"
    }
   },
   "id": "19eae9f6c76102bc"
  },
  {
   "cell_type": "code",
   "execution_count": 77,
   "outputs": [
    {
     "data": {
      "text/plain": "pandas.core.frame.Pandas"
     },
     "execution_count": 77,
     "metadata": {},
     "output_type": "execute_result"
    }
   ],
   "source": [
    "type(a)"
   ],
   "metadata": {
    "collapsed": false,
    "ExecuteTime": {
     "end_time": "2023-11-10T17:42:01.279102400Z",
     "start_time": "2023-11-10T17:42:01.143944200Z"
    }
   },
   "id": "60d15c688a4c522d"
  },
  {
   "cell_type": "code",
   "execution_count": null,
   "outputs": [],
   "source": [
    "Pandas(\n",
    "    0 Index=0,\n",
    "    1 Job='child care social worker',\n",
    "    2 Edu_essential='Degree',\n",
    "    3 Edu_optional='Bachelor-D.',\n",
    "    4 AgeMin=23,\n",
    "    5 AgeMax=33,\n",
    "    6 City='Catania',\n",
    "    7 Competence_essential0='develop professional network',\n",
    "    8 Competence_essential1='follow health and safety precautions in social care practices',\n",
    "    9 Competence_essential2='review social service plan',\n",
    "    10 Competence_essential3='-',\n",
    "    11 Competence_optional0='-', \n",
    "    12 Competence_optional1='-', \n",
    "    13 Competence_optional2='-', \n",
    "    14 Knowledge_essential0='adolescent psychological development',\n",
    "    15 Knowledge_essential1='social sciences',\n",
    "    16 Knowledge_essential2='social justice', \n",
    "    17 Knowledge_essential3='legal requirements in the social sector',\n",
    "    18 Knowledge_optional0='-',\n",
    "    19 Knowledge_optional1='-', \n",
    "    20 Knowledge_optional2='-',\n",
    "    21 Language_essential0='English',\n",
    "    22 Language_essential1='-', \n",
    "    23 Language_optional0='-',\n",
    "    24 Language_level0='A2',\n",
    "    25 Language_level1='-',\n",
    "    26 Language_level2='-',\n",
    "    27 Experience_essential=2,\n",
    "    28 Experience_optional=False)"
   ],
   "metadata": {
    "collapsed": false
   },
   "id": "d837b5f5c3d40f7f"
  }
 ],
 "metadata": {
  "kernelspec": {
   "display_name": "Python 3",
   "language": "python",
   "name": "python3"
  },
  "language_info": {
   "codemirror_mode": {
    "name": "ipython",
    "version": 2
   },
   "file_extension": ".py",
   "mimetype": "text/x-python",
   "name": "python",
   "nbconvert_exporter": "python",
   "pygments_lexer": "ipython2",
   "version": "2.7.6"
  }
 },
 "nbformat": 4,
 "nbformat_minor": 5
}
