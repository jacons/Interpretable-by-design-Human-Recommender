{
 "cells": [
  {
   "cell_type": "code",
   "execution_count": 85,
   "outputs": [],
   "source": [
    "from Class_utils.parameters import *\n",
    "from Class_utils.JobGraph import JobGraph\n",
    "from Class_utils.FitnessFunctions import FitnessFunctions\n",
    "from Generator.JobGenerator import JobGenerator\n",
    "from Generator.MatchingScore import MatchingScore\n",
    "\n",
    "\n",
    "%reload_ext autoreload\n",
    "%autoreload 2\n"
   ],
   "metadata": {
    "collapsed": false,
    "ExecuteTime": {
     "end_time": "2023-11-17T17:04:07.336173200Z",
     "start_time": "2023-11-17T17:04:02.815448200Z"
    }
   },
   "id": "6b6c22f15096c2ef"
  },
  {
   "cell_type": "code",
   "execution_count": 86,
   "outputs": [
    {
     "name": "stderr",
     "output_type": "stream",
     "text": [
      "Loading occupations: 100%|██████████| 3005/3005 [00:00<00:00, 484578.37it/s]\n",
      "Loading skills: 100%|██████████| 13896/13896 [00:00<00:00, 785541.65it/s]\n",
      "Add relations: 100%|██████████| 123742/123742 [00:00<00:00, 813700.54it/s]\n"
     ]
    }
   ],
   "source": [
    "job_graph = JobGraph(file_paths)\n",
    "fitness_functions = FitnessFunctions(job_graph, file_paths)\n",
    "gen = JobGenerator(job_graph, file_paths)\n",
    "match = MatchingScore(job_graph,fitness_functions, **matching_par)"
   ],
   "metadata": {
    "collapsed": false,
    "ExecuteTime": {
     "end_time": "2023-11-17T17:04:10.397868800Z",
     "start_time": "2023-11-17T17:04:07.339559500Z"
    }
   },
   "id": "8cfba54bdd3062b6"
  },
  {
   "cell_type": "code",
   "execution_count": 87,
   "outputs": [
    {
     "name": "stderr",
     "output_type": "stream",
     "text": [
      "Generating the job-offers: 100%|██████████| 120/120 [00:00<00:00, 351.18it/s]\n",
      "Generating the curricula: 100%|██████████| 120/120 [00:26<00:00,  4.53it/s, qId=119]\n",
      "Generating the fitness scores: 100%|██████████| 120/120 [00:14<00:00,  8.54it/s, qId=119]\n"
     ]
    }
   ],
   "source": [
    "job_offers = gen.get_job_offers(**jobOffer_par, name=\"0\")\n",
    "curricula = gen.generate_cvs(job_offers, **curriculum_par, name=\"0\")\n",
    "dataset = match.score_function(job_offers, curricula, name=\"0\")"
   ],
   "metadata": {
    "collapsed": false,
    "ExecuteTime": {
     "end_time": "2023-11-17T17:04:53.860834300Z",
     "start_time": "2023-11-17T17:04:10.390745600Z"
    }
   },
   "id": "4b7f7186edabd244"
  },
  {
   "cell_type": "code",
   "execution_count": 88,
   "outputs": [
    {
     "data": {
      "text/plain": "             score   w_score  relevance  fitness_edu_basic  fitness_edu_bonus  \\\nqId kId                                                                         \n0   0     7.139866  0.512478          3                1.0                0.5   \n    1     5.891826  0.506958          3                1.0                0.0   \n    2     6.658173  0.530243          3                1.0                0.5   \n    3     6.990388  0.725213          4                1.0                0.0   \n    4     5.779108  0.467075          3                1.0                0.0   \n...            ...       ...        ...                ...                ...   \n119 9432  2.667896  0.181110          1                1.0                0.0   \n    9433  2.927196  0.237989          1                1.0                0.0   \n    9434  0.864342  0.023051          0                0.0                0.0   \n    9435  2.778239  0.164426          1                1.0                0.0   \n    9436  1.575157  0.205431          1                1.0                0.0   \n\n          fitness_city  fitness_age  fitness_exp_basic  fitness_exp_bonus  \\\nqId kId                                                                     \n0   0         0.869599          1.0                1.0                0.5   \n    1         0.585232          1.0                1.0                0.5   \n    2         0.632365          1.0                1.0                0.5   \n    3         0.661430          1.0                1.0                0.5   \n    4         0.676355          1.0                1.0                0.5   \n...                ...          ...                ...                ...   \n119 9432      0.661430          1.0                0.0                0.0   \n    9433      0.529458          1.0                0.0                0.0   \n    9434      0.513747          0.0                0.0                0.0   \n    9435      0.735271          1.0                0.0                0.0   \n    9436      0.520817          0.0                0.0                0.0   \n\n          fitness_lang_basic  fitness_lang_bonus  fitness_comp_basic  \\\nqId kId                                                                \n0   0               0.000000                 0.0            1.000000   \n    1               0.000000                 0.0            0.780556   \n    2               0.000000                 0.0            1.000000   \n    3               1.000000                 0.0            0.761772   \n    4               0.000000                 0.0            0.576612   \n...                      ...                 ...                 ...   \n119 9432            0.000000                 0.0            0.002076   \n    9433            0.391667                 0.0            0.001191   \n    9434            0.350000                 0.0            0.000000   \n    9435            0.041667                 0.0            0.000000   \n    9436            0.000000                 0.0            0.021083   \n\n          fitness_comp_bonus  fitness_know_basic  fitness_knowl_bonus  \nqId kId                                                                \n0   0               0.011361            1.000000             0.258906  \n    1               0.011591            1.000000             0.014448  \n    2               0.011361            1.000000             0.014448  \n    3               0.010326            0.793166             0.263694  \n    4               0.015058            1.000000             0.011082  \n...                      ...                 ...                  ...  \n119 9432            0.002365            0.001465             0.000560  \n    9433            0.002977            0.001903             0.000000  \n    9434            0.000000            0.000000             0.000595  \n    9435            0.000000            0.001090             0.000211  \n    9436            0.010484            0.020337             0.002437  \n\n[9437 rows x 15 columns]",
      "text/html": "<div>\n<style scoped>\n    .dataframe tbody tr th:only-of-type {\n        vertical-align: middle;\n    }\n\n    .dataframe tbody tr th {\n        vertical-align: top;\n    }\n\n    .dataframe thead th {\n        text-align: right;\n    }\n</style>\n<table border=\"1\" class=\"dataframe\">\n  <thead>\n    <tr style=\"text-align: right;\">\n      <th></th>\n      <th></th>\n      <th>score</th>\n      <th>w_score</th>\n      <th>relevance</th>\n      <th>fitness_edu_basic</th>\n      <th>fitness_edu_bonus</th>\n      <th>fitness_city</th>\n      <th>fitness_age</th>\n      <th>fitness_exp_basic</th>\n      <th>fitness_exp_bonus</th>\n      <th>fitness_lang_basic</th>\n      <th>fitness_lang_bonus</th>\n      <th>fitness_comp_basic</th>\n      <th>fitness_comp_bonus</th>\n      <th>fitness_know_basic</th>\n      <th>fitness_knowl_bonus</th>\n    </tr>\n    <tr>\n      <th>qId</th>\n      <th>kId</th>\n      <th></th>\n      <th></th>\n      <th></th>\n      <th></th>\n      <th></th>\n      <th></th>\n      <th></th>\n      <th></th>\n      <th></th>\n      <th></th>\n      <th></th>\n      <th></th>\n      <th></th>\n      <th></th>\n      <th></th>\n    </tr>\n  </thead>\n  <tbody>\n    <tr>\n      <th rowspan=\"5\" valign=\"top\">0</th>\n      <th>0</th>\n      <td>7.139866</td>\n      <td>0.512478</td>\n      <td>3</td>\n      <td>1.0</td>\n      <td>0.5</td>\n      <td>0.869599</td>\n      <td>1.0</td>\n      <td>1.0</td>\n      <td>0.5</td>\n      <td>0.000000</td>\n      <td>0.0</td>\n      <td>1.000000</td>\n      <td>0.011361</td>\n      <td>1.000000</td>\n      <td>0.258906</td>\n    </tr>\n    <tr>\n      <th>1</th>\n      <td>5.891826</td>\n      <td>0.506958</td>\n      <td>3</td>\n      <td>1.0</td>\n      <td>0.0</td>\n      <td>0.585232</td>\n      <td>1.0</td>\n      <td>1.0</td>\n      <td>0.5</td>\n      <td>0.000000</td>\n      <td>0.0</td>\n      <td>0.780556</td>\n      <td>0.011591</td>\n      <td>1.000000</td>\n      <td>0.014448</td>\n    </tr>\n    <tr>\n      <th>2</th>\n      <td>6.658173</td>\n      <td>0.530243</td>\n      <td>3</td>\n      <td>1.0</td>\n      <td>0.5</td>\n      <td>0.632365</td>\n      <td>1.0</td>\n      <td>1.0</td>\n      <td>0.5</td>\n      <td>0.000000</td>\n      <td>0.0</td>\n      <td>1.000000</td>\n      <td>0.011361</td>\n      <td>1.000000</td>\n      <td>0.014448</td>\n    </tr>\n    <tr>\n      <th>3</th>\n      <td>6.990388</td>\n      <td>0.725213</td>\n      <td>4</td>\n      <td>1.0</td>\n      <td>0.0</td>\n      <td>0.661430</td>\n      <td>1.0</td>\n      <td>1.0</td>\n      <td>0.5</td>\n      <td>1.000000</td>\n      <td>0.0</td>\n      <td>0.761772</td>\n      <td>0.010326</td>\n      <td>0.793166</td>\n      <td>0.263694</td>\n    </tr>\n    <tr>\n      <th>4</th>\n      <td>5.779108</td>\n      <td>0.467075</td>\n      <td>3</td>\n      <td>1.0</td>\n      <td>0.0</td>\n      <td>0.676355</td>\n      <td>1.0</td>\n      <td>1.0</td>\n      <td>0.5</td>\n      <td>0.000000</td>\n      <td>0.0</td>\n      <td>0.576612</td>\n      <td>0.015058</td>\n      <td>1.000000</td>\n      <td>0.011082</td>\n    </tr>\n    <tr>\n      <th>...</th>\n      <th>...</th>\n      <td>...</td>\n      <td>...</td>\n      <td>...</td>\n      <td>...</td>\n      <td>...</td>\n      <td>...</td>\n      <td>...</td>\n      <td>...</td>\n      <td>...</td>\n      <td>...</td>\n      <td>...</td>\n      <td>...</td>\n      <td>...</td>\n      <td>...</td>\n      <td>...</td>\n    </tr>\n    <tr>\n      <th rowspan=\"5\" valign=\"top\">119</th>\n      <th>9432</th>\n      <td>2.667896</td>\n      <td>0.181110</td>\n      <td>1</td>\n      <td>1.0</td>\n      <td>0.0</td>\n      <td>0.661430</td>\n      <td>1.0</td>\n      <td>0.0</td>\n      <td>0.0</td>\n      <td>0.000000</td>\n      <td>0.0</td>\n      <td>0.002076</td>\n      <td>0.002365</td>\n      <td>0.001465</td>\n      <td>0.000560</td>\n    </tr>\n    <tr>\n      <th>9433</th>\n      <td>2.927196</td>\n      <td>0.237989</td>\n      <td>1</td>\n      <td>1.0</td>\n      <td>0.0</td>\n      <td>0.529458</td>\n      <td>1.0</td>\n      <td>0.0</td>\n      <td>0.0</td>\n      <td>0.391667</td>\n      <td>0.0</td>\n      <td>0.001191</td>\n      <td>0.002977</td>\n      <td>0.001903</td>\n      <td>0.000000</td>\n    </tr>\n    <tr>\n      <th>9434</th>\n      <td>0.864342</td>\n      <td>0.023051</td>\n      <td>0</td>\n      <td>0.0</td>\n      <td>0.0</td>\n      <td>0.513747</td>\n      <td>0.0</td>\n      <td>0.0</td>\n      <td>0.0</td>\n      <td>0.350000</td>\n      <td>0.0</td>\n      <td>0.000000</td>\n      <td>0.000000</td>\n      <td>0.000000</td>\n      <td>0.000595</td>\n    </tr>\n    <tr>\n      <th>9435</th>\n      <td>2.778239</td>\n      <td>0.164426</td>\n      <td>1</td>\n      <td>1.0</td>\n      <td>0.0</td>\n      <td>0.735271</td>\n      <td>1.0</td>\n      <td>0.0</td>\n      <td>0.0</td>\n      <td>0.041667</td>\n      <td>0.0</td>\n      <td>0.000000</td>\n      <td>0.000000</td>\n      <td>0.001090</td>\n      <td>0.000211</td>\n    </tr>\n    <tr>\n      <th>9436</th>\n      <td>1.575157</td>\n      <td>0.205431</td>\n      <td>1</td>\n      <td>1.0</td>\n      <td>0.0</td>\n      <td>0.520817</td>\n      <td>0.0</td>\n      <td>0.0</td>\n      <td>0.0</td>\n      <td>0.000000</td>\n      <td>0.0</td>\n      <td>0.021083</td>\n      <td>0.010484</td>\n      <td>0.020337</td>\n      <td>0.002437</td>\n    </tr>\n  </tbody>\n</table>\n<p>9437 rows × 15 columns</p>\n</div>"
     },
     "execution_count": 88,
     "metadata": {},
     "output_type": "execute_result"
    }
   ],
   "source": [
    "dataset"
   ],
   "metadata": {
    "collapsed": false,
    "ExecuteTime": {
     "end_time": "2023-11-17T17:04:55.076018800Z",
     "start_time": "2023-11-17T17:04:53.862159600Z"
    }
   },
   "id": "c3876df4c6331714"
  }
 ],
 "metadata": {
  "kernelspec": {
   "display_name": "Python 3",
   "language": "python",
   "name": "python3"
  },
  "language_info": {
   "codemirror_mode": {
    "name": "ipython",
    "version": 2
   },
   "file_extension": ".py",
   "mimetype": "text/x-python",
   "name": "python",
   "nbconvert_exporter": "python",
   "pygments_lexer": "ipython2",
   "version": "2.7.6"
  }
 },
 "nbformat": 4,
 "nbformat_minor": 5
}
