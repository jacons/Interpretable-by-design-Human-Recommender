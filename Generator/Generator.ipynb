{
 "cells": [
  {
   "cell_type": "code",
   "execution_count": 33,
   "outputs": [],
   "source": [
    "from Class_utils.parameters import *\n",
    "from Class_utils.JobGraph import JobGraph\n",
    "from Class_utils.FitnessFunctions import FitnessFunctions\n",
    "from Generator.JobGenerator import JobGenerator\n",
    "from Generator.MatchingScore import MatchingScore\n",
    "\n",
    "\n",
    "%reload_ext autoreload\n",
    "%autoreload 2\n"
   ],
   "metadata": {
    "collapsed": false,
    "ExecuteTime": {
     "end_time": "2023-11-28T17:11:27.091130300Z",
     "start_time": "2023-11-28T17:11:26.541843800Z"
    }
   },
   "id": "6b6c22f15096c2ef"
  },
  {
   "cell_type": "code",
   "execution_count": 38,
   "outputs": [
    {
     "name": "stdout",
     "output_type": "stream",
     "text": [
      "Cache found loading...done\n"
     ]
    }
   ],
   "source": [
    "job_graph = JobGraph(file_paths, **job_graph_par)\n",
    "fitness_functions = FitnessFunctions(file_paths, job_graph)\n",
    "gen = JobGenerator(job_graph, file_paths)\n",
    "match = MatchingScore(fitness_functions, **matching_par)"
   ],
   "metadata": {
    "collapsed": false,
    "ExecuteTime": {
     "end_time": "2023-11-28T17:12:00.832706400Z",
     "start_time": "2023-11-28T17:11:58.165711100Z"
    }
   },
   "id": "8cfba54bdd3062b6"
  },
  {
   "cell_type": "code",
   "execution_count": 22,
   "outputs": [
    {
     "name": "stderr",
     "output_type": "stream",
     "text": [
      "Generating the job-offers: 100%|██████████| 200/200 [00:00<00:00, 755.85it/s]\n",
      "Generating the curricula: 100%|██████████| 200/200 [00:39<00:00,  5.01it/s, qId=199]\n",
      "Updating with synonyms...: 100%|██████████| 20/20 [00:00<00:00, 29.70it/s]\n",
      "Updating with synonyms...: 100%|██████████| 276/276 [00:08<00:00, 30.90it/s]\n"
     ]
    },
    {
     "data": {
      "text/plain": "       qId                                           metadata  Education  Age  \\\nkId                                                                             \n0        0  {'occ': '1738173e-ef9c-4222-88c8-b6aa9bad3cf7'...  Master-D.   28   \n1        0  {'occ': '1738173e-ef9c-4222-88c8-b6aa9bad3cf7'...  Master-D.   30   \n2        0  {'occ': '1738173e-ef9c-4222-88c8-b6aa9bad3cf7'...  Master-D.   29   \n3        0  {'occ': '1738173e-ef9c-4222-88c8-b6aa9bad3cf7'...  Master-D.   36   \n4        0  {'occ': '1738173e-ef9c-4222-88c8-b6aa9bad3cf7'...  Master-D.   29   \n...    ...                                                ...        ...  ...   \n27632  199  {'occ': 'fe4a72af-6206-4d86-90c1-b5fb4b5ba2b2'...     Degree   44   \n27633  199  {'occ': '3cbbdb83-7c36-4ae5-8c45-6c284186f477'...  Master-D.   40   \n27634  199  {'occ': 'c40a2919-48a9-40ea-b506-1f34f693496d'...     Degree   31   \n27635  199  {'occ': '8801ef16-92a4-4889-8f80-9b78206c7ec0'...  Master-D.   31   \n27636  199  {'occ': 'f5ba8fb4-1387-459a-9b22-59feb891e229'...     Degree   18   \n\n                       City  JobRange                   Competences0  \\\nkId                                                                    \n0                 Monrupino        90  write scientific publications   \n1      Mercato San Severino        90               think abstractly   \n2                    Torino        50  write scientific publications   \n3                   Joppolo        40  write scientific publications   \n4              La Maddalena        60  write scientific publications   \n...                     ...       ...                            ...   \n27632           Calatabiano        60                 meet deadlines   \n27633                Torino        80               use CAD software   \n27634                Padova        30         use software libraries   \n27635               Taranto        90      speak different languages   \n27636               Caserta        30                     strip wire   \n\n                        Competences1  \\\nkId                                    \n0                   think abstractly   \n1             synthesise information   \n2                   think abstractly   \n3                   think abstractly   \n4                   think abstractly   \n...                              ...   \n27632           manage sound quality   \n27633         smooth burred surfaces   \n27634      interpret technical texts   \n27635  perform political negotiation   \n27636                     seal wires   \n\n                                          Competences2  \\\nkId                                                      \n0                           perform project management   \n1                                   operate telescopes   \n2                               synthesise information   \n3                             perform laboratory tests   \n4                             perform laboratory tests   \n...                                                ...   \n27632                   maintain audiovisual equipment   \n27633                         read standard blueprints   \n27634               implement front-end website design   \n27635  maintain relationships with government agencies   \n27636         report defective manufacturing materials   \n\n                                Competences3  ...  \\\nkId                                           ...   \n0                         mentor individuals  ...   \n1                  conduct research on fauna  ...   \n2        manage intellectual property rights  ...   \n3               operate open source software  ...   \n4                   manage open publications  ...   \n...                                      ...  ...   \n27632                                      -  ...   \n27633  operate precision measuring equipment  ...   \n27634        analyse software specifications  ...   \n27635    investigate human rights violations  ...   \n27636                         meet deadlines  ...   \n\n                           Knowledge4                        Knowledge5  \\\nkId                                                                       \n0                                   -                                 -   \n1                   organic chemistry                 molecular biology   \n2                                   -                                 -   \n3                             biology                                 -   \n4                                   -                                 -   \n...                               ...                               ...   \n27632    ICT communications protocols                                 -   \n27633                    3D modelling                                 -   \n27634             ICT debugging tools                            Groovy   \n27635  international human rights law                  court procedures   \n27636     electrical wire accessories  electrical equipment regulations   \n\n      Knowledge6 Language0 Language1 Language2 Language_level0  \\\nkId                                                              \n0              -   Spanish   Italian         -            Null   \n1              -    French   English         -            Null   \n2              -   Italian    French         -              B2   \n3              -   Italian   Chinese         -              B2   \n4              -   Spanish         -         -              B1   \n...          ...       ...       ...       ...             ...   \n27632          -   Italian         -         -            Null   \n27633          -   Spanish   Italian   English              B1   \n27634    Ansible   Italian    French   English            Null   \n27635          -   Spanish   Italian   English            Null   \n27636          -   Spanish   Italian    French            Null   \n\n      Language_level1 Language_level2 Experience  \nkId                                               \n0                Null               -          1  \n1                Null               -          2  \n2                Null               -          0  \n3                Null               -          1  \n4                   -               -          2  \n...               ...             ...        ...  \n27632               -               -          1  \n27633              B2            Null          1  \n27634            Null            Null          1  \n27635            Null              B2          2  \n27636            Null            Null          2  \n\n[27637 rows x 27 columns]",
      "text/html": "<div>\n<style scoped>\n    .dataframe tbody tr th:only-of-type {\n        vertical-align: middle;\n    }\n\n    .dataframe tbody tr th {\n        vertical-align: top;\n    }\n\n    .dataframe thead th {\n        text-align: right;\n    }\n</style>\n<table border=\"1\" class=\"dataframe\">\n  <thead>\n    <tr style=\"text-align: right;\">\n      <th></th>\n      <th>qId</th>\n      <th>metadata</th>\n      <th>Education</th>\n      <th>Age</th>\n      <th>City</th>\n      <th>JobRange</th>\n      <th>Competences0</th>\n      <th>Competences1</th>\n      <th>Competences2</th>\n      <th>Competences3</th>\n      <th>...</th>\n      <th>Knowledge4</th>\n      <th>Knowledge5</th>\n      <th>Knowledge6</th>\n      <th>Language0</th>\n      <th>Language1</th>\n      <th>Language2</th>\n      <th>Language_level0</th>\n      <th>Language_level1</th>\n      <th>Language_level2</th>\n      <th>Experience</th>\n    </tr>\n    <tr>\n      <th>kId</th>\n      <th></th>\n      <th></th>\n      <th></th>\n      <th></th>\n      <th></th>\n      <th></th>\n      <th></th>\n      <th></th>\n      <th></th>\n      <th></th>\n      <th></th>\n      <th></th>\n      <th></th>\n      <th></th>\n      <th></th>\n      <th></th>\n      <th></th>\n      <th></th>\n      <th></th>\n      <th></th>\n      <th></th>\n    </tr>\n  </thead>\n  <tbody>\n    <tr>\n      <th>0</th>\n      <td>0</td>\n      <td>{'occ': '1738173e-ef9c-4222-88c8-b6aa9bad3cf7'...</td>\n      <td>Master-D.</td>\n      <td>28</td>\n      <td>Monrupino</td>\n      <td>90</td>\n      <td>write scientific publications</td>\n      <td>think abstractly</td>\n      <td>perform project management</td>\n      <td>mentor individuals</td>\n      <td>...</td>\n      <td>-</td>\n      <td>-</td>\n      <td>-</td>\n      <td>Spanish</td>\n      <td>Italian</td>\n      <td>-</td>\n      <td>Null</td>\n      <td>Null</td>\n      <td>-</td>\n      <td>1</td>\n    </tr>\n    <tr>\n      <th>1</th>\n      <td>0</td>\n      <td>{'occ': '1738173e-ef9c-4222-88c8-b6aa9bad3cf7'...</td>\n      <td>Master-D.</td>\n      <td>30</td>\n      <td>Mercato San Severino</td>\n      <td>90</td>\n      <td>think abstractly</td>\n      <td>synthesise information</td>\n      <td>operate telescopes</td>\n      <td>conduct research on fauna</td>\n      <td>...</td>\n      <td>organic chemistry</td>\n      <td>molecular biology</td>\n      <td>-</td>\n      <td>French</td>\n      <td>English</td>\n      <td>-</td>\n      <td>Null</td>\n      <td>Null</td>\n      <td>-</td>\n      <td>2</td>\n    </tr>\n    <tr>\n      <th>2</th>\n      <td>0</td>\n      <td>{'occ': '1738173e-ef9c-4222-88c8-b6aa9bad3cf7'...</td>\n      <td>Master-D.</td>\n      <td>29</td>\n      <td>Torino</td>\n      <td>50</td>\n      <td>write scientific publications</td>\n      <td>think abstractly</td>\n      <td>synthesise information</td>\n      <td>manage intellectual property rights</td>\n      <td>...</td>\n      <td>-</td>\n      <td>-</td>\n      <td>-</td>\n      <td>Italian</td>\n      <td>French</td>\n      <td>-</td>\n      <td>B2</td>\n      <td>Null</td>\n      <td>-</td>\n      <td>0</td>\n    </tr>\n    <tr>\n      <th>3</th>\n      <td>0</td>\n      <td>{'occ': '1738173e-ef9c-4222-88c8-b6aa9bad3cf7'...</td>\n      <td>Master-D.</td>\n      <td>36</td>\n      <td>Joppolo</td>\n      <td>40</td>\n      <td>write scientific publications</td>\n      <td>think abstractly</td>\n      <td>perform laboratory tests</td>\n      <td>operate open source software</td>\n      <td>...</td>\n      <td>biology</td>\n      <td>-</td>\n      <td>-</td>\n      <td>Italian</td>\n      <td>Chinese</td>\n      <td>-</td>\n      <td>B2</td>\n      <td>Null</td>\n      <td>-</td>\n      <td>1</td>\n    </tr>\n    <tr>\n      <th>4</th>\n      <td>0</td>\n      <td>{'occ': '1738173e-ef9c-4222-88c8-b6aa9bad3cf7'...</td>\n      <td>Master-D.</td>\n      <td>29</td>\n      <td>La Maddalena</td>\n      <td>60</td>\n      <td>write scientific publications</td>\n      <td>think abstractly</td>\n      <td>perform laboratory tests</td>\n      <td>manage open publications</td>\n      <td>...</td>\n      <td>-</td>\n      <td>-</td>\n      <td>-</td>\n      <td>Spanish</td>\n      <td>-</td>\n      <td>-</td>\n      <td>B1</td>\n      <td>-</td>\n      <td>-</td>\n      <td>2</td>\n    </tr>\n    <tr>\n      <th>...</th>\n      <td>...</td>\n      <td>...</td>\n      <td>...</td>\n      <td>...</td>\n      <td>...</td>\n      <td>...</td>\n      <td>...</td>\n      <td>...</td>\n      <td>...</td>\n      <td>...</td>\n      <td>...</td>\n      <td>...</td>\n      <td>...</td>\n      <td>...</td>\n      <td>...</td>\n      <td>...</td>\n      <td>...</td>\n      <td>...</td>\n      <td>...</td>\n      <td>...</td>\n      <td>...</td>\n    </tr>\n    <tr>\n      <th>27632</th>\n      <td>199</td>\n      <td>{'occ': 'fe4a72af-6206-4d86-90c1-b5fb4b5ba2b2'...</td>\n      <td>Degree</td>\n      <td>44</td>\n      <td>Calatabiano</td>\n      <td>60</td>\n      <td>meet deadlines</td>\n      <td>manage sound quality</td>\n      <td>maintain audiovisual equipment</td>\n      <td>-</td>\n      <td>...</td>\n      <td>ICT communications protocols</td>\n      <td>-</td>\n      <td>-</td>\n      <td>Italian</td>\n      <td>-</td>\n      <td>-</td>\n      <td>Null</td>\n      <td>-</td>\n      <td>-</td>\n      <td>1</td>\n    </tr>\n    <tr>\n      <th>27633</th>\n      <td>199</td>\n      <td>{'occ': '3cbbdb83-7c36-4ae5-8c45-6c284186f477'...</td>\n      <td>Master-D.</td>\n      <td>40</td>\n      <td>Torino</td>\n      <td>80</td>\n      <td>use CAD software</td>\n      <td>smooth burred surfaces</td>\n      <td>read standard blueprints</td>\n      <td>operate precision measuring equipment</td>\n      <td>...</td>\n      <td>3D modelling</td>\n      <td>-</td>\n      <td>-</td>\n      <td>Spanish</td>\n      <td>Italian</td>\n      <td>English</td>\n      <td>B1</td>\n      <td>B2</td>\n      <td>Null</td>\n      <td>1</td>\n    </tr>\n    <tr>\n      <th>27634</th>\n      <td>199</td>\n      <td>{'occ': 'c40a2919-48a9-40ea-b506-1f34f693496d'...</td>\n      <td>Degree</td>\n      <td>31</td>\n      <td>Padova</td>\n      <td>30</td>\n      <td>use software libraries</td>\n      <td>interpret technical texts</td>\n      <td>implement front-end website design</td>\n      <td>analyse software specifications</td>\n      <td>...</td>\n      <td>ICT debugging tools</td>\n      <td>Groovy</td>\n      <td>Ansible</td>\n      <td>Italian</td>\n      <td>French</td>\n      <td>English</td>\n      <td>Null</td>\n      <td>Null</td>\n      <td>Null</td>\n      <td>1</td>\n    </tr>\n    <tr>\n      <th>27635</th>\n      <td>199</td>\n      <td>{'occ': '8801ef16-92a4-4889-8f80-9b78206c7ec0'...</td>\n      <td>Master-D.</td>\n      <td>31</td>\n      <td>Taranto</td>\n      <td>90</td>\n      <td>speak different languages</td>\n      <td>perform political negotiation</td>\n      <td>maintain relationships with government agencies</td>\n      <td>investigate human rights violations</td>\n      <td>...</td>\n      <td>international human rights law</td>\n      <td>court procedures</td>\n      <td>-</td>\n      <td>Spanish</td>\n      <td>Italian</td>\n      <td>English</td>\n      <td>Null</td>\n      <td>Null</td>\n      <td>B2</td>\n      <td>2</td>\n    </tr>\n    <tr>\n      <th>27636</th>\n      <td>199</td>\n      <td>{'occ': 'f5ba8fb4-1387-459a-9b22-59feb891e229'...</td>\n      <td>Degree</td>\n      <td>18</td>\n      <td>Caserta</td>\n      <td>30</td>\n      <td>strip wire</td>\n      <td>seal wires</td>\n      <td>report defective manufacturing materials</td>\n      <td>meet deadlines</td>\n      <td>...</td>\n      <td>electrical wire accessories</td>\n      <td>electrical equipment regulations</td>\n      <td>-</td>\n      <td>Spanish</td>\n      <td>Italian</td>\n      <td>French</td>\n      <td>Null</td>\n      <td>Null</td>\n      <td>Null</td>\n      <td>2</td>\n    </tr>\n  </tbody>\n</table>\n<p>27637 rows × 27 columns</p>\n</div>"
     },
     "execution_count": 22,
     "metadata": {},
     "output_type": "execute_result"
    }
   ],
   "source": [
    "job_offers = gen.get_job_offers(**jobOffer_par)\n",
    "curricula = gen.generate_cvs(job_offers, **curriculum_par)\n",
    "gen.upgrade_with_synonymous(\"offer\", job_offers, 0.1)\n",
    "gen.upgrade_with_synonymous(\"cv\", curricula, 0.05)\n",
    "gen.save_job_offers(**output_dir,offers=job_offers, name=0)\n",
    "gen.save_curricula(**output_dir,curricula=curricula,name=0)"
   ],
   "metadata": {
    "collapsed": false,
    "ExecuteTime": {
     "end_time": "2023-11-28T17:07:29.036326100Z",
     "start_time": "2023-11-28T17:06:38.600775400Z"
    }
   },
   "id": "4b7f7186edabd244"
  },
  {
   "cell_type": "code",
   "execution_count": 39,
   "outputs": [
    {
     "name": "stderr",
     "output_type": "stream",
     "text": [
      "Generating the fitness scores:   0%|          | 0/200 [00:00<?, ?it/s]"
     ]
    },
    {
     "name": "stdout",
     "output_type": "stream",
     "text": [
      "Unexpected exception formatting exception. Falling back to standard exception\n"
     ]
    },
    {
     "name": "stderr",
     "output_type": "stream",
     "text": [
      "\n",
      "Traceback (most recent call last):\n",
      "  File \"C:\\Users\\Andrea\\anaconda3\\envs\\FindHR\\Lib\\site-packages\\IPython\\core\\interactiveshell.py\", line 3526, in run_code\n",
      "    exec(code_obj, self.user_global_ns, self.user_ns)\n",
      "  File \"C:\\Users\\Andrea\\AppData\\Local\\Temp\\ipykernel_1500\\2044157649.py\", line 1, in <module>\n",
      "    dataset = match.score_function(job_offers, curricula, **match_score_par, name=\"0\")\n",
      "              ^^^^^^^^^^^^^^^^^^^^^^^^^^^^^^^^^^^^^^^^^^^^^^^^^^^^^^^^^^^^^^^^^^^^^^^^\n",
      "  File \"K:\\NoSyncProject\\ExplainableLrR\\Generator\\MatchingScore.py\", line 28, in score_function\n",
      "    dataset = self.fitness.generate_fitness_score(offers, curricula)\n",
      "              ^^^^^^^^^^^^^^^^^^^^^^^^^^^^^^^^^^^^^^^^^^^^^^^^^^^^^^\n",
      "  File \"K:\\NoSyncProject\\ExplainableLrR\\Class_utils\\FitnessFunctions.py\", line 33, in generate_fitness_score\n",
      "    dataset.append(self.fitness(offer, cv))\n",
      "                   ^^^^^^^^^^^^^^^^^^^^^^^\n",
      "  File \"K:\\NoSyncProject\\ExplainableLrR\\Class_utils\\FitnessFunctions.py\", line 55, in fitness\n",
      "    fit_competence_basic = self.fitness_skills.fitness_basic(of_comp_ess, cv_comp)\n",
      "                           ^^^^^^^^^^^^^^^^^^^^^^^^^^^^^^^^^^^^^^^^^^^^^^^^^^^^^^^\n",
      "  File \"K:\\NoSyncProject\\ExplainableLrR\\Class_utils\\FitnessClasses.py\", line 159, in fitness_basic\n",
      "    basic += self.graph_score(essential - sk_shared, cv - sk_shared, 0.50)\n",
      "             ^^^^^^^^^^^^^^^^^^^^^^^^^^^^^^^^^^^^^^^^^^^^^^^^^^^^^^^^^^^^^\n",
      "  File \"K:\\NoSyncProject\\ExplainableLrR\\Class_utils\\FitnessClasses.py\", line 147, in graph_score\n",
      "    score += weight * self.job_graph.node_similarity(offer, cv, ids=False)\n",
      "                      ^^^^^^^^^^^^^^^^^^^^^^^^^^^^^^^^^^^^^^^^^^^^^^^^^^^^\n",
      "  File \"K:\\NoSyncProject\\ExplainableLrR\\Class_utils\\JobGraph.py\", line 227, in node_similarity\n",
      "    nodesB = [self.name2id[node] for node in nodesB]\n",
      "             ^^^^^^^^^^^^^^^^^^^^^^^^^^^^^^^^^^^^^^^\n",
      "  File \"K:\\NoSyncProject\\ExplainableLrR\\Class_utils\\JobGraph.py\", line 227, in <listcomp>\n",
      "    nodesB = [self.name2id[node] for node in nodesB]\n",
      "              ~~~~~~~~~~~~^^^^^^\n",
      "KeyError: 'calibrate of the laboratory equipment'\n",
      "\n",
      "During handling of the above exception, another exception occurred:\n",
      "\n",
      "Traceback (most recent call last):\n",
      "  File \"C:\\Users\\Andrea\\anaconda3\\envs\\FindHR\\Lib\\site-packages\\IPython\\core\\interactiveshell.py\", line 2120, in showtraceback\n",
      "    stb = self.InteractiveTB.structured_traceback(\n",
      "          ^^^^^^^^^^^^^^^^^^^^^^^^^^^^^^^^^^^^^^^^\n",
      "  File \"C:\\Users\\Andrea\\anaconda3\\envs\\FindHR\\Lib\\site-packages\\IPython\\core\\ultratb.py\", line 1435, in structured_traceback\n",
      "    return FormattedTB.structured_traceback(\n",
      "           ^^^^^^^^^^^^^^^^^^^^^^^^^^^^^^^^^\n",
      "  File \"C:\\Users\\Andrea\\anaconda3\\envs\\FindHR\\Lib\\site-packages\\IPython\\core\\ultratb.py\", line 1326, in structured_traceback\n",
      "    return VerboseTB.structured_traceback(\n",
      "           ^^^^^^^^^^^^^^^^^^^^^^^^^^^^^^^\n",
      "  File \"C:\\Users\\Andrea\\anaconda3\\envs\\FindHR\\Lib\\site-packages\\IPython\\core\\ultratb.py\", line 1173, in structured_traceback\n",
      "    formatted_exception = self.format_exception_as_a_whole(etype, evalue, etb, number_of_lines_of_context,\n",
      "                          ^^^^^^^^^^^^^^^^^^^^^^^^^^^^^^^^^^^^^^^^^^^^^^^^^^^^^^^^^^^^^^^^^^^^^^^^^^^^^^^^\n",
      "  File \"C:\\Users\\Andrea\\anaconda3\\envs\\FindHR\\Lib\\site-packages\\IPython\\core\\ultratb.py\", line 1088, in format_exception_as_a_whole\n",
      "    frames.append(self.format_record(record))\n",
      "                  ^^^^^^^^^^^^^^^^^^^^^^^^^^\n",
      "  File \"C:\\Users\\Andrea\\anaconda3\\envs\\FindHR\\Lib\\site-packages\\IPython\\core\\ultratb.py\", line 970, in format_record\n",
      "    frame_info.lines, Colors, self.has_colors, lvals\n",
      "    ^^^^^^^^^^^^^^^^\n",
      "  File \"C:\\Users\\Andrea\\anaconda3\\envs\\FindHR\\Lib\\site-packages\\IPython\\core\\ultratb.py\", line 792, in lines\n",
      "    return self._sd.lines\n",
      "           ^^^^^^^^^^^^^^\n",
      "  File \"C:\\Users\\Andrea\\anaconda3\\envs\\FindHR\\Lib\\site-packages\\stack_data\\utils.py\", line 145, in cached_property_wrapper\n",
      "    value = obj.__dict__[self.func.__name__] = self.func(obj)\n",
      "                                               ^^^^^^^^^^^^^^\n",
      "  File \"C:\\Users\\Andrea\\anaconda3\\envs\\FindHR\\Lib\\site-packages\\stack_data\\core.py\", line 698, in lines\n",
      "    pieces = self.included_pieces\n",
      "             ^^^^^^^^^^^^^^^^^^^^\n",
      "  File \"C:\\Users\\Andrea\\anaconda3\\envs\\FindHR\\Lib\\site-packages\\stack_data\\utils.py\", line 145, in cached_property_wrapper\n",
      "    value = obj.__dict__[self.func.__name__] = self.func(obj)\n",
      "                                               ^^^^^^^^^^^^^^\n",
      "  File \"C:\\Users\\Andrea\\anaconda3\\envs\\FindHR\\Lib\\site-packages\\stack_data\\core.py\", line 649, in included_pieces\n",
      "    pos = scope_pieces.index(self.executing_piece)\n",
      "                             ^^^^^^^^^^^^^^^^^^^^\n",
      "  File \"C:\\Users\\Andrea\\anaconda3\\envs\\FindHR\\Lib\\site-packages\\stack_data\\utils.py\", line 145, in cached_property_wrapper\n",
      "    value = obj.__dict__[self.func.__name__] = self.func(obj)\n",
      "                                               ^^^^^^^^^^^^^^\n",
      "  File \"C:\\Users\\Andrea\\anaconda3\\envs\\FindHR\\Lib\\site-packages\\stack_data\\core.py\", line 628, in executing_piece\n",
      "    return only(\n",
      "           ^^^^^\n",
      "  File \"C:\\Users\\Andrea\\anaconda3\\envs\\FindHR\\Lib\\site-packages\\executing\\executing.py\", line 164, in only\n",
      "    raise NotOneValueFound('Expected one value, found 0')\n",
      "executing.executing.NotOneValueFound: Expected one value, found 0\n"
     ]
    }
   ],
   "source": [
    "dataset = match.score_function(job_offers, curricula, **match_score_par, name=\"0\")"
   ],
   "metadata": {
    "collapsed": false,
    "ExecuteTime": {
     "end_time": "2023-11-28T17:12:03.963892400Z",
     "start_time": "2023-11-28T17:12:03.513868500Z"
    }
   },
   "id": "d39660e40d11948c"
  }
 ],
 "metadata": {
  "kernelspec": {
   "display_name": "Python 3",
   "language": "python",
   "name": "python3"
  },
  "language_info": {
   "codemirror_mode": {
    "name": "ipython",
    "version": 2
   },
   "file_extension": ".py",
   "mimetype": "text/x-python",
   "name": "python",
   "nbconvert_exporter": "python",
   "pygments_lexer": "ipython2",
   "version": "2.7.6"
  }
 },
 "nbformat": 4,
 "nbformat_minor": 5
}
