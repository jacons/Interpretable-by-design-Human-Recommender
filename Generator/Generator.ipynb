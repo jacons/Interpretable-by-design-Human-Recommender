{
 "cells": [
  {
   "cell_type": "code",
   "execution_count": 87,
   "outputs": [],
   "source": [
    "from Generator.parameters import *\n",
    "from Generator.JobGenerator import JobGenerator\n",
    "from Generator.MatchingScore import MatchingScore\n",
    "%reload_ext autoreload\n",
    "%autoreload 2"
   ],
   "metadata": {
    "collapsed": false,
    "ExecuteTime": {
     "end_time": "2023-11-01T11:35:20.870203100Z",
     "start_time": "2023-11-01T11:35:14.770308400Z"
    }
   },
   "id": "6b6c22f15096c2ef"
  },
  {
   "cell_type": "code",
   "execution_count": 88,
   "outputs": [],
   "source": [
    "gen = JobGenerator(**file_path)\n",
    "\n",
    "# curricula = gen.get_curricula(**curriculum_par)\n",
    "# offers = gen.get_offers(**jobOffer_par)"
   ],
   "metadata": {
    "collapsed": false,
    "ExecuteTime": {
     "end_time": "2023-11-01T11:35:22.568815200Z",
     "start_time": "2023-11-01T11:35:20.873669Z"
    }
   },
   "id": "f5e20e7e763a1122"
  },
  {
   "cell_type": "code",
   "execution_count": 99,
   "outputs": [
    {
     "data": {
      "text/plain": "'A1'"
     },
     "execution_count": 99,
     "metadata": {},
     "output_type": "execute_result"
    }
   ],
   "source": [
    "gen.languages_level.T.sample(weights=\"Arabic\").index.values[0]"
   ],
   "metadata": {
    "collapsed": false,
    "ExecuteTime": {
     "end_time": "2023-11-01T11:36:18.206638400Z",
     "start_time": "2023-11-01T11:36:16.917196300Z"
    }
   },
   "id": "5c37c8f7ae1bcc12"
  },
  {
   "cell_type": "code",
   "execution_count": 68,
   "outputs": [
    {
     "name": "stdout",
     "output_type": "stream",
     "text": [
      "[25 50 25  5  5 25 10  2  2  2  2]\n"
     ]
    }
   ],
   "source": [
    "gen.jobOffer()"
   ],
   "metadata": {
    "collapsed": false,
    "ExecuteTime": {
     "end_time": "2023-11-01T11:06:18.825385400Z",
     "start_time": "2023-11-01T11:06:17.821444600Z"
    }
   },
   "id": "4b7f7186edabd244"
  },
  {
   "cell_type": "code",
   "execution_count": 3,
   "outputs": [
    {
     "name": "stderr",
     "output_type": "stream",
     "text": [
      "100%|██████████| 15000/15000 [00:01<00:00, 10940.71it/s]\n"
     ]
    }
   ],
   "source": [
    "# matchingScore = MatchingScore(jobGenerator=gen, **matching_par)\n",
    "# \n",
    "# matrix_score = matchingScore.scoreFunction(offers, curricula, output_file=\"scores\")"
   ],
   "metadata": {
    "collapsed": false,
    "ExecuteTime": {
     "end_time": "2023-10-29T16:14:40.643697900Z",
     "start_time": "2023-10-29T16:14:37.660752100Z"
    }
   },
   "id": "c1731be5b73f6549"
  }
 ],
 "metadata": {
  "kernelspec": {
   "display_name": "Python 3",
   "language": "python",
   "name": "python3"
  },
  "language_info": {
   "codemirror_mode": {
    "name": "ipython",
    "version": 2
   },
   "file_extension": ".py",
   "mimetype": "text/x-python",
   "name": "python",
   "nbconvert_exporter": "python",
   "pygments_lexer": "ipython2",
   "version": "2.7.6"
  }
 },
 "nbformat": 4,
 "nbformat_minor": 5
}
