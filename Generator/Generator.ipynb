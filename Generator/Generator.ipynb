{
 "cells": [
  {
   "cell_type": "code",
   "execution_count": 1,
   "outputs": [],
   "source": [
    "from Class_utils.parameters import *\n",
    "from Class_utils.JobGraph import JobGraph\n",
    "from Class_utils.FitnessFunctions import FitnessFunctions\n",
    "from Generator.JobGenerator import JobGenerator\n",
    "from Generator.MatchingScore import MatchingScore\n",
    "\n",
    "\n",
    "%reload_ext autoreload\n",
    "%autoreload 2\n"
   ],
   "metadata": {
    "collapsed": false,
    "ExecuteTime": {
     "end_time": "2023-11-23T15:15:03.329401500Z",
     "start_time": "2023-11-23T15:15:01.123380100Z"
    }
   },
   "id": "6b6c22f15096c2ef"
  },
  {
   "cell_type": "code",
   "execution_count": 2,
   "outputs": [
    {
     "name": "stdout",
     "output_type": "stream",
     "text": [
      "Cache not found, building th graph...\n",
      "Data cleaning...done\n"
     ]
    },
    {
     "name": "stderr",
     "output_type": "stream",
     "text": [
      "Loading occupations: 100%|██████████| 2515/2515 [00:00<00:00, 256023.36it/s]\n",
      "Loading skills: 100%|██████████| 13896/13896 [00:00<00:00, 1414112.20it/s]\n",
      "Add relations: 100%|██████████| 108228/108228 [00:00<00:00, 365821.35it/s]\n"
     ]
    }
   ],
   "source": [
    "job_graph = JobGraph(file_paths, **job_graph_par)\n",
    "fitness_functions = FitnessFunctions(job_graph, file_paths)\n",
    "gen = JobGenerator(job_graph, file_paths)\n",
    "match = MatchingScore(job_graph,fitness_functions, **matching_par)"
   ],
   "metadata": {
    "collapsed": false,
    "ExecuteTime": {
     "end_time": "2023-11-23T15:15:09.206098300Z",
     "start_time": "2023-11-23T15:15:03.334010200Z"
    }
   },
   "id": "8cfba54bdd3062b6"
  },
  {
   "cell_type": "code",
   "execution_count": 3,
   "outputs": [
    {
     "name": "stderr",
     "output_type": "stream",
     "text": [
      "Generating the job-offers: 100%|██████████| 120/120 [00:00<00:00, 679.16it/s]\n",
      "Generating the curricula: 100%|██████████| 120/120 [00:15<00:00,  7.91it/s, qId=119]\n",
      "Generating the fitness scores: 100%|██████████| 120/120 [00:12<00:00,  9.95it/s, qId=119]\n"
     ]
    }
   ],
   "source": [
    "job_offers = gen.get_job_offers(**jobOffer_par, name=\"0\")\n",
    "curricula = gen.generate_cvs(job_offers, **curriculum_par, name=\"0\")\n",
    "dataset = match.score_function(job_offers, curricula, **match_score_par, name=\"0\")"
   ],
   "metadata": {
    "collapsed": false,
    "ExecuteTime": {
     "end_time": "2023-11-23T15:15:37.257306900Z",
     "start_time": "2023-11-23T15:15:09.209412400Z"
    }
   },
   "id": "4b7f7186edabd244"
  },
  {
   "cell_type": "code",
   "execution_count": 4,
   "outputs": [
    {
     "data": {
      "text/plain": "             score   w_score  relevance  fitness_edu_basic  fitness_edu_bonus  \\\nqId kId                                                                         \n0   0     4.680161  0.520281          3                1.0                0.0   \n    1     6.509453  0.635890          4                1.0                0.0   \n    2     4.302081  0.324111          2                1.0                0.0   \n    3     4.394269  0.490067          3                1.0                0.0   \n    4     4.998103  0.522795          3                1.0                0.0   \n...            ...       ...        ...                ...                ...   \n119 9409  3.069641  0.208395          1                1.0                0.5   \n    9410  2.227337  0.200764          1                1.0                0.5   \n    9411  1.680559  0.062755          0                1.0                0.0   \n    9412  2.127965  0.184561          1                1.0                0.0   \n    9413  2.428205  0.279905          1                1.0                0.5   \n\n          fitness_city  fitness_age  fitness_exp_basic  fitness_exp_bonus  \\\nqId kId                                                                     \n0   0         0.273370          1.0                0.0                0.0   \n    1         0.928515          1.0                0.0                0.0   \n    2         1.000000          1.0                0.0                0.0   \n    3         0.408484          1.0                0.0                0.0   \n    4         1.000000          0.0                0.0                0.0   \n...                ...          ...                ...                ...   \n119 9409      0.402200          1.0                0.0                0.0   \n    9410      0.427337          0.0                0.0                0.0   \n    9411      0.677926          0.0                0.0                0.0   \n    9412      0.827965          0.0                0.0                0.0   \n    9413      0.824038          0.0                0.0                0.0   \n\n          fitness_lang_basic  fitness_lang_bonus  fitness_comp_basic  \\\nqId kId                                                                \n0   0               0.000000                 0.3            0.993279   \n    1               1.000000                 0.3            1.000000   \n    2               0.000000                 0.3            0.370798   \n    3               0.000000                 0.3            1.000000   \n    4               1.000000                 0.3            1.000000   \n...                      ...                 ...                 ...   \n119 9409            0.166667                 0.0            0.000000   \n    9410            0.000000                 0.3            0.000000   \n    9411            0.000000                 0.0            0.000481   \n    9412            0.000000                 0.3            0.000000   \n    9413            0.104167                 0.0            0.000000   \n\n          fitness_comp_bonus  fitness_know_basic  fitness_knowl_bonus  \nqId kId                                                                \n0   0               0.078051            1.000000             0.035462  \n    1               0.084438            1.000000             0.196499  \n    2               0.073020            0.524803             0.033460  \n    3               0.087834            0.556671             0.041280  \n    4               0.080621            0.560811             0.056671  \n...                      ...                 ...                  ...  \n119 9409            0.000000            0.000775             0.000000  \n    9410            0.000000            0.000000             0.000000  \n    9411            0.000235            0.001074             0.000843  \n    9412            0.000000            0.000000             0.000000  \n    9413            0.000000            0.000000             0.000000  \n\n[9414 rows x 15 columns]",
      "text/html": "<div>\n<style scoped>\n    .dataframe tbody tr th:only-of-type {\n        vertical-align: middle;\n    }\n\n    .dataframe tbody tr th {\n        vertical-align: top;\n    }\n\n    .dataframe thead th {\n        text-align: right;\n    }\n</style>\n<table border=\"1\" class=\"dataframe\">\n  <thead>\n    <tr style=\"text-align: right;\">\n      <th></th>\n      <th></th>\n      <th>score</th>\n      <th>w_score</th>\n      <th>relevance</th>\n      <th>fitness_edu_basic</th>\n      <th>fitness_edu_bonus</th>\n      <th>fitness_city</th>\n      <th>fitness_age</th>\n      <th>fitness_exp_basic</th>\n      <th>fitness_exp_bonus</th>\n      <th>fitness_lang_basic</th>\n      <th>fitness_lang_bonus</th>\n      <th>fitness_comp_basic</th>\n      <th>fitness_comp_bonus</th>\n      <th>fitness_know_basic</th>\n      <th>fitness_knowl_bonus</th>\n    </tr>\n    <tr>\n      <th>qId</th>\n      <th>kId</th>\n      <th></th>\n      <th></th>\n      <th></th>\n      <th></th>\n      <th></th>\n      <th></th>\n      <th></th>\n      <th></th>\n      <th></th>\n      <th></th>\n      <th></th>\n      <th></th>\n      <th></th>\n      <th></th>\n      <th></th>\n    </tr>\n  </thead>\n  <tbody>\n    <tr>\n      <th rowspan=\"5\" valign=\"top\">0</th>\n      <th>0</th>\n      <td>4.680161</td>\n      <td>0.520281</td>\n      <td>3</td>\n      <td>1.0</td>\n      <td>0.0</td>\n      <td>0.273370</td>\n      <td>1.0</td>\n      <td>0.0</td>\n      <td>0.0</td>\n      <td>0.000000</td>\n      <td>0.3</td>\n      <td>0.993279</td>\n      <td>0.078051</td>\n      <td>1.000000</td>\n      <td>0.035462</td>\n    </tr>\n    <tr>\n      <th>1</th>\n      <td>6.509453</td>\n      <td>0.635890</td>\n      <td>4</td>\n      <td>1.0</td>\n      <td>0.0</td>\n      <td>0.928515</td>\n      <td>1.0</td>\n      <td>0.0</td>\n      <td>0.0</td>\n      <td>1.000000</td>\n      <td>0.3</td>\n      <td>1.000000</td>\n      <td>0.084438</td>\n      <td>1.000000</td>\n      <td>0.196499</td>\n    </tr>\n    <tr>\n      <th>2</th>\n      <td>4.302081</td>\n      <td>0.324111</td>\n      <td>2</td>\n      <td>1.0</td>\n      <td>0.0</td>\n      <td>1.000000</td>\n      <td>1.0</td>\n      <td>0.0</td>\n      <td>0.0</td>\n      <td>0.000000</td>\n      <td>0.3</td>\n      <td>0.370798</td>\n      <td>0.073020</td>\n      <td>0.524803</td>\n      <td>0.033460</td>\n    </tr>\n    <tr>\n      <th>3</th>\n      <td>4.394269</td>\n      <td>0.490067</td>\n      <td>3</td>\n      <td>1.0</td>\n      <td>0.0</td>\n      <td>0.408484</td>\n      <td>1.0</td>\n      <td>0.0</td>\n      <td>0.0</td>\n      <td>0.000000</td>\n      <td>0.3</td>\n      <td>1.000000</td>\n      <td>0.087834</td>\n      <td>0.556671</td>\n      <td>0.041280</td>\n    </tr>\n    <tr>\n      <th>4</th>\n      <td>4.998103</td>\n      <td>0.522795</td>\n      <td>3</td>\n      <td>1.0</td>\n      <td>0.0</td>\n      <td>1.000000</td>\n      <td>0.0</td>\n      <td>0.0</td>\n      <td>0.0</td>\n      <td>1.000000</td>\n      <td>0.3</td>\n      <td>1.000000</td>\n      <td>0.080621</td>\n      <td>0.560811</td>\n      <td>0.056671</td>\n    </tr>\n    <tr>\n      <th>...</th>\n      <th>...</th>\n      <td>...</td>\n      <td>...</td>\n      <td>...</td>\n      <td>...</td>\n      <td>...</td>\n      <td>...</td>\n      <td>...</td>\n      <td>...</td>\n      <td>...</td>\n      <td>...</td>\n      <td>...</td>\n      <td>...</td>\n      <td>...</td>\n      <td>...</td>\n      <td>...</td>\n    </tr>\n    <tr>\n      <th rowspan=\"5\" valign=\"top\">119</th>\n      <th>9409</th>\n      <td>3.069641</td>\n      <td>0.208395</td>\n      <td>1</td>\n      <td>1.0</td>\n      <td>0.5</td>\n      <td>0.402200</td>\n      <td>1.0</td>\n      <td>0.0</td>\n      <td>0.0</td>\n      <td>0.166667</td>\n      <td>0.0</td>\n      <td>0.000000</td>\n      <td>0.000000</td>\n      <td>0.000775</td>\n      <td>0.000000</td>\n    </tr>\n    <tr>\n      <th>9410</th>\n      <td>2.227337</td>\n      <td>0.200764</td>\n      <td>1</td>\n      <td>1.0</td>\n      <td>0.5</td>\n      <td>0.427337</td>\n      <td>0.0</td>\n      <td>0.0</td>\n      <td>0.0</td>\n      <td>0.000000</td>\n      <td>0.3</td>\n      <td>0.000000</td>\n      <td>0.000000</td>\n      <td>0.000000</td>\n      <td>0.000000</td>\n    </tr>\n    <tr>\n      <th>9411</th>\n      <td>1.680559</td>\n      <td>0.062755</td>\n      <td>0</td>\n      <td>1.0</td>\n      <td>0.0</td>\n      <td>0.677926</td>\n      <td>0.0</td>\n      <td>0.0</td>\n      <td>0.0</td>\n      <td>0.000000</td>\n      <td>0.0</td>\n      <td>0.000481</td>\n      <td>0.000235</td>\n      <td>0.001074</td>\n      <td>0.000843</td>\n    </tr>\n    <tr>\n      <th>9412</th>\n      <td>2.127965</td>\n      <td>0.184561</td>\n      <td>1</td>\n      <td>1.0</td>\n      <td>0.0</td>\n      <td>0.827965</td>\n      <td>0.0</td>\n      <td>0.0</td>\n      <td>0.0</td>\n      <td>0.000000</td>\n      <td>0.3</td>\n      <td>0.000000</td>\n      <td>0.000000</td>\n      <td>0.000000</td>\n      <td>0.000000</td>\n    </tr>\n    <tr>\n      <th>9413</th>\n      <td>2.428205</td>\n      <td>0.279905</td>\n      <td>1</td>\n      <td>1.0</td>\n      <td>0.5</td>\n      <td>0.824038</td>\n      <td>0.0</td>\n      <td>0.0</td>\n      <td>0.0</td>\n      <td>0.104167</td>\n      <td>0.0</td>\n      <td>0.000000</td>\n      <td>0.000000</td>\n      <td>0.000000</td>\n      <td>0.000000</td>\n    </tr>\n  </tbody>\n</table>\n<p>9414 rows × 15 columns</p>\n</div>"
     },
     "execution_count": 4,
     "metadata": {},
     "output_type": "execute_result"
    }
   ],
   "source": [
    "dataset"
   ],
   "metadata": {
    "collapsed": false,
    "ExecuteTime": {
     "end_time": "2023-11-23T15:15:37.349195100Z",
     "start_time": "2023-11-23T15:15:37.261069700Z"
    }
   },
   "id": "98a6cebbc2f906c6"
  },
  {
   "cell_type": "code",
   "execution_count": 4,
   "outputs": [],
   "source": [],
   "metadata": {
    "collapsed": false,
    "ExecuteTime": {
     "end_time": "2023-11-23T15:15:37.349195100Z",
     "start_time": "2023-11-23T15:15:37.344333600Z"
    }
   },
   "id": "d39660e40d11948c"
  }
 ],
 "metadata": {
  "kernelspec": {
   "display_name": "Python 3",
   "language": "python",
   "name": "python3"
  },
  "language_info": {
   "codemirror_mode": {
    "name": "ipython",
    "version": 2
   },
   "file_extension": ".py",
   "mimetype": "text/x-python",
   "name": "python",
   "nbconvert_exporter": "python",
   "pygments_lexer": "ipython2",
   "version": "2.7.6"
  }
 },
 "nbformat": 4,
 "nbformat_minor": 5
}
