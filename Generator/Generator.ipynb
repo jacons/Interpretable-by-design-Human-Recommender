{
 "cells": [
  {
   "cell_type": "code",
   "execution_count": 1,
   "outputs": [],
   "source": [
    "from Class_utils.parameters import *\n",
    "from Class_utils.JobGraph import JobGraph\n",
    "from Class_utils.FitnessFunctions import FitnessFunctions\n",
    "from Generator.JobGenerator import JobGenerator\n",
    "from Generator.MatchingScore import MatchingScore\n",
    "\n",
    "\n",
    "%reload_ext autoreload\n",
    "%autoreload 2"
   ],
   "metadata": {
    "collapsed": false,
    "ExecuteTime": {
     "end_time": "2023-12-21T20:23:10.663308900Z",
     "start_time": "2023-12-21T20:23:08.532971800Z"
    }
   },
   "id": "6b6c22f15096c2ef"
  },
  {
   "cell_type": "code",
   "execution_count": 2,
   "outputs": [
    {
     "name": "stdout",
     "output_type": "stream",
     "text": [
      "Cache not found, building th graph...\n",
      "Data cleaning...done\n"
     ]
    },
    {
     "name": "stderr",
     "output_type": "stream",
     "text": [
      "Loading occupations: 100%|██████████| 2515/2515 [00:00<00:00, 30499.84it/s]\n",
      "Loading skills: 100%|██████████| 13896/13896 [00:00<00:00, 690585.66it/s]\n",
      "Add relations: 100%|██████████| 108228/108228 [00:00<00:00, 376957.07it/s]\n"
     ]
    }
   ],
   "source": [
    "job_graph = JobGraph(file_paths, **job_graph_par)"
   ],
   "metadata": {
    "collapsed": false,
    "ExecuteTime": {
     "end_time": "2023-12-21T20:23:15.979365600Z",
     "start_time": "2023-12-21T20:23:10.666316300Z"
    }
   },
   "id": "56e00635f044f9d4"
  },
  {
   "cell_type": "code",
   "execution_count": 3,
   "outputs": [],
   "source": [
    "gen = JobGenerator(job_graph, file_paths)"
   ],
   "metadata": {
    "collapsed": false,
    "ExecuteTime": {
     "end_time": "2023-12-21T20:23:16.160008100Z",
     "start_time": "2023-12-21T20:23:15.981348Z"
    }
   },
   "id": "8cfba54bdd3062b6"
  },
  {
   "cell_type": "code",
   "execution_count": 4,
   "outputs": [
    {
     "name": "stderr",
     "output_type": "stream",
     "text": [
      "Generating the job-offers: 100%|██████████| 200/200 [00:00<00:00, 692.94it/s]\n",
      "Generating the curricula: 100%|██████████| 200/200 [00:24<00:00,  8.08it/s, qId=199]\n",
      "Updating with synonyms...: 100%|██████████| 140/140 [00:00<00:00, 6065.95it/s]\n",
      "Updating with synonyms...: 100%|██████████| 12052/12052 [00:01<00:00, 10566.46it/s]\n"
     ]
    }
   ],
   "source": [
    "job_offers = gen.get_job_offers(**jobOffer_par)\n",
    "curricula = gen.generate_cvs(job_offers, **curriculum_par)\n",
    "gen.upgrade_with_synonymous(\"offer\", job_offers, 0.7)\n",
    "gen.upgrade_with_synonymous(\"cv\", curricula, 0.75)\n",
    "gen.save_job_offers(**output_dir, offers=job_offers, name=\"default\")\n",
    "gen.save_curricula(**output_dir,curricula=curricula, name=\"default\")"
   ],
   "metadata": {
    "collapsed": false,
    "ExecuteTime": {
     "end_time": "2023-12-21T20:23:42.947612400Z",
     "start_time": "2023-12-21T20:23:16.163783900Z"
    }
   },
   "id": "57c5fcb6a831fea5"
  },
  {
   "cell_type": "code",
   "execution_count": 5,
   "outputs": [
    {
     "name": "stderr",
     "output_type": "stream",
     "text": [
      "Generating the fitness scores: 100%|██████████| 200/200 [00:30<00:00,  6.60it/s, qId=199]\n"
     ]
    }
   ],
   "source": [
    "match = MatchingScore(FitnessFunctions(file_paths,job_graph), **matching_par)\n",
    "_ = match.score_function(job_offers, curricula, **match_score_par, name=\"0\")"
   ],
   "metadata": {
    "collapsed": false,
    "ExecuteTime": {
     "end_time": "2023-12-21T20:24:14.672777900Z",
     "start_time": "2023-12-21T20:23:42.950298500Z"
    }
   },
   "id": "b9dbd387d6e083ea"
  },
  {
   "cell_type": "code",
   "execution_count": 6,
   "outputs": [
    {
     "name": "stderr",
     "output_type": "stream",
     "text": [
      "Generating the fitness scores: 100%|██████████| 200/200 [00:02<00:00, 93.07it/s, qId=199]\n"
     ]
    }
   ],
   "source": [
    "match = MatchingScore(FitnessFunctions(file_paths), **matching_par)\n",
    "_ = match.score_function(job_offers, curricula, **match_score_par, name=\"1\")"
   ],
   "metadata": {
    "collapsed": false,
    "ExecuteTime": {
     "end_time": "2023-12-21T20:24:18.252941500Z",
     "start_time": "2023-12-21T20:24:14.674783200Z"
    }
   },
   "id": "95454759b4656b42"
  },
  {
   "cell_type": "code",
   "execution_count": 7,
   "outputs": [],
   "source": [
    "# 0 with synonyms with job-grap\n",
    "# 1 with synonyms without job-graph"
   ],
   "metadata": {
    "collapsed": false,
    "ExecuteTime": {
     "end_time": "2023-12-21T20:24:18.315437300Z",
     "start_time": "2023-12-21T20:24:18.254623100Z"
    }
   },
   "id": "960d3a644bee40a"
  }
 ],
 "metadata": {
  "kernelspec": {
   "display_name": "Python 3",
   "language": "python",
   "name": "python3"
  },
  "language_info": {
   "codemirror_mode": {
    "name": "ipython",
    "version": 2
   },
   "file_extension": ".py",
   "mimetype": "text/x-python",
   "name": "python",
   "nbconvert_exporter": "python",
   "pygments_lexer": "ipython2",
   "version": "2.7.6"
  }
 },
 "nbformat": 4,
 "nbformat_minor": 5
}
