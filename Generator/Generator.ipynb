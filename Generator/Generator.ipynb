{
 "cells": [
  {
   "cell_type": "code",
   "execution_count": 1,
   "outputs": [],
   "source": [
    "import pandas as pd\n",
    "\n",
    "from Generator.parameters import *\n",
    "from Generator.JobGenerator import JobGenerator\n",
    "from Generator.MatchingScore import MatchingScore\n",
    "\n",
    "%reload_ext autoreload\n",
    "%autoreload 2\n"
   ],
   "metadata": {
    "collapsed": false,
    "ExecuteTime": {
     "end_time": "2023-11-11T17:21:33.616071300Z",
     "start_time": "2023-11-11T17:21:31.468410700Z"
    }
   },
   "id": "6b6c22f15096c2ef"
  },
  {
   "cell_type": "code",
   "execution_count": 2,
   "outputs": [],
   "source": [
    "gen = JobGenerator(file_paths)\n",
    "match = MatchingScore(gen,**matching_par)"
   ],
   "metadata": {
    "collapsed": false,
    "ExecuteTime": {
     "end_time": "2023-11-11T17:22:03.132514700Z",
     "start_time": "2023-11-11T17:21:33.616071300Z"
    }
   },
   "id": "f5e20e7e763a1122"
  },
  {
   "cell_type": "code",
   "execution_count": 3,
   "outputs": [
    {
     "name": "stdout",
     "output_type": "stream",
     "text": [
      "Generating the job-offers...\n"
     ]
    },
    {
     "name": "stderr",
     "output_type": "stream",
     "text": [
      "100%|██████████| 100/100 [00:01<00:00, 97.95it/s]\n"
     ]
    },
    {
     "name": "stdout",
     "output_type": "stream",
     "text": [
      "Generating the curricula...\n"
     ]
    },
    {
     "name": "stderr",
     "output_type": "stream",
     "text": [
      "100%|██████████| 100/100 [01:18<00:00,  1.28it/s, qId=99]\n"
     ]
    },
    {
     "name": "stdout",
     "output_type": "stream",
     "text": [
      "Generating the fitness score...\n"
     ]
    },
    {
     "name": "stderr",
     "output_type": "stream",
     "text": [
      "100%|██████████| 100/100 [00:08<00:00, 12.49it/s, qId=99]\n"
     ]
    }
   ],
   "source": [
    "job_offers = gen.get_offers(**jobOffer_par)\n",
    "curricula = gen.generate_cvs(job_offers,**curriculum_par)\n",
    "# gen.upgrade_with_synonymous(curricula,p=0)\n",
    "dataset = match.scoreFunction(job_offers, curricula, output_file=\"0\")"
   ],
   "metadata": {
    "collapsed": false,
    "ExecuteTime": {
     "end_time": "2023-11-11T17:23:31.072467100Z",
     "start_time": "2023-11-11T17:22:03.136872200Z"
    }
   },
   "id": "4b7f7186edabd244"
  },
  {
   "cell_type": "code",
   "execution_count": 4,
   "outputs": [
    {
     "data": {
      "text/plain": "                             Job Edu_essential Edu_optional  AgeMin  AgeMax  \\\nqId                                                                           \n0    tourism contract negotiator        Degree  Bachelor-D.      23      29   \n1                  circus artist        Degree  Bachelor-D.      19      24   \n2                 energy manager        Degree            -      19      32   \n3         miniature set designer        Degree  Bachelor-D.      21      32   \n4                        farrier        Degree            -      23      43   \n..                           ...           ...          ...     ...     ...   \n95    university department head     Master-D.            -      26      34   \n96              optical engineer        Degree  Bachelor-D.      22      39   \n97          e-learning developer        Degree            -      21      38   \n98          child welfare worker        Degree            -      21      30   \n99                  biophysicist        Degree  Bachelor-D.      19      28   \n\n                            City  \\\nqId                                \n0                         Milano   \n1    Militello in Val di Catania   \n2                          Mathi   \n3                        Bologna   \n4                  Finale Ligure   \n..                           ...   \n95                         Olbia   \n96                       Bologna   \n97                       Bolzano   \n98                    Rescaldina   \n99                         Lapio   \n\n                                 Competence_essential0  \\\nqId                                                      \n0            ensure contract termination and follow-up   \n1                          interact with fellow actors   \n2                  adhere to organisational guidelines   \n3                                   work ergonomically   \n4                              control animal movement   \n..                                                 ...   \n95                                     present reports   \n96                                    record test data   \n97                               create SCORM packages   \n98                          handle children's problems   \n99   increase the impact of science on policy and s...   \n\n                            Competence_essential1  \\\nqId                                                 \n0                    carry out inventory planning   \n1                      work with an artistic team   \n2           define manufacturing quality criteria   \n3                consult with production director   \n4    advise horse owners on farriery requirements   \n..                                            ...   \n95                   identify improvement actions   \n96                        test optical components   \n97                          structure information   \n98            adhere to organisational guidelines   \n99                    perform scientific research   \n\n                       Competence_essential2  \\\nqId                                            \n0              manage medium term objectives   \n1             coordinate artistic production   \n2                     define energy profiles   \n3                                          -   \n4    carry out post hoof-trimming activities   \n..                                       ...   \n95   provide information on study programmes   \n96               conduct literature research   \n97     develop digital educational materials   \n98             manage stress in organisation   \n99                                         -   \n\n                   Competence_essential3  ... Knowledge_optional1  \\\nqId                                       ...                       \n0               apply strategic thinking  ...                   -   \n1                                      -  ...                   -   \n2          advise on utility consumption  ...     gas consumption   \n3                                      -  ...                   -   \n4                                      -  ...                   -   \n..                                   ...  ...                 ...   \n95                advise on lesson plans  ...                   -   \n96                                     -  ...                   -   \n97            provide multimedia content  ...                   -   \n98   support harmed social service users  ...                   -   \n99                                     -  ...           osteology   \n\n               Knowledge_optional2 Language_essential0 Language_essential1  \\\nqId                                                                          \n0                                -             Italian                   -   \n1                                -             English              French   \n2    renewable energy technologies              German              French   \n3                                -              French              German   \n4                                -             Italian                   -   \n..                             ...                 ...                 ...   \n95                               -             Spanish                   -   \n96                               -             Italian             Spanish   \n97                               -             Spanish                   -   \n98                               -             English             Italian   \n99                               -             Italian                   -   \n\n    Language_optional0 Language_level0 Language_level1 Language_level2  \\\nqId                                                                      \n0                    -              C2               -               -   \n1                    -              B2              B1               -   \n2              English              A1              B2              C2   \n3                    -              B1              A2               -   \n4                    -              C2               -               -   \n..                 ...             ...             ...             ...   \n95                   -              B1               -               -   \n96             Chinese              C2              B1              A2   \n97             Italian              B1               -              C1   \n98                   -              C2              B2               -   \n99             Spanish              C2               -              A2   \n\n    Experience_essential Experience_optional  \nqId                                           \n0                      1               False  \n1                      -               False  \n2                      3                True  \n3                      3               False  \n4                      1                True  \n..                   ...                 ...  \n95                     1               False  \n96                     1               False  \n97                     2               False  \n98                     -               False  \n99                     -                True  \n\n[100 rows x 28 columns]",
      "text/html": "<div>\n<style scoped>\n    .dataframe tbody tr th:only-of-type {\n        vertical-align: middle;\n    }\n\n    .dataframe tbody tr th {\n        vertical-align: top;\n    }\n\n    .dataframe thead th {\n        text-align: right;\n    }\n</style>\n<table border=\"1\" class=\"dataframe\">\n  <thead>\n    <tr style=\"text-align: right;\">\n      <th></th>\n      <th>Job</th>\n      <th>Edu_essential</th>\n      <th>Edu_optional</th>\n      <th>AgeMin</th>\n      <th>AgeMax</th>\n      <th>City</th>\n      <th>Competence_essential0</th>\n      <th>Competence_essential1</th>\n      <th>Competence_essential2</th>\n      <th>Competence_essential3</th>\n      <th>...</th>\n      <th>Knowledge_optional1</th>\n      <th>Knowledge_optional2</th>\n      <th>Language_essential0</th>\n      <th>Language_essential1</th>\n      <th>Language_optional0</th>\n      <th>Language_level0</th>\n      <th>Language_level1</th>\n      <th>Language_level2</th>\n      <th>Experience_essential</th>\n      <th>Experience_optional</th>\n    </tr>\n    <tr>\n      <th>qId</th>\n      <th></th>\n      <th></th>\n      <th></th>\n      <th></th>\n      <th></th>\n      <th></th>\n      <th></th>\n      <th></th>\n      <th></th>\n      <th></th>\n      <th></th>\n      <th></th>\n      <th></th>\n      <th></th>\n      <th></th>\n      <th></th>\n      <th></th>\n      <th></th>\n      <th></th>\n      <th></th>\n      <th></th>\n    </tr>\n  </thead>\n  <tbody>\n    <tr>\n      <th>0</th>\n      <td>tourism contract negotiator</td>\n      <td>Degree</td>\n      <td>Bachelor-D.</td>\n      <td>23</td>\n      <td>29</td>\n      <td>Milano</td>\n      <td>ensure contract termination and follow-up</td>\n      <td>carry out inventory planning</td>\n      <td>manage medium term objectives</td>\n      <td>apply strategic thinking</td>\n      <td>...</td>\n      <td>-</td>\n      <td>-</td>\n      <td>Italian</td>\n      <td>-</td>\n      <td>-</td>\n      <td>C2</td>\n      <td>-</td>\n      <td>-</td>\n      <td>1</td>\n      <td>False</td>\n    </tr>\n    <tr>\n      <th>1</th>\n      <td>circus artist</td>\n      <td>Degree</td>\n      <td>Bachelor-D.</td>\n      <td>19</td>\n      <td>24</td>\n      <td>Militello in Val di Catania</td>\n      <td>interact with fellow actors</td>\n      <td>work with an artistic team</td>\n      <td>coordinate artistic production</td>\n      <td>-</td>\n      <td>...</td>\n      <td>-</td>\n      <td>-</td>\n      <td>English</td>\n      <td>French</td>\n      <td>-</td>\n      <td>B2</td>\n      <td>B1</td>\n      <td>-</td>\n      <td>-</td>\n      <td>False</td>\n    </tr>\n    <tr>\n      <th>2</th>\n      <td>energy manager</td>\n      <td>Degree</td>\n      <td>-</td>\n      <td>19</td>\n      <td>32</td>\n      <td>Mathi</td>\n      <td>adhere to organisational guidelines</td>\n      <td>define manufacturing quality criteria</td>\n      <td>define energy profiles</td>\n      <td>advise on utility consumption</td>\n      <td>...</td>\n      <td>gas consumption</td>\n      <td>renewable energy technologies</td>\n      <td>German</td>\n      <td>French</td>\n      <td>English</td>\n      <td>A1</td>\n      <td>B2</td>\n      <td>C2</td>\n      <td>3</td>\n      <td>True</td>\n    </tr>\n    <tr>\n      <th>3</th>\n      <td>miniature set designer</td>\n      <td>Degree</td>\n      <td>Bachelor-D.</td>\n      <td>21</td>\n      <td>32</td>\n      <td>Bologna</td>\n      <td>work ergonomically</td>\n      <td>consult with production director</td>\n      <td>-</td>\n      <td>-</td>\n      <td>...</td>\n      <td>-</td>\n      <td>-</td>\n      <td>French</td>\n      <td>German</td>\n      <td>-</td>\n      <td>B1</td>\n      <td>A2</td>\n      <td>-</td>\n      <td>3</td>\n      <td>False</td>\n    </tr>\n    <tr>\n      <th>4</th>\n      <td>farrier</td>\n      <td>Degree</td>\n      <td>-</td>\n      <td>23</td>\n      <td>43</td>\n      <td>Finale Ligure</td>\n      <td>control animal movement</td>\n      <td>advise horse owners on farriery requirements</td>\n      <td>carry out post hoof-trimming activities</td>\n      <td>-</td>\n      <td>...</td>\n      <td>-</td>\n      <td>-</td>\n      <td>Italian</td>\n      <td>-</td>\n      <td>-</td>\n      <td>C2</td>\n      <td>-</td>\n      <td>-</td>\n      <td>1</td>\n      <td>True</td>\n    </tr>\n    <tr>\n      <th>...</th>\n      <td>...</td>\n      <td>...</td>\n      <td>...</td>\n      <td>...</td>\n      <td>...</td>\n      <td>...</td>\n      <td>...</td>\n      <td>...</td>\n      <td>...</td>\n      <td>...</td>\n      <td>...</td>\n      <td>...</td>\n      <td>...</td>\n      <td>...</td>\n      <td>...</td>\n      <td>...</td>\n      <td>...</td>\n      <td>...</td>\n      <td>...</td>\n      <td>...</td>\n      <td>...</td>\n    </tr>\n    <tr>\n      <th>95</th>\n      <td>university department head</td>\n      <td>Master-D.</td>\n      <td>-</td>\n      <td>26</td>\n      <td>34</td>\n      <td>Olbia</td>\n      <td>present reports</td>\n      <td>identify improvement actions</td>\n      <td>provide information on study programmes</td>\n      <td>advise on lesson plans</td>\n      <td>...</td>\n      <td>-</td>\n      <td>-</td>\n      <td>Spanish</td>\n      <td>-</td>\n      <td>-</td>\n      <td>B1</td>\n      <td>-</td>\n      <td>-</td>\n      <td>1</td>\n      <td>False</td>\n    </tr>\n    <tr>\n      <th>96</th>\n      <td>optical engineer</td>\n      <td>Degree</td>\n      <td>Bachelor-D.</td>\n      <td>22</td>\n      <td>39</td>\n      <td>Bologna</td>\n      <td>record test data</td>\n      <td>test optical components</td>\n      <td>conduct literature research</td>\n      <td>-</td>\n      <td>...</td>\n      <td>-</td>\n      <td>-</td>\n      <td>Italian</td>\n      <td>Spanish</td>\n      <td>Chinese</td>\n      <td>C2</td>\n      <td>B1</td>\n      <td>A2</td>\n      <td>1</td>\n      <td>False</td>\n    </tr>\n    <tr>\n      <th>97</th>\n      <td>e-learning developer</td>\n      <td>Degree</td>\n      <td>-</td>\n      <td>21</td>\n      <td>38</td>\n      <td>Bolzano</td>\n      <td>create SCORM packages</td>\n      <td>structure information</td>\n      <td>develop digital educational materials</td>\n      <td>provide multimedia content</td>\n      <td>...</td>\n      <td>-</td>\n      <td>-</td>\n      <td>Spanish</td>\n      <td>-</td>\n      <td>Italian</td>\n      <td>B1</td>\n      <td>-</td>\n      <td>C1</td>\n      <td>2</td>\n      <td>False</td>\n    </tr>\n    <tr>\n      <th>98</th>\n      <td>child welfare worker</td>\n      <td>Degree</td>\n      <td>-</td>\n      <td>21</td>\n      <td>30</td>\n      <td>Rescaldina</td>\n      <td>handle children's problems</td>\n      <td>adhere to organisational guidelines</td>\n      <td>manage stress in organisation</td>\n      <td>support harmed social service users</td>\n      <td>...</td>\n      <td>-</td>\n      <td>-</td>\n      <td>English</td>\n      <td>Italian</td>\n      <td>-</td>\n      <td>C2</td>\n      <td>B2</td>\n      <td>-</td>\n      <td>-</td>\n      <td>False</td>\n    </tr>\n    <tr>\n      <th>99</th>\n      <td>biophysicist</td>\n      <td>Degree</td>\n      <td>Bachelor-D.</td>\n      <td>19</td>\n      <td>28</td>\n      <td>Lapio</td>\n      <td>increase the impact of science on policy and s...</td>\n      <td>perform scientific research</td>\n      <td>-</td>\n      <td>-</td>\n      <td>...</td>\n      <td>osteology</td>\n      <td>-</td>\n      <td>Italian</td>\n      <td>-</td>\n      <td>Spanish</td>\n      <td>C2</td>\n      <td>-</td>\n      <td>A2</td>\n      <td>-</td>\n      <td>True</td>\n    </tr>\n  </tbody>\n</table>\n<p>100 rows × 28 columns</p>\n</div>"
     },
     "execution_count": 4,
     "metadata": {},
     "output_type": "execute_result"
    }
   ],
   "source": [
    "job_offers"
   ],
   "metadata": {
    "collapsed": false,
    "ExecuteTime": {
     "end_time": "2023-11-11T17:23:31.158986400Z",
     "start_time": "2023-11-11T17:23:31.073467200Z"
    }
   },
   "id": "2209bea91c2b9f99"
  },
  {
   "cell_type": "code",
   "execution_count": 5,
   "outputs": [
    {
     "data": {
      "text/plain": "      qId   kId  Education  Age                  City  JobRange  \\\n0       0     0     Degree   24               Bolzano        30   \n1       0     1     Degree   25                Milano        70   \n2       0     2     Degree   28              Piombino        30   \n3       0     3     Degree   28               Mantova        80   \n4       0     4     Degree   25                  Vita        90   \n...   ...   ...        ...  ...                   ...       ...   \n7754   99  7754  Master-D.   43        Figino Serenza        80   \n7755   99  7755     Degree   17                Milano        90   \n7756   99  7756     Degree   59                Milano        30   \n7757   99  7757     Degree   19               Rotondi        90   \n7758   99  7758     Degree   36  Gricignano di Aversa        90   \n\n                                   Competences0  \\\n0            perform contract compliance audits   \n1                       perform market research   \n2                               negotiate price   \n3                 manage medium term objectives   \n4     ensure contract termination and follow-up   \n...                                         ...   \n7754                             manage budgets   \n7755                 write work-related reports   \n7756                    use e-tourism platforms   \n7757              write scientific publications   \n7758            identify airport safety hazards   \n\n                                   Competences1  \\\n0                monitor contractor performance   \n1     ensure contract termination and follow-up   \n2                 manage medium term objectives   \n3     ensure contract termination and follow-up   \n4                  carry out inventory planning   \n...                                         ...   \n7754                control financial resources   \n7755                   write signalling reports   \n7756             educate on sustainable tourism   \n7757                provide technical expertise   \n7758                                          -   \n\n                                   Competences2  \\\n0                 manage medium term objectives   \n1                      develop tourism products   \n2     ensure contract termination and follow-up   \n3                  carry out inventory planning   \n4                      apply strategic thinking   \n...                                         ...   \n7754                 analyse business processes   \n7755                   work in an aviation team   \n7756                                          -   \n7757                 provide career counselling   \n7758                                          -   \n\n                                   Competences3  ...  \\\n0     ensure contract termination and follow-up  ...   \n1                  carry out inventory planning  ...   \n2                  carry out inventory planning  ...   \n3                                             -  ...   \n4                                             -  ...   \n...                                         ...  ...   \n7754                                          -  ...   \n7755                            use ICT systems  ...   \n7756                                          -  ...   \n7757        promote open innovation in research  ...   \n7758                                          -  ...   \n\n                             Knowledge4 Knowledge5 Knowledge6 Language0  \\\n0                                     -          -          -   Italian   \n1                                     -          -          -   Italian   \n2                                     -          -          -   Italian   \n3                                     -          -          -   Italian   \n4                                     -          -          -   Italian   \n...                                 ...        ...        ...       ...   \n7754                                  -          -          -    French   \n7755                                  -          -          -         -   \n7756                                  -          -          -         -   \n7757  clinical disciplines in dentistry          -          -   Italian   \n7758                                  -          -          -    French   \n\n     Language1 Language2 Language_level0 Language_level1 Language_level2  \\\n0      Chinese    French              C2              A1              A2   \n1       Arabic  Romanian              C2              A1              A1   \n2      English  Albanian              C2              B2              A1   \n3      Spanish         -              C2              B2               -   \n4      English         -              C2              B2               -   \n...        ...       ...             ...             ...             ...   \n7754   Spanish         -              B2              B2               -   \n7755         -         -               -               -               -   \n7756         -         -               -               -               -   \n7757         -         -              C2               -               -   \n7758   English    Arabic              A2              A1              A1   \n\n     Experience  \n0             3  \n1             3  \n2             4  \n3             4  \n4             2  \n...         ...  \n7754          3  \n7755          0  \n7756          3  \n7757          1  \n7758          0  \n\n[7759 rows x 27 columns]",
      "text/html": "<div>\n<style scoped>\n    .dataframe tbody tr th:only-of-type {\n        vertical-align: middle;\n    }\n\n    .dataframe tbody tr th {\n        vertical-align: top;\n    }\n\n    .dataframe thead th {\n        text-align: right;\n    }\n</style>\n<table border=\"1\" class=\"dataframe\">\n  <thead>\n    <tr style=\"text-align: right;\">\n      <th></th>\n      <th>qId</th>\n      <th>kId</th>\n      <th>Education</th>\n      <th>Age</th>\n      <th>City</th>\n      <th>JobRange</th>\n      <th>Competences0</th>\n      <th>Competences1</th>\n      <th>Competences2</th>\n      <th>Competences3</th>\n      <th>...</th>\n      <th>Knowledge4</th>\n      <th>Knowledge5</th>\n      <th>Knowledge6</th>\n      <th>Language0</th>\n      <th>Language1</th>\n      <th>Language2</th>\n      <th>Language_level0</th>\n      <th>Language_level1</th>\n      <th>Language_level2</th>\n      <th>Experience</th>\n    </tr>\n  </thead>\n  <tbody>\n    <tr>\n      <th>0</th>\n      <td>0</td>\n      <td>0</td>\n      <td>Degree</td>\n      <td>24</td>\n      <td>Bolzano</td>\n      <td>30</td>\n      <td>perform contract compliance audits</td>\n      <td>monitor contractor performance</td>\n      <td>manage medium term objectives</td>\n      <td>ensure contract termination and follow-up</td>\n      <td>...</td>\n      <td>-</td>\n      <td>-</td>\n      <td>-</td>\n      <td>Italian</td>\n      <td>Chinese</td>\n      <td>French</td>\n      <td>C2</td>\n      <td>A1</td>\n      <td>A2</td>\n      <td>3</td>\n    </tr>\n    <tr>\n      <th>1</th>\n      <td>0</td>\n      <td>1</td>\n      <td>Degree</td>\n      <td>25</td>\n      <td>Milano</td>\n      <td>70</td>\n      <td>perform market research</td>\n      <td>ensure contract termination and follow-up</td>\n      <td>develop tourism products</td>\n      <td>carry out inventory planning</td>\n      <td>...</td>\n      <td>-</td>\n      <td>-</td>\n      <td>-</td>\n      <td>Italian</td>\n      <td>Arabic</td>\n      <td>Romanian</td>\n      <td>C2</td>\n      <td>A1</td>\n      <td>A1</td>\n      <td>3</td>\n    </tr>\n    <tr>\n      <th>2</th>\n      <td>0</td>\n      <td>2</td>\n      <td>Degree</td>\n      <td>28</td>\n      <td>Piombino</td>\n      <td>30</td>\n      <td>negotiate price</td>\n      <td>manage medium term objectives</td>\n      <td>ensure contract termination and follow-up</td>\n      <td>carry out inventory planning</td>\n      <td>...</td>\n      <td>-</td>\n      <td>-</td>\n      <td>-</td>\n      <td>Italian</td>\n      <td>English</td>\n      <td>Albanian</td>\n      <td>C2</td>\n      <td>B2</td>\n      <td>A1</td>\n      <td>4</td>\n    </tr>\n    <tr>\n      <th>3</th>\n      <td>0</td>\n      <td>3</td>\n      <td>Degree</td>\n      <td>28</td>\n      <td>Mantova</td>\n      <td>80</td>\n      <td>manage medium term objectives</td>\n      <td>ensure contract termination and follow-up</td>\n      <td>carry out inventory planning</td>\n      <td>-</td>\n      <td>...</td>\n      <td>-</td>\n      <td>-</td>\n      <td>-</td>\n      <td>Italian</td>\n      <td>Spanish</td>\n      <td>-</td>\n      <td>C2</td>\n      <td>B2</td>\n      <td>-</td>\n      <td>4</td>\n    </tr>\n    <tr>\n      <th>4</th>\n      <td>0</td>\n      <td>4</td>\n      <td>Degree</td>\n      <td>25</td>\n      <td>Vita</td>\n      <td>90</td>\n      <td>ensure contract termination and follow-up</td>\n      <td>carry out inventory planning</td>\n      <td>apply strategic thinking</td>\n      <td>-</td>\n      <td>...</td>\n      <td>-</td>\n      <td>-</td>\n      <td>-</td>\n      <td>Italian</td>\n      <td>English</td>\n      <td>-</td>\n      <td>C2</td>\n      <td>B2</td>\n      <td>-</td>\n      <td>2</td>\n    </tr>\n    <tr>\n      <th>...</th>\n      <td>...</td>\n      <td>...</td>\n      <td>...</td>\n      <td>...</td>\n      <td>...</td>\n      <td>...</td>\n      <td>...</td>\n      <td>...</td>\n      <td>...</td>\n      <td>...</td>\n      <td>...</td>\n      <td>...</td>\n      <td>...</td>\n      <td>...</td>\n      <td>...</td>\n      <td>...</td>\n      <td>...</td>\n      <td>...</td>\n      <td>...</td>\n      <td>...</td>\n      <td>...</td>\n    </tr>\n    <tr>\n      <th>7754</th>\n      <td>99</td>\n      <td>7754</td>\n      <td>Master-D.</td>\n      <td>43</td>\n      <td>Figino Serenza</td>\n      <td>80</td>\n      <td>manage budgets</td>\n      <td>control financial resources</td>\n      <td>analyse business processes</td>\n      <td>-</td>\n      <td>...</td>\n      <td>-</td>\n      <td>-</td>\n      <td>-</td>\n      <td>French</td>\n      <td>Spanish</td>\n      <td>-</td>\n      <td>B2</td>\n      <td>B2</td>\n      <td>-</td>\n      <td>3</td>\n    </tr>\n    <tr>\n      <th>7755</th>\n      <td>99</td>\n      <td>7755</td>\n      <td>Degree</td>\n      <td>17</td>\n      <td>Milano</td>\n      <td>90</td>\n      <td>write work-related reports</td>\n      <td>write signalling reports</td>\n      <td>work in an aviation team</td>\n      <td>use ICT systems</td>\n      <td>...</td>\n      <td>-</td>\n      <td>-</td>\n      <td>-</td>\n      <td>-</td>\n      <td>-</td>\n      <td>-</td>\n      <td>-</td>\n      <td>-</td>\n      <td>-</td>\n      <td>0</td>\n    </tr>\n    <tr>\n      <th>7756</th>\n      <td>99</td>\n      <td>7756</td>\n      <td>Degree</td>\n      <td>59</td>\n      <td>Milano</td>\n      <td>30</td>\n      <td>use e-tourism platforms</td>\n      <td>educate on sustainable tourism</td>\n      <td>-</td>\n      <td>-</td>\n      <td>...</td>\n      <td>-</td>\n      <td>-</td>\n      <td>-</td>\n      <td>-</td>\n      <td>-</td>\n      <td>-</td>\n      <td>-</td>\n      <td>-</td>\n      <td>-</td>\n      <td>3</td>\n    </tr>\n    <tr>\n      <th>7757</th>\n      <td>99</td>\n      <td>7757</td>\n      <td>Degree</td>\n      <td>19</td>\n      <td>Rotondi</td>\n      <td>90</td>\n      <td>write scientific publications</td>\n      <td>provide technical expertise</td>\n      <td>provide career counselling</td>\n      <td>promote open innovation in research</td>\n      <td>...</td>\n      <td>clinical disciplines in dentistry</td>\n      <td>-</td>\n      <td>-</td>\n      <td>Italian</td>\n      <td>-</td>\n      <td>-</td>\n      <td>C2</td>\n      <td>-</td>\n      <td>-</td>\n      <td>1</td>\n    </tr>\n    <tr>\n      <th>7758</th>\n      <td>99</td>\n      <td>7758</td>\n      <td>Degree</td>\n      <td>36</td>\n      <td>Gricignano di Aversa</td>\n      <td>90</td>\n      <td>identify airport safety hazards</td>\n      <td>-</td>\n      <td>-</td>\n      <td>-</td>\n      <td>...</td>\n      <td>-</td>\n      <td>-</td>\n      <td>-</td>\n      <td>French</td>\n      <td>English</td>\n      <td>Arabic</td>\n      <td>A2</td>\n      <td>A1</td>\n      <td>A1</td>\n      <td>0</td>\n    </tr>\n  </tbody>\n</table>\n<p>7759 rows × 27 columns</p>\n</div>"
     },
     "execution_count": 5,
     "metadata": {},
     "output_type": "execute_result"
    }
   ],
   "source": [
    "curricula"
   ],
   "metadata": {
    "collapsed": false,
    "ExecuteTime": {
     "end_time": "2023-11-11T17:23:31.477239Z",
     "start_time": "2023-11-11T17:23:31.158986400Z"
    }
   },
   "id": "2f6cf599f714658d"
  },
  {
   "cell_type": "code",
   "execution_count": 6,
   "outputs": [],
   "source": [
    "# Pandas(\n",
    "#     0 Index=0,\n",
    "#     1 Job='child care social worker',\n",
    "#     2 Edu_essential='Degree',\n",
    "#     3 Edu_optional='Bachelor-D.',\n",
    "#     4 AgeMin=23,\n",
    "#     5 AgeMax=33,\n",
    "#     6 City='Catania',\n",
    "#     7 Competence_essential0='develop professional network',\n",
    "#     8 Competence_essential1='follow health and safety precautions in social care practices',\n",
    "#     9 Competence_essential2='review social service plan',\n",
    "#     10 Competence_essential3='-',\n",
    "#     11 Competence_optional0='-', \n",
    "#     12 Competence_optional1='-', \n",
    "#     13 Competence_optional2='-', \n",
    "#     14 Knowledge_essential0='adolescent psychological development',\n",
    "#     15 Knowledge_essential1='social sciences',\n",
    "#     16 Knowledge_essential2='social justice', \n",
    "#     17 Knowledge_essential3='legal requirements in the social sector',\n",
    "#     18 Knowledge_optional0='-',\n",
    "#     19 Knowledge_optional1='-', \n",
    "#     20 Knowledge_optional2='-',\n",
    "#     21 Language_essential0='English',\n",
    "#     22 Language_essential1='-', \n",
    "#     23 Language_optional0='-',\n",
    "#     24 Language_level0='A2',\n",
    "#     25 Language_level1='-',\n",
    "#     26 Language_level2='-',\n",
    "#     27 Experience_essential=2,\n",
    "#     28 Experience_optional=False)"
   ],
   "metadata": {
    "collapsed": false,
    "ExecuteTime": {
     "end_time": "2023-11-11T17:23:31.478239400Z",
     "start_time": "2023-11-11T17:23:31.247053200Z"
    }
   },
   "id": "d837b5f5c3d40f7f"
  },
  {
   "cell_type": "code",
   "execution_count": 7,
   "outputs": [],
   "source": [
    "# Pandas(\n",
    "#     0 Index=0,\n",
    "#     1 qId=0,\n",
    "#     2 kId=0,\n",
    "#     3 Education='Master-D.',\n",
    "#     4 Age=30,\n",
    "#     5 City='Catania',\n",
    "#     6 JobRange=40,\n",
    "#     7 Competences0='support the positiveness of youths',\n",
    "#     8 Competences1=\"support children's wellbeing\",\n",
    "#     9 Competences2='meet standards of practice in social services',\n",
    "#     10 Competences3='follow health and safety precautions in social care practices',\n",
    "#     11 Competences4='contribute to protecting individuals from harm',\n",
    "#     12 Competences5='-', \n",
    "#     13 Competences6='-', \n",
    "#     14 Knowledge0='social sciences',\n",
    "#     15 Knowledge1='social justice',\n",
    "#     16 Knowledge2=\"older adults' needs\", \n",
    "#     17 Knowledge3='adolescent psychological development',\n",
    "#     18 Knowledge4='adolescent psychological development',\n",
    "#     19 Knowledge5='-',\n",
    "#     20 Knowledge6='-', \n",
    "#     21 Language0='English',\n",
    "#     22 Language1='-', \n",
    "#     23 Language2='-', \n",
    "#     24 Language_level0='A2',\n",
    "#     25 Language_level1='-',\n",
    "#     26 Language_level2='-', \n",
    "#     27 Experience=2)"
   ],
   "metadata": {
    "collapsed": false,
    "ExecuteTime": {
     "end_time": "2023-11-11T17:23:31.478239400Z",
     "start_time": "2023-11-11T17:23:31.367389500Z"
    }
   },
   "id": "f68d8a9071cb225"
  }
 ],
 "metadata": {
  "kernelspec": {
   "display_name": "Python 3",
   "language": "python",
   "name": "python3"
  },
  "language_info": {
   "codemirror_mode": {
    "name": "ipython",
    "version": 2
   },
   "file_extension": ".py",
   "mimetype": "text/x-python",
   "name": "python",
   "nbconvert_exporter": "python",
   "pygments_lexer": "ipython2",
   "version": "2.7.6"
  }
 },
 "nbformat": 4,
 "nbformat_minor": 5
}
