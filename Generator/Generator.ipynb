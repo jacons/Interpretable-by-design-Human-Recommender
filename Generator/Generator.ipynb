{
 "cells": [
  {
   "cell_type": "code",
   "execution_count": 11,
   "outputs": [],
   "source": [
    "from Class_utils.parameters import *\n",
    "from Class_utils.JobGraph import JobGraph\n",
    "from Generator.JobGenerator import JobGenerator\n",
    "from Generator.MatchingScore import MatchingScore\n",
    "from Class_utils.FitnessFunctions import FitnessFunctions\n",
    "\n",
    "%reload_ext autoreload\n",
    "%autoreload 2\n"
   ],
   "metadata": {
    "collapsed": false,
    "ExecuteTime": {
     "end_time": "2023-11-12T17:07:16.896541800Z",
     "start_time": "2023-11-12T17:07:16.713119300Z"
    }
   },
   "id": "6b6c22f15096c2ef"
  },
  {
   "cell_type": "code",
   "execution_count": 12,
   "outputs": [],
   "source": [
    "job_graph = JobGraph(file_paths)\n",
    "fitness_functions = FitnessFunctions(job_graph, file_paths)\n",
    "gen = JobGenerator(job_graph, file_paths)\n",
    "match = MatchingScore(job_graph,fitness_functions, **matching_par)"
   ],
   "metadata": {
    "collapsed": false,
    "ExecuteTime": {
     "end_time": "2023-11-12T17:07:50.122200500Z",
     "start_time": "2023-11-12T17:07:18.017196Z"
    }
   },
   "id": "8cfba54bdd3062b6"
  },
  {
   "cell_type": "code",
   "execution_count": 15,
   "outputs": [
    {
     "name": "stdout",
     "output_type": "stream",
     "text": [
      "Generating the fitness score...\n"
     ]
    },
    {
     "name": "stderr",
     "output_type": "stream",
     "text": [
      "100%|██████████| 120/120 [00:09<00:00, 12.22it/s, qId=119]\n"
     ]
    }
   ],
   "source": [
    "job_offers = gen.get_offers(**jobOffer_par)\n",
    "curricula = gen.generate_cvs(job_offers, **curriculum_par)\n",
    "dataset = match.score_function(job_offers, curricula, output_file=\"0\")"
   ],
   "metadata": {
    "collapsed": false,
    "ExecuteTime": {
     "end_time": "2023-11-12T17:10:28.319150600Z",
     "start_time": "2023-11-12T17:10:17.965887700Z"
    }
   },
   "id": "4b7f7186edabd244"
  },
  {
   "cell_type": "code",
   "execution_count": null,
   "outputs": [],
   "source": [
    "job_offers"
   ],
   "metadata": {
    "collapsed": false,
    "ExecuteTime": {
     "start_time": "2023-11-12T17:03:00.664446600Z"
    }
   },
   "id": "2209bea91c2b9f99"
  },
  {
   "cell_type": "code",
   "execution_count": null,
   "outputs": [],
   "source": [
    "curricula"
   ],
   "metadata": {
    "collapsed": false,
    "ExecuteTime": {
     "start_time": "2023-11-12T17:03:00.666999400Z"
    }
   },
   "id": "2f6cf599f714658d"
  },
  {
   "cell_type": "code",
   "execution_count": null,
   "outputs": [],
   "source": [
    "# Pandas(\n",
    "#     0 Index=0,\n",
    "#     1 Job='child care social worker',\n",
    "#     2 Edu_essential='Degree',\n",
    "#     3 Edu_optional='Bachelor-D.',\n",
    "#     4 AgeMin=23,\n",
    "#     5 AgeMax=33,\n",
    "#     6 City='Catania',\n",
    "#     7 Competence_essential0='develop professional network',\n",
    "#     8 Competence_essential1='follow health and safety precautions in social care practices',\n",
    "#     9 Competence_essential2='review social service plan',\n",
    "#     10 Competence_essential3='-',\n",
    "#     11 Competence_optional0='-', \n",
    "#     12 Competence_optional1='-', \n",
    "#     13 Competence_optional2='-', \n",
    "#     14 Knowledge_essential0='adolescent psychological development',\n",
    "#     15 Knowledge_essential1='social sciences',\n",
    "#     16 Knowledge_essential2='social justice', \n",
    "#     17 Knowledge_essential3='legal requirements in the social sector',\n",
    "#     18 Knowledge_optional0='-',\n",
    "#     19 Knowledge_optional1='-', \n",
    "#     20 Knowledge_optional2='-',\n",
    "#     21 Language_essential0='English',\n",
    "#     22 Language_essential1='-', \n",
    "#     23 Language_optional0='-',\n",
    "#     24 Language_level0='A2',\n",
    "#     25 Language_level1='-',\n",
    "#     26 Language_level2='-',\n",
    "#     27 Experience_essential=2,\n",
    "#     28 Experience_optional=False)"
   ],
   "metadata": {
    "collapsed": false,
    "ExecuteTime": {
     "start_time": "2023-11-12T17:03:00.666999400Z"
    }
   },
   "id": "d837b5f5c3d40f7f"
  },
  {
   "cell_type": "code",
   "execution_count": null,
   "outputs": [],
   "source": [
    "# Pandas(\n",
    "#     0 Index=0,\n",
    "#     1 qId=0,\n",
    "#     2 kId=0,\n",
    "#     3 Education='Master-D.',\n",
    "#     4 Age=30,\n",
    "#     5 City='Catania',\n",
    "#     6 JobRange=40,\n",
    "#     7 Competences0='support the positiveness of youths',\n",
    "#     8 Competences1=\"support children's wellbeing\",\n",
    "#     9 Competences2='meet standards of practice in social services',\n",
    "#     10 Competences3='follow health and safety precautions in social care practices',\n",
    "#     11 Competences4='contribute to protecting individuals from harm',\n",
    "#     12 Competences5='-', \n",
    "#     13 Competences6='-', \n",
    "#     14 Knowledge0='social sciences',\n",
    "#     15 Knowledge1='social justice',\n",
    "#     16 Knowledge2=\"older adults' needs\", \n",
    "#     17 Knowledge3='adolescent psychological development',\n",
    "#     18 Knowledge4='adolescent psychological development',\n",
    "#     19 Knowledge5='-',\n",
    "#     20 Knowledge6='-', \n",
    "#     21 Language0='English',\n",
    "#     22 Language1='-', \n",
    "#     23 Language2='-', \n",
    "#     24 Language_level0='A2',\n",
    "#     25 Language_level1='-',\n",
    "#     26 Language_level2='-', \n",
    "#     27 Experience=2)"
   ],
   "metadata": {
    "collapsed": false,
    "ExecuteTime": {
     "start_time": "2023-11-12T17:03:00.666999400Z"
    }
   },
   "id": "f68d8a9071cb225"
  },
  {
   "cell_type": "code",
   "execution_count": null,
   "outputs": [],
   "source": [
    "gen.education[\"Education\"].to_dict()"
   ],
   "metadata": {
    "collapsed": false,
    "ExecuteTime": {
     "start_time": "2023-11-12T17:03:00.673617300Z"
    }
   },
   "id": "5d350f90335fba08"
  }
 ],
 "metadata": {
  "kernelspec": {
   "display_name": "Python 3",
   "language": "python",
   "name": "python3"
  },
  "language_info": {
   "codemirror_mode": {
    "name": "ipython",
    "version": 2
   },
   "file_extension": ".py",
   "mimetype": "text/x-python",
   "name": "python",
   "nbconvert_exporter": "python",
   "pygments_lexer": "ipython2",
   "version": "2.7.6"
  }
 },
 "nbformat": 4,
 "nbformat_minor": 5
}
