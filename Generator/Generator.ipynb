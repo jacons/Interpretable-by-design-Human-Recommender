{
 "cells": [
  {
   "cell_type": "code",
   "execution_count": 11,
   "outputs": [],
   "source": [
    "from Class_utils.parameters import *\n",
    "from Class_utils.JobGraph import JobGraph\n",
    "from Class_utils.FitnessFunctions import FitnessFunctions\n",
    "from Generator.JobGenerator import JobGenerator\n",
    "from Generator.MatchingScore import MatchingScore\n",
    "\n",
    "\n",
    "%reload_ext autoreload\n",
    "%autoreload 2\n"
   ],
   "metadata": {
    "collapsed": false,
    "ExecuteTime": {
     "end_time": "2023-11-18T13:47:32.769260900Z",
     "start_time": "2023-11-18T13:47:32.471240700Z"
    }
   },
   "id": "6b6c22f15096c2ef"
  },
  {
   "cell_type": "code",
   "execution_count": 12,
   "outputs": [
    {
     "name": "stdout",
     "output_type": "stream",
     "text": [
      "Cache found loading...done\n"
     ]
    }
   ],
   "source": [
    "job_graph = JobGraph(file_paths)\n",
    "fitness_functions = FitnessFunctions(job_graph, file_paths)\n",
    "gen = JobGenerator(job_graph, file_paths)\n",
    "match = MatchingScore(job_graph,fitness_functions, **matching_par)"
   ],
   "metadata": {
    "collapsed": false,
    "ExecuteTime": {
     "end_time": "2023-11-18T13:47:34.619848200Z",
     "start_time": "2023-11-18T13:47:32.776867600Z"
    }
   },
   "id": "8cfba54bdd3062b6"
  },
  {
   "cell_type": "code",
   "execution_count": 13,
   "outputs": [
    {
     "name": "stderr",
     "output_type": "stream",
     "text": [
      "Generating the job-offers: 100%|██████████| 120/120 [00:00<00:00, 830.11it/s]\n",
      "Generating the curricula: 100%|██████████| 120/120 [00:13<00:00,  8.71it/s, qId=119]\n",
      "Generating the fitness scores: 100%|██████████| 120/120 [00:13<00:00,  8.68it/s, qId=119]\n"
     ]
    }
   ],
   "source": [
    "job_offers = gen.get_job_offers(**jobOffer_par, name=\"0\")\n",
    "curricula = gen.generate_cvs(job_offers, **curriculum_par, name=\"0\")\n",
    "dataset = match.score_function(job_offers, curricula, name=\"0\")"
   ],
   "metadata": {
    "collapsed": false,
    "ExecuteTime": {
     "end_time": "2023-11-18T13:48:03.165270700Z",
     "start_time": "2023-11-18T13:47:34.619848200Z"
    }
   },
   "id": "4b7f7186edabd244"
  },
  {
   "cell_type": "code",
   "execution_count": 14,
   "outputs": [
    {
     "data": {
      "text/plain": "                                                   metadata    Education  Age  \\\nqId kId                                                                         \n0   0     {'occ': '98e58946-3227-4f6c-a5d1-5892fe76883d'...    Master-D.   28   \n    1     {'occ': '4cf7be91-fed9-47a7-9ca9-e74c7eb6becb'...    Master-D.   29   \n    2     {'occ': '98e58946-3227-4f6c-a5d1-5892fe76883d'...    Master-D.   27   \n    3     {'occ': '30f3ea93-882a-4525-841c-1d5b4b64076f'...    Master-D.   32   \n    4     {'occ': '98e58946-3227-4f6c-a5d1-5892fe76883d'...    Master-D.   30   \n...                                                     ...          ...  ...   \n119 9465  {'occ': 'd8ff83c0-be8b-47f9-93e3-b13e261e7da5'...       Degree   21   \n    9466  {'occ': 'dce6a68c-8a05-4c26-85d4-6fbc43e7d822'...       Degree   22   \n    9467  {'occ': '0cca32c2-9308-4927-adb2-14771ab787f0'...    Master-D.   37   \n    9468  {'occ': 'f70e5875-df7e-40be-a315-3ac1c9d36d64'...       Degree   23   \n    9469  {'occ': '4bc4170d-f4df-44e4-a3be-394242ae3017'...  Bachelor-D.   27   \n\n                         City  JobRange  \\\nqId kId                                   \n0   0                  Torino        30   \n    1         Volta Mantovana        30   \n    2               Siniscola        60   \n    3              Conegliano        70   \n    4         Vittorio Veneto        40   \n...                       ...       ...   \n119 9465               Torino        70   \n    9466               Torino        60   \n    9467    Citta Sant'Angelo        50   \n    9468        Collesalvetti        70   \n    9469  Cadelbosco di Sopra        40   \n\n                                      Competences0  \\\nqId kId                                              \n0   0               execute after sales activities   \n    1        operate 3D computer graphics software   \n    2                  monitor after sales records   \n    3                  negotiate with stakeholders   \n    4                          provide information   \n...                                            ...   \n119 9465                              troubleshoot   \n    9466                          store film reels   \n    9467        perform cost accounting activities   \n    9468  manage donated goods in second-hand shop   \n    9469                write work-related reports   \n\n                                       Competences1  \\\nqId kId                                               \n0   0     ensure compliance with legal requirements   \n    1                   draft design specifications   \n    2                      manage schedule of tasks   \n    3                    enforce financial policies   \n    4                   monitor after sales records   \n...                                             ...   \n119 9465                examine geochemical samples   \n    9466                          operate projector   \n    9467                           manage contracts   \n    9468          apply health and safety standards   \n    9469              handle financial transactions   \n\n                                Competences2  \\\nqId kId                                        \n0   0           create solutions to problems   \n    1     determine suitability of materials   \n    2        guarantee customer satisfaction   \n    3                     develop audit plan   \n    4               manage schedule of tasks   \n...                                      ...   \n119 9465                 collect oil samples   \n    9466                     mark film reels   \n    9467       keep records of work progress   \n    9468                                   -   \n    9469             analyse economic trends   \n\n                                        Competences3  \\\nqId kId                                                \n0   0                     communicate with customers   \n    1                   create solutions to problems   \n    2      ensure compliance with legal requirements   \n    3                        create a financial plan   \n    4                   implement customer follow-up   \n...                                              ...   \n119 9465  assess risks implied in rigging operations   \n    9466               maintain projection equipment   \n    9467                         control of expenses   \n    9468                                           -   \n    9469                                           -   \n\n                                       Competences4  ...  \\\nqId kId                                              ...   \n0   0                advise on merchandise features  ...   \n    1      advise client on technical possibilities  ...   \n    2                             contact customers  ...   \n    3                    communicate with customers  ...   \n    4     ensure compliance with legal requirements  ...   \n...                                             ...  ...   \n119 9465   advise on geology for mineral extraction  ...   \n    9466          apply health and safety standards  ...   \n    9467              check construction compliance  ...   \n    9468                                          -  ...   \n    9469                                          -  ...   \n\n                                Knowledge4                        Knowledge5  \\\nqId kId                                                                        \n0   0                                    -                                 -   \n    1                                    -                                 -   \n    2                     customer service  customer relationship management   \n    3     customer relationship management                                 -   \n    4                                    -                                 -   \n...                                    ...                               ...   \n119 9465                                 -                                 -   \n    9466             copyright legislation                                 -   \n    9467                                 -                                 -   \n    9468                                 -                                 -   \n    9469                banking activities                 actuarial science   \n\n                     Knowledge6 Language0 Language1 Language2 Language_level0  \\\nqId kId                                                                         \n0   0                         -   Italian    French         -              C2   \n    1                         -   Italian    French         -            Null   \n    2       consumer protection    French   English         -              B2   \n    3                         -   Italian    French         -            Null   \n    4                         -   Italian    German    French            Null   \n...                         ...       ...       ...       ...             ...   \n119 9465                      -   Spanish   Italian   English            Null   \n    9466                      -   Italian    French   English            Null   \n    9467                      -   Italian    German         -            Null   \n    9468                      -   Spanish    French   English            Null   \n    9469  accounting techniques   Spanish   Italian  Albanian            Null   \n\n         Language_level1 Language_level2 Experience  \nqId kId                                              \n0   0               Null               -          4  \n    1               Null               -          2  \n    2               Null               -          5  \n    3                 B1               -          4  \n    4               Null            Null          4  \n...                  ...             ...        ...  \n119 9465            Null            Null          2  \n    9466            Null              B2          2  \n    9467              A2               -          0  \n    9468            Null            Null          0  \n    9469            Null            Null          0  \n\n[9470 rows x 26 columns]",
      "text/html": "<div>\n<style scoped>\n    .dataframe tbody tr th:only-of-type {\n        vertical-align: middle;\n    }\n\n    .dataframe tbody tr th {\n        vertical-align: top;\n    }\n\n    .dataframe thead th {\n        text-align: right;\n    }\n</style>\n<table border=\"1\" class=\"dataframe\">\n  <thead>\n    <tr style=\"text-align: right;\">\n      <th></th>\n      <th></th>\n      <th>metadata</th>\n      <th>Education</th>\n      <th>Age</th>\n      <th>City</th>\n      <th>JobRange</th>\n      <th>Competences0</th>\n      <th>Competences1</th>\n      <th>Competences2</th>\n      <th>Competences3</th>\n      <th>Competences4</th>\n      <th>...</th>\n      <th>Knowledge4</th>\n      <th>Knowledge5</th>\n      <th>Knowledge6</th>\n      <th>Language0</th>\n      <th>Language1</th>\n      <th>Language2</th>\n      <th>Language_level0</th>\n      <th>Language_level1</th>\n      <th>Language_level2</th>\n      <th>Experience</th>\n    </tr>\n    <tr>\n      <th>qId</th>\n      <th>kId</th>\n      <th></th>\n      <th></th>\n      <th></th>\n      <th></th>\n      <th></th>\n      <th></th>\n      <th></th>\n      <th></th>\n      <th></th>\n      <th></th>\n      <th></th>\n      <th></th>\n      <th></th>\n      <th></th>\n      <th></th>\n      <th></th>\n      <th></th>\n      <th></th>\n      <th></th>\n      <th></th>\n      <th></th>\n    </tr>\n  </thead>\n  <tbody>\n    <tr>\n      <th rowspan=\"5\" valign=\"top\">0</th>\n      <th>0</th>\n      <td>{'occ': '98e58946-3227-4f6c-a5d1-5892fe76883d'...</td>\n      <td>Master-D.</td>\n      <td>28</td>\n      <td>Torino</td>\n      <td>30</td>\n      <td>execute after sales activities</td>\n      <td>ensure compliance with legal requirements</td>\n      <td>create solutions to problems</td>\n      <td>communicate with customers</td>\n      <td>advise on merchandise features</td>\n      <td>...</td>\n      <td>-</td>\n      <td>-</td>\n      <td>-</td>\n      <td>Italian</td>\n      <td>French</td>\n      <td>-</td>\n      <td>C2</td>\n      <td>Null</td>\n      <td>-</td>\n      <td>4</td>\n    </tr>\n    <tr>\n      <th>1</th>\n      <td>{'occ': '4cf7be91-fed9-47a7-9ca9-e74c7eb6becb'...</td>\n      <td>Master-D.</td>\n      <td>29</td>\n      <td>Volta Mantovana</td>\n      <td>30</td>\n      <td>operate 3D computer graphics software</td>\n      <td>draft design specifications</td>\n      <td>determine suitability of materials</td>\n      <td>create solutions to problems</td>\n      <td>advise client on technical possibilities</td>\n      <td>...</td>\n      <td>-</td>\n      <td>-</td>\n      <td>-</td>\n      <td>Italian</td>\n      <td>French</td>\n      <td>-</td>\n      <td>Null</td>\n      <td>Null</td>\n      <td>-</td>\n      <td>2</td>\n    </tr>\n    <tr>\n      <th>2</th>\n      <td>{'occ': '98e58946-3227-4f6c-a5d1-5892fe76883d'...</td>\n      <td>Master-D.</td>\n      <td>27</td>\n      <td>Siniscola</td>\n      <td>60</td>\n      <td>monitor after sales records</td>\n      <td>manage schedule of tasks</td>\n      <td>guarantee customer satisfaction</td>\n      <td>ensure compliance with legal requirements</td>\n      <td>contact customers</td>\n      <td>...</td>\n      <td>customer service</td>\n      <td>customer relationship management</td>\n      <td>consumer protection</td>\n      <td>French</td>\n      <td>English</td>\n      <td>-</td>\n      <td>B2</td>\n      <td>Null</td>\n      <td>-</td>\n      <td>5</td>\n    </tr>\n    <tr>\n      <th>3</th>\n      <td>{'occ': '30f3ea93-882a-4525-841c-1d5b4b64076f'...</td>\n      <td>Master-D.</td>\n      <td>32</td>\n      <td>Conegliano</td>\n      <td>70</td>\n      <td>negotiate with stakeholders</td>\n      <td>enforce financial policies</td>\n      <td>develop audit plan</td>\n      <td>create a financial plan</td>\n      <td>communicate with customers</td>\n      <td>...</td>\n      <td>customer relationship management</td>\n      <td>-</td>\n      <td>-</td>\n      <td>Italian</td>\n      <td>French</td>\n      <td>-</td>\n      <td>Null</td>\n      <td>B1</td>\n      <td>-</td>\n      <td>4</td>\n    </tr>\n    <tr>\n      <th>4</th>\n      <td>{'occ': '98e58946-3227-4f6c-a5d1-5892fe76883d'...</td>\n      <td>Master-D.</td>\n      <td>30</td>\n      <td>Vittorio Veneto</td>\n      <td>40</td>\n      <td>provide information</td>\n      <td>monitor after sales records</td>\n      <td>manage schedule of tasks</td>\n      <td>implement customer follow-up</td>\n      <td>ensure compliance with legal requirements</td>\n      <td>...</td>\n      <td>-</td>\n      <td>-</td>\n      <td>-</td>\n      <td>Italian</td>\n      <td>German</td>\n      <td>French</td>\n      <td>Null</td>\n      <td>Null</td>\n      <td>Null</td>\n      <td>4</td>\n    </tr>\n    <tr>\n      <th>...</th>\n      <th>...</th>\n      <td>...</td>\n      <td>...</td>\n      <td>...</td>\n      <td>...</td>\n      <td>...</td>\n      <td>...</td>\n      <td>...</td>\n      <td>...</td>\n      <td>...</td>\n      <td>...</td>\n      <td>...</td>\n      <td>...</td>\n      <td>...</td>\n      <td>...</td>\n      <td>...</td>\n      <td>...</td>\n      <td>...</td>\n      <td>...</td>\n      <td>...</td>\n      <td>...</td>\n      <td>...</td>\n    </tr>\n    <tr>\n      <th rowspan=\"5\" valign=\"top\">119</th>\n      <th>9465</th>\n      <td>{'occ': 'd8ff83c0-be8b-47f9-93e3-b13e261e7da5'...</td>\n      <td>Degree</td>\n      <td>21</td>\n      <td>Torino</td>\n      <td>70</td>\n      <td>troubleshoot</td>\n      <td>examine geochemical samples</td>\n      <td>collect oil samples</td>\n      <td>assess risks implied in rigging operations</td>\n      <td>advise on geology for mineral extraction</td>\n      <td>...</td>\n      <td>-</td>\n      <td>-</td>\n      <td>-</td>\n      <td>Spanish</td>\n      <td>Italian</td>\n      <td>English</td>\n      <td>Null</td>\n      <td>Null</td>\n      <td>Null</td>\n      <td>2</td>\n    </tr>\n    <tr>\n      <th>9466</th>\n      <td>{'occ': 'dce6a68c-8a05-4c26-85d4-6fbc43e7d822'...</td>\n      <td>Degree</td>\n      <td>22</td>\n      <td>Torino</td>\n      <td>60</td>\n      <td>store film reels</td>\n      <td>operate projector</td>\n      <td>mark film reels</td>\n      <td>maintain projection equipment</td>\n      <td>apply health and safety standards</td>\n      <td>...</td>\n      <td>copyright legislation</td>\n      <td>-</td>\n      <td>-</td>\n      <td>Italian</td>\n      <td>French</td>\n      <td>English</td>\n      <td>Null</td>\n      <td>Null</td>\n      <td>B2</td>\n      <td>2</td>\n    </tr>\n    <tr>\n      <th>9467</th>\n      <td>{'occ': '0cca32c2-9308-4927-adb2-14771ab787f0'...</td>\n      <td>Master-D.</td>\n      <td>37</td>\n      <td>Citta Sant'Angelo</td>\n      <td>50</td>\n      <td>perform cost accounting activities</td>\n      <td>manage contracts</td>\n      <td>keep records of work progress</td>\n      <td>control of expenses</td>\n      <td>check construction compliance</td>\n      <td>...</td>\n      <td>-</td>\n      <td>-</td>\n      <td>-</td>\n      <td>Italian</td>\n      <td>German</td>\n      <td>-</td>\n      <td>Null</td>\n      <td>A2</td>\n      <td>-</td>\n      <td>0</td>\n    </tr>\n    <tr>\n      <th>9468</th>\n      <td>{'occ': 'f70e5875-df7e-40be-a315-3ac1c9d36d64'...</td>\n      <td>Degree</td>\n      <td>23</td>\n      <td>Collesalvetti</td>\n      <td>70</td>\n      <td>manage donated goods in second-hand shop</td>\n      <td>apply health and safety standards</td>\n      <td>-</td>\n      <td>-</td>\n      <td>-</td>\n      <td>...</td>\n      <td>-</td>\n      <td>-</td>\n      <td>-</td>\n      <td>Spanish</td>\n      <td>French</td>\n      <td>English</td>\n      <td>Null</td>\n      <td>Null</td>\n      <td>Null</td>\n      <td>0</td>\n    </tr>\n    <tr>\n      <th>9469</th>\n      <td>{'occ': '4bc4170d-f4df-44e4-a3be-394242ae3017'...</td>\n      <td>Bachelor-D.</td>\n      <td>27</td>\n      <td>Cadelbosco di Sopra</td>\n      <td>40</td>\n      <td>write work-related reports</td>\n      <td>handle financial transactions</td>\n      <td>analyse economic trends</td>\n      <td>-</td>\n      <td>-</td>\n      <td>...</td>\n      <td>banking activities</td>\n      <td>actuarial science</td>\n      <td>accounting techniques</td>\n      <td>Spanish</td>\n      <td>Italian</td>\n      <td>Albanian</td>\n      <td>Null</td>\n      <td>Null</td>\n      <td>Null</td>\n      <td>0</td>\n    </tr>\n  </tbody>\n</table>\n<p>9470 rows × 26 columns</p>\n</div>"
     },
     "execution_count": 14,
     "metadata": {},
     "output_type": "execute_result"
    }
   ],
   "source": [
    "curricula"
   ],
   "metadata": {
    "collapsed": false,
    "ExecuteTime": {
     "end_time": "2023-11-18T13:48:03.379390800Z",
     "start_time": "2023-11-18T13:48:03.167668900Z"
    }
   },
   "id": "c3876df4c6331714"
  },
  {
   "cell_type": "code",
   "execution_count": 14,
   "outputs": [],
   "source": [],
   "metadata": {
    "collapsed": false,
    "ExecuteTime": {
     "end_time": "2023-11-18T13:48:03.379390800Z",
     "start_time": "2023-11-18T13:48:03.377285900Z"
    }
   },
   "id": "98a6cebbc2f906c6"
  }
 ],
 "metadata": {
  "kernelspec": {
   "display_name": "Python 3",
   "language": "python",
   "name": "python3"
  },
  "language_info": {
   "codemirror_mode": {
    "name": "ipython",
    "version": 2
   },
   "file_extension": ".py",
   "mimetype": "text/x-python",
   "name": "python",
   "nbconvert_exporter": "python",
   "pygments_lexer": "ipython2",
   "version": "2.7.6"
  }
 },
 "nbformat": 4,
 "nbformat_minor": 5
}
