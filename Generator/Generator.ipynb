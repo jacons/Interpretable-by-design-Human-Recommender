{
 "cells": [
  {
   "cell_type": "code",
   "execution_count": 8,
   "id": "initial_id",
   "metadata": {
    "collapsed": true,
    "ExecuteTime": {
     "end_time": "2023-12-28T18:31:28.795462900Z",
     "start_time": "2023-12-28T18:31:26.754766Z"
    }
   },
   "outputs": [],
   "source": [
    "from Class_utils.parameters import *\n",
    "from KnowledgeBase.JobGraph import JobGraph\n",
    "from Class_utils.FitnessFunctions import FitnessFunctions\n",
    "from Generator.JobGenerator import JobGenerator\n",
    "from Generator.MatchingScore import MatchingScore\n",
    "\n",
    "\n",
    "%reload_ext autoreload\n",
    "%autoreload 2"
   ]
  },
  {
   "cell_type": "code",
   "outputs": [
    {
     "name": "stdout",
     "output_type": "stream",
     "text": [
      "Cache found loading...done\n"
     ]
    }
   ],
   "source": [
    "job_graph = JobGraph(file_paths, **job_graph_par)"
   ],
   "metadata": {
    "collapsed": false,
    "ExecuteTime": {
     "end_time": "2023-12-28T18:31:30.177588300Z",
     "start_time": "2023-12-28T18:31:28.796652200Z"
    }
   },
   "id": "5578e0de984ddbe",
   "execution_count": 9
  },
  {
   "cell_type": "code",
   "outputs": [],
   "source": [
    "gen = JobGenerator(job_graph, file_paths)"
   ],
   "metadata": {
    "collapsed": false,
    "ExecuteTime": {
     "end_time": "2023-12-28T18:31:30.342413300Z",
     "start_time": "2023-12-28T18:31:30.173102500Z"
    }
   },
   "id": "b5c1a57d6ec96643",
   "execution_count": 10
  },
  {
   "cell_type": "code",
   "outputs": [
    {
     "name": "stderr",
     "output_type": "stream",
     "text": [
      "Generating the job-offers: 100%|██████████| 200/200 [00:00<00:00, 382.58it/s]\n",
      "Generating the curricula: 100%|██████████| 200/200 [00:47<00:00,  4.25it/s, qId=199]\n",
      "Updating with synonyms...: 100%|██████████| 140/140 [00:00<00:00, 5702.82it/s]\n",
      "Updating with synonyms...: 100%|██████████| 11907/11907 [00:01<00:00, 10248.19it/s]\n"
     ]
    }
   ],
   "source": [
    "job_offers = gen.get_job_offers(**jobOffer_par)\n",
    "curricula = gen.generate_cvs(job_offers, **curriculum_par)\n",
    "gen.upgrade_with_synonymous(\"offer\", job_offers, 0.7)\n",
    "gen.upgrade_with_synonymous(\"cv\", curricula, 0.75)\n",
    "gen.save_job_offers(**output_dir, offers=job_offers, name=\"default\")\n",
    "gen.save_curricula(**output_dir,curricula=curricula, name=\"default\")"
   ],
   "metadata": {
    "collapsed": false,
    "ExecuteTime": {
     "end_time": "2023-12-28T18:32:19.864679500Z",
     "start_time": "2023-12-28T18:31:30.345740900Z"
    }
   },
   "id": "11b6657fad7dc19",
   "execution_count": 11
  },
  {
   "cell_type": "code",
   "outputs": [
    {
     "name": "stderr",
     "output_type": "stream",
     "text": [
      "Generating the fitness scores: 100%|██████████| 200/200 [00:38<00:00,  5.17it/s, qId=199]\n"
     ]
    }
   ],
   "source": [
    "match = MatchingScore(FitnessFunctions(file_paths,job_graph), **matching_par)\n",
    "_ = match.score_function(job_offers, curricula, **match_score_par, name=\"0\")"
   ],
   "metadata": {
    "collapsed": false,
    "ExecuteTime": {
     "end_time": "2023-12-28T18:32:59.921998300Z",
     "start_time": "2023-12-28T18:32:19.865755400Z"
    }
   },
   "id": "355758d3316903a3",
   "execution_count": 12
  },
  {
   "cell_type": "code",
   "outputs": [
    {
     "name": "stderr",
     "output_type": "stream",
     "text": [
      "Generating the fitness scores: 100%|██████████| 200/200 [00:02<00:00, 74.85it/s, qId=199]\n"
     ]
    }
   ],
   "source": [
    "match = MatchingScore(FitnessFunctions(file_paths), **matching_par)\n",
    "_ = match.score_function(job_offers, curricula, **match_score_par, name=\"1\")"
   ],
   "metadata": {
    "collapsed": false,
    "ExecuteTime": {
     "end_time": "2023-12-28T18:33:04.054008800Z",
     "start_time": "2023-12-28T18:32:59.922973400Z"
    }
   },
   "id": "ea7d29eca9becbf7",
   "execution_count": 13
  },
  {
   "cell_type": "code",
   "outputs": [],
   "source": [
    "# 0 with synonyms with job-grap\n",
    "# 1 with synonyms without job-graph"
   ],
   "metadata": {
    "collapsed": false,
    "ExecuteTime": {
     "end_time": "2023-12-28T18:33:04.242388900Z",
     "start_time": "2023-12-28T18:33:04.054008800Z"
    }
   },
   "id": "22155d33712cec9c",
   "execution_count": 14
  }
 ],
 "metadata": {
  "kernelspec": {
   "display_name": "Python 3",
   "language": "python",
   "name": "python3"
  },
  "language_info": {
   "codemirror_mode": {
    "name": "ipython",
    "version": 2
   },
   "file_extension": ".py",
   "mimetype": "text/x-python",
   "name": "python",
   "nbconvert_exporter": "python",
   "pygments_lexer": "ipython2",
   "version": "2.7.6"
  }
 },
 "nbformat": 4,
 "nbformat_minor": 5
}
