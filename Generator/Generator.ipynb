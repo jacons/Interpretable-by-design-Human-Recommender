{
 "cells": [
  {
   "cell_type": "code",
   "execution_count": 9,
   "outputs": [],
   "source": [
    "from Generator.parameters import *\n",
    "from Generator.JobGenerator import JobGenerator\n",
    "from Generator.MatchingScore import MatchingScore\n",
    "%reload_ext autoreload\n",
    "%autoreload 2"
   ],
   "metadata": {
    "collapsed": false,
    "ExecuteTime": {
     "end_time": "2023-10-27T14:20:58.361854300Z",
     "start_time": "2023-10-27T14:20:58.175684600Z"
    }
   },
   "id": "6b6c22f15096c2ef"
  },
  {
   "cell_type": "code",
   "execution_count": 10,
   "outputs": [
    {
     "name": "stderr",
     "output_type": "stream",
     "text": [
      "100%|██████████| 200/200 [00:00<00:00, 336.14it/s]\n",
      "100%|██████████| 100/100 [00:00<00:00, 333.36it/s]\n"
     ]
    }
   ],
   "source": [
    "gen = JobGenerator(**file_path)\n",
    "\n",
    "curricula = gen.get_curricula(**curriculum_par)\n",
    "offers = gen.get_offers(**jobOffer_par)"
   ],
   "metadata": {
    "collapsed": false,
    "ExecuteTime": {
     "end_time": "2023-10-27T14:20:59.426166500Z",
     "start_time": "2023-10-27T14:20:58.363853400Z"
    }
   },
   "id": "f5e20e7e763a1122"
  },
  {
   "cell_type": "code",
   "execution_count": 11,
   "outputs": [
    {
     "name": "stderr",
     "output_type": "stream",
     "text": [
      "100%|██████████| 20000/20000 [00:01<00:00, 10581.89it/s]\n"
     ]
    }
   ],
   "source": [
    "matchingScore = MatchingScore(jobGenerator=gen, **matching_par)\n",
    "\n",
    "matrix_score = matchingScore.scoreFunction(offers, curricula,\n",
    "                                           path=\"../outputs/scores.csv\")"
   ],
   "metadata": {
    "collapsed": false,
    "ExecuteTime": {
     "end_time": "2023-10-27T14:21:02.348187900Z",
     "start_time": "2023-10-27T14:20:59.421174800Z"
    }
   },
   "id": "c1731be5b73f6549"
  },
  {
   "cell_type": "code",
   "execution_count": 12,
   "outputs": [],
   "source": [
    "# 0 Index=0\n",
    "# 1 Job='Doctor'\n",
    "# 2 Education='Master D.'\n",
    "# 3 City='Civita'\n",
    "# 4 Skills0='Prevention'\n",
    "# 5 Skills1='Management of patients'\n",
    "# 6 Skills2='Therapy'\n",
    "# 7 Skills3='Interpretation of the results'\n",
    "# 8 Skills4='-'\n",
    "# 9 Softskills0='Ethics'\n",
    "# 10 Softskills1='-'\n",
    "# 11 Softskills2='-'\n",
    "# 12 Softskills3='-'\n",
    "# 13 Softskills4='-'\n",
    "# 14 AgeMin=28\n",
    "# 15 AgeMax=38\n",
    "# 16 Language0='Italiano - C2'\n",
    "# 17 Language1='-'\n",
    "# 18 Language2='-'\n",
    "# 19 Certificate\n",
    "# 20 YearExp=4\n",
    "# 21 Offered_Salary=53226\n",
    "# 22 SmartWork=0\n",
    "# 23 Experience_abroad=1\n",
    "# \n",
    "# \n",
    "# 0 Index=0\n",
    "# 1 Education='Master D.'\n",
    "# 2 City='Rocca San Casciano'\n",
    "# 3 JobRange=110\n",
    "# 4 Skills0='ERP'\n",
    "# 5 Skills1='Quality Control'\n",
    "# 6 Skills2='Microsoft Excel'\n",
    "# 7 Skills3='Logistics'\n",
    "# 8 Skills4='Optimization of processes'\n",
    "# 9 Softskills0='Management of stress'\n",
    "# 10 Softskills1='-'\n",
    "# 11 Softskills2='-'\n",
    "# 12 Softskills3='-'\n",
    "# 13 Softskills4='-'\n",
    "# 14 Age=52\n",
    "# 15 Language0='Inglese - C2'\n",
    "# 16 Language1='Danese - A2'\n",
    "# 17 Language2='-'\n",
    "# 18 Certificates='IELTS'\n",
    "# 19 YearExp=6\n",
    "# 20 Ideal_Salary=119630\n",
    "# 21 SmartWork=1\n",
    "# 22 Experience_abroad=1"
   ],
   "metadata": {
    "collapsed": false,
    "ExecuteTime": {
     "end_time": "2023-10-27T14:21:02.482743400Z",
     "start_time": "2023-10-27T14:21:02.351182400Z"
    }
   },
   "id": "cbae671e52d77f01"
  }
 ],
 "metadata": {
  "kernelspec": {
   "display_name": "Python 3",
   "language": "python",
   "name": "python3"
  },
  "language_info": {
   "codemirror_mode": {
    "name": "ipython",
    "version": 2
   },
   "file_extension": ".py",
   "mimetype": "text/x-python",
   "name": "python",
   "nbconvert_exporter": "python",
   "pygments_lexer": "ipython2",
   "version": "2.7.6"
  }
 },
 "nbformat": 4,
 "nbformat_minor": 5
}
