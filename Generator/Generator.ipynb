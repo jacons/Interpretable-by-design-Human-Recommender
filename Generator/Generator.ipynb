{
 "cells": [
  {
   "cell_type": "code",
   "execution_count": 1,
   "outputs": [],
   "source": [
    "from Class_utils.parameters import *\n",
    "from Class_utils.JobGraph import JobGraph\n",
    "from Class_utils.FitnessFunctions import FitnessFunctions\n",
    "from Generator.JobGenerator import JobGenerator\n",
    "from Generator.MatchingScore import MatchingScore\n",
    "\n",
    "\n",
    "%reload_ext autoreload\n",
    "%autoreload 2\n"
   ],
   "metadata": {
    "collapsed": false,
    "ExecuteTime": {
     "end_time": "2023-11-12T18:33:01.152986700Z",
     "start_time": "2023-11-12T18:32:58.998935500Z"
    }
   },
   "id": "6b6c22f15096c2ef"
  },
  {
   "cell_type": "code",
   "execution_count": 2,
   "outputs": [],
   "source": [
    "job_graph = JobGraph(file_paths)\n",
    "fitness_functions = FitnessFunctions(job_graph, file_paths)\n",
    "gen = JobGenerator(job_graph, file_paths)\n",
    "match = MatchingScore(job_graph,fitness_functions, **matching_par)"
   ],
   "metadata": {
    "collapsed": false,
    "ExecuteTime": {
     "end_time": "2023-11-12T18:33:28.976491900Z",
     "start_time": "2023-11-12T18:33:01.158186300Z"
    }
   },
   "id": "8cfba54bdd3062b6"
  },
  {
   "cell_type": "code",
   "execution_count": 3,
   "outputs": [
    {
     "name": "stdout",
     "output_type": "stream",
     "text": [
      "Generating the job-offers...\n"
     ]
    },
    {
     "name": "stderr",
     "output_type": "stream",
     "text": [
      "100%|██████████| 120/120 [00:01<00:00, 80.70it/s]\n"
     ]
    },
    {
     "name": "stdout",
     "output_type": "stream",
     "text": [
      "Generating the curricula...\n"
     ]
    },
    {
     "name": "stderr",
     "output_type": "stream",
     "text": [
      "100%|██████████| 120/120 [01:34<00:00,  1.27it/s, qId=119]\n"
     ]
    },
    {
     "name": "stdout",
     "output_type": "stream",
     "text": [
      "Generating the fitness score...\n"
     ]
    },
    {
     "name": "stderr",
     "output_type": "stream",
     "text": [
      "100%|██████████| 120/120 [00:10<00:00, 11.94it/s, qId=119]\n"
     ]
    }
   ],
   "source": [
    "job_offers = gen.get_offers(**jobOffer_par, name=\"0\")\n",
    "curricula = gen.generate_cvs(job_offers, **curriculum_par, name=\"0\")\n",
    "dataset = match.score_function(job_offers, curricula, name=\"0\")"
   ],
   "metadata": {
    "collapsed": false,
    "ExecuteTime": {
     "end_time": "2023-11-12T18:35:15.652958700Z",
     "start_time": "2023-11-12T18:33:28.979507600Z"
    }
   },
   "id": "4b7f7186edabd244"
  },
  {
   "cell_type": "code",
   "execution_count": 4,
   "outputs": [
    {
     "data": {
      "text/plain": "                          Job     Edu_essential Edu_optional  AgeMin  AgeMax  \\\nqId                                                                            \n0    consumer goods inspector         Master-D.          PhD      27      44   \n1       broadcast news editor       Bachelor-D.    Master-D.      26      34   \n2              fire inspector         Master-D.            -      24      35   \n3              bank treasurer         Master-D.          PhD      26      45   \n4                 drone pilot         Master-D.          PhD      27      42   \n..                        ...               ...          ...     ...     ...   \n115          drain technician  Less-than-degree            -      18      28   \n116                gate guard         Master-D.            -      28      47   \n117             energy trader         Master-D.            -      25      36   \n118    chiropractic assistant               PhD            -      32      52   \n119         air force officer         Master-D.            -      24      39   \n\n                   City                           Competence_essential0  \\\nqId                                                                       \n0               Sigillo                       conduct performance tests   \n1               Sciacca                     consult information sources   \n2              Grosseto                       manage security equipment   \n3             Ostellato                    trace financial transactions   \n4    Monterosso Calabro                    adapt to changing situations   \n..                  ...                                             ...   \n115             Brescia         detect flaws in pipeline infrastructure   \n116           Marsciano               ensure public safety and security   \n117             Bologna                      maintain financial records   \n118              Milano  collect healthcare user data under supervision   \n119             Catania         ensure compliance with types of weapons   \n\n                           Competence_essential1  \\\nqId                                                \n0                        check for damaged items   \n1                                follow the news   \n2              plan health and safety procedures   \n3     analyse financial performance of a company   \n4              ensure public safety and security   \n..                                           ...   \n115            apply health and safety standards   \n116                           practice vigilance   \n117                operate financial instruments   \n118  use e-health and mobile health technologies   \n119         use different communication channels   \n\n                             Competence_essential2  \\\nqId                                                  \n0                            use testing equipment   \n1    follow ethical code of conduct of journalists   \n2                                                -   \n3                                                -   \n4                                 operate a camera   \n..                                             ...   \n115                                              -   \n116                                              -   \n117                                              -   \n118  maintain healthcare user data confidentiality   \n119              ensure public safety and security   \n\n                                 Competence_essential3  ...  \\\nqId                                                     ...   \n0                                                    -  ...   \n1                      apply organisational techniques  ...   \n2                                                    -  ...   \n3                                                    -  ...   \n4    ensure compliance with civil aviation regulations  ...   \n..                                                 ...  ...   \n115                                                  -  ...   \n116                                                  -  ...   \n117                                                  -  ...   \n118                                                  -  ...   \n119                                                  -  ...   \n\n                           Knowledge_optional1  \\\nqId                                              \n0                                            -   \n1                                            -   \n2                         environmental policy   \n3                              tax legislation   \n4        offshore constructions and facilities   \n..                                         ...   \n115                                          -   \n116                                          -   \n117                                          -   \n118  professional documentation in health care   \n119                              military code   \n\n                   Knowledge_optional2 Language_essential0  \\\nqId                                                          \n0                                    -             English   \n1                                    -             Spanish   \n2                                    -              French   \n3                                    -             English   \n4    agronomical production principles             Italian   \n..                                 ...                 ...   \n115                                  -              French   \n116                                  -              French   \n117                                  -              French   \n118                                  -              Arabic   \n119                                  -             Italian   \n\n    Language_essential1 Language_optional0 Language_level0 Language_level1  \\\nqId                                                                          \n0                     -                  -              B1               -   \n1               Italian             French              A2              C2   \n2                     -             German              B2               -   \n3               Spanish                  -              C2              B2   \n4                     -                  -              C2               -   \n..                  ...                ...             ...             ...   \n115            Albanian                  -              B1              A1   \n116              German            Italian              B1              A1   \n117                   -                  -              A2               -   \n118             Italian             French              B2              C2   \n119             Spanish                  -              C2              B2   \n\n    Language_level2 Experience_essential Experience_optional  \nqId                                                           \n0                 -                    2                True  \n1                C1                    4                True  \n2                A1                    1               False  \n3                 -                    2               False  \n4                 -                    -                True  \n..              ...                  ...                 ...  \n115               -                    -               False  \n116              C2                    -               False  \n117               -                    1                True  \n118              A2                    1               False  \n119               -                    5               False  \n\n[120 rows x 28 columns]",
      "text/html": "<div>\n<style scoped>\n    .dataframe tbody tr th:only-of-type {\n        vertical-align: middle;\n    }\n\n    .dataframe tbody tr th {\n        vertical-align: top;\n    }\n\n    .dataframe thead th {\n        text-align: right;\n    }\n</style>\n<table border=\"1\" class=\"dataframe\">\n  <thead>\n    <tr style=\"text-align: right;\">\n      <th></th>\n      <th>Job</th>\n      <th>Edu_essential</th>\n      <th>Edu_optional</th>\n      <th>AgeMin</th>\n      <th>AgeMax</th>\n      <th>City</th>\n      <th>Competence_essential0</th>\n      <th>Competence_essential1</th>\n      <th>Competence_essential2</th>\n      <th>Competence_essential3</th>\n      <th>...</th>\n      <th>Knowledge_optional1</th>\n      <th>Knowledge_optional2</th>\n      <th>Language_essential0</th>\n      <th>Language_essential1</th>\n      <th>Language_optional0</th>\n      <th>Language_level0</th>\n      <th>Language_level1</th>\n      <th>Language_level2</th>\n      <th>Experience_essential</th>\n      <th>Experience_optional</th>\n    </tr>\n    <tr>\n      <th>qId</th>\n      <th></th>\n      <th></th>\n      <th></th>\n      <th></th>\n      <th></th>\n      <th></th>\n      <th></th>\n      <th></th>\n      <th></th>\n      <th></th>\n      <th></th>\n      <th></th>\n      <th></th>\n      <th></th>\n      <th></th>\n      <th></th>\n      <th></th>\n      <th></th>\n      <th></th>\n      <th></th>\n      <th></th>\n    </tr>\n  </thead>\n  <tbody>\n    <tr>\n      <th>0</th>\n      <td>consumer goods inspector</td>\n      <td>Master-D.</td>\n      <td>PhD</td>\n      <td>27</td>\n      <td>44</td>\n      <td>Sigillo</td>\n      <td>conduct performance tests</td>\n      <td>check for damaged items</td>\n      <td>use testing equipment</td>\n      <td>-</td>\n      <td>...</td>\n      <td>-</td>\n      <td>-</td>\n      <td>English</td>\n      <td>-</td>\n      <td>-</td>\n      <td>B1</td>\n      <td>-</td>\n      <td>-</td>\n      <td>2</td>\n      <td>True</td>\n    </tr>\n    <tr>\n      <th>1</th>\n      <td>broadcast news editor</td>\n      <td>Bachelor-D.</td>\n      <td>Master-D.</td>\n      <td>26</td>\n      <td>34</td>\n      <td>Sciacca</td>\n      <td>consult information sources</td>\n      <td>follow the news</td>\n      <td>follow ethical code of conduct of journalists</td>\n      <td>apply organisational techniques</td>\n      <td>...</td>\n      <td>-</td>\n      <td>-</td>\n      <td>Spanish</td>\n      <td>Italian</td>\n      <td>French</td>\n      <td>A2</td>\n      <td>C2</td>\n      <td>C1</td>\n      <td>4</td>\n      <td>True</td>\n    </tr>\n    <tr>\n      <th>2</th>\n      <td>fire inspector</td>\n      <td>Master-D.</td>\n      <td>-</td>\n      <td>24</td>\n      <td>35</td>\n      <td>Grosseto</td>\n      <td>manage security equipment</td>\n      <td>plan health and safety procedures</td>\n      <td>-</td>\n      <td>-</td>\n      <td>...</td>\n      <td>environmental policy</td>\n      <td>-</td>\n      <td>French</td>\n      <td>-</td>\n      <td>German</td>\n      <td>B2</td>\n      <td>-</td>\n      <td>A1</td>\n      <td>1</td>\n      <td>False</td>\n    </tr>\n    <tr>\n      <th>3</th>\n      <td>bank treasurer</td>\n      <td>Master-D.</td>\n      <td>PhD</td>\n      <td>26</td>\n      <td>45</td>\n      <td>Ostellato</td>\n      <td>trace financial transactions</td>\n      <td>analyse financial performance of a company</td>\n      <td>-</td>\n      <td>-</td>\n      <td>...</td>\n      <td>tax legislation</td>\n      <td>-</td>\n      <td>English</td>\n      <td>Spanish</td>\n      <td>-</td>\n      <td>C2</td>\n      <td>B2</td>\n      <td>-</td>\n      <td>2</td>\n      <td>False</td>\n    </tr>\n    <tr>\n      <th>4</th>\n      <td>drone pilot</td>\n      <td>Master-D.</td>\n      <td>PhD</td>\n      <td>27</td>\n      <td>42</td>\n      <td>Monterosso Calabro</td>\n      <td>adapt to changing situations</td>\n      <td>ensure public safety and security</td>\n      <td>operate a camera</td>\n      <td>ensure compliance with civil aviation regulations</td>\n      <td>...</td>\n      <td>offshore constructions and facilities</td>\n      <td>agronomical production principles</td>\n      <td>Italian</td>\n      <td>-</td>\n      <td>-</td>\n      <td>C2</td>\n      <td>-</td>\n      <td>-</td>\n      <td>-</td>\n      <td>True</td>\n    </tr>\n    <tr>\n      <th>...</th>\n      <td>...</td>\n      <td>...</td>\n      <td>...</td>\n      <td>...</td>\n      <td>...</td>\n      <td>...</td>\n      <td>...</td>\n      <td>...</td>\n      <td>...</td>\n      <td>...</td>\n      <td>...</td>\n      <td>...</td>\n      <td>...</td>\n      <td>...</td>\n      <td>...</td>\n      <td>...</td>\n      <td>...</td>\n      <td>...</td>\n      <td>...</td>\n      <td>...</td>\n      <td>...</td>\n    </tr>\n    <tr>\n      <th>115</th>\n      <td>drain technician</td>\n      <td>Less-than-degree</td>\n      <td>-</td>\n      <td>18</td>\n      <td>28</td>\n      <td>Brescia</td>\n      <td>detect flaws in pipeline infrastructure</td>\n      <td>apply health and safety standards</td>\n      <td>-</td>\n      <td>-</td>\n      <td>...</td>\n      <td>-</td>\n      <td>-</td>\n      <td>French</td>\n      <td>Albanian</td>\n      <td>-</td>\n      <td>B1</td>\n      <td>A1</td>\n      <td>-</td>\n      <td>-</td>\n      <td>False</td>\n    </tr>\n    <tr>\n      <th>116</th>\n      <td>gate guard</td>\n      <td>Master-D.</td>\n      <td>-</td>\n      <td>28</td>\n      <td>47</td>\n      <td>Marsciano</td>\n      <td>ensure public safety and security</td>\n      <td>practice vigilance</td>\n      <td>-</td>\n      <td>-</td>\n      <td>...</td>\n      <td>-</td>\n      <td>-</td>\n      <td>French</td>\n      <td>German</td>\n      <td>Italian</td>\n      <td>B1</td>\n      <td>A1</td>\n      <td>C2</td>\n      <td>-</td>\n      <td>False</td>\n    </tr>\n    <tr>\n      <th>117</th>\n      <td>energy trader</td>\n      <td>Master-D.</td>\n      <td>-</td>\n      <td>25</td>\n      <td>36</td>\n      <td>Bologna</td>\n      <td>maintain financial records</td>\n      <td>operate financial instruments</td>\n      <td>-</td>\n      <td>-</td>\n      <td>...</td>\n      <td>-</td>\n      <td>-</td>\n      <td>French</td>\n      <td>-</td>\n      <td>-</td>\n      <td>A2</td>\n      <td>-</td>\n      <td>-</td>\n      <td>1</td>\n      <td>True</td>\n    </tr>\n    <tr>\n      <th>118</th>\n      <td>chiropractic assistant</td>\n      <td>PhD</td>\n      <td>-</td>\n      <td>32</td>\n      <td>52</td>\n      <td>Milano</td>\n      <td>collect healthcare user data under supervision</td>\n      <td>use e-health and mobile health technologies</td>\n      <td>maintain healthcare user data confidentiality</td>\n      <td>-</td>\n      <td>...</td>\n      <td>professional documentation in health care</td>\n      <td>-</td>\n      <td>Arabic</td>\n      <td>Italian</td>\n      <td>French</td>\n      <td>B2</td>\n      <td>C2</td>\n      <td>A2</td>\n      <td>1</td>\n      <td>False</td>\n    </tr>\n    <tr>\n      <th>119</th>\n      <td>air force officer</td>\n      <td>Master-D.</td>\n      <td>-</td>\n      <td>24</td>\n      <td>39</td>\n      <td>Catania</td>\n      <td>ensure compliance with types of weapons</td>\n      <td>use different communication channels</td>\n      <td>ensure public safety and security</td>\n      <td>-</td>\n      <td>...</td>\n      <td>military code</td>\n      <td>-</td>\n      <td>Italian</td>\n      <td>Spanish</td>\n      <td>-</td>\n      <td>C2</td>\n      <td>B2</td>\n      <td>-</td>\n      <td>5</td>\n      <td>False</td>\n    </tr>\n  </tbody>\n</table>\n<p>120 rows × 28 columns</p>\n</div>"
     },
     "execution_count": 4,
     "metadata": {},
     "output_type": "execute_result"
    }
   ],
   "source": [
    "job_offers"
   ],
   "metadata": {
    "collapsed": false,
    "ExecuteTime": {
     "end_time": "2023-11-12T18:35:15.737637200Z",
     "start_time": "2023-11-12T18:35:15.652958700Z"
    }
   },
   "id": "2209bea91c2b9f99"
  },
  {
   "cell_type": "code",
   "execution_count": 5,
   "outputs": [
    {
     "data": {
      "text/plain": "      qId   kId  Education  Age                  City  JobRange  \\\n0       0     0  Master-D.   40                 Locri        70   \n1       0     1        PhD   24     Cornedo Vicentino        50   \n2       0     2  Master-D.   43               Catania        60   \n3       0     3  Master-D.   37                Turate        80   \n4       0     4  Master-D.   31  Palazzo San Gervasio        30   \n...   ...   ...        ...  ...                   ...       ...   \n9545  119  9545        PhD   39               Artegna        50   \n9546  119  9546        PhD   19                Milano        60   \n9547  119  9547  Master-D.   30               Gussago        40   \n9548  119  9548  Master-D.   55               Paciano        70   \n9549  119  9549     Degree   54               Buttrio        30   \n\n                Competences0                           Competences1  \\\n0      use testing equipment                         supervise work   \n1      use testing equipment           monitor packaging operations   \n2      use testing equipment                  undertake inspections   \n3      use testing equipment                  undertake inspections   \n4      use testing equipment                       perform test run   \n...                      ...                                    ...   \n9545       teach linguistics  liaise with educational support staff   \n9546                       -                                      -   \n9547        use CAD software              manage workflow processes   \n9548        think abstractly      promote the transfer of knowledge   \n9549  stitch paper materials          keep records of work progress   \n\n                     Competences2  \\\n0        read standard blueprints   \n1       conduct performance tests   \n2                replace machines   \n3     inspect quality of products   \n4         maintain test equipment   \n...                           ...   \n9545   guarantee students' safety   \n9546                            -   \n9547                            -   \n9548               normalise data   \n9549                            -   \n\n                                           Competences3  ...  \\\n0                              prepare audit activities  ...   \n1                               check for damaged items  ...   \n2                               maintain test equipment  ...   \n3                             conduct performance tests  ...   \n4                                      lead inspections  ...   \n...                                                 ...  ...   \n9545  draft scientific or academic papers and techni...  ...   \n9546                                                  -  ...   \n9547                                                  -  ...   \n9548                       manage ICT data architecture  ...   \n9549                                                  -  ...   \n\n                             Knowledge4             Knowledge5  \\\n0                                     -                      -   \n1                                     -                      -   \n2     manufacturing of sports equipment     furniture industry   \n3                                     -                      -   \n4                                     -                      -   \n...                                 ...                    ...   \n9545                                  -                      -   \n9546                       maritime law  engineering processes   \n9547                                  -                      -   \n9548         information categorisation            data models   \n9549                                  -                      -   \n\n                  Knowledge6 Language0 Language1 Language2 Language_level0  \\\n0                          -   English         -         -              B1   \n1                          -   English         -         -              B1   \n2                          -   English    French         -              B1   \n3                          -   English   Spanish   Italian              B1   \n4                          -   English         -         -              B1   \n...                      ...       ...       ...       ...             ...   \n9545                       -   Italian   Spanish         -              C2   \n9546  engineering principles   Chinese    French         -              A1   \n9547                       -         -         -         -               -   \n9548                       -   Bengali    German         -              A1   \n9549                       -    German         -         -              A1   \n\n     Language_level1 Language_level2 Experience  \n0                  -               -          5  \n1                  -               -          2  \n2                 B1               -          4  \n3                 B1              C2          3  \n4                  -               -          3  \n...              ...             ...        ...  \n9545              A2               -          0  \n9546              B2               -          1  \n9547               -               -          2  \n9548              A1               -          3  \n9549               -               -          1  \n\n[9550 rows x 27 columns]",
      "text/html": "<div>\n<style scoped>\n    .dataframe tbody tr th:only-of-type {\n        vertical-align: middle;\n    }\n\n    .dataframe tbody tr th {\n        vertical-align: top;\n    }\n\n    .dataframe thead th {\n        text-align: right;\n    }\n</style>\n<table border=\"1\" class=\"dataframe\">\n  <thead>\n    <tr style=\"text-align: right;\">\n      <th></th>\n      <th>qId</th>\n      <th>kId</th>\n      <th>Education</th>\n      <th>Age</th>\n      <th>City</th>\n      <th>JobRange</th>\n      <th>Competences0</th>\n      <th>Competences1</th>\n      <th>Competences2</th>\n      <th>Competences3</th>\n      <th>...</th>\n      <th>Knowledge4</th>\n      <th>Knowledge5</th>\n      <th>Knowledge6</th>\n      <th>Language0</th>\n      <th>Language1</th>\n      <th>Language2</th>\n      <th>Language_level0</th>\n      <th>Language_level1</th>\n      <th>Language_level2</th>\n      <th>Experience</th>\n    </tr>\n  </thead>\n  <tbody>\n    <tr>\n      <th>0</th>\n      <td>0</td>\n      <td>0</td>\n      <td>Master-D.</td>\n      <td>40</td>\n      <td>Locri</td>\n      <td>70</td>\n      <td>use testing equipment</td>\n      <td>supervise work</td>\n      <td>read standard blueprints</td>\n      <td>prepare audit activities</td>\n      <td>...</td>\n      <td>-</td>\n      <td>-</td>\n      <td>-</td>\n      <td>English</td>\n      <td>-</td>\n      <td>-</td>\n      <td>B1</td>\n      <td>-</td>\n      <td>-</td>\n      <td>5</td>\n    </tr>\n    <tr>\n      <th>1</th>\n      <td>0</td>\n      <td>1</td>\n      <td>PhD</td>\n      <td>24</td>\n      <td>Cornedo Vicentino</td>\n      <td>50</td>\n      <td>use testing equipment</td>\n      <td>monitor packaging operations</td>\n      <td>conduct performance tests</td>\n      <td>check for damaged items</td>\n      <td>...</td>\n      <td>-</td>\n      <td>-</td>\n      <td>-</td>\n      <td>English</td>\n      <td>-</td>\n      <td>-</td>\n      <td>B1</td>\n      <td>-</td>\n      <td>-</td>\n      <td>2</td>\n    </tr>\n    <tr>\n      <th>2</th>\n      <td>0</td>\n      <td>2</td>\n      <td>Master-D.</td>\n      <td>43</td>\n      <td>Catania</td>\n      <td>60</td>\n      <td>use testing equipment</td>\n      <td>undertake inspections</td>\n      <td>replace machines</td>\n      <td>maintain test equipment</td>\n      <td>...</td>\n      <td>manufacturing of sports equipment</td>\n      <td>furniture industry</td>\n      <td>-</td>\n      <td>English</td>\n      <td>French</td>\n      <td>-</td>\n      <td>B1</td>\n      <td>B1</td>\n      <td>-</td>\n      <td>4</td>\n    </tr>\n    <tr>\n      <th>3</th>\n      <td>0</td>\n      <td>3</td>\n      <td>Master-D.</td>\n      <td>37</td>\n      <td>Turate</td>\n      <td>80</td>\n      <td>use testing equipment</td>\n      <td>undertake inspections</td>\n      <td>inspect quality of products</td>\n      <td>conduct performance tests</td>\n      <td>...</td>\n      <td>-</td>\n      <td>-</td>\n      <td>-</td>\n      <td>English</td>\n      <td>Spanish</td>\n      <td>Italian</td>\n      <td>B1</td>\n      <td>B1</td>\n      <td>C2</td>\n      <td>3</td>\n    </tr>\n    <tr>\n      <th>4</th>\n      <td>0</td>\n      <td>4</td>\n      <td>Master-D.</td>\n      <td>31</td>\n      <td>Palazzo San Gervasio</td>\n      <td>30</td>\n      <td>use testing equipment</td>\n      <td>perform test run</td>\n      <td>maintain test equipment</td>\n      <td>lead inspections</td>\n      <td>...</td>\n      <td>-</td>\n      <td>-</td>\n      <td>-</td>\n      <td>English</td>\n      <td>-</td>\n      <td>-</td>\n      <td>B1</td>\n      <td>-</td>\n      <td>-</td>\n      <td>3</td>\n    </tr>\n    <tr>\n      <th>...</th>\n      <td>...</td>\n      <td>...</td>\n      <td>...</td>\n      <td>...</td>\n      <td>...</td>\n      <td>...</td>\n      <td>...</td>\n      <td>...</td>\n      <td>...</td>\n      <td>...</td>\n      <td>...</td>\n      <td>...</td>\n      <td>...</td>\n      <td>...</td>\n      <td>...</td>\n      <td>...</td>\n      <td>...</td>\n      <td>...</td>\n      <td>...</td>\n      <td>...</td>\n      <td>...</td>\n    </tr>\n    <tr>\n      <th>9545</th>\n      <td>119</td>\n      <td>9545</td>\n      <td>PhD</td>\n      <td>39</td>\n      <td>Artegna</td>\n      <td>50</td>\n      <td>teach linguistics</td>\n      <td>liaise with educational support staff</td>\n      <td>guarantee students' safety</td>\n      <td>draft scientific or academic papers and techni...</td>\n      <td>...</td>\n      <td>-</td>\n      <td>-</td>\n      <td>-</td>\n      <td>Italian</td>\n      <td>Spanish</td>\n      <td>-</td>\n      <td>C2</td>\n      <td>A2</td>\n      <td>-</td>\n      <td>0</td>\n    </tr>\n    <tr>\n      <th>9546</th>\n      <td>119</td>\n      <td>9546</td>\n      <td>PhD</td>\n      <td>19</td>\n      <td>Milano</td>\n      <td>60</td>\n      <td>-</td>\n      <td>-</td>\n      <td>-</td>\n      <td>-</td>\n      <td>...</td>\n      <td>maritime law</td>\n      <td>engineering processes</td>\n      <td>engineering principles</td>\n      <td>Chinese</td>\n      <td>French</td>\n      <td>-</td>\n      <td>A1</td>\n      <td>B2</td>\n      <td>-</td>\n      <td>1</td>\n    </tr>\n    <tr>\n      <th>9547</th>\n      <td>119</td>\n      <td>9547</td>\n      <td>Master-D.</td>\n      <td>30</td>\n      <td>Gussago</td>\n      <td>40</td>\n      <td>use CAD software</td>\n      <td>manage workflow processes</td>\n      <td>-</td>\n      <td>-</td>\n      <td>...</td>\n      <td>-</td>\n      <td>-</td>\n      <td>-</td>\n      <td>-</td>\n      <td>-</td>\n      <td>-</td>\n      <td>-</td>\n      <td>-</td>\n      <td>-</td>\n      <td>2</td>\n    </tr>\n    <tr>\n      <th>9548</th>\n      <td>119</td>\n      <td>9548</td>\n      <td>Master-D.</td>\n      <td>55</td>\n      <td>Paciano</td>\n      <td>70</td>\n      <td>think abstractly</td>\n      <td>promote the transfer of knowledge</td>\n      <td>normalise data</td>\n      <td>manage ICT data architecture</td>\n      <td>...</td>\n      <td>information categorisation</td>\n      <td>data models</td>\n      <td>-</td>\n      <td>Bengali</td>\n      <td>German</td>\n      <td>-</td>\n      <td>A1</td>\n      <td>A1</td>\n      <td>-</td>\n      <td>3</td>\n    </tr>\n    <tr>\n      <th>9549</th>\n      <td>119</td>\n      <td>9549</td>\n      <td>Degree</td>\n      <td>54</td>\n      <td>Buttrio</td>\n      <td>30</td>\n      <td>stitch paper materials</td>\n      <td>keep records of work progress</td>\n      <td>-</td>\n      <td>-</td>\n      <td>...</td>\n      <td>-</td>\n      <td>-</td>\n      <td>-</td>\n      <td>German</td>\n      <td>-</td>\n      <td>-</td>\n      <td>A1</td>\n      <td>-</td>\n      <td>-</td>\n      <td>1</td>\n    </tr>\n  </tbody>\n</table>\n<p>9550 rows × 27 columns</p>\n</div>"
     },
     "execution_count": 5,
     "metadata": {},
     "output_type": "execute_result"
    }
   ],
   "source": [
    "curricula"
   ],
   "metadata": {
    "collapsed": false,
    "ExecuteTime": {
     "end_time": "2023-11-12T18:35:15.994889500Z",
     "start_time": "2023-11-12T18:35:15.737637200Z"
    }
   },
   "id": "2f6cf599f714658d"
  },
  {
   "cell_type": "code",
   "execution_count": 6,
   "outputs": [],
   "source": [
    "# Pandas(\n",
    "#     0 Index=0,\n",
    "#     1 Job='child care social worker',\n",
    "#     2 Edu_essential='Degree',\n",
    "#     3 Edu_optional='Bachelor-D.',\n",
    "#     4 AgeMin=23,\n",
    "#     5 AgeMax=33,\n",
    "#     6 City='Catania',\n",
    "#     7 Competence_essential0='develop professional network',\n",
    "#     8 Competence_essential1='follow health and safety precautions in social care practices',\n",
    "#     9 Competence_essential2='review social service plan',\n",
    "#     10 Competence_essential3='-',\n",
    "#     11 Competence_optional0='-', \n",
    "#     12 Competence_optional1='-', \n",
    "#     13 Competence_optional2='-', \n",
    "#     14 Knowledge_essential0='adolescent psychological development',\n",
    "#     15 Knowledge_essential1='social sciences',\n",
    "#     16 Knowledge_essential2='social justice', \n",
    "#     17 Knowledge_essential3='legal requirements in the social sector',\n",
    "#     18 Knowledge_optional0='-',\n",
    "#     19 Knowledge_optional1='-', \n",
    "#     20 Knowledge_optional2='-',\n",
    "#     21 Language_essential0='English',\n",
    "#     22 Language_essential1='-', \n",
    "#     23 Language_optional0='-',\n",
    "#     24 Language_level0='A2',\n",
    "#     25 Language_level1='-',\n",
    "#     26 Language_level2='-',\n",
    "#     27 Experience_essential=2,\n",
    "#     28 Experience_optional=False)"
   ],
   "metadata": {
    "collapsed": false,
    "ExecuteTime": {
     "end_time": "2023-11-12T18:35:15.994889500Z",
     "start_time": "2023-11-12T18:35:15.823483100Z"
    }
   },
   "id": "d837b5f5c3d40f7f"
  },
  {
   "cell_type": "code",
   "execution_count": 7,
   "outputs": [],
   "source": [
    "# Pandas(\n",
    "#     0 Index=0,\n",
    "#     1 qId=0,\n",
    "#     2 kId=0,\n",
    "#     3 Education='Master-D.',\n",
    "#     4 Age=30,\n",
    "#     5 City='Catania',\n",
    "#     6 JobRange=40,\n",
    "#     7 Competences0='support the positiveness of youths',\n",
    "#     8 Competences1=\"support children's wellbeing\",\n",
    "#     9 Competences2='meet standards of practice in social services',\n",
    "#     10 Competences3='follow health and safety precautions in social care practices',\n",
    "#     11 Competences4='contribute to protecting individuals from harm',\n",
    "#     12 Competences5='-', \n",
    "#     13 Competences6='-', \n",
    "#     14 Knowledge0='social sciences',\n",
    "#     15 Knowledge1='social justice',\n",
    "#     16 Knowledge2=\"older adults' needs\", \n",
    "#     17 Knowledge3='adolescent psychological development',\n",
    "#     18 Knowledge4='adolescent psychological development',\n",
    "#     19 Knowledge5='-',\n",
    "#     20 Knowledge6='-', \n",
    "#     21 Language0='English',\n",
    "#     22 Language1='-', \n",
    "#     23 Language2='-', \n",
    "#     24 Language_level0='A2',\n",
    "#     25 Language_level1='-',\n",
    "#     26 Language_level2='-', \n",
    "#     27 Experience=2)"
   ],
   "metadata": {
    "collapsed": false,
    "ExecuteTime": {
     "end_time": "2023-11-12T18:35:15.994889500Z",
     "start_time": "2023-11-12T18:35:15.910819900Z"
    }
   },
   "id": "f68d8a9071cb225"
  },
  {
   "cell_type": "code",
   "execution_count": 8,
   "outputs": [
    {
     "data": {
      "text/plain": "{0: 'Less-than-degree',\n 1: 'Degree',\n 2: 'Bachelor-D.',\n 3: 'Master-D.',\n 4: 'PhD'}"
     },
     "execution_count": 8,
     "metadata": {},
     "output_type": "execute_result"
    }
   ],
   "source": [
    "gen.education[\"Education\"].to_dict()"
   ],
   "metadata": {
    "collapsed": false,
    "ExecuteTime": {
     "end_time": "2023-11-12T18:35:16.198572500Z",
     "start_time": "2023-11-12T18:35:15.979231200Z"
    }
   },
   "id": "5d350f90335fba08"
  }
 ],
 "metadata": {
  "kernelspec": {
   "display_name": "Python 3",
   "language": "python",
   "name": "python3"
  },
  "language_info": {
   "codemirror_mode": {
    "name": "ipython",
    "version": 2
   },
   "file_extension": ".py",
   "mimetype": "text/x-python",
   "name": "python",
   "nbconvert_exporter": "python",
   "pygments_lexer": "ipython2",
   "version": "2.7.6"
  }
 },
 "nbformat": 4,
 "nbformat_minor": 5
}
