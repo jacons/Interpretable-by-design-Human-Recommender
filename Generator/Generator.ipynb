{
 "cells": [
  {
   "cell_type": "code",
   "execution_count": 15,
   "id": "initial_id",
   "metadata": {
    "collapsed": true,
    "ExecuteTime": {
     "end_time": "2023-12-28T19:05:59.426666700Z",
     "start_time": "2023-12-28T19:05:59.226860500Z"
    }
   },
   "outputs": [],
   "source": [
    "from Class_utils.parameters import *\n",
    "from KnowledgeBase.JobGraph import JobGraph\n",
    "from Class_utils.FitnessFunctions import FitnessFunctions\n",
    "from Generator.JobGenerator import JobGenerator\n",
    "from Generator.MatchingScore import MatchingScore\n",
    "\n",
    "\n",
    "%reload_ext autoreload\n",
    "%autoreload 2"
   ]
  },
  {
   "cell_type": "code",
   "outputs": [
    {
     "name": "stdout",
     "output_type": "stream",
     "text": [
      "Cache not found, building th graph...\n"
     ]
    },
    {
     "name": "stderr",
     "output_type": "stream",
     "text": [
      "Loading occupations: 100%|██████████| 3007/3007 [00:00<00:00, 218284.71it/s]\n",
      "Loading skills: 100%|██████████| 13544/13544 [00:00<00:00, 664906.93it/s]\n",
      "Add relations: 100%|██████████| 123783/123783 [00:00<00:00, 286808.93it/s]\n"
     ]
    }
   ],
   "source": [
    "job_graph = JobGraph(file_paths, **job_graph_par)"
   ],
   "metadata": {
    "collapsed": false,
    "ExecuteTime": {
     "end_time": "2023-12-28T19:06:02.920402900Z",
     "start_time": "2023-12-28T19:05:59.429003700Z"
    }
   },
   "id": "5578e0de984ddbe",
   "execution_count": 16
  },
  {
   "cell_type": "code",
   "outputs": [],
   "source": [
    "gen = JobGenerator(job_graph, file_paths)"
   ],
   "metadata": {
    "collapsed": false,
    "ExecuteTime": {
     "end_time": "2023-12-28T19:06:03.136786200Z",
     "start_time": "2023-12-28T19:06:02.913620900Z"
    }
   },
   "id": "b5c1a57d6ec96643",
   "execution_count": 17
  },
  {
   "cell_type": "code",
   "outputs": [
    {
     "name": "stderr",
     "output_type": "stream",
     "text": [
      "Generating the job-offers: 100%|██████████| 200/200 [00:00<00:00, 386.18it/s]\n",
      "Generating the curricula: 100%|██████████| 200/200 [00:45<00:00,  4.37it/s, qId=199]\n",
      "Updating with synonyms...: 100%|██████████| 140/140 [00:00<00:00, 4066.22it/s]\n",
      "Updating with synonyms...: 100%|██████████| 11848/11848 [00:01<00:00, 10446.33it/s]\n"
     ]
    }
   ],
   "source": [
    "job_offers = gen.get_job_offers(**jobOffer_par)\n",
    "curricula = gen.generate_cvs(job_offers, **curriculum_par)\n",
    "gen.upgrade_with_synonymous(\"offer\", job_offers, 0.7)\n",
    "gen.upgrade_with_synonymous(\"cv\", curricula, 0.75)\n",
    "gen.save_job_offers(**output_dir, offers=job_offers, name=\"default\")\n",
    "gen.save_curricula(**output_dir,curricula=curricula, name=\"default\")"
   ],
   "metadata": {
    "collapsed": false,
    "ExecuteTime": {
     "end_time": "2023-12-28T19:06:51.072181500Z",
     "start_time": "2023-12-28T19:06:03.137865700Z"
    }
   },
   "id": "11b6657fad7dc19",
   "execution_count": 18
  },
  {
   "cell_type": "code",
   "outputs": [
    {
     "name": "stderr",
     "output_type": "stream",
     "text": [
      "Generating the fitness scores: 100%|██████████| 200/200 [00:31<00:00,  6.36it/s, qId=199]\n"
     ]
    }
   ],
   "source": [
    "match = MatchingScore(FitnessFunctions(file_paths,job_graph), **matching_par)\n",
    "_ = match.score_function(job_offers, curricula, **match_score_par, name=\"0\")"
   ],
   "metadata": {
    "collapsed": false,
    "ExecuteTime": {
     "end_time": "2023-12-28T19:07:23.846439100Z",
     "start_time": "2023-12-28T19:06:51.074410200Z"
    }
   },
   "id": "355758d3316903a3",
   "execution_count": 19
  },
  {
   "cell_type": "code",
   "outputs": [
    {
     "name": "stderr",
     "output_type": "stream",
     "text": [
      "Generating the fitness scores: 100%|██████████| 200/200 [00:02<00:00, 89.71it/s, qId=199]\n"
     ]
    }
   ],
   "source": [
    "match = MatchingScore(FitnessFunctions(file_paths), **matching_par)\n",
    "_ = match.score_function(job_offers, curricula, **match_score_par, name=\"1\")"
   ],
   "metadata": {
    "collapsed": false,
    "ExecuteTime": {
     "end_time": "2023-12-28T19:07:27.414988300Z",
     "start_time": "2023-12-28T19:07:23.848732900Z"
    }
   },
   "id": "ea7d29eca9becbf7",
   "execution_count": 20
  },
  {
   "cell_type": "code",
   "outputs": [],
   "source": [
    "# 0 with synonyms with job-grap\n",
    "# 1 with synonyms without job-graph"
   ],
   "metadata": {
    "collapsed": false,
    "ExecuteTime": {
     "end_time": "2023-12-28T19:07:27.597196Z",
     "start_time": "2023-12-28T19:07:27.416229100Z"
    }
   },
   "id": "22155d33712cec9c",
   "execution_count": 21
  }
 ],
 "metadata": {
  "kernelspec": {
   "display_name": "Python 3",
   "language": "python",
   "name": "python3"
  },
  "language_info": {
   "codemirror_mode": {
    "name": "ipython",
    "version": 2
   },
   "file_extension": ".py",
   "mimetype": "text/x-python",
   "name": "python",
   "nbconvert_exporter": "python",
   "pygments_lexer": "ipython2",
   "version": "2.7.6"
  }
 },
 "nbformat": 4,
 "nbformat_minor": 5
}
