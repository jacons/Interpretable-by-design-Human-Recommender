{
 "cells": [
  {
   "cell_type": "code",
   "execution_count": 1,
   "outputs": [],
   "source": [
    "from Class_utils.parameters import *\n",
    "from Class_utils.JobGraph import JobGraph\n",
    "from Class_utils.FitnessFunctions import FitnessFunctions\n",
    "from Generator.JobGenerator import JobGenerator\n",
    "from Generator.MatchingScore import MatchingScore\n",
    "\n",
    "\n",
    "%reload_ext autoreload\n",
    "%autoreload 2\n"
   ],
   "metadata": {
    "collapsed": false,
    "ExecuteTime": {
     "end_time": "2023-11-21T15:31:55.631808100Z",
     "start_time": "2023-11-21T15:31:53.182846300Z"
    }
   },
   "id": "6b6c22f15096c2ef"
  },
  {
   "cell_type": "code",
   "execution_count": 2,
   "outputs": [
    {
     "name": "stdout",
     "output_type": "stream",
     "text": [
      "Cache found loading...done\n"
     ]
    }
   ],
   "source": [
    "job_graph = JobGraph(file_paths)\n",
    "fitness_functions = FitnessFunctions(job_graph, file_paths)\n",
    "gen = JobGenerator(job_graph, file_paths)\n",
    "match = MatchingScore(job_graph,fitness_functions, **matching_par)"
   ],
   "metadata": {
    "collapsed": false,
    "ExecuteTime": {
     "end_time": "2023-11-21T15:32:00.831801300Z",
     "start_time": "2023-11-21T15:31:55.631808100Z"
    }
   },
   "id": "8cfba54bdd3062b6"
  },
  {
   "cell_type": "code",
   "execution_count": 3,
   "outputs": [
    {
     "name": "stderr",
     "output_type": "stream",
     "text": [
      "Generating the job-offers: 100%|██████████| 120/120 [00:00<00:00, 707.07it/s]\n",
      "Generating the curricula: 100%|██████████| 120/120 [00:17<00:00,  6.98it/s, qId=119]\n",
      "Generating the fitness scores: 100%|██████████| 120/120 [00:14<00:00,  8.07it/s, qId=119]\n"
     ]
    }
   ],
   "source": [
    "job_offers = gen.get_job_offers(**jobOffer_par, name=\"0\")\n",
    "curricula = gen.generate_cvs(job_offers, **curriculum_par, name=\"0\")\n",
    "dataset = match.score_function(job_offers, curricula, name=\"0\")"
   ],
   "metadata": {
    "collapsed": false,
    "ExecuteTime": {
     "end_time": "2023-11-21T15:32:35.678328100Z",
     "start_time": "2023-11-21T15:32:00.835866100Z"
    }
   },
   "id": "4b7f7186edabd244"
  },
  {
   "cell_type": "code",
   "execution_count": 4,
   "outputs": [
    {
     "data": {
      "text/plain": "             score   w_score  relevance  fitness_edu_basic  fitness_edu_bonus  \\\nqId kId                                                                         \n0   0     5.639030  0.451508          3                1.0                0.0   \n    1     4.828476  0.376452          2                1.0                0.0   \n    2     5.376134  0.431834          3                1.0                0.0   \n    3     5.154144  0.392789          2                1.0                0.0   \n    4     3.863178  0.329932          2                1.0                0.0   \n...            ...       ...        ...                ...                ...   \n119 9439  1.901021  0.059977          0                1.0                0.0   \n    9440  3.244941  0.241749          1                1.0                0.0   \n    9441  0.851532  0.035586          0                0.0                0.0   \n    9442  1.225828  0.048867          0                0.0                0.0   \n    9443  2.142064  0.146586          1                1.0                0.0   \n\n          fitness_city  fitness_age  fitness_exp_basic  fitness_exp_bonus  \\\nqId kId                                                                     \n0   0         0.879026          1.0                1.0                0.0   \n    1         0.778476          1.0                1.0                0.0   \n    2         0.799686          1.0                1.0                0.0   \n    3         0.838963          1.0                1.0                0.0   \n    4         0.902592          1.0                0.0                0.0   \n...                ...          ...                ...                ...   \n119 9439      0.901021          0.0                0.0                0.0   \n    9440      0.854674          1.0                0.0                0.0   \n    9441      0.851532          0.0                0.0                0.0   \n    9442      0.873527          0.0                0.0                0.0   \n    9443      0.787903          0.0                0.0                0.0   \n\n          fitness_lang_basic  fitness_lang_bonus  fitness_comp_basic  \\\nqId kId                                                                \n0   0               1.000000                 0.0            0.250000   \n    1               0.000000                 0.3            0.250000   \n    2               0.166667                 0.0            0.881019   \n    3               0.000000                 0.0            0.315181   \n    4               0.166667                 0.0            0.250000   \n...                      ...                 ...                 ...   \n119 9439            0.000000                 0.0            0.000000   \n    9440            0.350000                 0.0            0.021667   \n    9441            0.000000                 0.0            0.000000   \n    9442            0.350000                 0.0            0.000355   \n    9443            0.350000                 0.0            0.000000   \n\n          fitness_comp_bonus  fitness_know_basic  fitness_knowl_bonus  \nqId kId                                                                \n0   0               0.000000            0.510005             0.000000  \n    1               0.000000            0.500000             0.000000  \n    2               0.000000            0.528762             0.000000  \n    3               0.000000            1.000000             0.000000  \n    4               0.000000            0.543919             0.000000  \n...                      ...                 ...                  ...  \n119 9439            0.000000            0.000000             0.000000  \n    9440            0.014727            0.003873             0.000000  \n    9441            0.000000            0.000000             0.000000  \n    9442            0.000410            0.001536             0.000000  \n    9443            0.000000            0.003404             0.000758  \n\n[9444 rows x 15 columns]",
      "text/html": "<div>\n<style scoped>\n    .dataframe tbody tr th:only-of-type {\n        vertical-align: middle;\n    }\n\n    .dataframe tbody tr th {\n        vertical-align: top;\n    }\n\n    .dataframe thead th {\n        text-align: right;\n    }\n</style>\n<table border=\"1\" class=\"dataframe\">\n  <thead>\n    <tr style=\"text-align: right;\">\n      <th></th>\n      <th></th>\n      <th>score</th>\n      <th>w_score</th>\n      <th>relevance</th>\n      <th>fitness_edu_basic</th>\n      <th>fitness_edu_bonus</th>\n      <th>fitness_city</th>\n      <th>fitness_age</th>\n      <th>fitness_exp_basic</th>\n      <th>fitness_exp_bonus</th>\n      <th>fitness_lang_basic</th>\n      <th>fitness_lang_bonus</th>\n      <th>fitness_comp_basic</th>\n      <th>fitness_comp_bonus</th>\n      <th>fitness_know_basic</th>\n      <th>fitness_knowl_bonus</th>\n    </tr>\n    <tr>\n      <th>qId</th>\n      <th>kId</th>\n      <th></th>\n      <th></th>\n      <th></th>\n      <th></th>\n      <th></th>\n      <th></th>\n      <th></th>\n      <th></th>\n      <th></th>\n      <th></th>\n      <th></th>\n      <th></th>\n      <th></th>\n      <th></th>\n      <th></th>\n    </tr>\n  </thead>\n  <tbody>\n    <tr>\n      <th rowspan=\"5\" valign=\"top\">0</th>\n      <th>0</th>\n      <td>5.639030</td>\n      <td>0.451508</td>\n      <td>3</td>\n      <td>1.0</td>\n      <td>0.0</td>\n      <td>0.879026</td>\n      <td>1.0</td>\n      <td>1.0</td>\n      <td>0.0</td>\n      <td>1.000000</td>\n      <td>0.0</td>\n      <td>0.250000</td>\n      <td>0.000000</td>\n      <td>0.510005</td>\n      <td>0.000000</td>\n    </tr>\n    <tr>\n      <th>1</th>\n      <td>4.828476</td>\n      <td>0.376452</td>\n      <td>2</td>\n      <td>1.0</td>\n      <td>0.0</td>\n      <td>0.778476</td>\n      <td>1.0</td>\n      <td>1.0</td>\n      <td>0.0</td>\n      <td>0.000000</td>\n      <td>0.3</td>\n      <td>0.250000</td>\n      <td>0.000000</td>\n      <td>0.500000</td>\n      <td>0.000000</td>\n    </tr>\n    <tr>\n      <th>2</th>\n      <td>5.376134</td>\n      <td>0.431834</td>\n      <td>3</td>\n      <td>1.0</td>\n      <td>0.0</td>\n      <td>0.799686</td>\n      <td>1.0</td>\n      <td>1.0</td>\n      <td>0.0</td>\n      <td>0.166667</td>\n      <td>0.0</td>\n      <td>0.881019</td>\n      <td>0.000000</td>\n      <td>0.528762</td>\n      <td>0.000000</td>\n    </tr>\n    <tr>\n      <th>3</th>\n      <td>5.154144</td>\n      <td>0.392789</td>\n      <td>2</td>\n      <td>1.0</td>\n      <td>0.0</td>\n      <td>0.838963</td>\n      <td>1.0</td>\n      <td>1.0</td>\n      <td>0.0</td>\n      <td>0.000000</td>\n      <td>0.0</td>\n      <td>0.315181</td>\n      <td>0.000000</td>\n      <td>1.000000</td>\n      <td>0.000000</td>\n    </tr>\n    <tr>\n      <th>4</th>\n      <td>3.863178</td>\n      <td>0.329932</td>\n      <td>2</td>\n      <td>1.0</td>\n      <td>0.0</td>\n      <td>0.902592</td>\n      <td>1.0</td>\n      <td>0.0</td>\n      <td>0.0</td>\n      <td>0.166667</td>\n      <td>0.0</td>\n      <td>0.250000</td>\n      <td>0.000000</td>\n      <td>0.543919</td>\n      <td>0.000000</td>\n    </tr>\n    <tr>\n      <th>...</th>\n      <th>...</th>\n      <td>...</td>\n      <td>...</td>\n      <td>...</td>\n      <td>...</td>\n      <td>...</td>\n      <td>...</td>\n      <td>...</td>\n      <td>...</td>\n      <td>...</td>\n      <td>...</td>\n      <td>...</td>\n      <td>...</td>\n      <td>...</td>\n      <td>...</td>\n      <td>...</td>\n    </tr>\n    <tr>\n      <th rowspan=\"5\" valign=\"top\">119</th>\n      <th>9439</th>\n      <td>1.901021</td>\n      <td>0.059977</td>\n      <td>0</td>\n      <td>1.0</td>\n      <td>0.0</td>\n      <td>0.901021</td>\n      <td>0.0</td>\n      <td>0.0</td>\n      <td>0.0</td>\n      <td>0.000000</td>\n      <td>0.0</td>\n      <td>0.000000</td>\n      <td>0.000000</td>\n      <td>0.000000</td>\n      <td>0.000000</td>\n    </tr>\n    <tr>\n      <th>9440</th>\n      <td>3.244941</td>\n      <td>0.241749</td>\n      <td>1</td>\n      <td>1.0</td>\n      <td>0.0</td>\n      <td>0.854674</td>\n      <td>1.0</td>\n      <td>0.0</td>\n      <td>0.0</td>\n      <td>0.350000</td>\n      <td>0.0</td>\n      <td>0.021667</td>\n      <td>0.014727</td>\n      <td>0.003873</td>\n      <td>0.000000</td>\n    </tr>\n    <tr>\n      <th>9441</th>\n      <td>0.851532</td>\n      <td>0.035586</td>\n      <td>0</td>\n      <td>0.0</td>\n      <td>0.0</td>\n      <td>0.851532</td>\n      <td>0.0</td>\n      <td>0.0</td>\n      <td>0.0</td>\n      <td>0.000000</td>\n      <td>0.0</td>\n      <td>0.000000</td>\n      <td>0.000000</td>\n      <td>0.000000</td>\n      <td>0.000000</td>\n    </tr>\n    <tr>\n      <th>9442</th>\n      <td>1.225828</td>\n      <td>0.048867</td>\n      <td>0</td>\n      <td>0.0</td>\n      <td>0.0</td>\n      <td>0.873527</td>\n      <td>0.0</td>\n      <td>0.0</td>\n      <td>0.0</td>\n      <td>0.350000</td>\n      <td>0.0</td>\n      <td>0.000355</td>\n      <td>0.000410</td>\n      <td>0.001536</td>\n      <td>0.000000</td>\n    </tr>\n    <tr>\n      <th>9443</th>\n      <td>2.142064</td>\n      <td>0.146586</td>\n      <td>1</td>\n      <td>1.0</td>\n      <td>0.0</td>\n      <td>0.787903</td>\n      <td>0.0</td>\n      <td>0.0</td>\n      <td>0.0</td>\n      <td>0.350000</td>\n      <td>0.0</td>\n      <td>0.000000</td>\n      <td>0.000000</td>\n      <td>0.003404</td>\n      <td>0.000758</td>\n    </tr>\n  </tbody>\n</table>\n<p>9444 rows × 15 columns</p>\n</div>"
     },
     "execution_count": 4,
     "metadata": {},
     "output_type": "execute_result"
    }
   ],
   "source": [
    "dataset"
   ],
   "metadata": {
    "collapsed": false,
    "ExecuteTime": {
     "end_time": "2023-11-21T15:32:35.678328100Z",
     "start_time": "2023-11-21T15:32:35.086861900Z"
    }
   },
   "id": "98a6cebbc2f906c6"
  }
 ],
 "metadata": {
  "kernelspec": {
   "display_name": "Python 3",
   "language": "python",
   "name": "python3"
  },
  "language_info": {
   "codemirror_mode": {
    "name": "ipython",
    "version": 2
   },
   "file_extension": ".py",
   "mimetype": "text/x-python",
   "name": "python",
   "nbconvert_exporter": "python",
   "pygments_lexer": "ipython2",
   "version": "2.7.6"
  }
 },
 "nbformat": 4,
 "nbformat_minor": 5
}
