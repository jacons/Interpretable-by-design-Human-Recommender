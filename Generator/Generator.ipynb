{
 "cells": [
  {
   "cell_type": "code",
   "execution_count": 1,
   "outputs": [],
   "source": [
    "from Class_utils.parameters import *\n",
    "from Class_utils.JobGraph import JobGraph\n",
    "from Class_utils.FitnessFunctions import FitnessFunctions\n",
    "from Generator.JobGenerator import JobGenerator\n",
    "from Generator.MatchingScore import MatchingScore\n",
    "\n",
    "\n",
    "%reload_ext autoreload\n",
    "%autoreload 2\n"
   ],
   "metadata": {
    "collapsed": false,
    "ExecuteTime": {
     "end_time": "2023-12-03T17:32:32.695633500Z",
     "start_time": "2023-12-03T17:32:30.156679700Z"
    }
   },
   "id": "6b6c22f15096c2ef"
  },
  {
   "cell_type": "code",
   "execution_count": 2,
   "outputs": [
    {
     "name": "stdout",
     "output_type": "stream",
     "text": [
      "Cache found loading...done\n"
     ]
    }
   ],
   "source": [
    "job_graph = JobGraph(file_paths, **job_graph_par)"
   ],
   "metadata": {
    "collapsed": false,
    "ExecuteTime": {
     "end_time": "2023-12-03T17:32:36.712275700Z",
     "start_time": "2023-12-03T17:32:32.703710900Z"
    }
   },
   "id": "56e00635f044f9d4"
  },
  {
   "cell_type": "code",
   "execution_count": 3,
   "outputs": [],
   "source": [
    "gen = JobGenerator(job_graph, file_paths)"
   ],
   "metadata": {
    "collapsed": false,
    "ExecuteTime": {
     "end_time": "2023-12-03T17:32:36.956614200Z",
     "start_time": "2023-12-03T17:32:36.716315600Z"
    }
   },
   "id": "8cfba54bdd3062b6"
  },
  {
   "cell_type": "code",
   "execution_count": 4,
   "outputs": [
    {
     "name": "stderr",
     "output_type": "stream",
     "text": [
      "Generating the job-offers: 100%|██████████| 200/200 [00:00<00:00, 556.95it/s]\n",
      "Generating the curricula: 100%|██████████| 200/200 [00:36<00:00,  5.53it/s, qId=199]\n",
      "Updating with synonyms...: 100%|██████████| 100/100 [00:00<00:00, 1291.91it/s]\n",
      "Updating with synonyms...: 100%|██████████| 12729/12729 [00:36<00:00, 349.34it/s]\n"
     ]
    }
   ],
   "source": [
    "job_offers = gen.get_job_offers(**jobOffer_par)\n",
    "curricula = gen.generate_cvs(job_offers, **curriculum_par)\n",
    "gen.upgrade_with_synonymous(\"offer\", job_offers, 0.5)\n",
    "gen.upgrade_with_synonymous(\"cv\", curricula, 0.8)\n",
    "gen.save_job_offers(**output_dir,offers=job_offers, name=0)\n",
    "gen.save_curricula(**output_dir,curricula=curricula,name=0)"
   ],
   "metadata": {
    "collapsed": false,
    "ExecuteTime": {
     "end_time": "2023-12-03T17:33:50.412223100Z",
     "start_time": "2023-12-03T17:32:36.956614200Z"
    }
   },
   "id": "57c5fcb6a831fea5"
  },
  {
   "cell_type": "code",
   "execution_count": 5,
   "outputs": [
    {
     "name": "stderr",
     "output_type": "stream",
     "text": [
      "Generating the fitness scores: 100%|██████████| 200/200 [00:35<00:00,  5.58it/s, qId=199]\n"
     ]
    }
   ],
   "source": [
    "match = MatchingScore(FitnessFunctions(file_paths, job_graph), **matching_par)\n",
    "_ = match.score_function(job_offers, curricula, **match_score_par, name=\"0\")"
   ],
   "metadata": {
    "collapsed": false,
    "ExecuteTime": {
     "end_time": "2023-12-03T17:34:27.868250900Z",
     "start_time": "2023-12-03T17:33:50.416367100Z"
    }
   },
   "id": "9e7893345516c557"
  },
  {
   "cell_type": "code",
   "execution_count": 6,
   "outputs": [
    {
     "name": "stderr",
     "output_type": "stream",
     "text": [
      "Generating the fitness scores: 100%|██████████| 200/200 [00:03<00:00, 64.56it/s, qId=199]\n"
     ]
    }
   ],
   "source": [
    "match = MatchingScore(FitnessFunctions(file_paths), **matching_par)\n",
    "_ = match.score_function(job_offers, curricula, **match_score_par, name=\"1\")"
   ],
   "metadata": {
    "collapsed": false,
    "ExecuteTime": {
     "end_time": "2023-12-03T17:34:32.574829100Z",
     "start_time": "2023-12-03T17:34:27.868250900Z"
    }
   },
   "id": "b9dbd387d6e083ea"
  },
  {
   "cell_type": "code",
   "execution_count": 7,
   "outputs": [],
   "source": [
    "# 0 with synonyms with job-grap\n",
    "# 1 with synonyms without job-graph"
   ],
   "metadata": {
    "collapsed": false,
    "ExecuteTime": {
     "end_time": "2023-12-03T17:34:32.645571600Z",
     "start_time": "2023-12-03T17:34:32.576472600Z"
    }
   },
   "id": "960d3a644bee40a"
  }
 ],
 "metadata": {
  "kernelspec": {
   "display_name": "Python 3",
   "language": "python",
   "name": "python3"
  },
  "language_info": {
   "codemirror_mode": {
    "name": "ipython",
    "version": 2
   },
   "file_extension": ".py",
   "mimetype": "text/x-python",
   "name": "python",
   "nbconvert_exporter": "python",
   "pygments_lexer": "ipython2",
   "version": "2.7.6"
  }
 },
 "nbformat": 4,
 "nbformat_minor": 5
}
