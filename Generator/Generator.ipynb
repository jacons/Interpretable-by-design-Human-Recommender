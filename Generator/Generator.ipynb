{
 "cells": [
  {
   "cell_type": "code",
   "execution_count": 1,
   "outputs": [],
   "source": [
    "from Class_utils.parameters import *\n",
    "from Class_utils.JobGraph import JobGraph\n",
    "from Class_utils.FitnessFunctions import FitnessFunctions\n",
    "from Generator.JobGenerator import JobGenerator\n",
    "from Generator.MatchingScore import MatchingScore\n",
    "\n",
    "\n",
    "%reload_ext autoreload\n",
    "%autoreload 2\n"
   ],
   "metadata": {
    "collapsed": false,
    "ExecuteTime": {
     "end_time": "2023-11-23T19:23:40.007423700Z",
     "start_time": "2023-11-23T19:23:37.468663400Z"
    }
   },
   "id": "6b6c22f15096c2ef"
  },
  {
   "cell_type": "code",
   "execution_count": 2,
   "outputs": [
    {
     "name": "stdout",
     "output_type": "stream",
     "text": [
      "Cache found loading...done\n"
     ]
    }
   ],
   "source": [
    "job_graph = JobGraph(file_paths, **job_graph_par)\n",
    "fitness_functions = FitnessFunctions(job_graph, file_paths)\n",
    "gen = JobGenerator(job_graph, file_paths)\n",
    "match = MatchingScore(job_graph,fitness_functions, **matching_par)"
   ],
   "metadata": {
    "collapsed": false,
    "ExecuteTime": {
     "end_time": "2023-11-23T19:23:43.031841700Z",
     "start_time": "2023-11-23T19:23:40.007423700Z"
    }
   },
   "id": "8cfba54bdd3062b6"
  },
  {
   "cell_type": "code",
   "execution_count": 3,
   "outputs": [
    {
     "name": "stderr",
     "output_type": "stream",
     "text": [
      "Generating the job-offers: 100%|██████████| 120/120 [00:00<00:00, 379.11it/s]\n",
      "Generating the curricula: 100%|██████████| 120/120 [00:15<00:00,  7.56it/s, qId=119]\n",
      "Generating the fitness scores: 100%|██████████| 120/120 [00:15<00:00,  7.65it/s, qId=119]\n"
     ]
    }
   ],
   "source": [
    "job_offers = gen.get_job_offers(**jobOffer_par, name=\"0\")\n",
    "curricula = gen.generate_cvs(job_offers, **curriculum_par, name=\"0\")\n",
    "dataset = match.score_function(job_offers, curricula, **match_score_par, name=\"0\")"
   ],
   "metadata": {
    "collapsed": false,
    "ExecuteTime": {
     "end_time": "2023-11-23T19:24:15.685932400Z",
     "start_time": "2023-11-23T19:23:43.031841700Z"
    }
   },
   "id": "4b7f7186edabd244"
  },
  {
   "cell_type": "code",
   "execution_count": 4,
   "outputs": [
    {
     "data": {
      "text/plain": "             score   w_score  relevance  fitness_edu_basic  fitness_edu_bonus  \\\nqId kId                                                                         \n0   0     4.448940  0.492934          3                1.0                0.0   \n    1     6.183032  0.614811          4                1.0                0.0   \n    2     5.397145  0.453688          3                1.0                0.0   \n    3     4.802293  0.513724          3                1.0                0.0   \n    4     4.830676  0.545631          3                1.0                0.0   \n...            ...       ...        ...                ...                ...   \n119 9610  1.507202  0.145546          1                1.0                0.5   \n    9611  1.595217  0.080863          0                1.0                0.0   \n    9612  2.004935  0.128403          0                1.0                0.0   \n    9613  2.500000  0.206591          1                1.0                0.5   \n    9614  2.500000  0.215706          1                1.0                0.5   \n\n          fitness_city  fitness_age  fitness_exp_basic  fitness_exp_bonus  \\\nqId kId                                                                     \n0   0         0.387274          1.0                0.0                0.0   \n    1         0.183032          1.0                1.0                0.5   \n    2         0.000000          1.0                1.0                0.5   \n    3         0.000000          1.0                0.0                0.0   \n    4         0.000000          1.0                0.0                0.0   \n...                ...          ...                ...                ...   \n119 9610      0.000000          0.0                0.0                0.0   \n    9611      0.591516          0.0                0.0                0.0   \n    9612      0.000000          0.0                1.0                0.0   \n    9613      0.000000          0.0                1.0                0.0   \n    9614      0.000000          1.0                0.0                0.0   \n\n          fitness_lang_basic  fitness_lang_bonus  fitness_comp_basic  \\\nqId kId                                                                \n0   0                    0.0                 0.0            1.000000   \n    1                    0.0                 0.0            1.000000   \n    2                    0.0                 0.0            0.850818   \n    3                    1.0                 0.0            0.302293   \n    4                    1.0                 0.0            0.750000   \n...                      ...                 ...                 ...   \n119 9610                 0.0                 0.0            0.004933   \n    9611                 0.0                 0.0            0.000000   \n    9612                 0.0                 0.0            0.004935   \n    9613                 0.0                 0.0            0.000000   \n    9614                 0.0                 0.0            0.000000   \n\n          fitness_comp_bonus  fitness_know_basic  fitness_knowl_bonus  \nqId kId                                                                \n0   0               0.061666            1.000000                  0.0  \n    1               0.500000            1.000000                  0.0  \n    2               0.046326            1.000000                  0.0  \n    3               0.500000            1.000000                  0.0  \n    4               0.080676            1.000000                  0.0  \n...                      ...                 ...                  ...  \n119 9610            0.000000            0.002268                  0.0  \n    9611            0.000000            0.003701                  0.0  \n    9612            0.000000            0.000000                  0.0  \n    9613            0.000000            0.000000                  0.0  \n    9614            0.000000            0.000000                  0.0  \n\n[9615 rows x 15 columns]",
      "text/html": "<div>\n<style scoped>\n    .dataframe tbody tr th:only-of-type {\n        vertical-align: middle;\n    }\n\n    .dataframe tbody tr th {\n        vertical-align: top;\n    }\n\n    .dataframe thead th {\n        text-align: right;\n    }\n</style>\n<table border=\"1\" class=\"dataframe\">\n  <thead>\n    <tr style=\"text-align: right;\">\n      <th></th>\n      <th></th>\n      <th>score</th>\n      <th>w_score</th>\n      <th>relevance</th>\n      <th>fitness_edu_basic</th>\n      <th>fitness_edu_bonus</th>\n      <th>fitness_city</th>\n      <th>fitness_age</th>\n      <th>fitness_exp_basic</th>\n      <th>fitness_exp_bonus</th>\n      <th>fitness_lang_basic</th>\n      <th>fitness_lang_bonus</th>\n      <th>fitness_comp_basic</th>\n      <th>fitness_comp_bonus</th>\n      <th>fitness_know_basic</th>\n      <th>fitness_knowl_bonus</th>\n    </tr>\n    <tr>\n      <th>qId</th>\n      <th>kId</th>\n      <th></th>\n      <th></th>\n      <th></th>\n      <th></th>\n      <th></th>\n      <th></th>\n      <th></th>\n      <th></th>\n      <th></th>\n      <th></th>\n      <th></th>\n      <th></th>\n      <th></th>\n      <th></th>\n      <th></th>\n    </tr>\n  </thead>\n  <tbody>\n    <tr>\n      <th rowspan=\"5\" valign=\"top\">0</th>\n      <th>0</th>\n      <td>4.448940</td>\n      <td>0.492934</td>\n      <td>3</td>\n      <td>1.0</td>\n      <td>0.0</td>\n      <td>0.387274</td>\n      <td>1.0</td>\n      <td>0.0</td>\n      <td>0.0</td>\n      <td>0.0</td>\n      <td>0.0</td>\n      <td>1.000000</td>\n      <td>0.061666</td>\n      <td>1.000000</td>\n      <td>0.0</td>\n    </tr>\n    <tr>\n      <th>1</th>\n      <td>6.183032</td>\n      <td>0.614811</td>\n      <td>4</td>\n      <td>1.0</td>\n      <td>0.0</td>\n      <td>0.183032</td>\n      <td>1.0</td>\n      <td>1.0</td>\n      <td>0.5</td>\n      <td>0.0</td>\n      <td>0.0</td>\n      <td>1.000000</td>\n      <td>0.500000</td>\n      <td>1.000000</td>\n      <td>0.0</td>\n    </tr>\n    <tr>\n      <th>2</th>\n      <td>5.397145</td>\n      <td>0.453688</td>\n      <td>3</td>\n      <td>1.0</td>\n      <td>0.0</td>\n      <td>0.000000</td>\n      <td>1.0</td>\n      <td>1.0</td>\n      <td>0.5</td>\n      <td>0.0</td>\n      <td>0.0</td>\n      <td>0.850818</td>\n      <td>0.046326</td>\n      <td>1.000000</td>\n      <td>0.0</td>\n    </tr>\n    <tr>\n      <th>3</th>\n      <td>4.802293</td>\n      <td>0.513724</td>\n      <td>3</td>\n      <td>1.0</td>\n      <td>0.0</td>\n      <td>0.000000</td>\n      <td>1.0</td>\n      <td>0.0</td>\n      <td>0.0</td>\n      <td>1.0</td>\n      <td>0.0</td>\n      <td>0.302293</td>\n      <td>0.500000</td>\n      <td>1.000000</td>\n      <td>0.0</td>\n    </tr>\n    <tr>\n      <th>4</th>\n      <td>4.830676</td>\n      <td>0.545631</td>\n      <td>3</td>\n      <td>1.0</td>\n      <td>0.0</td>\n      <td>0.000000</td>\n      <td>1.0</td>\n      <td>0.0</td>\n      <td>0.0</td>\n      <td>1.0</td>\n      <td>0.0</td>\n      <td>0.750000</td>\n      <td>0.080676</td>\n      <td>1.000000</td>\n      <td>0.0</td>\n    </tr>\n    <tr>\n      <th>...</th>\n      <th>...</th>\n      <td>...</td>\n      <td>...</td>\n      <td>...</td>\n      <td>...</td>\n      <td>...</td>\n      <td>...</td>\n      <td>...</td>\n      <td>...</td>\n      <td>...</td>\n      <td>...</td>\n      <td>...</td>\n      <td>...</td>\n      <td>...</td>\n      <td>...</td>\n      <td>...</td>\n    </tr>\n    <tr>\n      <th rowspan=\"5\" valign=\"top\">119</th>\n      <th>9610</th>\n      <td>1.507202</td>\n      <td>0.145546</td>\n      <td>1</td>\n      <td>1.0</td>\n      <td>0.5</td>\n      <td>0.000000</td>\n      <td>0.0</td>\n      <td>0.0</td>\n      <td>0.0</td>\n      <td>0.0</td>\n      <td>0.0</td>\n      <td>0.004933</td>\n      <td>0.000000</td>\n      <td>0.002268</td>\n      <td>0.0</td>\n    </tr>\n    <tr>\n      <th>9611</th>\n      <td>1.595217</td>\n      <td>0.080863</td>\n      <td>0</td>\n      <td>1.0</td>\n      <td>0.0</td>\n      <td>0.591516</td>\n      <td>0.0</td>\n      <td>0.0</td>\n      <td>0.0</td>\n      <td>0.0</td>\n      <td>0.0</td>\n      <td>0.000000</td>\n      <td>0.000000</td>\n      <td>0.003701</td>\n      <td>0.0</td>\n    </tr>\n    <tr>\n      <th>9612</th>\n      <td>2.004935</td>\n      <td>0.128403</td>\n      <td>0</td>\n      <td>1.0</td>\n      <td>0.0</td>\n      <td>0.000000</td>\n      <td>0.0</td>\n      <td>1.0</td>\n      <td>0.0</td>\n      <td>0.0</td>\n      <td>0.0</td>\n      <td>0.004935</td>\n      <td>0.000000</td>\n      <td>0.000000</td>\n      <td>0.0</td>\n    </tr>\n    <tr>\n      <th>9613</th>\n      <td>2.500000</td>\n      <td>0.206591</td>\n      <td>1</td>\n      <td>1.0</td>\n      <td>0.5</td>\n      <td>0.000000</td>\n      <td>0.0</td>\n      <td>1.0</td>\n      <td>0.0</td>\n      <td>0.0</td>\n      <td>0.0</td>\n      <td>0.000000</td>\n      <td>0.000000</td>\n      <td>0.000000</td>\n      <td>0.0</td>\n    </tr>\n    <tr>\n      <th>9614</th>\n      <td>2.500000</td>\n      <td>0.215706</td>\n      <td>1</td>\n      <td>1.0</td>\n      <td>0.5</td>\n      <td>0.000000</td>\n      <td>1.0</td>\n      <td>0.0</td>\n      <td>0.0</td>\n      <td>0.0</td>\n      <td>0.0</td>\n      <td>0.000000</td>\n      <td>0.000000</td>\n      <td>0.000000</td>\n      <td>0.0</td>\n    </tr>\n  </tbody>\n</table>\n<p>9615 rows × 15 columns</p>\n</div>"
     },
     "execution_count": 4,
     "metadata": {},
     "output_type": "execute_result"
    }
   ],
   "source": [
    "dataset"
   ],
   "metadata": {
    "collapsed": false,
    "ExecuteTime": {
     "end_time": "2023-11-23T19:24:15.778812100Z",
     "start_time": "2023-11-23T19:24:15.688236900Z"
    }
   },
   "id": "98a6cebbc2f906c6"
  },
  {
   "cell_type": "code",
   "execution_count": 4,
   "outputs": [],
   "source": [],
   "metadata": {
    "collapsed": false,
    "ExecuteTime": {
     "end_time": "2023-11-23T19:24:15.778812100Z",
     "start_time": "2023-11-23T19:24:15.778812100Z"
    }
   },
   "id": "d39660e40d11948c"
  }
 ],
 "metadata": {
  "kernelspec": {
   "display_name": "Python 3",
   "language": "python",
   "name": "python3"
  },
  "language_info": {
   "codemirror_mode": {
    "name": "ipython",
    "version": 2
   },
   "file_extension": ".py",
   "mimetype": "text/x-python",
   "name": "python",
   "nbconvert_exporter": "python",
   "pygments_lexer": "ipython2",
   "version": "2.7.6"
  }
 },
 "nbformat": 4,
 "nbformat_minor": 5
}
