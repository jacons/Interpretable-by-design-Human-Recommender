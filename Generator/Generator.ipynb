{
 "cells": [
  {
   "cell_type": "code",
   "execution_count": 8,
   "outputs": [],
   "source": [
    "from Class_utils.parameters import *\n",
    "from Class_utils.JobGraph import JobGraph\n",
    "from Class_utils.FitnessFunctions import FitnessFunctions\n",
    "from Generator.JobGenerator import JobGenerator\n",
    "from Generator.MatchingScore import MatchingScore\n",
    "\n",
    "\n",
    "%reload_ext autoreload\n",
    "%autoreload 2\n"
   ],
   "metadata": {
    "collapsed": false,
    "ExecuteTime": {
     "end_time": "2023-11-23T10:24:43.901832700Z",
     "start_time": "2023-11-23T10:24:43.460913800Z"
    }
   },
   "id": "6b6c22f15096c2ef"
  },
  {
   "cell_type": "code",
   "execution_count": 9,
   "outputs": [
    {
     "name": "stdout",
     "output_type": "stream",
     "text": [
      "Cache found loading...done\n"
     ]
    }
   ],
   "source": [
    "job_graph = JobGraph(file_paths, **job_graph_par)\n",
    "fitness_functions = FitnessFunctions(job_graph, file_paths)\n",
    "gen = JobGenerator(job_graph, file_paths)\n",
    "match = MatchingScore(job_graph,fitness_functions, **matching_par)"
   ],
   "metadata": {
    "collapsed": false,
    "ExecuteTime": {
     "end_time": "2023-11-23T10:24:45.922045400Z",
     "start_time": "2023-11-23T10:24:43.906923Z"
    }
   },
   "id": "8cfba54bdd3062b6"
  },
  {
   "cell_type": "code",
   "execution_count": 10,
   "outputs": [
    {
     "name": "stderr",
     "output_type": "stream",
     "text": [
      "Generating the job-offers: 100%|██████████| 120/120 [00:00<00:00, 603.37it/s]\n",
      "Generating the curricula: 100%|██████████| 120/120 [00:15<00:00,  7.72it/s, qId=119]\n",
      "Generating the fitness scores: 100%|██████████| 120/120 [00:13<00:00,  9.21it/s, qId=119]\n"
     ]
    }
   ],
   "source": [
    "job_offers = gen.get_job_offers(**jobOffer_par, name=\"0\")\n",
    "curricula = gen.generate_cvs(job_offers, **curriculum_par, name=\"0\")\n",
    "dataset = match.score_function(job_offers, curricula, **match_score_par, name=\"0\")"
   ],
   "metadata": {
    "collapsed": false,
    "ExecuteTime": {
     "end_time": "2023-11-23T10:25:15.551029300Z",
     "start_time": "2023-11-23T10:24:45.922045400Z"
    }
   },
   "id": "4b7f7186edabd244"
  },
  {
   "cell_type": "code",
   "execution_count": 11,
   "outputs": [
    {
     "data": {
      "text/plain": "             score   w_score  relevance  fitness_edu_basic  fitness_edu_bonus  \\\nqId kId                                                                         \n0   0     6.830462  0.658517          5                1.0                0.0   \n    1     6.006233  0.591833          4                1.0                0.0   \n    2     5.216621  0.563848          4                1.0                0.0   \n    3     5.481782  0.519164          4                1.0                0.0   \n    4     5.613769  0.454088          3                1.0                0.0   \n...            ...       ...        ...                ...                ...   \n119 9492  1.867586  0.148505          1                1.0                0.0   \n    9493  1.974785  0.150374          1                1.0                0.0   \n    9494  3.586540  0.244350          1                1.0                0.0   \n    9495  1.613854  0.135724          1                1.0                0.0   \n    9496  1.896308  0.145127          1                1.0                0.0   \n\n          fitness_city  fitness_age  fitness_exp_basic  fitness_exp_bonus  \\\nqId kId                                                                     \n0   0         0.558523          1.0                1.0                0.0   \n    1         0.280440          1.0                1.0                0.0   \n    2         0.500393          0.0                1.0                0.0   \n    3         0.947368          1.0                0.0                0.0   \n    4         0.860958          1.0                1.0                0.0   \n...                ...          ...                ...                ...   \n119 9492      0.736057          0.0                0.0                0.0   \n    9493      0.841320          0.0                0.0                0.0   \n    9494      0.581304          0.0                1.0                0.5   \n    9495      0.566379          0.0                0.0                0.0   \n    9496      0.801257          0.0                0.0                0.0   \n\n          fitness_lang_basic  fitness_lang_bonus  fitness_comp_basic  \\\nqId kId                                                                \n0   0               1.000000                 0.0            1.000000   \n    1               0.700000                 0.0            1.000000   \n    2               0.700000                 0.0            1.000000   \n    3               1.000000                 0.0            1.000000   \n    4               0.700000                 0.0            0.524649   \n...                      ...                 ...                 ...   \n119 9492            0.125000                 0.0            0.000000   \n    9493            0.125000                 0.0            0.000565   \n    9494            0.500000                 0.0            0.001894   \n    9495            0.041667                 0.0            0.003969   \n    9496            0.083333                 0.0            0.008265   \n\n          fitness_comp_bonus  fitness_know_basic  fitness_knowl_bonus  \nqId kId                                                                \n0   0               0.019603            1.000000             0.252336  \n    1               0.019505            1.000000             0.006288  \n    2               0.013877            1.000000             0.002351  \n    3               0.007920            0.525525             0.000969  \n    4               0.004375            0.521739             0.002047  \n...                      ...                 ...                  ...  \n119 9492            0.000000            0.006529             0.000000  \n    9493            0.000422            0.007479             0.000000  \n    9494            0.000104            0.001152             0.002085  \n    9495            0.000000            0.001840             0.000000  \n    9496            0.002241            0.001211             0.000000  \n\n[9497 rows x 15 columns]",
      "text/html": "<div>\n<style scoped>\n    .dataframe tbody tr th:only-of-type {\n        vertical-align: middle;\n    }\n\n    .dataframe tbody tr th {\n        vertical-align: top;\n    }\n\n    .dataframe thead th {\n        text-align: right;\n    }\n</style>\n<table border=\"1\" class=\"dataframe\">\n  <thead>\n    <tr style=\"text-align: right;\">\n      <th></th>\n      <th></th>\n      <th>score</th>\n      <th>w_score</th>\n      <th>relevance</th>\n      <th>fitness_edu_basic</th>\n      <th>fitness_edu_bonus</th>\n      <th>fitness_city</th>\n      <th>fitness_age</th>\n      <th>fitness_exp_basic</th>\n      <th>fitness_exp_bonus</th>\n      <th>fitness_lang_basic</th>\n      <th>fitness_lang_bonus</th>\n      <th>fitness_comp_basic</th>\n      <th>fitness_comp_bonus</th>\n      <th>fitness_know_basic</th>\n      <th>fitness_knowl_bonus</th>\n    </tr>\n    <tr>\n      <th>qId</th>\n      <th>kId</th>\n      <th></th>\n      <th></th>\n      <th></th>\n      <th></th>\n      <th></th>\n      <th></th>\n      <th></th>\n      <th></th>\n      <th></th>\n      <th></th>\n      <th></th>\n      <th></th>\n      <th></th>\n      <th></th>\n      <th></th>\n    </tr>\n  </thead>\n  <tbody>\n    <tr>\n      <th rowspan=\"5\" valign=\"top\">0</th>\n      <th>0</th>\n      <td>6.830462</td>\n      <td>0.658517</td>\n      <td>5</td>\n      <td>1.0</td>\n      <td>0.0</td>\n      <td>0.558523</td>\n      <td>1.0</td>\n      <td>1.0</td>\n      <td>0.0</td>\n      <td>1.000000</td>\n      <td>0.0</td>\n      <td>1.000000</td>\n      <td>0.019603</td>\n      <td>1.000000</td>\n      <td>0.252336</td>\n    </tr>\n    <tr>\n      <th>1</th>\n      <td>6.006233</td>\n      <td>0.591833</td>\n      <td>4</td>\n      <td>1.0</td>\n      <td>0.0</td>\n      <td>0.280440</td>\n      <td>1.0</td>\n      <td>1.0</td>\n      <td>0.0</td>\n      <td>0.700000</td>\n      <td>0.0</td>\n      <td>1.000000</td>\n      <td>0.019505</td>\n      <td>1.000000</td>\n      <td>0.006288</td>\n    </tr>\n    <tr>\n      <th>2</th>\n      <td>5.216621</td>\n      <td>0.563848</td>\n      <td>4</td>\n      <td>1.0</td>\n      <td>0.0</td>\n      <td>0.500393</td>\n      <td>0.0</td>\n      <td>1.0</td>\n      <td>0.0</td>\n      <td>0.700000</td>\n      <td>0.0</td>\n      <td>1.000000</td>\n      <td>0.013877</td>\n      <td>1.000000</td>\n      <td>0.002351</td>\n    </tr>\n    <tr>\n      <th>3</th>\n      <td>5.481782</td>\n      <td>0.519164</td>\n      <td>4</td>\n      <td>1.0</td>\n      <td>0.0</td>\n      <td>0.947368</td>\n      <td>1.0</td>\n      <td>0.0</td>\n      <td>0.0</td>\n      <td>1.000000</td>\n      <td>0.0</td>\n      <td>1.000000</td>\n      <td>0.007920</td>\n      <td>0.525525</td>\n      <td>0.000969</td>\n    </tr>\n    <tr>\n      <th>4</th>\n      <td>5.613769</td>\n      <td>0.454088</td>\n      <td>3</td>\n      <td>1.0</td>\n      <td>0.0</td>\n      <td>0.860958</td>\n      <td>1.0</td>\n      <td>1.0</td>\n      <td>0.0</td>\n      <td>0.700000</td>\n      <td>0.0</td>\n      <td>0.524649</td>\n      <td>0.004375</td>\n      <td>0.521739</td>\n      <td>0.002047</td>\n    </tr>\n    <tr>\n      <th>...</th>\n      <th>...</th>\n      <td>...</td>\n      <td>...</td>\n      <td>...</td>\n      <td>...</td>\n      <td>...</td>\n      <td>...</td>\n      <td>...</td>\n      <td>...</td>\n      <td>...</td>\n      <td>...</td>\n      <td>...</td>\n      <td>...</td>\n      <td>...</td>\n      <td>...</td>\n      <td>...</td>\n    </tr>\n    <tr>\n      <th rowspan=\"5\" valign=\"top\">119</th>\n      <th>9492</th>\n      <td>1.867586</td>\n      <td>0.148505</td>\n      <td>1</td>\n      <td>1.0</td>\n      <td>0.0</td>\n      <td>0.736057</td>\n      <td>0.0</td>\n      <td>0.0</td>\n      <td>0.0</td>\n      <td>0.125000</td>\n      <td>0.0</td>\n      <td>0.000000</td>\n      <td>0.000000</td>\n      <td>0.006529</td>\n      <td>0.000000</td>\n    </tr>\n    <tr>\n      <th>9493</th>\n      <td>1.974785</td>\n      <td>0.150374</td>\n      <td>1</td>\n      <td>1.0</td>\n      <td>0.0</td>\n      <td>0.841320</td>\n      <td>0.0</td>\n      <td>0.0</td>\n      <td>0.0</td>\n      <td>0.125000</td>\n      <td>0.0</td>\n      <td>0.000565</td>\n      <td>0.000422</td>\n      <td>0.007479</td>\n      <td>0.000000</td>\n    </tr>\n    <tr>\n      <th>9494</th>\n      <td>3.586540</td>\n      <td>0.244350</td>\n      <td>1</td>\n      <td>1.0</td>\n      <td>0.0</td>\n      <td>0.581304</td>\n      <td>0.0</td>\n      <td>1.0</td>\n      <td>0.5</td>\n      <td>0.500000</td>\n      <td>0.0</td>\n      <td>0.001894</td>\n      <td>0.000104</td>\n      <td>0.001152</td>\n      <td>0.002085</td>\n    </tr>\n    <tr>\n      <th>9495</th>\n      <td>1.613854</td>\n      <td>0.135724</td>\n      <td>1</td>\n      <td>1.0</td>\n      <td>0.0</td>\n      <td>0.566379</td>\n      <td>0.0</td>\n      <td>0.0</td>\n      <td>0.0</td>\n      <td>0.041667</td>\n      <td>0.0</td>\n      <td>0.003969</td>\n      <td>0.000000</td>\n      <td>0.001840</td>\n      <td>0.000000</td>\n    </tr>\n    <tr>\n      <th>9496</th>\n      <td>1.896308</td>\n      <td>0.145127</td>\n      <td>1</td>\n      <td>1.0</td>\n      <td>0.0</td>\n      <td>0.801257</td>\n      <td>0.0</td>\n      <td>0.0</td>\n      <td>0.0</td>\n      <td>0.083333</td>\n      <td>0.0</td>\n      <td>0.008265</td>\n      <td>0.002241</td>\n      <td>0.001211</td>\n      <td>0.000000</td>\n    </tr>\n  </tbody>\n</table>\n<p>9497 rows × 15 columns</p>\n</div>"
     },
     "execution_count": 11,
     "metadata": {},
     "output_type": "execute_result"
    }
   ],
   "source": [
    "dataset"
   ],
   "metadata": {
    "collapsed": false,
    "ExecuteTime": {
     "end_time": "2023-11-23T10:25:15.821848100Z",
     "start_time": "2023-11-23T10:25:15.555012100Z"
    }
   },
   "id": "98a6cebbc2f906c6"
  },
  {
   "cell_type": "code",
   "execution_count": 11,
   "outputs": [],
   "source": [],
   "metadata": {
    "collapsed": false,
    "ExecuteTime": {
     "end_time": "2023-11-23T10:25:15.821848100Z",
     "start_time": "2023-11-23T10:25:15.821285100Z"
    }
   },
   "id": "d39660e40d11948c"
  }
 ],
 "metadata": {
  "kernelspec": {
   "display_name": "Python 3",
   "language": "python",
   "name": "python3"
  },
  "language_info": {
   "codemirror_mode": {
    "name": "ipython",
    "version": 2
   },
   "file_extension": ".py",
   "mimetype": "text/x-python",
   "name": "python",
   "nbconvert_exporter": "python",
   "pygments_lexer": "ipython2",
   "version": "2.7.6"
  }
 },
 "nbformat": 4,
 "nbformat_minor": 5
}
