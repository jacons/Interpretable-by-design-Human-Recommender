{
 "cells": [
  {
   "cell_type": "code",
   "execution_count": 1,
   "outputs": [],
   "source": [
    "from Class_utils.parameters import *\n",
    "from Class_utils.JobGraph import JobGraph\n",
    "from Class_utils.FitnessFunctions import FitnessFunctions\n",
    "from Generator.JobGenerator import JobGenerator\n",
    "from Generator.MatchingScore import MatchingScore\n",
    "\n",
    "\n",
    "%reload_ext autoreload\n",
    "%autoreload 2\n"
   ],
   "metadata": {
    "collapsed": false,
    "ExecuteTime": {
     "end_time": "2023-11-26T11:15:07.287927500Z",
     "start_time": "2023-11-26T11:15:01.439420500Z"
    }
   },
   "id": "6b6c22f15096c2ef"
  },
  {
   "cell_type": "code",
   "execution_count": 2,
   "outputs": [
    {
     "name": "stdout",
     "output_type": "stream",
     "text": [
      "Cache not found, building th graph...\n",
      "Data cleaning...done\n"
     ]
    },
    {
     "name": "stderr",
     "output_type": "stream",
     "text": [
      "Loading occupations: 100%|██████████| 2515/2515 [00:00<00:00, 160656.02it/s]\n",
      "Loading skills: 100%|██████████| 13896/13896 [00:00<00:00, 296354.55it/s]\n",
      "Add relations: 100%|██████████| 108228/108228 [00:00<00:00, 168335.77it/s]\n"
     ]
    }
   ],
   "source": [
    "job_graph = JobGraph(file_paths, **job_graph_par)\n",
    "fitness_functions = FitnessFunctions(job_graph, file_paths)\n",
    "gen = JobGenerator(job_graph, file_paths)\n",
    "match = MatchingScore(job_graph,fitness_functions, **matching_par)"
   ],
   "metadata": {
    "collapsed": false,
    "ExecuteTime": {
     "end_time": "2023-11-26T11:15:15.077141700Z",
     "start_time": "2023-11-26T11:15:07.295568Z"
    }
   },
   "id": "8cfba54bdd3062b6"
  },
  {
   "cell_type": "code",
   "execution_count": 3,
   "outputs": [
    {
     "name": "stderr",
     "output_type": "stream",
     "text": [
      "Generating the job-offers: 100%|██████████| 120/120 [00:00<00:00, 181.76it/s]\n",
      "Generating the curricula: 100%|██████████| 120/120 [00:43<00:00,  2.73it/s, qId=119]\n",
      "Generating the fitness scores: 100%|██████████| 120/120 [00:35<00:00,  3.40it/s, qId=119]\n"
     ]
    }
   ],
   "source": [
    "job_offers = gen.get_job_offers(**jobOffer_par, name=\"0\")\n",
    "curricula = gen.generate_cvs(job_offers, **curriculum_par, name=\"0\")\n",
    "dataset = match.score_function(job_offers, curricula, **match_score_par, name=\"0\")"
   ],
   "metadata": {
    "collapsed": false,
    "ExecuteTime": {
     "end_time": "2023-11-26T11:16:37.112376700Z",
     "start_time": "2023-11-26T11:15:15.077141700Z"
    }
   },
   "id": "4b7f7186edabd244"
  },
  {
   "cell_type": "code",
   "execution_count": 4,
   "outputs": [
    {
     "data": {
      "text/plain": "             score   w_score  binned_score  fitness_edu_basic  \\\nqId kId                                                         \n0   0     4.000000  0.441798             3                1.0   \n    1     5.721053  0.570307             4                1.0   \n    2     5.166667  0.452622             3                1.0   \n    3     6.391516  0.626303             4                1.0   \n    4     4.715304  0.369860             2                1.0   \n...            ...       ...           ...                ...   \n119 9680  0.000000  0.049767             0                0.0   \n    9681  1.000353  0.133289             0                0.0   \n    9682  1.000000  0.000000             0                0.0   \n    9683  0.000000  0.000000             0                0.0   \n    9684  0.700000  0.114269             0                0.0   \n\n          fitness_edu_bonus  fitness_city  fitness_age  fitness_exp_basic  \\\nqId kId                                                                     \n0   0                   0.0      0.000000          1.0                0.0   \n    1                   0.0      0.000000          1.0                1.0   \n    2                   0.0      0.000000          1.0                1.0   \n    3                   0.0      0.591516          1.0                1.0   \n    4                   0.0      0.000000          1.0                1.0   \n...                     ...           ...          ...                ...   \n119 9680                0.0      0.000000          0.0                0.0   \n    9681                0.0      0.000000          0.0                0.0   \n    9682                0.0      0.000000          1.0                0.0   \n    9683                0.0      0.000000          0.0                0.0   \n    9684                0.0      0.000000          0.0                0.0   \n\n          fitness_exp_bonus  fitness_lang_basic  fitness_lang_bonus  \\\nqId kId                                                               \n0   0                   0.0            0.000000                 0.0   \n    1                   0.0            1.000000                 0.3   \n    2                   0.0            0.166667                 0.0   \n    3                   0.0            1.000000                 0.3   \n    4                   0.0            0.166667                 0.0   \n...                     ...                 ...                 ...   \n119 9680                0.0            0.000000                 0.0   \n    9681                0.0            1.000000                 0.0   \n    9682                0.0            0.000000                 0.0   \n    9683                0.0            0.000000                 0.0   \n    9684                0.0            0.700000                 0.0   \n\n          fitness_comp_basic  fitness_comp_bonus  fitness_know_basic  \\\nqId kId                                                                \n0   0               1.000000                 0.0            1.000000   \n    1               0.754386                 0.0            0.666667   \n    2               1.000000                 0.0            1.000000   \n    3               0.500000                 0.0            1.000000   \n    4               0.548637                 0.0            1.000000   \n...                      ...                 ...                 ...   \n119 9680            0.000000                 0.0            0.000000   \n    9681            0.000000                 0.0            0.000353   \n    9682            0.000000                 0.0            0.000000   \n    9683            0.000000                 0.0            0.000000   \n    9684            0.000000                 0.0            0.000000   \n\n          fitness_knowl_bonus  \nqId kId                        \n0   0                     0.0  \n    1                     0.0  \n    2                     0.0  \n    3                     0.0  \n    4                     0.0  \n...                       ...  \n119 9680                  0.0  \n    9681                  0.0  \n    9682                  0.0  \n    9683                  0.0  \n    9684                  0.0  \n\n[9685 rows x 15 columns]",
      "text/html": "<div>\n<style scoped>\n    .dataframe tbody tr th:only-of-type {\n        vertical-align: middle;\n    }\n\n    .dataframe tbody tr th {\n        vertical-align: top;\n    }\n\n    .dataframe thead th {\n        text-align: right;\n    }\n</style>\n<table border=\"1\" class=\"dataframe\">\n  <thead>\n    <tr style=\"text-align: right;\">\n      <th></th>\n      <th></th>\n      <th>score</th>\n      <th>w_score</th>\n      <th>binned_score</th>\n      <th>fitness_edu_basic</th>\n      <th>fitness_edu_bonus</th>\n      <th>fitness_city</th>\n      <th>fitness_age</th>\n      <th>fitness_exp_basic</th>\n      <th>fitness_exp_bonus</th>\n      <th>fitness_lang_basic</th>\n      <th>fitness_lang_bonus</th>\n      <th>fitness_comp_basic</th>\n      <th>fitness_comp_bonus</th>\n      <th>fitness_know_basic</th>\n      <th>fitness_knowl_bonus</th>\n    </tr>\n    <tr>\n      <th>qId</th>\n      <th>kId</th>\n      <th></th>\n      <th></th>\n      <th></th>\n      <th></th>\n      <th></th>\n      <th></th>\n      <th></th>\n      <th></th>\n      <th></th>\n      <th></th>\n      <th></th>\n      <th></th>\n      <th></th>\n      <th></th>\n      <th></th>\n    </tr>\n  </thead>\n  <tbody>\n    <tr>\n      <th rowspan=\"5\" valign=\"top\">0</th>\n      <th>0</th>\n      <td>4.000000</td>\n      <td>0.441798</td>\n      <td>3</td>\n      <td>1.0</td>\n      <td>0.0</td>\n      <td>0.000000</td>\n      <td>1.0</td>\n      <td>0.0</td>\n      <td>0.0</td>\n      <td>0.000000</td>\n      <td>0.0</td>\n      <td>1.000000</td>\n      <td>0.0</td>\n      <td>1.000000</td>\n      <td>0.0</td>\n    </tr>\n    <tr>\n      <th>1</th>\n      <td>5.721053</td>\n      <td>0.570307</td>\n      <td>4</td>\n      <td>1.0</td>\n      <td>0.0</td>\n      <td>0.000000</td>\n      <td>1.0</td>\n      <td>1.0</td>\n      <td>0.0</td>\n      <td>1.000000</td>\n      <td>0.3</td>\n      <td>0.754386</td>\n      <td>0.0</td>\n      <td>0.666667</td>\n      <td>0.0</td>\n    </tr>\n    <tr>\n      <th>2</th>\n      <td>5.166667</td>\n      <td>0.452622</td>\n      <td>3</td>\n      <td>1.0</td>\n      <td>0.0</td>\n      <td>0.000000</td>\n      <td>1.0</td>\n      <td>1.0</td>\n      <td>0.0</td>\n      <td>0.166667</td>\n      <td>0.0</td>\n      <td>1.000000</td>\n      <td>0.0</td>\n      <td>1.000000</td>\n      <td>0.0</td>\n    </tr>\n    <tr>\n      <th>3</th>\n      <td>6.391516</td>\n      <td>0.626303</td>\n      <td>4</td>\n      <td>1.0</td>\n      <td>0.0</td>\n      <td>0.591516</td>\n      <td>1.0</td>\n      <td>1.0</td>\n      <td>0.0</td>\n      <td>1.000000</td>\n      <td>0.3</td>\n      <td>0.500000</td>\n      <td>0.0</td>\n      <td>1.000000</td>\n      <td>0.0</td>\n    </tr>\n    <tr>\n      <th>4</th>\n      <td>4.715304</td>\n      <td>0.369860</td>\n      <td>2</td>\n      <td>1.0</td>\n      <td>0.0</td>\n      <td>0.000000</td>\n      <td>1.0</td>\n      <td>1.0</td>\n      <td>0.0</td>\n      <td>0.166667</td>\n      <td>0.0</td>\n      <td>0.548637</td>\n      <td>0.0</td>\n      <td>1.000000</td>\n      <td>0.0</td>\n    </tr>\n    <tr>\n      <th>...</th>\n      <th>...</th>\n      <td>...</td>\n      <td>...</td>\n      <td>...</td>\n      <td>...</td>\n      <td>...</td>\n      <td>...</td>\n      <td>...</td>\n      <td>...</td>\n      <td>...</td>\n      <td>...</td>\n      <td>...</td>\n      <td>...</td>\n      <td>...</td>\n      <td>...</td>\n      <td>...</td>\n    </tr>\n    <tr>\n      <th rowspan=\"5\" valign=\"top\">119</th>\n      <th>9680</th>\n      <td>0.000000</td>\n      <td>0.049767</td>\n      <td>0</td>\n      <td>0.0</td>\n      <td>0.0</td>\n      <td>0.000000</td>\n      <td>0.0</td>\n      <td>0.0</td>\n      <td>0.0</td>\n      <td>0.000000</td>\n      <td>0.0</td>\n      <td>0.000000</td>\n      <td>0.0</td>\n      <td>0.000000</td>\n      <td>0.0</td>\n    </tr>\n    <tr>\n      <th>9681</th>\n      <td>1.000353</td>\n      <td>0.133289</td>\n      <td>0</td>\n      <td>0.0</td>\n      <td>0.0</td>\n      <td>0.000000</td>\n      <td>0.0</td>\n      <td>0.0</td>\n      <td>0.0</td>\n      <td>1.000000</td>\n      <td>0.0</td>\n      <td>0.000000</td>\n      <td>0.0</td>\n      <td>0.000353</td>\n      <td>0.0</td>\n    </tr>\n    <tr>\n      <th>9682</th>\n      <td>1.000000</td>\n      <td>0.000000</td>\n      <td>0</td>\n      <td>0.0</td>\n      <td>0.0</td>\n      <td>0.000000</td>\n      <td>1.0</td>\n      <td>0.0</td>\n      <td>0.0</td>\n      <td>0.000000</td>\n      <td>0.0</td>\n      <td>0.000000</td>\n      <td>0.0</td>\n      <td>0.000000</td>\n      <td>0.0</td>\n    </tr>\n    <tr>\n      <th>9683</th>\n      <td>0.000000</td>\n      <td>0.000000</td>\n      <td>0</td>\n      <td>0.0</td>\n      <td>0.0</td>\n      <td>0.000000</td>\n      <td>0.0</td>\n      <td>0.0</td>\n      <td>0.0</td>\n      <td>0.000000</td>\n      <td>0.0</td>\n      <td>0.000000</td>\n      <td>0.0</td>\n      <td>0.000000</td>\n      <td>0.0</td>\n    </tr>\n    <tr>\n      <th>9684</th>\n      <td>0.700000</td>\n      <td>0.114269</td>\n      <td>0</td>\n      <td>0.0</td>\n      <td>0.0</td>\n      <td>0.000000</td>\n      <td>0.0</td>\n      <td>0.0</td>\n      <td>0.0</td>\n      <td>0.700000</td>\n      <td>0.0</td>\n      <td>0.000000</td>\n      <td>0.0</td>\n      <td>0.000000</td>\n      <td>0.0</td>\n    </tr>\n  </tbody>\n</table>\n<p>9685 rows × 15 columns</p>\n</div>"
     },
     "execution_count": 4,
     "metadata": {},
     "output_type": "execute_result"
    }
   ],
   "source": [
    "dataset"
   ],
   "metadata": {
    "collapsed": false,
    "ExecuteTime": {
     "end_time": "2023-11-26T11:16:37.383791600Z",
     "start_time": "2023-11-26T11:16:37.112376700Z"
    }
   },
   "id": "98a6cebbc2f906c6"
  },
  {
   "cell_type": "code",
   "execution_count": 4,
   "outputs": [],
   "source": [],
   "metadata": {
    "collapsed": false,
    "ExecuteTime": {
     "end_time": "2023-11-26T11:16:37.383791600Z",
     "start_time": "2023-11-26T11:16:37.383791600Z"
    }
   },
   "id": "d39660e40d11948c"
  }
 ],
 "metadata": {
  "kernelspec": {
   "display_name": "Python 3",
   "language": "python",
   "name": "python3"
  },
  "language_info": {
   "codemirror_mode": {
    "name": "ipython",
    "version": 2
   },
   "file_extension": ".py",
   "mimetype": "text/x-python",
   "name": "python",
   "nbconvert_exporter": "python",
   "pygments_lexer": "ipython2",
   "version": "2.7.6"
  }
 },
 "nbformat": 4,
 "nbformat_minor": 5
}
