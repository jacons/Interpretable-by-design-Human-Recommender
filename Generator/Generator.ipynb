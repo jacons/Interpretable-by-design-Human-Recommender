{
 "cells": [
  {
   "cell_type": "code",
   "execution_count": 1,
   "outputs": [],
   "source": [
    "import pandas as pd\n",
    "\n",
    "from Class_utils.parameters import *\n",
    "from Class_utils.JobGraph import JobGraph\n",
    "from Class_utils.FitnessFunctions import FitnessFunctions\n",
    "from Generator.JobGenerator import JobGenerator\n",
    "from Generator.MatchingScore import MatchingScore\n",
    "\n",
    "\n",
    "%reload_ext autoreload\n",
    "%autoreload 2\n"
   ],
   "metadata": {
    "collapsed": false,
    "ExecuteTime": {
     "end_time": "2023-12-06T15:50:59.487510Z",
     "start_time": "2023-12-06T15:50:56.401374300Z"
    }
   },
   "id": "6b6c22f15096c2ef"
  },
  {
   "cell_type": "code",
   "execution_count": 2,
   "outputs": [
    {
     "name": "stdout",
     "output_type": "stream",
     "text": [
      "Cache found loading...done\n"
     ]
    }
   ],
   "source": [
    "job_graph = JobGraph(file_paths, **job_graph_par)"
   ],
   "metadata": {
    "collapsed": false,
    "ExecuteTime": {
     "end_time": "2023-12-06T15:51:03.769472600Z",
     "start_time": "2023-12-06T15:50:59.492954600Z"
    }
   },
   "id": "56e00635f044f9d4"
  },
  {
   "cell_type": "code",
   "execution_count": 3,
   "outputs": [],
   "source": [
    "gen = JobGenerator(job_graph, file_paths)"
   ],
   "metadata": {
    "collapsed": false,
    "ExecuteTime": {
     "end_time": "2023-12-06T15:51:04.039224700Z",
     "start_time": "2023-12-06T15:51:03.772613600Z"
    }
   },
   "id": "8cfba54bdd3062b6"
  },
  {
   "cell_type": "code",
   "execution_count": 4,
   "outputs": [
    {
     "name": "stderr",
     "output_type": "stream",
     "text": [
      "Generating the job-offers: 100%|██████████| 220/220 [00:00<00:00, 766.89it/s]\n",
      "Generating the curricula: 100%|██████████| 220/220 [00:29<00:00,  7.58it/s, qId=219]\n",
      "Updating with synonyms...: 100%|██████████| 110/110 [00:00<00:00, 1407.33it/s]\n",
      "Updating with synonyms...: 100%|██████████| 15726/15726 [00:34<00:00, 455.87it/s]\n"
     ]
    }
   ],
   "source": [
    "job_offers = gen.get_job_offers(**jobOffer_par)\n",
    "curricula = gen.generate_cvs(job_offers, **curriculum_par)\n",
    "gen.upgrade_with_synonymous(\"offer\", job_offers, 0.5)\n",
    "gen.upgrade_with_synonymous(\"cv\", curricula, 0.8)\n",
    "gen.save_job_offers(**output_dir,offers=job_offers, name=0)\n",
    "gen.save_curricula(**output_dir,curricula=curricula,name=0)"
   ],
   "metadata": {
    "collapsed": false,
    "ExecuteTime": {
     "end_time": "2023-12-06T15:52:08.924642500Z",
     "start_time": "2023-12-06T15:51:04.039224700Z"
    }
   },
   "id": "57c5fcb6a831fea5"
  },
  {
   "cell_type": "code",
   "execution_count": 5,
   "outputs": [
    {
     "name": "stderr",
     "output_type": "stream",
     "text": [
      "Generating the fitness scores: 100%|██████████| 220/220 [00:34<00:00,  6.37it/s, qId=219]\n"
     ]
    }
   ],
   "source": [
    "match = MatchingScore(FitnessFunctions(file_paths, job_graph), **matching_par)\n",
    "_ = match.score_function(job_offers, curricula, **match_score_par, name=\"0\")"
   ],
   "metadata": {
    "collapsed": false,
    "ExecuteTime": {
     "end_time": "2023-12-06T15:52:45.256830600Z",
     "start_time": "2023-12-06T15:52:08.927798500Z"
    }
   },
   "id": "9e7893345516c557"
  },
  {
   "cell_type": "code",
   "execution_count": 6,
   "outputs": [
    {
     "name": "stderr",
     "output_type": "stream",
     "text": [
      "Generating the fitness scores: 100%|██████████| 220/220 [00:03<00:00, 71.80it/s, qId=219]\n"
     ]
    }
   ],
   "source": [
    "match = MatchingScore(FitnessFunctions(file_paths), **matching_par)\n",
    "_ = match.score_function(job_offers, curricula, **match_score_par, name=\"1\")"
   ],
   "metadata": {
    "collapsed": false,
    "ExecuteTime": {
     "end_time": "2023-12-06T15:52:49.818712500Z",
     "start_time": "2023-12-06T15:52:45.256830600Z"
    }
   },
   "id": "b9dbd387d6e083ea"
  },
  {
   "cell_type": "code",
   "execution_count": 7,
   "outputs": [],
   "source": [
    "# 0 with synonyms with job-grap\n",
    "# 1 with synonyms without job-graph"
   ],
   "metadata": {
    "collapsed": false,
    "ExecuteTime": {
     "end_time": "2023-12-06T15:52:49.883311400Z",
     "start_time": "2023-12-06T15:52:49.818712500Z"
    }
   },
   "id": "960d3a644bee40a"
  }
 ],
 "metadata": {
  "kernelspec": {
   "display_name": "Python 3",
   "language": "python",
   "name": "python3"
  },
  "language_info": {
   "codemirror_mode": {
    "name": "ipython",
    "version": 2
   },
   "file_extension": ".py",
   "mimetype": "text/x-python",
   "name": "python",
   "nbconvert_exporter": "python",
   "pygments_lexer": "ipython2",
   "version": "2.7.6"
  }
 },
 "nbformat": 4,
 "nbformat_minor": 5
}
