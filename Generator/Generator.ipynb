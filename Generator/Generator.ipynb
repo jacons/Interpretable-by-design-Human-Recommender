{
 "cells": [
  {
   "cell_type": "code",
   "execution_count": null,
   "outputs": [],
   "source": [
    "from Class_utils.parameters import *\n",
    "from Class_utils.JobGraph import JobGraph\n",
    "from Class_utils.FitnessFunctions import FitnessFunctions\n",
    "from Generator.JobGenerator import JobGenerator\n",
    "from Generator.MatchingScore import MatchingScore\n",
    "\n",
    "\n",
    "%reload_ext autoreload\n",
    "%autoreload 2"
   ],
   "metadata": {
    "collapsed": false
   },
   "id": "6b6c22f15096c2ef"
  },
  {
   "cell_type": "code",
   "execution_count": null,
   "outputs": [],
   "source": [
    "job_graph = JobGraph(file_paths, **job_graph_par)"
   ],
   "metadata": {
    "collapsed": false
   },
   "id": "56e00635f044f9d4"
  },
  {
   "cell_type": "code",
   "execution_count": null,
   "outputs": [],
   "source": [
    "gen = JobGenerator(job_graph, file_paths)"
   ],
   "metadata": {
    "collapsed": false
   },
   "id": "8cfba54bdd3062b6"
  },
  {
   "cell_type": "code",
   "execution_count": null,
   "outputs": [],
   "source": [
    "job_offers = gen.get_job_offers(**jobOffer_par)\n",
    "curricula = gen.generate_cvs(job_offers, **curriculum_par)\n",
    "gen.upgrade_with_synonymous(\"offer\", job_offers, 0.7)\n",
    "gen.upgrade_with_synonymous(\"cv\", curricula, 0.75)\n",
    "gen.save_job_offers(**output_dir, offers=job_offers, name=\"default\")\n",
    "gen.save_curricula(**output_dir,curricula=curricula, name=\"default\")"
   ],
   "metadata": {
    "collapsed": false
   },
   "id": "57c5fcb6a831fea5"
  },
  {
   "cell_type": "code",
   "execution_count": null,
   "outputs": [],
   "source": [
    "match = MatchingScore(FitnessFunctions(file_paths,job_graph), **matching_par)\n",
    "_ = match.score_function(job_offers, curricula, **match_score_par, name=\"0\")"
   ],
   "metadata": {
    "collapsed": false
   },
   "id": "b9dbd387d6e083ea"
  },
  {
   "cell_type": "code",
   "execution_count": null,
   "outputs": [],
   "source": [
    "match = MatchingScore(FitnessFunctions(file_paths), **matching_par)\n",
    "_ = match.score_function(job_offers, curricula, **match_score_par, name=\"1\")"
   ],
   "metadata": {
    "collapsed": false
   },
   "id": "95454759b4656b42"
  },
  {
   "cell_type": "code",
   "execution_count": null,
   "outputs": [],
   "source": [
    "# 0 with synonyms with job-grap\n",
    "# 1 with synonyms without job-graph"
   ],
   "metadata": {
    "collapsed": false
   },
   "id": "960d3a644bee40a"
  }
 ],
 "metadata": {
  "kernelspec": {
   "display_name": "Python 3",
   "language": "python",
   "name": "python3"
  },
  "language_info": {
   "codemirror_mode": {
    "name": "ipython",
    "version": 2
   },
   "file_extension": ".py",
   "mimetype": "text/x-python",
   "name": "python",
   "nbconvert_exporter": "python",
   "pygments_lexer": "ipython2",
   "version": "2.7.6"
  }
 },
 "nbformat": 4,
 "nbformat_minor": 5
}
