{
 "cells": [
  {
   "cell_type": "code",
   "execution_count": 104,
   "outputs": [],
   "source": [
    "from Generator.parameters import *\n",
    "from Generator.JobGenerator import JobGenerator\n",
    "%reload_ext autoreload\n",
    "%autoreload 2\n"
   ],
   "metadata": {
    "collapsed": false,
    "ExecuteTime": {
     "end_time": "2023-11-07T11:22:36.345317200Z",
     "start_time": "2023-11-07T11:22:35.808286900Z"
    }
   },
   "id": "6b6c22f15096c2ef"
  },
  {
   "cell_type": "code",
   "execution_count": 105,
   "outputs": [],
   "source": [
    "gen = JobGenerator(file_paths)"
   ],
   "metadata": {
    "collapsed": false,
    "ExecuteTime": {
     "end_time": "2023-11-07T11:22:38.839311Z",
     "start_time": "2023-11-07T11:22:36.349314900Z"
    }
   },
   "id": "f5e20e7e763a1122"
  },
  {
   "cell_type": "code",
   "execution_count": 106,
   "outputs": [
    {
     "name": "stderr",
     "output_type": "stream",
     "text": [
      "100%|██████████| 100/100 [00:00<00:00, 518.49it/s]\n"
     ]
    }
   ],
   "source": [
    "job_offers = gen.get_offers(size=100) "
   ],
   "metadata": {
    "collapsed": false,
    "ExecuteTime": {
     "end_time": "2023-11-07T11:22:39.564538800Z",
     "start_time": "2023-11-07T11:22:38.842990100Z"
    }
   },
   "id": "4b7f7186edabd244"
  },
  {
   "cell_type": "code",
   "execution_count": 107,
   "outputs": [
    {
     "data": {
      "text/plain": "                                      Job Edu_essential Edu_optional  AgeMin  \\\nqId                                                                            \n0    quick service restaurant crew member        Degree  Bachelor-D.      22   \n1          dangerous goods safety adviser        Degree  Bachelor-D.      20   \n2                             high rigger        Degree  Bachelor-D.      18   \n3                          glass engraver        Degree            -      21   \n4             nursery school head teacher        Degree            -      23   \n..                                    ...           ...          ...     ...   \n95         oil and gas production manager        Degree            -      21   \n96                standalone public buyer   Bachelor-D.            -      26   \n97                textile quality manager        Degree  Bachelor-D.      21   \n98                   e-learning developer        Degree            -      19   \n99          gas processing plant operator        Degree  Bachelor-D.      20   \n\n     AgeMax                City  \\\nqId                               \n0        39           Genivolta   \n1        37              Rovato   \n2        32             Porcari   \n3        36             Sulmona   \n4        36              Milano   \n..      ...                 ...   \n95       29              Milano   \n96       42               Tolfa   \n97       41  Reggio nell'Emilia   \n98       27  Darfo Boario Terme   \n99       35              Sedini   \n\n                                 Competence_essential0  \\\nqId                                                      \n0                                      upsell products   \n1          coordinate import transportation activities   \n2                           maintain rigging equipment   \n3                    use personal protection equipment   \n4    show an exemplary leading role in an organisation   \n..                                                 ...   \n95                          prepare scientific reports   \n96                     negotiate supplier arrangements   \n97                             maintain work standards   \n98                             develop e-learning plan   \n99                                      monitor valves   \n\n                                Competence_essential1  \\\nqId                                                     \n0                                       dispose waste   \n1                              liaise with colleagues   \n2                          provide power distribution   \n3                     transpose designs to engravings   \n4                        apply for government funding   \n..                                                ...   \n95                                       manage staff   \n96         monitor developments in field of expertise   \n97                                 measure yarn count   \n98                           design web-based courses   \n99   ensure compliance with gas distribution schedule   \n\n                                Competence_essential2  \\\nqId                                                     \n0              execute opening and closing procedures   \n1                                                   -   \n2                                                   -   \n3                                                   -   \n4                                        manage staff   \n..                                                ...   \n95   ensure compliance with environmental legislation   \n96           implement risk management in procurement   \n97                                                  -   \n98                                                  -   \n99       perform follow-up on pipeline route services   \n\n                         Competence_essential3  ...      Knoleadge_optional1  \\\nqId                                             ...                            \n0                    prepare ready-made dishes  ...                        -   \n1                                            -  ...                        -   \n2                                            -  ...                        -   \n3                                            -  ...                        -   \n4                                            -  ...  trade union regulations   \n..                                         ...  ...                      ...   \n95                                           -  ...                        -   \n96   perform contract reporting and evaluation  ...            team building   \n97                                           -  ...                        -   \n98                                           -  ...                    Sakai   \n99                                           -  ...                        -   \n\n    Knoleadge_optional2 Language_essential0 Language_essential1  \\\nqId                                                               \n0                     -            Albanian                   -   \n1                     -             Italian            Romanian   \n2                     -             Chinese                   -   \n3                     -             Italian              Arabic   \n4                     -             Italian              French   \n..                  ...                 ...                 ...   \n95                    -              French             Spanish   \n96                    -             English                   -   \n97                    -              French            Romanian   \n98                 JSSS             Spanish              French   \n99                    -             Spanish              German   \n\n    Language_optional0 Language_level0 Language_level1 Language_level2  \\\nqId                                                                      \n0              Italian              A1              C2               -   \n1                    -              C2              A1               -   \n2                    -              A2               -               -   \n3                    -              C1              A1               -   \n4                    -              C2              B1               -   \n..                 ...             ...             ...             ...   \n95                   -              B1              B1               -   \n96             Spanish              B1              B1               -   \n97             English              B2              A1              B2   \n98                   -              C1              C1               -   \n99              French              B1              B2              A2   \n\n    Experience_essential Experience_optional  \nqId                                           \n0                      2                True  \n1                      1               False  \n2                      1               False  \n3                      4               False  \n4                      1                True  \n..                   ...                 ...  \n95                     -                True  \n96                     1               False  \n97                     1                True  \n98                     2               False  \n99                     1                True  \n\n[100 rows x 28 columns]",
      "text/html": "<div>\n<style scoped>\n    .dataframe tbody tr th:only-of-type {\n        vertical-align: middle;\n    }\n\n    .dataframe tbody tr th {\n        vertical-align: top;\n    }\n\n    .dataframe thead th {\n        text-align: right;\n    }\n</style>\n<table border=\"1\" class=\"dataframe\">\n  <thead>\n    <tr style=\"text-align: right;\">\n      <th></th>\n      <th>Job</th>\n      <th>Edu_essential</th>\n      <th>Edu_optional</th>\n      <th>AgeMin</th>\n      <th>AgeMax</th>\n      <th>City</th>\n      <th>Competence_essential0</th>\n      <th>Competence_essential1</th>\n      <th>Competence_essential2</th>\n      <th>Competence_essential3</th>\n      <th>...</th>\n      <th>Knoleadge_optional1</th>\n      <th>Knoleadge_optional2</th>\n      <th>Language_essential0</th>\n      <th>Language_essential1</th>\n      <th>Language_optional0</th>\n      <th>Language_level0</th>\n      <th>Language_level1</th>\n      <th>Language_level2</th>\n      <th>Experience_essential</th>\n      <th>Experience_optional</th>\n    </tr>\n    <tr>\n      <th>qId</th>\n      <th></th>\n      <th></th>\n      <th></th>\n      <th></th>\n      <th></th>\n      <th></th>\n      <th></th>\n      <th></th>\n      <th></th>\n      <th></th>\n      <th></th>\n      <th></th>\n      <th></th>\n      <th></th>\n      <th></th>\n      <th></th>\n      <th></th>\n      <th></th>\n      <th></th>\n      <th></th>\n      <th></th>\n    </tr>\n  </thead>\n  <tbody>\n    <tr>\n      <th>0</th>\n      <td>quick service restaurant crew member</td>\n      <td>Degree</td>\n      <td>Bachelor-D.</td>\n      <td>22</td>\n      <td>39</td>\n      <td>Genivolta</td>\n      <td>upsell products</td>\n      <td>dispose waste</td>\n      <td>execute opening and closing procedures</td>\n      <td>prepare ready-made dishes</td>\n      <td>...</td>\n      <td>-</td>\n      <td>-</td>\n      <td>Albanian</td>\n      <td>-</td>\n      <td>Italian</td>\n      <td>A1</td>\n      <td>C2</td>\n      <td>-</td>\n      <td>2</td>\n      <td>True</td>\n    </tr>\n    <tr>\n      <th>1</th>\n      <td>dangerous goods safety adviser</td>\n      <td>Degree</td>\n      <td>Bachelor-D.</td>\n      <td>20</td>\n      <td>37</td>\n      <td>Rovato</td>\n      <td>coordinate import transportation activities</td>\n      <td>liaise with colleagues</td>\n      <td>-</td>\n      <td>-</td>\n      <td>...</td>\n      <td>-</td>\n      <td>-</td>\n      <td>Italian</td>\n      <td>Romanian</td>\n      <td>-</td>\n      <td>C2</td>\n      <td>A1</td>\n      <td>-</td>\n      <td>1</td>\n      <td>False</td>\n    </tr>\n    <tr>\n      <th>2</th>\n      <td>high rigger</td>\n      <td>Degree</td>\n      <td>Bachelor-D.</td>\n      <td>18</td>\n      <td>32</td>\n      <td>Porcari</td>\n      <td>maintain rigging equipment</td>\n      <td>provide power distribution</td>\n      <td>-</td>\n      <td>-</td>\n      <td>...</td>\n      <td>-</td>\n      <td>-</td>\n      <td>Chinese</td>\n      <td>-</td>\n      <td>-</td>\n      <td>A2</td>\n      <td>-</td>\n      <td>-</td>\n      <td>1</td>\n      <td>False</td>\n    </tr>\n    <tr>\n      <th>3</th>\n      <td>glass engraver</td>\n      <td>Degree</td>\n      <td>-</td>\n      <td>21</td>\n      <td>36</td>\n      <td>Sulmona</td>\n      <td>use personal protection equipment</td>\n      <td>transpose designs to engravings</td>\n      <td>-</td>\n      <td>-</td>\n      <td>...</td>\n      <td>-</td>\n      <td>-</td>\n      <td>Italian</td>\n      <td>Arabic</td>\n      <td>-</td>\n      <td>C1</td>\n      <td>A1</td>\n      <td>-</td>\n      <td>4</td>\n      <td>False</td>\n    </tr>\n    <tr>\n      <th>4</th>\n      <td>nursery school head teacher</td>\n      <td>Degree</td>\n      <td>-</td>\n      <td>23</td>\n      <td>36</td>\n      <td>Milano</td>\n      <td>show an exemplary leading role in an organisation</td>\n      <td>apply for government funding</td>\n      <td>manage staff</td>\n      <td>-</td>\n      <td>...</td>\n      <td>trade union regulations</td>\n      <td>-</td>\n      <td>Italian</td>\n      <td>French</td>\n      <td>-</td>\n      <td>C2</td>\n      <td>B1</td>\n      <td>-</td>\n      <td>1</td>\n      <td>True</td>\n    </tr>\n    <tr>\n      <th>...</th>\n      <td>...</td>\n      <td>...</td>\n      <td>...</td>\n      <td>...</td>\n      <td>...</td>\n      <td>...</td>\n      <td>...</td>\n      <td>...</td>\n      <td>...</td>\n      <td>...</td>\n      <td>...</td>\n      <td>...</td>\n      <td>...</td>\n      <td>...</td>\n      <td>...</td>\n      <td>...</td>\n      <td>...</td>\n      <td>...</td>\n      <td>...</td>\n      <td>...</td>\n      <td>...</td>\n    </tr>\n    <tr>\n      <th>95</th>\n      <td>oil and gas production manager</td>\n      <td>Degree</td>\n      <td>-</td>\n      <td>21</td>\n      <td>29</td>\n      <td>Milano</td>\n      <td>prepare scientific reports</td>\n      <td>manage staff</td>\n      <td>ensure compliance with environmental legislation</td>\n      <td>-</td>\n      <td>...</td>\n      <td>-</td>\n      <td>-</td>\n      <td>French</td>\n      <td>Spanish</td>\n      <td>-</td>\n      <td>B1</td>\n      <td>B1</td>\n      <td>-</td>\n      <td>-</td>\n      <td>True</td>\n    </tr>\n    <tr>\n      <th>96</th>\n      <td>standalone public buyer</td>\n      <td>Bachelor-D.</td>\n      <td>-</td>\n      <td>26</td>\n      <td>42</td>\n      <td>Tolfa</td>\n      <td>negotiate supplier arrangements</td>\n      <td>monitor developments in field of expertise</td>\n      <td>implement risk management in procurement</td>\n      <td>perform contract reporting and evaluation</td>\n      <td>...</td>\n      <td>team building</td>\n      <td>-</td>\n      <td>English</td>\n      <td>-</td>\n      <td>Spanish</td>\n      <td>B1</td>\n      <td>B1</td>\n      <td>-</td>\n      <td>1</td>\n      <td>False</td>\n    </tr>\n    <tr>\n      <th>97</th>\n      <td>textile quality manager</td>\n      <td>Degree</td>\n      <td>Bachelor-D.</td>\n      <td>21</td>\n      <td>41</td>\n      <td>Reggio nell'Emilia</td>\n      <td>maintain work standards</td>\n      <td>measure yarn count</td>\n      <td>-</td>\n      <td>-</td>\n      <td>...</td>\n      <td>-</td>\n      <td>-</td>\n      <td>French</td>\n      <td>Romanian</td>\n      <td>English</td>\n      <td>B2</td>\n      <td>A1</td>\n      <td>B2</td>\n      <td>1</td>\n      <td>True</td>\n    </tr>\n    <tr>\n      <th>98</th>\n      <td>e-learning developer</td>\n      <td>Degree</td>\n      <td>-</td>\n      <td>19</td>\n      <td>27</td>\n      <td>Darfo Boario Terme</td>\n      <td>develop e-learning plan</td>\n      <td>design web-based courses</td>\n      <td>-</td>\n      <td>-</td>\n      <td>...</td>\n      <td>Sakai</td>\n      <td>JSSS</td>\n      <td>Spanish</td>\n      <td>French</td>\n      <td>-</td>\n      <td>C1</td>\n      <td>C1</td>\n      <td>-</td>\n      <td>2</td>\n      <td>False</td>\n    </tr>\n    <tr>\n      <th>99</th>\n      <td>gas processing plant operator</td>\n      <td>Degree</td>\n      <td>Bachelor-D.</td>\n      <td>20</td>\n      <td>35</td>\n      <td>Sedini</td>\n      <td>monitor valves</td>\n      <td>ensure compliance with gas distribution schedule</td>\n      <td>perform follow-up on pipeline route services</td>\n      <td>-</td>\n      <td>...</td>\n      <td>-</td>\n      <td>-</td>\n      <td>Spanish</td>\n      <td>German</td>\n      <td>French</td>\n      <td>B1</td>\n      <td>B2</td>\n      <td>A2</td>\n      <td>1</td>\n      <td>True</td>\n    </tr>\n  </tbody>\n</table>\n<p>100 rows × 28 columns</p>\n</div>"
     },
     "execution_count": 107,
     "metadata": {},
     "output_type": "execute_result"
    }
   ],
   "source": [
    "job_offers"
   ],
   "metadata": {
    "collapsed": false,
    "ExecuteTime": {
     "end_time": "2023-11-07T11:22:40.096148700Z",
     "start_time": "2023-11-07T11:22:39.560526500Z"
    }
   },
   "id": "2209bea91c2b9f99"
  },
  {
   "cell_type": "code",
   "execution_count": 108,
   "outputs": [
    {
     "name": "stderr",
     "output_type": "stream",
     "text": [
      "100%|██████████| 100/100 [00:17<00:00,  5.74it/s, qId=99]\n"
     ]
    }
   ],
   "source": [
    "curricula = gen.generate_cvs(job_offers,mu=100)\n",
    "gen.upgrade_with_synonymous(curricula,p=0)"
   ],
   "metadata": {
    "collapsed": false,
    "ExecuteTime": {
     "end_time": "2023-11-07T11:22:58.124950100Z",
     "start_time": "2023-11-07T11:22:40.100142200Z"
    }
   },
   "id": "2f6cf599f714658d"
  },
  {
   "cell_type": "code",
   "execution_count": 113,
   "outputs": [
    {
     "data": {
      "text/plain": "      qId   kId  Education  Age                    City  JobRange  \\\n0       0     0  Master-D.   29        Gazzada Schianno        80   \n1       0     1     Degree   22           San Cipirello        90   \n2       0     2     Degree   22                  Milano        70   \n3       0     3     Degree   26                  Taggia        50   \n4       0     4     Degree   23         Torre de' Negri        30   \n...   ...   ...        ...  ...                     ...       ...   \n9971   99  9971     Degree   49               Sovicille        30   \n9972   99  9972     Degree   38                 Brescia        90   \n9973   99  9973  Master-D.   48                 Brescia        70   \n9974   99  9974     Degree   37  San Nicandro Garganico        30   \n9975   99  9975  Master-D.   33               Grignasco        90   \n\n                                           Competences0  \\\n0                                         dispose waste   \n1                                         dispose waste   \n2                              use reheating techniques   \n3     use resource-efficient technologies in hospita...   \n4                                         present menus   \n...                                                 ...   \n9971                 adapt developed game to the market   \n9972                        check investment portfolios   \n9973               install monitors for process control   \n9974                       remove inadequate workpieces   \n9975                                 motivate employees   \n\n                                Competences1  \\\n0                        avoid contamination   \n1                       carry out wound care   \n2                  take drive-through orders   \n3                       process reservations   \n4                  prepare ready-made dishes   \n...                                      ...   \n9971                                       -   \n9972  complete statistical financial records   \n9973                                       -   \n9974                        manipulate metal   \n9975            conduct public presentations   \n\n                                Competences2  \\\n0                                          -   \n1              assist children with homework   \n2                  prepare ready-made dishes   \n3                        monitor stock level   \n4     execute opening and closing procedures   \n...                                      ...   \n9971                                       -   \n9972               determine loan worthiness   \n9973                                       -   \n9974            ensure equipment maintenance   \n9975               apply teaching strategies   \n\n                                Competences3  ...  \\\n0                                          -  ...   \n1                                          -  ...   \n2     execute opening and closing procedures  ...   \n3     execute opening and closing procedures  ...   \n4        comply with food safety and hygiene  ...   \n...                                      ...  ...   \n9971                                       -  ...   \n9972  communicate with banking professionals  ...   \n9973                                       -  ...   \n9974                      cut metal products  ...   \n9975                                       -  ...   \n\n                        Knowledge4                Knowledge5 Knowledge6  \\\n0                                -                         -          -   \n1                      babysitting                 baby care          -   \n2                                -                         -          -   \n3                                -                         -          -   \n4                                -                         -          -   \n...                            ...                       ...        ...   \n9971                             -                         -          -   \n9972                             -                         -          -   \n9973  metal and metal ore products  ferrous metal processing          -   \n9974                             -                         -          -   \n9975                             -                         -          -   \n\n     Language0 Language1 Language2 Language_level0 Language_level1  \\\n0     Albanian   Italian   Spanish              A1              C2   \n1     Albanian   English   Italian              A1              C2   \n2     Albanian   English         -              A1              C2   \n3     Albanian   Italian         -              A1              C2   \n4     Albanian    German         -              A1              C2   \n...        ...       ...       ...             ...             ...   \n9971   Italian   Spanish         -              C2              B1   \n9972         -         -         -               -               -   \n9973    German   Italian    French              A1              C2   \n9974   Spanish         -         -              B1               -   \n9975         -         -         -               -               -   \n\n     Language_level2 Experience  \n0                 C2          3  \n1                 C1          7  \n2                 B2          2  \n3                 C2          5  \n4                 A2          7  \n...              ...        ...  \n9971               -          2  \n9972               -          1  \n9973              A1          1  \n9974               -          2  \n9975               -          2  \n\n[9976 rows x 27 columns]",
      "text/html": "<div>\n<style scoped>\n    .dataframe tbody tr th:only-of-type {\n        vertical-align: middle;\n    }\n\n    .dataframe tbody tr th {\n        vertical-align: top;\n    }\n\n    .dataframe thead th {\n        text-align: right;\n    }\n</style>\n<table border=\"1\" class=\"dataframe\">\n  <thead>\n    <tr style=\"text-align: right;\">\n      <th></th>\n      <th>qId</th>\n      <th>kId</th>\n      <th>Education</th>\n      <th>Age</th>\n      <th>City</th>\n      <th>JobRange</th>\n      <th>Competences0</th>\n      <th>Competences1</th>\n      <th>Competences2</th>\n      <th>Competences3</th>\n      <th>...</th>\n      <th>Knowledge4</th>\n      <th>Knowledge5</th>\n      <th>Knowledge6</th>\n      <th>Language0</th>\n      <th>Language1</th>\n      <th>Language2</th>\n      <th>Language_level0</th>\n      <th>Language_level1</th>\n      <th>Language_level2</th>\n      <th>Experience</th>\n    </tr>\n  </thead>\n  <tbody>\n    <tr>\n      <th>0</th>\n      <td>0</td>\n      <td>0</td>\n      <td>Master-D.</td>\n      <td>29</td>\n      <td>Gazzada Schianno</td>\n      <td>80</td>\n      <td>dispose waste</td>\n      <td>avoid contamination</td>\n      <td>-</td>\n      <td>-</td>\n      <td>...</td>\n      <td>-</td>\n      <td>-</td>\n      <td>-</td>\n      <td>Albanian</td>\n      <td>Italian</td>\n      <td>Spanish</td>\n      <td>A1</td>\n      <td>C2</td>\n      <td>C2</td>\n      <td>3</td>\n    </tr>\n    <tr>\n      <th>1</th>\n      <td>0</td>\n      <td>1</td>\n      <td>Degree</td>\n      <td>22</td>\n      <td>San Cipirello</td>\n      <td>90</td>\n      <td>dispose waste</td>\n      <td>carry out wound care</td>\n      <td>assist children with homework</td>\n      <td>-</td>\n      <td>...</td>\n      <td>babysitting</td>\n      <td>baby care</td>\n      <td>-</td>\n      <td>Albanian</td>\n      <td>English</td>\n      <td>Italian</td>\n      <td>A1</td>\n      <td>C2</td>\n      <td>C1</td>\n      <td>7</td>\n    </tr>\n    <tr>\n      <th>2</th>\n      <td>0</td>\n      <td>2</td>\n      <td>Degree</td>\n      <td>22</td>\n      <td>Milano</td>\n      <td>70</td>\n      <td>use reheating techniques</td>\n      <td>take drive-through orders</td>\n      <td>prepare ready-made dishes</td>\n      <td>execute opening and closing procedures</td>\n      <td>...</td>\n      <td>-</td>\n      <td>-</td>\n      <td>-</td>\n      <td>Albanian</td>\n      <td>English</td>\n      <td>-</td>\n      <td>A1</td>\n      <td>C2</td>\n      <td>B2</td>\n      <td>2</td>\n    </tr>\n    <tr>\n      <th>3</th>\n      <td>0</td>\n      <td>3</td>\n      <td>Degree</td>\n      <td>26</td>\n      <td>Taggia</td>\n      <td>50</td>\n      <td>use resource-efficient technologies in hospita...</td>\n      <td>process reservations</td>\n      <td>monitor stock level</td>\n      <td>execute opening and closing procedures</td>\n      <td>...</td>\n      <td>-</td>\n      <td>-</td>\n      <td>-</td>\n      <td>Albanian</td>\n      <td>Italian</td>\n      <td>-</td>\n      <td>A1</td>\n      <td>C2</td>\n      <td>C2</td>\n      <td>5</td>\n    </tr>\n    <tr>\n      <th>4</th>\n      <td>0</td>\n      <td>4</td>\n      <td>Degree</td>\n      <td>23</td>\n      <td>Torre de' Negri</td>\n      <td>30</td>\n      <td>present menus</td>\n      <td>prepare ready-made dishes</td>\n      <td>execute opening and closing procedures</td>\n      <td>comply with food safety and hygiene</td>\n      <td>...</td>\n      <td>-</td>\n      <td>-</td>\n      <td>-</td>\n      <td>Albanian</td>\n      <td>German</td>\n      <td>-</td>\n      <td>A1</td>\n      <td>C2</td>\n      <td>A2</td>\n      <td>7</td>\n    </tr>\n    <tr>\n      <th>...</th>\n      <td>...</td>\n      <td>...</td>\n      <td>...</td>\n      <td>...</td>\n      <td>...</td>\n      <td>...</td>\n      <td>...</td>\n      <td>...</td>\n      <td>...</td>\n      <td>...</td>\n      <td>...</td>\n      <td>...</td>\n      <td>...</td>\n      <td>...</td>\n      <td>...</td>\n      <td>...</td>\n      <td>...</td>\n      <td>...</td>\n      <td>...</td>\n      <td>...</td>\n      <td>...</td>\n    </tr>\n    <tr>\n      <th>9971</th>\n      <td>99</td>\n      <td>9971</td>\n      <td>Degree</td>\n      <td>49</td>\n      <td>Sovicille</td>\n      <td>30</td>\n      <td>adapt developed game to the market</td>\n      <td>-</td>\n      <td>-</td>\n      <td>-</td>\n      <td>...</td>\n      <td>-</td>\n      <td>-</td>\n      <td>-</td>\n      <td>Italian</td>\n      <td>Spanish</td>\n      <td>-</td>\n      <td>C2</td>\n      <td>B1</td>\n      <td>-</td>\n      <td>2</td>\n    </tr>\n    <tr>\n      <th>9972</th>\n      <td>99</td>\n      <td>9972</td>\n      <td>Degree</td>\n      <td>38</td>\n      <td>Brescia</td>\n      <td>90</td>\n      <td>check investment portfolios</td>\n      <td>complete statistical financial records</td>\n      <td>determine loan worthiness</td>\n      <td>communicate with banking professionals</td>\n      <td>...</td>\n      <td>-</td>\n      <td>-</td>\n      <td>-</td>\n      <td>-</td>\n      <td>-</td>\n      <td>-</td>\n      <td>-</td>\n      <td>-</td>\n      <td>-</td>\n      <td>1</td>\n    </tr>\n    <tr>\n      <th>9973</th>\n      <td>99</td>\n      <td>9973</td>\n      <td>Master-D.</td>\n      <td>48</td>\n      <td>Brescia</td>\n      <td>70</td>\n      <td>install monitors for process control</td>\n      <td>-</td>\n      <td>-</td>\n      <td>-</td>\n      <td>...</td>\n      <td>metal and metal ore products</td>\n      <td>ferrous metal processing</td>\n      <td>-</td>\n      <td>German</td>\n      <td>Italian</td>\n      <td>French</td>\n      <td>A1</td>\n      <td>C2</td>\n      <td>A1</td>\n      <td>1</td>\n    </tr>\n    <tr>\n      <th>9974</th>\n      <td>99</td>\n      <td>9974</td>\n      <td>Degree</td>\n      <td>37</td>\n      <td>San Nicandro Garganico</td>\n      <td>30</td>\n      <td>remove inadequate workpieces</td>\n      <td>manipulate metal</td>\n      <td>ensure equipment maintenance</td>\n      <td>cut metal products</td>\n      <td>...</td>\n      <td>-</td>\n      <td>-</td>\n      <td>-</td>\n      <td>Spanish</td>\n      <td>-</td>\n      <td>-</td>\n      <td>B1</td>\n      <td>-</td>\n      <td>-</td>\n      <td>2</td>\n    </tr>\n    <tr>\n      <th>9975</th>\n      <td>99</td>\n      <td>9975</td>\n      <td>Master-D.</td>\n      <td>33</td>\n      <td>Grignasco</td>\n      <td>90</td>\n      <td>motivate employees</td>\n      <td>conduct public presentations</td>\n      <td>apply teaching strategies</td>\n      <td>-</td>\n      <td>...</td>\n      <td>-</td>\n      <td>-</td>\n      <td>-</td>\n      <td>-</td>\n      <td>-</td>\n      <td>-</td>\n      <td>-</td>\n      <td>-</td>\n      <td>-</td>\n      <td>2</td>\n    </tr>\n  </tbody>\n</table>\n<p>9976 rows × 27 columns</p>\n</div>"
     },
     "execution_count": 113,
     "metadata": {},
     "output_type": "execute_result"
    }
   ],
   "source": [
    "curricula"
   ],
   "metadata": {
    "collapsed": false,
    "ExecuteTime": {
     "end_time": "2023-11-07T11:26:50.572695Z",
     "start_time": "2023-11-07T11:26:50.017133Z"
    }
   },
   "id": "6d505b8a4caa88f7"
  }
 ],
 "metadata": {
  "kernelspec": {
   "display_name": "Python 3",
   "language": "python",
   "name": "python3"
  },
  "language_info": {
   "codemirror_mode": {
    "name": "ipython",
    "version": 2
   },
   "file_extension": ".py",
   "mimetype": "text/x-python",
   "name": "python",
   "nbconvert_exporter": "python",
   "pygments_lexer": "ipython2",
   "version": "2.7.6"
  }
 },
 "nbformat": 4,
 "nbformat_minor": 5
}
