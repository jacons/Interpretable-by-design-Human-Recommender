{
 "cells": [
  {
   "cell_type": "code",
   "execution_count": 1,
   "outputs": [],
   "source": [
    "from Generator.parameters import *\n",
    "from Generator.JobGenerator import JobGenerator\n",
    "from Generator.MatchingScore import MatchingScore\n",
    "%reload_ext autoreload\n",
    "%autoreload 2"
   ],
   "metadata": {
    "collapsed": false,
    "ExecuteTime": {
     "end_time": "2023-10-29T16:14:36.490139500Z",
     "start_time": "2023-10-29T16:14:34.102032900Z"
    }
   },
   "id": "6b6c22f15096c2ef"
  },
  {
   "cell_type": "code",
   "execution_count": 2,
   "outputs": [
    {
     "name": "stderr",
     "output_type": "stream",
     "text": [
      "100%|██████████| 300/300 [00:00<00:00, 361.42it/s]\n",
      "100%|██████████| 50/50 [00:00<00:00, 374.30it/s]\n"
     ]
    }
   ],
   "source": [
    "gen = JobGenerator(**file_path)\n",
    "\n",
    "curricula = gen.get_curricula(**curriculum_par)\n",
    "offers = gen.get_offers(**jobOffer_par)"
   ],
   "metadata": {
    "collapsed": false,
    "ExecuteTime": {
     "end_time": "2023-10-29T16:14:37.660752100Z",
     "start_time": "2023-10-29T16:14:36.495140400Z"
    }
   },
   "id": "f5e20e7e763a1122"
  },
  {
   "cell_type": "code",
   "execution_count": 3,
   "outputs": [
    {
     "name": "stderr",
     "output_type": "stream",
     "text": [
      "100%|██████████| 15000/15000 [00:01<00:00, 10940.71it/s]\n"
     ]
    }
   ],
   "source": [
    "matchingScore = MatchingScore(jobGenerator=gen, **matching_par)\n",
    "\n",
    "matrix_score = matchingScore.scoreFunction(offers, curricula, output_file=\"scores\")"
   ],
   "metadata": {
    "collapsed": false,
    "ExecuteTime": {
     "end_time": "2023-10-29T16:14:40.643697900Z",
     "start_time": "2023-10-29T16:14:37.660752100Z"
    }
   },
   "id": "c1731be5b73f6549"
  }
 ],
 "metadata": {
  "kernelspec": {
   "display_name": "Python 3",
   "language": "python",
   "name": "python3"
  },
  "language_info": {
   "codemirror_mode": {
    "name": "ipython",
    "version": 2
   },
   "file_extension": ".py",
   "mimetype": "text/x-python",
   "name": "python",
   "nbconvert_exporter": "python",
   "pygments_lexer": "ipython2",
   "version": "2.7.6"
  }
 },
 "nbformat": 4,
 "nbformat_minor": 5
}
