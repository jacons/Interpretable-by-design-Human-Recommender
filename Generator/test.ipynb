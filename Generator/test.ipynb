{
 "cells": [
  {
   "cell_type": "code",
   "execution_count": 15,
   "outputs": [],
   "source": [
    "from JobGenerator import JobGenerator"
   ],
   "metadata": {
    "collapsed": false,
    "ExecuteTime": {
     "end_time": "2023-10-11T08:57:46.583072500Z",
     "start_time": "2023-10-11T08:57:46.534067500Z"
    }
   },
   "id": "initial_id"
  },
  {
   "cell_type": "code",
   "execution_count": 16,
   "outputs": [],
   "source": [
    "gen = JobGenerator(jobs_lib=\"../sources/jobs_library.json\",\n",
    "                   citizen=\"../sources/all_citizen.csv\",\n",
    "                   nationality=\"../sources/nationality.csv\",\n",
    "                   education=\"../sources/education.csv\",\n",
    "                   citizen_dist=\"../sources/citizen_dist.csv\")"
   ],
   "metadata": {
    "collapsed": false,
    "ExecuteTime": {
     "end_time": "2023-10-11T08:57:46.742078400Z",
     "start_time": "2023-10-11T08:57:46.559071900Z"
    }
   },
   "id": "6b6c22f15096c2ef"
  },
  {
   "cell_type": "code",
   "execution_count": 17,
   "outputs": [],
   "source": [
    "curricula = gen.get_curricula(400, path=\"../outputs/curriculums.csv\")\n",
    "\n",
    "offers = gen.get_offers(40, path=\"./../outputs/offers.csv\")"
   ],
   "metadata": {
    "collapsed": false,
    "ExecuteTime": {
     "end_time": "2023-10-11T08:57:47.674062700Z",
     "start_time": "2023-10-11T08:57:46.744068800Z"
    }
   },
   "id": "1da95890375d6b46"
  },
  {
   "cell_type": "code",
   "execution_count": 18,
   "outputs": [
    {
     "name": "stderr",
     "output_type": "stream",
     "text": [
      "100%|██████████| 16000/16000 [00:01<00:00, 9626.93it/s]\n"
     ]
    }
   ],
   "source": [
    "matrix_score = gen.ScoreFunction(offers,curricula, path=\"./../outputs/score.csv\")"
   ],
   "metadata": {
    "collapsed": false,
    "ExecuteTime": {
     "end_time": "2023-10-11T08:57:49.771061200Z",
     "start_time": "2023-10-11T08:57:47.676069500Z"
    }
   },
   "id": "6601b03fa206f8a6"
  },
  {
   "cell_type": "code",
   "execution_count": 19,
   "outputs": [
    {
     "data": {
      "text/plain": "       qId  kId  Education  SmartWork  Experience_abroad      City   Skills  \\\n14068   35   68        1.0          1                  1  0.955902  1.00000   \n10745   26  345        1.0          0                  0  0.524282  0.93750   \n13529   33  329        1.0          0                  0  0.747342  0.75000   \n3271     8   71        1.0          0                  1  0.910534  1.00000   \n10897   27   97        0.8          0                  0  0.513322  0.90625   \n...    ...  ...        ...        ...                ...       ...      ...   \n1398     3  198        0.4          0                  1  0.819713  0.00000   \n14789   36  389        0.8          0                  0  0.875773  0.00000   \n15479   38  279        1.0          1                  1  0.977675  0.00000   \n1443     3  243        0.6          0                  0  0.898227  0.00000   \n12418   31   18        0.4          0                  0  0.734223  0.00000   \n\n       Softskills       Age  Experience  Salary  Language     score   w_score  \\\n14068         1.0  1.000000    0.666667       0  0.000000  7.695515  1.399125   \n10745         0.5  0.000000    1.000000       0  0.000000  3.928262  1.371945   \n13529         1.0  0.000000    1.000000       1  0.333333  5.897669  1.358473   \n3271          0.8  0.000000    1.000000       0  0.333333  6.310719  1.307025   \n10897         1.0  1.000000    1.000000       0  0.000000  5.480818  1.274075   \n...           ...       ...         ...     ...       ...       ...       ...   \n1398          0.0  0.571429    0.666667       1  0.000000  3.755699 -0.422358   \n14789         0.0  1.000000    0.333333       1  0.000000  3.883789 -0.438879   \n15479         0.0  0.000000    1.000000       0  0.000000  4.918774 -0.456119   \n1443          0.0  0.000000    0.666667       0  0.000000  2.143686 -0.516068   \n12418         0.0  0.000000    1.000000       0  0.000000  2.183547 -0.537247   \n\n       labels  \n14068       9  \n10745       9  \n13529       9  \n3271        9  \n10897       9  \n...       ...  \n1398        0  \n14789       0  \n15479       0  \n1443        0  \n12418       0  \n\n[16000 rows x 15 columns]",
      "text/html": "<div>\n<style scoped>\n    .dataframe tbody tr th:only-of-type {\n        vertical-align: middle;\n    }\n\n    .dataframe tbody tr th {\n        vertical-align: top;\n    }\n\n    .dataframe thead th {\n        text-align: right;\n    }\n</style>\n<table border=\"1\" class=\"dataframe\">\n  <thead>\n    <tr style=\"text-align: right;\">\n      <th></th>\n      <th>qId</th>\n      <th>kId</th>\n      <th>Education</th>\n      <th>SmartWork</th>\n      <th>Experience_abroad</th>\n      <th>City</th>\n      <th>Skills</th>\n      <th>Softskills</th>\n      <th>Age</th>\n      <th>Experience</th>\n      <th>Salary</th>\n      <th>Language</th>\n      <th>score</th>\n      <th>w_score</th>\n      <th>labels</th>\n    </tr>\n  </thead>\n  <tbody>\n    <tr>\n      <th>14068</th>\n      <td>35</td>\n      <td>68</td>\n      <td>1.0</td>\n      <td>1</td>\n      <td>1</td>\n      <td>0.955902</td>\n      <td>1.00000</td>\n      <td>1.0</td>\n      <td>1.000000</td>\n      <td>0.666667</td>\n      <td>0</td>\n      <td>0.000000</td>\n      <td>7.695515</td>\n      <td>1.399125</td>\n      <td>9</td>\n    </tr>\n    <tr>\n      <th>10745</th>\n      <td>26</td>\n      <td>345</td>\n      <td>1.0</td>\n      <td>0</td>\n      <td>0</td>\n      <td>0.524282</td>\n      <td>0.93750</td>\n      <td>0.5</td>\n      <td>0.000000</td>\n      <td>1.000000</td>\n      <td>0</td>\n      <td>0.000000</td>\n      <td>3.928262</td>\n      <td>1.371945</td>\n      <td>9</td>\n    </tr>\n    <tr>\n      <th>13529</th>\n      <td>33</td>\n      <td>329</td>\n      <td>1.0</td>\n      <td>0</td>\n      <td>0</td>\n      <td>0.747342</td>\n      <td>0.75000</td>\n      <td>1.0</td>\n      <td>0.000000</td>\n      <td>1.000000</td>\n      <td>1</td>\n      <td>0.333333</td>\n      <td>5.897669</td>\n      <td>1.358473</td>\n      <td>9</td>\n    </tr>\n    <tr>\n      <th>3271</th>\n      <td>8</td>\n      <td>71</td>\n      <td>1.0</td>\n      <td>0</td>\n      <td>1</td>\n      <td>0.910534</td>\n      <td>1.00000</td>\n      <td>0.8</td>\n      <td>0.000000</td>\n      <td>1.000000</td>\n      <td>0</td>\n      <td>0.333333</td>\n      <td>6.310719</td>\n      <td>1.307025</td>\n      <td>9</td>\n    </tr>\n    <tr>\n      <th>10897</th>\n      <td>27</td>\n      <td>97</td>\n      <td>0.8</td>\n      <td>0</td>\n      <td>0</td>\n      <td>0.513322</td>\n      <td>0.90625</td>\n      <td>1.0</td>\n      <td>1.000000</td>\n      <td>1.000000</td>\n      <td>0</td>\n      <td>0.000000</td>\n      <td>5.480818</td>\n      <td>1.274075</td>\n      <td>9</td>\n    </tr>\n    <tr>\n      <th>...</th>\n      <td>...</td>\n      <td>...</td>\n      <td>...</td>\n      <td>...</td>\n      <td>...</td>\n      <td>...</td>\n      <td>...</td>\n      <td>...</td>\n      <td>...</td>\n      <td>...</td>\n      <td>...</td>\n      <td>...</td>\n      <td>...</td>\n      <td>...</td>\n      <td>...</td>\n    </tr>\n    <tr>\n      <th>1398</th>\n      <td>3</td>\n      <td>198</td>\n      <td>0.4</td>\n      <td>0</td>\n      <td>1</td>\n      <td>0.819713</td>\n      <td>0.00000</td>\n      <td>0.0</td>\n      <td>0.571429</td>\n      <td>0.666667</td>\n      <td>1</td>\n      <td>0.000000</td>\n      <td>3.755699</td>\n      <td>-0.422358</td>\n      <td>0</td>\n    </tr>\n    <tr>\n      <th>14789</th>\n      <td>36</td>\n      <td>389</td>\n      <td>0.8</td>\n      <td>0</td>\n      <td>0</td>\n      <td>0.875773</td>\n      <td>0.00000</td>\n      <td>0.0</td>\n      <td>1.000000</td>\n      <td>0.333333</td>\n      <td>1</td>\n      <td>0.000000</td>\n      <td>3.883789</td>\n      <td>-0.438879</td>\n      <td>0</td>\n    </tr>\n    <tr>\n      <th>15479</th>\n      <td>38</td>\n      <td>279</td>\n      <td>1.0</td>\n      <td>1</td>\n      <td>1</td>\n      <td>0.977675</td>\n      <td>0.00000</td>\n      <td>0.0</td>\n      <td>0.000000</td>\n      <td>1.000000</td>\n      <td>0</td>\n      <td>0.000000</td>\n      <td>4.918774</td>\n      <td>-0.456119</td>\n      <td>0</td>\n    </tr>\n    <tr>\n      <th>1443</th>\n      <td>3</td>\n      <td>243</td>\n      <td>0.6</td>\n      <td>0</td>\n      <td>0</td>\n      <td>0.898227</td>\n      <td>0.00000</td>\n      <td>0.0</td>\n      <td>0.000000</td>\n      <td>0.666667</td>\n      <td>0</td>\n      <td>0.000000</td>\n      <td>2.143686</td>\n      <td>-0.516068</td>\n      <td>0</td>\n    </tr>\n    <tr>\n      <th>12418</th>\n      <td>31</td>\n      <td>18</td>\n      <td>0.4</td>\n      <td>0</td>\n      <td>0</td>\n      <td>0.734223</td>\n      <td>0.00000</td>\n      <td>0.0</td>\n      <td>0.000000</td>\n      <td>1.000000</td>\n      <td>0</td>\n      <td>0.000000</td>\n      <td>2.183547</td>\n      <td>-0.537247</td>\n      <td>0</td>\n    </tr>\n  </tbody>\n</table>\n<p>16000 rows × 15 columns</p>\n</div>"
     },
     "execution_count": 19,
     "metadata": {},
     "output_type": "execute_result"
    }
   ],
   "source": [
    "matrix_score.sort_values(\"w_score\",ascending=False)"
   ],
   "metadata": {
    "collapsed": false,
    "ExecuteTime": {
     "end_time": "2023-10-11T08:57:49.820080Z",
     "start_time": "2023-10-11T08:57:49.775065200Z"
    }
   },
   "id": "6c3b195b7abf837d"
  }
 ],
 "metadata": {
  "kernelspec": {
   "display_name": "Python 3",
   "language": "python",
   "name": "python3"
  },
  "language_info": {
   "codemirror_mode": {
    "name": "ipython",
    "version": 2
   },
   "file_extension": ".py",
   "mimetype": "text/x-python",
   "name": "python",
   "nbconvert_exporter": "python",
   "pygments_lexer": "ipython2",
   "version": "2.7.6"
  }
 },
 "nbformat": 4,
 "nbformat_minor": 5
}
