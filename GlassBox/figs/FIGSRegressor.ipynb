{
 "cells": [
  {
   "cell_type": "code",
   "execution_count": 19,
   "outputs": [],
   "source": [
    "import pandas as pd\n",
    "import numpy as np\n",
    "from GlassBox.figs.figs_utils import FIGSGridSearch\n",
    "from imodels import FIGSRegressor\n",
    "%reload_ext autoreload\n",
    "%autoreload 2"
   ],
   "metadata": {
    "collapsed": false,
    "ExecuteTime": {
     "end_time": "2023-10-27T17:38:06.862805400Z",
     "start_time": "2023-10-27T17:38:06.674170800Z"
    }
   },
   "id": "5be52892517a6579"
  },
  {
   "cell_type": "code",
   "execution_count": 3,
   "outputs": [],
   "source": [
    "FIGS_parameter = dict(\n",
    "    max_rules= [5,10,15,20,25],\n",
    "    max_trees=[2,3,4,5,6,7,8,9,10],\n",
    "    min_impurity_decrease=[0.1, 0.2, 0.3],\n",
    ")"
   ],
   "metadata": {
    "collapsed": false,
    "ExecuteTime": {
     "end_time": "2023-10-27T17:25:42.903277600Z",
     "start_time": "2023-10-27T17:25:42.831569500Z"
    }
   },
   "id": "fa9ce073f133f705"
  },
  {
   "cell_type": "markdown",
   "source": [
    "# Grid-search"
   ],
   "metadata": {
    "collapsed": false
   },
   "id": "685644129de16cf7"
  },
  {
   "cell_type": "code",
   "execution_count": 4,
   "outputs": [],
   "source": [
    "gs = FIGSGridSearch(\n",
    "    path_dataset=\"../../outputs/scores.csv\",\n",
    "    task=\"Regressor\",\n",
    "    random_state=841)"
   ],
   "metadata": {
    "collapsed": false,
    "ExecuteTime": {
     "end_time": "2023-10-27T17:25:43.014345600Z",
     "start_time": "2023-10-27T17:25:42.893988Z"
    }
   },
   "id": "fea90109df5bede3"
  },
  {
   "cell_type": "code",
   "execution_count": 4,
   "outputs": [
    {
     "name": "stderr",
     "output_type": "stream",
     "text": [
      "100%|██████████| 135/135 [01:55<00:00,  1.17it/s, nDCG=0.831]\n"
     ]
    }
   ],
   "source": [
    "best_ = gs.grid_search(FIGSRegressor, FIGS_parameter)\n",
    "gs.save_model(best_[0], name=\"figsreg_unbalanced\")"
   ],
   "metadata": {
    "collapsed": false,
    "ExecuteTime": {
     "end_time": "2023-10-27T15:01:42.630521900Z",
     "start_time": "2023-10-27T14:59:46.646360700Z"
    }
   },
   "id": "26c0a5184ead5814"
  },
  {
   "cell_type": "markdown",
   "source": [
    "# Metric evalutation"
   ],
   "metadata": {
    "collapsed": false
   },
   "id": "3580a215e625c71e"
  },
  {
   "cell_type": "code",
   "execution_count": 5,
   "outputs": [],
   "source": [
    "best_model = gs.load_model(name=\"figsreg_unbalanced\")"
   ],
   "metadata": {
    "collapsed": false,
    "ExecuteTime": {
     "end_time": "2023-10-27T17:25:45.176737400Z",
     "start_time": "2023-10-27T17:25:45.071294800Z"
    }
   },
   "id": "ab5898905b133ad7"
  },
  {
   "cell_type": "code",
   "execution_count": 6,
   "outputs": [
    {
     "data": {
      "text/plain": "            nDCG@1  nDCG@10  nDCG@15\nTraining    0.8338   0.7926   0.8003\nValidation  0.7842   0.8044   0.8307\nTest        0.7883   0.7797   0.8059",
      "text/html": "<div>\n<style scoped>\n    .dataframe tbody tr th:only-of-type {\n        vertical-align: middle;\n    }\n\n    .dataframe tbody tr th {\n        vertical-align: top;\n    }\n\n    .dataframe thead th {\n        text-align: right;\n    }\n</style>\n<table border=\"1\" class=\"dataframe\">\n  <thead>\n    <tr style=\"text-align: right;\">\n      <th></th>\n      <th>nDCG@1</th>\n      <th>nDCG@10</th>\n      <th>nDCG@15</th>\n    </tr>\n  </thead>\n  <tbody>\n    <tr>\n      <th>Training</th>\n      <td>0.8338</td>\n      <td>0.7926</td>\n      <td>0.8003</td>\n    </tr>\n    <tr>\n      <th>Validation</th>\n      <td>0.7842</td>\n      <td>0.8044</td>\n      <td>0.8307</td>\n    </tr>\n    <tr>\n      <th>Test</th>\n      <td>0.7883</td>\n      <td>0.7797</td>\n      <td>0.8059</td>\n    </tr>\n  </tbody>\n</table>\n</div>"
     },
     "metadata": {},
     "output_type": "display_data"
    }
   ],
   "source": [
    "# nDCG on test-set\n",
    "nDCG_train = gs.eval_model(model=best_model, df=gs.train, nDCG_at=[1,10,15])\n",
    "nDCG_valid = gs.eval_model(model=best_model, df=gs.valid, nDCG_at=[1,10,15])\n",
    "nDCG_test = gs.eval_model(model=best_model, df=gs.test, nDCG_at=[1,10,15])\n",
    "\n",
    "display(pd.DataFrame([nDCG_train,nDCG_valid,nDCG_test],index=[\"Training\",\"Validation\",\"Test\"]))"
   ],
   "metadata": {
    "collapsed": false,
    "ExecuteTime": {
     "end_time": "2023-10-27T17:25:47.908446200Z",
     "start_time": "2023-10-27T17:25:47.194247800Z"
    }
   },
   "id": "11c511ecc7a93007"
  },
  {
   "cell_type": "markdown",
   "source": [
    "# Example of Job-offer"
   ],
   "metadata": {
    "collapsed": false
   },
   "id": "259d213d7f1fc634"
  },
  {
   "cell_type": "code",
   "execution_count": 14,
   "outputs": [
    {
     "data": {
      "text/plain": "      kId  labels\n3165  165       4\n3091   91       3\n3103  103       3\n3139  139       3\n3199  199       3\n3118  118       3\n3179  179       2\n3106  106       2\n3027   27       2\n3056   56       2\n3196  196       2\n3068   68       2\n3006    6       2\n3088   88       2\n3174  174       2",
      "text/html": "<div>\n<style scoped>\n    .dataframe tbody tr th:only-of-type {\n        vertical-align: middle;\n    }\n\n    .dataframe tbody tr th {\n        vertical-align: top;\n    }\n\n    .dataframe thead th {\n        text-align: right;\n    }\n</style>\n<table border=\"1\" class=\"dataframe\">\n  <thead>\n    <tr style=\"text-align: right;\">\n      <th></th>\n      <th>kId</th>\n      <th>labels</th>\n    </tr>\n  </thead>\n  <tbody>\n    <tr>\n      <th>3165</th>\n      <td>165</td>\n      <td>4</td>\n    </tr>\n    <tr>\n      <th>3091</th>\n      <td>91</td>\n      <td>3</td>\n    </tr>\n    <tr>\n      <th>3103</th>\n      <td>103</td>\n      <td>3</td>\n    </tr>\n    <tr>\n      <th>3139</th>\n      <td>139</td>\n      <td>3</td>\n    </tr>\n    <tr>\n      <th>3199</th>\n      <td>199</td>\n      <td>3</td>\n    </tr>\n    <tr>\n      <th>3118</th>\n      <td>118</td>\n      <td>3</td>\n    </tr>\n    <tr>\n      <th>3179</th>\n      <td>179</td>\n      <td>2</td>\n    </tr>\n    <tr>\n      <th>3106</th>\n      <td>106</td>\n      <td>2</td>\n    </tr>\n    <tr>\n      <th>3027</th>\n      <td>27</td>\n      <td>2</td>\n    </tr>\n    <tr>\n      <th>3056</th>\n      <td>56</td>\n      <td>2</td>\n    </tr>\n    <tr>\n      <th>3196</th>\n      <td>196</td>\n      <td>2</td>\n    </tr>\n    <tr>\n      <th>3068</th>\n      <td>68</td>\n      <td>2</td>\n    </tr>\n    <tr>\n      <th>3006</th>\n      <td>6</td>\n      <td>2</td>\n    </tr>\n    <tr>\n      <th>3088</th>\n      <td>88</td>\n      <td>2</td>\n    </tr>\n    <tr>\n      <th>3174</th>\n      <td>174</td>\n      <td>2</td>\n    </tr>\n  </tbody>\n</table>\n</div>"
     },
     "execution_count": 14,
     "metadata": {},
     "output_type": "execute_result"
    }
   ],
   "source": [
    "gs.test[gs.test[\"qId\"]==15][[\"kId\",\"labels\"]].sort_values(\"labels\",ascending=False).head(15)"
   ],
   "metadata": {
    "collapsed": false,
    "ExecuteTime": {
     "end_time": "2023-10-27T17:36:54.619423300Z",
     "start_time": "2023-10-27T17:36:54.547866400Z"
    }
   },
   "id": "936f9b92b9c9506f"
  },
  {
   "cell_type": "code",
   "execution_count": 30,
   "outputs": [
    {
     "data": {
      "text/plain": "      kId  labels\n3165  165       4\n3187  187       2\n3051   51       2\n3167  167       2\n3103  103       3\n3156  156       1\n3172  172       2\n3047   47       2\n3068   68       2\n3126  126       2\n3138  138       2\n3034   34       2\n3149  149       2\n3197  197       2\n3020   20       2",
      "text/html": "<div>\n<style scoped>\n    .dataframe tbody tr th:only-of-type {\n        vertical-align: middle;\n    }\n\n    .dataframe tbody tr th {\n        vertical-align: top;\n    }\n\n    .dataframe thead th {\n        text-align: right;\n    }\n</style>\n<table border=\"1\" class=\"dataframe\">\n  <thead>\n    <tr style=\"text-align: right;\">\n      <th></th>\n      <th>kId</th>\n      <th>labels</th>\n    </tr>\n  </thead>\n  <tbody>\n    <tr>\n      <th>3165</th>\n      <td>165</td>\n      <td>4</td>\n    </tr>\n    <tr>\n      <th>3187</th>\n      <td>187</td>\n      <td>2</td>\n    </tr>\n    <tr>\n      <th>3051</th>\n      <td>51</td>\n      <td>2</td>\n    </tr>\n    <tr>\n      <th>3167</th>\n      <td>167</td>\n      <td>2</td>\n    </tr>\n    <tr>\n      <th>3103</th>\n      <td>103</td>\n      <td>3</td>\n    </tr>\n    <tr>\n      <th>3156</th>\n      <td>156</td>\n      <td>1</td>\n    </tr>\n    <tr>\n      <th>3172</th>\n      <td>172</td>\n      <td>2</td>\n    </tr>\n    <tr>\n      <th>3047</th>\n      <td>47</td>\n      <td>2</td>\n    </tr>\n    <tr>\n      <th>3068</th>\n      <td>68</td>\n      <td>2</td>\n    </tr>\n    <tr>\n      <th>3126</th>\n      <td>126</td>\n      <td>2</td>\n    </tr>\n    <tr>\n      <th>3138</th>\n      <td>138</td>\n      <td>2</td>\n    </tr>\n    <tr>\n      <th>3034</th>\n      <td>34</td>\n      <td>2</td>\n    </tr>\n    <tr>\n      <th>3149</th>\n      <td>149</td>\n      <td>2</td>\n    </tr>\n    <tr>\n      <th>3197</th>\n      <td>197</td>\n      <td>2</td>\n    </tr>\n    <tr>\n      <th>3020</th>\n      <td>20</td>\n      <td>2</td>\n    </tr>\n  </tbody>\n</table>\n</div>"
     },
     "execution_count": 30,
     "metadata": {},
     "output_type": "execute_result"
    }
   ],
   "source": [
    "features = gs.test[gs.test[\"qId\"]==15]\n",
    "y_pred = best_model.predict(np.asarray(features.iloc[:,2:13].values))\n",
    "y_pred = pd.DataFrame(y_pred, index=features.index, columns=[\"lambdas\"])\n",
    "dt_final = pd.merge(features, y_pred, left_index=True, right_index=True)\n",
    "dt_final.sort_values(\"lambdas\",ascending=False)[[\"kId\",\"labels\"]].head(15)"
   ],
   "metadata": {
    "collapsed": false,
    "ExecuteTime": {
     "end_time": "2023-10-27T17:41:45.329898600Z",
     "start_time": "2023-10-27T17:41:45.141374400Z"
    }
   },
   "id": "c59e98629c1bea95"
  },
  {
   "cell_type": "code",
   "execution_count": null,
   "outputs": [],
   "source": [
    "# qId = 1\n",
    "# job_curricula = gs.test[gs.test[\"qId\"] == qId]\n",
    "# \n",
    "# y_pred = best_model.predict(np.asarray(job_curricula.iloc[:, 2:13]))\n",
    "# \n",
    "# y_pred = pd.DataFrame(y_pred, index=job_curricula.index, columns=[\"lambdas\"])\n",
    "# dt_final = pd.merge(job_curricula, y_pred, left_index=True, right_index=True)\n",
    "# dt_final.sort_values(\"labels\", ascending=False)[\"labels\"].head(15)\n",
    "# dt_final.sort_values(\"lambdas\",ascending=False)[\"labels\"].head(15)\n",
    "# print(best_model)"
   ],
   "metadata": {
    "collapsed": false
   },
   "id": "29425556066d3a73"
  },
  {
   "cell_type": "markdown",
   "source": [
    "# Grid search - balanced"
   ],
   "metadata": {
    "collapsed": false
   },
   "id": "8c4853f1adcf3a77"
  },
  {
   "cell_type": "code",
   "execution_count": 7,
   "outputs": [],
   "source": [
    "gs = FIGSGridSearch(\n",
    "    path_dataset=\"../../outputs/balanced_scores.csv\",\n",
    "    task=\"Regressor\",\n",
    "    random_state=841)"
   ],
   "metadata": {
    "collapsed": false,
    "ExecuteTime": {
     "end_time": "2023-10-27T15:01:43.552150200Z",
     "start_time": "2023-10-27T15:01:43.423947500Z"
    }
   },
   "id": "8a630d4b434af532"
  },
  {
   "cell_type": "code",
   "execution_count": 8,
   "outputs": [
    {
     "name": "stderr",
     "output_type": "stream",
     "text": [
      "100%|██████████| 135/135 [00:38<00:00,  3.49it/s, nDCG=0.931]\n"
     ]
    }
   ],
   "source": [
    "best_ = gs.grid_search(FIGSRegressor, FIGS_parameter)\n",
    "gs.save_model(best_[0], name=\"figsreg_balanced\")"
   ],
   "metadata": {
    "collapsed": false,
    "ExecuteTime": {
     "end_time": "2023-10-27T15:02:22.328424400Z",
     "start_time": "2023-10-27T15:01:43.516166100Z"
    }
   },
   "id": "469868aca369e49e"
  },
  {
   "cell_type": "code",
   "execution_count": 9,
   "outputs": [],
   "source": [
    "best_model = gs.load_model(name=\"figsreg_balanced\")"
   ],
   "metadata": {
    "collapsed": false,
    "ExecuteTime": {
     "end_time": "2023-10-27T15:02:22.406192800Z",
     "start_time": "2023-10-27T15:02:22.319427800Z"
    }
   },
   "id": "7099e57c3599a725"
  },
  {
   "cell_type": "code",
   "execution_count": 10,
   "outputs": [
    {
     "data": {
      "text/plain": "            nDCG@1  nDCG@10  nDCG@15\nTraining    0.8744   0.8694   0.9037\nValidation  0.8475   0.9183   0.9306\nTest        0.8290   0.8720   0.9152",
      "text/html": "<div>\n<style scoped>\n    .dataframe tbody tr th:only-of-type {\n        vertical-align: middle;\n    }\n\n    .dataframe tbody tr th {\n        vertical-align: top;\n    }\n\n    .dataframe thead th {\n        text-align: right;\n    }\n</style>\n<table border=\"1\" class=\"dataframe\">\n  <thead>\n    <tr style=\"text-align: right;\">\n      <th></th>\n      <th>nDCG@1</th>\n      <th>nDCG@10</th>\n      <th>nDCG@15</th>\n    </tr>\n  </thead>\n  <tbody>\n    <tr>\n      <th>Training</th>\n      <td>0.8744</td>\n      <td>0.8694</td>\n      <td>0.9037</td>\n    </tr>\n    <tr>\n      <th>Validation</th>\n      <td>0.8475</td>\n      <td>0.9183</td>\n      <td>0.9306</td>\n    </tr>\n    <tr>\n      <th>Test</th>\n      <td>0.8290</td>\n      <td>0.8720</td>\n      <td>0.9152</td>\n    </tr>\n  </tbody>\n</table>\n</div>"
     },
     "metadata": {},
     "output_type": "display_data"
    }
   ],
   "source": [
    "# nDCG on test-set\n",
    "nDCG_train = gs.eval_model(model=best_model, df=gs.train, nDCG_at=[1,10,15])\n",
    "nDCG_valid = gs.eval_model(model=best_model, df=gs.valid, nDCG_at=[1,10,15])\n",
    "nDCG_test = gs.eval_model(model=best_model, df=gs.test, nDCG_at=[1,10,15])\n",
    "\n",
    "display(pd.DataFrame([nDCG_train,nDCG_valid,nDCG_test],index=[\"Training\",\"Validation\",\"Test\"]))"
   ],
   "metadata": {
    "collapsed": false,
    "ExecuteTime": {
     "end_time": "2023-10-27T15:02:22.924971500Z",
     "start_time": "2023-10-27T15:02:22.405188600Z"
    }
   },
   "id": "b2918be29e0efd04"
  }
 ],
 "metadata": {
  "kernelspec": {
   "display_name": "Python 3",
   "language": "python",
   "name": "python3"
  },
  "language_info": {
   "codemirror_mode": {
    "name": "ipython",
    "version": 2
   },
   "file_extension": ".py",
   "mimetype": "text/x-python",
   "name": "python",
   "nbconvert_exporter": "python",
   "pygments_lexer": "ipython2",
   "version": "2.7.6"
  }
 },
 "nbformat": 4,
 "nbformat_minor": 5
}
