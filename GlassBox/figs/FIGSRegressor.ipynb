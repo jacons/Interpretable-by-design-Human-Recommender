{
 "cells": [
  {
   "cell_type": "code",
   "execution_count": 1,
   "outputs": [],
   "source": [
    "import pandas as pd\n",
    "import numpy as np\n",
    "from GlassBox.figs.figs_utils import FIGSGridSearch\n",
    "from imodels import FIGSRegressor\n",
    "%reload_ext autoreload\n",
    "%autoreload 2"
   ],
   "metadata": {
    "collapsed": false,
    "ExecuteTime": {
     "end_time": "2023-10-29T17:00:21.922859400Z",
     "start_time": "2023-10-29T17:00:18.980051200Z"
    }
   },
   "id": "5be52892517a6579"
  },
  {
   "cell_type": "code",
   "execution_count": 2,
   "outputs": [],
   "source": [
    "FIGS_parameter = dict(\n",
    "    max_rules= [5,10,15,20,25],\n",
    "    max_trees=[2,3,4,5,6,7,8,9,10],\n",
    "    min_impurity_decrease=[0.1, 0.2, 0.3],\n",
    ")\n",
    "gridsearch_parameters = dict( # unbalanced sources\n",
    "    train=\"../../outputs/scores/scores_tr.csv\",\n",
    "    valid=\"../../outputs/scores/scores_vl.csv\",\n",
    "    test=\"../../outputs/scores/scores_ts.csv\",\n",
    "    task=\"Regression\",\n",
    "    nDCG_at=15\n",
    ")\n",
    "gridsearch_parameters2 = dict( # balanced sources\n",
    "    train=\"../../outputs/bal_scores/scores_tr.csv\",\n",
    "    valid=\"../../outputs/bal_scores/scores_vl.csv\",\n",
    "    test=\"../../outputs/bal_scores/scores_ts.csv\",\n",
    "    task=\"Regression\",\n",
    "    nDCG_at=15\n",
    ")"
   ],
   "metadata": {
    "collapsed": false,
    "ExecuteTime": {
     "end_time": "2023-10-29T17:00:22.003369700Z",
     "start_time": "2023-10-29T17:00:21.925861100Z"
    }
   },
   "id": "fa9ce073f133f705"
  },
  {
   "cell_type": "markdown",
   "source": [
    "# Grid-search"
   ],
   "metadata": {
    "collapsed": false
   },
   "id": "685644129de16cf7"
  },
  {
   "cell_type": "code",
   "execution_count": 3,
   "outputs": [],
   "source": [
    "gs = FIGSGridSearch(**gridsearch_parameters)"
   ],
   "metadata": {
    "collapsed": false,
    "ExecuteTime": {
     "end_time": "2023-10-29T17:00:22.113181700Z",
     "start_time": "2023-10-29T17:00:22.003369700Z"
    }
   },
   "id": "fea90109df5bede3"
  },
  {
   "cell_type": "code",
   "execution_count": 4,
   "outputs": [
    {
     "name": "stderr",
     "output_type": "stream",
     "text": [
      "100%|██████████| 135/135 [01:08<00:00,  1.98it/s, nDCG=0.857]\n"
     ]
    }
   ],
   "source": [
    "best_ = gs.grid_search(FIGSRegressor, FIGS_parameter)\n",
    "gs.save_model(best_[0], name=\"FIGSReg_unbalanced\")"
   ],
   "metadata": {
    "collapsed": false,
    "ExecuteTime": {
     "end_time": "2023-10-29T17:01:30.399238600Z",
     "start_time": "2023-10-29T17:00:22.114183500Z"
    }
   },
   "id": "26c0a5184ead5814"
  },
  {
   "cell_type": "markdown",
   "source": [
    "# Metric evalutation"
   ],
   "metadata": {
    "collapsed": false
   },
   "id": "3580a215e625c71e"
  },
  {
   "cell_type": "code",
   "execution_count": 5,
   "outputs": [],
   "source": [
    "best_model = gs.load_model(name=\"./saved_models/FIGSReg_unbalanced\")"
   ],
   "metadata": {
    "collapsed": false,
    "ExecuteTime": {
     "end_time": "2023-10-29T17:01:30.479631600Z",
     "start_time": "2023-10-29T17:01:30.396244300Z"
    }
   },
   "id": "ab5898905b133ad7"
  },
  {
   "cell_type": "code",
   "execution_count": 6,
   "outputs": [
    {
     "data": {
      "text/plain": "            nDCG@1  nDCG@10  nDCG@15\nTraining    0.9075   0.9129   0.8970\nValidation  0.9550   0.8764   0.8568\nTest        0.9167   0.8800   0.8580",
      "text/html": "<div>\n<style scoped>\n    .dataframe tbody tr th:only-of-type {\n        vertical-align: middle;\n    }\n\n    .dataframe tbody tr th {\n        vertical-align: top;\n    }\n\n    .dataframe thead th {\n        text-align: right;\n    }\n</style>\n<table border=\"1\" class=\"dataframe\">\n  <thead>\n    <tr style=\"text-align: right;\">\n      <th></th>\n      <th>nDCG@1</th>\n      <th>nDCG@10</th>\n      <th>nDCG@15</th>\n    </tr>\n  </thead>\n  <tbody>\n    <tr>\n      <th>Training</th>\n      <td>0.9075</td>\n      <td>0.9129</td>\n      <td>0.8970</td>\n    </tr>\n    <tr>\n      <th>Validation</th>\n      <td>0.9550</td>\n      <td>0.8764</td>\n      <td>0.8568</td>\n    </tr>\n    <tr>\n      <th>Test</th>\n      <td>0.9167</td>\n      <td>0.8800</td>\n      <td>0.8580</td>\n    </tr>\n  </tbody>\n</table>\n</div>"
     },
     "metadata": {},
     "output_type": "display_data"
    }
   ],
   "source": [
    "# nDCG on test-set\n",
    "nDCG_train = gs.eval_model(model=best_model, df=gs.train, nDCG_at=[1,10,15])\n",
    "nDCG_valid = gs.eval_model(model=best_model, df=gs.valid, nDCG_at=[1,10,15])\n",
    "nDCG_test = gs.eval_model(model=best_model, df=gs.test, nDCG_at=[1,10,15])\n",
    "\n",
    "display(pd.DataFrame([nDCG_train,nDCG_valid,nDCG_test],index=[\"Training\",\"Validation\",\"Test\"]))"
   ],
   "metadata": {
    "collapsed": false,
    "ExecuteTime": {
     "end_time": "2023-10-29T17:01:30.933507100Z",
     "start_time": "2023-10-29T17:01:30.481632500Z"
    }
   },
   "id": "11c511ecc7a93007"
  },
  {
   "cell_type": "markdown",
   "source": [
    "# Example of Job-offer"
   ],
   "metadata": {
    "collapsed": false
   },
   "id": "259d213d7f1fc634"
  },
  {
   "cell_type": "code",
   "execution_count": 7,
   "outputs": [
    {
     "data": {
      "text/plain": "      kId  labels\n2839  228       3\n171   256       3\n4808  117       3\n2377   67       2\n2712  194       2\n2635   34       2\n2599   85       2\n2561  150       2\n4055  167       2\n4095  226       2\n2813  112       2\n2307  151       2\n2259  281       2\n2247  214       2\n2043  251       2",
      "text/html": "<div>\n<style scoped>\n    .dataframe tbody tr th:only-of-type {\n        vertical-align: middle;\n    }\n\n    .dataframe tbody tr th {\n        vertical-align: top;\n    }\n\n    .dataframe thead th {\n        text-align: right;\n    }\n</style>\n<table border=\"1\" class=\"dataframe\">\n  <thead>\n    <tr style=\"text-align: right;\">\n      <th></th>\n      <th>kId</th>\n      <th>labels</th>\n    </tr>\n  </thead>\n  <tbody>\n    <tr>\n      <th>2839</th>\n      <td>228</td>\n      <td>3</td>\n    </tr>\n    <tr>\n      <th>171</th>\n      <td>256</td>\n      <td>3</td>\n    </tr>\n    <tr>\n      <th>4808</th>\n      <td>117</td>\n      <td>3</td>\n    </tr>\n    <tr>\n      <th>2377</th>\n      <td>67</td>\n      <td>2</td>\n    </tr>\n    <tr>\n      <th>2712</th>\n      <td>194</td>\n      <td>2</td>\n    </tr>\n    <tr>\n      <th>2635</th>\n      <td>34</td>\n      <td>2</td>\n    </tr>\n    <tr>\n      <th>2599</th>\n      <td>85</td>\n      <td>2</td>\n    </tr>\n    <tr>\n      <th>2561</th>\n      <td>150</td>\n      <td>2</td>\n    </tr>\n    <tr>\n      <th>4055</th>\n      <td>167</td>\n      <td>2</td>\n    </tr>\n    <tr>\n      <th>4095</th>\n      <td>226</td>\n      <td>2</td>\n    </tr>\n    <tr>\n      <th>2813</th>\n      <td>112</td>\n      <td>2</td>\n    </tr>\n    <tr>\n      <th>2307</th>\n      <td>151</td>\n      <td>2</td>\n    </tr>\n    <tr>\n      <th>2259</th>\n      <td>281</td>\n      <td>2</td>\n    </tr>\n    <tr>\n      <th>2247</th>\n      <td>214</td>\n      <td>2</td>\n    </tr>\n    <tr>\n      <th>2043</th>\n      <td>251</td>\n      <td>2</td>\n    </tr>\n  </tbody>\n</table>\n</div>"
     },
     "execution_count": 7,
     "metadata": {},
     "output_type": "execute_result"
    }
   ],
   "source": [
    "gs.test[gs.test[\"qId\"]==15][[\"kId\",\"labels\"]].sort_values(\"labels\",ascending=False).head(15)"
   ],
   "metadata": {
    "collapsed": false,
    "ExecuteTime": {
     "end_time": "2023-10-29T17:01:31.027455900Z",
     "start_time": "2023-10-29T17:01:30.922512100Z"
    }
   },
   "id": "936f9b92b9c9506f"
  },
  {
   "cell_type": "code",
   "execution_count": 8,
   "outputs": [
    {
     "data": {
      "text/plain": "      kId  labels\n171   256       3\n2839  228       3\n4808  117       3\n2307  151       2\n2635   34       2\n902   265       1\n1729  133       1\n3816   61       2\n1453  230       2\n3321  264       1\n162   260       2\n3583  101       2\n2259  281       2\n2712  194       2\n948    77       1",
      "text/html": "<div>\n<style scoped>\n    .dataframe tbody tr th:only-of-type {\n        vertical-align: middle;\n    }\n\n    .dataframe tbody tr th {\n        vertical-align: top;\n    }\n\n    .dataframe thead th {\n        text-align: right;\n    }\n</style>\n<table border=\"1\" class=\"dataframe\">\n  <thead>\n    <tr style=\"text-align: right;\">\n      <th></th>\n      <th>kId</th>\n      <th>labels</th>\n    </tr>\n  </thead>\n  <tbody>\n    <tr>\n      <th>171</th>\n      <td>256</td>\n      <td>3</td>\n    </tr>\n    <tr>\n      <th>2839</th>\n      <td>228</td>\n      <td>3</td>\n    </tr>\n    <tr>\n      <th>4808</th>\n      <td>117</td>\n      <td>3</td>\n    </tr>\n    <tr>\n      <th>2307</th>\n      <td>151</td>\n      <td>2</td>\n    </tr>\n    <tr>\n      <th>2635</th>\n      <td>34</td>\n      <td>2</td>\n    </tr>\n    <tr>\n      <th>902</th>\n      <td>265</td>\n      <td>1</td>\n    </tr>\n    <tr>\n      <th>1729</th>\n      <td>133</td>\n      <td>1</td>\n    </tr>\n    <tr>\n      <th>3816</th>\n      <td>61</td>\n      <td>2</td>\n    </tr>\n    <tr>\n      <th>1453</th>\n      <td>230</td>\n      <td>2</td>\n    </tr>\n    <tr>\n      <th>3321</th>\n      <td>264</td>\n      <td>1</td>\n    </tr>\n    <tr>\n      <th>162</th>\n      <td>260</td>\n      <td>2</td>\n    </tr>\n    <tr>\n      <th>3583</th>\n      <td>101</td>\n      <td>2</td>\n    </tr>\n    <tr>\n      <th>2259</th>\n      <td>281</td>\n      <td>2</td>\n    </tr>\n    <tr>\n      <th>2712</th>\n      <td>194</td>\n      <td>2</td>\n    </tr>\n    <tr>\n      <th>948</th>\n      <td>77</td>\n      <td>1</td>\n    </tr>\n  </tbody>\n</table>\n</div>"
     },
     "execution_count": 8,
     "metadata": {},
     "output_type": "execute_result"
    }
   ],
   "source": [
    "features = gs.test[gs.test[\"qId\"]==15]\n",
    "y_pred = best_model.predict(np.asarray(features.iloc[:,2:13].values))\n",
    "y_pred = pd.DataFrame(y_pred, index=features.index, columns=[\"lambdas\"])\n",
    "dt_final = pd.merge(features, y_pred, left_index=True, right_index=True)\n",
    "dt_final.sort_values(\"lambdas\",ascending=False)[[\"kId\",\"labels\"]].head(15)"
   ],
   "metadata": {
    "collapsed": false,
    "ExecuteTime": {
     "end_time": "2023-10-29T17:01:31.111113500Z",
     "start_time": "2023-10-29T17:01:31.009455800Z"
    }
   },
   "id": "c59e98629c1bea95"
  },
  {
   "cell_type": "markdown",
   "source": [
    "# Grid search - balanced"
   ],
   "metadata": {
    "collapsed": false
   },
   "id": "8c4853f1adcf3a77"
  },
  {
   "cell_type": "code",
   "execution_count": 9,
   "outputs": [],
   "source": [
    "gs = FIGSGridSearch(**gridsearch_parameters2)"
   ],
   "metadata": {
    "collapsed": false,
    "ExecuteTime": {
     "end_time": "2023-10-29T17:01:31.233137700Z",
     "start_time": "2023-10-29T17:01:31.104121200Z"
    }
   },
   "id": "8a630d4b434af532"
  },
  {
   "cell_type": "code",
   "execution_count": 10,
   "outputs": [
    {
     "name": "stderr",
     "output_type": "stream",
     "text": [
      "100%|██████████| 135/135 [00:44<00:00,  3.02it/s, nDCG=0.877]\n"
     ]
    }
   ],
   "source": [
    "best_ = gs.grid_search(FIGSRegressor, FIGS_parameter)\n",
    "gs.save_model(best_[0], name=\"FIGSReg_balanced\")"
   ],
   "metadata": {
    "collapsed": false,
    "ExecuteTime": {
     "end_time": "2023-10-29T17:02:16.171287700Z",
     "start_time": "2023-10-29T17:01:31.218153Z"
    }
   },
   "id": "469868aca369e49e"
  },
  {
   "cell_type": "code",
   "execution_count": 11,
   "outputs": [],
   "source": [
    "best_model = gs.load_model(name=\"./saved_models/FIGSReg_balanced\")"
   ],
   "metadata": {
    "collapsed": false,
    "ExecuteTime": {
     "end_time": "2023-10-29T17:02:16.257894800Z",
     "start_time": "2023-10-29T17:02:16.168283500Z"
    }
   },
   "id": "7099e57c3599a725"
  },
  {
   "cell_type": "code",
   "execution_count": 12,
   "outputs": [
    {
     "data": {
      "text/plain": "            nDCG@1  nDCG@10  nDCG@15\nTraining    0.9558   0.9389   0.9284\nValidation  0.9717   0.8969   0.8773\nTest        0.9136   0.9068   0.8900",
      "text/html": "<div>\n<style scoped>\n    .dataframe tbody tr th:only-of-type {\n        vertical-align: middle;\n    }\n\n    .dataframe tbody tr th {\n        vertical-align: top;\n    }\n\n    .dataframe thead th {\n        text-align: right;\n    }\n</style>\n<table border=\"1\" class=\"dataframe\">\n  <thead>\n    <tr style=\"text-align: right;\">\n      <th></th>\n      <th>nDCG@1</th>\n      <th>nDCG@10</th>\n      <th>nDCG@15</th>\n    </tr>\n  </thead>\n  <tbody>\n    <tr>\n      <th>Training</th>\n      <td>0.9558</td>\n      <td>0.9389</td>\n      <td>0.9284</td>\n    </tr>\n    <tr>\n      <th>Validation</th>\n      <td>0.9717</td>\n      <td>0.8969</td>\n      <td>0.8773</td>\n    </tr>\n    <tr>\n      <th>Test</th>\n      <td>0.9136</td>\n      <td>0.9068</td>\n      <td>0.8900</td>\n    </tr>\n  </tbody>\n</table>\n</div>"
     },
     "metadata": {},
     "output_type": "display_data"
    }
   ],
   "source": [
    "# nDCG on test-set\n",
    "nDCG_train = gs.eval_model(model=best_model, df=gs.train, nDCG_at=[1,10,15])\n",
    "nDCG_valid = gs.eval_model(model=best_model, df=gs.valid, nDCG_at=[1,10,15])\n",
    "nDCG_test = gs.eval_model(model=best_model, df=gs.test, nDCG_at=[1,10,15])\n",
    "\n",
    "display(pd.DataFrame([nDCG_train,nDCG_valid,nDCG_test],index=[\"Training\",\"Validation\",\"Test\"]))"
   ],
   "metadata": {
    "collapsed": false,
    "ExecuteTime": {
     "end_time": "2023-10-29T17:02:16.623170600Z",
     "start_time": "2023-10-29T17:02:16.257894800Z"
    }
   },
   "id": "b2918be29e0efd04"
  }
 ],
 "metadata": {
  "kernelspec": {
   "display_name": "Python 3",
   "language": "python",
   "name": "python3"
  },
  "language_info": {
   "codemirror_mode": {
    "name": "ipython",
    "version": 2
   },
   "file_extension": ".py",
   "mimetype": "text/x-python",
   "name": "python",
   "nbconvert_exporter": "python",
   "pygments_lexer": "ipython2",
   "version": "2.7.6"
  }
 },
 "nbformat": 4,
 "nbformat_minor": 5
}
