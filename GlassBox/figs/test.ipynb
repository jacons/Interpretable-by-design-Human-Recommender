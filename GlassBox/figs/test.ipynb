{
 "cells": [
  {
   "cell_type": "code",
   "execution_count": null,
   "outputs": [],
   "source": [
    "import pandas as pd"
   ],
   "metadata": {
    "collapsed": false,
    "is_executing": true
   },
   "id": "5be52892517a6579"
  },
  {
   "cell_type": "code",
   "execution_count": null,
   "outputs": [
    {
     "name": "stderr",
     "output_type": "stream",
     "text": [
      " 99%|█████████▉| 134/135 [06:53<00:07,  7.48s/it, nDCG=0.805]"
     ]
    }
   ],
   "source": [
    "from GlassBox.figs.figs_utils import FIGSGridSearch\n",
    "\n",
    "FIGS_parameter = dict(\n",
    "    max_rules= [5,10,15,20,25],\n",
    "    max_trees=[2,3,4,5,6,7,8,9,10],\n",
    "    min_impurity_decrease=[0.1, 0.2, 0.3],\n",
    ")\n",
    "\n",
    "gs = FIGSGridSearch(path_dataset=\"../../outputs/scores.csv\", random_state=841)\n",
    "best_ = gs.grid_search(FIGS_parameter)"
   ],
   "metadata": {
    "collapsed": false,
    "is_executing": true,
    "ExecuteTime": {
     "start_time": "2023-10-23T13:50:54.842812700Z"
    }
   },
   "id": "26c0a5184ead5814"
  },
  {
   "cell_type": "code",
   "execution_count": null,
   "outputs": [],
   "source": [
    "best_"
   ],
   "metadata": {
    "collapsed": false,
    "is_executing": true
   },
   "id": "e982aa461efdb647"
  },
  {
   "cell_type": "code",
   "execution_count": null,
   "outputs": [],
   "source": [
    "gs.eval_model(model=best_[0], df=gs.test)"
   ],
   "metadata": {
    "collapsed": false,
    "is_executing": true
   },
   "id": "11c511ecc7a93007"
  },
  {
   "cell_type": "code",
   "execution_count": null,
   "outputs": [],
   "source": [
    "qId = 1"
   ],
   "metadata": {
    "collapsed": false,
    "is_executing": true
   },
   "id": "b0ef32a5016c537f"
  },
  {
   "cell_type": "code",
   "execution_count": null,
   "outputs": [],
   "source": [
    "job_curricula = gs.test[gs.test[\"qId\"] == qId]"
   ],
   "metadata": {
    "collapsed": false,
    "is_executing": true
   },
   "id": "1f4dcefefcc3e46b"
  },
  {
   "cell_type": "code",
   "execution_count": null,
   "outputs": [],
   "source": [
    "y_pred = best_[0].predict(job_curricula.iloc[:, 2:13])"
   ],
   "metadata": {
    "collapsed": false,
    "is_executing": true
   },
   "id": "a38d059d4db9d783"
  },
  {
   "cell_type": "code",
   "execution_count": null,
   "outputs": [],
   "source": [
    "y_pred = pd.DataFrame(y_pred, index=job_curricula.index, columns=[\"lambdas\"])"
   ],
   "metadata": {
    "collapsed": false,
    "is_executing": true
   },
   "id": "72518f1608e18496"
  },
  {
   "cell_type": "code",
   "execution_count": null,
   "outputs": [],
   "source": [
    "dt_final = pd.merge(job_curricula, y_pred, left_index=True, right_index=True)"
   ],
   "metadata": {
    "collapsed": false,
    "is_executing": true
   },
   "id": "53bff594709e7773"
  },
  {
   "cell_type": "code",
   "execution_count": null,
   "outputs": [],
   "source": [
    "dt_final.sort_values(\"labels\", ascending=False)[\"labels\"].head(15)"
   ],
   "metadata": {
    "collapsed": false,
    "is_executing": true
   },
   "id": "982f4c23ebf23c8b"
  },
  {
   "cell_type": "code",
   "execution_count": null,
   "outputs": [],
   "source": [
    "dt_final.sort_values(\"lambdas\",ascending=False)[\"labels\"].head(15)"
   ],
   "metadata": {
    "collapsed": false,
    "is_executing": true
   },
   "id": "238487a1900a849"
  },
  {
   "cell_type": "code",
   "execution_count": null,
   "outputs": [],
   "source": [
    "best_[0].plot()"
   ],
   "metadata": {
    "collapsed": false,
    "is_executing": true
   },
   "id": "ce5deeaef21afcd5"
  }
 ],
 "metadata": {
  "kernelspec": {
   "display_name": "Python 3",
   "language": "python",
   "name": "python3"
  },
  "language_info": {
   "codemirror_mode": {
    "name": "ipython",
    "version": 2
   },
   "file_extension": ".py",
   "mimetype": "text/x-python",
   "name": "python",
   "nbconvert_exporter": "python",
   "pygments_lexer": "ipython2",
   "version": "2.7.6"
  }
 },
 "nbformat": 4,
 "nbformat_minor": 5
}
