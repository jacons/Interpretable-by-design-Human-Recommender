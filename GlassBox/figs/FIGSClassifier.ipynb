{
 "cells": [
  {
   "cell_type": "code",
   "execution_count": 1,
   "outputs": [],
   "source": [
    "import pandas as pd\n",
    "from GlassBox.figs.figs_utils import FIGSGridSearch\n",
    "from imodels import FIGSClassifier\n",
    "%reload_ext autoreload\n",
    "%autoreload 2"
   ],
   "metadata": {
    "collapsed": false,
    "ExecuteTime": {
     "end_time": "2023-10-27T14:44:53.622829300Z",
     "start_time": "2023-10-27T14:44:50.480634400Z"
    }
   },
   "id": "5be52892517a6579"
  },
  {
   "cell_type": "code",
   "execution_count": 2,
   "outputs": [],
   "source": [
    "FIGS_parameter = dict(\n",
    "    max_rules= [5,10,15,20,25],\n",
    "    max_trees=[2,3,4,5,6,7,8,9,10],\n",
    "    min_impurity_decrease=[0.1, 0.2, 0.3],\n",
    ")"
   ],
   "metadata": {
    "collapsed": false,
    "ExecuteTime": {
     "end_time": "2023-10-27T14:44:53.730104400Z",
     "start_time": "2023-10-27T14:44:53.626871700Z"
    }
   },
   "id": "fa9ce073f133f705"
  },
  {
   "cell_type": "markdown",
   "source": [
    "# Grid-search"
   ],
   "metadata": {
    "collapsed": false
   },
   "id": "685644129de16cf7"
  },
  {
   "cell_type": "code",
   "execution_count": 3,
   "outputs": [],
   "source": [
    "gs = FIGSGridSearch(\n",
    "    path_dataset=\"../../outputs/scores.csv\",\n",
    "    task=\"Classifier\",\n",
    "    random_state=841)"
   ],
   "metadata": {
    "collapsed": false,
    "ExecuteTime": {
     "end_time": "2023-10-27T14:44:53.852320800Z",
     "start_time": "2023-10-27T14:44:53.705404100Z"
    }
   },
   "id": "fea90109df5bede3"
  },
  {
   "cell_type": "code",
   "execution_count": 4,
   "outputs": [
    {
     "name": "stderr",
     "output_type": "stream",
     "text": [
      "100%|██████████| 135/135 [01:57<00:00,  1.15it/s, nDCG=0.731]\n"
     ]
    }
   ],
   "source": [
    "best_ = gs.grid_search(FIGSClassifier, FIGS_parameter)\n",
    "gs.save_model(best_[0], name=\"figsclass_unbalanced\")"
   ],
   "metadata": {
    "collapsed": false,
    "ExecuteTime": {
     "end_time": "2023-10-27T14:46:51.705332300Z",
     "start_time": "2023-10-27T14:44:53.852320800Z"
    }
   },
   "id": "26c0a5184ead5814"
  },
  {
   "cell_type": "markdown",
   "source": [
    "# Metric evalutation"
   ],
   "metadata": {
    "collapsed": false
   },
   "id": "3580a215e625c71e"
  },
  {
   "cell_type": "code",
   "execution_count": 5,
   "outputs": [],
   "source": [
    "best_model = gs.load_model(name=\"figsclass_unbalanced\")"
   ],
   "metadata": {
    "collapsed": false,
    "ExecuteTime": {
     "end_time": "2023-10-27T14:46:51.781834Z",
     "start_time": "2023-10-27T14:46:51.697217300Z"
    }
   },
   "id": "ab5898905b133ad7"
  },
  {
   "cell_type": "code",
   "execution_count": 6,
   "outputs": [
    {
     "data": {
      "text/plain": "            nDCG@1  nDCG@10  nDCG@15\nTraining    0.5773   0.6203   0.6482\nValidation  0.6077   0.6906   0.7306\nTest        0.5936   0.6512   0.6902",
      "text/html": "<div>\n<style scoped>\n    .dataframe tbody tr th:only-of-type {\n        vertical-align: middle;\n    }\n\n    .dataframe tbody tr th {\n        vertical-align: top;\n    }\n\n    .dataframe thead th {\n        text-align: right;\n    }\n</style>\n<table border=\"1\" class=\"dataframe\">\n  <thead>\n    <tr style=\"text-align: right;\">\n      <th></th>\n      <th>nDCG@1</th>\n      <th>nDCG@10</th>\n      <th>nDCG@15</th>\n    </tr>\n  </thead>\n  <tbody>\n    <tr>\n      <th>Training</th>\n      <td>0.5773</td>\n      <td>0.6203</td>\n      <td>0.6482</td>\n    </tr>\n    <tr>\n      <th>Validation</th>\n      <td>0.6077</td>\n      <td>0.6906</td>\n      <td>0.7306</td>\n    </tr>\n    <tr>\n      <th>Test</th>\n      <td>0.5936</td>\n      <td>0.6512</td>\n      <td>0.6902</td>\n    </tr>\n  </tbody>\n</table>\n</div>"
     },
     "metadata": {},
     "output_type": "display_data"
    }
   ],
   "source": [
    "# nDCG on test-set\n",
    "nDCG_train = gs.eval_model(model=best_model, df=gs.train, nDCG_at=[1,10,15])\n",
    "nDCG_valid = gs.eval_model(model=best_model, df=gs.valid, nDCG_at=[1,10,15])\n",
    "nDCG_test = gs.eval_model(model=best_model, df=gs.test, nDCG_at=[1,10,15])\n",
    "\n",
    "display(pd.DataFrame([nDCG_train,nDCG_valid,nDCG_test],index=[\"Training\",\"Validation\",\"Test\"]))"
   ],
   "metadata": {
    "collapsed": false,
    "ExecuteTime": {
     "end_time": "2023-10-27T14:46:52.314938700Z",
     "start_time": "2023-10-27T14:46:51.784830300Z"
    }
   },
   "id": "11c511ecc7a93007"
  },
  {
   "cell_type": "markdown",
   "source": [
    "# Grid search - balanced"
   ],
   "metadata": {
    "collapsed": false
   },
   "id": "8c4853f1adcf3a77"
  },
  {
   "cell_type": "code",
   "execution_count": 7,
   "outputs": [],
   "source": [
    "gs = FIGSGridSearch(\n",
    "    path_dataset=\"../../outputs/balanced_scores.csv\",\n",
    "    task=\"Classifier\",\n",
    "    random_state=841)"
   ],
   "metadata": {
    "collapsed": false,
    "ExecuteTime": {
     "end_time": "2023-10-27T14:46:52.427705500Z",
     "start_time": "2023-10-27T14:46:52.316938100Z"
    }
   },
   "id": "8a630d4b434af532"
  },
  {
   "cell_type": "code",
   "execution_count": 8,
   "outputs": [
    {
     "name": "stderr",
     "output_type": "stream",
     "text": [
      "100%|██████████| 135/135 [00:38<00:00,  3.51it/s, nDCG=0.877]\n"
     ]
    }
   ],
   "source": [
    "best_ = gs.grid_search(FIGSClassifier, FIGS_parameter)\n",
    "gs.save_model(best_[0], name=\"figsclass_balanced\")"
   ],
   "metadata": {
    "collapsed": false,
    "ExecuteTime": {
     "end_time": "2023-10-27T14:47:31.010576800Z",
     "start_time": "2023-10-27T14:46:52.406701Z"
    }
   },
   "id": "469868aca369e49e"
  },
  {
   "cell_type": "code",
   "execution_count": 9,
   "outputs": [],
   "source": [
    "best_model = gs.load_model(name=\"figsclass_balanced\")"
   ],
   "metadata": {
    "collapsed": false,
    "ExecuteTime": {
     "end_time": "2023-10-27T14:47:31.075447900Z",
     "start_time": "2023-10-27T14:47:30.994585Z"
    }
   },
   "id": "7099e57c3599a725"
  },
  {
   "cell_type": "code",
   "execution_count": 10,
   "outputs": [
    {
     "data": {
      "text/plain": "            nDCG@1  nDCG@10  nDCG@15\nTraining    0.6226   0.7468   0.8153\nValidation  0.6412   0.8583   0.8766\nTest        0.6325   0.7941   0.8561",
      "text/html": "<div>\n<style scoped>\n    .dataframe tbody tr th:only-of-type {\n        vertical-align: middle;\n    }\n\n    .dataframe tbody tr th {\n        vertical-align: top;\n    }\n\n    .dataframe thead th {\n        text-align: right;\n    }\n</style>\n<table border=\"1\" class=\"dataframe\">\n  <thead>\n    <tr style=\"text-align: right;\">\n      <th></th>\n      <th>nDCG@1</th>\n      <th>nDCG@10</th>\n      <th>nDCG@15</th>\n    </tr>\n  </thead>\n  <tbody>\n    <tr>\n      <th>Training</th>\n      <td>0.6226</td>\n      <td>0.7468</td>\n      <td>0.8153</td>\n    </tr>\n    <tr>\n      <th>Validation</th>\n      <td>0.6412</td>\n      <td>0.8583</td>\n      <td>0.8766</td>\n    </tr>\n    <tr>\n      <th>Test</th>\n      <td>0.6325</td>\n      <td>0.7941</td>\n      <td>0.8561</td>\n    </tr>\n  </tbody>\n</table>\n</div>"
     },
     "metadata": {},
     "output_type": "display_data"
    }
   ],
   "source": [
    "# nDCG on test-set\n",
    "nDCG_train = gs.eval_model(model=best_model, df=gs.train, nDCG_at=[1,10,15])\n",
    "nDCG_valid = gs.eval_model(model=best_model, df=gs.valid, nDCG_at=[1,10,15])\n",
    "nDCG_test = gs.eval_model(model=best_model, df=gs.test, nDCG_at=[1,10,15])\n",
    "\n",
    "display(pd.DataFrame([nDCG_train,nDCG_valid,nDCG_test],index=[\"Training\",\"Validation\",\"Test\"]))"
   ],
   "metadata": {
    "collapsed": false,
    "ExecuteTime": {
     "end_time": "2023-10-27T14:47:31.609592900Z",
     "start_time": "2023-10-27T14:47:31.078449500Z"
    }
   },
   "id": "b2918be29e0efd04"
  },
  {
   "cell_type": "markdown",
   "source": [
    "## Example of Job-offer"
   ],
   "metadata": {
    "collapsed": false
   },
   "id": "7a3f45086d969a04"
  },
  {
   "cell_type": "code",
   "execution_count": 11,
   "outputs": [],
   "source": [
    "# qId = 1\n",
    "# job_curricula = gs.test[gs.test[\"qId\"] == qId]\n",
    "# \n",
    "# y_pred = best_model.predict(np.asarray(job_curricula.iloc[:, 2:13]))\n",
    "# \n",
    "# y_pred = pd.DataFrame(y_pred, index=job_curricula.index, columns=[\"lambdas\"])\n",
    "# dt_final = pd.merge(job_curricula, y_pred, left_index=True, right_index=True)\n",
    "# dt_final.sort_values(\"labels\", ascending=False)[\"labels\"].head(15)\n",
    "# dt_final.sort_values(\"lambdas\",ascending=False)[\"labels\"].head(15)\n",
    "# print(best_model)"
   ],
   "metadata": {
    "collapsed": false,
    "ExecuteTime": {
     "end_time": "2023-10-27T14:47:31.850674700Z",
     "start_time": "2023-10-27T14:47:31.610590300Z"
    }
   },
   "id": "b0ef32a5016c537f"
  }
 ],
 "metadata": {
  "kernelspec": {
   "display_name": "Python 3",
   "language": "python",
   "name": "python3"
  },
  "language_info": {
   "codemirror_mode": {
    "name": "ipython",
    "version": 2
   },
   "file_extension": ".py",
   "mimetype": "text/x-python",
   "name": "python",
   "nbconvert_exporter": "python",
   "pygments_lexer": "ipython2",
   "version": "2.7.6"
  }
 },
 "nbformat": 4,
 "nbformat_minor": 5
}
