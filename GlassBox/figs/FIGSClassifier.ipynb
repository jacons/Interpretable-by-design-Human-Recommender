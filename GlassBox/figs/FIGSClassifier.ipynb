{
 "cells": [
  {
   "cell_type": "code",
   "execution_count": 1,
   "outputs": [],
   "source": [
    "import pandas as pd\n",
    "from GlassBox.figs.figs_utils import FIGSGridSearch\n",
    "from imodels import FIGSClassifier\n",
    "%reload_ext autoreload\n",
    "%autoreload 2"
   ],
   "metadata": {
    "collapsed": false,
    "ExecuteTime": {
     "end_time": "2023-10-29T16:58:59.249818700Z",
     "start_time": "2023-10-29T16:58:56.413379200Z"
    }
   },
   "id": "5be52892517a6579"
  },
  {
   "cell_type": "code",
   "execution_count": 2,
   "outputs": [],
   "source": [
    "FIGS_parameter = dict(\n",
    "    max_rules= [5,10,15,20,25],\n",
    "    max_trees=[2,3,4,5,6,7,8,9,10],\n",
    "    min_impurity_decrease=[0.1, 0.2, 0.3],\n",
    ")\n",
    "gridsearch_parameters = dict( # unbalanced sources\n",
    "    train=\"../../outputs/scores/scores_tr.csv\",\n",
    "    valid=\"../../outputs/scores/scores_vl.csv\",\n",
    "    test=\"../../outputs/scores/scores_ts.csv\",\n",
    "    task=\"Classification\",\n",
    "    nDCG_at=15\n",
    ")\n",
    "gridsearch_parameters2 = dict( # balanced sources\n",
    "    train=\"../../outputs/bal_scores/scores_tr.csv\",\n",
    "    valid=\"../../outputs/bal_scores/scores_vl.csv\",\n",
    "    test=\"../../outputs/bal_scores/scores_ts.csv\",\n",
    "    task=\"Classification\",\n",
    "    nDCG_at=15\n",
    ")"
   ],
   "metadata": {
    "collapsed": false,
    "ExecuteTime": {
     "end_time": "2023-10-29T16:58:59.328473500Z",
     "start_time": "2023-10-29T16:58:59.253841700Z"
    }
   },
   "id": "fa9ce073f133f705"
  },
  {
   "cell_type": "markdown",
   "source": [
    "# Grid-search"
   ],
   "metadata": {
    "collapsed": false
   },
   "id": "685644129de16cf7"
  },
  {
   "cell_type": "code",
   "execution_count": 3,
   "outputs": [],
   "source": [
    "gs = FIGSGridSearch(**gridsearch_parameters)"
   ],
   "metadata": {
    "collapsed": false,
    "ExecuteTime": {
     "end_time": "2023-10-29T16:58:59.434852100Z",
     "start_time": "2023-10-29T16:58:59.332499100Z"
    }
   },
   "id": "fea90109df5bede3"
  },
  {
   "cell_type": "code",
   "execution_count": 4,
   "outputs": [
    {
     "name": "stderr",
     "output_type": "stream",
     "text": [
      "100%|██████████| 135/135 [01:18<00:00,  1.72it/s, nDCG=0.603]\n"
     ]
    }
   ],
   "source": [
    "best_ = gs.grid_search(FIGSClassifier, FIGS_parameter)\n",
    "gs.save_model(best_[0], name=\"FIGSClass_unbalanced\")"
   ],
   "metadata": {
    "collapsed": false,
    "ExecuteTime": {
     "end_time": "2023-10-29T17:00:18.211009500Z",
     "start_time": "2023-10-29T16:58:59.438872100Z"
    }
   },
   "id": "26c0a5184ead5814"
  },
  {
   "cell_type": "markdown",
   "source": [
    "# Metric evalutation"
   ],
   "metadata": {
    "collapsed": false
   },
   "id": "3580a215e625c71e"
  },
  {
   "cell_type": "code",
   "execution_count": 5,
   "outputs": [],
   "source": [
    "best_model = gs.load_model(name=\"./saved_models/FIGSClass_unbalanced\")"
   ],
   "metadata": {
    "collapsed": false,
    "ExecuteTime": {
     "end_time": "2023-10-29T17:00:18.318527800Z",
     "start_time": "2023-10-29T17:00:18.207010200Z"
    }
   },
   "id": "ab5898905b133ad7"
  },
  {
   "cell_type": "code",
   "execution_count": 6,
   "outputs": [
    {
     "data": {
      "text/plain": "            nDCG@1  nDCG@10  nDCG@15\nTraining    0.4501   0.5443   0.5632\nValidation  0.5022   0.5857   0.6031\nTest        0.4725   0.5730   0.5888",
      "text/html": "<div>\n<style scoped>\n    .dataframe tbody tr th:only-of-type {\n        vertical-align: middle;\n    }\n\n    .dataframe tbody tr th {\n        vertical-align: top;\n    }\n\n    .dataframe thead th {\n        text-align: right;\n    }\n</style>\n<table border=\"1\" class=\"dataframe\">\n  <thead>\n    <tr style=\"text-align: right;\">\n      <th></th>\n      <th>nDCG@1</th>\n      <th>nDCG@10</th>\n      <th>nDCG@15</th>\n    </tr>\n  </thead>\n  <tbody>\n    <tr>\n      <th>Training</th>\n      <td>0.4501</td>\n      <td>0.5443</td>\n      <td>0.5632</td>\n    </tr>\n    <tr>\n      <th>Validation</th>\n      <td>0.5022</td>\n      <td>0.5857</td>\n      <td>0.6031</td>\n    </tr>\n    <tr>\n      <th>Test</th>\n      <td>0.4725</td>\n      <td>0.5730</td>\n      <td>0.5888</td>\n    </tr>\n  </tbody>\n</table>\n</div>"
     },
     "metadata": {},
     "output_type": "display_data"
    }
   ],
   "source": [
    "# nDCG on test-set\n",
    "nDCG_train = gs.eval_model(model=best_model, df=gs.train, nDCG_at=[1,10,15])\n",
    "nDCG_valid = gs.eval_model(model=best_model, df=gs.valid, nDCG_at=[1,10,15])\n",
    "nDCG_test = gs.eval_model(model=best_model, df=gs.test, nDCG_at=[1,10,15])\n",
    "\n",
    "display(pd.DataFrame([nDCG_train,nDCG_valid,nDCG_test],index=[\"Training\",\"Validation\",\"Test\"]))"
   ],
   "metadata": {
    "collapsed": false,
    "ExecuteTime": {
     "end_time": "2023-10-29T17:00:18.663123900Z",
     "start_time": "2023-10-29T17:00:18.322559800Z"
    }
   },
   "id": "11c511ecc7a93007"
  },
  {
   "cell_type": "markdown",
   "source": [
    "# Grid search - balanced"
   ],
   "metadata": {
    "collapsed": false
   },
   "id": "8c4853f1adcf3a77"
  },
  {
   "cell_type": "code",
   "execution_count": 7,
   "outputs": [],
   "source": [
    "gs = FIGSGridSearch(**gridsearch_parameters2)"
   ],
   "metadata": {
    "collapsed": false,
    "ExecuteTime": {
     "end_time": "2023-10-29T17:00:18.809627500Z",
     "start_time": "2023-10-29T17:00:18.655127900Z"
    }
   },
   "id": "8a630d4b434af532"
  },
  {
   "cell_type": "code",
   "execution_count": 8,
   "outputs": [
    {
     "name": "stderr",
     "output_type": "stream",
     "text": [
      "100%|██████████| 135/135 [01:02<00:00,  2.16it/s, nDCG=0.666]\n"
     ]
    }
   ],
   "source": [
    "best_ = gs.grid_search(FIGSClassifier, FIGS_parameter)\n",
    "gs.save_model(best_[0], name=\"FIGSClass_balanced\")"
   ],
   "metadata": {
    "collapsed": false,
    "ExecuteTime": {
     "end_time": "2023-10-29T17:01:21.377266100Z",
     "start_time": "2023-10-29T17:00:18.797629200Z"
    }
   },
   "id": "469868aca369e49e"
  },
  {
   "cell_type": "code",
   "execution_count": 9,
   "outputs": [],
   "source": [
    "best_model = gs.load_model(name=\"./saved_models/FIGSClass_balanced\")"
   ],
   "metadata": {
    "collapsed": false,
    "ExecuteTime": {
     "end_time": "2023-10-29T17:01:21.455211200Z",
     "start_time": "2023-10-29T17:01:21.373264300Z"
    }
   },
   "id": "7099e57c3599a725"
  },
  {
   "cell_type": "code",
   "execution_count": 10,
   "outputs": [
    {
     "data": {
      "text/plain": "            nDCG@1  nDCG@10  nDCG@15\nTraining    0.5116   0.6035   0.6259\nValidation  0.5690   0.6507   0.6662\nTest        0.5019   0.6151   0.6342",
      "text/html": "<div>\n<style scoped>\n    .dataframe tbody tr th:only-of-type {\n        vertical-align: middle;\n    }\n\n    .dataframe tbody tr th {\n        vertical-align: top;\n    }\n\n    .dataframe thead th {\n        text-align: right;\n    }\n</style>\n<table border=\"1\" class=\"dataframe\">\n  <thead>\n    <tr style=\"text-align: right;\">\n      <th></th>\n      <th>nDCG@1</th>\n      <th>nDCG@10</th>\n      <th>nDCG@15</th>\n    </tr>\n  </thead>\n  <tbody>\n    <tr>\n      <th>Training</th>\n      <td>0.5116</td>\n      <td>0.6035</td>\n      <td>0.6259</td>\n    </tr>\n    <tr>\n      <th>Validation</th>\n      <td>0.5690</td>\n      <td>0.6507</td>\n      <td>0.6662</td>\n    </tr>\n    <tr>\n      <th>Test</th>\n      <td>0.5019</td>\n      <td>0.6151</td>\n      <td>0.6342</td>\n    </tr>\n  </tbody>\n</table>\n</div>"
     },
     "metadata": {},
     "output_type": "display_data"
    }
   ],
   "source": [
    "# nDCG on test-set\n",
    "nDCG_train = gs.eval_model(model=best_model, df=gs.train, nDCG_at=[1,10,15])\n",
    "nDCG_valid = gs.eval_model(model=best_model, df=gs.valid, nDCG_at=[1,10,15])\n",
    "nDCG_test = gs.eval_model(model=best_model, df=gs.test, nDCG_at=[1,10,15])\n",
    "\n",
    "display(pd.DataFrame([nDCG_train,nDCG_valid,nDCG_test],index=[\"Training\",\"Validation\",\"Test\"]))"
   ],
   "metadata": {
    "collapsed": false,
    "ExecuteTime": {
     "end_time": "2023-10-29T17:01:21.782809900Z",
     "start_time": "2023-10-29T17:01:21.459164Z"
    }
   },
   "id": "b2918be29e0efd04"
  }
 ],
 "metadata": {
  "kernelspec": {
   "display_name": "Python 3",
   "language": "python",
   "name": "python3"
  },
  "language_info": {
   "codemirror_mode": {
    "name": "ipython",
    "version": 2
   },
   "file_extension": ".py",
   "mimetype": "text/x-python",
   "name": "python",
   "nbconvert_exporter": "python",
   "pygments_lexer": "ipython2",
   "version": "2.7.6"
  }
 },
 "nbformat": 4,
 "nbformat_minor": 5
}
