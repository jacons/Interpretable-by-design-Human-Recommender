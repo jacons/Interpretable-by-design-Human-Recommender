{
 "nbformat": 4,
 "nbformat_minor": 0,
 "metadata": {
  "colab": {
   "provenance": []
  },
  "kernelspec": {
   "name": "python3",
   "language": "python",
   "display_name": "Python 3 (ipykernel)"
  },
  "language_info": {
   "name": "python"
  }
 },
 "cells": [
  {
   "cell_type": "code",
   "execution_count": 1,
   "outputs": [],
   "source": [
    "from GlassBox.ebm.ebm_utils import EBMGridSearch\n",
    "from interpret.glassbox import ExplainableBoostingClassifier\n",
    "\n",
    "import pandas as pd\n",
    "%reload_ext autoreload\n",
    "%autoreload 2"
   ],
   "metadata": {
    "collapsed": false,
    "ExecuteTime": {
     "end_time": "2023-10-29T17:09:10.286772200Z",
     "start_time": "2023-10-29T17:09:08.290782100Z"
    }
   }
  },
  {
   "cell_type": "code",
   "execution_count": 2,
   "outputs": [],
   "source": [
    "EBM_parameter = dict(\n",
    "    learning_rate= [0.005, 0.01, 0.02, 0.03],\n",
    "    min_samples_leaf=[2, 3, 4, 5, 6, 7, 8, 9, 10],\n",
    "    max_leaves=[2, 3, 4, 5, 6, 7],\n",
    "    interactions=[0],\n",
    ")\n",
    "gridsearch_parameters = dict( # unbalanced sources\n",
    "    train=\"../../outputs/scores/scores_tr.csv\",\n",
    "    valid=\"../../outputs/scores/scores_vl.csv\",\n",
    "    test=\"../../outputs/scores/scores_ts.csv\",\n",
    "    task=\"Classification\",\n",
    "    nDCG_at=15\n",
    ")\n",
    "gridsearch_parameters2 = dict( # balanced sources\n",
    "    train=\"../../outputs/bal_scores/scores_tr.csv\",\n",
    "    valid=\"../../outputs/bal_scores/scores_vl.csv\",\n",
    "    test=\"../../outputs/bal_scores/scores_ts.csv\",\n",
    "    task=\"Classification\",\n",
    "    nDCG_at=15\n",
    ")"
   ],
   "metadata": {
    "collapsed": false,
    "ExecuteTime": {
     "end_time": "2023-10-29T17:09:10.357095700Z",
     "start_time": "2023-10-29T17:09:10.290772400Z"
    }
   }
  },
  {
   "cell_type": "markdown",
   "source": [
    "# Grid-search"
   ],
   "metadata": {
    "collapsed": false
   }
  },
  {
   "cell_type": "code",
   "execution_count": 3,
   "outputs": [],
   "source": [
    "gs = EBMGridSearch(**gridsearch_parameters)"
   ],
   "metadata": {
    "collapsed": false,
    "ExecuteTime": {
     "end_time": "2023-10-29T17:09:10.453706500Z",
     "start_time": "2023-10-29T17:09:10.360099400Z"
    }
   }
  },
  {
   "cell_type": "code",
   "source": [
    "best_ = gs.grid_search(\n",
    "    EBMModel=ExplainableBoostingClassifier,\n",
    "    hyperparameters=EBM_parameter)\n",
    "gs.save_model(best_[0], name=\"EBMClass_unbalanced\")"
   ],
   "metadata": {
    "colab": {
     "base_uri": "https://localhost:8080/"
    },
    "id": "2gbo5MKO39kV",
    "outputId": "e47443e1-d412-4cd7-f1be-34644e4a1ac5",
    "ExecuteTime": {
     "end_time": "2023-10-29T17:11:25.921183800Z",
     "start_time": "2023-10-29T17:09:10.456719200Z"
    }
   },
   "execution_count": 4,
   "outputs": [
    {
     "name": "stderr",
     "output_type": "stream",
     "text": [
      "100%|██████████| 216/216 [02:15<00:00,  1.60it/s, nDCG_15_at=0.798]\n"
     ]
    }
   ]
  },
  {
   "cell_type": "markdown",
   "source": [
    "# Metric evaluation"
   ],
   "metadata": {
    "collapsed": false
   }
  },
  {
   "cell_type": "code",
   "source": [
    "best_model = gs.load_model(name=\"./saved_models/EBMClass_unbalanced\")"
   ],
   "metadata": {
    "colab": {
     "base_uri": "https://localhost:8080/",
     "height": 424
    },
    "id": "5-EIA4HciPv-",
    "outputId": "7d305a67-e249-4086-b5ef-202fa42c003c",
    "ExecuteTime": {
     "end_time": "2023-10-29T17:11:25.990459700Z",
     "start_time": "2023-10-29T17:11:25.917176200Z"
    }
   },
   "execution_count": 5,
   "outputs": []
  },
  {
   "cell_type": "code",
   "execution_count": 6,
   "outputs": [
    {
     "data": {
      "text/plain": "            nDCG@1  nDCG@10  nDCG@15\nTraining    0.8585   0.8514   0.8414\nValidation  0.8744   0.8203   0.7980\nTest        0.8462   0.8211   0.8069",
      "text/html": "<div>\n<style scoped>\n    .dataframe tbody tr th:only-of-type {\n        vertical-align: middle;\n    }\n\n    .dataframe tbody tr th {\n        vertical-align: top;\n    }\n\n    .dataframe thead th {\n        text-align: right;\n    }\n</style>\n<table border=\"1\" class=\"dataframe\">\n  <thead>\n    <tr style=\"text-align: right;\">\n      <th></th>\n      <th>nDCG@1</th>\n      <th>nDCG@10</th>\n      <th>nDCG@15</th>\n    </tr>\n  </thead>\n  <tbody>\n    <tr>\n      <th>Training</th>\n      <td>0.8585</td>\n      <td>0.8514</td>\n      <td>0.8414</td>\n    </tr>\n    <tr>\n      <th>Validation</th>\n      <td>0.8744</td>\n      <td>0.8203</td>\n      <td>0.7980</td>\n    </tr>\n    <tr>\n      <th>Test</th>\n      <td>0.8462</td>\n      <td>0.8211</td>\n      <td>0.8069</td>\n    </tr>\n  </tbody>\n</table>\n</div>"
     },
     "metadata": {},
     "output_type": "display_data"
    }
   ],
   "source": [
    "# nDCG on test-set\n",
    "nDCG_train = gs.eval_model(model=best_model, df=gs.train, nDCG_at=[1,10,15])\n",
    "nDCG_valid = gs.eval_model(model=best_model, df=gs.valid, nDCG_at=[1,10,15])\n",
    "nDCG_test = gs.eval_model(model=best_model, df=gs.test, nDCG_at=[1,10,15])\n",
    "\n",
    "display(pd.DataFrame([nDCG_train,nDCG_valid,nDCG_test],index=[\"Training\",\"Validation\",\"Test\"]))"
   ],
   "metadata": {
    "collapsed": false,
    "ExecuteTime": {
     "end_time": "2023-10-29T17:11:26.297209200Z",
     "start_time": "2023-10-29T17:11:25.993206Z"
    }
   }
  },
  {
   "cell_type": "markdown",
   "source": [
    "# Grid search - balanced"
   ],
   "metadata": {
    "collapsed": false
   }
  },
  {
   "cell_type": "code",
   "execution_count": 7,
   "outputs": [],
   "source": [
    "gs = EBMGridSearch(**gridsearch_parameters2)"
   ],
   "metadata": {
    "collapsed": false,
    "ExecuteTime": {
     "end_time": "2023-10-29T17:11:26.433707100Z",
     "start_time": "2023-10-29T17:11:26.295151900Z"
    }
   }
  },
  {
   "cell_type": "code",
   "execution_count": 8,
   "outputs": [
    {
     "name": "stderr",
     "output_type": "stream",
     "text": [
      "100%|██████████| 216/216 [01:30<00:00,  2.39it/s, nDCG_15_at=0.818]\n"
     ]
    }
   ],
   "source": [
    "best_ = gs.grid_search(\n",
    "    EBMModel=ExplainableBoostingClassifier,\n",
    "    hyperparameters=EBM_parameter)\n",
    "gs.save_model(best_[0], name=\"EBMClass_balanced\")"
   ],
   "metadata": {
    "collapsed": false,
    "ExecuteTime": {
     "end_time": "2023-10-29T17:12:56.961273400Z",
     "start_time": "2023-10-29T17:11:26.416759500Z"
    }
   }
  },
  {
   "cell_type": "code",
   "execution_count": 9,
   "outputs": [],
   "source": [
    "best_model = gs.load_model(name=\"./saved_models/EBMClass_balanced\")"
   ],
   "metadata": {
    "collapsed": false,
    "ExecuteTime": {
     "end_time": "2023-10-29T17:12:57.031690800Z",
     "start_time": "2023-10-29T17:12:56.958241200Z"
    }
   }
  },
  {
   "cell_type": "code",
   "execution_count": 10,
   "outputs": [
    {
     "data": {
      "text/plain": "            nDCG@1  nDCG@10  nDCG@15\nTraining    0.8997   0.8549   0.8540\nValidation  0.8221   0.8228   0.8179\nTest        0.8627   0.8370   0.8369",
      "text/html": "<div>\n<style scoped>\n    .dataframe tbody tr th:only-of-type {\n        vertical-align: middle;\n    }\n\n    .dataframe tbody tr th {\n        vertical-align: top;\n    }\n\n    .dataframe thead th {\n        text-align: right;\n    }\n</style>\n<table border=\"1\" class=\"dataframe\">\n  <thead>\n    <tr style=\"text-align: right;\">\n      <th></th>\n      <th>nDCG@1</th>\n      <th>nDCG@10</th>\n      <th>nDCG@15</th>\n    </tr>\n  </thead>\n  <tbody>\n    <tr>\n      <th>Training</th>\n      <td>0.8997</td>\n      <td>0.8549</td>\n      <td>0.8540</td>\n    </tr>\n    <tr>\n      <th>Validation</th>\n      <td>0.8221</td>\n      <td>0.8228</td>\n      <td>0.8179</td>\n    </tr>\n    <tr>\n      <th>Test</th>\n      <td>0.8627</td>\n      <td>0.8370</td>\n      <td>0.8369</td>\n    </tr>\n  </tbody>\n</table>\n</div>"
     },
     "metadata": {},
     "output_type": "display_data"
    }
   ],
   "source": [
    "# nDCG on test-set\n",
    "nDCG_train = gs.eval_model(model=best_model, df=gs.train, nDCG_at=[1, 10, 15])\n",
    "nDCG_valid = gs.eval_model(model=best_model, df=gs.valid, nDCG_at=[1, 10, 15])\n",
    "nDCG_test = gs.eval_model(model=best_model, df=gs.test, nDCG_at=[1, 10, 15])\n",
    "\n",
    "display(pd.DataFrame([nDCG_train, nDCG_valid, nDCG_test], index=[\"Training\", \"Validation\", \"Test\"]))"
   ],
   "metadata": {
    "collapsed": false,
    "ExecuteTime": {
     "end_time": "2023-10-29T17:12:57.340028400Z",
     "start_time": "2023-10-29T17:12:57.033700500Z"
    }
   }
  }
 ]
}
