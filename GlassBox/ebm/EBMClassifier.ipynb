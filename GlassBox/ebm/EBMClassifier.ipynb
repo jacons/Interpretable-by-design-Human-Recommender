{
 "nbformat": 4,
 "nbformat_minor": 0,
 "metadata": {
  "colab": {
   "provenance": []
  },
  "kernelspec": {
   "name": "python3",
   "language": "python",
   "display_name": "Python 3 (ipykernel)"
  },
  "language_info": {
   "name": "python"
  }
 },
 "cells": [
  {
   "cell_type": "code",
   "execution_count": 3,
   "outputs": [],
   "source": [
    "from GlassBox.ebm.ebm_utils import EBMGridSearch\n",
    "from interpret.glassbox import ExplainableBoostingClassifier\n",
    "\n",
    "import pandas as pd\n",
    "%reload_ext autoreload\n",
    "%autoreload 2"
   ],
   "metadata": {
    "collapsed": false,
    "ExecuteTime": {
     "end_time": "2023-10-27T15:03:14.031015100Z",
     "start_time": "2023-10-27T15:03:11.531588300Z"
    }
   }
  },
  {
   "cell_type": "code",
   "execution_count": 4,
   "outputs": [],
   "source": [
    "EBM_parameter = dict(\n",
    "    learning_rate= [0.01, 0.02, 0.03],\n",
    "    min_samples_leaf=[2, 3, 4, 5, 6, 7, 8, 9, 10],\n",
    "    max_leaves=[2, 3, 4, 5, 6, 7],\n",
    ")"
   ],
   "metadata": {
    "collapsed": false,
    "ExecuteTime": {
     "end_time": "2023-10-27T15:03:14.094875400Z",
     "start_time": "2023-10-27T15:03:14.033018Z"
    }
   }
  },
  {
   "cell_type": "markdown",
   "source": [
    "# Grid-search"
   ],
   "metadata": {
    "collapsed": false
   }
  },
  {
   "cell_type": "code",
   "execution_count": 5,
   "outputs": [],
   "source": [
    "gs = EBMGridSearch(\n",
    "    path_dataset=\"../../outputs/scores.csv\",\n",
    "    task=\"Classifier\",\n",
    "    random_state=841)"
   ],
   "metadata": {
    "collapsed": false,
    "ExecuteTime": {
     "end_time": "2023-10-27T15:03:14.201249500Z",
     "start_time": "2023-10-27T15:03:14.097875500Z"
    }
   }
  },
  {
   "cell_type": "code",
   "source": [
    "best_ = gs.grid_search(\n",
    "    EBMModel=ExplainableBoostingClassifier,\n",
    "    hyperparameters=EBM_parameter)\n",
    "gs.save_model(best_[0], name=\"ebmclass_unbalanced\")"
   ],
   "metadata": {
    "colab": {
     "base_uri": "https://localhost:8080/"
    },
    "id": "2gbo5MKO39kV",
    "outputId": "e47443e1-d412-4cd7-f1be-34644e4a1ac5",
    "ExecuteTime": {
     "end_time": "2023-10-27T15:04:35.335950100Z",
     "start_time": "2023-10-27T15:03:14.205254600Z"
    }
   },
   "execution_count": 6,
   "outputs": [
    {
     "name": "stderr",
     "output_type": "stream",
     "text": [
      "100%|██████████| 162/162 [01:21<00:00,  2.00it/s, nDCG_15_at=0.762]\n"
     ]
    }
   ]
  },
  {
   "cell_type": "markdown",
   "source": [
    "# Metric evaluation"
   ],
   "metadata": {
    "collapsed": false
   }
  },
  {
   "cell_type": "code",
   "source": [
    "best_model = gs.load_model(name=\"ebmclass_unbalanced\")"
   ],
   "metadata": {
    "colab": {
     "base_uri": "https://localhost:8080/",
     "height": 424
    },
    "id": "5-EIA4HciPv-",
    "outputId": "7d305a67-e249-4086-b5ef-202fa42c003c",
    "ExecuteTime": {
     "end_time": "2023-10-27T15:04:35.404549400Z",
     "start_time": "2023-10-27T15:04:35.331925500Z"
    }
   },
   "execution_count": 7,
   "outputs": []
  },
  {
   "cell_type": "code",
   "execution_count": 8,
   "outputs": [
    {
     "data": {
      "text/plain": "            nDCG@1  nDCG@10  nDCG@15\nTraining    0.7909   0.7034   0.7143\nValidation  0.7268   0.7290   0.7617\nTest        0.7411   0.7001   0.7295",
      "text/html": "<div>\n<style scoped>\n    .dataframe tbody tr th:only-of-type {\n        vertical-align: middle;\n    }\n\n    .dataframe tbody tr th {\n        vertical-align: top;\n    }\n\n    .dataframe thead th {\n        text-align: right;\n    }\n</style>\n<table border=\"1\" class=\"dataframe\">\n  <thead>\n    <tr style=\"text-align: right;\">\n      <th></th>\n      <th>nDCG@1</th>\n      <th>nDCG@10</th>\n      <th>nDCG@15</th>\n    </tr>\n  </thead>\n  <tbody>\n    <tr>\n      <th>Training</th>\n      <td>0.7909</td>\n      <td>0.7034</td>\n      <td>0.7143</td>\n    </tr>\n    <tr>\n      <th>Validation</th>\n      <td>0.7268</td>\n      <td>0.7290</td>\n      <td>0.7617</td>\n    </tr>\n    <tr>\n      <th>Test</th>\n      <td>0.7411</td>\n      <td>0.7001</td>\n      <td>0.7295</td>\n    </tr>\n  </tbody>\n</table>\n</div>"
     },
     "metadata": {},
     "output_type": "display_data"
    }
   ],
   "source": [
    "# nDCG on test-set\n",
    "nDCG_train = gs.eval_model(model=best_model, df=gs.train, nDCG_at=[1,10,15])\n",
    "nDCG_valid = gs.eval_model(model=best_model, df=gs.valid, nDCG_at=[1,10,15])\n",
    "nDCG_test = gs.eval_model(model=best_model, df=gs.test, nDCG_at=[1,10,15])\n",
    "\n",
    "display(pd.DataFrame([nDCG_train,nDCG_valid,nDCG_test],index=[\"Training\",\"Validation\",\"Test\"]))"
   ],
   "metadata": {
    "collapsed": false,
    "ExecuteTime": {
     "end_time": "2023-10-27T15:04:35.924862600Z",
     "start_time": "2023-10-27T15:04:35.408564Z"
    }
   }
  },
  {
   "cell_type": "markdown",
   "source": [
    "# Grid search - balanced"
   ],
   "metadata": {
    "collapsed": false
   }
  },
  {
   "cell_type": "code",
   "execution_count": 9,
   "outputs": [],
   "source": [
    "gs = EBMGridSearch(\n",
    "    path_dataset=\"../../outputs/balanced_scores.csv\",\n",
    "    task=\"Classifier\",\n",
    "    random_state=841)"
   ],
   "metadata": {
    "collapsed": false,
    "ExecuteTime": {
     "end_time": "2023-10-27T15:04:36.123851800Z",
     "start_time": "2023-10-27T15:04:35.916820600Z"
    }
   }
  },
  {
   "cell_type": "code",
   "execution_count": 10,
   "outputs": [
    {
     "name": "stderr",
     "output_type": "stream",
     "text": [
      "100%|██████████| 162/162 [00:39<00:00,  4.07it/s, nDCG_15_at=0.91]\n"
     ]
    }
   ],
   "source": [
    "best_ = gs.grid_search(\n",
    "    EBMModel=ExplainableBoostingClassifier,\n",
    "    hyperparameters=EBM_parameter)\n",
    "gs.save_model(best_[0], name=\"ebmclass_balanced\")"
   ],
   "metadata": {
    "collapsed": false,
    "ExecuteTime": {
     "end_time": "2023-10-27T15:05:15.857715600Z",
     "start_time": "2023-10-27T15:04:35.995868200Z"
    }
   }
  },
  {
   "cell_type": "code",
   "execution_count": 11,
   "outputs": [],
   "source": [
    "best_model = gs.load_model(name=\"ebmclass_balanced\")"
   ],
   "metadata": {
    "collapsed": false,
    "ExecuteTime": {
     "end_time": "2023-10-27T15:05:15.934395400Z",
     "start_time": "2023-10-27T15:05:15.857715600Z"
    }
   }
  },
  {
   "cell_type": "code",
   "execution_count": 12,
   "outputs": [
    {
     "data": {
      "text/plain": "            nDCG@1  nDCG@10  nDCG@15\nTraining    0.8424   0.8281   0.8759\nValidation  0.7769   0.8943   0.9101\nTest        0.8026   0.8474   0.8985",
      "text/html": "<div>\n<style scoped>\n    .dataframe tbody tr th:only-of-type {\n        vertical-align: middle;\n    }\n\n    .dataframe tbody tr th {\n        vertical-align: top;\n    }\n\n    .dataframe thead th {\n        text-align: right;\n    }\n</style>\n<table border=\"1\" class=\"dataframe\">\n  <thead>\n    <tr style=\"text-align: right;\">\n      <th></th>\n      <th>nDCG@1</th>\n      <th>nDCG@10</th>\n      <th>nDCG@15</th>\n    </tr>\n  </thead>\n  <tbody>\n    <tr>\n      <th>Training</th>\n      <td>0.8424</td>\n      <td>0.8281</td>\n      <td>0.8759</td>\n    </tr>\n    <tr>\n      <th>Validation</th>\n      <td>0.7769</td>\n      <td>0.8943</td>\n      <td>0.9101</td>\n    </tr>\n    <tr>\n      <th>Test</th>\n      <td>0.8026</td>\n      <td>0.8474</td>\n      <td>0.8985</td>\n    </tr>\n  </tbody>\n</table>\n</div>"
     },
     "metadata": {},
     "output_type": "display_data"
    }
   ],
   "source": [
    "# nDCG on test-set\n",
    "nDCG_train = gs.eval_model(model=best_model, df=gs.train, nDCG_at=[1, 10, 15])\n",
    "nDCG_valid = gs.eval_model(model=best_model, df=gs.valid, nDCG_at=[1, 10, 15])\n",
    "nDCG_test = gs.eval_model(model=best_model, df=gs.test, nDCG_at=[1, 10, 15])\n",
    "\n",
    "display(pd.DataFrame([nDCG_train, nDCG_valid, nDCG_test], index=[\"Training\", \"Validation\", \"Test\"]))"
   ],
   "metadata": {
    "collapsed": false,
    "ExecuteTime": {
     "end_time": "2023-10-27T15:05:16.449023300Z",
     "start_time": "2023-10-27T15:05:15.937378900Z"
    }
   }
  },
  {
   "cell_type": "markdown",
   "source": [
    "# Explanation"
   ],
   "metadata": {
    "collapsed": false
   }
  },
  {
   "cell_type": "code",
   "execution_count": 13,
   "outputs": [],
   "source": [
    "from interpret import show"
   ],
   "metadata": {
    "collapsed": false,
    "ExecuteTime": {
     "end_time": "2023-10-27T15:05:16.555057100Z",
     "start_time": "2023-10-27T15:05:16.444023200Z"
    }
   }
  },
  {
   "cell_type": "code",
   "execution_count": 14,
   "outputs": [],
   "source": [
    "# sample = gs.test.sort_values(\"labels\").iloc[0,:]\n",
    "# sample\n",
    "# show(best_model.explain_local(sample.iloc[:,2:13]))"
   ],
   "metadata": {
    "collapsed": false,
    "ExecuteTime": {
     "end_time": "2023-10-27T15:05:16.605869600Z",
     "start_time": "2023-10-27T15:05:16.507072800Z"
    }
   }
  },
  {
   "cell_type": "code",
   "execution_count": 15,
   "outputs": [],
   "source": [
    "# best_model.bins_[0]"
   ],
   "metadata": {
    "collapsed": false,
    "ExecuteTime": {
     "end_time": "2023-10-27T15:05:16.651404500Z",
     "start_time": "2023-10-27T15:05:16.577875Z"
    }
   }
  },
  {
   "cell_type": "code",
   "execution_count": 16,
   "outputs": [],
   "source": [
    "# best_model.bag_weights_[0]"
   ],
   "metadata": {
    "collapsed": false,
    "ExecuteTime": {
     "end_time": "2023-10-27T15:05:16.731748700Z",
     "start_time": "2023-10-27T15:05:16.653431600Z"
    }
   }
  },
  {
   "cell_type": "markdown",
   "source": [
    "## Example of Job-offer"
   ],
   "metadata": {
    "collapsed": false
   }
  },
  {
   "cell_type": "code",
   "execution_count": 17,
   "outputs": [],
   "source": [
    "# qId = 1\n",
    "# job_curricula = gs.test[gs.test[\"qId\"] == qId]\n",
    "# \n",
    "# y_pred = best_model.predict(np.asarray(job_curricula.iloc[:, 2:13]))\n",
    "# \n",
    "# y_pred = pd.DataFrame(y_pred, index=job_curricula.index, columns=[\"lambdas\"])\n",
    "# dt_final = pd.merge(job_curricula, y_pred, left_index=True, right_index=True)\n",
    "# dt_final.sort_values(\"labels\", ascending=False)[\"labels\"].head(15)\n",
    "# dt_final.sort_values(\"lambdas\",ascending=False)[\"labels\"].head(15)"
   ],
   "metadata": {
    "collapsed": false,
    "ExecuteTime": {
     "end_time": "2023-10-27T15:05:16.806582900Z",
     "start_time": "2023-10-27T15:05:16.726742600Z"
    }
   }
  },
  {
   "cell_type": "code",
   "execution_count": 17,
   "outputs": [],
   "source": [],
   "metadata": {
    "collapsed": false,
    "ExecuteTime": {
     "end_time": "2023-10-27T15:05:16.806582900Z",
     "start_time": "2023-10-27T15:05:16.803561900Z"
    }
   }
  }
 ]
}
