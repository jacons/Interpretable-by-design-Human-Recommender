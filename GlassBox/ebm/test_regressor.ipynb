{
 "nbformat": 4,
 "nbformat_minor": 0,
 "metadata": {
  "colab": {
   "provenance": []
  },
  "kernelspec": {
   "name": "python3",
   "language": "python",
   "display_name": "Python 3 (ipykernel)"
  },
  "language_info": {
   "name": "python"
  }
 },
 "cells": [
  {
   "cell_type": "code",
   "execution_count": 11,
   "outputs": [],
   "source": [
    "from GlassBox.ebm.ebm_utils import EBMGridSearch\n",
    "from interpret.glassbox import ExplainableBoostingRegressor as EBRegressor\n",
    "import numpy as np\n",
    "import pandas as pd\n",
    "%reload_ext autoreload\n",
    "%autoreload 2"
   ],
   "metadata": {
    "collapsed": false,
    "ExecuteTime": {
     "end_time": "2023-10-24T16:43:36.484674600Z",
     "start_time": "2023-10-24T16:43:36.211859Z"
    }
   }
  },
  {
   "cell_type": "markdown",
   "source": [
    "# Grid-search"
   ],
   "metadata": {
    "collapsed": false
   }
  },
  {
   "cell_type": "code",
   "source": [
    "EBM_parameter = dict(\n",
    "    learning_rate= [0.01, 0.02, 0.03],\n",
    "    min_samples_leaf=[2, 3, 4, 5, 6, 7, 8, 9, 10],\n",
    "    max_leaves=[2, 3, 4, 5, 6, 7],\n",
    ")\n",
    "\n",
    "gs = EBMGridSearch(path_dataset=\"../../outputs/scores.csv\",\n",
    "                   task=\"Regressor\", random_state=841)\n",
    "best_ = gs.grid_search(EBMModel=EBRegressor, hyperparameters=EBM_parameter)\n",
    "gs.save_model_parameters(best_[0],best_[1], name=\"model_regressor\")"
   ],
   "metadata": {
    "colab": {
     "base_uri": "https://localhost:8080/"
    },
    "id": "2gbo5MKO39kV",
    "outputId": "e47443e1-d412-4cd7-f1be-34644e4a1ac5",
    "ExecuteTime": {
     "end_time": "2023-10-24T16:43:36.827018700Z",
     "start_time": "2023-10-24T16:43:36.464189700Z"
    }
   },
   "execution_count": 12,
   "outputs": []
  },
  {
   "cell_type": "markdown",
   "source": [
    "# Metric evaluation"
   ],
   "metadata": {
    "collapsed": false
   }
  },
  {
   "cell_type": "code",
   "source": [
    "best_model, parameters = gs.load_model_parameters(name=\"model_regressor\")\n",
    "best_model,parameters"
   ],
   "metadata": {
    "colab": {
     "base_uri": "https://localhost:8080/",
     "height": 424
    },
    "id": "5-EIA4HciPv-",
    "outputId": "7d305a67-e249-4086-b5ef-202fa42c003c",
    "ExecuteTime": {
     "end_time": "2023-10-24T16:43:44.577347200Z",
     "start_time": "2023-10-24T16:43:36.989787500Z"
    }
   },
   "execution_count": 14,
   "outputs": []
  },
  {
   "cell_type": "code",
   "execution_count": 15,
   "outputs": [
    {
     "name": "stdout",
     "output_type": "stream",
     "text": [
      "nDCG@15\n",
      "Training set 0.7383\n",
      "Validation set 0.7712\n",
      "Test set 0.7579\n"
     ]
    }
   ],
   "source": [
    "# nDCG on test-set\n",
    "nDCG_train = gs.eval_model(model=best_model, df=gs.train, nDCG_at=[1,10,15])\n",
    "nDCG_valid = gs.eval_model(model=best_model, df=gs.valid, nDCG_at=[1,10,15])\n",
    "nDCG_test = gs.eval_model(model=best_model, df=gs.test, nDCG_at=[1,10,15])\n",
    "\n",
    "display(pd.DataFrame([nDCG_train,nDCG_valid,nDCG_test],index=[\"Training\",\"Validation\",\"Test\"]))"
   ],
   "metadata": {
    "collapsed": false,
    "ExecuteTime": {
     "end_time": "2023-10-24T16:43:45.036261Z",
     "start_time": "2023-10-24T16:43:44.581354Z"
    }
   }
  },
  {
   "cell_type": "markdown",
   "source": [
    "## Example of Job-offer"
   ],
   "metadata": {
    "collapsed": false
   }
  },
  {
   "cell_type": "code",
   "execution_count": 16,
   "outputs": [],
   "source": [
    "qId = 1\n",
    "job_curricula = gs.test[gs.test[\"qId\"] == qId]\n",
    "\n",
    "y_pred = best_model.predict(np.asarray(job_curricula.iloc[:, 2:13]))\n",
    "\n",
    "y_pred = pd.DataFrame(y_pred, index=job_curricula.index, columns=[\"lambdas\"])\n",
    "dt_final = pd.merge(job_curricula, y_pred, left_index=True, right_index=True)"
   ],
   "metadata": {
    "collapsed": false,
    "ExecuteTime": {
     "end_time": "2023-10-24T16:43:45.194690300Z",
     "start_time": "2023-10-24T16:43:45.040843700Z"
    }
   }
  },
  {
   "cell_type": "code",
   "execution_count": 17,
   "outputs": [
    {
     "data": {
      "text/plain": "990     4\n1274    4\n915     4\n1371    4\n1160    4\n1373    4\n1401    4\n906     3\n1249    3\n1456    3\n1086    3\n1416    3\n1450    3\n853     3\n887     3\nName: labels, dtype: int64"
     },
     "execution_count": 17,
     "metadata": {},
     "output_type": "execute_result"
    }
   ],
   "source": [
    "dt_final.sort_values(\"labels\", ascending=False)[\"labels\"].head(15)"
   ],
   "metadata": {
    "collapsed": false,
    "ExecuteTime": {
     "end_time": "2023-10-24T16:43:45.357671Z",
     "start_time": "2023-10-24T16:43:45.198707800Z"
    }
   }
  },
  {
   "cell_type": "code",
   "execution_count": 18,
   "outputs": [
    {
     "data": {
      "text/plain": "968     3\n1086    3\n876     3\n1070    3\n1271    3\n1409    2\n1018    1\n1442    2\n1294    3\n962     2\n997     3\n1165    2\n1121    2\n946     2\n990     4\nName: labels, dtype: int64"
     },
     "execution_count": 18,
     "metadata": {},
     "output_type": "execute_result"
    }
   ],
   "source": [
    "dt_final.sort_values(\"lambdas\",ascending=False)[\"labels\"].head(15)"
   ],
   "metadata": {
    "collapsed": false,
    "ExecuteTime": {
     "end_time": "2023-10-24T16:43:45.514450800Z",
     "start_time": "2023-10-24T16:43:45.360210400Z"
    }
   }
  }
 ]
}
