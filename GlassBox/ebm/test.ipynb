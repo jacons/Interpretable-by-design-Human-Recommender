{
 "cells": [
  {
   "cell_type": "code",
   "execution_count": null,
   "id": "initial_id",
   "metadata": {
    "collapsed": true
   },
   "outputs": [],
   "source": [
    "from GlassBox.ebm.ebm_utils import EBMGridSearch\n",
    "\n",
    "EBM_parameter = dict(\n",
    "    learning_rate= [0.01, 0.02, 0.03],\n",
    "    min_samples_leaf=[2, 3, 4, 5, 6, 7, 8, 9, 10],\n",
    "    max_leaves=[2, 3, 4, 5, 6, 7],\n",
    ")\n",
    "\n",
    "gs = EBMGridSearch(path_dataset=\"../../outputs/scores.csv\", random_state=841)\n",
    "best_ = gs.grid_search(EBM_parameter)"
   ]
  }
 ],
 "metadata": {
  "kernelspec": {
   "display_name": "Python 3",
   "language": "python",
   "name": "python3"
  },
  "language_info": {
   "codemirror_mode": {
    "name": "ipython",
    "version": 2
   },
   "file_extension": ".py",
   "mimetype": "text/x-python",
   "name": "python",
   "nbconvert_exporter": "python",
   "pygments_lexer": "ipython2",
   "version": "2.7.6"
  }
 },
 "nbformat": 4,
 "nbformat_minor": 5
}
