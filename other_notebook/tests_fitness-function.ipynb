{
 "cells": [
  {
   "cell_type": "code",
   "execution_count": 22,
   "outputs": [],
   "source": [
    "import sys\n",
    "\n",
    "import pandas as pd\n",
    "from Class_utils.JobGraph import JobGraph, RelationNode, TypeNode\n",
    "from Class_utils.parameters import file_paths, job_graph_par\n",
    "from Class_utils.FitnessClasses import FitnessSkills\n",
    "from Class_utils.FitnessFunctions import  FitnessFunctions\n",
    "%reload_ext autoreload\n",
    "%autoreload 2"
   ],
   "metadata": {
    "collapsed": false,
    "ExecuteTime": {
     "end_time": "2023-12-09T19:45:31.334685700Z",
     "start_time": "2023-12-09T19:45:30.848308200Z"
    }
   },
   "id": "f74c49e21481b47a"
  },
  {
   "cell_type": "code",
   "execution_count": 2,
   "outputs": [
    {
     "name": "stdout",
     "output_type": "stream",
     "text": [
      "Cache found loading...done\n"
     ]
    }
   ],
   "source": [
    "job_graph = JobGraph(file_paths, **job_graph_par)"
   ],
   "metadata": {
    "collapsed": false,
    "ExecuteTime": {
     "end_time": "2023-12-09T19:34:04.865102200Z",
     "start_time": "2023-12-09T19:34:00.732961700Z"
    }
   },
   "id": "70e601d198da145b"
  },
  {
   "cell_type": "code",
   "execution_count": 3,
   "outputs": [
    {
     "data": {
      "text/plain": "       qId     score    relevance  binned_relevance  fitness_edu_basic  \\\nkId                                                                \n0        0  6.000000  61.899408             3                1.0   \n1        0  5.000000  53.407860             3                1.0   \n2        0  6.166666  56.596279             3                1.0   \n3        0  4.833334  46.573366             2                1.0   \n4        0  6.166666  58.434636             3                1.0   \n...    ...       ...        ...           ...                ...   \n15846  199  2.000000  26.847057             1                1.0   \n15847  199  2.500000  35.142445             2                1.0   \n15848  199  6.333333  64.916674             4                1.0   \n15849  199  6.833334  62.046281             3                1.0   \n15850  199  4.250000  43.161189             2                1.0   \n\n       fitness_edu_bonus  fitness_city  fitness_age  fitness_exp_basic  \\\nkId                                                                      \n0                    0.0           0.0          1.0                0.0   \n1                    0.0           0.0          1.0                0.0   \n2                    0.0           0.0          1.0                0.0   \n3                    0.0           0.5          1.0                0.0   \n4                    0.0           0.0          1.0                0.0   \n...                  ...           ...          ...                ...   \n15846                0.0           0.5          0.0                0.0   \n15847                0.0           0.0          0.0                1.0   \n15848                0.0           0.5          0.0                1.0   \n15849                1.0           0.0          1.0                1.0   \n15850                0.0           0.0          0.0                1.0   \n\n       fitness_exp_bonus  ...  fitness_lang_lvl_basic  fitness_lang_bonus  \\\nkId                       ...                                               \n0                    0.0  ...                     1.0                 0.0   \n1                    0.0  ...                     0.5                 0.0   \n2                    0.0  ...                     1.0                 0.0   \n3                    0.0  ...                     0.5                 0.0   \n4                    0.0  ...                     0.5                 1.0   \n...                  ...  ...                     ...                 ...   \n15846                0.0  ...                     0.0                 0.0   \n15847                0.0  ...                     0.0                 0.0   \n15848                0.0  ...                     1.0                 0.0   \n15849                0.0  ...                     1.0                 0.0   \n15850                0.0  ...                     1.0                 0.0   \n\n       fitness_comp_essential  fitness_comp_sim_essential  fitness_comp_optional  \\\nkId                                                                     \n0                1.000000                    0.00                 0.0   \n1                1.000000                    0.00                 0.0   \n2                0.500000                    0.50                 0.0   \n3                0.250000                    0.25                 0.0   \n4                0.500000                    0.50                 0.0   \n...                   ...                     ...                 ...   \n15846            0.000000                    0.25                 0.0   \n15847            0.000000                    0.25                 0.0   \n15848            0.666667                    0.25                 0.0   \n15849            0.333333                    0.25                 0.0   \n15850            0.000000                    0.25                 0.0   \n\n       fitness_comp_sim_bonus  fitness_know_essential  fitness_know_sim_essential  \\\nkId                                                                         \n0                         0.0            1.000000                    0.00   \n1                         0.0            1.000000                    0.00   \n2                         0.0            0.666667                    0.50   \n3                         0.0            0.333333                    0.50   \n4                         0.0            0.666667                    0.50   \n...                       ...                 ...                     ...   \n15846                     0.0            0.000000                    0.25   \n15847                     0.0            0.000000                    0.25   \n15848                     0.0            0.666667                    0.25   \n15849                     0.0            0.000000                    0.25   \n15850                     0.0            0.000000                    0.00   \n\n       fitness_know_optional  fitness_know_sim_optional  \nkId                                                  \n0                      0.0                      0.0  \n1                      0.0                      0.0  \n2                      0.0                      0.0  \n3                      0.0                      0.0  \n4                      0.0                      0.0  \n...                    ...                      ...  \n15846                  0.0                      0.0  \n15847                  0.0                      0.0  \n15848                  0.0                      0.0  \n15849                  0.0                      0.0  \n15850                  0.0                      0.0  \n\n[15851 rows x 21 columns]",
      "text/html": "<div>\n<style scoped>\n    .dataframe tbody tr th:only-of-type {\n        vertical-align: middle;\n    }\n\n    .dataframe tbody tr th {\n        vertical-align: top;\n    }\n\n    .dataframe thead th {\n        text-align: right;\n    }\n</style>\n<table border=\"1\" class=\"dataframe\">\n  <thead>\n    <tr style=\"text-align: right;\">\n      <th></th>\n      <th>qId</th>\n      <th>score</th>\n      <th>relevance</th>\n      <th>binned_relevance</th>\n      <th>fitness_edu_basic</th>\n      <th>fitness_edu_bonus</th>\n      <th>fitness_city</th>\n      <th>fitness_age</th>\n      <th>fitness_exp_basic</th>\n      <th>fitness_exp_bonus</th>\n      <th>...</th>\n      <th>fitness_lang_lvl_basic</th>\n      <th>fitness_lang_bonus</th>\n      <th>fitness_comp_essential</th>\n      <th>fitness_comp_sim_essential</th>\n      <th>fitness_comp_optional</th>\n      <th>fitness_comp_sim_bonus</th>\n      <th>fitness_know_essential</th>\n      <th>fitness_know_sim_essential</th>\n      <th>fitness_know_optional</th>\n      <th>fitness_know_sim_optional</th>\n    </tr>\n    <tr>\n      <th>kId</th>\n      <th></th>\n      <th></th>\n      <th></th>\n      <th></th>\n      <th></th>\n      <th></th>\n      <th></th>\n      <th></th>\n      <th></th>\n      <th></th>\n      <th></th>\n      <th></th>\n      <th></th>\n      <th></th>\n      <th></th>\n      <th></th>\n      <th></th>\n      <th></th>\n      <th></th>\n      <th></th>\n      <th></th>\n    </tr>\n  </thead>\n  <tbody>\n    <tr>\n      <th>0</th>\n      <td>0</td>\n      <td>6.000000</td>\n      <td>61.899408</td>\n      <td>3</td>\n      <td>1.0</td>\n      <td>0.0</td>\n      <td>0.0</td>\n      <td>1.0</td>\n      <td>0.0</td>\n      <td>0.0</td>\n      <td>...</td>\n      <td>1.0</td>\n      <td>0.0</td>\n      <td>1.000000</td>\n      <td>0.00</td>\n      <td>0.0</td>\n      <td>0.0</td>\n      <td>1.000000</td>\n      <td>0.00</td>\n      <td>0.0</td>\n      <td>0.0</td>\n    </tr>\n    <tr>\n      <th>1</th>\n      <td>0</td>\n      <td>5.000000</td>\n      <td>53.407860</td>\n      <td>3</td>\n      <td>1.0</td>\n      <td>0.0</td>\n      <td>0.0</td>\n      <td>1.0</td>\n      <td>0.0</td>\n      <td>0.0</td>\n      <td>...</td>\n      <td>0.5</td>\n      <td>0.0</td>\n      <td>1.000000</td>\n      <td>0.00</td>\n      <td>0.0</td>\n      <td>0.0</td>\n      <td>1.000000</td>\n      <td>0.00</td>\n      <td>0.0</td>\n      <td>0.0</td>\n    </tr>\n    <tr>\n      <th>2</th>\n      <td>0</td>\n      <td>6.166666</td>\n      <td>56.596279</td>\n      <td>3</td>\n      <td>1.0</td>\n      <td>0.0</td>\n      <td>0.0</td>\n      <td>1.0</td>\n      <td>0.0</td>\n      <td>0.0</td>\n      <td>...</td>\n      <td>1.0</td>\n      <td>0.0</td>\n      <td>0.500000</td>\n      <td>0.50</td>\n      <td>0.0</td>\n      <td>0.0</td>\n      <td>0.666667</td>\n      <td>0.50</td>\n      <td>0.0</td>\n      <td>0.0</td>\n    </tr>\n    <tr>\n      <th>3</th>\n      <td>0</td>\n      <td>4.833334</td>\n      <td>46.573366</td>\n      <td>2</td>\n      <td>1.0</td>\n      <td>0.0</td>\n      <td>0.5</td>\n      <td>1.0</td>\n      <td>0.0</td>\n      <td>0.0</td>\n      <td>...</td>\n      <td>0.5</td>\n      <td>0.0</td>\n      <td>0.250000</td>\n      <td>0.25</td>\n      <td>0.0</td>\n      <td>0.0</td>\n      <td>0.333333</td>\n      <td>0.50</td>\n      <td>0.0</td>\n      <td>0.0</td>\n    </tr>\n    <tr>\n      <th>4</th>\n      <td>0</td>\n      <td>6.166666</td>\n      <td>58.434636</td>\n      <td>3</td>\n      <td>1.0</td>\n      <td>0.0</td>\n      <td>0.0</td>\n      <td>1.0</td>\n      <td>0.0</td>\n      <td>0.0</td>\n      <td>...</td>\n      <td>0.5</td>\n      <td>1.0</td>\n      <td>0.500000</td>\n      <td>0.50</td>\n      <td>0.0</td>\n      <td>0.0</td>\n      <td>0.666667</td>\n      <td>0.50</td>\n      <td>0.0</td>\n      <td>0.0</td>\n    </tr>\n    <tr>\n      <th>...</th>\n      <td>...</td>\n      <td>...</td>\n      <td>...</td>\n      <td>...</td>\n      <td>...</td>\n      <td>...</td>\n      <td>...</td>\n      <td>...</td>\n      <td>...</td>\n      <td>...</td>\n      <td>...</td>\n      <td>...</td>\n      <td>...</td>\n      <td>...</td>\n      <td>...</td>\n      <td>...</td>\n      <td>...</td>\n      <td>...</td>\n      <td>...</td>\n      <td>...</td>\n      <td>...</td>\n    </tr>\n    <tr>\n      <th>15846</th>\n      <td>199</td>\n      <td>2.000000</td>\n      <td>26.847057</td>\n      <td>1</td>\n      <td>1.0</td>\n      <td>0.0</td>\n      <td>0.5</td>\n      <td>0.0</td>\n      <td>0.0</td>\n      <td>0.0</td>\n      <td>...</td>\n      <td>0.0</td>\n      <td>0.0</td>\n      <td>0.000000</td>\n      <td>0.25</td>\n      <td>0.0</td>\n      <td>0.0</td>\n      <td>0.000000</td>\n      <td>0.25</td>\n      <td>0.0</td>\n      <td>0.0</td>\n    </tr>\n    <tr>\n      <th>15847</th>\n      <td>199</td>\n      <td>2.500000</td>\n      <td>35.142445</td>\n      <td>2</td>\n      <td>1.0</td>\n      <td>0.0</td>\n      <td>0.0</td>\n      <td>0.0</td>\n      <td>1.0</td>\n      <td>0.0</td>\n      <td>...</td>\n      <td>0.0</td>\n      <td>0.0</td>\n      <td>0.000000</td>\n      <td>0.25</td>\n      <td>0.0</td>\n      <td>0.0</td>\n      <td>0.000000</td>\n      <td>0.25</td>\n      <td>0.0</td>\n      <td>0.0</td>\n    </tr>\n    <tr>\n      <th>15848</th>\n      <td>199</td>\n      <td>6.333333</td>\n      <td>64.916674</td>\n      <td>4</td>\n      <td>1.0</td>\n      <td>0.0</td>\n      <td>0.5</td>\n      <td>0.0</td>\n      <td>1.0</td>\n      <td>0.0</td>\n      <td>...</td>\n      <td>1.0</td>\n      <td>0.0</td>\n      <td>0.666667</td>\n      <td>0.25</td>\n      <td>0.0</td>\n      <td>0.0</td>\n      <td>0.666667</td>\n      <td>0.25</td>\n      <td>0.0</td>\n      <td>0.0</td>\n    </tr>\n    <tr>\n      <th>15849</th>\n      <td>199</td>\n      <td>6.833334</td>\n      <td>62.046281</td>\n      <td>3</td>\n      <td>1.0</td>\n      <td>1.0</td>\n      <td>0.0</td>\n      <td>1.0</td>\n      <td>1.0</td>\n      <td>0.0</td>\n      <td>...</td>\n      <td>1.0</td>\n      <td>0.0</td>\n      <td>0.333333</td>\n      <td>0.25</td>\n      <td>0.0</td>\n      <td>0.0</td>\n      <td>0.000000</td>\n      <td>0.25</td>\n      <td>0.0</td>\n      <td>0.0</td>\n    </tr>\n    <tr>\n      <th>15850</th>\n      <td>199</td>\n      <td>4.250000</td>\n      <td>43.161189</td>\n      <td>2</td>\n      <td>1.0</td>\n      <td>0.0</td>\n      <td>0.0</td>\n      <td>0.0</td>\n      <td>1.0</td>\n      <td>0.0</td>\n      <td>...</td>\n      <td>1.0</td>\n      <td>0.0</td>\n      <td>0.000000</td>\n      <td>0.25</td>\n      <td>0.0</td>\n      <td>0.0</td>\n      <td>0.000000</td>\n      <td>0.00</td>\n      <td>0.0</td>\n      <td>0.0</td>\n    </tr>\n  </tbody>\n</table>\n<p>15851 rows × 21 columns</p>\n</div>"
     },
     "execution_count": 3,
     "metadata": {},
     "output_type": "execute_result"
    }
   ],
   "source": [
    "dt = pd.read_csv(\"../outputs/scores/0_dataset.csv\").set_index(\"kId\")\n",
    "dt"
   ],
   "metadata": {
    "collapsed": false,
    "ExecuteTime": {
     "end_time": "2023-12-09T19:34:05.167690500Z",
     "start_time": "2023-12-09T19:34:04.856129300Z"
    }
   },
   "id": "d80f51bde9bd15f9"
  },
  {
   "cell_type": "code",
   "execution_count": 4,
   "outputs": [],
   "source": [
    "offer = pd.read_csv(\"../outputs/0_job_offers.csv\").set_index(\"qId\")\n",
    "cv = pd.read_csv(\"../outputs/0_curricula.csv\").set_index(\"kId\")"
   ],
   "metadata": {
    "collapsed": false,
    "ExecuteTime": {
     "end_time": "2023-12-09T19:34:05.528254100Z",
     "start_time": "2023-12-09T19:34:05.156327400Z"
    }
   },
   "id": "e81c8586973b8dd7"
  },
  {
   "cell_type": "code",
   "execution_count": 23,
   "outputs": [],
   "source": [
    "essential_skills = offer.loc[18,[\"Competence_essential\"+str(i) for i in range(0,4)]].to_list()\n",
    "optional_skills = offer.loc[18,[\"Competence_optional\"+str(i) for i in range(0,2)]].to_list()"
   ],
   "metadata": {
    "collapsed": false,
    "ExecuteTime": {
     "end_time": "2023-12-09T19:45:35.358499400Z",
     "start_time": "2023-12-09T19:45:35.202507500Z"
    }
   },
   "id": "9bd92284a7bfe720"
  },
  {
   "cell_type": "code",
   "execution_count": 24,
   "outputs": [],
   "source": [
    "essential_skills = FitnessFunctions.filter(essential_skills)\n",
    "optional_skills = FitnessFunctions.filter(optional_skills)"
   ],
   "metadata": {
    "collapsed": false,
    "ExecuteTime": {
     "end_time": "2023-12-09T19:45:36.072229200Z",
     "start_time": "2023-12-09T19:45:35.911727500Z"
    }
   },
   "id": "2e66792999457b8d"
  },
  {
   "cell_type": "code",
   "execution_count": 25,
   "outputs": [
    {
     "data": {
      "text/plain": "(['troubleshoot', 'supply machine', 'ensure equipment availability'], [])"
     },
     "execution_count": 25,
     "metadata": {},
     "output_type": "execute_result"
    }
   ],
   "source": [
    "essential_skills, optional_skills"
   ],
   "metadata": {
    "collapsed": false,
    "ExecuteTime": {
     "end_time": "2023-12-09T19:45:38.047299400Z",
     "start_time": "2023-12-09T19:45:37.901167600Z"
    }
   },
   "id": "83c00b72d0f74c8a"
  },
  {
   "cell_type": "code",
   "execution_count": 26,
   "outputs": [],
   "source": [
    "cv_skills = cv.loc[1501,[\"Competences\"+str(i) for i in range(0,4)]].to_list()"
   ],
   "metadata": {
    "collapsed": false,
    "ExecuteTime": {
     "end_time": "2023-12-09T19:45:39.328398200Z",
     "start_time": "2023-12-09T19:45:39.171027800Z"
    }
   },
   "id": "fefc0d03aa24b095"
  },
  {
   "cell_type": "code",
   "execution_count": 27,
   "outputs": [
    {
     "data": {
      "text/plain": "['tend computer numerical control lathe machine',\n 'issue necessary items tools for production purposes',\n 'provide operational machinery',\n 'file production data for quality control']"
     },
     "execution_count": 27,
     "metadata": {},
     "output_type": "execute_result"
    }
   ],
   "source": [
    "cv_skills"
   ],
   "metadata": {
    "collapsed": false,
    "ExecuteTime": {
     "end_time": "2023-12-09T19:45:40.156223300Z",
     "start_time": "2023-12-09T19:45:39.993316700Z"
    }
   },
   "id": "953ddc2b88910f23"
  },
  {
   "cell_type": "code",
   "execution_count": 28,
   "outputs": [],
   "source": [
    "fitness = FitnessSkills(job_graph)"
   ],
   "metadata": {
    "collapsed": false,
    "ExecuteTime": {
     "end_time": "2023-12-09T19:45:43.369Z",
     "start_time": "2023-12-09T19:45:43.217267600Z"
    }
   },
   "id": "b0edecf2c622b58f"
  },
  {
   "cell_type": "code",
   "execution_count": 29,
   "outputs": [
    {
     "name": "stdout",
     "output_type": "stream",
     "text": [
      "The shared essential skills are: set()\n",
      "The shared optional skills are: set()\n",
      "Skill for cv {'issue necessary items tools for production purposes', 'file production data for quality control', 'provide operational machinery', 'tend computer numerical control lathe machine'}\n",
      "Remaining essential skill for job {'troubleshoot', 'supply machine', 'ensure equipment availability'}\n",
      "Remaining optional skill for job set()\n",
      "Standardized Skill for cv {'2879a6f9-868b-40a1-a424-d50007ca8354', '1f5148bb-1eb0-473d-a312-50e4ed24159f', '9ea652f6-accf-45bb-b9a8-590f06f7bd51', 'c4949dcf-bbcc-40f2-8584-6c6299beb7fb'}\n",
      "Standardized essential skill {'9ea652f6-accf-45bb-b9a8-590f06f7bd51', '334e3e49-fb02-4051-809a-f06adfdc1c40', '69f23426-9279-4fe6-a283-24c2aa4c855d'}\n",
      "Standardized optional skill set()\n",
      "The shared essential skills: {'9ea652f6-accf-45bb-b9a8-590f06f7bd51'}\n",
      "The shared optional skills: set()\n",
      "Remaining essential skill {'334e3e49-fb02-4051-809a-f06adfdc1c40', '69f23426-9279-4fe6-a283-24c2aa4c855d'}\n",
      "Remaining optional skill set()\n",
      "Similarity essential skill for job 0.25\n",
      "Similarity optional skill for job 0\n"
     ]
    }
   ],
   "source": [
    "fitness.debug_score(essential_skills,optional_skills,cv_skills)"
   ],
   "metadata": {
    "collapsed": false,
    "ExecuteTime": {
     "end_time": "2023-12-09T19:45:44.189522500Z",
     "start_time": "2023-12-09T19:45:44.024303600Z"
    }
   },
   "id": "e4ed2f30c1ce084c"
  }
 ],
 "metadata": {
  "kernelspec": {
   "display_name": "Python 3",
   "language": "python",
   "name": "python3"
  },
  "language_info": {
   "codemirror_mode": {
    "name": "ipython",
    "version": 2
   },
   "file_extension": ".py",
   "mimetype": "text/x-python",
   "name": "python",
   "nbconvert_exporter": "python",
   "pygments_lexer": "ipython2",
   "version": "2.7.6"
  }
 },
 "nbformat": 4,
 "nbformat_minor": 5
}
