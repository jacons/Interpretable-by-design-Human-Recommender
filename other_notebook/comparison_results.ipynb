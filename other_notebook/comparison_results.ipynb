{
 "cells": [
  {
   "cell_type": "code",
   "execution_count": 11,
   "outputs": [],
   "source": [
    "import pandas as pd\n",
    "import numpy as np\n",
    "\n",
    "from Models.grid_search_utils import GridSearch as Gs\n",
    "from pandas import DataFrame"
   ],
   "metadata": {
    "collapsed": false,
    "ExecuteTime": {
     "end_time": "2023-11-12T15:17:31.636513200Z",
     "start_time": "2023-11-12T15:17:31.611008400Z"
    }
   },
   "id": "9e1a4e2f42a3fcbe"
  },
  {
   "cell_type": "code",
   "execution_count": 12,
   "id": "initial_id",
   "metadata": {
    "collapsed": true,
    "ExecuteTime": {
     "end_time": "2023-11-12T15:17:31.636513200Z",
     "start_time": "2023-11-12T15:17:31.611525500Z"
    }
   },
   "outputs": [],
   "source": [
    "LGBMRanker = Gs.load_model(name=\"../Models/BlackBox/lmart/saved_models/LGBMRanker\")"
   ]
  },
  {
   "cell_type": "code",
   "execution_count": 13,
   "outputs": [],
   "source": [
    "FIGSReg = Gs.load_model(name=\"../Models/GlassBox/figs/saved_models/FIGSReg\")"
   ],
   "metadata": {
    "collapsed": false,
    "ExecuteTime": {
     "end_time": "2023-11-12T15:17:32.404805700Z",
     "start_time": "2023-11-12T15:17:31.620873Z"
    }
   },
   "id": "dfaf3f0d2ceb79a6"
  },
  {
   "cell_type": "code",
   "execution_count": 14,
   "outputs": [],
   "source": [
    "EBMReg = Gs.load_model(name=\"../Models/GlassBox/ebm/saved_models/EBMReg\")"
   ],
   "metadata": {
    "collapsed": false,
    "ExecuteTime": {
     "end_time": "2023-11-12T15:17:32.417814800Z",
     "start_time": "2023-11-12T15:17:32.408263100Z"
    }
   },
   "id": "c64bbb8c35ba6679"
  },
  {
   "cell_type": "code",
   "execution_count": 15,
   "outputs": [],
   "source": [
    "def predict_rank(model, X:DataFrame, top_k:int=15):\n",
    "    y_pred = model.predict(np.asarray(X.iloc[:,5:].values))\n",
    "    y_pred = pd.DataFrame(y_pred, index=X.index, columns=[\"lambdas\"])\n",
    "    dt_final = pd.merge(X, y_pred, left_index=True, right_index=True)\n",
    "    return dt_final.sort_values(\"lambdas\",ascending=False)[[\"kId\",\"lambdas\",\"w_score\",\"relevance\"]].head(top_k)"
   ],
   "metadata": {
    "collapsed": false,
    "ExecuteTime": {
     "end_time": "2023-11-12T15:17:32.417814800Z",
     "start_time": "2023-11-12T15:17:32.417814800Z"
    }
   },
   "id": "96f9afd3727798a6"
  },
  {
   "cell_type": "code",
   "execution_count": 16,
   "outputs": [],
   "source": [
    "test_set = pd.read_csv(\"../outputs/scores/0_dataset_ts.csv\")"
   ],
   "metadata": {
    "collapsed": false,
    "ExecuteTime": {
     "end_time": "2023-11-12T15:17:32.432581Z",
     "start_time": "2023-11-12T15:17:32.417814800Z"
    }
   },
   "id": "6b08d2059f674e35"
  },
  {
   "cell_type": "code",
   "execution_count": 17,
   "outputs": [
    {
     "data": {
      "text/plain": "      qId   kId     score   w_score  relevance  fitness_edu_basic  \\\n14    117  9401  7.015625  0.717811          5                1.0   \n16     88  7157  6.315322  0.711491          5                1.0   \n26     21  1758  7.471413  0.726605          5                1.0   \n34     95  7689  7.845580  0.759724          5                1.0   \n55     27  2227  6.382300  0.770424          5                1.0   \n...   ...   ...       ...       ...        ...                ...   \n3069   70  5742  7.107969  0.722846          5                1.0   \n3149   94  7584  7.731784  0.718890          5                1.0   \n3155   24  1983  6.948688  0.710037          5                1.0   \n3157   16  1346  6.035314  0.716721          5                1.0   \n3178   55  4549  7.573191  0.711611          5                1.0   \n\n      fitness_edu_bonus  fitness_city  fitness_age  fitness_exp_basic  \\\n14                 0.00      0.515625          1.0                1.0   \n16                 0.00      0.248355          1.0                1.0   \n26                 0.25      0.984375          1.0                1.0   \n34                 0.25      0.829770          1.0                1.0   \n55                 0.00      0.847862          1.0                0.0   \n...                 ...           ...          ...                ...   \n3069               0.00      0.824013          1.0                1.0   \n3149               0.00      0.970395          1.0                1.0   \n3155               0.00      0.693257          1.0                1.0   \n3157               0.00      0.509868          1.0                0.0   \n3178               0.00      0.823191          1.0                1.0   \n\n      fitness_exp_bonus  fitness_lang_basic  fitness_lang_bonus  \\\n14                 0.00                 1.0                 0.0   \n16                 0.00                 1.0                 0.0   \n26                 0.25                 1.0                 0.0   \n34                 0.25                 1.0                 0.0   \n55                 0.00                 1.0                 0.0   \n...                 ...                 ...                 ...   \n3069               0.25                 1.0                 0.0   \n3149               0.25                 1.0                 0.0   \n3155               0.00                 1.0                 0.0   \n3157               0.00                 1.0                 0.0   \n3178               0.25                 1.0                 0.0   \n\n      fitness_comp_basic  fitness_comp_bonus  fitness_know_basic  \\\n14              1.000000            0.500000            1.000000   \n16              1.000000            0.017127            1.000000   \n26              1.000000            0.077935            0.630204   \n34              1.000000            0.015810            1.000000   \n55              1.000000            0.034439            1.000000   \n...                  ...                 ...                 ...   \n3069            1.000000            0.018567            1.000000   \n3149            1.000000            0.500000            0.964286   \n3155            0.952386            0.034023            1.000000   \n3157            1.000000            0.025446            1.000000   \n3178            1.000000            0.000000            1.000000   \n\n      fitness_knowl_bonus  \n14               0.000000  \n16               0.049840  \n26               0.278899  \n34               0.500000  \n55               0.500000  \n...                   ...  \n3069             0.015388  \n3149             0.047104  \n3155             0.269022  \n3157             0.500000  \n3178             0.500000  \n\n[114 rows x 17 columns]",
      "text/html": "<div>\n<style scoped>\n    .dataframe tbody tr th:only-of-type {\n        vertical-align: middle;\n    }\n\n    .dataframe tbody tr th {\n        vertical-align: top;\n    }\n\n    .dataframe thead th {\n        text-align: right;\n    }\n</style>\n<table border=\"1\" class=\"dataframe\">\n  <thead>\n    <tr style=\"text-align: right;\">\n      <th></th>\n      <th>qId</th>\n      <th>kId</th>\n      <th>score</th>\n      <th>w_score</th>\n      <th>relevance</th>\n      <th>fitness_edu_basic</th>\n      <th>fitness_edu_bonus</th>\n      <th>fitness_city</th>\n      <th>fitness_age</th>\n      <th>fitness_exp_basic</th>\n      <th>fitness_exp_bonus</th>\n      <th>fitness_lang_basic</th>\n      <th>fitness_lang_bonus</th>\n      <th>fitness_comp_basic</th>\n      <th>fitness_comp_bonus</th>\n      <th>fitness_know_basic</th>\n      <th>fitness_knowl_bonus</th>\n    </tr>\n  </thead>\n  <tbody>\n    <tr>\n      <th>14</th>\n      <td>117</td>\n      <td>9401</td>\n      <td>7.015625</td>\n      <td>0.717811</td>\n      <td>5</td>\n      <td>1.0</td>\n      <td>0.00</td>\n      <td>0.515625</td>\n      <td>1.0</td>\n      <td>1.0</td>\n      <td>0.00</td>\n      <td>1.0</td>\n      <td>0.0</td>\n      <td>1.000000</td>\n      <td>0.500000</td>\n      <td>1.000000</td>\n      <td>0.000000</td>\n    </tr>\n    <tr>\n      <th>16</th>\n      <td>88</td>\n      <td>7157</td>\n      <td>6.315322</td>\n      <td>0.711491</td>\n      <td>5</td>\n      <td>1.0</td>\n      <td>0.00</td>\n      <td>0.248355</td>\n      <td>1.0</td>\n      <td>1.0</td>\n      <td>0.00</td>\n      <td>1.0</td>\n      <td>0.0</td>\n      <td>1.000000</td>\n      <td>0.017127</td>\n      <td>1.000000</td>\n      <td>0.049840</td>\n    </tr>\n    <tr>\n      <th>26</th>\n      <td>21</td>\n      <td>1758</td>\n      <td>7.471413</td>\n      <td>0.726605</td>\n      <td>5</td>\n      <td>1.0</td>\n      <td>0.25</td>\n      <td>0.984375</td>\n      <td>1.0</td>\n      <td>1.0</td>\n      <td>0.25</td>\n      <td>1.0</td>\n      <td>0.0</td>\n      <td>1.000000</td>\n      <td>0.077935</td>\n      <td>0.630204</td>\n      <td>0.278899</td>\n    </tr>\n    <tr>\n      <th>34</th>\n      <td>95</td>\n      <td>7689</td>\n      <td>7.845580</td>\n      <td>0.759724</td>\n      <td>5</td>\n      <td>1.0</td>\n      <td>0.25</td>\n      <td>0.829770</td>\n      <td>1.0</td>\n      <td>1.0</td>\n      <td>0.25</td>\n      <td>1.0</td>\n      <td>0.0</td>\n      <td>1.000000</td>\n      <td>0.015810</td>\n      <td>1.000000</td>\n      <td>0.500000</td>\n    </tr>\n    <tr>\n      <th>55</th>\n      <td>27</td>\n      <td>2227</td>\n      <td>6.382300</td>\n      <td>0.770424</td>\n      <td>5</td>\n      <td>1.0</td>\n      <td>0.00</td>\n      <td>0.847862</td>\n      <td>1.0</td>\n      <td>0.0</td>\n      <td>0.00</td>\n      <td>1.0</td>\n      <td>0.0</td>\n      <td>1.000000</td>\n      <td>0.034439</td>\n      <td>1.000000</td>\n      <td>0.500000</td>\n    </tr>\n    <tr>\n      <th>...</th>\n      <td>...</td>\n      <td>...</td>\n      <td>...</td>\n      <td>...</td>\n      <td>...</td>\n      <td>...</td>\n      <td>...</td>\n      <td>...</td>\n      <td>...</td>\n      <td>...</td>\n      <td>...</td>\n      <td>...</td>\n      <td>...</td>\n      <td>...</td>\n      <td>...</td>\n      <td>...</td>\n      <td>...</td>\n    </tr>\n    <tr>\n      <th>3069</th>\n      <td>70</td>\n      <td>5742</td>\n      <td>7.107969</td>\n      <td>0.722846</td>\n      <td>5</td>\n      <td>1.0</td>\n      <td>0.00</td>\n      <td>0.824013</td>\n      <td>1.0</td>\n      <td>1.0</td>\n      <td>0.25</td>\n      <td>1.0</td>\n      <td>0.0</td>\n      <td>1.000000</td>\n      <td>0.018567</td>\n      <td>1.000000</td>\n      <td>0.015388</td>\n    </tr>\n    <tr>\n      <th>3149</th>\n      <td>94</td>\n      <td>7584</td>\n      <td>7.731784</td>\n      <td>0.718890</td>\n      <td>5</td>\n      <td>1.0</td>\n      <td>0.00</td>\n      <td>0.970395</td>\n      <td>1.0</td>\n      <td>1.0</td>\n      <td>0.25</td>\n      <td>1.0</td>\n      <td>0.0</td>\n      <td>1.000000</td>\n      <td>0.500000</td>\n      <td>0.964286</td>\n      <td>0.047104</td>\n    </tr>\n    <tr>\n      <th>3155</th>\n      <td>24</td>\n      <td>1983</td>\n      <td>6.948688</td>\n      <td>0.710037</td>\n      <td>5</td>\n      <td>1.0</td>\n      <td>0.00</td>\n      <td>0.693257</td>\n      <td>1.0</td>\n      <td>1.0</td>\n      <td>0.00</td>\n      <td>1.0</td>\n      <td>0.0</td>\n      <td>0.952386</td>\n      <td>0.034023</td>\n      <td>1.000000</td>\n      <td>0.269022</td>\n    </tr>\n    <tr>\n      <th>3157</th>\n      <td>16</td>\n      <td>1346</td>\n      <td>6.035314</td>\n      <td>0.716721</td>\n      <td>5</td>\n      <td>1.0</td>\n      <td>0.00</td>\n      <td>0.509868</td>\n      <td>1.0</td>\n      <td>0.0</td>\n      <td>0.00</td>\n      <td>1.0</td>\n      <td>0.0</td>\n      <td>1.000000</td>\n      <td>0.025446</td>\n      <td>1.000000</td>\n      <td>0.500000</td>\n    </tr>\n    <tr>\n      <th>3178</th>\n      <td>55</td>\n      <td>4549</td>\n      <td>7.573191</td>\n      <td>0.711611</td>\n      <td>5</td>\n      <td>1.0</td>\n      <td>0.00</td>\n      <td>0.823191</td>\n      <td>1.0</td>\n      <td>1.0</td>\n      <td>0.25</td>\n      <td>1.0</td>\n      <td>0.0</td>\n      <td>1.000000</td>\n      <td>0.000000</td>\n      <td>1.000000</td>\n      <td>0.500000</td>\n    </tr>\n  </tbody>\n</table>\n<p>114 rows × 17 columns</p>\n</div>"
     },
     "execution_count": 17,
     "metadata": {},
     "output_type": "execute_result"
    }
   ],
   "source": [
    "test_set[test_set[\"relevance\"]==5]"
   ],
   "metadata": {
    "collapsed": false,
    "ExecuteTime": {
     "end_time": "2023-11-12T15:17:32.470696Z",
     "start_time": "2023-11-12T15:17:32.432581Z"
    }
   },
   "id": "de18515476ef2fc3"
  },
  {
   "cell_type": "code",
   "execution_count": 18,
   "outputs": [],
   "source": [
    "job = test_set[test_set[\"qId\"]==88]"
   ],
   "metadata": {
    "collapsed": false,
    "ExecuteTime": {
     "end_time": "2023-11-12T15:17:32.470696Z",
     "start_time": "2023-11-12T15:17:32.455119500Z"
    }
   },
   "id": "9c0b923d4ed9c7a2"
  },
  {
   "cell_type": "markdown",
   "source": [
    "# Perfect rank"
   ],
   "metadata": {
    "collapsed": false
   },
   "id": "344779e5ad906faa"
  },
  {
   "cell_type": "code",
   "execution_count": 19,
   "outputs": [
    {
     "data": {
      "text/plain": "       kId   w_score  relevance\n898   7105  0.755986          5\n16    7157  0.711491          5\n2421  7104  0.701907          4\n2607  7161  0.677290          4\n229   7113  0.653243          4\n2558  7130  0.633010          4\n413   7143  0.623950          4\n1789  7138  0.614451          4\n3090  7142  0.604222          4\n372   7110  0.592233          4\n2796  7153  0.591966          4\n1964  7147  0.580760          4\n2873  7159  0.574789          4\n662   7126  0.573479          4\n2431  7150  0.569684          4",
      "text/html": "<div>\n<style scoped>\n    .dataframe tbody tr th:only-of-type {\n        vertical-align: middle;\n    }\n\n    .dataframe tbody tr th {\n        vertical-align: top;\n    }\n\n    .dataframe thead th {\n        text-align: right;\n    }\n</style>\n<table border=\"1\" class=\"dataframe\">\n  <thead>\n    <tr style=\"text-align: right;\">\n      <th></th>\n      <th>kId</th>\n      <th>w_score</th>\n      <th>relevance</th>\n    </tr>\n  </thead>\n  <tbody>\n    <tr>\n      <th>898</th>\n      <td>7105</td>\n      <td>0.755986</td>\n      <td>5</td>\n    </tr>\n    <tr>\n      <th>16</th>\n      <td>7157</td>\n      <td>0.711491</td>\n      <td>5</td>\n    </tr>\n    <tr>\n      <th>2421</th>\n      <td>7104</td>\n      <td>0.701907</td>\n      <td>4</td>\n    </tr>\n    <tr>\n      <th>2607</th>\n      <td>7161</td>\n      <td>0.677290</td>\n      <td>4</td>\n    </tr>\n    <tr>\n      <th>229</th>\n      <td>7113</td>\n      <td>0.653243</td>\n      <td>4</td>\n    </tr>\n    <tr>\n      <th>2558</th>\n      <td>7130</td>\n      <td>0.633010</td>\n      <td>4</td>\n    </tr>\n    <tr>\n      <th>413</th>\n      <td>7143</td>\n      <td>0.623950</td>\n      <td>4</td>\n    </tr>\n    <tr>\n      <th>1789</th>\n      <td>7138</td>\n      <td>0.614451</td>\n      <td>4</td>\n    </tr>\n    <tr>\n      <th>3090</th>\n      <td>7142</td>\n      <td>0.604222</td>\n      <td>4</td>\n    </tr>\n    <tr>\n      <th>372</th>\n      <td>7110</td>\n      <td>0.592233</td>\n      <td>4</td>\n    </tr>\n    <tr>\n      <th>2796</th>\n      <td>7153</td>\n      <td>0.591966</td>\n      <td>4</td>\n    </tr>\n    <tr>\n      <th>1964</th>\n      <td>7147</td>\n      <td>0.580760</td>\n      <td>4</td>\n    </tr>\n    <tr>\n      <th>2873</th>\n      <td>7159</td>\n      <td>0.574789</td>\n      <td>4</td>\n    </tr>\n    <tr>\n      <th>662</th>\n      <td>7126</td>\n      <td>0.573479</td>\n      <td>4</td>\n    </tr>\n    <tr>\n      <th>2431</th>\n      <td>7150</td>\n      <td>0.569684</td>\n      <td>4</td>\n    </tr>\n  </tbody>\n</table>\n</div>"
     },
     "execution_count": 19,
     "metadata": {},
     "output_type": "execute_result"
    }
   ],
   "source": [
    "job[[\"kId\",\"w_score\",\"relevance\"]].sort_values(\"w_score\",ascending=False).head(15)"
   ],
   "metadata": {
    "collapsed": false,
    "ExecuteTime": {
     "end_time": "2023-11-12T15:17:32.486797600Z",
     "start_time": "2023-11-12T15:17:32.460732800Z"
    }
   },
   "id": "c94f2fb545842361"
  },
  {
   "cell_type": "markdown",
   "source": [
    "# LGBMRanker"
   ],
   "metadata": {
    "collapsed": false
   },
   "id": "c404c77f20936b5b"
  },
  {
   "cell_type": "code",
   "execution_count": 20,
   "outputs": [
    {
     "data": {
      "text/plain": "       kId   lambdas   w_score  relevance\n898   7105  9.844129  0.755986          5\n2873  7159  9.592338  0.574789          4\n3090  7142  9.215515  0.604222          4\n16    7157  9.169757  0.711491          5\n2607  7161  8.825334  0.677290          4\n1789  7138  8.769664  0.614451          4\n2431  7150  8.739263  0.569684          4\n229   7113  8.686450  0.653243          4\n2421  7104  8.663812  0.701907          4\n193   7158  5.225820  0.567148          4\n662   7126  3.913541  0.573479          4\n405   7163  2.978918  0.543480          3\n2558  7130  2.714526  0.633010          4\n1570  7125  2.599917  0.518682          3\n1964  7147  2.271318  0.580760          4",
      "text/html": "<div>\n<style scoped>\n    .dataframe tbody tr th:only-of-type {\n        vertical-align: middle;\n    }\n\n    .dataframe tbody tr th {\n        vertical-align: top;\n    }\n\n    .dataframe thead th {\n        text-align: right;\n    }\n</style>\n<table border=\"1\" class=\"dataframe\">\n  <thead>\n    <tr style=\"text-align: right;\">\n      <th></th>\n      <th>kId</th>\n      <th>lambdas</th>\n      <th>w_score</th>\n      <th>relevance</th>\n    </tr>\n  </thead>\n  <tbody>\n    <tr>\n      <th>898</th>\n      <td>7105</td>\n      <td>9.844129</td>\n      <td>0.755986</td>\n      <td>5</td>\n    </tr>\n    <tr>\n      <th>2873</th>\n      <td>7159</td>\n      <td>9.592338</td>\n      <td>0.574789</td>\n      <td>4</td>\n    </tr>\n    <tr>\n      <th>3090</th>\n      <td>7142</td>\n      <td>9.215515</td>\n      <td>0.604222</td>\n      <td>4</td>\n    </tr>\n    <tr>\n      <th>16</th>\n      <td>7157</td>\n      <td>9.169757</td>\n      <td>0.711491</td>\n      <td>5</td>\n    </tr>\n    <tr>\n      <th>2607</th>\n      <td>7161</td>\n      <td>8.825334</td>\n      <td>0.677290</td>\n      <td>4</td>\n    </tr>\n    <tr>\n      <th>1789</th>\n      <td>7138</td>\n      <td>8.769664</td>\n      <td>0.614451</td>\n      <td>4</td>\n    </tr>\n    <tr>\n      <th>2431</th>\n      <td>7150</td>\n      <td>8.739263</td>\n      <td>0.569684</td>\n      <td>4</td>\n    </tr>\n    <tr>\n      <th>229</th>\n      <td>7113</td>\n      <td>8.686450</td>\n      <td>0.653243</td>\n      <td>4</td>\n    </tr>\n    <tr>\n      <th>2421</th>\n      <td>7104</td>\n      <td>8.663812</td>\n      <td>0.701907</td>\n      <td>4</td>\n    </tr>\n    <tr>\n      <th>193</th>\n      <td>7158</td>\n      <td>5.225820</td>\n      <td>0.567148</td>\n      <td>4</td>\n    </tr>\n    <tr>\n      <th>662</th>\n      <td>7126</td>\n      <td>3.913541</td>\n      <td>0.573479</td>\n      <td>4</td>\n    </tr>\n    <tr>\n      <th>405</th>\n      <td>7163</td>\n      <td>2.978918</td>\n      <td>0.543480</td>\n      <td>3</td>\n    </tr>\n    <tr>\n      <th>2558</th>\n      <td>7130</td>\n      <td>2.714526</td>\n      <td>0.633010</td>\n      <td>4</td>\n    </tr>\n    <tr>\n      <th>1570</th>\n      <td>7125</td>\n      <td>2.599917</td>\n      <td>0.518682</td>\n      <td>3</td>\n    </tr>\n    <tr>\n      <th>1964</th>\n      <td>7147</td>\n      <td>2.271318</td>\n      <td>0.580760</td>\n      <td>4</td>\n    </tr>\n  </tbody>\n</table>\n</div>"
     },
     "execution_count": 20,
     "metadata": {},
     "output_type": "execute_result"
    }
   ],
   "source": [
    "predict_rank(LGBMRanker, job)"
   ],
   "metadata": {
    "collapsed": false,
    "ExecuteTime": {
     "end_time": "2023-11-12T15:17:32.539643200Z",
     "start_time": "2023-11-12T15:17:32.470696Z"
    }
   },
   "id": "3518d7463c5fc103"
  },
  {
   "cell_type": "markdown",
   "source": [
    "# EBM Regressor"
   ],
   "metadata": {
    "collapsed": false
   },
   "id": "19e514db42d9b803"
  },
  {
   "cell_type": "code",
   "execution_count": 21,
   "outputs": [
    {
     "data": {
      "text/plain": "       kId   lambdas   w_score  relevance\n2607  7161  0.662992  0.677290          4\n229   7113  0.660458  0.653243          4\n898   7105  0.640526  0.755986          5\n2431  7150  0.640319  0.569684          4\n2421  7104  0.637372  0.701907          4\n2873  7159  0.637308  0.574789          4\n3090  7142  0.633874  0.604222          4\n16    7157  0.629465  0.711491          5\n1964  7147  0.612311  0.580760          4\n1789  7138  0.609421  0.614451          4\n193   7158  0.600541  0.567148          4\n662   7126  0.594523  0.573479          4\n372   7110  0.581714  0.592233          4\n2796  7153  0.569111  0.591966          4\n1570  7125  0.569104  0.518682          3",
      "text/html": "<div>\n<style scoped>\n    .dataframe tbody tr th:only-of-type {\n        vertical-align: middle;\n    }\n\n    .dataframe tbody tr th {\n        vertical-align: top;\n    }\n\n    .dataframe thead th {\n        text-align: right;\n    }\n</style>\n<table border=\"1\" class=\"dataframe\">\n  <thead>\n    <tr style=\"text-align: right;\">\n      <th></th>\n      <th>kId</th>\n      <th>lambdas</th>\n      <th>w_score</th>\n      <th>relevance</th>\n    </tr>\n  </thead>\n  <tbody>\n    <tr>\n      <th>2607</th>\n      <td>7161</td>\n      <td>0.662992</td>\n      <td>0.677290</td>\n      <td>4</td>\n    </tr>\n    <tr>\n      <th>229</th>\n      <td>7113</td>\n      <td>0.660458</td>\n      <td>0.653243</td>\n      <td>4</td>\n    </tr>\n    <tr>\n      <th>898</th>\n      <td>7105</td>\n      <td>0.640526</td>\n      <td>0.755986</td>\n      <td>5</td>\n    </tr>\n    <tr>\n      <th>2431</th>\n      <td>7150</td>\n      <td>0.640319</td>\n      <td>0.569684</td>\n      <td>4</td>\n    </tr>\n    <tr>\n      <th>2421</th>\n      <td>7104</td>\n      <td>0.637372</td>\n      <td>0.701907</td>\n      <td>4</td>\n    </tr>\n    <tr>\n      <th>2873</th>\n      <td>7159</td>\n      <td>0.637308</td>\n      <td>0.574789</td>\n      <td>4</td>\n    </tr>\n    <tr>\n      <th>3090</th>\n      <td>7142</td>\n      <td>0.633874</td>\n      <td>0.604222</td>\n      <td>4</td>\n    </tr>\n    <tr>\n      <th>16</th>\n      <td>7157</td>\n      <td>0.629465</td>\n      <td>0.711491</td>\n      <td>5</td>\n    </tr>\n    <tr>\n      <th>1964</th>\n      <td>7147</td>\n      <td>0.612311</td>\n      <td>0.580760</td>\n      <td>4</td>\n    </tr>\n    <tr>\n      <th>1789</th>\n      <td>7138</td>\n      <td>0.609421</td>\n      <td>0.614451</td>\n      <td>4</td>\n    </tr>\n    <tr>\n      <th>193</th>\n      <td>7158</td>\n      <td>0.600541</td>\n      <td>0.567148</td>\n      <td>4</td>\n    </tr>\n    <tr>\n      <th>662</th>\n      <td>7126</td>\n      <td>0.594523</td>\n      <td>0.573479</td>\n      <td>4</td>\n    </tr>\n    <tr>\n      <th>372</th>\n      <td>7110</td>\n      <td>0.581714</td>\n      <td>0.592233</td>\n      <td>4</td>\n    </tr>\n    <tr>\n      <th>2796</th>\n      <td>7153</td>\n      <td>0.569111</td>\n      <td>0.591966</td>\n      <td>4</td>\n    </tr>\n    <tr>\n      <th>1570</th>\n      <td>7125</td>\n      <td>0.569104</td>\n      <td>0.518682</td>\n      <td>3</td>\n    </tr>\n  </tbody>\n</table>\n</div>"
     },
     "execution_count": 21,
     "metadata": {},
     "output_type": "execute_result"
    }
   ],
   "source": [
    "predict_rank(EBMReg, job)"
   ],
   "metadata": {
    "collapsed": false,
    "ExecuteTime": {
     "end_time": "2023-11-12T15:17:32.570404700Z",
     "start_time": "2023-11-12T15:17:32.487784500Z"
    }
   },
   "id": "bb40fd6073486675"
  },
  {
   "cell_type": "markdown",
   "source": [
    "# FIGSRegressor"
   ],
   "metadata": {
    "collapsed": false
   },
   "id": "33895a0da2b8a377"
  },
  {
   "cell_type": "code",
   "execution_count": 22,
   "outputs": [
    {
     "data": {
      "text/plain": "       kId   lambdas   w_score  relevance\n16    7157  0.638527  0.711491          5\n898   7105  0.638527  0.755986          5\n2873  7159  0.638527  0.574789          4\n2607  7161  0.638527  0.677290          4\n2431  7150  0.638527  0.569684          4\n2421  7104  0.638527  0.701907          4\n3090  7142  0.638527  0.604222          4\n229   7113  0.638527  0.653243          4\n1789  7138  0.618054  0.614451          4\n1964  7147  0.613227  0.580760          4\n662   7126  0.602248  0.573479          4\n193   7158  0.588179  0.567148          4\n2796  7153  0.580621  0.591966          4\n2558  7130  0.580621  0.633010          4\n413   7143  0.570240  0.623950          4",
      "text/html": "<div>\n<style scoped>\n    .dataframe tbody tr th:only-of-type {\n        vertical-align: middle;\n    }\n\n    .dataframe tbody tr th {\n        vertical-align: top;\n    }\n\n    .dataframe thead th {\n        text-align: right;\n    }\n</style>\n<table border=\"1\" class=\"dataframe\">\n  <thead>\n    <tr style=\"text-align: right;\">\n      <th></th>\n      <th>kId</th>\n      <th>lambdas</th>\n      <th>w_score</th>\n      <th>relevance</th>\n    </tr>\n  </thead>\n  <tbody>\n    <tr>\n      <th>16</th>\n      <td>7157</td>\n      <td>0.638527</td>\n      <td>0.711491</td>\n      <td>5</td>\n    </tr>\n    <tr>\n      <th>898</th>\n      <td>7105</td>\n      <td>0.638527</td>\n      <td>0.755986</td>\n      <td>5</td>\n    </tr>\n    <tr>\n      <th>2873</th>\n      <td>7159</td>\n      <td>0.638527</td>\n      <td>0.574789</td>\n      <td>4</td>\n    </tr>\n    <tr>\n      <th>2607</th>\n      <td>7161</td>\n      <td>0.638527</td>\n      <td>0.677290</td>\n      <td>4</td>\n    </tr>\n    <tr>\n      <th>2431</th>\n      <td>7150</td>\n      <td>0.638527</td>\n      <td>0.569684</td>\n      <td>4</td>\n    </tr>\n    <tr>\n      <th>2421</th>\n      <td>7104</td>\n      <td>0.638527</td>\n      <td>0.701907</td>\n      <td>4</td>\n    </tr>\n    <tr>\n      <th>3090</th>\n      <td>7142</td>\n      <td>0.638527</td>\n      <td>0.604222</td>\n      <td>4</td>\n    </tr>\n    <tr>\n      <th>229</th>\n      <td>7113</td>\n      <td>0.638527</td>\n      <td>0.653243</td>\n      <td>4</td>\n    </tr>\n    <tr>\n      <th>1789</th>\n      <td>7138</td>\n      <td>0.618054</td>\n      <td>0.614451</td>\n      <td>4</td>\n    </tr>\n    <tr>\n      <th>1964</th>\n      <td>7147</td>\n      <td>0.613227</td>\n      <td>0.580760</td>\n      <td>4</td>\n    </tr>\n    <tr>\n      <th>662</th>\n      <td>7126</td>\n      <td>0.602248</td>\n      <td>0.573479</td>\n      <td>4</td>\n    </tr>\n    <tr>\n      <th>193</th>\n      <td>7158</td>\n      <td>0.588179</td>\n      <td>0.567148</td>\n      <td>4</td>\n    </tr>\n    <tr>\n      <th>2796</th>\n      <td>7153</td>\n      <td>0.580621</td>\n      <td>0.591966</td>\n      <td>4</td>\n    </tr>\n    <tr>\n      <th>2558</th>\n      <td>7130</td>\n      <td>0.580621</td>\n      <td>0.633010</td>\n      <td>4</td>\n    </tr>\n    <tr>\n      <th>413</th>\n      <td>7143</td>\n      <td>0.570240</td>\n      <td>0.623950</td>\n      <td>4</td>\n    </tr>\n  </tbody>\n</table>\n</div>"
     },
     "execution_count": 22,
     "metadata": {},
     "output_type": "execute_result"
    }
   ],
   "source": [
    "predict_rank(FIGSReg, job)"
   ],
   "metadata": {
    "collapsed": false,
    "ExecuteTime": {
     "end_time": "2023-11-12T15:17:32.586040600Z",
     "start_time": "2023-11-12T15:17:32.495269100Z"
    }
   },
   "id": "f6ca7401ee27a2c3"
  }
 ],
 "metadata": {
  "kernelspec": {
   "display_name": "Python 3",
   "language": "python",
   "name": "python3"
  },
  "language_info": {
   "codemirror_mode": {
    "name": "ipython",
    "version": 2
   },
   "file_extension": ".py",
   "mimetype": "text/x-python",
   "name": "python",
   "nbconvert_exporter": "python",
   "pygments_lexer": "ipython2",
   "version": "2.7.6"
  }
 },
 "nbformat": 4,
 "nbformat_minor": 5
}
