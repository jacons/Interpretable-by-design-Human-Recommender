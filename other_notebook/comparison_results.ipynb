{
 "cells": [
  {
   "cell_type": "code",
   "execution_count": 79,
   "outputs": [],
   "source": [
    "import pandas as pd\n",
    "import numpy as np\n",
    "\n",
    "from Utils.Utils import GridSearch as Gs\n",
    "from pandas import DataFrame"
   ],
   "metadata": {
    "collapsed": false,
    "ExecuteTime": {
     "end_time": "2023-10-29T18:17:47.925906900Z",
     "start_time": "2023-10-29T18:17:47.809113300Z"
    }
   },
   "id": "9e1a4e2f42a3fcbe"
  },
  {
   "cell_type": "code",
   "execution_count": 80,
   "id": "initial_id",
   "metadata": {
    "collapsed": true,
    "ExecuteTime": {
     "end_time": "2023-10-29T18:17:47.943533600Z",
     "start_time": "2023-10-29T18:17:47.817098600Z"
    }
   },
   "outputs": [],
   "source": [
    "LGBMRanker = Gs.load_model(name=\"../BlackBox/lmart/saved_models/LGBMRanker_unbalanced\")"
   ]
  },
  {
   "cell_type": "code",
   "execution_count": 81,
   "outputs": [],
   "source": [
    "FIGSReg = Gs.load_model(name=\"../GlassBox/figs/saved_models/FIGSReg_unbalanced\")\n",
    "FIGSClass = Gs.load_model(name=\"../GlassBox/figs/saved_models/FIGSClass_unbalanced\")"
   ],
   "metadata": {
    "collapsed": false,
    "ExecuteTime": {
     "end_time": "2023-10-29T18:17:47.992044800Z",
     "start_time": "2023-10-29T18:17:47.821654400Z"
    }
   },
   "id": "dfaf3f0d2ceb79a6"
  },
  {
   "cell_type": "code",
   "execution_count": 82,
   "outputs": [],
   "source": [
    "EBMReg = Gs.load_model(name=\"../GlassBox/ebm/saved_models/EBMReg_unbalanced\")\n",
    "EBMClass = Gs.load_model(name=\"../GlassBox/ebm/saved_models/EBMClass_unbalanced\")"
   ],
   "metadata": {
    "collapsed": false,
    "ExecuteTime": {
     "end_time": "2023-10-29T18:17:47.992044800Z",
     "start_time": "2023-10-29T18:17:47.833700300Z"
    }
   },
   "id": "c64bbb8c35ba6679"
  },
  {
   "cell_type": "code",
   "execution_count": 83,
   "outputs": [],
   "source": [
    "def predict_rank(model, X:DataFrame, top_k:int=15):\n",
    "    y_pred = model.predict(np.asarray(X.iloc[:,2:13].values))\n",
    "    y_pred = pd.DataFrame(y_pred, index=X.index, columns=[\"lambdas\"])\n",
    "    dt_final = pd.merge(X, y_pred, left_index=True, right_index=True)\n",
    "    return dt_final.sort_values(\"lambdas\",ascending=False)[[\"kId\",\"labels\"]].head(top_k)"
   ],
   "metadata": {
    "collapsed": false,
    "ExecuteTime": {
     "end_time": "2023-10-29T18:17:47.995046300Z",
     "start_time": "2023-10-29T18:17:47.840143800Z"
    }
   },
   "id": "96f9afd3727798a6"
  },
  {
   "cell_type": "code",
   "execution_count": 84,
   "outputs": [],
   "source": [
    "test_set = pd.read_csv(\"../outputs/scores/scores_ts.csv\")"
   ],
   "metadata": {
    "collapsed": false,
    "ExecuteTime": {
     "end_time": "2023-10-29T18:17:48.356426800Z",
     "start_time": "2023-10-29T18:17:47.845759600Z"
    }
   },
   "id": "6b08d2059f674e35"
  },
  {
   "cell_type": "code",
   "execution_count": 85,
   "outputs": [
    {
     "data": {
      "text/plain": "      qId  kId  Education      City  Skills  SoftSkills       Age  Language  \\\n487     5  236        0.6  0.443680    1.00    1.000000  0.857143  0.000000   \n2500   48  151        1.0  0.742906    1.00    0.666667  1.000000  0.000000   \n3169   43  198        1.0  0.459157    0.75    0.400000  0.000000  0.666667   \n3672   35  236        1.0  0.796217    1.00    1.000000  0.714286  1.000000   \n\n      Certificates  Experience  Salary  SmartWork  Experience_abroad  \\\n487            0.0       1.000     1.0          0                  0   \n2500           1.0       0.875     1.0          0                  0   \n3169           0.0       1.000     1.0          0                  1   \n3672           0.0       1.000     0.0          1                  0   \n\n         score   w_score  labels  \n487   5.788108  0.838096       4  \n2500  7.213575  0.862468       4  \n3169  6.279169  0.829507       4  \n3672  7.439241  0.846146       4  ",
      "text/html": "<div>\n<style scoped>\n    .dataframe tbody tr th:only-of-type {\n        vertical-align: middle;\n    }\n\n    .dataframe tbody tr th {\n        vertical-align: top;\n    }\n\n    .dataframe thead th {\n        text-align: right;\n    }\n</style>\n<table border=\"1\" class=\"dataframe\">\n  <thead>\n    <tr style=\"text-align: right;\">\n      <th></th>\n      <th>qId</th>\n      <th>kId</th>\n      <th>Education</th>\n      <th>City</th>\n      <th>Skills</th>\n      <th>SoftSkills</th>\n      <th>Age</th>\n      <th>Language</th>\n      <th>Certificates</th>\n      <th>Experience</th>\n      <th>Salary</th>\n      <th>SmartWork</th>\n      <th>Experience_abroad</th>\n      <th>score</th>\n      <th>w_score</th>\n      <th>labels</th>\n    </tr>\n  </thead>\n  <tbody>\n    <tr>\n      <th>487</th>\n      <td>5</td>\n      <td>236</td>\n      <td>0.6</td>\n      <td>0.443680</td>\n      <td>1.00</td>\n      <td>1.000000</td>\n      <td>0.857143</td>\n      <td>0.000000</td>\n      <td>0.0</td>\n      <td>1.000</td>\n      <td>1.0</td>\n      <td>0</td>\n      <td>0</td>\n      <td>5.788108</td>\n      <td>0.838096</td>\n      <td>4</td>\n    </tr>\n    <tr>\n      <th>2500</th>\n      <td>48</td>\n      <td>151</td>\n      <td>1.0</td>\n      <td>0.742906</td>\n      <td>1.00</td>\n      <td>0.666667</td>\n      <td>1.000000</td>\n      <td>0.000000</td>\n      <td>1.0</td>\n      <td>0.875</td>\n      <td>1.0</td>\n      <td>0</td>\n      <td>0</td>\n      <td>7.213575</td>\n      <td>0.862468</td>\n      <td>4</td>\n    </tr>\n    <tr>\n      <th>3169</th>\n      <td>43</td>\n      <td>198</td>\n      <td>1.0</td>\n      <td>0.459157</td>\n      <td>0.75</td>\n      <td>0.400000</td>\n      <td>0.000000</td>\n      <td>0.666667</td>\n      <td>0.0</td>\n      <td>1.000</td>\n      <td>1.0</td>\n      <td>0</td>\n      <td>1</td>\n      <td>6.279169</td>\n      <td>0.829507</td>\n      <td>4</td>\n    </tr>\n    <tr>\n      <th>3672</th>\n      <td>35</td>\n      <td>236</td>\n      <td>1.0</td>\n      <td>0.796217</td>\n      <td>1.00</td>\n      <td>1.000000</td>\n      <td>0.714286</td>\n      <td>1.000000</td>\n      <td>0.0</td>\n      <td>1.000</td>\n      <td>0.0</td>\n      <td>1</td>\n      <td>0</td>\n      <td>7.439241</td>\n      <td>0.846146</td>\n      <td>4</td>\n    </tr>\n  </tbody>\n</table>\n</div>"
     },
     "execution_count": 85,
     "metadata": {},
     "output_type": "execute_result"
    }
   ],
   "source": [
    "test_set[test_set[\"labels\"]==4]"
   ],
   "metadata": {
    "collapsed": false,
    "ExecuteTime": {
     "end_time": "2023-10-29T18:17:48.356426800Z",
     "start_time": "2023-10-29T18:17:47.858450500Z"
    }
   },
   "id": "de18515476ef2fc3"
  },
  {
   "cell_type": "code",
   "execution_count": 95,
   "outputs": [],
   "source": [
    "job = test_set[test_set[\"qId\"]==15]"
   ],
   "metadata": {
    "collapsed": false,
    "ExecuteTime": {
     "end_time": "2023-10-29T18:37:49.410871800Z",
     "start_time": "2023-10-29T18:37:49.375466Z"
    }
   },
   "id": "9c0b923d4ed9c7a2"
  },
  {
   "cell_type": "markdown",
   "source": [
    "# Perfect rank"
   ],
   "metadata": {
    "collapsed": false
   },
   "id": "344779e5ad906faa"
  },
  {
   "cell_type": "code",
   "execution_count": 87,
   "outputs": [
    {
     "data": {
      "text/plain": "      kId  labels\n2839  228       3\n171   256       3\n4808  117       3\n2377   67       2\n2712  194       2\n2635   34       2\n2599   85       2\n2561  150       2\n4055  167       2\n4095  226       2\n2813  112       2\n2307  151       2\n2259  281       2\n2247  214       2\n2043  251       2",
      "text/html": "<div>\n<style scoped>\n    .dataframe tbody tr th:only-of-type {\n        vertical-align: middle;\n    }\n\n    .dataframe tbody tr th {\n        vertical-align: top;\n    }\n\n    .dataframe thead th {\n        text-align: right;\n    }\n</style>\n<table border=\"1\" class=\"dataframe\">\n  <thead>\n    <tr style=\"text-align: right;\">\n      <th></th>\n      <th>kId</th>\n      <th>labels</th>\n    </tr>\n  </thead>\n  <tbody>\n    <tr>\n      <th>2839</th>\n      <td>228</td>\n      <td>3</td>\n    </tr>\n    <tr>\n      <th>171</th>\n      <td>256</td>\n      <td>3</td>\n    </tr>\n    <tr>\n      <th>4808</th>\n      <td>117</td>\n      <td>3</td>\n    </tr>\n    <tr>\n      <th>2377</th>\n      <td>67</td>\n      <td>2</td>\n    </tr>\n    <tr>\n      <th>2712</th>\n      <td>194</td>\n      <td>2</td>\n    </tr>\n    <tr>\n      <th>2635</th>\n      <td>34</td>\n      <td>2</td>\n    </tr>\n    <tr>\n      <th>2599</th>\n      <td>85</td>\n      <td>2</td>\n    </tr>\n    <tr>\n      <th>2561</th>\n      <td>150</td>\n      <td>2</td>\n    </tr>\n    <tr>\n      <th>4055</th>\n      <td>167</td>\n      <td>2</td>\n    </tr>\n    <tr>\n      <th>4095</th>\n      <td>226</td>\n      <td>2</td>\n    </tr>\n    <tr>\n      <th>2813</th>\n      <td>112</td>\n      <td>2</td>\n    </tr>\n    <tr>\n      <th>2307</th>\n      <td>151</td>\n      <td>2</td>\n    </tr>\n    <tr>\n      <th>2259</th>\n      <td>281</td>\n      <td>2</td>\n    </tr>\n    <tr>\n      <th>2247</th>\n      <td>214</td>\n      <td>2</td>\n    </tr>\n    <tr>\n      <th>2043</th>\n      <td>251</td>\n      <td>2</td>\n    </tr>\n  </tbody>\n</table>\n</div>"
     },
     "execution_count": 87,
     "metadata": {},
     "output_type": "execute_result"
    }
   ],
   "source": [
    "job[[\"kId\",\"labels\"]].sort_values(\"labels\",ascending=False).head(15)"
   ],
   "metadata": {
    "collapsed": false,
    "ExecuteTime": {
     "end_time": "2023-10-29T18:17:48.356426800Z",
     "start_time": "2023-10-29T18:17:47.882587200Z"
    }
   },
   "id": "c94f2fb545842361"
  },
  {
   "cell_type": "markdown",
   "source": [
    "# LGBMRanker"
   ],
   "metadata": {
    "collapsed": false
   },
   "id": "c404c77f20936b5b"
  },
  {
   "cell_type": "code",
   "execution_count": 88,
   "outputs": [
    {
     "data": {
      "text/plain": "      kId  labels\n171   256       3\n2839  228       3\n4808  117       3\n2712  194       2\n902   265       1\n2259  281       2\n1729  133       1\n2307  151       2\n3817  206       1\n948    77       1\n3816   61       2\n162   260       2\n2635   34       2\n3167  270       2\n4095  226       2",
      "text/html": "<div>\n<style scoped>\n    .dataframe tbody tr th:only-of-type {\n        vertical-align: middle;\n    }\n\n    .dataframe tbody tr th {\n        vertical-align: top;\n    }\n\n    .dataframe thead th {\n        text-align: right;\n    }\n</style>\n<table border=\"1\" class=\"dataframe\">\n  <thead>\n    <tr style=\"text-align: right;\">\n      <th></th>\n      <th>kId</th>\n      <th>labels</th>\n    </tr>\n  </thead>\n  <tbody>\n    <tr>\n      <th>171</th>\n      <td>256</td>\n      <td>3</td>\n    </tr>\n    <tr>\n      <th>2839</th>\n      <td>228</td>\n      <td>3</td>\n    </tr>\n    <tr>\n      <th>4808</th>\n      <td>117</td>\n      <td>3</td>\n    </tr>\n    <tr>\n      <th>2712</th>\n      <td>194</td>\n      <td>2</td>\n    </tr>\n    <tr>\n      <th>902</th>\n      <td>265</td>\n      <td>1</td>\n    </tr>\n    <tr>\n      <th>2259</th>\n      <td>281</td>\n      <td>2</td>\n    </tr>\n    <tr>\n      <th>1729</th>\n      <td>133</td>\n      <td>1</td>\n    </tr>\n    <tr>\n      <th>2307</th>\n      <td>151</td>\n      <td>2</td>\n    </tr>\n    <tr>\n      <th>3817</th>\n      <td>206</td>\n      <td>1</td>\n    </tr>\n    <tr>\n      <th>948</th>\n      <td>77</td>\n      <td>1</td>\n    </tr>\n    <tr>\n      <th>3816</th>\n      <td>61</td>\n      <td>2</td>\n    </tr>\n    <tr>\n      <th>162</th>\n      <td>260</td>\n      <td>2</td>\n    </tr>\n    <tr>\n      <th>2635</th>\n      <td>34</td>\n      <td>2</td>\n    </tr>\n    <tr>\n      <th>3167</th>\n      <td>270</td>\n      <td>2</td>\n    </tr>\n    <tr>\n      <th>4095</th>\n      <td>226</td>\n      <td>2</td>\n    </tr>\n  </tbody>\n</table>\n</div>"
     },
     "execution_count": 88,
     "metadata": {},
     "output_type": "execute_result"
    }
   ],
   "source": [
    "predict_rank(LGBMRanker, job)"
   ],
   "metadata": {
    "collapsed": false,
    "ExecuteTime": {
     "end_time": "2023-10-29T18:17:48.356426800Z",
     "start_time": "2023-10-29T18:17:47.892585400Z"
    }
   },
   "id": "3518d7463c5fc103"
  },
  {
   "cell_type": "markdown",
   "source": [
    "# FIGSRegressor"
   ],
   "metadata": {
    "collapsed": false
   },
   "id": "33895a0da2b8a377"
  },
  {
   "cell_type": "code",
   "execution_count": 89,
   "outputs": [
    {
     "data": {
      "text/plain": "      kId  labels\n171   256       3\n2839  228       3\n4808  117       3\n2307  151       2\n2635   34       2\n902   265       1\n1729  133       1\n3816   61       2\n1453  230       2\n3321  264       1\n162   260       2\n3583  101       2\n2259  281       2\n2712  194       2\n948    77       1",
      "text/html": "<div>\n<style scoped>\n    .dataframe tbody tr th:only-of-type {\n        vertical-align: middle;\n    }\n\n    .dataframe tbody tr th {\n        vertical-align: top;\n    }\n\n    .dataframe thead th {\n        text-align: right;\n    }\n</style>\n<table border=\"1\" class=\"dataframe\">\n  <thead>\n    <tr style=\"text-align: right;\">\n      <th></th>\n      <th>kId</th>\n      <th>labels</th>\n    </tr>\n  </thead>\n  <tbody>\n    <tr>\n      <th>171</th>\n      <td>256</td>\n      <td>3</td>\n    </tr>\n    <tr>\n      <th>2839</th>\n      <td>228</td>\n      <td>3</td>\n    </tr>\n    <tr>\n      <th>4808</th>\n      <td>117</td>\n      <td>3</td>\n    </tr>\n    <tr>\n      <th>2307</th>\n      <td>151</td>\n      <td>2</td>\n    </tr>\n    <tr>\n      <th>2635</th>\n      <td>34</td>\n      <td>2</td>\n    </tr>\n    <tr>\n      <th>902</th>\n      <td>265</td>\n      <td>1</td>\n    </tr>\n    <tr>\n      <th>1729</th>\n      <td>133</td>\n      <td>1</td>\n    </tr>\n    <tr>\n      <th>3816</th>\n      <td>61</td>\n      <td>2</td>\n    </tr>\n    <tr>\n      <th>1453</th>\n      <td>230</td>\n      <td>2</td>\n    </tr>\n    <tr>\n      <th>3321</th>\n      <td>264</td>\n      <td>1</td>\n    </tr>\n    <tr>\n      <th>162</th>\n      <td>260</td>\n      <td>2</td>\n    </tr>\n    <tr>\n      <th>3583</th>\n      <td>101</td>\n      <td>2</td>\n    </tr>\n    <tr>\n      <th>2259</th>\n      <td>281</td>\n      <td>2</td>\n    </tr>\n    <tr>\n      <th>2712</th>\n      <td>194</td>\n      <td>2</td>\n    </tr>\n    <tr>\n      <th>948</th>\n      <td>77</td>\n      <td>1</td>\n    </tr>\n  </tbody>\n</table>\n</div>"
     },
     "execution_count": 89,
     "metadata": {},
     "output_type": "execute_result"
    }
   ],
   "source": [
    "predict_rank(FIGSReg, job)"
   ],
   "metadata": {
    "collapsed": false,
    "ExecuteTime": {
     "end_time": "2023-10-29T18:17:48.359456200Z",
     "start_time": "2023-10-29T18:17:47.902660100Z"
    }
   },
   "id": "f6ca7401ee27a2c3"
  },
  {
   "cell_type": "markdown",
   "source": [
    "# EBM Regressor"
   ],
   "metadata": {
    "collapsed": false
   },
   "id": "19e514db42d9b803"
  },
  {
   "cell_type": "code",
   "execution_count": 90,
   "outputs": [
    {
     "data": {
      "text/plain": "      kId  labels\n171   256       3\n2839  228       3\n4808  117       3\n2307  151       2\n902   265       1\n2635   34       2\n1729  133       1\n3816   61       2\n2712  194       2\n2259  281       2\n162   260       2\n948    77       1\n3583  101       2\n2377   67       2\n1453  230       2",
      "text/html": "<div>\n<style scoped>\n    .dataframe tbody tr th:only-of-type {\n        vertical-align: middle;\n    }\n\n    .dataframe tbody tr th {\n        vertical-align: top;\n    }\n\n    .dataframe thead th {\n        text-align: right;\n    }\n</style>\n<table border=\"1\" class=\"dataframe\">\n  <thead>\n    <tr style=\"text-align: right;\">\n      <th></th>\n      <th>kId</th>\n      <th>labels</th>\n    </tr>\n  </thead>\n  <tbody>\n    <tr>\n      <th>171</th>\n      <td>256</td>\n      <td>3</td>\n    </tr>\n    <tr>\n      <th>2839</th>\n      <td>228</td>\n      <td>3</td>\n    </tr>\n    <tr>\n      <th>4808</th>\n      <td>117</td>\n      <td>3</td>\n    </tr>\n    <tr>\n      <th>2307</th>\n      <td>151</td>\n      <td>2</td>\n    </tr>\n    <tr>\n      <th>902</th>\n      <td>265</td>\n      <td>1</td>\n    </tr>\n    <tr>\n      <th>2635</th>\n      <td>34</td>\n      <td>2</td>\n    </tr>\n    <tr>\n      <th>1729</th>\n      <td>133</td>\n      <td>1</td>\n    </tr>\n    <tr>\n      <th>3816</th>\n      <td>61</td>\n      <td>2</td>\n    </tr>\n    <tr>\n      <th>2712</th>\n      <td>194</td>\n      <td>2</td>\n    </tr>\n    <tr>\n      <th>2259</th>\n      <td>281</td>\n      <td>2</td>\n    </tr>\n    <tr>\n      <th>162</th>\n      <td>260</td>\n      <td>2</td>\n    </tr>\n    <tr>\n      <th>948</th>\n      <td>77</td>\n      <td>1</td>\n    </tr>\n    <tr>\n      <th>3583</th>\n      <td>101</td>\n      <td>2</td>\n    </tr>\n    <tr>\n      <th>2377</th>\n      <td>67</td>\n      <td>2</td>\n    </tr>\n    <tr>\n      <th>1453</th>\n      <td>230</td>\n      <td>2</td>\n    </tr>\n  </tbody>\n</table>\n</div>"
     },
     "execution_count": 90,
     "metadata": {},
     "output_type": "execute_result"
    }
   ],
   "source": [
    "predict_rank(EBMReg, job)"
   ],
   "metadata": {
    "collapsed": false,
    "ExecuteTime": {
     "end_time": "2023-10-29T18:17:48.359456200Z",
     "start_time": "2023-10-29T18:17:47.913418100Z"
    }
   },
   "id": "bb40fd6073486675"
  },
  {
   "cell_type": "markdown",
   "source": [
    "# FIGS Classifier"
   ],
   "metadata": {
    "collapsed": false
   },
   "id": "dd3b12d91c390f7c"
  },
  {
   "cell_type": "code",
   "execution_count": 91,
   "outputs": [
    {
     "data": {
      "text/plain": "      kId  labels\n91     52       1\n3583  101       2\n3839   17       1\n3817  206       1\n3816   61       2\n3693   93       2\n3691   24       1\n3684  242       1\n3649  222       1\n3648  183       2\n3643  232       1\n3633   70       1\n3617   82       2\n3444  239       2\n3986   19       1",
      "text/html": "<div>\n<style scoped>\n    .dataframe tbody tr th:only-of-type {\n        vertical-align: middle;\n    }\n\n    .dataframe tbody tr th {\n        vertical-align: top;\n    }\n\n    .dataframe thead th {\n        text-align: right;\n    }\n</style>\n<table border=\"1\" class=\"dataframe\">\n  <thead>\n    <tr style=\"text-align: right;\">\n      <th></th>\n      <th>kId</th>\n      <th>labels</th>\n    </tr>\n  </thead>\n  <tbody>\n    <tr>\n      <th>91</th>\n      <td>52</td>\n      <td>1</td>\n    </tr>\n    <tr>\n      <th>3583</th>\n      <td>101</td>\n      <td>2</td>\n    </tr>\n    <tr>\n      <th>3839</th>\n      <td>17</td>\n      <td>1</td>\n    </tr>\n    <tr>\n      <th>3817</th>\n      <td>206</td>\n      <td>1</td>\n    </tr>\n    <tr>\n      <th>3816</th>\n      <td>61</td>\n      <td>2</td>\n    </tr>\n    <tr>\n      <th>3693</th>\n      <td>93</td>\n      <td>2</td>\n    </tr>\n    <tr>\n      <th>3691</th>\n      <td>24</td>\n      <td>1</td>\n    </tr>\n    <tr>\n      <th>3684</th>\n      <td>242</td>\n      <td>1</td>\n    </tr>\n    <tr>\n      <th>3649</th>\n      <td>222</td>\n      <td>1</td>\n    </tr>\n    <tr>\n      <th>3648</th>\n      <td>183</td>\n      <td>2</td>\n    </tr>\n    <tr>\n      <th>3643</th>\n      <td>232</td>\n      <td>1</td>\n    </tr>\n    <tr>\n      <th>3633</th>\n      <td>70</td>\n      <td>1</td>\n    </tr>\n    <tr>\n      <th>3617</th>\n      <td>82</td>\n      <td>2</td>\n    </tr>\n    <tr>\n      <th>3444</th>\n      <td>239</td>\n      <td>2</td>\n    </tr>\n    <tr>\n      <th>3986</th>\n      <td>19</td>\n      <td>1</td>\n    </tr>\n  </tbody>\n</table>\n</div>"
     },
     "execution_count": 91,
     "metadata": {},
     "output_type": "execute_result"
    }
   ],
   "source": [
    "predict_rank(FIGSClass, job)"
   ],
   "metadata": {
    "collapsed": false,
    "ExecuteTime": {
     "end_time": "2023-10-29T18:17:48.362424900Z",
     "start_time": "2023-10-29T18:17:47.925906900Z"
    }
   },
   "id": "c6b201b69049c95d"
  },
  {
   "cell_type": "markdown",
   "source": [
    "# EBM Classifier"
   ],
   "metadata": {
    "collapsed": false
   },
   "id": "8758b3d9743b8a20"
  },
  {
   "cell_type": "code",
   "execution_count": 92,
   "outputs": [
    {
     "data": {
      "text/plain": "      kId  labels\n171   256       3\n948    77       1\n2712  194       2\n3816   61       2\n1453  230       2\n2259  281       2\n2307  151       2\n3583  101       2\n902   265       1\n2635   34       2\n1729  133       1\n4808  117       3\n2839  228       3\n162   260       2\n3419  284       1",
      "text/html": "<div>\n<style scoped>\n    .dataframe tbody tr th:only-of-type {\n        vertical-align: middle;\n    }\n\n    .dataframe tbody tr th {\n        vertical-align: top;\n    }\n\n    .dataframe thead th {\n        text-align: right;\n    }\n</style>\n<table border=\"1\" class=\"dataframe\">\n  <thead>\n    <tr style=\"text-align: right;\">\n      <th></th>\n      <th>kId</th>\n      <th>labels</th>\n    </tr>\n  </thead>\n  <tbody>\n    <tr>\n      <th>171</th>\n      <td>256</td>\n      <td>3</td>\n    </tr>\n    <tr>\n      <th>948</th>\n      <td>77</td>\n      <td>1</td>\n    </tr>\n    <tr>\n      <th>2712</th>\n      <td>194</td>\n      <td>2</td>\n    </tr>\n    <tr>\n      <th>3816</th>\n      <td>61</td>\n      <td>2</td>\n    </tr>\n    <tr>\n      <th>1453</th>\n      <td>230</td>\n      <td>2</td>\n    </tr>\n    <tr>\n      <th>2259</th>\n      <td>281</td>\n      <td>2</td>\n    </tr>\n    <tr>\n      <th>2307</th>\n      <td>151</td>\n      <td>2</td>\n    </tr>\n    <tr>\n      <th>3583</th>\n      <td>101</td>\n      <td>2</td>\n    </tr>\n    <tr>\n      <th>902</th>\n      <td>265</td>\n      <td>1</td>\n    </tr>\n    <tr>\n      <th>2635</th>\n      <td>34</td>\n      <td>2</td>\n    </tr>\n    <tr>\n      <th>1729</th>\n      <td>133</td>\n      <td>1</td>\n    </tr>\n    <tr>\n      <th>4808</th>\n      <td>117</td>\n      <td>3</td>\n    </tr>\n    <tr>\n      <th>2839</th>\n      <td>228</td>\n      <td>3</td>\n    </tr>\n    <tr>\n      <th>162</th>\n      <td>260</td>\n      <td>2</td>\n    </tr>\n    <tr>\n      <th>3419</th>\n      <td>284</td>\n      <td>1</td>\n    </tr>\n  </tbody>\n</table>\n</div>"
     },
     "execution_count": 92,
     "metadata": {},
     "output_type": "execute_result"
    }
   ],
   "source": [
    "predict_rank(EBMClass, job)"
   ],
   "metadata": {
    "collapsed": false,
    "ExecuteTime": {
     "end_time": "2023-10-29T18:17:48.362424900Z",
     "start_time": "2023-10-29T18:17:47.937155700Z"
    }
   },
   "id": "758d57d753207ee6"
  }
 ],
 "metadata": {
  "kernelspec": {
   "display_name": "Python 3",
   "language": "python",
   "name": "python3"
  },
  "language_info": {
   "codemirror_mode": {
    "name": "ipython",
    "version": 2
   },
   "file_extension": ".py",
   "mimetype": "text/x-python",
   "name": "python",
   "nbconvert_exporter": "python",
   "pygments_lexer": "ipython2",
   "version": "2.7.6"
  }
 },
 "nbformat": 4,
 "nbformat_minor": 5
}
