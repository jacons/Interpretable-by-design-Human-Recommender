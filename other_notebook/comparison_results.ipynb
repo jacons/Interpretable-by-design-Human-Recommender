{
 "cells": [
  {
   "cell_type": "code",
   "execution_count": null,
   "outputs": [],
   "source": [
    "import pandas as pd\n",
    "import numpy as np\n",
    "\n",
    "from Utils.Utils import GridSearch as Gs\n",
    "from pandas import DataFrame"
   ],
   "metadata": {
    "collapsed": false
   },
   "id": "9e1a4e2f42a3fcbe"
  },
  {
   "cell_type": "code",
   "execution_count": null,
   "id": "initial_id",
   "metadata": {
    "collapsed": true
   },
   "outputs": [],
   "source": [
    "LGBMRanker = Gs.load_model(name=\"../BlackBox/lmart/saved_models/LGBMRanker_unbalanced\")\n",
    "LGBMRanker_balanced = Gs.load_model(name=\"../BlackBox/lmart/saved_models/LGBMRanker_balanced\")"
   ]
  },
  {
   "cell_type": "code",
   "execution_count": null,
   "outputs": [],
   "source": [
    "FIGSReg = Gs.load_model(name=\"../GlassBox/figs/saved_models/FIGSReg_unbalanced\")\n",
    "FIGSReg_balanced = Gs.load_model(name=\"../BlackBox/figs/saved_models/FIGSReg_balanced\")"
   ],
   "metadata": {
    "collapsed": false
   },
   "id": "dfaf3f0d2ceb79a6"
  },
  {
   "cell_type": "code",
   "execution_count": null,
   "outputs": [],
   "source": [
    "EBMReg = Gs.load_model(name=\"../GlassBox/ebm/saved_models/EBMReg_unbalanced\")\n",
    "EBMReg_balanced = Gs.load_model(name=\"../BlackBox/ebm/saved_models/EBMReg_balanced\")"
   ],
   "metadata": {
    "collapsed": false
   },
   "id": "c64bbb8c35ba6679"
  },
  {
   "cell_type": "code",
   "execution_count": null,
   "outputs": [],
   "source": [
    "def predict_rank(model, X:DataFrame, top_k:int=15):\n",
    "    y_pred = model.predict(np.asarray(X.iloc[:,2:13].values))\n",
    "    y_pred = pd.DataFrame(y_pred, index=X.index, columns=[\"lambdas\"])\n",
    "    dt_final = pd.merge(features, y_pred, left_index=True, right_index=True)\n",
    "    dt_final.sort_values(\"lambdas\",ascending=False)[[\"kId\",\"labels\"]].head(top_k)"
   ],
   "metadata": {
    "collapsed": false
   },
   "id": "96f9afd3727798a6"
  },
  {
   "cell_type": "code",
   "execution_count": null,
   "outputs": [],
   "source": [],
   "metadata": {
    "collapsed": false
   },
   "id": "6b08d2059f674e35"
  },
  {
   "cell_type": "code",
   "execution_count": null,
   "outputs": [],
   "source": [
    "features = gs.test[gs.test[\"qId\"]==85]"
   ],
   "metadata": {
    "collapsed": false
   },
   "id": "c94f2fb545842361"
  }
 ],
 "metadata": {
  "kernelspec": {
   "display_name": "Python 3",
   "language": "python",
   "name": "python3"
  },
  "language_info": {
   "codemirror_mode": {
    "name": "ipython",
    "version": 2
   },
   "file_extension": ".py",
   "mimetype": "text/x-python",
   "name": "python",
   "nbconvert_exporter": "python",
   "pygments_lexer": "ipython2",
   "version": "2.7.6"
  }
 },
 "nbformat": 4,
 "nbformat_minor": 5
}
