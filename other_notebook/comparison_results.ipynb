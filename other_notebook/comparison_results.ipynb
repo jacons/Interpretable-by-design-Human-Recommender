{
 "cells": [
  {
   "cell_type": "code",
   "execution_count": 1,
   "outputs": [],
   "source": [
    "import pandas as pd\n",
    "import numpy as np\n",
    "\n",
    "from Models.grid_search_utils import GridSearch as Gs\n",
    "from pandas import DataFrame"
   ],
   "metadata": {
    "collapsed": false,
    "ExecuteTime": {
     "end_time": "2023-11-21T17:03:20.503245300Z",
     "start_time": "2023-11-21T17:03:19.236397400Z"
    }
   },
   "id": "9e1a4e2f42a3fcbe"
  },
  {
   "cell_type": "code",
   "execution_count": 2,
   "id": "initial_id",
   "metadata": {
    "collapsed": true,
    "ExecuteTime": {
     "end_time": "2023-11-21T17:03:21.097727200Z",
     "start_time": "2023-11-21T17:03:20.507258800Z"
    }
   },
   "outputs": [],
   "source": [
    "LGBMRanker = Gs.load_model(name=\"../Models/BlackBox/lmart/saved_models/LGBMRanker\")"
   ]
  },
  {
   "cell_type": "code",
   "execution_count": 3,
   "outputs": [],
   "source": [
    "FIGSReg = Gs.load_model(name=\"../Models/GlassBox/figs/saved_models/FIGSReg\")"
   ],
   "metadata": {
    "collapsed": false,
    "ExecuteTime": {
     "end_time": "2023-11-21T17:03:21.793235900Z",
     "start_time": "2023-11-21T17:03:21.101744300Z"
    }
   },
   "id": "dfaf3f0d2ceb79a6"
  },
  {
   "cell_type": "code",
   "execution_count": 4,
   "outputs": [],
   "source": [
    "EBMReg = Gs.load_model(name=\"../Models/GlassBox/ebm/saved_models/EBMReg\")"
   ],
   "metadata": {
    "collapsed": false,
    "ExecuteTime": {
     "end_time": "2023-11-21T17:03:21.834278200Z",
     "start_time": "2023-11-21T17:03:21.798386800Z"
    }
   },
   "id": "c64bbb8c35ba6679"
  },
  {
   "cell_type": "code",
   "execution_count": 5,
   "outputs": [],
   "source": [
    "def predict_rank(model, X:DataFrame, top_k:int=15):\n",
    "    y_pred = model.predict(np.asarray(X.iloc[:,5:].values))\n",
    "    y_pred = pd.DataFrame(y_pred, index=X.index, columns=[\"lambdas\"])\n",
    "    dt_final = pd.merge(X, y_pred, left_index=True, right_index=True)\n",
    "    return dt_final.sort_values(\"lambdas\",ascending=False)[[\"kId\",\"lambdas\",\"w_score\",\"relevance\"]].head(top_k)"
   ],
   "metadata": {
    "collapsed": false,
    "ExecuteTime": {
     "end_time": "2023-11-21T17:03:21.848364100Z",
     "start_time": "2023-11-21T17:03:21.838292300Z"
    }
   },
   "id": "96f9afd3727798a6"
  },
  {
   "cell_type": "code",
   "execution_count": 6,
   "outputs": [],
   "source": [
    "test_set = pd.read_csv(\"../outputs/scores/0_dataset_ts.csv\")"
   ],
   "metadata": {
    "collapsed": false,
    "ExecuteTime": {
     "end_time": "2023-11-21T17:03:21.864729300Z",
     "start_time": "2023-11-21T17:03:21.840348500Z"
    }
   },
   "id": "6b08d2059f674e35"
  },
  {
   "cell_type": "code",
   "execution_count": 7,
   "outputs": [
    {
     "data": {
      "text/plain": "      qId   kId     score   w_score  relevance  fitness_edu_basic  \\\n72     34  2737  6.847489  0.702111          5                1.0   \n78     33  2659  6.213733  0.667671          5                1.0   \n101    88  6934  6.769328  0.681742          5                1.0   \n109    15  1285  5.640950  0.673379          5                1.0   \n131     5   470  6.652765  0.701582          5                1.0   \n...   ...   ...       ...       ...        ...                ...   \n3053   51  4078  6.142267  0.674124          5                1.0   \n3070   89  7052  7.388941  0.683669          5                1.0   \n3083    5   432  7.206224  0.797179          5                1.0   \n3114   28  2241  7.578540  0.713043          5                1.0   \n3116   29  2332  8.157460  0.681181          5                1.0   \n\n      fitness_edu_bonus  fitness_city  fitness_age  fitness_exp_basic  \\\n72                  0.0      0.829537          1.0                1.0   \n78                  0.0      0.600943          1.0                1.0   \n101                 0.0      0.557738          1.0                1.0   \n109                 0.0      0.632364          1.0                0.0   \n131                 0.0      0.519246          1.0                1.0   \n...                 ...           ...          ...                ...   \n3053                0.0      0.285153          1.0                1.0   \n3070                0.0      0.999215          1.0                1.0   \n3083                0.0      0.886881          1.0                1.0   \n3114                0.0      0.699921          1.0                1.0   \n3116                0.0      0.945797          1.0                1.0   \n\n      fitness_exp_bonus  fitness_lang_basic  fitness_lang_bonus  \\\n72                  0.0                0.50                 0.3   \n78                  0.0                1.00                 0.0   \n101                 0.0                1.00                 0.0   \n109                 0.0                1.00                 0.0   \n131                 0.0                1.00                 0.0   \n...                 ...                 ...                 ...   \n3053                0.0                0.85                 0.0   \n3070                0.5                0.85                 0.0   \n3083                0.0                0.85                 0.0   \n3114                0.5                1.00                 0.0   \n3116                0.5                1.00                 0.3   \n\n      fitness_comp_basic  fitness_comp_bonus  fitness_know_basic  \\\n72              1.000000            0.003667            0.714286   \n78              0.592790            0.000000            0.520000   \n101             1.000000            0.031685            1.000000   \n109             1.000000            0.088936            0.515873   \n131             0.679322            0.263722            0.690476   \n...                  ...                 ...                 ...   \n3053            1.000000            0.000000            1.000000   \n3070            1.000000            0.022631            1.000000   \n3083            0.699839            0.269504            1.000000   \n3114            1.007971            0.034572            1.000000   \n3116            1.000000            0.035666            1.000000   \n\n      fitness_knowl_bonus  \n72               0.500000  \n78               0.500000  \n101              0.179905  \n109              0.403776  \n131              0.500000  \n...                   ...  \n3053             0.007114  \n3070             0.017096  \n3083             0.500000  \n3114             0.336075  \n3116             0.375996  \n\n[123 rows x 17 columns]",
      "text/html": "<div>\n<style scoped>\n    .dataframe tbody tr th:only-of-type {\n        vertical-align: middle;\n    }\n\n    .dataframe tbody tr th {\n        vertical-align: top;\n    }\n\n    .dataframe thead th {\n        text-align: right;\n    }\n</style>\n<table border=\"1\" class=\"dataframe\">\n  <thead>\n    <tr style=\"text-align: right;\">\n      <th></th>\n      <th>qId</th>\n      <th>kId</th>\n      <th>score</th>\n      <th>w_score</th>\n      <th>relevance</th>\n      <th>fitness_edu_basic</th>\n      <th>fitness_edu_bonus</th>\n      <th>fitness_city</th>\n      <th>fitness_age</th>\n      <th>fitness_exp_basic</th>\n      <th>fitness_exp_bonus</th>\n      <th>fitness_lang_basic</th>\n      <th>fitness_lang_bonus</th>\n      <th>fitness_comp_basic</th>\n      <th>fitness_comp_bonus</th>\n      <th>fitness_know_basic</th>\n      <th>fitness_knowl_bonus</th>\n    </tr>\n  </thead>\n  <tbody>\n    <tr>\n      <th>72</th>\n      <td>34</td>\n      <td>2737</td>\n      <td>6.847489</td>\n      <td>0.702111</td>\n      <td>5</td>\n      <td>1.0</td>\n      <td>0.0</td>\n      <td>0.829537</td>\n      <td>1.0</td>\n      <td>1.0</td>\n      <td>0.0</td>\n      <td>0.50</td>\n      <td>0.3</td>\n      <td>1.000000</td>\n      <td>0.003667</td>\n      <td>0.714286</td>\n      <td>0.500000</td>\n    </tr>\n    <tr>\n      <th>78</th>\n      <td>33</td>\n      <td>2659</td>\n      <td>6.213733</td>\n      <td>0.667671</td>\n      <td>5</td>\n      <td>1.0</td>\n      <td>0.0</td>\n      <td>0.600943</td>\n      <td>1.0</td>\n      <td>1.0</td>\n      <td>0.0</td>\n      <td>1.00</td>\n      <td>0.0</td>\n      <td>0.592790</td>\n      <td>0.000000</td>\n      <td>0.520000</td>\n      <td>0.500000</td>\n    </tr>\n    <tr>\n      <th>101</th>\n      <td>88</td>\n      <td>6934</td>\n      <td>6.769328</td>\n      <td>0.681742</td>\n      <td>5</td>\n      <td>1.0</td>\n      <td>0.0</td>\n      <td>0.557738</td>\n      <td>1.0</td>\n      <td>1.0</td>\n      <td>0.0</td>\n      <td>1.00</td>\n      <td>0.0</td>\n      <td>1.000000</td>\n      <td>0.031685</td>\n      <td>1.000000</td>\n      <td>0.179905</td>\n    </tr>\n    <tr>\n      <th>109</th>\n      <td>15</td>\n      <td>1285</td>\n      <td>5.640950</td>\n      <td>0.673379</td>\n      <td>5</td>\n      <td>1.0</td>\n      <td>0.0</td>\n      <td>0.632364</td>\n      <td>1.0</td>\n      <td>0.0</td>\n      <td>0.0</td>\n      <td>1.00</td>\n      <td>0.0</td>\n      <td>1.000000</td>\n      <td>0.088936</td>\n      <td>0.515873</td>\n      <td>0.403776</td>\n    </tr>\n    <tr>\n      <th>131</th>\n      <td>5</td>\n      <td>470</td>\n      <td>6.652765</td>\n      <td>0.701582</td>\n      <td>5</td>\n      <td>1.0</td>\n      <td>0.0</td>\n      <td>0.519246</td>\n      <td>1.0</td>\n      <td>1.0</td>\n      <td>0.0</td>\n      <td>1.00</td>\n      <td>0.0</td>\n      <td>0.679322</td>\n      <td>0.263722</td>\n      <td>0.690476</td>\n      <td>0.500000</td>\n    </tr>\n    <tr>\n      <th>...</th>\n      <td>...</td>\n      <td>...</td>\n      <td>...</td>\n      <td>...</td>\n      <td>...</td>\n      <td>...</td>\n      <td>...</td>\n      <td>...</td>\n      <td>...</td>\n      <td>...</td>\n      <td>...</td>\n      <td>...</td>\n      <td>...</td>\n      <td>...</td>\n      <td>...</td>\n      <td>...</td>\n      <td>...</td>\n    </tr>\n    <tr>\n      <th>3053</th>\n      <td>51</td>\n      <td>4078</td>\n      <td>6.142267</td>\n      <td>0.674124</td>\n      <td>5</td>\n      <td>1.0</td>\n      <td>0.0</td>\n      <td>0.285153</td>\n      <td>1.0</td>\n      <td>1.0</td>\n      <td>0.0</td>\n      <td>0.85</td>\n      <td>0.0</td>\n      <td>1.000000</td>\n      <td>0.000000</td>\n      <td>1.000000</td>\n      <td>0.007114</td>\n    </tr>\n    <tr>\n      <th>3070</th>\n      <td>89</td>\n      <td>7052</td>\n      <td>7.388941</td>\n      <td>0.683669</td>\n      <td>5</td>\n      <td>1.0</td>\n      <td>0.0</td>\n      <td>0.999215</td>\n      <td>1.0</td>\n      <td>1.0</td>\n      <td>0.5</td>\n      <td>0.85</td>\n      <td>0.0</td>\n      <td>1.000000</td>\n      <td>0.022631</td>\n      <td>1.000000</td>\n      <td>0.017096</td>\n    </tr>\n    <tr>\n      <th>3083</th>\n      <td>5</td>\n      <td>432</td>\n      <td>7.206224</td>\n      <td>0.797179</td>\n      <td>5</td>\n      <td>1.0</td>\n      <td>0.0</td>\n      <td>0.886881</td>\n      <td>1.0</td>\n      <td>1.0</td>\n      <td>0.0</td>\n      <td>0.85</td>\n      <td>0.0</td>\n      <td>0.699839</td>\n      <td>0.269504</td>\n      <td>1.000000</td>\n      <td>0.500000</td>\n    </tr>\n    <tr>\n      <th>3114</th>\n      <td>28</td>\n      <td>2241</td>\n      <td>7.578540</td>\n      <td>0.713043</td>\n      <td>5</td>\n      <td>1.0</td>\n      <td>0.0</td>\n      <td>0.699921</td>\n      <td>1.0</td>\n      <td>1.0</td>\n      <td>0.5</td>\n      <td>1.00</td>\n      <td>0.0</td>\n      <td>1.007971</td>\n      <td>0.034572</td>\n      <td>1.000000</td>\n      <td>0.336075</td>\n    </tr>\n    <tr>\n      <th>3116</th>\n      <td>29</td>\n      <td>2332</td>\n      <td>8.157460</td>\n      <td>0.681181</td>\n      <td>5</td>\n      <td>1.0</td>\n      <td>0.0</td>\n      <td>0.945797</td>\n      <td>1.0</td>\n      <td>1.0</td>\n      <td>0.5</td>\n      <td>1.00</td>\n      <td>0.3</td>\n      <td>1.000000</td>\n      <td>0.035666</td>\n      <td>1.000000</td>\n      <td>0.375996</td>\n    </tr>\n  </tbody>\n</table>\n<p>123 rows × 17 columns</p>\n</div>"
     },
     "execution_count": 7,
     "metadata": {},
     "output_type": "execute_result"
    }
   ],
   "source": [
    "test_set[test_set[\"relevance\"]==5]"
   ],
   "metadata": {
    "collapsed": false,
    "ExecuteTime": {
     "end_time": "2023-11-21T17:03:21.886091700Z",
     "start_time": "2023-11-21T17:03:21.860733300Z"
    }
   },
   "id": "de18515476ef2fc3"
  },
  {
   "cell_type": "code",
   "execution_count": 8,
   "outputs": [],
   "source": [
    "job = test_set[test_set[\"qId\"]==88]"
   ],
   "metadata": {
    "collapsed": false,
    "ExecuteTime": {
     "end_time": "2023-11-21T17:03:21.898197600Z",
     "start_time": "2023-11-21T17:03:21.887904100Z"
    }
   },
   "id": "9c0b923d4ed9c7a2"
  },
  {
   "cell_type": "markdown",
   "source": [
    "# Perfect rank"
   ],
   "metadata": {
    "collapsed": false
   },
   "id": "344779e5ad906faa"
  },
  {
   "cell_type": "code",
   "execution_count": 9,
   "outputs": [
    {
     "data": {
      "text/plain": "       kId   w_score  relevance\n548   6940  0.709451          5\n371   6927  0.684909          5\n1788  6956  0.684429          5\n101   6934  0.681742          5\n2322  6955  0.657881          4\n2991  6962  0.637590          4\n322   6967  0.636569          4\n1642  6938  0.617930          4\n1662  6946  0.599907          4\n150   6943  0.591644          4\n398   6954  0.589667          4\n1206  6960  0.588671          4\n316   6923  0.580204          4\n2342  6957  0.576405          4\n2615  6951  0.565718          4",
      "text/html": "<div>\n<style scoped>\n    .dataframe tbody tr th:only-of-type {\n        vertical-align: middle;\n    }\n\n    .dataframe tbody tr th {\n        vertical-align: top;\n    }\n\n    .dataframe thead th {\n        text-align: right;\n    }\n</style>\n<table border=\"1\" class=\"dataframe\">\n  <thead>\n    <tr style=\"text-align: right;\">\n      <th></th>\n      <th>kId</th>\n      <th>w_score</th>\n      <th>relevance</th>\n    </tr>\n  </thead>\n  <tbody>\n    <tr>\n      <th>548</th>\n      <td>6940</td>\n      <td>0.709451</td>\n      <td>5</td>\n    </tr>\n    <tr>\n      <th>371</th>\n      <td>6927</td>\n      <td>0.684909</td>\n      <td>5</td>\n    </tr>\n    <tr>\n      <th>1788</th>\n      <td>6956</td>\n      <td>0.684429</td>\n      <td>5</td>\n    </tr>\n    <tr>\n      <th>101</th>\n      <td>6934</td>\n      <td>0.681742</td>\n      <td>5</td>\n    </tr>\n    <tr>\n      <th>2322</th>\n      <td>6955</td>\n      <td>0.657881</td>\n      <td>4</td>\n    </tr>\n    <tr>\n      <th>2991</th>\n      <td>6962</td>\n      <td>0.637590</td>\n      <td>4</td>\n    </tr>\n    <tr>\n      <th>322</th>\n      <td>6967</td>\n      <td>0.636569</td>\n      <td>4</td>\n    </tr>\n    <tr>\n      <th>1642</th>\n      <td>6938</td>\n      <td>0.617930</td>\n      <td>4</td>\n    </tr>\n    <tr>\n      <th>1662</th>\n      <td>6946</td>\n      <td>0.599907</td>\n      <td>4</td>\n    </tr>\n    <tr>\n      <th>150</th>\n      <td>6943</td>\n      <td>0.591644</td>\n      <td>4</td>\n    </tr>\n    <tr>\n      <th>398</th>\n      <td>6954</td>\n      <td>0.589667</td>\n      <td>4</td>\n    </tr>\n    <tr>\n      <th>1206</th>\n      <td>6960</td>\n      <td>0.588671</td>\n      <td>4</td>\n    </tr>\n    <tr>\n      <th>316</th>\n      <td>6923</td>\n      <td>0.580204</td>\n      <td>4</td>\n    </tr>\n    <tr>\n      <th>2342</th>\n      <td>6957</td>\n      <td>0.576405</td>\n      <td>4</td>\n    </tr>\n    <tr>\n      <th>2615</th>\n      <td>6951</td>\n      <td>0.565718</td>\n      <td>4</td>\n    </tr>\n  </tbody>\n</table>\n</div>"
     },
     "execution_count": 9,
     "metadata": {},
     "output_type": "execute_result"
    }
   ],
   "source": [
    "job[[\"kId\",\"w_score\",\"relevance\"]].sort_values(\"w_score\",ascending=False).head(15)"
   ],
   "metadata": {
    "collapsed": false,
    "ExecuteTime": {
     "end_time": "2023-11-21T17:03:21.914762400Z",
     "start_time": "2023-11-21T17:03:21.894193800Z"
    }
   },
   "id": "c94f2fb545842361"
  },
  {
   "cell_type": "markdown",
   "source": [
    "# LGBMRanker"
   ],
   "metadata": {
    "collapsed": false
   },
   "id": "c404c77f20936b5b"
  },
  {
   "cell_type": "code",
   "execution_count": 10,
   "outputs": [
    {
     "data": {
      "text/plain": "       kId   lambdas   w_score  relevance\n548   6940  4.274854  0.709451          5\n2322  6955  4.125146  0.657881          4\n101   6934  3.922214  0.681742          5\n2991  6962  3.692718  0.637590          4\n1206  6960  3.506620  0.588671          4\n371   6927  3.495735  0.684909          5\n150   6943  3.424075  0.591644          4\n1788  6956  2.483830  0.684429          5\n2890  6933  2.148401  0.514181          3\n316   6923  1.989241  0.580204          4\n1642  6938  1.754529  0.617930          4\n1662  6946  1.620092  0.599907          4\n1555  6929  1.176325  0.500214          3\n329   6963  1.160174  0.551940          4\n897   6944  1.064309  0.563534          4",
      "text/html": "<div>\n<style scoped>\n    .dataframe tbody tr th:only-of-type {\n        vertical-align: middle;\n    }\n\n    .dataframe tbody tr th {\n        vertical-align: top;\n    }\n\n    .dataframe thead th {\n        text-align: right;\n    }\n</style>\n<table border=\"1\" class=\"dataframe\">\n  <thead>\n    <tr style=\"text-align: right;\">\n      <th></th>\n      <th>kId</th>\n      <th>lambdas</th>\n      <th>w_score</th>\n      <th>relevance</th>\n    </tr>\n  </thead>\n  <tbody>\n    <tr>\n      <th>548</th>\n      <td>6940</td>\n      <td>4.274854</td>\n      <td>0.709451</td>\n      <td>5</td>\n    </tr>\n    <tr>\n      <th>2322</th>\n      <td>6955</td>\n      <td>4.125146</td>\n      <td>0.657881</td>\n      <td>4</td>\n    </tr>\n    <tr>\n      <th>101</th>\n      <td>6934</td>\n      <td>3.922214</td>\n      <td>0.681742</td>\n      <td>5</td>\n    </tr>\n    <tr>\n      <th>2991</th>\n      <td>6962</td>\n      <td>3.692718</td>\n      <td>0.637590</td>\n      <td>4</td>\n    </tr>\n    <tr>\n      <th>1206</th>\n      <td>6960</td>\n      <td>3.506620</td>\n      <td>0.588671</td>\n      <td>4</td>\n    </tr>\n    <tr>\n      <th>371</th>\n      <td>6927</td>\n      <td>3.495735</td>\n      <td>0.684909</td>\n      <td>5</td>\n    </tr>\n    <tr>\n      <th>150</th>\n      <td>6943</td>\n      <td>3.424075</td>\n      <td>0.591644</td>\n      <td>4</td>\n    </tr>\n    <tr>\n      <th>1788</th>\n      <td>6956</td>\n      <td>2.483830</td>\n      <td>0.684429</td>\n      <td>5</td>\n    </tr>\n    <tr>\n      <th>2890</th>\n      <td>6933</td>\n      <td>2.148401</td>\n      <td>0.514181</td>\n      <td>3</td>\n    </tr>\n    <tr>\n      <th>316</th>\n      <td>6923</td>\n      <td>1.989241</td>\n      <td>0.580204</td>\n      <td>4</td>\n    </tr>\n    <tr>\n      <th>1642</th>\n      <td>6938</td>\n      <td>1.754529</td>\n      <td>0.617930</td>\n      <td>4</td>\n    </tr>\n    <tr>\n      <th>1662</th>\n      <td>6946</td>\n      <td>1.620092</td>\n      <td>0.599907</td>\n      <td>4</td>\n    </tr>\n    <tr>\n      <th>1555</th>\n      <td>6929</td>\n      <td>1.176325</td>\n      <td>0.500214</td>\n      <td>3</td>\n    </tr>\n    <tr>\n      <th>329</th>\n      <td>6963</td>\n      <td>1.160174</td>\n      <td>0.551940</td>\n      <td>4</td>\n    </tr>\n    <tr>\n      <th>897</th>\n      <td>6944</td>\n      <td>1.064309</td>\n      <td>0.563534</td>\n      <td>4</td>\n    </tr>\n  </tbody>\n</table>\n</div>"
     },
     "execution_count": 10,
     "metadata": {},
     "output_type": "execute_result"
    }
   ],
   "source": [
    "predict_rank(LGBMRanker, job)"
   ],
   "metadata": {
    "collapsed": false,
    "ExecuteTime": {
     "end_time": "2023-11-21T17:03:21.945482200Z",
     "start_time": "2023-11-21T17:03:21.906758Z"
    }
   },
   "id": "3518d7463c5fc103"
  },
  {
   "cell_type": "markdown",
   "source": [
    "# EBM Regressor"
   ],
   "metadata": {
    "collapsed": false
   },
   "id": "19e514db42d9b803"
  },
  {
   "cell_type": "code",
   "execution_count": 11,
   "outputs": [
    {
     "data": {
      "text/plain": "       kId   lambdas   w_score  relevance\n548   6940  0.665539  0.709451          5\n2322  6955  0.644997  0.657881          4\n150   6943  0.640520  0.591644          4\n101   6934  0.638325  0.681742          5\n371   6927  0.629143  0.684909          5\n2991  6962  0.625612  0.637590          4\n329   6963  0.606195  0.551940          4\n1206  6960  0.600545  0.588671          4\n1662  6946  0.598408  0.599907          4\n1788  6956  0.598177  0.684429          5\n1642  6938  0.586926  0.617930          4\n2890  6933  0.575877  0.514181          3\n316   6923  0.572373  0.580204          4\n897   6944  0.572174  0.563534          4\n464   6976  0.572115  0.544521          4",
      "text/html": "<div>\n<style scoped>\n    .dataframe tbody tr th:only-of-type {\n        vertical-align: middle;\n    }\n\n    .dataframe tbody tr th {\n        vertical-align: top;\n    }\n\n    .dataframe thead th {\n        text-align: right;\n    }\n</style>\n<table border=\"1\" class=\"dataframe\">\n  <thead>\n    <tr style=\"text-align: right;\">\n      <th></th>\n      <th>kId</th>\n      <th>lambdas</th>\n      <th>w_score</th>\n      <th>relevance</th>\n    </tr>\n  </thead>\n  <tbody>\n    <tr>\n      <th>548</th>\n      <td>6940</td>\n      <td>0.665539</td>\n      <td>0.709451</td>\n      <td>5</td>\n    </tr>\n    <tr>\n      <th>2322</th>\n      <td>6955</td>\n      <td>0.644997</td>\n      <td>0.657881</td>\n      <td>4</td>\n    </tr>\n    <tr>\n      <th>150</th>\n      <td>6943</td>\n      <td>0.640520</td>\n      <td>0.591644</td>\n      <td>4</td>\n    </tr>\n    <tr>\n      <th>101</th>\n      <td>6934</td>\n      <td>0.638325</td>\n      <td>0.681742</td>\n      <td>5</td>\n    </tr>\n    <tr>\n      <th>371</th>\n      <td>6927</td>\n      <td>0.629143</td>\n      <td>0.684909</td>\n      <td>5</td>\n    </tr>\n    <tr>\n      <th>2991</th>\n      <td>6962</td>\n      <td>0.625612</td>\n      <td>0.637590</td>\n      <td>4</td>\n    </tr>\n    <tr>\n      <th>329</th>\n      <td>6963</td>\n      <td>0.606195</td>\n      <td>0.551940</td>\n      <td>4</td>\n    </tr>\n    <tr>\n      <th>1206</th>\n      <td>6960</td>\n      <td>0.600545</td>\n      <td>0.588671</td>\n      <td>4</td>\n    </tr>\n    <tr>\n      <th>1662</th>\n      <td>6946</td>\n      <td>0.598408</td>\n      <td>0.599907</td>\n      <td>4</td>\n    </tr>\n    <tr>\n      <th>1788</th>\n      <td>6956</td>\n      <td>0.598177</td>\n      <td>0.684429</td>\n      <td>5</td>\n    </tr>\n    <tr>\n      <th>1642</th>\n      <td>6938</td>\n      <td>0.586926</td>\n      <td>0.617930</td>\n      <td>4</td>\n    </tr>\n    <tr>\n      <th>2890</th>\n      <td>6933</td>\n      <td>0.575877</td>\n      <td>0.514181</td>\n      <td>3</td>\n    </tr>\n    <tr>\n      <th>316</th>\n      <td>6923</td>\n      <td>0.572373</td>\n      <td>0.580204</td>\n      <td>4</td>\n    </tr>\n    <tr>\n      <th>897</th>\n      <td>6944</td>\n      <td>0.572174</td>\n      <td>0.563534</td>\n      <td>4</td>\n    </tr>\n    <tr>\n      <th>464</th>\n      <td>6976</td>\n      <td>0.572115</td>\n      <td>0.544521</td>\n      <td>4</td>\n    </tr>\n  </tbody>\n</table>\n</div>"
     },
     "execution_count": 11,
     "metadata": {},
     "output_type": "execute_result"
    }
   ],
   "source": [
    "predict_rank(EBMReg, job)"
   ],
   "metadata": {
    "collapsed": false,
    "ExecuteTime": {
     "end_time": "2023-11-21T17:03:22.034149400Z",
     "start_time": "2023-11-21T17:03:21.924767Z"
    }
   },
   "id": "bb40fd6073486675"
  },
  {
   "cell_type": "markdown",
   "source": [
    "# FIGSRegressor"
   ],
   "metadata": {
    "collapsed": false
   },
   "id": "33895a0da2b8a377"
  },
  {
   "cell_type": "code",
   "execution_count": 12,
   "outputs": [
    {
     "data": {
      "text/plain": "       kId   lambdas   w_score  relevance\n548   6940  0.656423  0.709451          5\n2322  6955  0.644402  0.657881          4\n101   6934  0.641098  0.681742          5\n371   6927  0.641098  0.684909          5\n150   6943  0.641098  0.591644          4\n1206  6960  0.612034  0.588671          4\n2991  6962  0.612034  0.637590          4\n1788  6956  0.608779  0.684429          5\n1662  6946  0.602008  0.599907          4\n329   6963  0.595405  0.551940          4\n1642  6938  0.576411  0.617930          4\n897   6944  0.572944  0.563534          4\n464   6976  0.572944  0.544521          4\n316   6923  0.569639  0.580204          4\n322   6967  0.550061  0.636569          4",
      "text/html": "<div>\n<style scoped>\n    .dataframe tbody tr th:only-of-type {\n        vertical-align: middle;\n    }\n\n    .dataframe tbody tr th {\n        vertical-align: top;\n    }\n\n    .dataframe thead th {\n        text-align: right;\n    }\n</style>\n<table border=\"1\" class=\"dataframe\">\n  <thead>\n    <tr style=\"text-align: right;\">\n      <th></th>\n      <th>kId</th>\n      <th>lambdas</th>\n      <th>w_score</th>\n      <th>relevance</th>\n    </tr>\n  </thead>\n  <tbody>\n    <tr>\n      <th>548</th>\n      <td>6940</td>\n      <td>0.656423</td>\n      <td>0.709451</td>\n      <td>5</td>\n    </tr>\n    <tr>\n      <th>2322</th>\n      <td>6955</td>\n      <td>0.644402</td>\n      <td>0.657881</td>\n      <td>4</td>\n    </tr>\n    <tr>\n      <th>101</th>\n      <td>6934</td>\n      <td>0.641098</td>\n      <td>0.681742</td>\n      <td>5</td>\n    </tr>\n    <tr>\n      <th>371</th>\n      <td>6927</td>\n      <td>0.641098</td>\n      <td>0.684909</td>\n      <td>5</td>\n    </tr>\n    <tr>\n      <th>150</th>\n      <td>6943</td>\n      <td>0.641098</td>\n      <td>0.591644</td>\n      <td>4</td>\n    </tr>\n    <tr>\n      <th>1206</th>\n      <td>6960</td>\n      <td>0.612034</td>\n      <td>0.588671</td>\n      <td>4</td>\n    </tr>\n    <tr>\n      <th>2991</th>\n      <td>6962</td>\n      <td>0.612034</td>\n      <td>0.637590</td>\n      <td>4</td>\n    </tr>\n    <tr>\n      <th>1788</th>\n      <td>6956</td>\n      <td>0.608779</td>\n      <td>0.684429</td>\n      <td>5</td>\n    </tr>\n    <tr>\n      <th>1662</th>\n      <td>6946</td>\n      <td>0.602008</td>\n      <td>0.599907</td>\n      <td>4</td>\n    </tr>\n    <tr>\n      <th>329</th>\n      <td>6963</td>\n      <td>0.595405</td>\n      <td>0.551940</td>\n      <td>4</td>\n    </tr>\n    <tr>\n      <th>1642</th>\n      <td>6938</td>\n      <td>0.576411</td>\n      <td>0.617930</td>\n      <td>4</td>\n    </tr>\n    <tr>\n      <th>897</th>\n      <td>6944</td>\n      <td>0.572944</td>\n      <td>0.563534</td>\n      <td>4</td>\n    </tr>\n    <tr>\n      <th>464</th>\n      <td>6976</td>\n      <td>0.572944</td>\n      <td>0.544521</td>\n      <td>4</td>\n    </tr>\n    <tr>\n      <th>316</th>\n      <td>6923</td>\n      <td>0.569639</td>\n      <td>0.580204</td>\n      <td>4</td>\n    </tr>\n    <tr>\n      <th>322</th>\n      <td>6967</td>\n      <td>0.550061</td>\n      <td>0.636569</td>\n      <td>4</td>\n    </tr>\n  </tbody>\n</table>\n</div>"
     },
     "execution_count": 12,
     "metadata": {},
     "output_type": "execute_result"
    }
   ],
   "source": [
    "predict_rank(FIGSReg, job)"
   ],
   "metadata": {
    "collapsed": false,
    "ExecuteTime": {
     "end_time": "2023-11-21T17:03:22.062154600Z",
     "start_time": "2023-11-21T17:03:21.940841500Z"
    }
   },
   "id": "f6ca7401ee27a2c3"
  }
 ],
 "metadata": {
  "kernelspec": {
   "display_name": "Python 3",
   "language": "python",
   "name": "python3"
  },
  "language_info": {
   "codemirror_mode": {
    "name": "ipython",
    "version": 2
   },
   "file_extension": ".py",
   "mimetype": "text/x-python",
   "name": "python",
   "nbconvert_exporter": "python",
   "pygments_lexer": "ipython2",
   "version": "2.7.6"
  }
 },
 "nbformat": 4,
 "nbformat_minor": 5
}
