{
 "cells": [
  {
   "cell_type": "code",
   "execution_count": 2,
   "id": "initial_id",
   "metadata": {
    "collapsed": true,
    "ExecuteTime": {
     "end_time": "2023-10-29T15:23:52.723198500Z",
     "start_time": "2023-10-29T15:23:52.171193900Z"
    }
   },
   "outputs": [],
   "source": [
    "import pandas as pd"
   ]
  },
  {
   "cell_type": "code",
   "execution_count": 3,
   "outputs": [],
   "source": [
    "joboffer = pd.read_csv(\"../outputs/jobOffers.csv\")\n",
    "curricula = pd.read_csv(\"../outputs/curricula.csv\")\n",
    "scores = pd.read_csv(\"../outputs/balanced_scores.csv\")"
   ],
   "metadata": {
    "collapsed": false,
    "ExecuteTime": {
     "end_time": "2023-10-29T15:23:53.382262900Z",
     "start_time": "2023-10-29T15:23:53.263660500Z"
    }
   },
   "id": "9a542b39fc89427c"
  },
  {
   "cell_type": "code",
   "execution_count": 3,
   "outputs": [
    {
     "data": {
      "text/plain": "    qId             Job    Education             City   Skills0  \\\n15   15  Market analyst  Bachelor D.  Isola di Fondra  Forecast   \n\n                    Skills1           Skills2             Skills3  \\\n15  Analysis of competitors  Analysis of data  Analysis of trends   \n\n                     Skills4           Softskills0  ... AgeMin AgeMax  \\\n15  Strategies of the market  Customer orientation  ...     25     33   \n\n      Language0     Language1  Language2  Certificates YearExp Offered_Salary  \\\n15  French - C2  Spanish - A2          -           CFE       1          32500   \n\n   SmartWork Experience_abroad  \n15         0                 1  \n\n[1 rows x 24 columns]",
      "text/html": "<div>\n<style scoped>\n    .dataframe tbody tr th:only-of-type {\n        vertical-align: middle;\n    }\n\n    .dataframe tbody tr th {\n        vertical-align: top;\n    }\n\n    .dataframe thead th {\n        text-align: right;\n    }\n</style>\n<table border=\"1\" class=\"dataframe\">\n  <thead>\n    <tr style=\"text-align: right;\">\n      <th></th>\n      <th>qId</th>\n      <th>Job</th>\n      <th>Education</th>\n      <th>City</th>\n      <th>Skills0</th>\n      <th>Skills1</th>\n      <th>Skills2</th>\n      <th>Skills3</th>\n      <th>Skills4</th>\n      <th>Softskills0</th>\n      <th>...</th>\n      <th>AgeMin</th>\n      <th>AgeMax</th>\n      <th>Language0</th>\n      <th>Language1</th>\n      <th>Language2</th>\n      <th>Certificates</th>\n      <th>YearExp</th>\n      <th>Offered_Salary</th>\n      <th>SmartWork</th>\n      <th>Experience_abroad</th>\n    </tr>\n  </thead>\n  <tbody>\n    <tr>\n      <th>15</th>\n      <td>15</td>\n      <td>Market analyst</td>\n      <td>Bachelor D.</td>\n      <td>Isola di Fondra</td>\n      <td>Forecast</td>\n      <td>Analysis of competitors</td>\n      <td>Analysis of data</td>\n      <td>Analysis of trends</td>\n      <td>Strategies of the market</td>\n      <td>Customer orientation</td>\n      <td>...</td>\n      <td>25</td>\n      <td>33</td>\n      <td>French - C2</td>\n      <td>Spanish - A2</td>\n      <td>-</td>\n      <td>CFE</td>\n      <td>1</td>\n      <td>32500</td>\n      <td>0</td>\n      <td>1</td>\n    </tr>\n  </tbody>\n</table>\n<p>1 rows × 24 columns</p>\n</div>"
     },
     "execution_count": 3,
     "metadata": {},
     "output_type": "execute_result"
    }
   ],
   "source": [
    "joboffer[joboffer[\"qId\"]==15]"
   ],
   "metadata": {
    "collapsed": false,
    "ExecuteTime": {
     "end_time": "2023-10-28T18:22:04.731827200Z",
     "start_time": "2023-10-28T18:22:04.719612Z"
    }
   },
   "id": "9d140a6d8a4ef95d"
  },
  {
   "cell_type": "code",
   "execution_count": 4,
   "outputs": [
    {
     "data": {
      "text/plain": "     kId        IdealJob    Education         City  JobRange  \\\n165  165  Market analyst  Bachelor D.  Garzigliana        80   \n\n                     Skills0   Skills1 Skills2 Skills3 Skills4  ...  \\\n165  Analysis of competitors  Forecast       -       -       -  ...   \n\n    Softskills4 Age    Language0     Language1     Language2  Certificates  \\\n165           -  33  French - C2  Finnish - B1  English - A2     IELTS,CFE   \n\n    YearExp Ideal_Salary SmartWork Experience_abroad  \n165       1        48000         0                 1  \n\n[1 rows x 24 columns]",
      "text/html": "<div>\n<style scoped>\n    .dataframe tbody tr th:only-of-type {\n        vertical-align: middle;\n    }\n\n    .dataframe tbody tr th {\n        vertical-align: top;\n    }\n\n    .dataframe thead th {\n        text-align: right;\n    }\n</style>\n<table border=\"1\" class=\"dataframe\">\n  <thead>\n    <tr style=\"text-align: right;\">\n      <th></th>\n      <th>kId</th>\n      <th>IdealJob</th>\n      <th>Education</th>\n      <th>City</th>\n      <th>JobRange</th>\n      <th>Skills0</th>\n      <th>Skills1</th>\n      <th>Skills2</th>\n      <th>Skills3</th>\n      <th>Skills4</th>\n      <th>...</th>\n      <th>Softskills4</th>\n      <th>Age</th>\n      <th>Language0</th>\n      <th>Language1</th>\n      <th>Language2</th>\n      <th>Certificates</th>\n      <th>YearExp</th>\n      <th>Ideal_Salary</th>\n      <th>SmartWork</th>\n      <th>Experience_abroad</th>\n    </tr>\n  </thead>\n  <tbody>\n    <tr>\n      <th>165</th>\n      <td>165</td>\n      <td>Market analyst</td>\n      <td>Bachelor D.</td>\n      <td>Garzigliana</td>\n      <td>80</td>\n      <td>Analysis of competitors</td>\n      <td>Forecast</td>\n      <td>-</td>\n      <td>-</td>\n      <td>-</td>\n      <td>...</td>\n      <td>-</td>\n      <td>33</td>\n      <td>French - C2</td>\n      <td>Finnish - B1</td>\n      <td>English - A2</td>\n      <td>IELTS,CFE</td>\n      <td>1</td>\n      <td>48000</td>\n      <td>0</td>\n      <td>1</td>\n    </tr>\n  </tbody>\n</table>\n<p>1 rows × 24 columns</p>\n</div>"
     },
     "execution_count": 4,
     "metadata": {},
     "output_type": "execute_result"
    }
   ],
   "source": [
    "curricula[curricula[\"kId\"]==165]"
   ],
   "metadata": {
    "collapsed": false,
    "ExecuteTime": {
     "end_time": "2023-10-28T18:22:30.855528400Z",
     "start_time": "2023-10-28T18:22:30.839115200Z"
    }
   },
   "id": "cf4a8fd95146f815"
  },
  {
   "cell_type": "code",
   "execution_count": 7,
   "outputs": [
    {
     "data": {
      "text/plain": "      qId  kId  Education      City  Skills  SoftSkills  Age  Language  \\\n3165   15  165        1.0  0.875322     0.4         1.0  1.0       0.5   \n\n      Certificates  Experience  Salary  SmartWork  Experience_abroad  \\\n3165           1.0         1.0     0.0          0                  1   \n\n         score   w_score  labels  \n3165  7.719295  0.980025       4  ",
      "text/html": "<div>\n<style scoped>\n    .dataframe tbody tr th:only-of-type {\n        vertical-align: middle;\n    }\n\n    .dataframe tbody tr th {\n        vertical-align: top;\n    }\n\n    .dataframe thead th {\n        text-align: right;\n    }\n</style>\n<table border=\"1\" class=\"dataframe\">\n  <thead>\n    <tr style=\"text-align: right;\">\n      <th></th>\n      <th>qId</th>\n      <th>kId</th>\n      <th>Education</th>\n      <th>City</th>\n      <th>Skills</th>\n      <th>SoftSkills</th>\n      <th>Age</th>\n      <th>Language</th>\n      <th>Certificates</th>\n      <th>Experience</th>\n      <th>Salary</th>\n      <th>SmartWork</th>\n      <th>Experience_abroad</th>\n      <th>score</th>\n      <th>w_score</th>\n      <th>labels</th>\n    </tr>\n  </thead>\n  <tbody>\n    <tr>\n      <th>3165</th>\n      <td>15</td>\n      <td>165</td>\n      <td>1.0</td>\n      <td>0.875322</td>\n      <td>0.4</td>\n      <td>1.0</td>\n      <td>1.0</td>\n      <td>0.5</td>\n      <td>1.0</td>\n      <td>1.0</td>\n      <td>0.0</td>\n      <td>0</td>\n      <td>1</td>\n      <td>7.719295</td>\n      <td>0.980025</td>\n      <td>4</td>\n    </tr>\n  </tbody>\n</table>\n</div>"
     },
     "execution_count": 7,
     "metadata": {},
     "output_type": "execute_result"
    }
   ],
   "source": [
    "scores[(scores[\"qId\"]==15) & (scores[\"kId\"]==165)]"
   ],
   "metadata": {
    "collapsed": false,
    "ExecuteTime": {
     "end_time": "2023-10-28T18:23:25.670035400Z",
     "start_time": "2023-10-28T18:23:25.648340600Z"
    }
   },
   "id": "31cd8d109344873b"
  },
  {
   "cell_type": "code",
   "execution_count": 4,
   "outputs": [
    {
     "data": {
      "text/plain": "      qId  kId  Education      City  Skills  SoftSkills       Age  Language  \\\n2798   68    7        0.8  0.601032    1.00    1.000000  1.000000  0.000000   \n1473   35  109        0.8  1.000000    1.00    1.000000  1.000000  1.000000   \n2574   62  109        1.0  0.528805    0.75    0.666667  0.571429  0.166667   \n297     7   10        1.0  0.527085    1.00    0.000000  1.000000  0.666667   \n4020   98   65        1.0  0.493551    0.00    0.000000  0.714286  0.500000   \n...   ...  ...        ...       ...     ...         ...       ...       ...   \n1404   34   37        0.6  0.941531    0.00    0.000000  0.000000  0.000000   \n135     3   56        1.0  0.957868    0.00    0.000000  0.000000  0.000000   \n2924   71   12        0.6  0.375752    0.00    0.000000  1.000000  0.000000   \n2850   69   22        0.8  0.208083    0.00    0.000000  0.000000  0.000000   \n1335   32   67        1.0  0.941531    0.00    0.000000  0.000000  0.000000   \n\n      Certificates  Experience  Salary  SmartWork  Experience_abroad  \\\n2798      1.000000         1.0     1.0          0                  0   \n1473      0.000000         1.0     1.0          0                  0   \n2574      0.555556         1.0     1.0          0                  0   \n297       0.000000         0.0     0.0          0                  0   \n4020      0.000000         0.0     0.0          0                  0   \n...            ...         ...     ...        ...                ...   \n1404      0.285714         0.0     1.0          0                  0   \n135       0.000000         0.0     1.0          0                  0   \n2924      0.000000         0.0     1.0          0                  0   \n2850      0.000000         0.0     0.0          0                  0   \n1335      0.000000         0.0     0.0          0                  0   \n\n         score   w_score  labels  \n2798  7.437423  1.300112       4  \n1473  7.817108  1.231069       4  \n2574  6.131112  1.128894       4  \n297   4.485352  1.112370       4  \n4020  2.806755  1.100671       4  \n...        ...       ...     ...  \n1404  2.878198 -0.450335       0  \n135   3.436411 -0.467260       0  \n2924  2.925141 -0.485905       0  \n2850  1.293436 -0.499194       0  \n1335  1.712318 -0.581609       0  \n\n[4089 rows x 16 columns]",
      "text/html": "<div>\n<style scoped>\n    .dataframe tbody tr th:only-of-type {\n        vertical-align: middle;\n    }\n\n    .dataframe tbody tr th {\n        vertical-align: top;\n    }\n\n    .dataframe thead th {\n        text-align: right;\n    }\n</style>\n<table border=\"1\" class=\"dataframe\">\n  <thead>\n    <tr style=\"text-align: right;\">\n      <th></th>\n      <th>qId</th>\n      <th>kId</th>\n      <th>Education</th>\n      <th>City</th>\n      <th>Skills</th>\n      <th>SoftSkills</th>\n      <th>Age</th>\n      <th>Language</th>\n      <th>Certificates</th>\n      <th>Experience</th>\n      <th>Salary</th>\n      <th>SmartWork</th>\n      <th>Experience_abroad</th>\n      <th>score</th>\n      <th>w_score</th>\n      <th>labels</th>\n    </tr>\n  </thead>\n  <tbody>\n    <tr>\n      <th>2798</th>\n      <td>68</td>\n      <td>7</td>\n      <td>0.8</td>\n      <td>0.601032</td>\n      <td>1.00</td>\n      <td>1.000000</td>\n      <td>1.000000</td>\n      <td>0.000000</td>\n      <td>1.000000</td>\n      <td>1.0</td>\n      <td>1.0</td>\n      <td>0</td>\n      <td>0</td>\n      <td>7.437423</td>\n      <td>1.300112</td>\n      <td>4</td>\n    </tr>\n    <tr>\n      <th>1473</th>\n      <td>35</td>\n      <td>109</td>\n      <td>0.8</td>\n      <td>1.000000</td>\n      <td>1.00</td>\n      <td>1.000000</td>\n      <td>1.000000</td>\n      <td>1.000000</td>\n      <td>0.000000</td>\n      <td>1.0</td>\n      <td>1.0</td>\n      <td>0</td>\n      <td>0</td>\n      <td>7.817108</td>\n      <td>1.231069</td>\n      <td>4</td>\n    </tr>\n    <tr>\n      <th>2574</th>\n      <td>62</td>\n      <td>109</td>\n      <td>1.0</td>\n      <td>0.528805</td>\n      <td>0.75</td>\n      <td>0.666667</td>\n      <td>0.571429</td>\n      <td>0.166667</td>\n      <td>0.555556</td>\n      <td>1.0</td>\n      <td>1.0</td>\n      <td>0</td>\n      <td>0</td>\n      <td>6.131112</td>\n      <td>1.128894</td>\n      <td>4</td>\n    </tr>\n    <tr>\n      <th>297</th>\n      <td>7</td>\n      <td>10</td>\n      <td>1.0</td>\n      <td>0.527085</td>\n      <td>1.00</td>\n      <td>0.000000</td>\n      <td>1.000000</td>\n      <td>0.666667</td>\n      <td>0.000000</td>\n      <td>0.0</td>\n      <td>0.0</td>\n      <td>0</td>\n      <td>0</td>\n      <td>4.485352</td>\n      <td>1.112370</td>\n      <td>4</td>\n    </tr>\n    <tr>\n      <th>4020</th>\n      <td>98</td>\n      <td>65</td>\n      <td>1.0</td>\n      <td>0.493551</td>\n      <td>0.00</td>\n      <td>0.000000</td>\n      <td>0.714286</td>\n      <td>0.500000</td>\n      <td>0.000000</td>\n      <td>0.0</td>\n      <td>0.0</td>\n      <td>0</td>\n      <td>0</td>\n      <td>2.806755</td>\n      <td>1.100671</td>\n      <td>4</td>\n    </tr>\n    <tr>\n      <th>...</th>\n      <td>...</td>\n      <td>...</td>\n      <td>...</td>\n      <td>...</td>\n      <td>...</td>\n      <td>...</td>\n      <td>...</td>\n      <td>...</td>\n      <td>...</td>\n      <td>...</td>\n      <td>...</td>\n      <td>...</td>\n      <td>...</td>\n      <td>...</td>\n      <td>...</td>\n      <td>...</td>\n    </tr>\n    <tr>\n      <th>1404</th>\n      <td>34</td>\n      <td>37</td>\n      <td>0.6</td>\n      <td>0.941531</td>\n      <td>0.00</td>\n      <td>0.000000</td>\n      <td>0.000000</td>\n      <td>0.000000</td>\n      <td>0.285714</td>\n      <td>0.0</td>\n      <td>1.0</td>\n      <td>0</td>\n      <td>0</td>\n      <td>2.878198</td>\n      <td>-0.450335</td>\n      <td>0</td>\n    </tr>\n    <tr>\n      <th>135</th>\n      <td>3</td>\n      <td>56</td>\n      <td>1.0</td>\n      <td>0.957868</td>\n      <td>0.00</td>\n      <td>0.000000</td>\n      <td>0.000000</td>\n      <td>0.000000</td>\n      <td>0.000000</td>\n      <td>0.0</td>\n      <td>1.0</td>\n      <td>0</td>\n      <td>0</td>\n      <td>3.436411</td>\n      <td>-0.467260</td>\n      <td>0</td>\n    </tr>\n    <tr>\n      <th>2924</th>\n      <td>71</td>\n      <td>12</td>\n      <td>0.6</td>\n      <td>0.375752</td>\n      <td>0.00</td>\n      <td>0.000000</td>\n      <td>1.000000</td>\n      <td>0.000000</td>\n      <td>0.000000</td>\n      <td>0.0</td>\n      <td>1.0</td>\n      <td>0</td>\n      <td>0</td>\n      <td>2.925141</td>\n      <td>-0.485905</td>\n      <td>0</td>\n    </tr>\n    <tr>\n      <th>2850</th>\n      <td>69</td>\n      <td>22</td>\n      <td>0.8</td>\n      <td>0.208083</td>\n      <td>0.00</td>\n      <td>0.000000</td>\n      <td>0.000000</td>\n      <td>0.000000</td>\n      <td>0.000000</td>\n      <td>0.0</td>\n      <td>0.0</td>\n      <td>0</td>\n      <td>0</td>\n      <td>1.293436</td>\n      <td>-0.499194</td>\n      <td>0</td>\n    </tr>\n    <tr>\n      <th>1335</th>\n      <td>32</td>\n      <td>67</td>\n      <td>1.0</td>\n      <td>0.941531</td>\n      <td>0.00</td>\n      <td>0.000000</td>\n      <td>0.000000</td>\n      <td>0.000000</td>\n      <td>0.000000</td>\n      <td>0.0</td>\n      <td>0.0</td>\n      <td>0</td>\n      <td>0</td>\n      <td>1.712318</td>\n      <td>-0.581609</td>\n      <td>0</td>\n    </tr>\n  </tbody>\n</table>\n<p>4089 rows × 16 columns</p>\n</div>"
     },
     "execution_count": 4,
     "metadata": {},
     "output_type": "execute_result"
    }
   ],
   "source": [
    "scores.sort_values(\"w_score\", ascending=False)"
   ],
   "metadata": {
    "collapsed": false,
    "ExecuteTime": {
     "end_time": "2023-10-29T15:23:58.616463800Z",
     "start_time": "2023-10-29T15:23:58.588414Z"
    }
   },
   "id": "dac75105f652bc8f"
  }
 ],
 "metadata": {
  "kernelspec": {
   "display_name": "Python 3",
   "language": "python",
   "name": "python3"
  },
  "language_info": {
   "codemirror_mode": {
    "name": "ipython",
    "version": 2
   },
   "file_extension": ".py",
   "mimetype": "text/x-python",
   "name": "python",
   "nbconvert_exporter": "python",
   "pygments_lexer": "ipython2",
   "version": "2.7.6"
  }
 },
 "nbformat": 4,
 "nbformat_minor": 5
}
