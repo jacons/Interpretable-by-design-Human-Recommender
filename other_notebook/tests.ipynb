{
 "cells": [
  {
   "cell_type": "code",
   "execution_count": null,
   "outputs": [],
   "source": [
    "import sys\n",
    "\n",
    "import pandas as pd\n",
    "from Class_utils.JobGraph import JobGraph, RelationNode, TypeNode\n",
    "from Class_utils.parameters import file_paths, job_graph_par\n",
    "from Class_utils.FitnessClasses import FitnessSkills\n",
    "%reload_ext autoreload\n",
    "%autoreload 2"
   ],
   "metadata": {
    "collapsed": false
   },
   "id": "f74c49e21481b47a"
  },
  {
   "cell_type": "code",
   "execution_count": null,
   "outputs": [],
   "source": [
    "job_graph = JobGraph(file_paths, **job_graph_par)"
   ],
   "metadata": {
    "collapsed": false
   },
   "id": "70e601d198da145b"
  },
  {
   "cell_type": "code",
   "execution_count": null,
   "outputs": [],
   "source": [
    "dt = pd.read_csv(\"../outputs/scores/0_dataset.csv\").set_index(\"kId\")\n",
    "dt"
   ],
   "metadata": {
    "collapsed": false
   },
   "id": "d80f51bde9bd15f9"
  },
  {
   "cell_type": "code",
   "execution_count": null,
   "outputs": [],
   "source": [
    "offer = pd.read_csv(\"../outputs/0_job_offers.csv\").set_index(\"qId\")\n",
    "cv = pd.read_csv(\"../outputs/0_curricula.csv\").set_index(\"kId\")"
   ],
   "metadata": {
    "collapsed": false
   },
   "id": "e81c8586973b8dd7"
  },
  {
   "cell_type": "code",
   "execution_count": null,
   "outputs": [],
   "source": [
    "offer_skills = offer.loc[0,[\"Competence_essential\"+str(i) for i in range(0,2)]].to_list()"
   ],
   "metadata": {
    "collapsed": false
   },
   "id": "9bd92284a7bfe720"
  },
  {
   "cell_type": "code",
   "execution_count": null,
   "outputs": [],
   "source": [
    "offer_skills"
   ],
   "metadata": {
    "collapsed": false
   },
   "id": "83c00b72d0f74c8a"
  },
  {
   "cell_type": "code",
   "execution_count": null,
   "outputs": [],
   "source": [
    "cv_skills = cv.loc[0,[\"Competences\"+str(i) for i in range(0,4)]].to_list()"
   ],
   "metadata": {
    "collapsed": false
   },
   "id": "fefc0d03aa24b095"
  },
  {
   "cell_type": "code",
   "execution_count": null,
   "outputs": [],
   "source": [
    "cv_skills"
   ],
   "metadata": {
    "collapsed": false
   },
   "id": "953ddc2b88910f23"
  },
  {
   "cell_type": "code",
   "execution_count": null,
   "outputs": [],
   "source": [
    "fitness = FitnessSkills(job_graph)"
   ],
   "metadata": {
    "collapsed": false
   },
   "id": "b0edecf2c622b58f"
  },
  {
   "cell_type": "code",
   "execution_count": null,
   "outputs": [],
   "source": [
    "fitness.debug_score(offer_skills,cv_skills)"
   ],
   "metadata": {
    "collapsed": false
   },
   "id": "e4ed2f30c1ce084c"
  }
 ],
 "metadata": {
  "kernelspec": {
   "display_name": "Python 3",
   "language": "python",
   "name": "python3"
  },
  "language_info": {
   "codemirror_mode": {
    "name": "ipython",
    "version": 2
   },
   "file_extension": ".py",
   "mimetype": "text/x-python",
   "name": "python",
   "nbconvert_exporter": "python",
   "pygments_lexer": "ipython2",
   "version": "2.7.6"
  }
 },
 "nbformat": 4,
 "nbformat_minor": 5
}
