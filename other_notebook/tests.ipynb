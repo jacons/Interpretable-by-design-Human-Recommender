{
 "cells": [
  {
   "cell_type": "code",
   "execution_count": 1,
   "id": "initial_id",
   "metadata": {
    "collapsed": true,
    "ExecuteTime": {
     "end_time": "2023-10-29T19:14:47.959947700Z",
     "start_time": "2023-10-29T19:14:46.385885800Z"
    }
   },
   "outputs": [],
   "source": [
    "import pandas as pd"
   ]
  },
  {
   "cell_type": "code",
   "execution_count": 2,
   "outputs": [],
   "source": [
    "joboffer = pd.read_csv(\"../outputs/jobOffers.csv\")\n",
    "curricula = pd.read_csv(\"../outputs/curricula.csv\")\n",
    "scores = pd.read_csv(\"../outputs/scores/scores.csv\")"
   ],
   "metadata": {
    "collapsed": false,
    "ExecuteTime": {
     "end_time": "2023-10-29T19:14:50.131992400Z",
     "start_time": "2023-10-29T19:14:49.971202700Z"
    }
   },
   "id": "9a542b39fc89427c"
  },
  {
   "cell_type": "code",
   "execution_count": 14,
   "outputs": [
    {
     "data": {
      "text/plain": "      qId  relevance  kId    IdealJob  Education   City  JobRange       Skills0  \\\n5650    0       2  113  Pharmacist  Master D.  Bulzi       100  Pharmacology   \n\n                       Skills1              Skills2  ... Softskills4 Age  \\\n5650  Control of prescriptions  Dispensing of drugs  ...           -  46   \n\n         Language0 Language1 Language2 Certificates YearExp  Ideal_Salary  \\\n5650  Italian - C2         -         -            -       0         18900   \n\n     SmartWork Experience_abroad  \n5650         0                 0  \n\n[1 rows x 26 columns]",
      "text/html": "<div>\n<style scoped>\n    .dataframe tbody tr th:only-of-type {\n        vertical-align: middle;\n    }\n\n    .dataframe tbody tr th {\n        vertical-align: top;\n    }\n\n    .dataframe thead th {\n        text-align: right;\n    }\n</style>\n<table border=\"1\" class=\"dataframe\">\n  <thead>\n    <tr style=\"text-align: right;\">\n      <th></th>\n      <th>qId</th>\n      <th>relevance</th>\n      <th>kId</th>\n      <th>IdealJob</th>\n      <th>Education</th>\n      <th>City</th>\n      <th>JobRange</th>\n      <th>Skills0</th>\n      <th>Skills1</th>\n      <th>Skills2</th>\n      <th>...</th>\n      <th>Softskills4</th>\n      <th>Age</th>\n      <th>Language0</th>\n      <th>Language1</th>\n      <th>Language2</th>\n      <th>Certificates</th>\n      <th>YearExp</th>\n      <th>Ideal_Salary</th>\n      <th>SmartWork</th>\n      <th>Experience_abroad</th>\n    </tr>\n  </thead>\n  <tbody>\n    <tr>\n      <th>5650</th>\n      <td>0</td>\n      <td>2</td>\n      <td>113</td>\n      <td>Pharmacist</td>\n      <td>Master D.</td>\n      <td>Bulzi</td>\n      <td>100</td>\n      <td>Pharmacology</td>\n      <td>Control of prescriptions</td>\n      <td>Dispensing of drugs</td>\n      <td>...</td>\n      <td>-</td>\n      <td>46</td>\n      <td>Italian - C2</td>\n      <td>-</td>\n      <td>-</td>\n      <td>-</td>\n      <td>0</td>\n      <td>18900</td>\n      <td>0</td>\n      <td>0</td>\n    </tr>\n  </tbody>\n</table>\n<p>1 rows × 26 columns</p>\n</div>"
     },
     "execution_count": 14,
     "metadata": {},
     "output_type": "execute_result"
    }
   ],
   "source": [
    "scores[[\"qId\",\"relevance\",\"kId\"]].merge(curricula, on=\"kId\").sample()"
   ],
   "metadata": {
    "collapsed": false,
    "ExecuteTime": {
     "end_time": "2023-10-29T19:19:59.115566900Z",
     "start_time": "2023-10-29T19:19:59.049473Z"
    }
   },
   "id": "a18b00015584a860"
  }
 ],
 "metadata": {
  "kernelspec": {
   "display_name": "Python 3",
   "language": "python",
   "name": "python3"
  },
  "language_info": {
   "codemirror_mode": {
    "name": "ipython",
    "version": 2
   },
   "file_extension": ".py",
   "mimetype": "text/x-python",
   "name": "python",
   "nbconvert_exporter": "python",
   "pygments_lexer": "ipython2",
   "version": "2.7.6"
  }
 },
 "nbformat": 4,
 "nbformat_minor": 5
}
