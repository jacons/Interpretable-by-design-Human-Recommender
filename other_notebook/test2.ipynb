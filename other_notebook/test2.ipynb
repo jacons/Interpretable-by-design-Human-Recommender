{
 "cells": [
  {
   "cell_type": "code",
   "execution_count": 1,
   "id": "initial_id",
   "metadata": {
    "collapsed": true,
    "ExecuteTime": {
     "end_time": "2023-12-06T16:51:29.535875500Z",
     "start_time": "2023-12-06T16:51:29.249918900Z"
    }
   },
   "outputs": [],
   "source": [
    "import numpy as np\n",
    "import pandas as pd\n",
    "from tqdm import tqdm\n",
    "from Class_utils.parameters import file_paths,job_graph_par\n",
    "from Class_utils.JobGraph import JobGraph\n",
    "import ast\n",
    "from Class_utils.FitnessFunctions import FitnessFunctions\n",
    "\n",
    "%reload_ext autoreload\n",
    "%autoreload 2"
   ]
  },
  {
   "cell_type": "code",
   "execution_count": 2,
   "outputs": [
    {
     "name": "stdout",
     "output_type": "stream",
     "text": [
      "Cache found loading...done\n"
     ]
    }
   ],
   "source": [
    "job_graph = JobGraph(file_paths, **job_graph_par)"
   ],
   "metadata": {
    "collapsed": false,
    "ExecuteTime": {
     "end_time": "2023-12-06T16:51:32.978592900Z",
     "start_time": "2023-12-06T16:51:29.535875500Z"
    }
   },
   "id": "9162907c20bdfdcc"
  },
  {
   "cell_type": "code",
   "execution_count": 21,
   "outputs": [],
   "source": [
    "offer = pd.read_csv(\"../outputs/0_job_offers.csv\").set_index(\"qId\")"
   ],
   "metadata": {
    "collapsed": false,
    "ExecuteTime": {
     "end_time": "2023-12-06T16:57:37.163756200Z",
     "start_time": "2023-12-06T16:57:37.066980100Z"
    }
   },
   "id": "b6c56125933b7f5c"
  },
  {
   "cell_type": "code",
   "execution_count": 22,
   "outputs": [],
   "source": [
    "es_comp_columns = [\"Competence_essential\"+str(i) for i in range(0, 3 + 1)]\n",
    "op_comp_columns = [\"Competence_optional\"+str(i) for i in range(0, 2 + 1)]\n",
    "es_know_columns = [\"Knowledge_essential\"+str(i) for i in range(0, 3 + 1)]\n",
    "op_know_columns = [\"Knowledge_optional\"+str(i) for i in range(0, 2 + 1)]"
   ],
   "metadata": {
    "collapsed": false,
    "ExecuteTime": {
     "end_time": "2023-12-06T16:57:38.318372600Z",
     "start_time": "2023-12-06T16:57:38.195837600Z"
    }
   },
   "id": "164476069770409e"
  },
  {
   "cell_type": "code",
   "execution_count": 23,
   "outputs": [],
   "source": [
    "metadata = pd.json_normalize(offer[\"metadata\"].apply(ast.literal_eval))"
   ],
   "metadata": {
    "collapsed": false,
    "ExecuteTime": {
     "end_time": "2023-12-06T16:57:40.241093700Z",
     "start_time": "2023-12-06T16:57:40.110403300Z"
    }
   },
   "id": "2d8138ac87d0f3ec"
  },
  {
   "cell_type": "code",
   "execution_count": 24,
   "outputs": [],
   "source": [
    "offer_md = pd.concat([offer, metadata], axis=1)\n",
    "offer_md.index.rename(\"qId\", inplace=True)\n",
    "offer_md = offer_md[[\"uri_competence_essential\",\"uri_competence_optional\",\"uri_knowledge_essential\",\"uri_knowledge_optional\"]]"
   ],
   "metadata": {
    "collapsed": false,
    "ExecuteTime": {
     "end_time": "2023-12-06T16:57:41.496188600Z",
     "start_time": "2023-12-06T16:57:41.401781700Z"
    }
   },
   "id": "741a3af05cc39e26"
  },
  {
   "cell_type": "code",
   "execution_count": 6,
   "outputs": [],
   "source": [],
   "metadata": {
    "collapsed": false,
    "ExecuteTime": {
     "end_time": "2023-12-06T16:51:33.260942300Z",
     "start_time": "2023-12-06T16:51:33.255171500Z"
    }
   },
   "id": "4cc5fb0d2a08221c"
  },
  {
   "cell_type": "code",
   "execution_count": 25,
   "outputs": [],
   "source": [
    "qId_error_comp_ess = []\n",
    "qId_error_comp_opt = []\n",
    "qId_error_know_ess = []\n",
    "qId_error_know_opt = []"
   ],
   "metadata": {
    "collapsed": false,
    "ExecuteTime": {
     "end_time": "2023-12-06T16:57:44.573457Z",
     "start_time": "2023-12-06T16:57:44.479984300Z"
    }
   },
   "id": "463bd7fff58292f7"
  },
  {
   "cell_type": "code",
   "execution_count": 52,
   "outputs": [
    {
     "name": "stderr",
     "output_type": "stream",
     "text": [
      "100%|██████████| 220/220 [00:00<00:00, 382.54it/s]\n"
     ]
    }
   ],
   "source": [
    "counter = np.zeros((4,2))\n",
    "\n",
    "for qId, job in tqdm(offer.iterrows(),total=len(offer)):\n",
    "    \n",
    "    essential_comp = FitnessFunctions.filter(job[es_comp_columns].to_list())\n",
    "    optional_comp = FitnessFunctions.filter(job[op_comp_columns].to_list())\n",
    "    essential_know = FitnessFunctions.filter(job[es_know_columns].to_list())\n",
    "    optional_know = FitnessFunctions.filter(job[op_know_columns].to_list())\n",
    "\n",
    "    un_es_comp, amb_es_comp = job_graph.skill_test(essential_comp)\n",
    "    un_op_comp, amb_op_comp = job_graph.skill_test(optional_comp)\n",
    "    un_es_know, amb_es_know = job_graph.skill_test(essential_know)\n",
    "    un_op_know, amb_op_know = job_graph.skill_test(optional_know)\n",
    "    \n",
    "    contex = un_es_comp + un_op_comp + un_es_know + un_op_know\n",
    "    \n",
    "    amb_es_comp = job_graph.de_ambigue(amb_es_comp, contex,True)\n",
    "    real_uri = set(offer_md.loc[qId, \"uri_competence_essential\"])\n",
    "    equal_ = 0 if un_es_comp+ amb_es_comp  ==  real_uri else 1\n",
    "    counter[0, equal_] += 1\n",
    "    if equal_ == 1:\n",
    "        qId_error_comp_ess.append(qId)\n",
    "\n",
    "\n",
    "    amb_op_comp = job_graph.de_ambigue(amb_op_comp, contex,True)\n",
    "    real_uri = set(offer_md.loc[qId, \"uri_competence_optional\"])\n",
    "    equal_ = 0 if un_op_comp + amb_op_comp  ==  real_uri else 1\n",
    "    counter[1, equal_] += 1\n",
    "    if equal_ == 1:\n",
    "        qId_error_comp_ess.append(qId)\n",
    "     \n",
    "    amb_es_know = job_graph.de_ambigue(amb_es_know, contex,True)\n",
    "    real_uri = set(offer_md.loc[qId, \"uri_knowledge_essential\"])\n",
    "    equal_ = 0 if un_es_know + amb_es_know  ==  real_uri else 1\n",
    "    counter[2, equal_] += 1\n",
    "    if equal_ == 1:\n",
    "        qId_error_comp_ess.append(qId)\n",
    "\n",
    "\n",
    "    amb_op_know = job_graph.de_ambigue(amb_op_know, contex,True)\n",
    "    real_uri = set(offer_md.loc[qId, \"uri_knowledge_optional\"])\n",
    "    equal_ = 0 if un_op_know + amb_op_know  ==  real_uri else 1\n",
    "    counter[3, equal_] += 1\n",
    "    if equal_ == 1:\n",
    "        qId_error_comp_ess.append(qId)\n",
    "    \n"
   ],
   "metadata": {
    "collapsed": false,
    "ExecuteTime": {
     "end_time": "2023-12-06T17:25:57.153680900Z",
     "start_time": "2023-12-06T17:25:56.425891900Z"
    }
   },
   "id": "f301ff62daf19218"
  },
  {
   "cell_type": "code",
   "execution_count": 53,
   "outputs": [
    {
     "data": {
      "text/plain": "array([[  0., 220.],\n       [  0., 220.],\n       [  0., 220.],\n       [  0., 220.]])"
     },
     "execution_count": 53,
     "metadata": {},
     "output_type": "execute_result"
    }
   ],
   "source": [
    "counter"
   ],
   "metadata": {
    "collapsed": false,
    "ExecuteTime": {
     "end_time": "2023-12-06T17:25:58.537184400Z",
     "start_time": "2023-12-06T17:25:58.429191100Z"
    }
   },
   "id": "6a223c0ed1dc047e"
  },
  {
   "cell_type": "code",
   "execution_count": 28,
   "outputs": [
    {
     "data": {
      "text/plain": "[173]"
     },
     "execution_count": 28,
     "metadata": {},
     "output_type": "execute_result"
    }
   ],
   "source": [
    "qId_error_comp_ess"
   ],
   "metadata": {
    "collapsed": false,
    "ExecuteTime": {
     "end_time": "2023-12-06T16:57:51.745130700Z",
     "start_time": "2023-12-06T16:57:51.681238200Z"
    }
   },
   "id": "f4a07425b5fa1691"
  },
  {
   "cell_type": "code",
   "execution_count": 35,
   "outputs": [
    {
     "name": "stdout",
     "output_type": "stream",
     "text": [
      "Essential competence ['supervise staff', 'estimate duration of work', 'ensure cross-department cooperation']\n",
      "Standardized essential competence {'6d25ef0c-9f6c-4e46-acf3-b2ae022f85f6', 'e207163b-7963-4c3e-9494-7a4bb000211b', 'b216d9a2-7d4e-4312-8d05-e375f4ab44d8'}\n",
      "Real essential competence {'e207163b-7963-4c3e-9494-7a4bb000211b', 'b216d9a2-7d4e-4312-8d05-e375f4ab44d8', '9601b2a8-68e4-4906-9306-a23679b8f0b0'}\n"
     ]
    }
   ],
   "source": [
    "essential_comp = FitnessFunctions.filter(offer.loc[173,es_comp_columns].to_list())\n",
    "print(\"Essential competence\", essential_comp)\n",
    "\n",
    "std_ess_comp = job_graph.skill_standardize(essential_comp, to_ids=True)\n",
    "print(\"Standardized essential competence\", std_ess_comp)\n",
    "\n",
    "real_uri = set(offer_md.loc[173, \"uri_competence_essential\"])\n",
    "print(\"Real essential competence\",real_uri)"
   ],
   "metadata": {
    "collapsed": false,
    "ExecuteTime": {
     "end_time": "2023-12-06T17:00:42.523264200Z",
     "start_time": "2023-12-06T17:00:42.414189900Z"
    }
   },
   "id": "1c4ada59e26160e3"
  },
  {
   "cell_type": "code",
   "execution_count": 42,
   "outputs": [],
   "source": [
    "contex = ['e207163b-7963-4c3e-9494-7a4bb000211b', 'b216d9a2-7d4e-4312-8d05-e375f4ab44d8']"
   ],
   "metadata": {
    "collapsed": false,
    "ExecuteTime": {
     "end_time": "2023-12-06T17:07:33.817768300Z",
     "start_time": "2023-12-06T17:07:33.714153300Z"
    }
   },
   "id": "80bd4a379d400037"
  },
  {
   "cell_type": "code",
   "execution_count": 41,
   "outputs": [
    {
     "data": {
      "text/plain": "['6d25ef0c-9f6c-4e46-acf3-b2ae022f85f6',\n '9581639c-e521-4d12-9b4e-25faca24d34b',\n '9601b2a8-68e4-4906-9306-a23679b8f0b0']"
     },
     "execution_count": 41,
     "metadata": {},
     "output_type": "execute_result"
    }
   ],
   "source": [
    "job_graph.sys_label2uri[\"supervise staff\"]"
   ],
   "metadata": {
    "collapsed": false,
    "ExecuteTime": {
     "end_time": "2023-12-06T17:05:50.480006400Z",
     "start_time": "2023-12-06T17:05:50.321665200Z"
    }
   },
   "id": "4a134240b187b5b5"
  },
  {
   "cell_type": "code",
   "execution_count": 44,
   "outputs": [
    {
     "data": {
      "text/plain": "[0.03571428571428571, 0.0, 0.020130081300813008]"
     },
     "execution_count": 44,
     "metadata": {},
     "output_type": "execute_result"
    }
   ],
   "source": [
    "job_graph.node_similarity(job_graph.sys_label2uri[\"supervise staff\"], contex,ids=True)"
   ],
   "metadata": {
    "collapsed": false,
    "ExecuteTime": {
     "end_time": "2023-12-06T17:08:06.451611500Z",
     "start_time": "2023-12-06T17:08:06.329847800Z"
    }
   },
   "id": "7d67a39b1191c0f8"
  }
 ],
 "metadata": {
  "kernelspec": {
   "display_name": "Python 3",
   "language": "python",
   "name": "python3"
  },
  "language_info": {
   "codemirror_mode": {
    "name": "ipython",
    "version": 2
   },
   "file_extension": ".py",
   "mimetype": "text/x-python",
   "name": "python",
   "nbconvert_exporter": "python",
   "pygments_lexer": "ipython2",
   "version": "2.7.6"
  }
 },
 "nbformat": 4,
 "nbformat_minor": 5
}
