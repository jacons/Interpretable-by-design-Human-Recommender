{
 "cells": [
  {
   "cell_type": "code",
   "execution_count": 1,
   "id": "initial_id",
   "metadata": {
    "collapsed": true,
    "ExecuteTime": {
     "end_time": "2023-12-07T19:34:02.662272600Z",
     "start_time": "2023-12-07T19:34:01.232088400Z"
    }
   },
   "outputs": [],
   "source": [
    "import numpy as np\n",
    "import pandas as pd\n",
    "from tqdm import tqdm\n",
    "from Class_utils.parameters import file_paths,job_graph_par\n",
    "from Class_utils.JobGraph import JobGraph\n",
    "import ast\n",
    "from Class_utils.FitnessFunctions import FitnessFunctions\n",
    "\n",
    "%reload_ext autoreload\n",
    "%autoreload 2"
   ]
  },
  {
   "cell_type": "code",
   "execution_count": 2,
   "outputs": [
    {
     "name": "stdout",
     "output_type": "stream",
     "text": [
      "Cache found loading...done\n"
     ]
    }
   ],
   "source": [
    "job_graph = JobGraph(file_paths, **job_graph_par)"
   ],
   "metadata": {
    "collapsed": false,
    "ExecuteTime": {
     "end_time": "2023-12-07T19:34:06.407726800Z",
     "start_time": "2023-12-07T19:34:02.662272600Z"
    }
   },
   "id": "9162907c20bdfdcc"
  },
  {
   "cell_type": "code",
   "execution_count": 3,
   "outputs": [],
   "source": [
    "offer = pd.read_csv(\"../outputs/0_job_offers.csv\").set_index(\"qId\")"
   ],
   "metadata": {
    "collapsed": false,
    "ExecuteTime": {
     "end_time": "2023-12-07T19:34:06.463685300Z",
     "start_time": "2023-12-07T19:34:06.399826100Z"
    }
   },
   "id": "b6c56125933b7f5c"
  },
  {
   "cell_type": "code",
   "execution_count": 4,
   "outputs": [],
   "source": [
    "offer_md = pd.json_normalize(offer[\"metadata\"].apply(ast.literal_eval))\n",
    "offer_md.index.rename(\"qId\", inplace=True)"
   ],
   "metadata": {
    "collapsed": false,
    "ExecuteTime": {
     "end_time": "2023-12-07T19:34:06.531273600Z",
     "start_time": "2023-12-07T19:34:06.465918800Z"
    }
   },
   "id": "768ba0266f5674b0"
  },
  {
   "cell_type": "code",
   "execution_count": 5,
   "outputs": [],
   "source": [
    "es_comp_columns = [\"Competence_essential\"+str(i) for i in range(0, 3 + 1)]\n",
    "op_comp_columns = [\"Competence_optional\"+str(i) for i in range(0, 2 + 1)]\n",
    "es_know_columns = [\"Knowledge_essential\"+str(i) for i in range(0, 3 + 1)]\n",
    "op_know_columns = [\"Knowledge_optional\"+str(i) for i in range(0, 2 + 1)]"
   ],
   "metadata": {
    "collapsed": false,
    "ExecuteTime": {
     "end_time": "2023-12-07T19:34:06.586370Z",
     "start_time": "2023-12-07T19:34:06.534560700Z"
    }
   },
   "id": "2b9e60782ab8bc63"
  },
  {
   "cell_type": "code",
   "execution_count": 6,
   "outputs": [
    {
     "name": "stderr",
     "output_type": "stream",
     "text": [
      "100%|██████████| 220/220 [00:00<00:00, 778.28it/s]\n"
     ]
    }
   ],
   "source": [
    "counter = np.zeros((4,5))\n",
    "qId_error_comp_ess,qId_error_comp_opt,qId_error_know_ess,qId_error_know_opt = [],[],[],[]\n",
    "\n",
    "\n",
    "for qId, job in tqdm(offer.iterrows(),total=len(offer)):\n",
    "\n",
    "    essential_comp = FitnessFunctions.filter(job[es_comp_columns].to_list())\n",
    "    optional_comp = FitnessFunctions.filter(job[op_comp_columns].to_list())\n",
    "    essential_know = FitnessFunctions.filter(job[es_know_columns].to_list())\n",
    "    optional_know = FitnessFunctions.filter(job[op_know_columns].to_list())\n",
    "\n",
    "    un_es_comp, amb_es_comp = job_graph.skill_standardize(essential_comp)\n",
    "    un_op_comp, amb_op_comp = job_graph.skill_standardize(optional_comp)\n",
    "    un_es_know, amb_es_know = job_graph.skill_standardize(essential_know)\n",
    "    un_op_know, amb_op_know = job_graph.skill_standardize(optional_know)\n",
    "\n",
    "    contex = un_es_comp + un_op_comp + un_es_know + un_op_know\n",
    "\n",
    "    de_amb_es_comp = job_graph.solve_ambiguation(amb_es_comp, contex)\n",
    "    de_amb_op_comp = job_graph.solve_ambiguation(amb_op_comp, contex)\n",
    "    de_amb_es_know = job_graph.solve_ambiguation(amb_es_know, contex)\n",
    "    de_amb_op_know = job_graph.solve_ambiguation(amb_op_know, contex)\n",
    "\n",
    " \n",
    "    real_uris = offer_md.loc[qId, \"uri_competence_essential\"]\n",
    "    equal_ = 0 if set(un_es_comp) | set(de_amb_es_comp)  ==  set(real_uris) else 1\n",
    "    if equal_ == 1:\n",
    "        counter[0, len(amb_es_comp)] += 1\n",
    "        qId_error_comp_ess.append(qId)\n",
    "\n",
    "    real_uris = offer_md.loc[qId, \"uri_competence_optional\"]\n",
    "    equal_ = 0 if set(un_op_comp) | set(de_amb_op_comp)  ==  set(real_uris) else 1\n",
    "    if equal_ == 1:\n",
    "        counter[1, len(amb_op_comp)] += 1\n",
    "        qId_error_comp_opt.append(qId)\n",
    "\n",
    "    real_uris = offer_md.loc[qId, \"uri_knowledge_essential\"]\n",
    "    equal_ = 0 if set(un_es_know) | set(de_amb_es_know)  ==  set(real_uris) else 1\n",
    "    if equal_ == 1:\n",
    "        counter[2, len(amb_es_know)] += 1\n",
    "        qId_error_know_ess.append(qId)\n",
    "\n",
    "    real_uris = offer_md.loc[qId, \"uri_knowledge_optional\"]\n",
    "    equal_ = 0 if set(un_op_know) | set(de_amb_op_know)  ==  set(real_uris) else 1\n",
    "    if equal_ == 1:\n",
    "        counter[3, len(amb_op_know)] += 1\n",
    "        qId_error_know_opt.append(qId)\n",
    "    "
   ],
   "metadata": {
    "collapsed": false,
    "ExecuteTime": {
     "end_time": "2023-12-07T19:34:06.940270Z",
     "start_time": "2023-12-07T19:34:06.593817700Z"
    }
   },
   "id": "e5ac7ece1854fdb2"
  },
  {
   "cell_type": "code",
   "execution_count": 7,
   "outputs": [
    {
     "data": {
      "text/plain": "array([[0., 2., 0., 0., 0.],\n       [0., 0., 0., 0., 0.],\n       [0., 8., 3., 0., 0.],\n       [0., 2., 0., 0., 0.]])"
     },
     "execution_count": 7,
     "metadata": {},
     "output_type": "execute_result"
    }
   ],
   "source": [
    "counter"
   ],
   "metadata": {
    "collapsed": false,
    "ExecuteTime": {
     "end_time": "2023-12-07T19:34:07.001774400Z",
     "start_time": "2023-12-07T19:34:06.941368700Z"
    }
   },
   "id": "bc69fd3bebe2d286"
  },
  {
   "cell_type": "code",
   "execution_count": 8,
   "outputs": [
    {
     "data": {
      "text/plain": "array([[0., 2., 0., 0., 0.],\n       [0., 0., 0., 0., 0.],\n       [0., 8., 3., 0., 0.],\n       [0., 2., 0., 0., 0.]])"
     },
     "execution_count": 8,
     "metadata": {},
     "output_type": "execute_result"
    }
   ],
   "source": [
    "counter"
   ],
   "metadata": {
    "collapsed": false,
    "ExecuteTime": {
     "end_time": "2023-12-07T19:34:07.051134500Z",
     "start_time": "2023-12-07T19:34:06.998459600Z"
    }
   },
   "id": "b1db0bf715c6dd0a"
  },
  {
   "cell_type": "code",
   "execution_count": 9,
   "outputs": [
    {
     "data": {
      "text/plain": "array([0.99090909, 1.        , 0.95      , 0.99090909])"
     },
     "execution_count": 9,
     "metadata": {},
     "output_type": "execute_result"
    }
   ],
   "source": [
    "1 - counter.sum(axis=1)/220"
   ],
   "metadata": {
    "collapsed": false,
    "ExecuteTime": {
     "end_time": "2023-12-07T19:34:07.106445700Z",
     "start_time": "2023-12-07T19:34:07.052242900Z"
    }
   },
   "id": "7dbee9c1310c1951"
  },
  {
   "cell_type": "code",
   "execution_count": 10,
   "outputs": [],
   "source": [
    "# iiid = 171\n",
    "# \n",
    "# essential_comp = FitnessFunctions.filter(offer.loc[iiid][es_comp_columns].to_list())\n",
    "# print(\"Essential competence\",essential_comp,\"\\n\")\n",
    "# optional_comp = FitnessFunctions.filter(offer.loc[iiid][op_comp_columns].to_list())\n",
    "# print(\"Optional competence\",optional_comp,\"\\n\")\n",
    "# essential_know = FitnessFunctions.filter(offer.loc[iiid][es_know_columns].to_list())\n",
    "# print(\"Essential knowledge\",essential_know,\"\\n\")\n",
    "# optional_know = FitnessFunctions.filter(offer.loc[iiid][op_know_columns].to_list())\n",
    "# print(\"Optional knowledge\", optional_know,\"\\n\")\n",
    "# \n",
    "# un_es_comp, amb_es_comp = job_graph.skill_standardize(essential_comp)\n",
    "# un_op_comp, amb_op_comp = job_graph.skill_standardize(optional_comp)\n",
    "# un_es_know, amb_es_know = job_graph.skill_standardize(essential_know)\n",
    "# un_op_know, amb_op_know = job_graph.skill_standardize(optional_know)\n",
    "# \n",
    "# contex = set(un_es_comp) | set(un_op_comp) | set(un_es_know) | set(un_op_know)\n",
    "# \n",
    "# print(\"unique\",un_es_comp,\"\\n\")\n",
    "# \n",
    "# print(\"ambigue\",amb_es_comp,\"\\n\")\n",
    "# \n",
    "# deamb_es_comp = job_graph.solve_ambiguation(amb_es_comp, un_es_comp, True)\n",
    "# # print(\"node similarity\", job_graph.node_similarity(amb_op_comp[0], contex,True))\n",
    "# \n",
    "# print(\"deambigued\",deamb_es_comp,\"\\n\")\n",
    "# real_uri = offer_md.loc[iiid, \"uri_competence_essential\"]\n",
    "# print(\"real\",real_uri,\"\\n\")\n",
    "# print(set(un_es_comp) | set(deamb_es_comp) == set(real_uri))\n",
    "# # essential_comp = FitnessFunctions.filter(job[es_comp_columns].to_list())\n",
    "# # optional_comp = FitnessFunctions.filter(job[op_comp_columns].to_list())\n",
    "# # essential_know = FitnessFunctions.filter(job[es_know_columns].to_list())\n",
    "# # optional_know = FitnessFunctions.filter(job[op_know_columns].to_list())"
   ],
   "metadata": {
    "collapsed": false,
    "ExecuteTime": {
     "end_time": "2023-12-07T19:34:07.162342Z",
     "start_time": "2023-12-07T19:34:07.108819500Z"
    }
   },
   "id": "58577c8da3adf283"
  }
 ],
 "metadata": {
  "kernelspec": {
   "display_name": "Python 3",
   "language": "python",
   "name": "python3"
  },
  "language_info": {
   "codemirror_mode": {
    "name": "ipython",
    "version": 2
   },
   "file_extension": ".py",
   "mimetype": "text/x-python",
   "name": "python",
   "nbconvert_exporter": "python",
   "pygments_lexer": "ipython2",
   "version": "2.7.6"
  }
 },
 "nbformat": 4,
 "nbformat_minor": 5
}
