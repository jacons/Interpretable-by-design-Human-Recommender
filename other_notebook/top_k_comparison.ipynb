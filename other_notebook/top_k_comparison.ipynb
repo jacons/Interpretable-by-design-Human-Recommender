{
 "cells": [
  {
   "cell_type": "code",
   "execution_count": null,
   "outputs": [],
   "source": [
    "import pandas as pd\n",
    "import numpy as np\n",
    "\n",
    "from Models.grid_search_utils import GridSearch as Gs\n",
    "from pandas import DataFrame"
   ],
   "metadata": {
    "collapsed": false
   },
   "id": "9e1a4e2f42a3fcbe"
  },
  {
   "cell_type": "code",
   "execution_count": null,
   "id": "initial_id",
   "metadata": {
    "collapsed": true
   },
   "outputs": [],
   "source": [
    "LGBMRanker = Gs.load_model(name=\"../Models/BlackBox/lmart/saved_models/LGBMRanker\")"
   ]
  },
  {
   "cell_type": "code",
   "execution_count": null,
   "outputs": [],
   "source": [
    "FIGSReg = Gs.load_model(name=\"../Models/GlassBox/figs/saved_models/FIGSReg\")"
   ],
   "metadata": {
    "collapsed": false
   },
   "id": "dfaf3f0d2ceb79a6"
  },
  {
   "cell_type": "code",
   "execution_count": null,
   "outputs": [],
   "source": [
    "EBMReg = Gs.load_model(name=\"../Models/GlassBox/ebm/saved_models/EBMReg\")"
   ],
   "metadata": {
    "collapsed": false
   },
   "id": "c64bbb8c35ba6679"
  },
  {
   "cell_type": "code",
   "execution_count": null,
   "outputs": [],
   "source": [
    "def predict_rank(model, X:DataFrame, top_k:int=15):\n",
    "    y_pred = model.predict(np.asarray(X.iloc[:,5:].values))\n",
    "    y_pred = pd.DataFrame(y_pred, index=X.index, columns=[\"lambdas\"])\n",
    "    dt_final = pd.merge(X, y_pred, left_index=True, right_index=True)\n",
    "    return dt_final.sort_values(\"lambdas\",ascending=False)[[\"kId\",\"lambdas\",\"w_score\",\"binned_score\"]].head(top_k)"
   ],
   "metadata": {
    "collapsed": false
   },
   "id": "96f9afd3727798a6"
  },
  {
   "cell_type": "code",
   "execution_count": null,
   "outputs": [],
   "source": [
    "test_set = pd.read_csv(\"../outputs/scores/0_dataset_ts.csv\")"
   ],
   "metadata": {
    "collapsed": false
   },
   "id": "6b08d2059f674e35"
  },
  {
   "cell_type": "code",
   "execution_count": null,
   "outputs": [],
   "source": [
    "test_set[test_set[\"binned_score\"]==5]"
   ],
   "metadata": {
    "collapsed": false
   },
   "id": "de18515476ef2fc3"
  },
  {
   "cell_type": "code",
   "execution_count": null,
   "outputs": [],
   "source": [
    "job = test_set[test_set[\"qId\"]==88]"
   ],
   "metadata": {
    "collapsed": false
   },
   "id": "9c0b923d4ed9c7a2"
  },
  {
   "cell_type": "markdown",
   "source": [
    "# Perfect rank"
   ],
   "metadata": {
    "collapsed": false
   },
   "id": "344779e5ad906faa"
  },
  {
   "cell_type": "code",
   "execution_count": null,
   "outputs": [],
   "source": [
    "job[[\"kId\",\"w_score\",\"binned_score\"]].sort_values(\"w_score\",ascending=False).head(15)"
   ],
   "metadata": {
    "collapsed": false
   },
   "id": "c94f2fb545842361"
  },
  {
   "cell_type": "markdown",
   "source": [
    "# LGBMRanker"
   ],
   "metadata": {
    "collapsed": false
   },
   "id": "c404c77f20936b5b"
  },
  {
   "cell_type": "code",
   "execution_count": null,
   "outputs": [],
   "source": [
    "predict_rank(LGBMRanker, job)"
   ],
   "metadata": {
    "collapsed": false
   },
   "id": "3518d7463c5fc103"
  },
  {
   "cell_type": "markdown",
   "source": [
    "# EBM Regressor"
   ],
   "metadata": {
    "collapsed": false
   },
   "id": "19e514db42d9b803"
  },
  {
   "cell_type": "code",
   "execution_count": null,
   "outputs": [],
   "source": [
    "predict_rank(EBMReg, job)"
   ],
   "metadata": {
    "collapsed": false
   },
   "id": "bb40fd6073486675"
  },
  {
   "cell_type": "markdown",
   "source": [
    "# FIGSRegressor"
   ],
   "metadata": {
    "collapsed": false
   },
   "id": "33895a0da2b8a377"
  },
  {
   "cell_type": "code",
   "execution_count": null,
   "outputs": [],
   "source": [
    "predict_rank(FIGSReg, job)"
   ],
   "metadata": {
    "collapsed": false
   },
   "id": "f6ca7401ee27a2c3"
  }
 ],
 "metadata": {
  "kernelspec": {
   "display_name": "Python 3",
   "language": "python",
   "name": "python3"
  },
  "language_info": {
   "codemirror_mode": {
    "name": "ipython",
    "version": 2
   },
   "file_extension": ".py",
   "mimetype": "text/x-python",
   "name": "python",
   "nbconvert_exporter": "python",
   "pygments_lexer": "ipython2",
   "version": "2.7.6"
  }
 },
 "nbformat": 4,
 "nbformat_minor": 5
}
