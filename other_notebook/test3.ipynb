{
 "cells": [
  {
   "cell_type": "code",
   "execution_count": 1,
   "id": "initial_id",
   "metadata": {
    "collapsed": true,
    "ExecuteTime": {
     "end_time": "2023-12-07T19:34:04.608548Z",
     "start_time": "2023-12-07T19:34:03.301306300Z"
    }
   },
   "outputs": [],
   "source": [
    "import numpy as np\n",
    "import pandas as pd\n",
    "from tqdm import tqdm\n",
    "from Class_utils.parameters import file_paths,job_graph_par\n",
    "from Class_utils.JobGraph import JobGraph\n",
    "import ast\n",
    "from Class_utils.FitnessFunctions import FitnessFunctions\n",
    "\n",
    "%reload_ext autoreload\n",
    "%autoreload 2"
   ]
  },
  {
   "cell_type": "code",
   "execution_count": 2,
   "outputs": [
    {
     "name": "stdout",
     "output_type": "stream",
     "text": [
      "Cache found loading...done\n"
     ]
    }
   ],
   "source": [
    "job_graph = JobGraph(file_paths, **job_graph_par)"
   ],
   "metadata": {
    "collapsed": false,
    "ExecuteTime": {
     "end_time": "2023-12-07T19:34:08.364295300Z",
     "start_time": "2023-12-07T19:34:04.611861700Z"
    }
   },
   "id": "9162907c20bdfdcc"
  },
  {
   "cell_type": "code",
   "execution_count": 3,
   "outputs": [],
   "source": [
    "curricula = pd.read_csv(\"../outputs/0_curricula.csv\").set_index(\"kId\")"
   ],
   "metadata": {
    "collapsed": false,
    "ExecuteTime": {
     "end_time": "2023-12-07T19:34:08.658376500Z",
     "start_time": "2023-12-07T19:34:08.365500300Z"
    }
   },
   "id": "b6c56125933b7f5c"
  },
  {
   "cell_type": "code",
   "execution_count": 4,
   "outputs": [
    {
     "data": {
      "text/plain": "       qId                                           metadata  \\\nkId                                                             \n0        0  {'occ': 'b49f95f8-c1c8-428f-9f1f-5f5abae55e51'...   \n1        0  {'occ': 'b148e7a3-e5b0-4edc-b770-85ab81f36ac9'...   \n2        0  {'occ': 'fd00e4bb-dcee-41d7-81d3-2cdebad8fe70'...   \n3        0  {'occ': 'bbba890e-ecae-43ba-9c5b-a65baa318f15'...   \n4        0  {'occ': 'b2826761-6fc4-4344-9d36-d8455cb6b185'...   \n...    ...                                                ...   \n19667  219  {'occ': 'f2413988-f76a-4636-a4b1-9952517aa21f'...   \n19668  219  {'occ': '289c7385-2342-4a4e-b0b1-7b2e977aea79'...   \n19669  219  {'occ': '0264b794-3771-47aa-a675-78bf13b62ee7'...   \n19670  219  {'occ': 'e19fe26f-0759-4bb1-af71-5bbecf3df69f'...   \n19671  219  {'occ': 'a7c1431b-a27c-4ab5-ace2-3f8753b481da'...   \n\n              Education  Age               City  JobRange  \\\nkId                                                         \n0             Master-D.   31  Belmonte Mezzagno        90   \n1             Master-D.   30      Casalmaggiore        80   \n2             Master-D.   40           Pozzuoli        80   \n3             Master-D.   37             Vaiano        50   \n4             Master-D.   30           Lusciano        70   \n...                 ...  ...                ...       ...   \n19667            Degree   39   Marano di Napoli        70   \n19668         Master-D.   18              Trani        30   \n19669            Degree   32            Mondovi        60   \n19670            Degree   30          Mazzarino        40   \n19671  Less-than-degree   26      Verolavecchia        80   \n\n                                            Competences0  \\\nkId                                                        \n0      performing financial risk management in intern...   \n1      perform financial risk management in internati...   \n2                                  produce sales reports   \n3      performing financial risk management in intern...   \n4      perform financial risk management in internati...   \n...                                                  ...   \n19667                              perform risk analysis   \n19668                  understand the animal's situation   \n19669                 translate keywords into full texts   \n19670                               respond to enquiries   \n19671                                wear cleanroom suit   \n\n                                            Competences1  \\\nkId                                                        \n0                                 conform with deadlines   \n1                    managing a business with great care   \n2      performing financial risk management in intern...   \n3                             maintain financial records   \n4                                       manage processes   \n...                                                  ...   \n19667          perform maintenance on fire alarm systems   \n19668            plan physical rehabilitation of animals   \n19669                              revise legal document   \n19670                         arrange immigration advice   \n19671                     interpreting assembly drawings   \n\n                                            Competences2  \\\nkId                                                        \n0                                       manage processes   \n1      build rapport with people from different cultu...   \n2               monitor international market performance   \n3                                                      -   \n4                          demonstrate computer literacy   \n...                                                  ...   \n19667                             inspect fire equipment   \n19668           manage personal professional development   \n19669                            perform clerical duties   \n19670                     furnish official documentation   \n19671                                   manipulate glass   \n\n                                     Competences3  ...  \\\nkId                                                ...   \n0       concede business ethical code of conducts  ...   \n1                       apply conflict management  ...   \n2                  direct distribution operations  ...   \n3                                               -  ...   \n4      abide by business ethical code of conducts  ...   \n...                                           ...  ...   \n19667               ensure equipment availability  ...   \n19668                   manage animal biosecurity  ...   \n19669                     manage personnel agenda  ...   \n19670              investigate official documents  ...   \n19671                  oversee product inspection  ...   \n\n                      Knowledge4           Knowledge5  \\\nkId                                                     \n0                              -                    -   \n1            embargo regulations                    -   \n2      control export principles  embargo regulations   \n3                              -                    -   \n4      export control principles  embargo legislation   \n...                          ...                  ...   \n19667             building codes                    -   \n19668  animal production science   anatomy of animals   \n19669           court procedures            civil law   \n19670                          -                    -   \n19671     digital camera sensors          film camera   \n\n                                              Knowledge6 Language0 Language1  \\\nkId                                                                            \n0                                                      -   Italian    French   \n1                                                      -   Italian    French   \n2                                      chemical products    French         -   \n3                                                      -   Italian    French   \n4      animal health rules of distribution of product...   Italian   English   \n...                                                  ...       ...       ...   \n19667                                                  -    German         -   \n19668                                                  -   Spanish         -   \n19669                                                  -   Spanish   Italian   \n19670                                                  -    German   English   \n19671                                                  -    French  Albanian   \n\n      Language2 Language_level0 Language_level1 Language_level2 Experience  \nkId                                                                         \n0       English              A2            Null            Null          1  \n1             -              A2            Null               -          1  \n2             -            Null               -               -          3  \n3             -              A2            Null               -          4  \n4             -              A2              A2               -          2  \n...         ...             ...             ...             ...        ...  \n19667         -              A2               -               -          2  \n19668         -            Null               -               -          2  \n19669    French              B2            Null            Null          1  \n19670         -            Null            Null               -          3  \n19671         -              A1              A2               -          1  \n\n[19672 rows x 27 columns]",
      "text/html": "<div>\n<style scoped>\n    .dataframe tbody tr th:only-of-type {\n        vertical-align: middle;\n    }\n\n    .dataframe tbody tr th {\n        vertical-align: top;\n    }\n\n    .dataframe thead th {\n        text-align: right;\n    }\n</style>\n<table border=\"1\" class=\"dataframe\">\n  <thead>\n    <tr style=\"text-align: right;\">\n      <th></th>\n      <th>qId</th>\n      <th>metadata</th>\n      <th>Education</th>\n      <th>Age</th>\n      <th>City</th>\n      <th>JobRange</th>\n      <th>Competences0</th>\n      <th>Competences1</th>\n      <th>Competences2</th>\n      <th>Competences3</th>\n      <th>...</th>\n      <th>Knowledge4</th>\n      <th>Knowledge5</th>\n      <th>Knowledge6</th>\n      <th>Language0</th>\n      <th>Language1</th>\n      <th>Language2</th>\n      <th>Language_level0</th>\n      <th>Language_level1</th>\n      <th>Language_level2</th>\n      <th>Experience</th>\n    </tr>\n    <tr>\n      <th>kId</th>\n      <th></th>\n      <th></th>\n      <th></th>\n      <th></th>\n      <th></th>\n      <th></th>\n      <th></th>\n      <th></th>\n      <th></th>\n      <th></th>\n      <th></th>\n      <th></th>\n      <th></th>\n      <th></th>\n      <th></th>\n      <th></th>\n      <th></th>\n      <th></th>\n      <th></th>\n      <th></th>\n      <th></th>\n    </tr>\n  </thead>\n  <tbody>\n    <tr>\n      <th>0</th>\n      <td>0</td>\n      <td>{'occ': 'b49f95f8-c1c8-428f-9f1f-5f5abae55e51'...</td>\n      <td>Master-D.</td>\n      <td>31</td>\n      <td>Belmonte Mezzagno</td>\n      <td>90</td>\n      <td>performing financial risk management in intern...</td>\n      <td>conform with deadlines</td>\n      <td>manage processes</td>\n      <td>concede business ethical code of conducts</td>\n      <td>...</td>\n      <td>-</td>\n      <td>-</td>\n      <td>-</td>\n      <td>Italian</td>\n      <td>French</td>\n      <td>English</td>\n      <td>A2</td>\n      <td>Null</td>\n      <td>Null</td>\n      <td>1</td>\n    </tr>\n    <tr>\n      <th>1</th>\n      <td>0</td>\n      <td>{'occ': 'b148e7a3-e5b0-4edc-b770-85ab81f36ac9'...</td>\n      <td>Master-D.</td>\n      <td>30</td>\n      <td>Casalmaggiore</td>\n      <td>80</td>\n      <td>perform financial risk management in internati...</td>\n      <td>managing a business with great care</td>\n      <td>build rapport with people from different cultu...</td>\n      <td>apply conflict management</td>\n      <td>...</td>\n      <td>embargo regulations</td>\n      <td>-</td>\n      <td>-</td>\n      <td>Italian</td>\n      <td>French</td>\n      <td>-</td>\n      <td>A2</td>\n      <td>Null</td>\n      <td>-</td>\n      <td>1</td>\n    </tr>\n    <tr>\n      <th>2</th>\n      <td>0</td>\n      <td>{'occ': 'fd00e4bb-dcee-41d7-81d3-2cdebad8fe70'...</td>\n      <td>Master-D.</td>\n      <td>40</td>\n      <td>Pozzuoli</td>\n      <td>80</td>\n      <td>produce sales reports</td>\n      <td>performing financial risk management in intern...</td>\n      <td>monitor international market performance</td>\n      <td>direct distribution operations</td>\n      <td>...</td>\n      <td>control export principles</td>\n      <td>embargo regulations</td>\n      <td>chemical products</td>\n      <td>French</td>\n      <td>-</td>\n      <td>-</td>\n      <td>Null</td>\n      <td>-</td>\n      <td>-</td>\n      <td>3</td>\n    </tr>\n    <tr>\n      <th>3</th>\n      <td>0</td>\n      <td>{'occ': 'bbba890e-ecae-43ba-9c5b-a65baa318f15'...</td>\n      <td>Master-D.</td>\n      <td>37</td>\n      <td>Vaiano</td>\n      <td>50</td>\n      <td>performing financial risk management in intern...</td>\n      <td>maintain financial records</td>\n      <td>-</td>\n      <td>-</td>\n      <td>...</td>\n      <td>-</td>\n      <td>-</td>\n      <td>-</td>\n      <td>Italian</td>\n      <td>French</td>\n      <td>-</td>\n      <td>A2</td>\n      <td>Null</td>\n      <td>-</td>\n      <td>4</td>\n    </tr>\n    <tr>\n      <th>4</th>\n      <td>0</td>\n      <td>{'occ': 'b2826761-6fc4-4344-9d36-d8455cb6b185'...</td>\n      <td>Master-D.</td>\n      <td>30</td>\n      <td>Lusciano</td>\n      <td>70</td>\n      <td>perform financial risk management in internati...</td>\n      <td>manage processes</td>\n      <td>demonstrate computer literacy</td>\n      <td>abide by business ethical code of conducts</td>\n      <td>...</td>\n      <td>export control principles</td>\n      <td>embargo legislation</td>\n      <td>animal health rules of distribution of product...</td>\n      <td>Italian</td>\n      <td>English</td>\n      <td>-</td>\n      <td>A2</td>\n      <td>A2</td>\n      <td>-</td>\n      <td>2</td>\n    </tr>\n    <tr>\n      <th>...</th>\n      <td>...</td>\n      <td>...</td>\n      <td>...</td>\n      <td>...</td>\n      <td>...</td>\n      <td>...</td>\n      <td>...</td>\n      <td>...</td>\n      <td>...</td>\n      <td>...</td>\n      <td>...</td>\n      <td>...</td>\n      <td>...</td>\n      <td>...</td>\n      <td>...</td>\n      <td>...</td>\n      <td>...</td>\n      <td>...</td>\n      <td>...</td>\n      <td>...</td>\n      <td>...</td>\n    </tr>\n    <tr>\n      <th>19667</th>\n      <td>219</td>\n      <td>{'occ': 'f2413988-f76a-4636-a4b1-9952517aa21f'...</td>\n      <td>Degree</td>\n      <td>39</td>\n      <td>Marano di Napoli</td>\n      <td>70</td>\n      <td>perform risk analysis</td>\n      <td>perform maintenance on fire alarm systems</td>\n      <td>inspect fire equipment</td>\n      <td>ensure equipment availability</td>\n      <td>...</td>\n      <td>building codes</td>\n      <td>-</td>\n      <td>-</td>\n      <td>German</td>\n      <td>-</td>\n      <td>-</td>\n      <td>A2</td>\n      <td>-</td>\n      <td>-</td>\n      <td>2</td>\n    </tr>\n    <tr>\n      <th>19668</th>\n      <td>219</td>\n      <td>{'occ': '289c7385-2342-4a4e-b0b1-7b2e977aea79'...</td>\n      <td>Master-D.</td>\n      <td>18</td>\n      <td>Trani</td>\n      <td>30</td>\n      <td>understand the animal's situation</td>\n      <td>plan physical rehabilitation of animals</td>\n      <td>manage personal professional development</td>\n      <td>manage animal biosecurity</td>\n      <td>...</td>\n      <td>animal production science</td>\n      <td>anatomy of animals</td>\n      <td>-</td>\n      <td>Spanish</td>\n      <td>-</td>\n      <td>-</td>\n      <td>Null</td>\n      <td>-</td>\n      <td>-</td>\n      <td>2</td>\n    </tr>\n    <tr>\n      <th>19669</th>\n      <td>219</td>\n      <td>{'occ': '0264b794-3771-47aa-a675-78bf13b62ee7'...</td>\n      <td>Degree</td>\n      <td>32</td>\n      <td>Mondovi</td>\n      <td>60</td>\n      <td>translate keywords into full texts</td>\n      <td>revise legal document</td>\n      <td>perform clerical duties</td>\n      <td>manage personnel agenda</td>\n      <td>...</td>\n      <td>court procedures</td>\n      <td>civil law</td>\n      <td>-</td>\n      <td>Spanish</td>\n      <td>Italian</td>\n      <td>French</td>\n      <td>B2</td>\n      <td>Null</td>\n      <td>Null</td>\n      <td>1</td>\n    </tr>\n    <tr>\n      <th>19670</th>\n      <td>219</td>\n      <td>{'occ': 'e19fe26f-0759-4bb1-af71-5bbecf3df69f'...</td>\n      <td>Degree</td>\n      <td>30</td>\n      <td>Mazzarino</td>\n      <td>40</td>\n      <td>respond to enquiries</td>\n      <td>arrange immigration advice</td>\n      <td>furnish official documentation</td>\n      <td>investigate official documents</td>\n      <td>...</td>\n      <td>-</td>\n      <td>-</td>\n      <td>-</td>\n      <td>German</td>\n      <td>English</td>\n      <td>-</td>\n      <td>Null</td>\n      <td>Null</td>\n      <td>-</td>\n      <td>3</td>\n    </tr>\n    <tr>\n      <th>19671</th>\n      <td>219</td>\n      <td>{'occ': 'a7c1431b-a27c-4ab5-ace2-3f8753b481da'...</td>\n      <td>Less-than-degree</td>\n      <td>26</td>\n      <td>Verolavecchia</td>\n      <td>80</td>\n      <td>wear cleanroom suit</td>\n      <td>interpreting assembly drawings</td>\n      <td>manipulate glass</td>\n      <td>oversee product inspection</td>\n      <td>...</td>\n      <td>digital camera sensors</td>\n      <td>film camera</td>\n      <td>-</td>\n      <td>French</td>\n      <td>Albanian</td>\n      <td>-</td>\n      <td>A1</td>\n      <td>A2</td>\n      <td>-</td>\n      <td>1</td>\n    </tr>\n  </tbody>\n</table>\n<p>19672 rows × 27 columns</p>\n</div>"
     },
     "execution_count": 4,
     "metadata": {},
     "output_type": "execute_result"
    }
   ],
   "source": [
    "curricula"
   ],
   "metadata": {
    "collapsed": false,
    "ExecuteTime": {
     "end_time": "2023-12-07T19:34:08.766322100Z",
     "start_time": "2023-12-07T19:34:08.659479600Z"
    }
   },
   "id": "79dabd117691feec"
  },
  {
   "cell_type": "code",
   "execution_count": 5,
   "outputs": [],
   "source": [
    "curricula_md = pd.json_normalize(curricula[\"metadata\"].apply(ast.literal_eval))\n",
    "curricula_md.index.rename(\"kId\", inplace=True)"
   ],
   "metadata": {
    "collapsed": false,
    "ExecuteTime": {
     "end_time": "2023-12-07T19:34:10.141315700Z",
     "start_time": "2023-12-07T19:34:08.768544700Z"
    }
   },
   "id": "768ba0266f5674b0"
  },
  {
   "cell_type": "code",
   "execution_count": 6,
   "outputs": [],
   "source": [
    "# n_comp = curricula_md[\"uri_competences\"].apply(lambda x:len(x))\n",
    "# n_know = curricula_md[\"uri_knowledge\"].apply(lambda x:len(x))\n",
    "# \n",
    "# dt = pd.DataFrame({\"n_comp\":n_comp,\"n_know\":n_know})"
   ],
   "metadata": {
    "collapsed": false,
    "ExecuteTime": {
     "end_time": "2023-12-07T19:34:10.208592300Z",
     "start_time": "2023-12-07T19:34:10.127429100Z"
    }
   },
   "id": "f2ec15168f98b8b"
  },
  {
   "cell_type": "code",
   "execution_count": 8,
   "outputs": [],
   "source": [
    "comp_columns = [\"Competences\"+str(i) for i in range(0, 6 + 1)]\n",
    "know_columns = [\"Knowledge\"+str(i) for i in range(0, 6 + 1)]"
   ],
   "metadata": {
    "collapsed": false,
    "ExecuteTime": {
     "end_time": "2023-12-07T19:34:10.344553300Z",
     "start_time": "2023-12-07T19:34:10.255383100Z"
    }
   },
   "id": "2b9e60782ab8bc63"
  },
  {
   "cell_type": "code",
   "execution_count": 9,
   "outputs": [
    {
     "name": "stderr",
     "output_type": "stream",
     "text": [
      "100%|██████████| 19672/19672 [00:16<00:00, 1192.38it/s]\n"
     ]
    }
   ],
   "source": [
    "counter = np.zeros((2,5))\n",
    "total = np.zeros((2,5))\n",
    "qId_error_comp,qId_error_know = [],[]\n",
    "\n",
    "\n",
    "for kId, cv in tqdm(curricula.iterrows(),total=len(curricula)):\n",
    "\n",
    "    comp = FitnessFunctions.filter(cv[comp_columns].to_list())\n",
    "    know = FitnessFunctions.filter(cv[know_columns].to_list())\n",
    "\n",
    "    un_comp, amb_comp = job_graph.skill_standardize(comp)\n",
    "    un_know, amb_know = job_graph.skill_standardize(know)\n",
    "\n",
    "    contex = un_comp + un_know\n",
    "\n",
    "    de_amb_comp = job_graph.solve_ambiguation(amb_comp, un_comp)\n",
    "    de_amb_know = job_graph.solve_ambiguation(amb_know, un_know)\n",
    "\n",
    " \n",
    "    real_uris = curricula_md.loc[kId, \"uri_competences\"]\n",
    "    total[0, len(amb_comp)] += 1\n",
    "    equal_ = 0 if set(un_comp) | set(de_amb_comp)  ==  set(real_uris) else 1\n",
    "    if equal_ == 1:\n",
    "        counter[0, len(amb_comp)] += 1\n",
    "        qId_error_comp.append(kId)\n",
    "\n",
    "    real_uris = curricula_md.loc[kId, \"uri_knowledge\"]\n",
    "    total[1, len(amb_know)] += 1\n",
    "    equal_ = 0 if set(un_know) | set(de_amb_know)  ==  set(real_uris) else 1\n",
    "    if equal_ == 1:\n",
    "        counter[1, len(amb_know)] += 1\n",
    "        qId_error_know.append(kId)\n"
   ],
   "metadata": {
    "collapsed": false,
    "ExecuteTime": {
     "end_time": "2023-12-07T19:34:26.875062400Z",
     "start_time": "2023-12-07T19:34:10.311898300Z"
    }
   },
   "id": "e5ac7ece1854fdb2"
  },
  {
   "cell_type": "code",
   "execution_count": 10,
   "outputs": [
    {
     "data": {
      "text/plain": "array([[  0., 274.,  53.,   4.,   1.],\n       [  0., 804., 312.,  30.,   2.]])"
     },
     "execution_count": 10,
     "metadata": {},
     "output_type": "execute_result"
    }
   ],
   "source": [
    "counter"
   ],
   "metadata": {
    "collapsed": false,
    "ExecuteTime": {
     "end_time": "2023-12-07T19:34:26.938372600Z",
     "start_time": "2023-12-07T19:34:26.877243300Z"
    }
   },
   "id": "bc69fd3bebe2d286"
  },
  {
   "cell_type": "code",
   "execution_count": 15,
   "outputs": [
    {
     "data": {
      "text/plain": "array([0.98312322, 0.94164294])"
     },
     "execution_count": 15,
     "metadata": {},
     "output_type": "execute_result"
    }
   ],
   "source": [
    "1 - counter.sum(axis=1)/19672"
   ],
   "metadata": {
    "collapsed": false,
    "ExecuteTime": {
     "end_time": "2023-12-07T19:34:38.325803900Z",
     "start_time": "2023-12-07T19:34:38.256180200Z"
    }
   },
   "id": "a491f68f3b10e222"
  },
  {
   "cell_type": "code",
   "execution_count": 12,
   "outputs": [
    {
     "data": {
      "text/plain": "array([[1.6381e+04, 2.9780e+03, 2.9100e+02, 2.0000e+01, 2.0000e+00],\n       [1.5790e+04, 3.3040e+03, 5.2600e+02, 5.0000e+01, 2.0000e+00]])"
     },
     "execution_count": 12,
     "metadata": {},
     "output_type": "execute_result"
    }
   ],
   "source": [
    "total"
   ],
   "metadata": {
    "collapsed": false,
    "ExecuteTime": {
     "end_time": "2023-12-07T19:34:27.046089600Z",
     "start_time": "2023-12-07T19:34:26.988843300Z"
    }
   },
   "id": "b6dae5213b9cb7c5"
  },
  {
   "cell_type": "code",
   "execution_count": 13,
   "outputs": [
    {
     "data": {
      "text/plain": "array([[0.        , 0.09200806, 0.18213058, 0.2       , 0.5       ],\n       [0.        , 0.2433414 , 0.59315589, 0.6       , 1.        ]])"
     },
     "execution_count": 13,
     "metadata": {},
     "output_type": "execute_result"
    }
   ],
   "source": [
    "counter/total"
   ],
   "metadata": {
    "collapsed": false,
    "ExecuteTime": {
     "end_time": "2023-12-07T19:34:27.113396900Z",
     "start_time": "2023-12-07T19:34:27.042900200Z"
    }
   },
   "id": "d493c98958940321"
  },
  {
   "cell_type": "code",
   "execution_count": 14,
   "outputs": [],
   "source": [
    "# iiid = 171\n",
    "# \n",
    "# essential_comp = FitnessFunctions.filter(offer.loc[iiid][es_comp_columns].to_list())\n",
    "# print(\"Essential competence\",essential_comp,\"\\n\")\n",
    "# optional_comp = FitnessFunctions.filter(offer.loc[iiid][op_comp_columns].to_list())\n",
    "# print(\"Optional competence\",optional_comp,\"\\n\")\n",
    "# essential_know = FitnessFunctions.filter(offer.loc[iiid][es_know_columns].to_list())\n",
    "# print(\"Essential knowledge\",essential_know,\"\\n\")\n",
    "# optional_know = FitnessFunctions.filter(offer.loc[iiid][op_know_columns].to_list())\n",
    "# print(\"Optional knowledge\", optional_know,\"\\n\")\n",
    "# \n",
    "# un_es_comp, amb_es_comp = job_graph.skill_standardize(essential_comp)\n",
    "# un_op_comp, amb_op_comp = job_graph.skill_standardize(optional_comp)\n",
    "# un_es_know, amb_es_know = job_graph.skill_standardize(essential_know)\n",
    "# un_op_know, amb_op_know = job_graph.skill_standardize(optional_know)\n",
    "# \n",
    "# contex = set(un_es_comp) | set(un_op_comp) | set(un_es_know) | set(un_op_know)\n",
    "# \n",
    "# print(\"unique\",un_es_comp,\"\\n\")\n",
    "# \n",
    "# print(\"ambigue\",amb_es_comp,\"\\n\")\n",
    "# \n",
    "# deamb_es_comp = job_graph.solve_ambiguation(amb_es_comp, un_es_comp, True)\n",
    "# # print(\"node similarity\", job_graph.node_similarity(amb_op_comp[0], contex,True))\n",
    "# \n",
    "# print(\"deambigued\",deamb_es_comp,\"\\n\")\n",
    "# real_uri = offer_md.loc[iiid, \"uri_competence_essential\"]\n",
    "# print(\"real\",real_uri,\"\\n\")\n",
    "# print(set(un_es_comp) | set(deamb_es_comp) == set(real_uri))\n",
    "# # essential_comp = FitnessFunctions.filter(job[es_comp_columns].to_list())\n",
    "# # optional_comp = FitnessFunctions.filter(job[op_comp_columns].to_list())\n",
    "# # essential_know = FitnessFunctions.filter(job[es_know_columns].to_list())\n",
    "# # optional_know = FitnessFunctions.filter(job[op_know_columns].to_list())"
   ],
   "metadata": {
    "collapsed": false,
    "ExecuteTime": {
     "end_time": "2023-12-07T19:34:27.159422100Z",
     "start_time": "2023-12-07T19:34:27.100295500Z"
    }
   },
   "id": "58577c8da3adf283"
  }
 ],
 "metadata": {
  "kernelspec": {
   "display_name": "Python 3",
   "language": "python",
   "name": "python3"
  },
  "language_info": {
   "codemirror_mode": {
    "name": "ipython",
    "version": 2
   },
   "file_extension": ".py",
   "mimetype": "text/x-python",
   "name": "python",
   "nbconvert_exporter": "python",
   "pygments_lexer": "ipython2",
   "version": "2.7.6"
  }
 },
 "nbformat": 4,
 "nbformat_minor": 5
}
