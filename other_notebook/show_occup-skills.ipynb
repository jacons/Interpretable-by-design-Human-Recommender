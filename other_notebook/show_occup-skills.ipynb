{
 "cells": [
  {
   "cell_type": "code",
   "execution_count": 135,
   "outputs": [],
   "source": [
    "import pandas as pd\n",
    "from Class_utils.JobGraph import JobGraph, RelationNode, TypeNode\n",
    "from Class_utils.parameters import file_paths\n",
    "%reload_ext autoreload\n",
    "%autoreload 2"
   ],
   "metadata": {
    "collapsed": false,
    "ExecuteTime": {
     "end_time": "2023-11-18T11:06:26.522696Z",
     "start_time": "2023-11-18T11:06:26.047860600Z"
    }
   },
   "id": "f74c49e21481b47a"
  },
  {
   "cell_type": "code",
   "execution_count": 137,
   "outputs": [
    {
     "name": "stdout",
     "output_type": "stream",
     "text": [
      "Cache found loading...done\n"
     ]
    }
   ],
   "source": [
    "job_graph = JobGraph(file_paths)"
   ],
   "metadata": {
    "collapsed": false,
    "ExecuteTime": {
     "end_time": "2023-11-18T11:06:35.807969500Z",
     "start_time": "2023-11-18T11:06:34.353664900Z"
    }
   },
   "id": "70e601d198da145b"
  },
  {
   "cell_type": "code",
   "execution_count": 133,
   "outputs": [
    {
     "data": {
      "text/plain": "                                                                                  Skill  \\\n0005c151-5b5a-4a66-8aac-60e734beb1ab                               manage musical staff   \n00064735-8fad-454b-90c7-ed858cc993f2                  supervise correctional procedures   \n000709ed-2be5-4193-b056-45a97698d828                    apply anti-oppressive practices   \n0007bdc2-dd15-4824-b7d6-416522c46f35  control compliance of railway vehicles regulat...   \n00090cc1-1f27-439e-a4e0-19a87a501bfc                        identify available services   \n...                                                                                 ...   \nffef5eb3-a15e-47f5-8c2f-490516c16f6f  remediate healthcare user's occupational perfo...   \nfff0b074-5a76-4acd-a33b-ea464086f159               install transport equipment lighting   \nfff0e2cd-d0bd-4b02-9daf-158b79d9688a                        natural language processing   \nfff5bc45-b506-4466-8977-4869079c1cb2                 coordinate construction activities   \nfff74a70-4f82-4949-9c3b-b335904cf927                  position guardrails and toeboards   \n\n                                                  type               sector  \n0005c151-5b5a-4a66-8aac-60e734beb1ab  skill/competence      sector-specific  \n00064735-8fad-454b-90c7-ed858cc993f2  skill/competence  occupation-specific  \n000709ed-2be5-4193-b056-45a97698d828  skill/competence      sector-specific  \n0007bdc2-dd15-4824-b7d6-416522c46f35  skill/competence      sector-specific  \n00090cc1-1f27-439e-a4e0-19a87a501bfc  skill/competence         cross-sector  \n...                                                ...                  ...  \nffef5eb3-a15e-47f5-8c2f-490516c16f6f  skill/competence      sector-specific  \nfff0b074-5a76-4acd-a33b-ea464086f159  skill/competence      sector-specific  \nfff0e2cd-d0bd-4b02-9daf-158b79d9688a         knowledge      sector-specific  \nfff5bc45-b506-4466-8977-4869079c1cb2  skill/competence         cross-sector  \nfff74a70-4f82-4949-9c3b-b335904cf927  skill/competence         cross-sector  \n\n[13896 rows x 3 columns]",
      "text/html": "<div>\n<style scoped>\n    .dataframe tbody tr th:only-of-type {\n        vertical-align: middle;\n    }\n\n    .dataframe tbody tr th {\n        vertical-align: top;\n    }\n\n    .dataframe thead th {\n        text-align: right;\n    }\n</style>\n<table border=\"1\" class=\"dataframe\">\n  <thead>\n    <tr style=\"text-align: right;\">\n      <th></th>\n      <th>Skill</th>\n      <th>type</th>\n      <th>sector</th>\n    </tr>\n  </thead>\n  <tbody>\n    <tr>\n      <th>0005c151-5b5a-4a66-8aac-60e734beb1ab</th>\n      <td>manage musical staff</td>\n      <td>skill/competence</td>\n      <td>sector-specific</td>\n    </tr>\n    <tr>\n      <th>00064735-8fad-454b-90c7-ed858cc993f2</th>\n      <td>supervise correctional procedures</td>\n      <td>skill/competence</td>\n      <td>occupation-specific</td>\n    </tr>\n    <tr>\n      <th>000709ed-2be5-4193-b056-45a97698d828</th>\n      <td>apply anti-oppressive practices</td>\n      <td>skill/competence</td>\n      <td>sector-specific</td>\n    </tr>\n    <tr>\n      <th>0007bdc2-dd15-4824-b7d6-416522c46f35</th>\n      <td>control compliance of railway vehicles regulat...</td>\n      <td>skill/competence</td>\n      <td>sector-specific</td>\n    </tr>\n    <tr>\n      <th>00090cc1-1f27-439e-a4e0-19a87a501bfc</th>\n      <td>identify available services</td>\n      <td>skill/competence</td>\n      <td>cross-sector</td>\n    </tr>\n    <tr>\n      <th>...</th>\n      <td>...</td>\n      <td>...</td>\n      <td>...</td>\n    </tr>\n    <tr>\n      <th>ffef5eb3-a15e-47f5-8c2f-490516c16f6f</th>\n      <td>remediate healthcare user's occupational perfo...</td>\n      <td>skill/competence</td>\n      <td>sector-specific</td>\n    </tr>\n    <tr>\n      <th>fff0b074-5a76-4acd-a33b-ea464086f159</th>\n      <td>install transport equipment lighting</td>\n      <td>skill/competence</td>\n      <td>sector-specific</td>\n    </tr>\n    <tr>\n      <th>fff0e2cd-d0bd-4b02-9daf-158b79d9688a</th>\n      <td>natural language processing</td>\n      <td>knowledge</td>\n      <td>sector-specific</td>\n    </tr>\n    <tr>\n      <th>fff5bc45-b506-4466-8977-4869079c1cb2</th>\n      <td>coordinate construction activities</td>\n      <td>skill/competence</td>\n      <td>cross-sector</td>\n    </tr>\n    <tr>\n      <th>fff74a70-4f82-4949-9c3b-b335904cf927</th>\n      <td>position guardrails and toeboards</td>\n      <td>skill/competence</td>\n      <td>cross-sector</td>\n    </tr>\n  </tbody>\n</table>\n<p>13896 rows × 3 columns</p>\n</div>"
     },
     "execution_count": 133,
     "metadata": {},
     "output_type": "execute_result"
    }
   ],
   "source": [
    "job_graph.skills"
   ],
   "metadata": {
    "collapsed": false,
    "ExecuteTime": {
     "end_time": "2023-11-18T11:05:45.964283100Z",
     "start_time": "2023-11-18T11:05:45.501161Z"
    }
   },
   "id": "cb12f5e9520eb493"
  },
  {
   "cell_type": "code",
   "execution_count": 134,
   "outputs": [
    {
     "data": {
      "text/plain": "                               id_occupation relation_type  \\\n8       000e93a3-d956-4e45-aacb-f12c83fedf84     essential   \n9       000e93a3-d956-4e45-aacb-f12c83fedf84     essential   \n10      000e93a3-d956-4e45-aacb-f12c83fedf84     essential   \n11      000e93a3-d956-4e45-aacb-f12c83fedf84     essential   \n12      000e93a3-d956-4e45-aacb-f12c83fedf84     essential   \n...                                      ...           ...   \n123737  ffc292f1-89e2-4406-8eff-39096c94e731      optional   \n123738  ffc292f1-89e2-4406-8eff-39096c94e731     essential   \n123739  ffc292f1-89e2-4406-8eff-39096c94e731      optional   \n123740  ffc292f1-89e2-4406-8eff-39096c94e731     essential   \n123741  ffc292f1-89e2-4406-8eff-39096c94e731     essential   \n\n                                    id_skill  \n8       3b3b7373-220a-4287-87cf-e24a208b63c6  \n9       7f107a85-d6ac-410f-a995-d635c5aa418b  \n10      86ed2a45-eae9-4ab7-b0e6-d7508d33df4f  \n11      8d4271ca-c9fd-40b3-875f-15f78332a49e  \n12      b652c752-ef22-4648-9a30-afe8c4d20d6e  \n...                                      ...  \n123737  ba8b530e-8f6f-4667-b734-3358797c0595  \n123738  9b9135e0-2da5-484d-a9d9-0ac2fe4a89a6  \n123739  ca06223b-ce7c-4b30-b52a-e555ee08a653  \n123740  76dc6263-a4dc-4123-9aea-25b1fead6edd  \n123741  09d79759-316b-48fe-b95d-a7b5954fb74f  \n\n[108228 rows x 3 columns]",
      "text/html": "<div>\n<style scoped>\n    .dataframe tbody tr th:only-of-type {\n        vertical-align: middle;\n    }\n\n    .dataframe tbody tr th {\n        vertical-align: top;\n    }\n\n    .dataframe thead th {\n        text-align: right;\n    }\n</style>\n<table border=\"1\" class=\"dataframe\">\n  <thead>\n    <tr style=\"text-align: right;\">\n      <th></th>\n      <th>id_occupation</th>\n      <th>relation_type</th>\n      <th>id_skill</th>\n    </tr>\n  </thead>\n  <tbody>\n    <tr>\n      <th>8</th>\n      <td>000e93a3-d956-4e45-aacb-f12c83fedf84</td>\n      <td>essential</td>\n      <td>3b3b7373-220a-4287-87cf-e24a208b63c6</td>\n    </tr>\n    <tr>\n      <th>9</th>\n      <td>000e93a3-d956-4e45-aacb-f12c83fedf84</td>\n      <td>essential</td>\n      <td>7f107a85-d6ac-410f-a995-d635c5aa418b</td>\n    </tr>\n    <tr>\n      <th>10</th>\n      <td>000e93a3-d956-4e45-aacb-f12c83fedf84</td>\n      <td>essential</td>\n      <td>86ed2a45-eae9-4ab7-b0e6-d7508d33df4f</td>\n    </tr>\n    <tr>\n      <th>11</th>\n      <td>000e93a3-d956-4e45-aacb-f12c83fedf84</td>\n      <td>essential</td>\n      <td>8d4271ca-c9fd-40b3-875f-15f78332a49e</td>\n    </tr>\n    <tr>\n      <th>12</th>\n      <td>000e93a3-d956-4e45-aacb-f12c83fedf84</td>\n      <td>essential</td>\n      <td>b652c752-ef22-4648-9a30-afe8c4d20d6e</td>\n    </tr>\n    <tr>\n      <th>...</th>\n      <td>...</td>\n      <td>...</td>\n      <td>...</td>\n    </tr>\n    <tr>\n      <th>123737</th>\n      <td>ffc292f1-89e2-4406-8eff-39096c94e731</td>\n      <td>optional</td>\n      <td>ba8b530e-8f6f-4667-b734-3358797c0595</td>\n    </tr>\n    <tr>\n      <th>123738</th>\n      <td>ffc292f1-89e2-4406-8eff-39096c94e731</td>\n      <td>essential</td>\n      <td>9b9135e0-2da5-484d-a9d9-0ac2fe4a89a6</td>\n    </tr>\n    <tr>\n      <th>123739</th>\n      <td>ffc292f1-89e2-4406-8eff-39096c94e731</td>\n      <td>optional</td>\n      <td>ca06223b-ce7c-4b30-b52a-e555ee08a653</td>\n    </tr>\n    <tr>\n      <th>123740</th>\n      <td>ffc292f1-89e2-4406-8eff-39096c94e731</td>\n      <td>essential</td>\n      <td>76dc6263-a4dc-4123-9aea-25b1fead6edd</td>\n    </tr>\n    <tr>\n      <th>123741</th>\n      <td>ffc292f1-89e2-4406-8eff-39096c94e731</td>\n      <td>essential</td>\n      <td>09d79759-316b-48fe-b95d-a7b5954fb74f</td>\n    </tr>\n  </tbody>\n</table>\n<p>108228 rows × 3 columns</p>\n</div>"
     },
     "execution_count": 134,
     "metadata": {},
     "output_type": "execute_result"
    }
   ],
   "source": [
    "job_graph.occ2skills"
   ],
   "metadata": {
    "collapsed": false,
    "ExecuteTime": {
     "end_time": "2023-11-18T11:05:49.225581800Z",
     "start_time": "2023-11-18T11:05:48.773761500Z"
    }
   },
   "id": "c185f82bdbb987eb"
  },
  {
   "cell_type": "code",
   "execution_count": 117,
   "outputs": [
    {
     "data": {
      "text/plain": "                                    id_skill  \\\n0       0005c151-5b5a-4a66-8aac-60e734beb1ab   \n1       0005c151-5b5a-4a66-8aac-60e734beb1ab   \n2       0005c151-5b5a-4a66-8aac-60e734beb1ab   \n3       0005c151-5b5a-4a66-8aac-60e734beb1ab   \n4       00064735-8fad-454b-90c7-ed858cc993f2   \n...                                      ...   \n124510  fff5bc45-b506-4466-8977-4869079c1cb2   \n124511  fff74a70-4f82-4949-9c3b-b335904cf927   \n124512  fff74a70-4f82-4949-9c3b-b335904cf927   \n124513  fff74a70-4f82-4949-9c3b-b335904cf927   \n124514  fff74a70-4f82-4949-9c3b-b335904cf927   \n\n                                     Skill              type  \\\n0                     manage musical staff  skill/competence   \n1                     manage musical staff  skill/competence   \n2                     manage musical staff  skill/competence   \n3                     manage musical staff  skill/competence   \n4        supervise correctional procedures  skill/competence   \n...                                    ...               ...   \n124510  coordinate construction activities  skill/competence   \n124511   position guardrails and toeboards  skill/competence   \n124512   position guardrails and toeboards  skill/competence   \n124513   position guardrails and toeboards  skill/competence   \n124514   position guardrails and toeboards  skill/competence   \n\n                     sector                         id_occupation  \\\n0           sector-specific  0e216d47-fc12-43e9-8953-ad8ba11f4b96   \n1           sector-specific  13d8b1be-d711-4bbc-a45e-cad605162f41   \n2           sector-specific  cf7b89d0-1cf9-4567-a8bf-9d6905a2b31b   \n3           sector-specific  f6803a58-91d9-4251-9a07-09fc387cec16   \n4       occupation-specific  6db9eeae-aef5-4f56-913d-4650e4c720c6   \n...                     ...                                   ...   \n124510         cross-sector  e575efca-c3e4-43fe-8c46-327d310f795e   \n124511         cross-sector  18fa8080-3156-429a-bbd7-b3ef559b6721   \n124512         cross-sector  2ea3070e-3d0b-4de6-b5bd-fe4a04649b04   \n124513         cross-sector  47300afa-5496-484c-8f65-14247a98b2b8   \n124514         cross-sector  6cfba9ca-f9a0-4a50-a8d3-064d88c928b1   \n\n       relation_type _merge  \n0          essential   both  \n1          essential   both  \n2          essential   both  \n3           optional   both  \n4          essential   both  \n...              ...    ...  \n124510     essential   both  \n124511     essential   both  \n124512      optional   both  \n124513     essential   both  \n124514      optional   both  \n\n[124515 rows x 7 columns]",
      "text/html": "<div>\n<style scoped>\n    .dataframe tbody tr th:only-of-type {\n        vertical-align: middle;\n    }\n\n    .dataframe tbody tr th {\n        vertical-align: top;\n    }\n\n    .dataframe thead th {\n        text-align: right;\n    }\n</style>\n<table border=\"1\" class=\"dataframe\">\n  <thead>\n    <tr style=\"text-align: right;\">\n      <th></th>\n      <th>id_skill</th>\n      <th>Skill</th>\n      <th>type</th>\n      <th>sector</th>\n      <th>id_occupation</th>\n      <th>relation_type</th>\n      <th>_merge</th>\n    </tr>\n  </thead>\n  <tbody>\n    <tr>\n      <th>0</th>\n      <td>0005c151-5b5a-4a66-8aac-60e734beb1ab</td>\n      <td>manage musical staff</td>\n      <td>skill/competence</td>\n      <td>sector-specific</td>\n      <td>0e216d47-fc12-43e9-8953-ad8ba11f4b96</td>\n      <td>essential</td>\n      <td>both</td>\n    </tr>\n    <tr>\n      <th>1</th>\n      <td>0005c151-5b5a-4a66-8aac-60e734beb1ab</td>\n      <td>manage musical staff</td>\n      <td>skill/competence</td>\n      <td>sector-specific</td>\n      <td>13d8b1be-d711-4bbc-a45e-cad605162f41</td>\n      <td>essential</td>\n      <td>both</td>\n    </tr>\n    <tr>\n      <th>2</th>\n      <td>0005c151-5b5a-4a66-8aac-60e734beb1ab</td>\n      <td>manage musical staff</td>\n      <td>skill/competence</td>\n      <td>sector-specific</td>\n      <td>cf7b89d0-1cf9-4567-a8bf-9d6905a2b31b</td>\n      <td>essential</td>\n      <td>both</td>\n    </tr>\n    <tr>\n      <th>3</th>\n      <td>0005c151-5b5a-4a66-8aac-60e734beb1ab</td>\n      <td>manage musical staff</td>\n      <td>skill/competence</td>\n      <td>sector-specific</td>\n      <td>f6803a58-91d9-4251-9a07-09fc387cec16</td>\n      <td>optional</td>\n      <td>both</td>\n    </tr>\n    <tr>\n      <th>4</th>\n      <td>00064735-8fad-454b-90c7-ed858cc993f2</td>\n      <td>supervise correctional procedures</td>\n      <td>skill/competence</td>\n      <td>occupation-specific</td>\n      <td>6db9eeae-aef5-4f56-913d-4650e4c720c6</td>\n      <td>essential</td>\n      <td>both</td>\n    </tr>\n    <tr>\n      <th>...</th>\n      <td>...</td>\n      <td>...</td>\n      <td>...</td>\n      <td>...</td>\n      <td>...</td>\n      <td>...</td>\n      <td>...</td>\n    </tr>\n    <tr>\n      <th>124510</th>\n      <td>fff5bc45-b506-4466-8977-4869079c1cb2</td>\n      <td>coordinate construction activities</td>\n      <td>skill/competence</td>\n      <td>cross-sector</td>\n      <td>e575efca-c3e4-43fe-8c46-327d310f795e</td>\n      <td>essential</td>\n      <td>both</td>\n    </tr>\n    <tr>\n      <th>124511</th>\n      <td>fff74a70-4f82-4949-9c3b-b335904cf927</td>\n      <td>position guardrails and toeboards</td>\n      <td>skill/competence</td>\n      <td>cross-sector</td>\n      <td>18fa8080-3156-429a-bbd7-b3ef559b6721</td>\n      <td>essential</td>\n      <td>both</td>\n    </tr>\n    <tr>\n      <th>124512</th>\n      <td>fff74a70-4f82-4949-9c3b-b335904cf927</td>\n      <td>position guardrails and toeboards</td>\n      <td>skill/competence</td>\n      <td>cross-sector</td>\n      <td>2ea3070e-3d0b-4de6-b5bd-fe4a04649b04</td>\n      <td>optional</td>\n      <td>both</td>\n    </tr>\n    <tr>\n      <th>124513</th>\n      <td>fff74a70-4f82-4949-9c3b-b335904cf927</td>\n      <td>position guardrails and toeboards</td>\n      <td>skill/competence</td>\n      <td>cross-sector</td>\n      <td>47300afa-5496-484c-8f65-14247a98b2b8</td>\n      <td>essential</td>\n      <td>both</td>\n    </tr>\n    <tr>\n      <th>124514</th>\n      <td>fff74a70-4f82-4949-9c3b-b335904cf927</td>\n      <td>position guardrails and toeboards</td>\n      <td>skill/competence</td>\n      <td>cross-sector</td>\n      <td>6cfba9ca-f9a0-4a50-a8d3-064d88c928b1</td>\n      <td>optional</td>\n      <td>both</td>\n    </tr>\n  </tbody>\n</table>\n<p>124515 rows × 7 columns</p>\n</div>"
     },
     "execution_count": 117,
     "metadata": {},
     "output_type": "execute_result"
    }
   ],
   "source": [
    "merged_df =  pd.merge(job_graph.skills, job_graph.occ2skills, on='id_skill', how='left', indicator=True)\n",
    "merged_df"
   ],
   "metadata": {
    "collapsed": false,
    "ExecuteTime": {
     "end_time": "2023-11-18T10:42:57.770043900Z",
     "start_time": "2023-11-18T10:42:57.386960Z"
    }
   },
   "id": "bb638fe8ce02f60f"
  },
  {
   "cell_type": "code",
   "execution_count": 123,
   "outputs": [
    {
     "data": {
      "text/plain": "101       001115fb-569f-4ee6-8381-c6807ef2527f\n607       0167ee96-f478-4383-afe6-aabf387da5b3\n614       0171653e-c8e9-4c24-bb86-a4b6fe038f25\n725       01f10952-cb59-4347-9aee-d4fbc51c870a\n1125      02d68c2b-1722-4440-8e25-376650e123c8\n                          ...                 \n123927    fe953e78-6541-4715-b5e4-8f7582fcb201\n123971    feb98135-93fe-4b57-b7f6-cf7d4796bc39\n124094    ff258a7e-b2ba-414a-9878-2380ecf89de0\n124114    ff52e69a-8873-4827-b140-958dee5a62bb\n124251    ff7f57d7-084b-4ec2-8e2d-2637b1ab3931\nName: id_skill, Length: 773, dtype: object"
     },
     "execution_count": 123,
     "metadata": {},
     "output_type": "execute_result"
    }
   ],
   "source": [
    "merged_df[merged_df['_merge'] == 'left_only'][\"id_skill\"]"
   ],
   "metadata": {
    "collapsed": false,
    "ExecuteTime": {
     "end_time": "2023-11-18T10:47:06.696841200Z",
     "start_time": "2023-11-18T10:47:06.363234200Z"
    }
   },
   "id": "6d87cfe2fa57e07e"
  },
  {
   "cell_type": "code",
   "execution_count": null,
   "outputs": [],
   "source": [],
   "metadata": {
    "collapsed": false
   },
   "id": "72e86aa159112a03"
  }
 ],
 "metadata": {
  "kernelspec": {
   "display_name": "Python 3",
   "language": "python",
   "name": "python3"
  },
  "language_info": {
   "codemirror_mode": {
    "name": "ipython",
    "version": 2
   },
   "file_extension": ".py",
   "mimetype": "text/x-python",
   "name": "python",
   "nbconvert_exporter": "python",
   "pygments_lexer": "ipython2",
   "version": "2.7.6"
  }
 },
 "nbformat": 4,
 "nbformat_minor": 5
}
