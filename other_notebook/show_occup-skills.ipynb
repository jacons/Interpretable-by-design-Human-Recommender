{
 "cells": [
  {
   "cell_type": "code",
   "execution_count": 35,
   "outputs": [],
   "source": [
    "import pandas as pd\n",
    "import  networkx as nx\n",
    "from Generator.JobGraph import JobGraph, RelationNode, TypeNode\n",
    "\n",
    "%reload_ext autoreload\n",
    "%autoreload 2"
   ],
   "metadata": {
    "collapsed": false,
    "ExecuteTime": {
     "end_time": "2023-11-10T15:17:22.057593700Z",
     "start_time": "2023-11-10T15:17:19.016561500Z"
    }
   },
   "id": "f74c49e21481b47a"
  },
  {
   "cell_type": "code",
   "execution_count": 36,
   "outputs": [],
   "source": [
    "occ2skill = \"../sources/job2skills.csv\"\n",
    "skills = \"../sources/skills.csv\"\n",
    "occupation = \"../sources/occupations.csv\""
   ],
   "metadata": {
    "collapsed": false,
    "ExecuteTime": {
     "end_time": "2023-11-10T15:17:22.278595600Z",
     "start_time": "2023-11-10T15:17:22.061621400Z"
    }
   },
   "id": "150c88e6a1ec97e6"
  },
  {
   "cell_type": "code",
   "execution_count": 37,
   "outputs": [],
   "source": [
    "job_graph = JobGraph(occ2skill, occupation, skills)"
   ],
   "metadata": {
    "collapsed": false,
    "ExecuteTime": {
     "end_time": "2023-11-10T15:17:51.524250700Z",
     "start_time": "2023-11-10T15:17:22.282616200Z"
    }
   },
   "id": "70e601d198da145b"
  },
  {
   "cell_type": "code",
   "execution_count": 2,
   "outputs": [],
   "source": [
    "skills = pd.read_csv(\"../sources/skills_synonyms.csv\")"
   ],
   "metadata": {
    "collapsed": false,
    "ExecuteTime": {
     "end_time": "2023-11-07T10:38:33.325728400Z",
     "start_time": "2023-11-07T10:38:33.172754300Z"
    }
   },
   "id": "b917d1b7ce5b3d0a"
  }
 ],
 "metadata": {
  "kernelspec": {
   "display_name": "Python 3",
   "language": "python",
   "name": "python3"
  },
  "language_info": {
   "codemirror_mode": {
    "name": "ipython",
    "version": 2
   },
   "file_extension": ".py",
   "mimetype": "text/x-python",
   "name": "python",
   "nbconvert_exporter": "python",
   "pygments_lexer": "ipython2",
   "version": "2.7.6"
  }
 },
 "nbformat": 4,
 "nbformat_minor": 5
}
