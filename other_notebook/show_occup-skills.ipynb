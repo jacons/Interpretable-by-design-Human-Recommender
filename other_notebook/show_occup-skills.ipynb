{
 "cells": [
  {
   "cell_type": "code",
   "execution_count": null,
   "outputs": [],
   "source": [
    "import sys\n",
    "\n",
    "import pandas as pd\n",
    "from Class_utils.JobGraph import JobGraph, RelationNode, TypeNode\n",
    "from Class_utils.parameters import file_paths, job_graph_par\n",
    "%reload_ext autoreload\n",
    "%autoreload 2"
   ],
   "metadata": {
    "collapsed": false
   },
   "id": "f74c49e21481b47a"
  },
  {
   "cell_type": "code",
   "execution_count": null,
   "outputs": [],
   "source": [
    "job_graph = JobGraph(file_paths, **job_graph_par)"
   ],
   "metadata": {
    "collapsed": false
   },
   "id": "70e601d198da145b"
  },
  {
   "cell_type": "markdown",
   "source": [],
   "metadata": {
    "collapsed": false
   },
   "id": "30be49fc80af4ab2"
  },
  {
   "cell_type": "code",
   "execution_count": null,
   "outputs": [],
   "source": [
    "occ = \"258e46f9-0075-4a2e-adae-1ff0477e0f30\""
   ],
   "metadata": {
    "collapsed": false
   },
   "id": "72e86aa159112a03"
  },
  {
   "cell_type": "code",
   "execution_count": null,
   "outputs": [],
   "source": [
    "job_graph.show_subgraph(occ,8)"
   ],
   "metadata": {
    "collapsed": false
   },
   "id": "699f2f50de606e4d"
  },
  {
   "cell_type": "code",
   "execution_count": null,
   "outputs": [],
   "source": [
    "# import pandas as pd\n",
    "# syns = pd.read_csv(\"../sources/skills_synonyms.csv\") "
   ],
   "metadata": {
    "collapsed": false
   },
   "id": "db08030345afe4b0"
  },
  {
   "cell_type": "code",
   "execution_count": null,
   "outputs": [],
   "source": [
    "# id_skill2labels = syns.groupby('id_skill')['label'].apply(list).to_dict()"
   ],
   "metadata": {
    "collapsed": false
   },
   "id": "f034a7b00228be91"
  },
  {
   "cell_type": "code",
   "execution_count": null,
   "outputs": [],
   "source": [
    "# id_skill2labels[\"0005c151-5b5a-4a66-8aac-60e734beb1ab\"]"
   ],
   "metadata": {
    "collapsed": false
   },
   "id": "30e64270521dc669"
  },
  {
   "cell_type": "code",
   "execution_count": null,
   "outputs": [],
   "source": [
    "# for i in [syns.loc[syns[\"label\"]==\"Adobe Photoshop Elements\",\"id_skill\"].values]:\n",
    "#     print(type(i))"
   ],
   "metadata": {
    "collapsed": false
   },
   "id": "5782dfca8017fff"
  },
  {
   "cell_type": "code",
   "execution_count": null,
   "outputs": [],
   "source": [
    "# syns[syns[\"label\"].duplicated(False)].sort_values(by=\"label\")"
   ],
   "metadata": {
    "collapsed": false
   },
   "id": "a47001938cea4afe"
  },
  {
   "cell_type": "code",
   "execution_count": null,
   "outputs": [],
   "source": [
    "# import numpy as np\n",
    "# \n",
    "# np.argmax(job_graph.node_similarity([\"03b9b491-fc9b-4868-914a-bf7cd47b5041\",\"adc6dc11-3376-467b-96c5-9b0a21edc869\"],['8b7409b0-e18e-4dfc-9ad9-8ddbcce38849', 'd2de37c7-7233-481b-8b1a-f4dfde11ca91', 'b9f16465-56a9-426b-a047-0f9f1f95ec92', 'd52487b0-cb03-4f41-a269-40c718018c2c'],True))"
   ],
   "metadata": {
    "collapsed": false
   },
   "id": "99f02bf7be5ea86c"
  },
  {
   "cell_type": "code",
   "execution_count": null,
   "outputs": [],
   "source": [
    "c = ['wear appropriate protective gear',\n",
    "     'peruse engineering drawings',\n",
    "     'run bonding and welding equipment',\n",
    "     'operate automated process control',\n",
    "     'keep records of work progress',\n",
    "     'build electrical and electronic equipment']"
   ],
   "metadata": {
    "collapsed": false
   },
   "id": "a94c3dc77397f0a2"
  },
  {
   "cell_type": "code",
   "execution_count": null,
   "outputs": [],
   "source": [
    "o = ['study engineering drawings','install electrical and electronic equipment']"
   ],
   "metadata": {
    "collapsed": false
   },
   "id": "98ada53324011a05"
  },
  {
   "cell_type": "code",
   "execution_count": null,
   "outputs": [],
   "source": [
    "job_graph.skill_standardize(c,to_ids=False)"
   ],
   "metadata": {
    "collapsed": false
   },
   "id": "6af211148fae30ba"
  },
  {
   "cell_type": "code",
   "execution_count": null,
   "outputs": [],
   "source": [
    "job_graph.skill_standardize(o,to_ids=False)"
   ],
   "metadata": {
    "collapsed": false
   },
   "id": "d3ae90765c0e1cd"
  },
  {
   "cell_type": "code",
   "execution_count": null,
   "outputs": [],
   "source": [
    "c = {'handle cargo space on sale',\n",
    "     'identify suppliers',\n",
    "     'meet deadlines',\n",
    "     'speak different languages',\n",
    "     'tolerate stress'}"
   ],
   "metadata": {
    "collapsed": false
   },
   "id": "a0105cabf52597db"
  },
  {
   "cell_type": "code",
   "execution_count": null,
   "outputs": [],
   "source": [
    "o = {'assess supplier risks'}"
   ],
   "metadata": {
    "collapsed": false
   },
   "id": "c10660efcdd4ae4a"
  },
  {
   "cell_type": "code",
   "execution_count": null,
   "outputs": [],
   "source": [
    "job_graph.node_similarity(o, c)"
   ],
   "metadata": {
    "collapsed": false
   },
   "id": "9adfc33a706790bc"
  },
  {
   "cell_type": "code",
   "execution_count": null,
   "outputs": [],
   "source": [
    "2/3 + 0.5 * 0.7102"
   ],
   "metadata": {
    "collapsed": false
   },
   "id": "a0fa550d31e1407"
  },
  {
   "cell_type": "code",
   "execution_count": null,
   "outputs": [],
   "source": [
    "0.75+0.2823"
   ],
   "metadata": {
    "collapsed": false
   },
   "id": "997ee4d8fda47a16"
  }
 ],
 "metadata": {
  "kernelspec": {
   "display_name": "Python 3",
   "language": "python",
   "name": "python3"
  },
  "language_info": {
   "codemirror_mode": {
    "name": "ipython",
    "version": 2
   },
   "file_extension": ".py",
   "mimetype": "text/x-python",
   "name": "python",
   "nbconvert_exporter": "python",
   "pygments_lexer": "ipython2",
   "version": "2.7.6"
  }
 },
 "nbformat": 4,
 "nbformat_minor": 5
}
