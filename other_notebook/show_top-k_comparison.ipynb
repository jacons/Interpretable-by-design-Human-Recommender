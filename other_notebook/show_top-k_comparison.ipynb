{
 "cells": [
  {
   "cell_type": "code",
   "execution_count": null,
   "outputs": [],
   "source": [
    "import pandas as pd\n",
    "import seaborn as sns\n",
    "import matplotlib.pyplot as plt\n",
    "from Models.grid_search_utils import GridSearch as Gs\n",
    "from pandas import DataFrame\n",
    "\n",
    "import warnings\n",
    "warnings.filterwarnings(\"ignore\", \"is_categorical_dtype\")\n",
    "warnings.filterwarnings(\"ignore\", \"use_inf_as_na\")\n",
    "    "
   ],
   "metadata": {
    "collapsed": false
   },
   "id": "9e1a4e2f42a3fcbe"
  },
  {
   "cell_type": "code",
   "execution_count": null,
   "id": "initial_id",
   "metadata": {
    "collapsed": true
   },
   "outputs": [],
   "source": [
    "LGBMRanker = Gs.load_model(name=\"../Models/BlackBox/lmart/saved_models/LGBMRanker\")\n",
    "FIGSReg = Gs.load_model(name=\"../Models/GlassBox/figs/saved_models/FIGSReg\")\n",
    "EBMReg = Gs.load_model(name=\"../Models/GlassBox/ebm/saved_models/EBMReg\")\n",
    "test_set = pd.read_csv(\"../outputs/scores/0_dataset_ts.csv\")"
   ]
  },
  {
   "cell_type": "code",
   "execution_count": null,
   "outputs": [],
   "source": [
    "job = test_set[test_set[\"qId\"]==84].copy()\n",
    "\n",
    "output_lgmb = LGBMRanker.predict(job.iloc[:,5:].to_numpy())\n",
    "output_ebm = EBMReg.predict(job.iloc[:,5:].to_numpy())\n",
    "output_figs = FIGSReg.predict(job.iloc[:,5:].to_numpy())\n",
    "\n",
    "rank_w_score = pd.DataFrame(job[\"w_score\"].values, index=job.index, columns=[\"pred\"])\n",
    "rank_w_score = rank_w_score.sort_values(by=\"pred\", ascending=False).head(10)\n",
    "rank_w_score[\"rank\"] = rank_w_score[\"pred\"].rank(method=\"first\")\n",
    "rank_w_score[\"ax\"] = 0\n",
    "\n",
    "\n",
    "rank_lgmb = pd.DataFrame(output_lgmb, index=job.index, columns=[\"pred\"])\n",
    "rank_lgmb = rank_lgmb.sort_values(by=\"pred\",ascending=False).head(10)\n",
    "rank_lgmb[\"rank\"] = rank_lgmb[\"pred\"].rank(method=\"first\")\n",
    "rank_lgmb[\"ax\"] = 1\n",
    "\n",
    "rank_ebm = pd.DataFrame(output_ebm, index=job.index, columns=[\"pred\"])\n",
    "rank_ebm = rank_ebm.sort_values(by=\"pred\",ascending=False).head(10)\n",
    "rank_ebm[\"rank\"] = rank_ebm[\"pred\"].rank(method=\"first\")\n",
    "rank_ebm[\"ax\"] = 2\n",
    "\n",
    "rank_figs = pd.DataFrame(output_figs, index=job.index, columns=[\"pred\"])\n",
    "rank_figs = rank_figs.sort_values(by=\"pred\",ascending=False).head(10)\n",
    "rank_figs[\"rank\"] = rank_figs[\"pred\"].rank(method=\"first\")\n",
    "rank_figs[\"ax\"] = 3"
   ],
   "metadata": {
    "collapsed": false
   },
   "id": "a831f36174972f9b"
  },
  {
   "cell_type": "code",
   "execution_count": null,
   "outputs": [],
   "source": [
    "rank_ebm"
   ],
   "metadata": {
    "collapsed": false
   },
   "id": "dc4593bb0127e2bc"
  },
  {
   "cell_type": "code",
   "execution_count": null,
   "outputs": [],
   "source": [
    "job"
   ],
   "metadata": {
    "collapsed": false
   },
   "id": "14e02da750fd4cb5"
  },
  {
   "cell_type": "code",
   "execution_count": null,
   "outputs": [],
   "source": [
    "sns.set_style(\"darkgrid\")\n",
    "\n",
    "_, axs = plt.subplots(figsize=(9, 5))\n",
    "\n",
    "color = [\"Red\",\"Black\",\"Blue\",\"Green\"]\n",
    "for i, dt in enumerate([rank_w_score,rank_lgmb,rank_ebm,rank_figs]):\n",
    "    for kId in dt.index:\n",
    "        y = dt.loc[kId, \"rank\"] - 0.2\n",
    "        x = dt.loc[kId, \"ax\"]\n",
    "        axs.text(x, y, kId, horizontalalignment='center', size=14, color=color[i])\n",
    "        \n",
    "axs.set_xticks([-1, 0, 1, 2, 3, 4],[\"\",\"Ground truth\",\"LGBM Ranker\",\"EBM\",\"FIGS\",\"\"])\n",
    "axs.set_yticks([*range(1,12)],[str(i)+\"°\" for i in range(10,0,-1)]+[\"\"])\n",
    "axs.tick_params(axis='both', labelsize=15)\n",
    "axs.set_xlabel(\"\")\n",
    "axs.set_ylabel(\"Ranking position\",fontsize=16)\n",
    "axs.set_title(\"How to change the ranking by different models\", fontsize=20)\n",
    "axs.grid(axis='x')\n",
    "plt.show()"
   ],
   "metadata": {
    "collapsed": false
   },
   "id": "22936a8e970723c8"
  }
 ],
 "metadata": {
  "kernelspec": {
   "display_name": "Python 3",
   "language": "python",
   "name": "python3"
  },
  "language_info": {
   "codemirror_mode": {
    "name": "ipython",
    "version": 2
   },
   "file_extension": ".py",
   "mimetype": "text/x-python",
   "name": "python",
   "nbconvert_exporter": "python",
   "pygments_lexer": "ipython2",
   "version": "2.7.6"
  }
 },
 "nbformat": 4,
 "nbformat_minor": 5
}
