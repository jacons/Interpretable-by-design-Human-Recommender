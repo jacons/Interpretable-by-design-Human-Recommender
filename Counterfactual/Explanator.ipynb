{
 "cells": [
  {
   "cell_type": "code",
   "execution_count": null,
   "id": "initial_id",
   "metadata": {
    "collapsed": true
   },
   "outputs": [],
   "source": [
    "from Class_utils.parameters import *\n",
    "from KnowledgeBase.JobGraph import JobGraph\n",
    "from Class_utils.FitnessFunctions import FitnessFunctions\n",
    "\n",
    "import pandas as pd"
   ]
  },
  {
   "cell_type": "code",
   "outputs": [],
   "source": [
    "job_graph = JobGraph(file_paths, **job_graph_par)\n",
    "fitness_functions = FitnessFunctions(job_graph, file_paths)"
   ],
   "metadata": {
    "collapsed": false
   },
   "id": "2d59e5aba2ed2453"
  },
  {
   "cell_type": "code",
   "outputs": [],
   "source": [
    "model_path = \"../Models/WhiteBox/figs/saved_models/FIGSReg.pkl\"\n",
    "job_offers_path = \"../outputs/0_job_Offers.csv\"\n",
    "curricula_path = \"../outputs/0_curricula.csv\"\n",
    "\n",
    "job_offers = pd.read_csv(job_offers_path, index_col=0)\n",
    "curricula = pd.read_csv(curricula_path,index_col=[0,1])"
   ],
   "metadata": {
    "collapsed": false
   },
   "id": "1b2e29f6afa5bc2e"
  },
  {
   "cell_type": "code",
   "outputs": [],
   "source": [
    "from Explanation import FIGSExplanation\n",
    "%reload_ext autoreload\n",
    "%autoreload 2\n",
    "\n",
    "explanator = FIGSExplanation(job_graph,fitness_functions, model_path, job_offers, curricula).qId(0)"
   ],
   "metadata": {
    "collapsed": false
   },
   "id": "4ec4159a44cec922"
  },
  {
   "cell_type": "code",
   "outputs": [],
   "source": [
    "explanator.current_job"
   ],
   "metadata": {
    "collapsed": false
   },
   "id": "3b17fb1a2df19422"
  },
  {
   "cell_type": "code",
   "outputs": [],
   "source": [
    "explanator.curricula"
   ],
   "metadata": {
    "collapsed": false
   },
   "id": "b1b22abe80ad80bf"
  },
  {
   "cell_type": "code",
   "outputs": [],
   "source": [
    "explanator.perform_top()"
   ],
   "metadata": {
    "collapsed": false
   },
   "id": "5f5e3c4f6c30f120"
  },
  {
   "cell_type": "code",
   "outputs": [],
   "source": [
    "explanator.get_position(43)"
   ],
   "metadata": {
    "collapsed": false
   },
   "id": "7a47205669e65449"
  },
  {
   "cell_type": "code",
   "outputs": [],
   "source": [
    "explanator.get_max_position(43)"
   ],
   "metadata": {
    "collapsed": false
   },
   "id": "9a365a201192f75e"
  },
  {
   "cell_type": "code",
   "outputs": [],
   "source": [
    "explanator.fitness_matrix.columns"
   ],
   "metadata": {
    "collapsed": false
   },
   "id": "cd9f54e6705bd992"
  }
 ],
 "metadata": {
  "kernelspec": {
   "display_name": "Python 3",
   "language": "python",
   "name": "python3"
  },
  "language_info": {
   "codemirror_mode": {
    "name": "ipython",
    "version": 2
   },
   "file_extension": ".py",
   "mimetype": "text/x-python",
   "name": "python",
   "nbconvert_exporter": "python",
   "pygments_lexer": "ipython2",
   "version": "2.7.6"
  }
 },
 "nbformat": 4,
 "nbformat_minor": 5
}
