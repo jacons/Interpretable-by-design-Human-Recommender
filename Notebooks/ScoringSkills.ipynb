{
 "cells": [
  {
   "cell_type": "code",
   "execution_count": 17,
   "outputs": [],
   "source": [
    "import json\n",
    "\n",
    "with open(\"./sources/jobs_library.json\", \"r\") as f:\n",
    "    jobs = json.load(f)"
   ],
   "metadata": {
    "collapsed": false,
    "ExecuteTime": {
     "end_time": "2023-10-02T14:19:44.822445100Z",
     "start_time": "2023-10-02T14:19:44.806804300Z"
    }
   },
   "id": "146a17636217068c"
  },
  {
   "cell_type": "code",
   "execution_count": 18,
   "outputs": [],
   "source": [
    "support_dict = {}\n",
    "\n",
    "for k, v in jobs.items():\n",
    "    for s in v[\"skills\"]:\n",
    "        if s not in support_dict:\n",
    "            support_dict[s] = [k]\n",
    "        else:\n",
    "            if k not in support_dict[s]:\n",
    "                support_dict[s] += [k]"
   ],
   "metadata": {
    "collapsed": false,
    "ExecuteTime": {
     "end_time": "2023-10-02T14:19:44.900586200Z",
     "start_time": "2023-10-02T14:19:44.822445100Z"
    }
   },
   "id": "beee89b105584649"
  },
  {
   "cell_type": "code",
   "execution_count": 19,
   "id": "initial_id",
   "metadata": {
    "collapsed": true,
    "ExecuteTime": {
     "end_time": "2023-10-02T14:19:44.900586200Z",
     "start_time": "2023-10-02T14:19:44.838100600Z"
    }
   },
   "outputs": [],
   "source": [
    "def find_similar(offer_skills, cv_skills):\n",
    "\n",
    "    intersect = list(set(cv_skills) & set(offer_skills))\n",
    "    score = len(intersect)/len(offer_skills) # \"1\" perfect, \"0\" bad\n",
    "\n",
    "    for i_ in intersect:\n",
    "        offer_skills.remove(i_)\n",
    "        cv_skills.remove(i_)\n",
    "\n",
    "    # offer_skills = [\"Angular\"]\n",
    "    # cv_skills = [\"French\",\"Physics\"]     (2/3) 0.66\n",
    "\n",
    "    # Retrieve all jobs where there is at least one skill\n",
    "    similar_jobs = []\n",
    "    for skill_ in offer_skills:\n",
    "        similar_jobs += support_dict[skill_]\n",
    "\n",
    "    for skill_ in cv_skills:\n",
    "        for job_ in similar_jobs:\n",
    "            if skill_ in jobs[job_][\"skills\"]:\n",
    "                score += 0.1\n",
    "                break\n",
    "    return score"
   ]
  },
  {
   "cell_type": "code",
   "execution_count": 20,
   "outputs": [
    {
     "name": "stdout",
     "output_type": "stream",
     "text": [
      "1.0\n"
     ]
    }
   ],
   "source": [
    "offer_skills = [\"Java\"]\n",
    "cv_skills = [\"Java\"]\n",
    "print(find_similar(offer_skills,cv_skills))"
   ],
   "metadata": {
    "collapsed": false,
    "ExecuteTime": {
     "end_time": "2023-10-02T14:19:44.900586200Z",
     "start_time": "2023-10-02T14:19:44.853720900Z"
    }
   },
   "id": "cf864f25a09d5a8a"
  },
  {
   "cell_type": "code",
   "execution_count": 21,
   "outputs": [
    {
     "name": "stdout",
     "output_type": "stream",
     "text": [
      "1.0\n"
     ]
    }
   ],
   "source": [
    "offer_skills = [\"Java\",\"Keras\"]\n",
    "cv_skills = [\"Java\",\"Keras\"]\n",
    "print(find_similar(offer_skills,cv_skills))"
   ],
   "metadata": {
    "collapsed": false,
    "ExecuteTime": {
     "end_time": "2023-10-02T14:19:44.900586200Z",
     "start_time": "2023-10-02T14:19:44.869325400Z"
    }
   },
   "id": "2d9dc065ef481ab2"
  },
  {
   "cell_type": "code",
   "execution_count": 22,
   "outputs": [
    {
     "name": "stdout",
     "output_type": "stream",
     "text": [
      "0.3333333333333333\n"
     ]
    }
   ],
   "source": [
    "offer_skills = [\"Java\",\"Keras\",\"Angular\"]\n",
    "cv_skills = [\"Java\"]\n",
    "print(find_similar(offer_skills,cv_skills))"
   ],
   "metadata": {
    "collapsed": false,
    "ExecuteTime": {
     "end_time": "2023-10-02T14:19:44.950860800Z",
     "start_time": "2023-10-02T14:19:44.884963Z"
    }
   },
   "id": "4e8dc5362f935ebc"
  },
  {
   "cell_type": "code",
   "execution_count": 23,
   "outputs": [
    {
     "name": "stdout",
     "output_type": "stream",
     "text": [
      "0.6666666666666666\n"
     ]
    }
   ],
   "source": [
    "offer_skills = [\"Java\",\"Keras\",\"Angular\"]\n",
    "cv_skills = [\"Java\",\"Keras\"]\n",
    "print(find_similar(offer_skills,cv_skills))"
   ],
   "metadata": {
    "collapsed": false,
    "ExecuteTime": {
     "end_time": "2023-10-02T14:19:45.022487800Z",
     "start_time": "2023-10-02T14:19:44.906806400Z"
    }
   },
   "id": "53c72d058cb1b972"
  },
  {
   "cell_type": "code",
   "execution_count": null,
   "outputs": [],
   "source": [],
   "metadata": {
    "collapsed": false
   },
   "id": "8152fea2c641ace0"
  },
  {
   "cell_type": "code",
   "execution_count": 24,
   "outputs": [
    {
     "name": "stdout",
     "output_type": "stream",
     "text": [
      "0.43333333333333335\n"
     ]
    }
   ],
   "source": [
    "offer_skills = [\"Java\",\"Keras\",\"Angular\"]\n",
    "cv_skills = [\"Java\",\"XAMPP\"]\n",
    "print(find_similar(offer_skills,cv_skills))"
   ],
   "metadata": {
    "collapsed": false,
    "ExecuteTime": {
     "end_time": "2023-10-02T14:19:45.038112800Z",
     "start_time": "2023-10-02T14:19:44.926750200Z"
    }
   },
   "id": "b585a1bcb63661ac"
  },
  {
   "cell_type": "code",
   "execution_count": 25,
   "outputs": [
    {
     "name": "stdout",
     "output_type": "stream",
     "text": [
      "0.7666666666666666\n"
     ]
    }
   ],
   "source": [
    "offer_skills = [\"Java\",\"Keras\",\"Angular\"]\n",
    "cv_skills = [\"Java\",\"Keras\",\"XAMPP\"]\n",
    "print(find_similar(offer_skills,cv_skills))"
   ],
   "metadata": {
    "collapsed": false,
    "ExecuteTime": {
     "end_time": "2023-10-02T14:19:45.038112800Z",
     "start_time": "2023-10-02T14:19:44.950860800Z"
    }
   },
   "id": "c11406824db23d5d"
  },
  {
   "cell_type": "code",
   "execution_count": 27,
   "outputs": [
    {
     "name": "stdout",
     "output_type": "stream",
     "text": [
      "0.2\n"
     ]
    }
   ],
   "source": [
    "offer_skills = [\"Java\",\"Keras\",\"Angular\"]\n",
    "cv_skills = [\"PyTorch\",\"XAMPP\"]\n",
    "print(find_similar(offer_skills,cv_skills))"
   ],
   "metadata": {
    "collapsed": false,
    "ExecuteTime": {
     "end_time": "2023-10-02T14:20:49.610191500Z",
     "start_time": "2023-10-02T14:20:49.580447900Z"
    }
   },
   "id": "1562cd03d53441e1"
  }
 ],
 "metadata": {
  "kernelspec": {
   "display_name": "Python 3",
   "language": "python",
   "name": "python3"
  },
  "language_info": {
   "codemirror_mode": {
    "name": "ipython",
    "version": 2
   },
   "file_extension": ".py",
   "mimetype": "text/x-python",
   "name": "python",
   "nbconvert_exporter": "python",
   "pygments_lexer": "ipython2",
   "version": "2.7.6"
  }
 },
 "nbformat": 4,
 "nbformat_minor": 5
}
