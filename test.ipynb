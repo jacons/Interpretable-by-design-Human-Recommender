{
 "cells": [
  {
   "cell_type": "code",
   "execution_count": 1,
   "id": "initial_id",
   "metadata": {
    "collapsed": true,
    "ExecuteTime": {
     "end_time": "2023-10-02T18:47:44.169939900Z",
     "start_time": "2023-10-02T18:47:43.563269300Z"
    }
   },
   "outputs": [],
   "source": [
    "import pandas as pd"
   ]
  },
  {
   "cell_type": "code",
   "execution_count": 2,
   "outputs": [],
   "source": [
    "from JobGenerator import JobGenerator\n",
    "\n",
    "gen = JobGenerator(jobs_lib=\"./sources/jobs_library.json\",\n",
    "                   citizen=\"./sources/all_citizen.csv\",\n",
    "                   nationality=\"./sources/nationality.csv\",\n",
    "                   education=\"./sources/education.csv\",\n",
    "                   citizen_dist=\"./sources/citizen_dist.csv\")\n",
    "\n",
    "cvs = [gen.generate_curriculum() for _ in range(200)]\n",
    "cvs = pd.DataFrame(cvs)\n",
    "cvs.to_csv(\"Curriculums.csv\",index=False)"
   ],
   "metadata": {
    "collapsed": false,
    "ExecuteTime": {
     "end_time": "2023-10-02T18:47:44.626724Z",
     "start_time": "2023-10-02T18:47:44.177558500Z"
    }
   },
   "id": "6b6c22f15096c2ef"
  },
  {
   "cell_type": "code",
   "execution_count": 3,
   "outputs": [],
   "source": [
    "gen.index = 0"
   ],
   "metadata": {
    "collapsed": false,
    "ExecuteTime": {
     "end_time": "2023-10-02T18:47:44.634964400Z",
     "start_time": "2023-10-02T18:47:44.629416200Z"
    }
   },
   "id": "129881a9c0065284"
  },
  {
   "cell_type": "code",
   "execution_count": 4,
   "outputs": [],
   "source": [
    "offers = [gen.generate_jobOffer() for _ in range(10)]\n",
    "offers = pd.DataFrame(offers) \n",
    "offers.to_csv(\"Offers.csv\",index=False)"
   ],
   "metadata": {
    "collapsed": false,
    "ExecuteTime": {
     "end_time": "2023-10-02T18:47:44.676292Z",
     "start_time": "2023-10-02T18:47:44.634964400Z"
    }
   },
   "id": "266818f333c8053"
  },
  {
   "cell_type": "code",
   "execution_count": 5,
   "outputs": [
    {
     "name": "stderr",
     "output_type": "stream",
     "text": [
      "100%|██████████| 2000/2000 [00:40<00:00, 49.36it/s]\n"
     ]
    }
   ],
   "source": [
    "matrix_score = gen.ScoreFunction(offers,cvs)"
   ],
   "metadata": {
    "collapsed": false,
    "ExecuteTime": {
     "end_time": "2023-10-02T18:48:25.318859100Z",
     "start_time": "2023-10-02T18:47:44.660680200Z"
    }
   },
   "id": "6601b03fa206f8a6"
  },
  {
   "cell_type": "code",
   "execution_count": 9,
   "outputs": [
    {
     "data": {
      "text/plain": "      id_offer  id_cv  Job relevance  Education   Age  Experience    Skills  \\\n1437       7.0   37.0            1.0       -0.1 -0.20         0.1  1.833333   \n1424       7.0   24.0            1.0        0.1 -0.20         0.1  1.333333   \n1888       9.0   88.0            1.0       -0.1 -0.55         0.1  2.500000   \n1123       5.0  123.0            1.0        0.1 -0.70         0.1  2.500000   \n1628       8.0   28.0            1.0       -0.1  0.05         0.1  1.833333   \n...        ...    ...            ...        ...   ...         ...       ...   \n441        2.0   41.0           -1.0        0.1 -0.30         0.1  0.000000   \n432        2.0   32.0           -1.0        0.1 -1.25         0.1  0.000000   \n499        2.0   99.0           -1.0        0.1 -0.25         0.1  0.000000   \n495        2.0   95.0           -1.0       -0.1 -0.05         0.1  0.000000   \n513        2.0  113.0           -1.0       -0.1 -1.00         0.1  0.000000   \n\n      Soft-skills      Salary      City  SmartWork  Experience_abroad  \\\n1437     0.500000   -0.030000  0.008572        0.5                0.5   \n1424     0.500000   -0.180000  0.007723        0.5                0.5   \n1888     0.500000   -0.140000  0.007337        0.5                0.5   \n1123     0.250000   -0.020000  0.005990        0.5                0.5   \n1628     0.333333   -0.080000  0.009968        0.5                0.5   \n...           ...         ...       ...        ...                ...   \n441      0.000000 -865.169983  0.009525       -0.5                0.5   \n432      0.000000 -865.039978  0.009820       -0.5                0.5   \n499      0.000000 -865.099976  0.007890       -0.5               -0.5   \n495      0.000000 -865.119995  0.008248       -0.5               -0.5   \n513      0.000000 -864.899963  0.007657       -0.5               -0.5   \n\n      Language       score  \n1437       0.7    4.811905  \n1424       0.7    4.361056  \n1888       0.0    4.317337  \n1123       0.0    4.235991  \n1628       0.0    4.146635  \n...        ...         ...  \n441        0.0 -866.260437  \n432        0.0 -867.080139  \n499        0.0 -867.142090  \n495        0.0 -867.161743  \n513        0.0 -867.892334  \n\n[2000 rows x 14 columns]",
      "text/html": "<div>\n<style scoped>\n    .dataframe tbody tr th:only-of-type {\n        vertical-align: middle;\n    }\n\n    .dataframe tbody tr th {\n        vertical-align: top;\n    }\n\n    .dataframe thead th {\n        text-align: right;\n    }\n</style>\n<table border=\"1\" class=\"dataframe\">\n  <thead>\n    <tr style=\"text-align: right;\">\n      <th></th>\n      <th>id_offer</th>\n      <th>id_cv</th>\n      <th>Job relevance</th>\n      <th>Education</th>\n      <th>Age</th>\n      <th>Experience</th>\n      <th>Skills</th>\n      <th>Soft-skills</th>\n      <th>Salary</th>\n      <th>City</th>\n      <th>SmartWork</th>\n      <th>Experience_abroad</th>\n      <th>Language</th>\n      <th>score</th>\n    </tr>\n  </thead>\n  <tbody>\n    <tr>\n      <th>1437</th>\n      <td>7.0</td>\n      <td>37.0</td>\n      <td>1.0</td>\n      <td>-0.1</td>\n      <td>-0.20</td>\n      <td>0.1</td>\n      <td>1.833333</td>\n      <td>0.500000</td>\n      <td>-0.030000</td>\n      <td>0.008572</td>\n      <td>0.5</td>\n      <td>0.5</td>\n      <td>0.7</td>\n      <td>4.811905</td>\n    </tr>\n    <tr>\n      <th>1424</th>\n      <td>7.0</td>\n      <td>24.0</td>\n      <td>1.0</td>\n      <td>0.1</td>\n      <td>-0.20</td>\n      <td>0.1</td>\n      <td>1.333333</td>\n      <td>0.500000</td>\n      <td>-0.180000</td>\n      <td>0.007723</td>\n      <td>0.5</td>\n      <td>0.5</td>\n      <td>0.7</td>\n      <td>4.361056</td>\n    </tr>\n    <tr>\n      <th>1888</th>\n      <td>9.0</td>\n      <td>88.0</td>\n      <td>1.0</td>\n      <td>-0.1</td>\n      <td>-0.55</td>\n      <td>0.1</td>\n      <td>2.500000</td>\n      <td>0.500000</td>\n      <td>-0.140000</td>\n      <td>0.007337</td>\n      <td>0.5</td>\n      <td>0.5</td>\n      <td>0.0</td>\n      <td>4.317337</td>\n    </tr>\n    <tr>\n      <th>1123</th>\n      <td>5.0</td>\n      <td>123.0</td>\n      <td>1.0</td>\n      <td>0.1</td>\n      <td>-0.70</td>\n      <td>0.1</td>\n      <td>2.500000</td>\n      <td>0.250000</td>\n      <td>-0.020000</td>\n      <td>0.005990</td>\n      <td>0.5</td>\n      <td>0.5</td>\n      <td>0.0</td>\n      <td>4.235991</td>\n    </tr>\n    <tr>\n      <th>1628</th>\n      <td>8.0</td>\n      <td>28.0</td>\n      <td>1.0</td>\n      <td>-0.1</td>\n      <td>0.05</td>\n      <td>0.1</td>\n      <td>1.833333</td>\n      <td>0.333333</td>\n      <td>-0.080000</td>\n      <td>0.009968</td>\n      <td>0.5</td>\n      <td>0.5</td>\n      <td>0.0</td>\n      <td>4.146635</td>\n    </tr>\n    <tr>\n      <th>...</th>\n      <td>...</td>\n      <td>...</td>\n      <td>...</td>\n      <td>...</td>\n      <td>...</td>\n      <td>...</td>\n      <td>...</td>\n      <td>...</td>\n      <td>...</td>\n      <td>...</td>\n      <td>...</td>\n      <td>...</td>\n      <td>...</td>\n      <td>...</td>\n    </tr>\n    <tr>\n      <th>441</th>\n      <td>2.0</td>\n      <td>41.0</td>\n      <td>-1.0</td>\n      <td>0.1</td>\n      <td>-0.30</td>\n      <td>0.1</td>\n      <td>0.000000</td>\n      <td>0.000000</td>\n      <td>-865.169983</td>\n      <td>0.009525</td>\n      <td>-0.5</td>\n      <td>0.5</td>\n      <td>0.0</td>\n      <td>-866.260437</td>\n    </tr>\n    <tr>\n      <th>432</th>\n      <td>2.0</td>\n      <td>32.0</td>\n      <td>-1.0</td>\n      <td>0.1</td>\n      <td>-1.25</td>\n      <td>0.1</td>\n      <td>0.000000</td>\n      <td>0.000000</td>\n      <td>-865.039978</td>\n      <td>0.009820</td>\n      <td>-0.5</td>\n      <td>0.5</td>\n      <td>0.0</td>\n      <td>-867.080139</td>\n    </tr>\n    <tr>\n      <th>499</th>\n      <td>2.0</td>\n      <td>99.0</td>\n      <td>-1.0</td>\n      <td>0.1</td>\n      <td>-0.25</td>\n      <td>0.1</td>\n      <td>0.000000</td>\n      <td>0.000000</td>\n      <td>-865.099976</td>\n      <td>0.007890</td>\n      <td>-0.5</td>\n      <td>-0.5</td>\n      <td>0.0</td>\n      <td>-867.142090</td>\n    </tr>\n    <tr>\n      <th>495</th>\n      <td>2.0</td>\n      <td>95.0</td>\n      <td>-1.0</td>\n      <td>-0.1</td>\n      <td>-0.05</td>\n      <td>0.1</td>\n      <td>0.000000</td>\n      <td>0.000000</td>\n      <td>-865.119995</td>\n      <td>0.008248</td>\n      <td>-0.5</td>\n      <td>-0.5</td>\n      <td>0.0</td>\n      <td>-867.161743</td>\n    </tr>\n    <tr>\n      <th>513</th>\n      <td>2.0</td>\n      <td>113.0</td>\n      <td>-1.0</td>\n      <td>-0.1</td>\n      <td>-1.00</td>\n      <td>0.1</td>\n      <td>0.000000</td>\n      <td>0.000000</td>\n      <td>-864.899963</td>\n      <td>0.007657</td>\n      <td>-0.5</td>\n      <td>-0.5</td>\n      <td>0.0</td>\n      <td>-867.892334</td>\n    </tr>\n  </tbody>\n</table>\n<p>2000 rows × 14 columns</p>\n</div>"
     },
     "execution_count": 9,
     "metadata": {},
     "output_type": "execute_result"
    }
   ],
   "source": [
    "matrix_score.sort_values(\"score\", ascending=False)"
   ],
   "metadata": {
    "collapsed": false,
    "ExecuteTime": {
     "end_time": "2023-10-02T18:49:40.819413Z",
     "start_time": "2023-10-02T18:49:40.759256600Z"
    }
   },
   "id": "6c3b195b7abf837d"
  }
 ],
 "metadata": {
  "kernelspec": {
   "display_name": "Python 3",
   "language": "python",
   "name": "python3"
  },
  "language_info": {
   "codemirror_mode": {
    "name": "ipython",
    "version": 2
   },
   "file_extension": ".py",
   "mimetype": "text/x-python",
   "name": "python",
   "nbconvert_exporter": "python",
   "pygments_lexer": "ipython2",
   "version": "2.7.6"
  }
 },
 "nbformat": 4,
 "nbformat_minor": 5
}
