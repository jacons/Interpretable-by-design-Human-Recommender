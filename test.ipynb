{
 "cells": [
  {
   "cell_type": "code",
   "execution_count": 1,
   "id": "initial_id",
   "metadata": {
    "collapsed": true,
    "ExecuteTime": {
     "end_time": "2023-10-06T15:38:04.240136900Z",
     "start_time": "2023-10-06T15:38:03.611280600Z"
    }
   },
   "outputs": [],
   "source": [
    "import numpy as np\n",
    "import pandas as pd"
   ]
  },
  {
   "cell_type": "code",
   "execution_count": 2,
   "outputs": [],
   "source": [
    "from JobGenerator import JobGenerator\n",
    "\n",
    "gen = JobGenerator(jobs_lib=\"./sources/jobs_library.json\",\n",
    "                   citizen=\"./sources/all_citizen.csv\",\n",
    "                   nationality=\"./sources/nationality.csv\",\n",
    "                   education=\"./sources/education.csv\",\n",
    "                   citizen_dist=\"./sources/citizen_dist.csv\")\n",
    "\n",
    "cvs = [gen.generate_curriculum() for _ in range(350)]\n",
    "cvs = pd.DataFrame(cvs)\n",
    "cvs.to_csv(\"./outputs/Curriculums.csv\",index=False)"
   ],
   "metadata": {
    "collapsed": false,
    "ExecuteTime": {
     "end_time": "2023-10-06T15:38:05.095044400Z",
     "start_time": "2023-10-06T15:38:04.240136900Z"
    }
   },
   "id": "6b6c22f15096c2ef"
  },
  {
   "cell_type": "code",
   "execution_count": 3,
   "outputs": [],
   "source": [
    "gen.index = 0"
   ],
   "metadata": {
    "collapsed": false,
    "ExecuteTime": {
     "end_time": "2023-10-06T15:38:05.103247600Z",
     "start_time": "2023-10-06T15:38:05.095044400Z"
    }
   },
   "id": "129881a9c0065284"
  },
  {
   "cell_type": "code",
   "execution_count": 4,
   "outputs": [],
   "source": [
    "offers = [gen.generate_jobOffer() for _ in range(20)]\n",
    "offers = pd.DataFrame(offers) \n",
    "offers.to_csv(\"./outputs/Offers.csv\",index=False)"
   ],
   "metadata": {
    "collapsed": false,
    "ExecuteTime": {
     "end_time": "2023-10-06T15:38:05.177169700Z",
     "start_time": "2023-10-06T15:38:05.103247600Z"
    }
   },
   "id": "266818f333c8053"
  },
  {
   "cell_type": "code",
   "execution_count": 5,
   "outputs": [
    {
     "name": "stderr",
     "output_type": "stream",
     "text": [
      "100%|██████████| 7000/7000 [00:00<00:00, 9674.02it/s]\n"
     ]
    }
   ],
   "source": [
    "matrix_score = gen.ScoreFunction(offers,cvs)"
   ],
   "metadata": {
    "collapsed": false,
    "ExecuteTime": {
     "end_time": "2023-10-06T15:38:06.014504300Z",
     "start_time": "2023-10-06T15:38:05.185250300Z"
    }
   },
   "id": "6601b03fa206f8a6"
  },
  {
   "cell_type": "code",
   "execution_count": 7,
   "outputs": [
    {
     "data": {
      "text/plain": "      id_offer  id_cv  Job relevance  Education  SmartWork  Experience_abroad  \\\n6390      18.0   90.0       -0.25974  -0.727273   0.000000           0.012987   \n2421       6.0  321.0       -0.25974  -0.727273   0.000000           0.012987   \n6369      18.0   69.0       -0.25974  -0.545455   0.000000           0.012987   \n2146       6.0   46.0       -0.25974  -0.545455   0.000000          -0.012987   \n2145       6.0   45.0       -0.25974  -0.727273   0.000000          -0.012987   \n...        ...    ...            ...        ...        ...                ...   \n1506       4.0  106.0        0.25974   0.181818   0.012987           0.012987   \n1671       4.0  271.0        0.25974   0.181818   0.012987           0.012987   \n2597       7.0  147.0        0.25974   0.181818   0.000000           0.012987   \n1843       5.0   93.0        0.25974   0.181818   0.000000           0.012987   \n2636       7.0  186.0        0.25974   0.181818   0.000000           0.012987   \n\n          City    Skills  Soft-skills       Age  Experience    Salary  \\\n6390  0.010988  0.000000     0.000000  0.051948    0.051948  0.000000   \n2421  0.010234  0.000000     0.000000  0.007421    0.051948  0.000000   \n6369  0.019898  0.000000     0.000000  0.000000    0.051948  0.000000   \n2146  0.025331  0.000000     0.000000  0.044527    0.051948  0.000000   \n2145  0.022940  0.000000     0.000000  0.000000    0.051948  0.000000   \n...        ...       ...          ...       ...         ...       ...   \n1506  0.013617  0.194805     0.155844  0.037106    0.051948  0.025974   \n1671  0.013800  0.207792     0.155844  0.051948    0.043290  0.025974   \n2597  0.006112  0.197403     0.155844  0.051948    0.051948  0.025974   \n1843  0.011537  0.168831     0.093506  0.037106    0.051948  0.000693   \n2636  0.022145  0.192208     0.155844  0.051948    0.000000  0.025974   \n\n      Language     score  \n6390  0.004329 -1.745901  \n2421  0.004329 -1.661946  \n6369  0.004329 -1.656790  \n2146  0.004329 -1.623686  \n2145  0.000000 -1.617446  \n...        ...       ...  \n1506  0.004329  1.354467  \n1671  0.000000  1.399302  \n2597  0.000000  1.439090  \n1843  0.000000  1.443094  \n2636  0.000000  1.540647  \n\n[7000 rows x 14 columns]",
      "text/html": "<div>\n<style scoped>\n    .dataframe tbody tr th:only-of-type {\n        vertical-align: middle;\n    }\n\n    .dataframe tbody tr th {\n        vertical-align: top;\n    }\n\n    .dataframe thead th {\n        text-align: right;\n    }\n</style>\n<table border=\"1\" class=\"dataframe\">\n  <thead>\n    <tr style=\"text-align: right;\">\n      <th></th>\n      <th>id_offer</th>\n      <th>id_cv</th>\n      <th>Job relevance</th>\n      <th>Education</th>\n      <th>SmartWork</th>\n      <th>Experience_abroad</th>\n      <th>City</th>\n      <th>Skills</th>\n      <th>Soft-skills</th>\n      <th>Age</th>\n      <th>Experience</th>\n      <th>Salary</th>\n      <th>Language</th>\n      <th>score</th>\n    </tr>\n  </thead>\n  <tbody>\n    <tr>\n      <th>6390</th>\n      <td>18.0</td>\n      <td>90.0</td>\n      <td>-0.25974</td>\n      <td>-0.727273</td>\n      <td>0.000000</td>\n      <td>0.012987</td>\n      <td>0.010988</td>\n      <td>0.000000</td>\n      <td>0.000000</td>\n      <td>0.051948</td>\n      <td>0.051948</td>\n      <td>0.000000</td>\n      <td>0.004329</td>\n      <td>-1.745901</td>\n    </tr>\n    <tr>\n      <th>2421</th>\n      <td>6.0</td>\n      <td>321.0</td>\n      <td>-0.25974</td>\n      <td>-0.727273</td>\n      <td>0.000000</td>\n      <td>0.012987</td>\n      <td>0.010234</td>\n      <td>0.000000</td>\n      <td>0.000000</td>\n      <td>0.007421</td>\n      <td>0.051948</td>\n      <td>0.000000</td>\n      <td>0.004329</td>\n      <td>-1.661946</td>\n    </tr>\n    <tr>\n      <th>6369</th>\n      <td>18.0</td>\n      <td>69.0</td>\n      <td>-0.25974</td>\n      <td>-0.545455</td>\n      <td>0.000000</td>\n      <td>0.012987</td>\n      <td>0.019898</td>\n      <td>0.000000</td>\n      <td>0.000000</td>\n      <td>0.000000</td>\n      <td>0.051948</td>\n      <td>0.000000</td>\n      <td>0.004329</td>\n      <td>-1.656790</td>\n    </tr>\n    <tr>\n      <th>2146</th>\n      <td>6.0</td>\n      <td>46.0</td>\n      <td>-0.25974</td>\n      <td>-0.545455</td>\n      <td>0.000000</td>\n      <td>-0.012987</td>\n      <td>0.025331</td>\n      <td>0.000000</td>\n      <td>0.000000</td>\n      <td>0.044527</td>\n      <td>0.051948</td>\n      <td>0.000000</td>\n      <td>0.004329</td>\n      <td>-1.623686</td>\n    </tr>\n    <tr>\n      <th>2145</th>\n      <td>6.0</td>\n      <td>45.0</td>\n      <td>-0.25974</td>\n      <td>-0.727273</td>\n      <td>0.000000</td>\n      <td>-0.012987</td>\n      <td>0.022940</td>\n      <td>0.000000</td>\n      <td>0.000000</td>\n      <td>0.000000</td>\n      <td>0.051948</td>\n      <td>0.000000</td>\n      <td>0.000000</td>\n      <td>-1.617446</td>\n    </tr>\n    <tr>\n      <th>...</th>\n      <td>...</td>\n      <td>...</td>\n      <td>...</td>\n      <td>...</td>\n      <td>...</td>\n      <td>...</td>\n      <td>...</td>\n      <td>...</td>\n      <td>...</td>\n      <td>...</td>\n      <td>...</td>\n      <td>...</td>\n      <td>...</td>\n      <td>...</td>\n    </tr>\n    <tr>\n      <th>1506</th>\n      <td>4.0</td>\n      <td>106.0</td>\n      <td>0.25974</td>\n      <td>0.181818</td>\n      <td>0.012987</td>\n      <td>0.012987</td>\n      <td>0.013617</td>\n      <td>0.194805</td>\n      <td>0.155844</td>\n      <td>0.037106</td>\n      <td>0.051948</td>\n      <td>0.025974</td>\n      <td>0.004329</td>\n      <td>1.354467</td>\n    </tr>\n    <tr>\n      <th>1671</th>\n      <td>4.0</td>\n      <td>271.0</td>\n      <td>0.25974</td>\n      <td>0.181818</td>\n      <td>0.012987</td>\n      <td>0.012987</td>\n      <td>0.013800</td>\n      <td>0.207792</td>\n      <td>0.155844</td>\n      <td>0.051948</td>\n      <td>0.043290</td>\n      <td>0.025974</td>\n      <td>0.000000</td>\n      <td>1.399302</td>\n    </tr>\n    <tr>\n      <th>2597</th>\n      <td>7.0</td>\n      <td>147.0</td>\n      <td>0.25974</td>\n      <td>0.181818</td>\n      <td>0.000000</td>\n      <td>0.012987</td>\n      <td>0.006112</td>\n      <td>0.197403</td>\n      <td>0.155844</td>\n      <td>0.051948</td>\n      <td>0.051948</td>\n      <td>0.025974</td>\n      <td>0.000000</td>\n      <td>1.439090</td>\n    </tr>\n    <tr>\n      <th>1843</th>\n      <td>5.0</td>\n      <td>93.0</td>\n      <td>0.25974</td>\n      <td>0.181818</td>\n      <td>0.000000</td>\n      <td>0.012987</td>\n      <td>0.011537</td>\n      <td>0.168831</td>\n      <td>0.093506</td>\n      <td>0.037106</td>\n      <td>0.051948</td>\n      <td>0.000693</td>\n      <td>0.000000</td>\n      <td>1.443094</td>\n    </tr>\n    <tr>\n      <th>2636</th>\n      <td>7.0</td>\n      <td>186.0</td>\n      <td>0.25974</td>\n      <td>0.181818</td>\n      <td>0.000000</td>\n      <td>0.012987</td>\n      <td>0.022145</td>\n      <td>0.192208</td>\n      <td>0.155844</td>\n      <td>0.051948</td>\n      <td>0.000000</td>\n      <td>0.025974</td>\n      <td>0.000000</td>\n      <td>1.540647</td>\n    </tr>\n  </tbody>\n</table>\n<p>7000 rows × 14 columns</p>\n</div>"
     },
     "execution_count": 7,
     "metadata": {},
     "output_type": "execute_result"
    }
   ],
   "source": [
    "matrix_score.sort_values(\"score\",ascending=True)"
   ],
   "metadata": {
    "collapsed": false,
    "ExecuteTime": {
     "end_time": "2023-10-06T15:38:27.406840400Z",
     "start_time": "2023-10-06T15:38:27.354949100Z"
    }
   },
   "id": "6c3b195b7abf837d"
  }
 ],
 "metadata": {
  "kernelspec": {
   "display_name": "Python 3",
   "language": "python",
   "name": "python3"
  },
  "language_info": {
   "codemirror_mode": {
    "name": "ipython",
    "version": 2
   },
   "file_extension": ".py",
   "mimetype": "text/x-python",
   "name": "python",
   "nbconvert_exporter": "python",
   "pygments_lexer": "ipython2",
   "version": "2.7.6"
  }
 },
 "nbformat": 4,
 "nbformat_minor": 5
}
