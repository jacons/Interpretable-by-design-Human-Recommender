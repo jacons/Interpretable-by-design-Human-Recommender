{
 "cells": [
  {
   "cell_type": "code",
   "execution_count": 1,
   "id": "initial_id",
   "metadata": {
    "collapsed": true,
    "ExecuteTime": {
     "end_time": "2023-10-01T20:42:03.550950700Z",
     "start_time": "2023-10-01T20:42:02.898270100Z"
    }
   },
   "outputs": [],
   "source": [
    "import pandas as pd"
   ]
  },
  {
   "cell_type": "code",
   "execution_count": 2,
   "outputs": [],
   "source": [
    "from JobGenerator import JobGenerator\n",
    "\n",
    "gen = JobGenerator(jobs_lib=\"./sources/jobs_library.json\",\n",
    "                   citizen=\"./sources/all_citizen.csv\",\n",
    "                   nationality=\"./sources/nationality.csv\",\n",
    "                   education=\"./sources/education.csv\",\n",
    "                   citizen_dist=\"./sources/citizen_dist.csv\")\n",
    "\n",
    "cvs = [gen.generate_curriculum() for _ in range(10)]\n",
    "cvs = pd.DataFrame(cvs)\n",
    "cvs.to_csv(\"Curriculums.csv\",index=False)"
   ],
   "metadata": {
    "collapsed": false,
    "ExecuteTime": {
     "end_time": "2023-10-01T20:42:03.700577500Z",
     "start_time": "2023-10-01T20:42:03.555388600Z"
    }
   },
   "id": "6b6c22f15096c2ef"
  },
  {
   "cell_type": "code",
   "execution_count": 3,
   "outputs": [],
   "source": [
    "gen.index = 0"
   ],
   "metadata": {
    "collapsed": false,
    "ExecuteTime": {
     "end_time": "2023-10-01T20:42:03.714284Z",
     "start_time": "2023-10-01T20:42:03.700577500Z"
    }
   },
   "id": "129881a9c0065284"
  },
  {
   "cell_type": "code",
   "execution_count": 4,
   "outputs": [],
   "source": [
    "offers = [gen.generate_jobOffer() for _ in range(20)]\n",
    "offers = pd.DataFrame(offers) \n",
    "offers.to_csv(\"Offers.csv\",index=False)"
   ],
   "metadata": {
    "collapsed": false,
    "ExecuteTime": {
     "end_time": "2023-10-01T20:42:03.755949400Z",
     "start_time": "2023-10-01T20:42:03.715919400Z"
    }
   },
   "id": "266818f333c8053"
  },
  {
   "cell_type": "code",
   "execution_count": 5,
   "outputs": [
    {
     "name": "stdout",
     "output_type": "stream",
     "text": [
      "[-1.00000000e+01 -2.00000000e+00 -2.20000000e+01  1.00000000e+00\n",
      "  0.00000000e+00  0.00000000e+00 -1.55350000e+04  5.04754285e+02\n",
      " -1.00000000e+00 -1.00000000e+00  5.00000000e-01]\n"
     ]
    }
   ],
   "source": [
    "gen.ScoreFunction(offers,cvs)"
   ],
   "metadata": {
    "collapsed": false,
    "ExecuteTime": {
     "end_time": "2023-10-01T20:42:03.803937200Z",
     "start_time": "2023-10-01T20:42:03.759932300Z"
    }
   },
   "id": "6601b03fa206f8a6"
  }
 ],
 "metadata": {
  "kernelspec": {
   "display_name": "Python 3",
   "language": "python",
   "name": "python3"
  },
  "language_info": {
   "codemirror_mode": {
    "name": "ipython",
    "version": 2
   },
   "file_extension": ".py",
   "mimetype": "text/x-python",
   "name": "python",
   "nbconvert_exporter": "python",
   "pygments_lexer": "ipython2",
   "version": "2.7.6"
  }
 },
 "nbformat": 4,
 "nbformat_minor": 5
}
