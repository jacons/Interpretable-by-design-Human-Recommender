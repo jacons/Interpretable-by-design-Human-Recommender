{
 "cells": [
  {
   "cell_type": "code",
   "execution_count": 10,
   "id": "initial_id",
   "metadata": {
    "collapsed": true,
    "ExecuteTime": {
     "end_time": "2023-10-04T08:07:24.580684300Z",
     "start_time": "2023-10-04T08:07:24.527328800Z"
    }
   },
   "outputs": [],
   "source": [
    "import pandas as pd"
   ]
  },
  {
   "cell_type": "code",
   "execution_count": 11,
   "outputs": [],
   "source": [
    "from JobGenerator import JobGenerator\n",
    "\n",
    "gen = JobGenerator(jobs_lib=\"./sources/jobs_library.json\",\n",
    "                   citizen=\"./sources/all_citizen.csv\",\n",
    "                   nationality=\"./sources/nationality.csv\",\n",
    "                   education=\"./sources/education.csv\",\n",
    "                   citizen_dist=\"./sources/citizen_dist.csv\")\n",
    "\n",
    "cvs = [gen.generate_curriculum() for _ in range(200)]\n",
    "cvs = pd.DataFrame(cvs)\n",
    "cvs.to_csv(\"Curriculums.csv\",index=False)"
   ],
   "metadata": {
    "collapsed": false,
    "ExecuteTime": {
     "end_time": "2023-10-04T08:07:25.044542800Z",
     "start_time": "2023-10-04T08:07:24.549359300Z"
    }
   },
   "id": "6b6c22f15096c2ef"
  },
  {
   "cell_type": "code",
   "execution_count": 12,
   "outputs": [],
   "source": [
    "gen.index = 0"
   ],
   "metadata": {
    "collapsed": false,
    "ExecuteTime": {
     "end_time": "2023-10-04T08:07:25.086357100Z",
     "start_time": "2023-10-04T08:07:25.049067800Z"
    }
   },
   "id": "129881a9c0065284"
  },
  {
   "cell_type": "code",
   "execution_count": 13,
   "outputs": [],
   "source": [
    "offers = [gen.generate_jobOffer() for _ in range(100)]\n",
    "offers = pd.DataFrame(offers) \n",
    "offers.to_csv(\"Offers.csv\",index=False)"
   ],
   "metadata": {
    "collapsed": false,
    "ExecuteTime": {
     "end_time": "2023-10-04T08:07:25.276814100Z",
     "start_time": "2023-10-04T08:07:25.070703Z"
    }
   },
   "id": "266818f333c8053"
  },
  {
   "cell_type": "code",
   "execution_count": 14,
   "outputs": [
    {
     "name": "stderr",
     "output_type": "stream",
     "text": [
      "100%|██████████| 20000/20000 [00:19<00:00, 1024.76it/s]\n"
     ]
    }
   ],
   "source": [
    "matrix_score = gen.ScoreFunction(offers,cvs)"
   ],
   "metadata": {
    "collapsed": false,
    "ExecuteTime": {
     "end_time": "2023-10-04T08:07:45.041092700Z",
     "start_time": "2023-10-04T08:07:25.276814100Z"
    }
   },
   "id": "6601b03fa206f8a6"
  },
  {
   "cell_type": "code",
   "execution_count": 15,
   "outputs": [
    {
     "data": {
      "text/plain": "       id_offer  id_cv  Job relevance  Education       Age  Experience  \\\n11405      57.0    5.0       0.226244   0.180995  0.045249    0.067873   \n19998      99.0  198.0       0.226244   0.180995  0.000000    0.067873   \n10773      53.0  173.0       0.226244   0.180995  0.045249    0.067873   \n8767       43.0  167.0       0.226244   0.180995 -0.045249    0.067873   \n11423      57.0   23.0       0.226244   0.180995 -0.135747    0.067873   \n...         ...    ...            ...        ...       ...         ...   \n1702        8.0  102.0      -0.226244  -0.542986 -0.226244    0.067873   \n1632        8.0   32.0      -0.226244  -0.361991 -0.226244    0.067873   \n1619        8.0   19.0      -0.226244  -0.180995 -0.180995    0.067873   \n1705        8.0  105.0      -0.226244  -0.542986 -0.452489    0.067873   \n1670        8.0   70.0      -0.226244  -0.542986 -0.995475    0.067873   \n\n         Skills  Soft-skills       Salary      City  SmartWork  \\\n11405  0.565611     0.108597     0.045249  0.010600   0.011312   \n19998  0.565611     0.101810     0.045249  0.017505   0.011312   \n10773  0.490196     0.108597     0.045249  0.018557   0.011312   \n8767   0.490196     0.135747     0.045249  0.018195   0.011312   \n11423  0.565611     0.135747     0.045249  0.019439   0.011312   \n...         ...          ...          ...       ...        ...   \n1702   0.000000     0.000000 -4117.782715  0.012113  -0.011312   \n1632   0.000000     0.000000 -4118.009277  0.020255  -0.011312   \n1619   0.000000     0.000000 -4118.280762  0.015957  -0.011312   \n1705   0.000000     0.000000 -4117.828125  0.011799  -0.011312   \n1670   0.000000     0.000000 -4117.330566  0.012182  -0.011312   \n\n       Experience_abroad  Language        score  \n11405          -0.015837  0.011312     1.257207  \n19998          -0.015837  0.011312     1.212075  \n10773          -0.015837  0.000000     1.178437  \n8767            0.015837  0.000000     1.146400  \n11423           0.015837  0.011312     1.143874  \n...                  ...       ...          ...  \n1702            0.015837  0.000000 -4118.693848  \n1632           -0.015837  0.022624 -4118.740234  \n1619            0.015837  0.000000 -4118.780762  \n1705            0.015837  0.022624 -4118.943359  \n1670           -0.015837  0.000000 -4119.041992  \n\n[20000 rows x 14 columns]",
      "text/html": "<div>\n<style scoped>\n    .dataframe tbody tr th:only-of-type {\n        vertical-align: middle;\n    }\n\n    .dataframe tbody tr th {\n        vertical-align: top;\n    }\n\n    .dataframe thead th {\n        text-align: right;\n    }\n</style>\n<table border=\"1\" class=\"dataframe\">\n  <thead>\n    <tr style=\"text-align: right;\">\n      <th></th>\n      <th>id_offer</th>\n      <th>id_cv</th>\n      <th>Job relevance</th>\n      <th>Education</th>\n      <th>Age</th>\n      <th>Experience</th>\n      <th>Skills</th>\n      <th>Soft-skills</th>\n      <th>Salary</th>\n      <th>City</th>\n      <th>SmartWork</th>\n      <th>Experience_abroad</th>\n      <th>Language</th>\n      <th>score</th>\n    </tr>\n  </thead>\n  <tbody>\n    <tr>\n      <th>11405</th>\n      <td>57.0</td>\n      <td>5.0</td>\n      <td>0.226244</td>\n      <td>0.180995</td>\n      <td>0.045249</td>\n      <td>0.067873</td>\n      <td>0.565611</td>\n      <td>0.108597</td>\n      <td>0.045249</td>\n      <td>0.010600</td>\n      <td>0.011312</td>\n      <td>-0.015837</td>\n      <td>0.011312</td>\n      <td>1.257207</td>\n    </tr>\n    <tr>\n      <th>19998</th>\n      <td>99.0</td>\n      <td>198.0</td>\n      <td>0.226244</td>\n      <td>0.180995</td>\n      <td>0.000000</td>\n      <td>0.067873</td>\n      <td>0.565611</td>\n      <td>0.101810</td>\n      <td>0.045249</td>\n      <td>0.017505</td>\n      <td>0.011312</td>\n      <td>-0.015837</td>\n      <td>0.011312</td>\n      <td>1.212075</td>\n    </tr>\n    <tr>\n      <th>10773</th>\n      <td>53.0</td>\n      <td>173.0</td>\n      <td>0.226244</td>\n      <td>0.180995</td>\n      <td>0.045249</td>\n      <td>0.067873</td>\n      <td>0.490196</td>\n      <td>0.108597</td>\n      <td>0.045249</td>\n      <td>0.018557</td>\n      <td>0.011312</td>\n      <td>-0.015837</td>\n      <td>0.000000</td>\n      <td>1.178437</td>\n    </tr>\n    <tr>\n      <th>8767</th>\n      <td>43.0</td>\n      <td>167.0</td>\n      <td>0.226244</td>\n      <td>0.180995</td>\n      <td>-0.045249</td>\n      <td>0.067873</td>\n      <td>0.490196</td>\n      <td>0.135747</td>\n      <td>0.045249</td>\n      <td>0.018195</td>\n      <td>0.011312</td>\n      <td>0.015837</td>\n      <td>0.000000</td>\n      <td>1.146400</td>\n    </tr>\n    <tr>\n      <th>11423</th>\n      <td>57.0</td>\n      <td>23.0</td>\n      <td>0.226244</td>\n      <td>0.180995</td>\n      <td>-0.135747</td>\n      <td>0.067873</td>\n      <td>0.565611</td>\n      <td>0.135747</td>\n      <td>0.045249</td>\n      <td>0.019439</td>\n      <td>0.011312</td>\n      <td>0.015837</td>\n      <td>0.011312</td>\n      <td>1.143874</td>\n    </tr>\n    <tr>\n      <th>...</th>\n      <td>...</td>\n      <td>...</td>\n      <td>...</td>\n      <td>...</td>\n      <td>...</td>\n      <td>...</td>\n      <td>...</td>\n      <td>...</td>\n      <td>...</td>\n      <td>...</td>\n      <td>...</td>\n      <td>...</td>\n      <td>...</td>\n      <td>...</td>\n    </tr>\n    <tr>\n      <th>1702</th>\n      <td>8.0</td>\n      <td>102.0</td>\n      <td>-0.226244</td>\n      <td>-0.542986</td>\n      <td>-0.226244</td>\n      <td>0.067873</td>\n      <td>0.000000</td>\n      <td>0.000000</td>\n      <td>-4117.782715</td>\n      <td>0.012113</td>\n      <td>-0.011312</td>\n      <td>0.015837</td>\n      <td>0.000000</td>\n      <td>-4118.693848</td>\n    </tr>\n    <tr>\n      <th>1632</th>\n      <td>8.0</td>\n      <td>32.0</td>\n      <td>-0.226244</td>\n      <td>-0.361991</td>\n      <td>-0.226244</td>\n      <td>0.067873</td>\n      <td>0.000000</td>\n      <td>0.000000</td>\n      <td>-4118.009277</td>\n      <td>0.020255</td>\n      <td>-0.011312</td>\n      <td>-0.015837</td>\n      <td>0.022624</td>\n      <td>-4118.740234</td>\n    </tr>\n    <tr>\n      <th>1619</th>\n      <td>8.0</td>\n      <td>19.0</td>\n      <td>-0.226244</td>\n      <td>-0.180995</td>\n      <td>-0.180995</td>\n      <td>0.067873</td>\n      <td>0.000000</td>\n      <td>0.000000</td>\n      <td>-4118.280762</td>\n      <td>0.015957</td>\n      <td>-0.011312</td>\n      <td>0.015837</td>\n      <td>0.000000</td>\n      <td>-4118.780762</td>\n    </tr>\n    <tr>\n      <th>1705</th>\n      <td>8.0</td>\n      <td>105.0</td>\n      <td>-0.226244</td>\n      <td>-0.542986</td>\n      <td>-0.452489</td>\n      <td>0.067873</td>\n      <td>0.000000</td>\n      <td>0.000000</td>\n      <td>-4117.828125</td>\n      <td>0.011799</td>\n      <td>-0.011312</td>\n      <td>0.015837</td>\n      <td>0.022624</td>\n      <td>-4118.943359</td>\n    </tr>\n    <tr>\n      <th>1670</th>\n      <td>8.0</td>\n      <td>70.0</td>\n      <td>-0.226244</td>\n      <td>-0.542986</td>\n      <td>-0.995475</td>\n      <td>0.067873</td>\n      <td>0.000000</td>\n      <td>0.000000</td>\n      <td>-4117.330566</td>\n      <td>0.012182</td>\n      <td>-0.011312</td>\n      <td>-0.015837</td>\n      <td>0.000000</td>\n      <td>-4119.041992</td>\n    </tr>\n  </tbody>\n</table>\n<p>20000 rows × 14 columns</p>\n</div>"
     },
     "execution_count": 15,
     "metadata": {},
     "output_type": "execute_result"
    }
   ],
   "source": [
    "matrix_score.sort_values(\"score\", ascending=False)"
   ],
   "metadata": {
    "collapsed": false,
    "ExecuteTime": {
     "end_time": "2023-10-04T08:07:45.091933800Z",
     "start_time": "2023-10-04T08:07:45.041092700Z"
    }
   },
   "id": "6c3b195b7abf837d"
  }
 ],
 "metadata": {
  "kernelspec": {
   "display_name": "Python 3",
   "language": "python",
   "name": "python3"
  },
  "language_info": {
   "codemirror_mode": {
    "name": "ipython",
    "version": 2
   },
   "file_extension": ".py",
   "mimetype": "text/x-python",
   "name": "python",
   "nbconvert_exporter": "python",
   "pygments_lexer": "ipython2",
   "version": "2.7.6"
  }
 },
 "nbformat": 4,
 "nbformat_minor": 5
}
