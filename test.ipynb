{
 "cells": [
  {
   "cell_type": "code",
   "execution_count": 1,
   "id": "initial_id",
   "metadata": {
    "collapsed": true,
    "ExecuteTime": {
     "end_time": "2023-10-02T19:00:07.698580900Z",
     "start_time": "2023-10-02T19:00:06.978124800Z"
    }
   },
   "outputs": [],
   "source": [
    "import pandas as pd"
   ]
  },
  {
   "cell_type": "code",
   "execution_count": 2,
   "outputs": [],
   "source": [
    "from JobGenerator import JobGenerator\n",
    "\n",
    "gen = JobGenerator(jobs_lib=\"./sources/jobs_library.json\",\n",
    "                   citizen=\"./sources/all_citizen.csv\",\n",
    "                   nationality=\"./sources/nationality.csv\",\n",
    "                   education=\"./sources/education.csv\",\n",
    "                   citizen_dist=\"./sources/citizen_dist.csv\")\n",
    "\n",
    "cvs = [gen.generate_curriculum() for _ in range(200)]\n",
    "cvs = pd.DataFrame(cvs)\n",
    "cvs.to_csv(\"Curriculums.csv\",index=False)"
   ],
   "metadata": {
    "collapsed": false,
    "ExecuteTime": {
     "end_time": "2023-10-02T19:00:08.167410600Z",
     "start_time": "2023-10-02T19:00:07.705107600Z"
    }
   },
   "id": "6b6c22f15096c2ef"
  },
  {
   "cell_type": "code",
   "execution_count": 3,
   "outputs": [],
   "source": [
    "gen.index = 0"
   ],
   "metadata": {
    "collapsed": false,
    "ExecuteTime": {
     "end_time": "2023-10-02T19:00:08.178632400Z",
     "start_time": "2023-10-02T19:00:08.167410600Z"
    }
   },
   "id": "129881a9c0065284"
  },
  {
   "cell_type": "code",
   "execution_count": 4,
   "outputs": [],
   "source": [
    "offers = [gen.generate_jobOffer() for _ in range(10)]\n",
    "offers = pd.DataFrame(offers) \n",
    "offers.to_csv(\"Offers.csv\",index=False)"
   ],
   "metadata": {
    "collapsed": false,
    "ExecuteTime": {
     "end_time": "2023-10-02T19:00:08.232569900Z",
     "start_time": "2023-10-02T19:00:08.185667300Z"
    }
   },
   "id": "266818f333c8053"
  },
  {
   "cell_type": "code",
   "execution_count": 5,
   "outputs": [
    {
     "name": "stderr",
     "output_type": "stream",
     "text": [
      "100%|██████████| 2000/2000 [00:45<00:00, 44.07it/s]\n"
     ]
    }
   ],
   "source": [
    "matrix_score = gen.ScoreFunction(offers,cvs)"
   ],
   "metadata": {
    "collapsed": false,
    "ExecuteTime": {
     "end_time": "2023-10-02T19:00:53.674242800Z",
     "start_time": "2023-10-02T19:00:08.217000900Z"
    }
   },
   "id": "6601b03fa206f8a6"
  },
  {
   "cell_type": "code",
   "execution_count": 6,
   "outputs": [
    {
     "data": {
      "text/plain": "      id_offer  id_cv  Job relevance  Education   Age  Experience    Skills  \\\n61         0.0   61.0            1.0        0.1  0.00         0.1  2.000000   \n43         0.0   43.0            1.0       -0.4  0.05        -0.2  2.500000   \n27         0.0   27.0            1.0       -0.2  0.05         0.1  1.666667   \n1984       9.0  184.0            1.0       -0.1 -0.40         0.1  2.000000   \n1062       5.0   62.0            1.0       -0.1 -0.35        -0.2  1.900000   \n...        ...    ...            ...        ...   ...         ...       ...   \n167        0.0  167.0           -1.0       -0.4 -0.10         0.1  0.000000   \n90         0.0   90.0           -1.0       -0.3 -1.55         0.1  0.000000   \n137        0.0  137.0           -1.0       -0.3 -0.40        -0.1  0.000000   \n127        0.0  127.0           -1.0       -0.2 -1.40         0.1  0.000000   \n25         0.0   25.0           -1.0       -0.2 -1.55         0.1  0.000000   \n\n      Soft-skills      Salary      City  SmartWork  Experience_abroad  \\\n61            0.5   -0.090000  0.002950        0.5                0.5   \n43            0.5   -0.100000  0.004564        0.5                0.5   \n27            0.5    0.010000  0.009194        0.5                0.5   \n1984          0.5   -0.090000  0.007466        0.5                0.5   \n1062          0.5    0.010000  0.008925        0.5                0.5   \n...           ...         ...       ...        ...                ...   \n167           0.0 -910.159973  0.005760       -0.5               -0.5   \n90            0.0 -909.899963  0.002410       -0.5                0.5   \n137           0.0 -910.019958  0.008113       -0.5               -0.5   \n127           0.0 -910.109985  0.004256       -0.5               -0.5   \n25            0.0 -910.019958  0.003571       -0.5               -0.5   \n\n      Language       score  \n61         0.0    4.612950  \n43         0.0    4.354565  \n27         0.0    4.135860  \n1984       0.0    4.017466  \n1062       0.0    3.768924  \n...        ...         ...  \n167        0.0 -912.554260  \n90         0.0 -912.647583  \n137        0.0 -912.811829  \n127        0.0 -913.605713  \n25         0.0 -913.666382  \n\n[2000 rows x 14 columns]",
      "text/html": "<div>\n<style scoped>\n    .dataframe tbody tr th:only-of-type {\n        vertical-align: middle;\n    }\n\n    .dataframe tbody tr th {\n        vertical-align: top;\n    }\n\n    .dataframe thead th {\n        text-align: right;\n    }\n</style>\n<table border=\"1\" class=\"dataframe\">\n  <thead>\n    <tr style=\"text-align: right;\">\n      <th></th>\n      <th>id_offer</th>\n      <th>id_cv</th>\n      <th>Job relevance</th>\n      <th>Education</th>\n      <th>Age</th>\n      <th>Experience</th>\n      <th>Skills</th>\n      <th>Soft-skills</th>\n      <th>Salary</th>\n      <th>City</th>\n      <th>SmartWork</th>\n      <th>Experience_abroad</th>\n      <th>Language</th>\n      <th>score</th>\n    </tr>\n  </thead>\n  <tbody>\n    <tr>\n      <th>61</th>\n      <td>0.0</td>\n      <td>61.0</td>\n      <td>1.0</td>\n      <td>0.1</td>\n      <td>0.00</td>\n      <td>0.1</td>\n      <td>2.000000</td>\n      <td>0.5</td>\n      <td>-0.090000</td>\n      <td>0.002950</td>\n      <td>0.5</td>\n      <td>0.5</td>\n      <td>0.0</td>\n      <td>4.612950</td>\n    </tr>\n    <tr>\n      <th>43</th>\n      <td>0.0</td>\n      <td>43.0</td>\n      <td>1.0</td>\n      <td>-0.4</td>\n      <td>0.05</td>\n      <td>-0.2</td>\n      <td>2.500000</td>\n      <td>0.5</td>\n      <td>-0.100000</td>\n      <td>0.004564</td>\n      <td>0.5</td>\n      <td>0.5</td>\n      <td>0.0</td>\n      <td>4.354565</td>\n    </tr>\n    <tr>\n      <th>27</th>\n      <td>0.0</td>\n      <td>27.0</td>\n      <td>1.0</td>\n      <td>-0.2</td>\n      <td>0.05</td>\n      <td>0.1</td>\n      <td>1.666667</td>\n      <td>0.5</td>\n      <td>0.010000</td>\n      <td>0.009194</td>\n      <td>0.5</td>\n      <td>0.5</td>\n      <td>0.0</td>\n      <td>4.135860</td>\n    </tr>\n    <tr>\n      <th>1984</th>\n      <td>9.0</td>\n      <td>184.0</td>\n      <td>1.0</td>\n      <td>-0.1</td>\n      <td>-0.40</td>\n      <td>0.1</td>\n      <td>2.000000</td>\n      <td>0.5</td>\n      <td>-0.090000</td>\n      <td>0.007466</td>\n      <td>0.5</td>\n      <td>0.5</td>\n      <td>0.0</td>\n      <td>4.017466</td>\n    </tr>\n    <tr>\n      <th>1062</th>\n      <td>5.0</td>\n      <td>62.0</td>\n      <td>1.0</td>\n      <td>-0.1</td>\n      <td>-0.35</td>\n      <td>-0.2</td>\n      <td>1.900000</td>\n      <td>0.5</td>\n      <td>0.010000</td>\n      <td>0.008925</td>\n      <td>0.5</td>\n      <td>0.5</td>\n      <td>0.0</td>\n      <td>3.768924</td>\n    </tr>\n    <tr>\n      <th>...</th>\n      <td>...</td>\n      <td>...</td>\n      <td>...</td>\n      <td>...</td>\n      <td>...</td>\n      <td>...</td>\n      <td>...</td>\n      <td>...</td>\n      <td>...</td>\n      <td>...</td>\n      <td>...</td>\n      <td>...</td>\n      <td>...</td>\n      <td>...</td>\n    </tr>\n    <tr>\n      <th>167</th>\n      <td>0.0</td>\n      <td>167.0</td>\n      <td>-1.0</td>\n      <td>-0.4</td>\n      <td>-0.10</td>\n      <td>0.1</td>\n      <td>0.000000</td>\n      <td>0.0</td>\n      <td>-910.159973</td>\n      <td>0.005760</td>\n      <td>-0.5</td>\n      <td>-0.5</td>\n      <td>0.0</td>\n      <td>-912.554260</td>\n    </tr>\n    <tr>\n      <th>90</th>\n      <td>0.0</td>\n      <td>90.0</td>\n      <td>-1.0</td>\n      <td>-0.3</td>\n      <td>-1.55</td>\n      <td>0.1</td>\n      <td>0.000000</td>\n      <td>0.0</td>\n      <td>-909.899963</td>\n      <td>0.002410</td>\n      <td>-0.5</td>\n      <td>0.5</td>\n      <td>0.0</td>\n      <td>-912.647583</td>\n    </tr>\n    <tr>\n      <th>137</th>\n      <td>0.0</td>\n      <td>137.0</td>\n      <td>-1.0</td>\n      <td>-0.3</td>\n      <td>-0.40</td>\n      <td>-0.1</td>\n      <td>0.000000</td>\n      <td>0.0</td>\n      <td>-910.019958</td>\n      <td>0.008113</td>\n      <td>-0.5</td>\n      <td>-0.5</td>\n      <td>0.0</td>\n      <td>-912.811829</td>\n    </tr>\n    <tr>\n      <th>127</th>\n      <td>0.0</td>\n      <td>127.0</td>\n      <td>-1.0</td>\n      <td>-0.2</td>\n      <td>-1.40</td>\n      <td>0.1</td>\n      <td>0.000000</td>\n      <td>0.0</td>\n      <td>-910.109985</td>\n      <td>0.004256</td>\n      <td>-0.5</td>\n      <td>-0.5</td>\n      <td>0.0</td>\n      <td>-913.605713</td>\n    </tr>\n    <tr>\n      <th>25</th>\n      <td>0.0</td>\n      <td>25.0</td>\n      <td>-1.0</td>\n      <td>-0.2</td>\n      <td>-1.55</td>\n      <td>0.1</td>\n      <td>0.000000</td>\n      <td>0.0</td>\n      <td>-910.019958</td>\n      <td>0.003571</td>\n      <td>-0.5</td>\n      <td>-0.5</td>\n      <td>0.0</td>\n      <td>-913.666382</td>\n    </tr>\n  </tbody>\n</table>\n<p>2000 rows × 14 columns</p>\n</div>"
     },
     "execution_count": 6,
     "metadata": {},
     "output_type": "execute_result"
    }
   ],
   "source": [
    "matrix_score.sort_values(\"score\", ascending=False)"
   ],
   "metadata": {
    "collapsed": false,
    "ExecuteTime": {
     "end_time": "2023-10-02T19:00:53.714030800Z",
     "start_time": "2023-10-02T19:00:53.676951Z"
    }
   },
   "id": "6c3b195b7abf837d"
  }
 ],
 "metadata": {
  "kernelspec": {
   "display_name": "Python 3",
   "language": "python",
   "name": "python3"
  },
  "language_info": {
   "codemirror_mode": {
    "name": "ipython",
    "version": 2
   },
   "file_extension": ".py",
   "mimetype": "text/x-python",
   "name": "python",
   "nbconvert_exporter": "python",
   "pygments_lexer": "ipython2",
   "version": "2.7.6"
  }
 },
 "nbformat": 4,
 "nbformat_minor": 5
}
