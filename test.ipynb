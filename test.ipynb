{
 "cells": [
  {
   "cell_type": "code",
   "execution_count": 1,
   "id": "initial_id",
   "metadata": {
    "collapsed": true,
    "ExecuteTime": {
     "end_time": "2023-10-01T19:01:21.379042800Z",
     "start_time": "2023-10-01T19:01:20.760527300Z"
    }
   },
   "outputs": [],
   "source": [
    "import pandas as pd"
   ]
  },
  {
   "cell_type": "code",
   "execution_count": 2,
   "outputs": [],
   "source": [
    "from JobGenerator import JobGenerator\n",
    "\n",
    "gen = JobGenerator(jobs_lib=\"./sources/jobs_library.json\",\n",
    "             citizen=\"./sources/all_citizen.csv\",\n",
    "             nationality=\"./sources/nationality.csv\",\n",
    "             education=\"./sources/education.csv\")"
   ],
   "metadata": {
    "collapsed": false,
    "ExecuteTime": {
     "end_time": "2023-10-01T19:01:21.414036900Z",
     "start_time": "2023-10-01T19:01:21.382030800Z"
    }
   },
   "id": "9f6b75c69023532b"
  },
  {
   "cell_type": "code",
   "execution_count": 3,
   "outputs": [],
   "source": [
    "cvs = [gen.generate_curriculum() for _ in range(500)]\n",
    "pd.DataFrame(cvs).to_csv(\"Curriculums.csv\",index=False)"
   ],
   "metadata": {
    "collapsed": false,
    "ExecuteTime": {
     "end_time": "2023-10-01T19:01:21.917039700Z",
     "start_time": "2023-10-01T19:01:21.413030300Z"
    }
   },
   "id": "6b6c22f15096c2ef"
  },
  {
   "cell_type": "code",
   "execution_count": 4,
   "outputs": [],
   "source": [
    "gen.index = 0"
   ],
   "metadata": {
    "collapsed": false,
    "ExecuteTime": {
     "end_time": "2023-10-01T19:01:21.933037300Z",
     "start_time": "2023-10-01T19:01:21.919053200Z"
    }
   },
   "id": "129881a9c0065284"
  },
  {
   "cell_type": "code",
   "execution_count": 5,
   "outputs": [],
   "source": [
    "cvs = [gen.generate_jobOffer() for _ in range(20)]\n",
    "pd.DataFrame(cvs).to_csv(\"Offers.csv\",index=False)"
   ],
   "metadata": {
    "collapsed": false,
    "ExecuteTime": {
     "end_time": "2023-10-01T19:01:21.980021900Z",
     "start_time": "2023-10-01T19:01:21.937033700Z"
    }
   },
   "id": "266818f333c8053"
  }
 ],
 "metadata": {
  "kernelspec": {
   "display_name": "Python 3",
   "language": "python",
   "name": "python3"
  },
  "language_info": {
   "codemirror_mode": {
    "name": "ipython",
    "version": 2
   },
   "file_extension": ".py",
   "mimetype": "text/x-python",
   "name": "python",
   "nbconvert_exporter": "python",
   "pygments_lexer": "ipython2",
   "version": "2.7.6"
  }
 },
 "nbformat": 4,
 "nbformat_minor": 5
}
