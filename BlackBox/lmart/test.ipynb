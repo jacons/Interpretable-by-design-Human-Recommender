{
 "cells": [
  {
   "cell_type": "code",
   "execution_count": 1,
   "outputs": [],
   "source": [
    "from BlackBox.lmart.lMart_utils import LMARTGridsearch\n",
    "import pandas as pd"
   ],
   "metadata": {
    "collapsed": false,
    "ExecuteTime": {
     "end_time": "2023-10-24T10:42:31.086603500Z",
     "start_time": "2023-10-24T10:42:28.882858200Z"
    }
   },
   "id": "af1e066990852cdc"
  },
  {
   "cell_type": "markdown",
   "source": [
    "# Grid-search"
   ],
   "metadata": {
    "collapsed": false
   },
   "id": "3cef4ced860a9c6"
  },
  {
   "cell_type": "code",
   "execution_count": 2,
   "outputs": [],
   "source": [
    "lMart_parameter = dict(\n",
    "    boosting_type=[\"dart\", \"gbdt\"],\n",
    "    num_leaves=[2, 5, 10, 20, 30],\n",
    "    max_depth=[-1],\n",
    "    n_estimators=[75, 80, 100, 150, 200],\n",
    "    learning_rate=[0.05, 0.08, 0.1, 0.15, 0.2],\n",
    "    reg_lambda=[0.00005, 0.0001, 0.0002, 0.0003]\n",
    ")\n",
    "\n",
    "gs = LMARTGridsearch(path_dataset=\"../../outputs/scores.csv\", random_state=841)\n",
    "# best_ = gs.grid_search(lMart_parameter)"
   ],
   "metadata": {
    "collapsed": false,
    "ExecuteTime": {
     "end_time": "2023-10-24T10:42:31.257393Z",
     "start_time": "2023-10-24T10:42:31.090595700Z"
    }
   },
   "id": "fe7387649e612014"
  },
  {
   "cell_type": "code",
   "execution_count": 2,
   "outputs": [
    {
     "data": {
      "text/plain": "(LGBMRanker(boosting_type='dart', class_weight='balanced', force_row_wise=True,\n            importance_type='gain', learning_rate=0.2, metric='ndcg',\n            n_estimators=80, num_leaves=5, objective='lambdarank',\n            reg_lambda=0.0003, verbose=-1),\n {'boosting_type': 'dart',\n  'learning_rate': 0.2,\n  'max_depth': -1,\n  'n_estimators': 80,\n  'num_leaves': 5,\n  'reg_lambda': 0.0003},\n 0.806521033135338)"
     },
     "execution_count": 2,
     "metadata": {},
     "output_type": "execute_result"
    }
   ],
   "source": [
    "# best_model = best_[0]\n",
    "# print(best_)"
   ],
   "metadata": {
    "collapsed": false,
    "ExecuteTime": {
     "end_time": "2023-10-24T09:35:29.292396200Z",
     "start_time": "2023-10-24T09:35:29.273623800Z"
    }
   },
   "id": "3d22c0d0ef321eb"
  },
  {
   "cell_type": "markdown",
   "source": [
    "# Metric evaluation"
   ],
   "metadata": {
    "collapsed": false
   },
   "id": "ed0bb8172dc6632a"
  },
  {
   "cell_type": "code",
   "execution_count": 3,
   "outputs": [],
   "source": [
    "best_par = {'boosting_type': 'dart', 'learning_rate': 0.2, 'max_depth': -1,\n",
    "            'n_estimators': 80, 'num_leaves': 5, 'reg_lambda': 0.0003}\n",
    "best_model = gs.fit(**best_par)"
   ],
   "metadata": {
    "collapsed": false,
    "ExecuteTime": {
     "end_time": "2023-10-24T10:42:45.586896300Z",
     "start_time": "2023-10-24T10:42:45.370777700Z"
    }
   },
   "id": "2d55f8a31bdb68d"
  },
  {
   "cell_type": "code",
   "execution_count": 4,
   "outputs": [
    {
     "name": "stdout",
     "output_type": "stream",
     "text": [
      "nDCG@15\n",
      "Training set 0.8\n",
      "Validation set 0.8065\n",
      "Test set 0.8008\n"
     ]
    }
   ],
   "source": [
    "# nDCG on test-set\n",
    "nDCG_train = gs.eval_model(model=best_model, df=gs.train, qIds=gs.qIds_train)\n",
    "nDCG_valid = gs.eval_model(model=best_model, df=gs.valid, qIds=gs.qIds_val)\n",
    "nDCG_test = gs.eval_model(model=best_model, df=gs.test, qIds=gs.qIds_test)\n",
    "\n",
    "print(\"nDCG@15\")\n",
    "print(\"Training set\", round(nDCG_train,4))\n",
    "print(\"Validation set\", round(nDCG_valid,4))\n",
    "print(\"Test set\", round(nDCG_test,4))"
   ],
   "metadata": {
    "collapsed": false,
    "ExecuteTime": {
     "end_time": "2023-10-24T10:42:49.140036700Z",
     "start_time": "2023-10-24T10:42:48.479645400Z"
    }
   },
   "id": "1a629f3b092f39b4"
  },
  {
   "cell_type": "markdown",
   "source": [
    "# Example of Job-offer"
   ],
   "metadata": {
    "collapsed": false
   },
   "id": "6859b0e529827051"
  },
  {
   "cell_type": "code",
   "execution_count": 5,
   "outputs": [],
   "source": [
    "qId= 1\n",
    "job_curricula = gs.test[gs.test[\"qId\"] == qId]\n",
    "\n",
    "y_pred = best_model.predict(job_curricula.iloc[:,2:13])\n",
    "\n",
    "y_pred = pd.DataFrame(y_pred, index=job_curricula.index, columns=[\"lambdas\"])\n",
    "dt_final = pd.merge(job_curricula, y_pred, left_index=True, right_index=True)"
   ],
   "metadata": {
    "collapsed": false,
    "ExecuteTime": {
     "end_time": "2023-10-24T10:42:51.888030200Z",
     "start_time": "2023-10-24T10:42:51.877582300Z"
    }
   },
   "id": "a8fc4f50e3f17ac4"
  },
  {
   "cell_type": "code",
   "execution_count": 6,
   "outputs": [
    {
     "data": {
      "text/plain": "1401    4\n1274    4\n990     4\n915     4\n1371    4\n1373    4\n1160    4\n928     3\n1086    3\n1363    3\n1088    3\n1091    3\n934     3\n893     3\n1085    3\nName: labels, dtype: int64"
     },
     "execution_count": 6,
     "metadata": {},
     "output_type": "execute_result"
    }
   ],
   "source": [
    "dt_final.sort_values(\"labels\",ascending=False)[\"labels\"].head(15)"
   ],
   "metadata": {
    "collapsed": false,
    "ExecuteTime": {
     "end_time": "2023-10-24T10:42:54.612432900Z",
     "start_time": "2023-10-24T10:42:54.597359600Z"
    }
   },
   "id": "716f4446c3ff6436"
  },
  {
   "cell_type": "code",
   "execution_count": 7,
   "outputs": [
    {
     "data": {
      "text/plain": "1274    4\n968     3\n990     4\n1271    3\n920     3\n1403    2\n1165    2\n946     2\n876     3\n997     3\n1088    3\n1121    2\n1086    3\n1442    2\n962     2\nName: labels, dtype: int64"
     },
     "execution_count": 7,
     "metadata": {},
     "output_type": "execute_result"
    }
   ],
   "source": [
    "dt_final.sort_values(\"lambdas\",ascending=False)[\"labels\"].head(15)"
   ],
   "metadata": {
    "collapsed": false,
    "ExecuteTime": {
     "end_time": "2023-10-24T10:42:56.595155400Z",
     "start_time": "2023-10-24T10:42:56.581493700Z"
    }
   },
   "id": "d4c54d29074b9c6"
  }
 ],
 "metadata": {
  "kernelspec": {
   "display_name": "Python 3",
   "language": "python",
   "name": "python3"
  },
  "language_info": {
   "codemirror_mode": {
    "name": "ipython",
    "version": 2
   },
   "file_extension": ".py",
   "mimetype": "text/x-python",
   "name": "python",
   "nbconvert_exporter": "python",
   "pygments_lexer": "ipython2",
   "version": "2.7.6"
  }
 },
 "nbformat": 4,
 "nbformat_minor": 5
}
