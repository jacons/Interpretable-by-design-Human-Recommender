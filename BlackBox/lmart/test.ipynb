{
 "cells": [
  {
   "cell_type": "code",
   "execution_count": 2,
   "outputs": [
    {
     "name": "stderr",
     "output_type": "stream",
     "text": [
      "100%|██████████| 720/720 [05:17<00:00,  2.27it/s, nDCG=0.797]\n"
     ]
    }
   ],
   "source": [
    "from BlackBox.lmart.lMart_utils import LMARTGridsearch\n",
    "import pandas as pd\n",
    "\n",
    "\n",
    "lMart_parameter = dict(\n",
    "    boosting_type=[\"dart\", \"gbdt\"],\n",
    "    num_leaves=[2, 5, 10, 20, 30],\n",
    "    max_depth=[-1],\n",
    "    n_estimators=[75, 80, 100, 150, 200],\n",
    "    learning_rate=[0.05, 0.08, 0.1, 0.15, 0.2],\n",
    "    reg_lambda=[0.00005, 0.0001, 0.0002, 0.0003]\n",
    ")\n",
    "\n",
    "gs = LMARTGridsearch(path_dataset=\"../../outputs/scores.csv\", random_state=841)\n",
    "best_ = gs.grid_search(lMart_parameter)"
   ],
   "metadata": {
    "collapsed": false,
    "ExecuteTime": {
     "end_time": "2023-10-23T09:23:55.036316200Z",
     "start_time": "2023-10-23T09:18:37.208387900Z"
    }
   },
   "id": "fe7387649e612014"
  },
  {
   "cell_type": "code",
   "execution_count": 3,
   "outputs": [
    {
     "data": {
      "text/plain": "(LGBMRanker(boosting_type='dart', class_weight='balanced', force_row_wise=True,\n            importance_type='gain', learning_rate=0.15, metric='ndcg',\n            n_estimators=120, num_leaves=5, objective='lambdarank',\n            reg_lambda=0.0002, verbose=-1),\n {'boosting_type': 'dart',\n  'learning_rate': 0.15,\n  'max_depth': -1,\n  'n_estimators': 120,\n  'num_leaves': 5,\n  'reg_lambda': 0.0002},\n 0.7970144406836657)"
     },
     "execution_count": 3,
     "metadata": {},
     "output_type": "execute_result"
    }
   ],
   "source": [
    "best_"
   ],
   "metadata": {
    "collapsed": false,
    "ExecuteTime": {
     "end_time": "2023-10-23T09:24:21.226107800Z",
     "start_time": "2023-10-23T09:24:21.192826200Z"
    }
   },
   "id": "3d22c0d0ef321eb"
  },
  {
   "cell_type": "code",
   "execution_count": 8,
   "outputs": [
    {
     "data": {
      "text/plain": "0.7927933946383483"
     },
     "execution_count": 8,
     "metadata": {},
     "output_type": "execute_result"
    }
   ],
   "source": [
    "# nDCG on test-set\n",
    "gs.eval_model(model=best_[0], df=gs.test, qIds=gs.qIds_test)"
   ],
   "metadata": {
    "collapsed": false,
    "ExecuteTime": {
     "end_time": "2023-10-23T09:26:00.031991Z",
     "start_time": "2023-10-23T09:25:59.770987200Z"
    }
   },
   "id": "1a629f3b092f39b4"
  },
  {
   "cell_type": "code",
   "execution_count": 18,
   "outputs": [],
   "source": [
    "# random qIds\n",
    "# rand_qId = gs.test[\"qId\"].sample().values[0]\n",
    "qId= 1"
   ],
   "metadata": {
    "collapsed": false,
    "ExecuteTime": {
     "end_time": "2023-10-23T09:27:59.951486700Z",
     "start_time": "2023-10-23T09:27:59.932420700Z"
    }
   },
   "id": "a8fc4f50e3f17ac4"
  },
  {
   "cell_type": "code",
   "execution_count": 19,
   "outputs": [],
   "source": [
    "job_curricula = gs.test[gs.test[\"qId\"] == qId]"
   ],
   "metadata": {
    "collapsed": false,
    "ExecuteTime": {
     "end_time": "2023-10-23T09:28:01.710097500Z",
     "start_time": "2023-10-23T09:28:01.699455600Z"
    }
   },
   "id": "716f4446c3ff6436"
  },
  {
   "cell_type": "code",
   "execution_count": 20,
   "outputs": [],
   "source": [
    "y_pred = best_[0].predict(job_curricula.iloc[:,2:13])"
   ],
   "metadata": {
    "collapsed": false,
    "ExecuteTime": {
     "end_time": "2023-10-23T09:28:03.020792400Z",
     "start_time": "2023-10-23T09:28:02.998679400Z"
    }
   },
   "id": "d4c54d29074b9c6"
  },
  {
   "cell_type": "code",
   "execution_count": 21,
   "outputs": [],
   "source": [
    "y_pred = pd.DataFrame(y_pred, index=job_curricula.index, columns=[\"lambdas\"])"
   ],
   "metadata": {
    "collapsed": false,
    "ExecuteTime": {
     "end_time": "2023-10-23T09:28:04.137109800Z",
     "start_time": "2023-10-23T09:28:04.131100900Z"
    }
   },
   "id": "322c00cde72b9eeb"
  },
  {
   "cell_type": "code",
   "execution_count": 22,
   "outputs": [],
   "source": [
    "dt_final = pd.merge(job_curricula, y_pred, left_index=True, right_index=True)"
   ],
   "metadata": {
    "collapsed": false,
    "ExecuteTime": {
     "end_time": "2023-10-23T09:28:05.200793400Z",
     "start_time": "2023-10-23T09:28:05.183701100Z"
    }
   },
   "id": "8a08e3896c4c7065"
  },
  {
   "cell_type": "code",
   "execution_count": 23,
   "outputs": [
    {
     "data": {
      "text/plain": "1178    4\n1403    4\n1021    4\n876     4\n928     4\n1007    4\n999     4\n1293    4\n1435    4\n1452    4\n1433    4\n1204    4\n818     4\n1117    4\n969     4\nName: labels, dtype: int64"
     },
     "execution_count": 23,
     "metadata": {},
     "output_type": "execute_result"
    }
   ],
   "source": [
    "dt_final.sort_values(\"labels\",ascending=False)[\"labels\"].head(15)"
   ],
   "metadata": {
    "collapsed": false,
    "ExecuteTime": {
     "end_time": "2023-10-23T09:28:06.306748700Z",
     "start_time": "2023-10-23T09:28:06.268209Z"
    }
   },
   "id": "5b2fd17a113b33ed"
  },
  {
   "cell_type": "code",
   "execution_count": 24,
   "outputs": [
    {
     "data": {
      "text/plain": "876     4\n1403    4\n1530    2\n928     4\n1404    2\n1573    3\n1409    2\n1569    2\n918     3\n1589    2\n1314    3\n1452    4\n878     2\n970     3\n952     2\nName: labels, dtype: int64"
     },
     "execution_count": 24,
     "metadata": {},
     "output_type": "execute_result"
    }
   ],
   "source": [
    "dt_final.sort_values(\"lambdas\",ascending=False)[\"labels\"].head(15)"
   ],
   "metadata": {
    "collapsed": false,
    "ExecuteTime": {
     "end_time": "2023-10-23T09:28:07.524062900Z",
     "start_time": "2023-10-23T09:28:07.513819200Z"
    }
   },
   "id": "b2b8031dbc89c0f2"
  }
 ],
 "metadata": {
  "kernelspec": {
   "display_name": "Python 3",
   "language": "python",
   "name": "python3"
  },
  "language_info": {
   "codemirror_mode": {
    "name": "ipython",
    "version": 2
   },
   "file_extension": ".py",
   "mimetype": "text/x-python",
   "name": "python",
   "nbconvert_exporter": "python",
   "pygments_lexer": "ipython2",
   "version": "2.7.6"
  }
 },
 "nbformat": 4,
 "nbformat_minor": 5
}
