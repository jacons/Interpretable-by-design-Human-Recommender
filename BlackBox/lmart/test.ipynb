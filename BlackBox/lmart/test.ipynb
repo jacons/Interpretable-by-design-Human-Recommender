{
 "cells": [
  {
   "cell_type": "code",
   "execution_count": 1,
   "outputs": [],
   "source": [
    "from BlackBox.lmart.lMart_utils import LMARTGridsearch\n",
    "import pandas as pd\n",
    "%reload_ext autoreload\n",
    "%autoreload 2"
   ],
   "metadata": {
    "collapsed": false,
    "ExecuteTime": {
     "end_time": "2023-10-26T16:35:39.594477Z",
     "start_time": "2023-10-26T16:35:37.605568500Z"
    }
   },
   "id": "af1e066990852cdc"
  },
  {
   "cell_type": "markdown",
   "source": [
    "# Grid-search"
   ],
   "metadata": {
    "collapsed": false
   },
   "id": "3cef4ced860a9c6"
  },
  {
   "cell_type": "code",
   "execution_count": 2,
   "outputs": [
    {
     "name": "stderr",
     "output_type": "stream",
     "text": [
      "100%|██████████| 1440/1440 [14:58<00:00,  1.60it/s, nDCG_15=0.79]\n"
     ]
    }
   ],
   "source": [
    "lMart_parameter = dict(\n",
    "    boosting_type=[\"dart\", \"gbdt\"],\n",
    "    num_leaves=[2, 5, 10, 20, 30, 40],\n",
    "    max_depth=[-1],\n",
    "    n_estimators=[75, 80, 100, 150, 200],\n",
    "    learning_rate=[0.02, 0.05, 0.08, 0.1, 0.15, 0.2],\n",
    "    reg_lambda=[0.00005, 0.0001, 0.0002, 0.0003]\n",
    ")\n",
    "\n",
    "gs = LMARTGridsearch(path_dataset=\"../../outputs/scores.csv\", random_state=841)\n",
    "best_ = gs.grid_search(lMart_parameter)\n",
    "gs.save_model_parameters(best_[0],best_[1])"
   ],
   "metadata": {
    "collapsed": false,
    "ExecuteTime": {
     "end_time": "2023-10-26T16:50:38.089367600Z",
     "start_time": "2023-10-26T16:35:39.598474800Z"
    }
   },
   "id": "fe7387649e612014"
  },
  {
   "cell_type": "markdown",
   "source": [
    "# Metric evaluation"
   ],
   "metadata": {
    "collapsed": false
   },
   "id": "ed0bb8172dc6632a"
  },
  {
   "cell_type": "code",
   "execution_count": 8,
   "outputs": [
    {
     "data": {
      "text/plain": "(LGBMRanker(boosting_type='dart', class_weight='balanced', force_row_wise=True,\n            importance_type='gain', learning_rate=0.15, metric='ndcg',\n            n_estimators=75, num_leaves=5, objective='lambdarank',\n            reg_lambda=0.0002, verbose=-1),\n {'boosting_type': 'dart',\n  'learning_rate': 0.15,\n  'max_depth': -1,\n  'n_estimators': 75,\n  'num_leaves': 5,\n  'reg_lambda': 0.0002})"
     },
     "execution_count": 8,
     "metadata": {},
     "output_type": "execute_result"
    }
   ],
   "source": [
    "best_model, parameters = gs.load_model_parameters()\n",
    "best_model,parameters"
   ],
   "metadata": {
    "collapsed": false,
    "ExecuteTime": {
     "end_time": "2023-10-26T16:50:39.435627200Z",
     "start_time": "2023-10-26T16:50:39.359153700Z"
    }
   },
   "id": "2d55f8a31bdb68d"
  },
  {
   "cell_type": "code",
   "execution_count": 9,
   "outputs": [
    {
     "data": {
      "text/plain": "            nDCG@1  nDCG@10  nDCG@15\nTraining    0.8330   0.8234   0.8144\nValidation  0.8132   0.7997   0.7898\nTest        0.8069   0.8096   0.7972",
      "text/html": "<div>\n<style scoped>\n    .dataframe tbody tr th:only-of-type {\n        vertical-align: middle;\n    }\n\n    .dataframe tbody tr th {\n        vertical-align: top;\n    }\n\n    .dataframe thead th {\n        text-align: right;\n    }\n</style>\n<table border=\"1\" class=\"dataframe\">\n  <thead>\n    <tr style=\"text-align: right;\">\n      <th></th>\n      <th>nDCG@1</th>\n      <th>nDCG@10</th>\n      <th>nDCG@15</th>\n    </tr>\n  </thead>\n  <tbody>\n    <tr>\n      <th>Training</th>\n      <td>0.8330</td>\n      <td>0.8234</td>\n      <td>0.8144</td>\n    </tr>\n    <tr>\n      <th>Validation</th>\n      <td>0.8132</td>\n      <td>0.7997</td>\n      <td>0.7898</td>\n    </tr>\n    <tr>\n      <th>Test</th>\n      <td>0.8069</td>\n      <td>0.8096</td>\n      <td>0.7972</td>\n    </tr>\n  </tbody>\n</table>\n</div>"
     },
     "metadata": {},
     "output_type": "display_data"
    }
   ],
   "source": [
    "# nDCG\n",
    "nDCG_train = gs.eval_model(model=best_model, df=gs.train, qIds=gs.qIds_train, nDCG_at=[1,10,15])\n",
    "nDCG_valid = gs.eval_model(model=best_model, df=gs.valid, qIds=gs.qIds_val, nDCG_at=[1,10,15])\n",
    "nDCG_test = gs.eval_model(model=best_model, df=gs.test, qIds=gs.qIds_test, nDCG_at=[1,10,15])\n",
    "\n",
    "display(pd.DataFrame([nDCG_train,nDCG_valid,nDCG_test],index=[\"Training\",\"Validation\",\"Test\"]))"
   ],
   "metadata": {
    "collapsed": false,
    "ExecuteTime": {
     "end_time": "2023-10-26T16:50:40.307624Z",
     "start_time": "2023-10-26T16:50:39.427634900Z"
    }
   },
   "id": "1a629f3b092f39b4"
  },
  {
   "cell_type": "markdown",
   "source": [
    "# Example of Job-offer"
   ],
   "metadata": {
    "collapsed": false
   },
   "id": "6859b0e529827051"
  },
  {
   "cell_type": "code",
   "execution_count": 10,
   "outputs": [],
   "source": [
    "qId= 1\n",
    "job_curricula = gs.test[gs.test[\"qId\"] == qId]\n",
    "\n",
    "y_pred = best_model.predict(job_curricula.iloc[:,2:13])\n",
    "\n",
    "y_pred = pd.DataFrame(y_pred, index=job_curricula.index, columns=[\"lambdas\"])\n",
    "dt_final = pd.merge(job_curricula, y_pred, left_index=True, right_index=True)"
   ],
   "metadata": {
    "collapsed": false,
    "ExecuteTime": {
     "end_time": "2023-10-26T16:50:40.421644500Z",
     "start_time": "2023-10-26T16:50:40.303632400Z"
    }
   },
   "id": "a8fc4f50e3f17ac4"
  },
  {
   "cell_type": "code",
   "execution_count": 11,
   "outputs": [
    {
     "data": {
      "text/plain": "1496    4\n791     4\n1010    3\n1190    3\n1418    3\n1481    3\n877     3\n883     3\n1269    3\n1244    3\n926     3\n1224    3\n928     3\n1178    3\n1326    3\nName: labels, dtype: int64"
     },
     "execution_count": 11,
     "metadata": {},
     "output_type": "execute_result"
    }
   ],
   "source": [
    "dt_final.sort_values(\"labels\",ascending=False)[\"labels\"].head(15)"
   ],
   "metadata": {
    "collapsed": false,
    "ExecuteTime": {
     "end_time": "2023-10-26T16:50:40.489918500Z",
     "start_time": "2023-10-26T16:50:40.393661300Z"
    }
   },
   "id": "716f4446c3ff6436"
  },
  {
   "cell_type": "code",
   "execution_count": 12,
   "outputs": [
    {
     "data": {
      "text/plain": "1190    3\n791     4\n1475    2\n1398    3\n1430    2\n1070    3\n759     3\n935     2\n1416    2\n1335    2\n1244    3\n945     3\n1401    3\n1418    3\n999     3\nName: labels, dtype: int64"
     },
     "execution_count": 12,
     "metadata": {},
     "output_type": "execute_result"
    }
   ],
   "source": [
    "dt_final.sort_values(\"lambdas\",ascending=False)[\"labels\"].head(15)"
   ],
   "metadata": {
    "collapsed": false,
    "ExecuteTime": {
     "end_time": "2023-10-26T16:50:40.558560700Z",
     "start_time": "2023-10-26T16:50:40.481925100Z"
    }
   },
   "id": "d4c54d29074b9c6"
  }
 ],
 "metadata": {
  "kernelspec": {
   "display_name": "Python 3",
   "language": "python",
   "name": "python3"
  },
  "language_info": {
   "codemirror_mode": {
    "name": "ipython",
    "version": 2
   },
   "file_extension": ".py",
   "mimetype": "text/x-python",
   "name": "python",
   "nbconvert_exporter": "python",
   "pygments_lexer": "ipython2",
   "version": "2.7.6"
  }
 },
 "nbformat": 4,
 "nbformat_minor": 5
}
