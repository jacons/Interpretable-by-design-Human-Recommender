{
 "cells": [
  {
   "cell_type": "code",
   "execution_count": 38,
   "outputs": [],
   "source": [
    "from BlackBox.lmart.lMart_utils import LMARTGridsearch\n",
    "import pandas as pd\n",
    "%reload_ext autoreload\n",
    "%autoreload 2"
   ],
   "metadata": {
    "collapsed": false,
    "ExecuteTime": {
     "end_time": "2023-10-24T15:33:02.811217700Z",
     "start_time": "2023-10-24T15:33:01.631957900Z"
    }
   },
   "id": "af1e066990852cdc"
  },
  {
   "cell_type": "markdown",
   "source": [
    "# Grid-search"
   ],
   "metadata": {
    "collapsed": false
   },
   "id": "3cef4ced860a9c6"
  },
  {
   "cell_type": "code",
   "execution_count": 39,
   "outputs": [],
   "source": [
    "lMart_parameter = dict(\n",
    "    boosting_type=[\"dart\", \"gbdt\"],\n",
    "    num_leaves=[2, 5, 10, 20, 30],\n",
    "    max_depth=[-1],\n",
    "    n_estimators=[75, 80, 100, 150, 200],\n",
    "    learning_rate=[0.05, 0.08, 0.1, 0.15, 0.2],\n",
    "    reg_lambda=[0.00005, 0.0001, 0.0002, 0.0003]\n",
    ")\n",
    "\n",
    "gs = LMARTGridsearch(path_dataset=\"../../outputs/scores.csv\", random_state=841)\n",
    "# best_ = gs.grid_search(lMart_parameter)"
   ],
   "metadata": {
    "collapsed": false,
    "ExecuteTime": {
     "end_time": "2023-10-24T15:33:04.262911200Z",
     "start_time": "2023-10-24T15:33:03.503510500Z"
    }
   },
   "id": "fe7387649e612014"
  },
  {
   "cell_type": "code",
   "execution_count": 7,
   "outputs": [],
   "source": [
    "# best_model = best_[0]\n",
    "# print(best_)"
   ],
   "metadata": {
    "collapsed": false,
    "ExecuteTime": {
     "end_time": "2023-10-24T15:15:05.560278Z",
     "start_time": "2023-10-24T15:15:05.551261300Z"
    }
   },
   "id": "3d22c0d0ef321eb"
  },
  {
   "cell_type": "markdown",
   "source": [
    "# Metric evaluation"
   ],
   "metadata": {
    "collapsed": false
   },
   "id": "ed0bb8172dc6632a"
  },
  {
   "cell_type": "code",
   "execution_count": 40,
   "outputs": [],
   "source": [
    "best_par = {'boosting_type': 'dart', 'learning_rate': 0.2, 'max_depth': -1,\n",
    "            'n_estimators': 80, 'num_leaves': 5, 'reg_lambda': 0.0003}\n",
    "best_model = gs.fit(**best_par)"
   ],
   "metadata": {
    "collapsed": false,
    "ExecuteTime": {
     "end_time": "2023-10-24T15:33:06.118131900Z",
     "start_time": "2023-10-24T15:33:05.302760200Z"
    }
   },
   "id": "2d55f8a31bdb68d"
  },
  {
   "cell_type": "code",
   "execution_count": 41,
   "outputs": [
    {
     "name": "stdout",
     "output_type": "stream",
     "text": [
      "nDCG@15\n",
      "Training set 0.8\n",
      "Validation set 0.8065\n",
      "Test set 0.8008\n"
     ]
    }
   ],
   "source": [
    "# nDCG on test-set\n",
    "nDCG_train = gs.eval_model(model=best_model, df=gs.train, qIds=gs.qIds_train)\n",
    "nDCG_valid = gs.eval_model(model=best_model, df=gs.valid, qIds=gs.qIds_val)\n",
    "nDCG_test = gs.eval_model(model=best_model, df=gs.test, qIds=gs.qIds_test)\n",
    "\n",
    "print(\"nDCG@15\")\n",
    "print(\"Training set\", round(nDCG_train,4))\n",
    "print(\"Validation set\", round(nDCG_valid,4))\n",
    "print(\"Test set\", round(nDCG_test,4))"
   ],
   "metadata": {
    "collapsed": false,
    "ExecuteTime": {
     "end_time": "2023-10-24T15:33:07.836367300Z",
     "start_time": "2023-10-24T15:33:06.781852600Z"
    }
   },
   "id": "1a629f3b092f39b4"
  },
  {
   "cell_type": "markdown",
   "source": [
    "# Example of Job-offer"
   ],
   "metadata": {
    "collapsed": false
   },
   "id": "6859b0e529827051"
  },
  {
   "cell_type": "code",
   "execution_count": 10,
   "outputs": [],
   "source": [
    "qId= 1\n",
    "job_curricula = gs.test[gs.test[\"qId\"] == qId]\n",
    "\n",
    "y_pred = best_model.predict(job_curricula.iloc[:,2:13])\n",
    "\n",
    "y_pred = pd.DataFrame(y_pred, index=job_curricula.index, columns=[\"lambdas\"])\n",
    "dt_final = pd.merge(job_curricula, y_pred, left_index=True, right_index=True)"
   ],
   "metadata": {
    "collapsed": false,
    "ExecuteTime": {
     "end_time": "2023-10-24T15:15:06.076025200Z",
     "start_time": "2023-10-24T15:15:06.063202900Z"
    }
   },
   "id": "a8fc4f50e3f17ac4"
  },
  {
   "cell_type": "code",
   "execution_count": 11,
   "outputs": [
    {
     "data": {
      "text/plain": "1401    4\n1274    4\n990     4\n915     4\n1371    4\n1373    4\n1160    4\n928     3\n1086    3\n1363    3\n1088    3\n1091    3\n934     3\n893     3\n1085    3\nName: labels, dtype: int64"
     },
     "execution_count": 11,
     "metadata": {},
     "output_type": "execute_result"
    }
   ],
   "source": [
    "dt_final.sort_values(\"labels\",ascending=False)[\"labels\"].head(15)"
   ],
   "metadata": {
    "collapsed": false,
    "ExecuteTime": {
     "end_time": "2023-10-24T15:15:06.096149100Z",
     "start_time": "2023-10-24T15:15:06.070026Z"
    }
   },
   "id": "716f4446c3ff6436"
  },
  {
   "cell_type": "code",
   "execution_count": 12,
   "outputs": [
    {
     "data": {
      "text/plain": "1274    4\n968     3\n990     4\n1271    3\n920     3\n1403    2\n1165    2\n946     2\n876     3\n997     3\n1088    3\n1121    2\n1086    3\n1442    2\n962     2\nName: labels, dtype: int64"
     },
     "execution_count": 12,
     "metadata": {},
     "output_type": "execute_result"
    }
   ],
   "source": [
    "dt_final.sort_values(\"lambdas\",ascending=False)[\"labels\"].head(15)"
   ],
   "metadata": {
    "collapsed": false,
    "ExecuteTime": {
     "end_time": "2023-10-24T15:15:06.158149300Z",
     "start_time": "2023-10-24T15:15:06.081161800Z"
    }
   },
   "id": "d4c54d29074b9c6"
  }
 ],
 "metadata": {
  "kernelspec": {
   "display_name": "Python 3",
   "language": "python",
   "name": "python3"
  },
  "language_info": {
   "codemirror_mode": {
    "name": "ipython",
    "version": 2
   },
   "file_extension": ".py",
   "mimetype": "text/x-python",
   "name": "python",
   "nbconvert_exporter": "python",
   "pygments_lexer": "ipython2",
   "version": "2.7.6"
  }
 },
 "nbformat": 4,
 "nbformat_minor": 5
}
