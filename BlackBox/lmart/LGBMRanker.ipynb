{
 "cells": [
  {
   "cell_type": "code",
   "execution_count": 12,
   "outputs": [],
   "source": [
    "from BlackBox.lmart.LambdaMart_utils import LMARTGridsearch\n",
    "import pandas as pd\n",
    "import numpy as np\n",
    "%reload_ext autoreload\n",
    "%autoreload 2"
   ],
   "metadata": {
    "collapsed": false,
    "ExecuteTime": {
     "end_time": "2023-10-27T17:46:32.629872600Z",
     "start_time": "2023-10-27T17:46:32.466275400Z"
    }
   },
   "id": "af1e066990852cdc"
  },
  {
   "cell_type": "code",
   "execution_count": 2,
   "outputs": [],
   "source": [
    "lMart_parameter = dict(\n",
    "    boosting_type=[\"dart\", \"gbdt\"],\n",
    "    num_leaves=[2, 5, 10, 20, 30, 40],\n",
    "    max_depth=[-1],\n",
    "    n_estimators=[75, 80, 100, 150, 200],\n",
    "    learning_rate=[0.02, 0.05, 0.08, 0.1, 0.15, 0.2],\n",
    "    reg_lambda=[0.00005, 0.0001, 0.0002, 0.0003]\n",
    ")"
   ],
   "metadata": {
    "collapsed": false,
    "ExecuteTime": {
     "end_time": "2023-10-27T17:23:19.175440800Z",
     "start_time": "2023-10-27T17:23:19.114030100Z"
    }
   },
   "id": "62e35e89252ff522"
  },
  {
   "cell_type": "markdown",
   "source": [
    "# Grid-search"
   ],
   "metadata": {
    "collapsed": false
   },
   "id": "3cef4ced860a9c6"
  },
  {
   "cell_type": "code",
   "execution_count": 3,
   "outputs": [],
   "source": [
    "gs = LMARTGridsearch(path_dataset=\"../../outputs/scores.csv\", random_state=841)"
   ],
   "metadata": {
    "collapsed": false,
    "ExecuteTime": {
     "end_time": "2023-10-27T17:23:21.461080100Z",
     "start_time": "2023-10-27T17:23:21.211101200Z"
    }
   },
   "id": "fe7387649e612014"
  },
  {
   "cell_type": "code",
   "execution_count": null,
   "outputs": [],
   "source": [
    "best_ = gs.grid_search(lMart_parameter)\n",
    "gs.save_model(best_[0],\"lgbmranker_unbalanced\")"
   ],
   "metadata": {
    "collapsed": false
   },
   "id": "92efd44b4260f0ca"
  },
  {
   "cell_type": "markdown",
   "source": [
    "# Metric evaluation"
   ],
   "metadata": {
    "collapsed": false
   },
   "id": "ed0bb8172dc6632a"
  },
  {
   "cell_type": "code",
   "execution_count": 5,
   "outputs": [],
   "source": [
    "best_model = gs.load_model(\"lgbmranker_unbalanced\")"
   ],
   "metadata": {
    "collapsed": false,
    "ExecuteTime": {
     "end_time": "2023-10-27T17:23:40.534278200Z",
     "start_time": "2023-10-27T17:23:40.446759100Z"
    }
   },
   "id": "2d55f8a31bdb68d"
  },
  {
   "cell_type": "code",
   "execution_count": 7,
   "outputs": [
    {
     "data": {
      "text/plain": "            nDCG@1  nDCG@10  nDCG@15\nTraining    0.9267   0.8225   0.8283\nValidation  0.7908   0.7971   0.8296\nTest        0.7933   0.7701   0.7957",
      "text/html": "<div>\n<style scoped>\n    .dataframe tbody tr th:only-of-type {\n        vertical-align: middle;\n    }\n\n    .dataframe tbody tr th {\n        vertical-align: top;\n    }\n\n    .dataframe thead th {\n        text-align: right;\n    }\n</style>\n<table border=\"1\" class=\"dataframe\">\n  <thead>\n    <tr style=\"text-align: right;\">\n      <th></th>\n      <th>nDCG@1</th>\n      <th>nDCG@10</th>\n      <th>nDCG@15</th>\n    </tr>\n  </thead>\n  <tbody>\n    <tr>\n      <th>Training</th>\n      <td>0.9267</td>\n      <td>0.8225</td>\n      <td>0.8283</td>\n    </tr>\n    <tr>\n      <th>Validation</th>\n      <td>0.7908</td>\n      <td>0.7971</td>\n      <td>0.8296</td>\n    </tr>\n    <tr>\n      <th>Test</th>\n      <td>0.7933</td>\n      <td>0.7701</td>\n      <td>0.7957</td>\n    </tr>\n  </tbody>\n</table>\n</div>"
     },
     "metadata": {},
     "output_type": "display_data"
    },
    {
     "name": "stdout",
     "output_type": "stream",
     "text": [
      "Test set\n"
     ]
    },
    {
     "data": {
      "text/plain": "                    nDCG@1  nDCG@10  nDCG@15\nrandom_permutation  0.5636   0.6369   0.6784\nperfect_nDCG        1.0000   1.0000   1.0000\nworste_nDCG         0.2832   0.3745   0.4458",
      "text/html": "<div>\n<style scoped>\n    .dataframe tbody tr th:only-of-type {\n        vertical-align: middle;\n    }\n\n    .dataframe tbody tr th {\n        vertical-align: top;\n    }\n\n    .dataframe thead th {\n        text-align: right;\n    }\n</style>\n<table border=\"1\" class=\"dataframe\">\n  <thead>\n    <tr style=\"text-align: right;\">\n      <th></th>\n      <th>nDCG@1</th>\n      <th>nDCG@10</th>\n      <th>nDCG@15</th>\n    </tr>\n  </thead>\n  <tbody>\n    <tr>\n      <th>random_permutation</th>\n      <td>0.5636</td>\n      <td>0.6369</td>\n      <td>0.6784</td>\n    </tr>\n    <tr>\n      <th>perfect_nDCG</th>\n      <td>1.0000</td>\n      <td>1.0000</td>\n      <td>1.0000</td>\n    </tr>\n    <tr>\n      <th>worste_nDCG</th>\n      <td>0.2832</td>\n      <td>0.3745</td>\n      <td>0.4458</td>\n    </tr>\n  </tbody>\n</table>\n</div>"
     },
     "metadata": {},
     "output_type": "display_data"
    }
   ],
   "source": [
    "# nDCG\n",
    "nDCG_train = gs.eval_model(model=best_model, df=gs.train, qIds=gs.qIds_train, nDCG_at=[1,10,15])\n",
    "nDCG_valid = gs.eval_model(model=best_model, df=gs.valid, qIds=gs.qIds_val, nDCG_at=[1,10,15])\n",
    "nDCG_test = gs.eval_model(model=best_model, df=gs.test, qIds=gs.qIds_test, nDCG_at=[1,10,15])\n",
    "\n",
    "other_evals_tr = gs.other_eval(df=gs.test, qIds=gs.qIds_test, nDCG_at=[1,10,15])\n",
    "\n",
    "display(pd.DataFrame([nDCG_train,nDCG_valid,nDCG_test],index=[\"Training\",\"Validation\",\"Test\"]))\n",
    "\n",
    "print(\"Test set\")\n",
    "display(pd.DataFrame(other_evals_tr).T)"
   ],
   "metadata": {
    "collapsed": false,
    "ExecuteTime": {
     "end_time": "2023-10-27T17:23:48.726755300Z",
     "start_time": "2023-10-27T17:23:47.726794800Z"
    }
   },
   "id": "1a629f3b092f39b4"
  },
  {
   "cell_type": "markdown",
   "source": [
    "# Example of Job-offer"
   ],
   "metadata": {
    "collapsed": false
   },
   "id": "d206241871d4fe0d"
  },
  {
   "cell_type": "code",
   "execution_count": 11,
   "outputs": [
    {
     "data": {
      "text/plain": "      kId  labels\n3006    6       2\n3008    8       2\n3014   14       2\n3016   16       1\n3020   20       2\n3024   24       2\n3026   26       2\n3027   27       2\n3029   29       1\n3032   32       1\n3033   33       2\n3034   34       2\n3035   35       0\n3047   47       2\n3048   48       2",
      "text/html": "<div>\n<style scoped>\n    .dataframe tbody tr th:only-of-type {\n        vertical-align: middle;\n    }\n\n    .dataframe tbody tr th {\n        vertical-align: top;\n    }\n\n    .dataframe thead th {\n        text-align: right;\n    }\n</style>\n<table border=\"1\" class=\"dataframe\">\n  <thead>\n    <tr style=\"text-align: right;\">\n      <th></th>\n      <th>kId</th>\n      <th>labels</th>\n    </tr>\n  </thead>\n  <tbody>\n    <tr>\n      <th>3006</th>\n      <td>6</td>\n      <td>2</td>\n    </tr>\n    <tr>\n      <th>3008</th>\n      <td>8</td>\n      <td>2</td>\n    </tr>\n    <tr>\n      <th>3014</th>\n      <td>14</td>\n      <td>2</td>\n    </tr>\n    <tr>\n      <th>3016</th>\n      <td>16</td>\n      <td>1</td>\n    </tr>\n    <tr>\n      <th>3020</th>\n      <td>20</td>\n      <td>2</td>\n    </tr>\n    <tr>\n      <th>3024</th>\n      <td>24</td>\n      <td>2</td>\n    </tr>\n    <tr>\n      <th>3026</th>\n      <td>26</td>\n      <td>2</td>\n    </tr>\n    <tr>\n      <th>3027</th>\n      <td>27</td>\n      <td>2</td>\n    </tr>\n    <tr>\n      <th>3029</th>\n      <td>29</td>\n      <td>1</td>\n    </tr>\n    <tr>\n      <th>3032</th>\n      <td>32</td>\n      <td>1</td>\n    </tr>\n    <tr>\n      <th>3033</th>\n      <td>33</td>\n      <td>2</td>\n    </tr>\n    <tr>\n      <th>3034</th>\n      <td>34</td>\n      <td>2</td>\n    </tr>\n    <tr>\n      <th>3035</th>\n      <td>35</td>\n      <td>0</td>\n    </tr>\n    <tr>\n      <th>3047</th>\n      <td>47</td>\n      <td>2</td>\n    </tr>\n    <tr>\n      <th>3048</th>\n      <td>48</td>\n      <td>2</td>\n    </tr>\n  </tbody>\n</table>\n</div>"
     },
     "execution_count": 11,
     "metadata": {},
     "output_type": "execute_result"
    }
   ],
   "source": [
    "gs.test[gs.test[\"qId\"]==15][[\"kId\",\"labels\"]].head(15)"
   ],
   "metadata": {
    "collapsed": false,
    "ExecuteTime": {
     "end_time": "2023-10-27T17:28:33.534957400Z",
     "start_time": "2023-10-27T17:28:33.462492700Z"
    }
   },
   "id": "1decae49a8bcbd54"
  },
  {
   "cell_type": "code",
   "execution_count": 13,
   "outputs": [
    {
     "data": {
      "text/plain": "      kId  labels\n3165  165       4\n3167  167       2\n3051   51       2\n3187  187       2\n3103  103       3\n3027   27       2\n3197  197       2\n3097   97       2\n3171  171       2\n3199  199       3\n3049   49       2\n3149  149       2\n3131  131       2\n3173  173       2\n3181  181       2",
      "text/html": "<div>\n<style scoped>\n    .dataframe tbody tr th:only-of-type {\n        vertical-align: middle;\n    }\n\n    .dataframe tbody tr th {\n        vertical-align: top;\n    }\n\n    .dataframe thead th {\n        text-align: right;\n    }\n</style>\n<table border=\"1\" class=\"dataframe\">\n  <thead>\n    <tr style=\"text-align: right;\">\n      <th></th>\n      <th>kId</th>\n      <th>labels</th>\n    </tr>\n  </thead>\n  <tbody>\n    <tr>\n      <th>3165</th>\n      <td>165</td>\n      <td>4</td>\n    </tr>\n    <tr>\n      <th>3167</th>\n      <td>167</td>\n      <td>2</td>\n    </tr>\n    <tr>\n      <th>3051</th>\n      <td>51</td>\n      <td>2</td>\n    </tr>\n    <tr>\n      <th>3187</th>\n      <td>187</td>\n      <td>2</td>\n    </tr>\n    <tr>\n      <th>3103</th>\n      <td>103</td>\n      <td>3</td>\n    </tr>\n    <tr>\n      <th>3027</th>\n      <td>27</td>\n      <td>2</td>\n    </tr>\n    <tr>\n      <th>3197</th>\n      <td>197</td>\n      <td>2</td>\n    </tr>\n    <tr>\n      <th>3097</th>\n      <td>97</td>\n      <td>2</td>\n    </tr>\n    <tr>\n      <th>3171</th>\n      <td>171</td>\n      <td>2</td>\n    </tr>\n    <tr>\n      <th>3199</th>\n      <td>199</td>\n      <td>3</td>\n    </tr>\n    <tr>\n      <th>3049</th>\n      <td>49</td>\n      <td>2</td>\n    </tr>\n    <tr>\n      <th>3149</th>\n      <td>149</td>\n      <td>2</td>\n    </tr>\n    <tr>\n      <th>3131</th>\n      <td>131</td>\n      <td>2</td>\n    </tr>\n    <tr>\n      <th>3173</th>\n      <td>173</td>\n      <td>2</td>\n    </tr>\n    <tr>\n      <th>3181</th>\n      <td>181</td>\n      <td>2</td>\n    </tr>\n  </tbody>\n</table>\n</div>"
     },
     "execution_count": 13,
     "metadata": {},
     "output_type": "execute_result"
    }
   ],
   "source": [
    "features = gs.test[gs.test[\"qId\"]==15]\n",
    "y_pred = best_model.predict(np.asarray(features.iloc[:,2:13].values))\n",
    "y_pred = pd.DataFrame(y_pred, index=features.index, columns=[\"lambdas\"])\n",
    "dt_final = pd.merge(features, y_pred, left_index=True, right_index=True)\n",
    "dt_final.sort_values(\"lambdas\",ascending=False)[[\"kId\",\"labels\"]].head(15)"
   ],
   "metadata": {
    "collapsed": false,
    "ExecuteTime": {
     "end_time": "2023-10-27T17:46:40.022298900Z",
     "start_time": "2023-10-27T17:46:39.848521800Z"
    }
   },
   "id": "3245714febd660a1"
  },
  {
   "cell_type": "code",
   "execution_count": null,
   "outputs": [],
   "source": [
    "# qId= 1\n",
    "# job_curricula = gs.test[gs.test[\"qId\"] == qId]\n",
    "# \n",
    "# y_pred = best_model.predict(job_curricula.iloc[:,2:13])\n",
    "# \n",
    "# y_pred = pd.DataFrame(y_pred, index=job_curricula.index, columns=[\"lambdas\"])\n",
    "# dt_final = pd.merge(job_curricula, y_pred, left_index=True, right_index=True)\n",
    "# dt_final.sort_values(\"labels\",ascending=False)[\"labels\"].head(15)\n",
    "# dt_final.sort_values(\"lambdas\",ascending=False)[\"labels\"].head(15)"
   ],
   "metadata": {
    "collapsed": false
   },
   "id": "57ba8fe5d66b255b"
  },
  {
   "cell_type": "markdown",
   "source": [
    "# Grid search - balanced"
   ],
   "metadata": {
    "collapsed": false
   },
   "id": "6859b0e529827051"
  },
  {
   "cell_type": "code",
   "execution_count": 29,
   "outputs": [],
   "source": [
    "gs = LMARTGridsearch(path_dataset=\"../../outputs/balanced_scores.csv\", random_state=841)"
   ],
   "metadata": {
    "collapsed": false,
    "ExecuteTime": {
     "end_time": "2023-10-27T14:34:22.166413900Z",
     "start_time": "2023-10-27T14:34:21.920366100Z"
    }
   },
   "id": "d1816adee596df57"
  },
  {
   "cell_type": "code",
   "execution_count": 30,
   "outputs": [
    {
     "name": "stderr",
     "output_type": "stream",
     "text": [
      "100%|██████████| 1440/1440 [06:12<00:00,  3.86it/s, nDCG_15=0.935]\n"
     ]
    }
   ],
   "source": [
    "best_ = gs.grid_search(lMart_parameter)\n",
    "gs.save_model(best_[0],\"lgbmranker_balanced\")"
   ],
   "metadata": {
    "collapsed": false,
    "ExecuteTime": {
     "end_time": "2023-10-27T14:40:35.044502300Z",
     "start_time": "2023-10-27T14:34:22.169465300Z"
    }
   },
   "id": "b36e4b8c4d423f20"
  },
  {
   "cell_type": "code",
   "execution_count": 31,
   "outputs": [],
   "source": [
    "best_model = gs.load_model(\"lgbmranker_unbalanced\")"
   ],
   "metadata": {
    "collapsed": false,
    "ExecuteTime": {
     "end_time": "2023-10-27T14:40:35.281981900Z",
     "start_time": "2023-10-27T14:40:35.030512600Z"
    }
   },
   "id": "bfdce6b68abf45b4"
  },
  {
   "cell_type": "code",
   "execution_count": 32,
   "outputs": [
    {
     "data": {
      "text/plain": "            nDCG@1  nDCG@10  nDCG@15\nTraining    0.8989   0.8713   0.9038\nValidation  0.8900   0.9358   0.9457\nTest        0.8550   0.8885   0.9264",
      "text/html": "<div>\n<style scoped>\n    .dataframe tbody tr th:only-of-type {\n        vertical-align: middle;\n    }\n\n    .dataframe tbody tr th {\n        vertical-align: top;\n    }\n\n    .dataframe thead th {\n        text-align: right;\n    }\n</style>\n<table border=\"1\" class=\"dataframe\">\n  <thead>\n    <tr style=\"text-align: right;\">\n      <th></th>\n      <th>nDCG@1</th>\n      <th>nDCG@10</th>\n      <th>nDCG@15</th>\n    </tr>\n  </thead>\n  <tbody>\n    <tr>\n      <th>Training</th>\n      <td>0.8989</td>\n      <td>0.8713</td>\n      <td>0.9038</td>\n    </tr>\n    <tr>\n      <th>Validation</th>\n      <td>0.8900</td>\n      <td>0.9358</td>\n      <td>0.9457</td>\n    </tr>\n    <tr>\n      <th>Test</th>\n      <td>0.8550</td>\n      <td>0.8885</td>\n      <td>0.9264</td>\n    </tr>\n  </tbody>\n</table>\n</div>"
     },
     "metadata": {},
     "output_type": "display_data"
    },
    {
     "name": "stdout",
     "output_type": "stream",
     "text": [
      "Test set\n"
     ]
    },
    {
     "data": {
      "text/plain": "                    nDCG@1  nDCG@10  nDCG@15\nrandom_permutation  0.6313   0.7943   0.8548\nperfect_nDCG        1.0000   1.0000   1.0000\nworste_nDCG         0.3243   0.6195   0.7346",
      "text/html": "<div>\n<style scoped>\n    .dataframe tbody tr th:only-of-type {\n        vertical-align: middle;\n    }\n\n    .dataframe tbody tr th {\n        vertical-align: top;\n    }\n\n    .dataframe thead th {\n        text-align: right;\n    }\n</style>\n<table border=\"1\" class=\"dataframe\">\n  <thead>\n    <tr style=\"text-align: right;\">\n      <th></th>\n      <th>nDCG@1</th>\n      <th>nDCG@10</th>\n      <th>nDCG@15</th>\n    </tr>\n  </thead>\n  <tbody>\n    <tr>\n      <th>random_permutation</th>\n      <td>0.6313</td>\n      <td>0.7943</td>\n      <td>0.8548</td>\n    </tr>\n    <tr>\n      <th>perfect_nDCG</th>\n      <td>1.0000</td>\n      <td>1.0000</td>\n      <td>1.0000</td>\n    </tr>\n    <tr>\n      <th>worste_nDCG</th>\n      <td>0.3243</td>\n      <td>0.6195</td>\n      <td>0.7346</td>\n    </tr>\n  </tbody>\n</table>\n</div>"
     },
     "metadata": {},
     "output_type": "display_data"
    }
   ],
   "source": [
    "# nDCG\n",
    "nDCG_train = gs.eval_model(model=best_model, df=gs.train, qIds=gs.qIds_train, nDCG_at=[1,10,15])\n",
    "nDCG_valid = gs.eval_model(model=best_model, df=gs.valid, qIds=gs.qIds_val, nDCG_at=[1,10,15])\n",
    "nDCG_test = gs.eval_model(model=best_model, df=gs.test, qIds=gs.qIds_test, nDCG_at=[1,10,15])\n",
    "\n",
    "other_evals_tr = gs.other_eval(df=gs.test, qIds=gs.qIds_test, nDCG_at=[1,10,15])\n",
    "\n",
    "display(pd.DataFrame([nDCG_train,nDCG_valid,nDCG_test],index=[\"Training\",\"Validation\",\"Test\"]))\n",
    "\n",
    "print(\"Test set\")\n",
    "display(pd.DataFrame(other_evals_tr).T)"
   ],
   "metadata": {
    "collapsed": false,
    "ExecuteTime": {
     "end_time": "2023-10-27T14:40:36.471538900Z",
     "start_time": "2023-10-27T14:40:35.281981900Z"
    }
   },
   "id": "181eb67fc94ea911"
  }
 ],
 "metadata": {
  "kernelspec": {
   "display_name": "Python 3",
   "language": "python",
   "name": "python3"
  },
  "language_info": {
   "codemirror_mode": {
    "name": "ipython",
    "version": 2
   },
   "file_extension": ".py",
   "mimetype": "text/x-python",
   "name": "python",
   "nbconvert_exporter": "python",
   "pygments_lexer": "ipython2",
   "version": "2.7.6"
  }
 },
 "nbformat": 4,
 "nbformat_minor": 5
}
