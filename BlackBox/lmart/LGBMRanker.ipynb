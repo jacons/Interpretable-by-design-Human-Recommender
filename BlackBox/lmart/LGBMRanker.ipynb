{
 "cells": [
  {
   "cell_type": "code",
   "execution_count": 1,
   "outputs": [],
   "source": [
    "from BlackBox.lmart.LambdaMart_utils import LMARTGridsearch\n",
    "import pandas as pd\n",
    "import numpy as np\n",
    "%reload_ext autoreload\n",
    "%autoreload 2"
   ],
   "metadata": {
    "collapsed": false,
    "ExecuteTime": {
     "end_time": "2023-10-29T16:40:32.193890600Z",
     "start_time": "2023-10-29T16:40:30.316914Z"
    }
   },
   "id": "af1e066990852cdc"
  },
  {
   "cell_type": "code",
   "execution_count": 2,
   "outputs": [],
   "source": [
    "lMart_parameter = dict(\n",
    "    boosting_type=[\"dart\", \"gbdt\"],\n",
    "    num_leaves=[2, 5, 10, 20, 30, 40],\n",
    "    max_depth=[-1],\n",
    "    n_estimators=[75, 80, 100, 150, 200],\n",
    "    learning_rate=[0.02, 0.05, 0.08, 0.1, 0.15, 0.2],\n",
    "    reg_lambda=[0.00005, 0.0001, 0.0002, 0.0003]\n",
    ")\n",
    "gridsearch_parameters = dict( # unbalanced sources\n",
    "    train=\"../../outputs/scores/scores_tr.csv\",\n",
    "    valid=\"../../outputs/scores/scores_vl.csv\",\n",
    "    test=\"../../outputs/scores/scores_ts.csv\",\n",
    "    nDCG_at=15\n",
    ")\n",
    "gridsearch_parameters2 = dict( # balanced sources\n",
    "    train=\"../../outputs/bal_scores/scores_tr.csv\",\n",
    "    valid=\"../../outputs/bal_scores/scores_vl.csv\",\n",
    "    test=\"../../outputs/bal_scores/scores_ts.csv\",\n",
    "    nDCG_at=15\n",
    ")"
   ],
   "metadata": {
    "collapsed": false,
    "ExecuteTime": {
     "end_time": "2023-10-29T16:40:32.260632200Z",
     "start_time": "2023-10-29T16:40:32.198874900Z"
    }
   },
   "id": "62e35e89252ff522"
  },
  {
   "cell_type": "markdown",
   "source": [
    "# Grid-search"
   ],
   "metadata": {
    "collapsed": false
   },
   "id": "3cef4ced860a9c6"
  },
  {
   "cell_type": "code",
   "execution_count": 3,
   "outputs": [],
   "source": [
    "gs = LMARTGridsearch(**gridsearch_parameters)"
   ],
   "metadata": {
    "collapsed": false,
    "ExecuteTime": {
     "end_time": "2023-10-29T16:40:32.364106300Z",
     "start_time": "2023-10-29T16:40:32.265663500Z"
    }
   },
   "id": "fe7387649e612014"
  },
  {
   "cell_type": "code",
   "execution_count": 4,
   "outputs": [
    {
     "name": "stderr",
     "output_type": "stream",
     "text": [
      "100%|██████████| 1440/1440 [05:12<00:00,  4.61it/s, nDCG_15=0.847]\n"
     ]
    }
   ],
   "source": [
    "best_ = gs.grid_search(lMart_parameter)\n",
    "gs.save_model(best_[0],\"LGBMRanker_unbalanced\")"
   ],
   "metadata": {
    "collapsed": false,
    "ExecuteTime": {
     "end_time": "2023-10-29T16:45:45.106672100Z",
     "start_time": "2023-10-29T16:40:32.366089700Z"
    }
   },
   "id": "92efd44b4260f0ca"
  },
  {
   "cell_type": "markdown",
   "source": [
    "# Metric evaluation"
   ],
   "metadata": {
    "collapsed": false
   },
   "id": "ed0bb8172dc6632a"
  },
  {
   "cell_type": "code",
   "execution_count": 5,
   "outputs": [],
   "source": [
    "best_model = gs.load_model(\"./saved_models/LGBMRanker_unbalanced\")"
   ],
   "metadata": {
    "collapsed": false,
    "ExecuteTime": {
     "end_time": "2023-10-29T16:45:45.197772Z",
     "start_time": "2023-10-29T16:45:45.099672200Z"
    }
   },
   "id": "2d55f8a31bdb68d"
  },
  {
   "cell_type": "code",
   "execution_count": 6,
   "outputs": [
    {
     "data": {
      "text/plain": "            nDCG@1  nDCG@10  nDCG@15\nTraining    0.9867   0.9245   0.9098\nValidation  0.9183   0.8598   0.8470\nTest        0.8717   0.8520   0.8415",
      "text/html": "<div>\n<style scoped>\n    .dataframe tbody tr th:only-of-type {\n        vertical-align: middle;\n    }\n\n    .dataframe tbody tr th {\n        vertical-align: top;\n    }\n\n    .dataframe thead th {\n        text-align: right;\n    }\n</style>\n<table border=\"1\" class=\"dataframe\">\n  <thead>\n    <tr style=\"text-align: right;\">\n      <th></th>\n      <th>nDCG@1</th>\n      <th>nDCG@10</th>\n      <th>nDCG@15</th>\n    </tr>\n  </thead>\n  <tbody>\n    <tr>\n      <th>Training</th>\n      <td>0.9867</td>\n      <td>0.9245</td>\n      <td>0.9098</td>\n    </tr>\n    <tr>\n      <th>Validation</th>\n      <td>0.9183</td>\n      <td>0.8598</td>\n      <td>0.8470</td>\n    </tr>\n    <tr>\n      <th>Test</th>\n      <td>0.8717</td>\n      <td>0.8520</td>\n      <td>0.8415</td>\n    </tr>\n  </tbody>\n</table>\n</div>"
     },
     "metadata": {},
     "output_type": "display_data"
    },
    {
     "name": "stdout",
     "output_type": "stream",
     "text": [
      "Test set\n"
     ]
    },
    {
     "data": {
      "text/plain": "                    nDCG@1  nDCG@10  nDCG@15\nrandom_permutation  0.4717   0.5759   0.5915\nperfect_nDCG        1.0000   1.0000   1.0000\nworste_nDCG         0.1250   0.3066   0.3341",
      "text/html": "<div>\n<style scoped>\n    .dataframe tbody tr th:only-of-type {\n        vertical-align: middle;\n    }\n\n    .dataframe tbody tr th {\n        vertical-align: top;\n    }\n\n    .dataframe thead th {\n        text-align: right;\n    }\n</style>\n<table border=\"1\" class=\"dataframe\">\n  <thead>\n    <tr style=\"text-align: right;\">\n      <th></th>\n      <th>nDCG@1</th>\n      <th>nDCG@10</th>\n      <th>nDCG@15</th>\n    </tr>\n  </thead>\n  <tbody>\n    <tr>\n      <th>random_permutation</th>\n      <td>0.4717</td>\n      <td>0.5759</td>\n      <td>0.5915</td>\n    </tr>\n    <tr>\n      <th>perfect_nDCG</th>\n      <td>1.0000</td>\n      <td>1.0000</td>\n      <td>1.0000</td>\n    </tr>\n    <tr>\n      <th>worste_nDCG</th>\n      <td>0.1250</td>\n      <td>0.3066</td>\n      <td>0.3341</td>\n    </tr>\n  </tbody>\n</table>\n</div>"
     },
     "metadata": {},
     "output_type": "display_data"
    }
   ],
   "source": [
    "# nDCG\n",
    "nDCG_train = gs.eval_model(model=best_model, df=gs.train, qIds=gs.qIds_train, nDCG_at=[1,10,15])\n",
    "nDCG_valid = gs.eval_model(model=best_model, df=gs.valid, qIds=gs.qIds_val, nDCG_at=[1,10,15])\n",
    "nDCG_test = gs.eval_model(model=best_model, df=gs.test, qIds=gs.qIds_test, nDCG_at=[1,10,15])\n",
    "\n",
    "other_evals_tr = gs.other_eval(df=gs.test, qIds=gs.qIds_test, nDCG_at=[1,10,15])\n",
    "\n",
    "display(pd.DataFrame([nDCG_train,nDCG_valid,nDCG_test],index=[\"Training\",\"Validation\",\"Test\"]))\n",
    "\n",
    "print(\"Test set\")\n",
    "display(pd.DataFrame(other_evals_tr).T)"
   ],
   "metadata": {
    "collapsed": false,
    "ExecuteTime": {
     "end_time": "2023-10-29T16:45:45.836738100Z",
     "start_time": "2023-10-29T16:45:45.204773100Z"
    }
   },
   "id": "1a629f3b092f39b4"
  },
  {
   "cell_type": "markdown",
   "source": [
    "# Example of Job-offer"
   ],
   "metadata": {
    "collapsed": false
   },
   "id": "d206241871d4fe0d"
  },
  {
   "cell_type": "code",
   "execution_count": 7,
   "outputs": [
    {
     "data": {
      "text/plain": "      kId  labels\n171   256       3\n4808  117       3\n2839  228       3\n3583  101       2\n4227   87       2\n1459  200       2\n2043  251       2\n1433  249       2\n1483  105       2\n4905  109       2\n3444  239       2\n2813  112       2\n4408  120       2\n4797  234       2\n1453  230       2",
      "text/html": "<div>\n<style scoped>\n    .dataframe tbody tr th:only-of-type {\n        vertical-align: middle;\n    }\n\n    .dataframe tbody tr th {\n        vertical-align: top;\n    }\n\n    .dataframe thead th {\n        text-align: right;\n    }\n</style>\n<table border=\"1\" class=\"dataframe\">\n  <thead>\n    <tr style=\"text-align: right;\">\n      <th></th>\n      <th>kId</th>\n      <th>labels</th>\n    </tr>\n  </thead>\n  <tbody>\n    <tr>\n      <th>171</th>\n      <td>256</td>\n      <td>3</td>\n    </tr>\n    <tr>\n      <th>4808</th>\n      <td>117</td>\n      <td>3</td>\n    </tr>\n    <tr>\n      <th>2839</th>\n      <td>228</td>\n      <td>3</td>\n    </tr>\n    <tr>\n      <th>3583</th>\n      <td>101</td>\n      <td>2</td>\n    </tr>\n    <tr>\n      <th>4227</th>\n      <td>87</td>\n      <td>2</td>\n    </tr>\n    <tr>\n      <th>1459</th>\n      <td>200</td>\n      <td>2</td>\n    </tr>\n    <tr>\n      <th>2043</th>\n      <td>251</td>\n      <td>2</td>\n    </tr>\n    <tr>\n      <th>1433</th>\n      <td>249</td>\n      <td>2</td>\n    </tr>\n    <tr>\n      <th>1483</th>\n      <td>105</td>\n      <td>2</td>\n    </tr>\n    <tr>\n      <th>4905</th>\n      <td>109</td>\n      <td>2</td>\n    </tr>\n    <tr>\n      <th>3444</th>\n      <td>239</td>\n      <td>2</td>\n    </tr>\n    <tr>\n      <th>2813</th>\n      <td>112</td>\n      <td>2</td>\n    </tr>\n    <tr>\n      <th>4408</th>\n      <td>120</td>\n      <td>2</td>\n    </tr>\n    <tr>\n      <th>4797</th>\n      <td>234</td>\n      <td>2</td>\n    </tr>\n    <tr>\n      <th>1453</th>\n      <td>230</td>\n      <td>2</td>\n    </tr>\n  </tbody>\n</table>\n</div>"
     },
     "execution_count": 7,
     "metadata": {},
     "output_type": "execute_result"
    }
   ],
   "source": [
    "gs.test[gs.test[\"qId\"]==15][[\"kId\",\"labels\"]].sort_values(\"labels\",ascending=False).head(15)"
   ],
   "metadata": {
    "collapsed": false,
    "ExecuteTime": {
     "end_time": "2023-10-29T16:45:46.000335Z",
     "start_time": "2023-10-29T16:45:45.827738200Z"
    }
   },
   "id": "1decae49a8bcbd54"
  },
  {
   "cell_type": "code",
   "execution_count": 8,
   "outputs": [
    {
     "data": {
      "text/plain": "      kId  labels\n171   256       3\n2839  228       3\n4808  117       3\n2712  194       2\n902   265       1\n2259  281       2\n1729  133       1\n2307  151       2\n3817  206       1\n948    77       1\n3816   61       2\n162   260       2\n2635   34       2\n3167  270       2\n4095  226       2",
      "text/html": "<div>\n<style scoped>\n    .dataframe tbody tr th:only-of-type {\n        vertical-align: middle;\n    }\n\n    .dataframe tbody tr th {\n        vertical-align: top;\n    }\n\n    .dataframe thead th {\n        text-align: right;\n    }\n</style>\n<table border=\"1\" class=\"dataframe\">\n  <thead>\n    <tr style=\"text-align: right;\">\n      <th></th>\n      <th>kId</th>\n      <th>labels</th>\n    </tr>\n  </thead>\n  <tbody>\n    <tr>\n      <th>171</th>\n      <td>256</td>\n      <td>3</td>\n    </tr>\n    <tr>\n      <th>2839</th>\n      <td>228</td>\n      <td>3</td>\n    </tr>\n    <tr>\n      <th>4808</th>\n      <td>117</td>\n      <td>3</td>\n    </tr>\n    <tr>\n      <th>2712</th>\n      <td>194</td>\n      <td>2</td>\n    </tr>\n    <tr>\n      <th>902</th>\n      <td>265</td>\n      <td>1</td>\n    </tr>\n    <tr>\n      <th>2259</th>\n      <td>281</td>\n      <td>2</td>\n    </tr>\n    <tr>\n      <th>1729</th>\n      <td>133</td>\n      <td>1</td>\n    </tr>\n    <tr>\n      <th>2307</th>\n      <td>151</td>\n      <td>2</td>\n    </tr>\n    <tr>\n      <th>3817</th>\n      <td>206</td>\n      <td>1</td>\n    </tr>\n    <tr>\n      <th>948</th>\n      <td>77</td>\n      <td>1</td>\n    </tr>\n    <tr>\n      <th>3816</th>\n      <td>61</td>\n      <td>2</td>\n    </tr>\n    <tr>\n      <th>162</th>\n      <td>260</td>\n      <td>2</td>\n    </tr>\n    <tr>\n      <th>2635</th>\n      <td>34</td>\n      <td>2</td>\n    </tr>\n    <tr>\n      <th>3167</th>\n      <td>270</td>\n      <td>2</td>\n    </tr>\n    <tr>\n      <th>4095</th>\n      <td>226</td>\n      <td>2</td>\n    </tr>\n  </tbody>\n</table>\n</div>"
     },
     "execution_count": 8,
     "metadata": {},
     "output_type": "execute_result"
    }
   ],
   "source": [
    "features = gs.test[gs.test[\"qId\"]==15]\n",
    "y_pred = best_model.predict(np.asarray(features.iloc[:,2:13].values))\n",
    "y_pred = pd.DataFrame(y_pred, index=features.index, columns=[\"lambdas\"])\n",
    "dt_final = pd.merge(features, y_pred, left_index=True, right_index=True)\n",
    "dt_final.sort_values(\"lambdas\",ascending=False)[[\"kId\",\"labels\"]].head(15)"
   ],
   "metadata": {
    "collapsed": false,
    "ExecuteTime": {
     "end_time": "2023-10-29T16:45:46.001335200Z",
     "start_time": "2023-10-29T16:45:45.907056100Z"
    }
   },
   "id": "3245714febd660a1"
  },
  {
   "cell_type": "markdown",
   "source": [
    "# Grid search - balanced"
   ],
   "metadata": {
    "collapsed": false
   },
   "id": "6859b0e529827051"
  },
  {
   "cell_type": "code",
   "execution_count": 9,
   "outputs": [],
   "source": [
    "gs = LMARTGridsearch(**gridsearch_parameters2)"
   ],
   "metadata": {
    "collapsed": false,
    "ExecuteTime": {
     "end_time": "2023-10-29T16:45:46.177346300Z",
     "start_time": "2023-10-29T16:45:45.990335100Z"
    }
   },
   "id": "d1816adee596df57"
  },
  {
   "cell_type": "code",
   "execution_count": 10,
   "outputs": [
    {
     "name": "stderr",
     "output_type": "stream",
     "text": [
      "100%|██████████| 1440/1440 [05:01<00:00,  4.77it/s, nDCG_15=0.877]\n"
     ]
    }
   ],
   "source": [
    "best_ = gs.grid_search(lMart_parameter)\n",
    "gs.save_model(best_[0],\"LGBMRanker_balanced\")"
   ],
   "metadata": {
    "collapsed": false,
    "ExecuteTime": {
     "end_time": "2023-10-29T16:50:48.213972400Z",
     "start_time": "2023-10-29T16:45:46.120346800Z"
    }
   },
   "id": "b36e4b8c4d423f20"
  },
  {
   "cell_type": "code",
   "execution_count": 11,
   "outputs": [],
   "source": [
    "best_model = gs.load_model(\"./saved_models/LGBMRanker_balanced\")"
   ],
   "metadata": {
    "collapsed": false,
    "ExecuteTime": {
     "end_time": "2023-10-29T16:50:48.290277800Z",
     "start_time": "2023-10-29T16:50:48.216963800Z"
    }
   },
   "id": "bfdce6b68abf45b4"
  },
  {
   "cell_type": "code",
   "execution_count": 12,
   "outputs": [
    {
     "data": {
      "text/plain": "            nDCG@1  nDCG@10  nDCG@15\nTraining    0.9933   0.9596   0.9491\nValidation  0.9600   0.8961   0.8772\nTest        0.9250   0.9057   0.8909",
      "text/html": "<div>\n<style scoped>\n    .dataframe tbody tr th:only-of-type {\n        vertical-align: middle;\n    }\n\n    .dataframe tbody tr th {\n        vertical-align: top;\n    }\n\n    .dataframe thead th {\n        text-align: right;\n    }\n</style>\n<table border=\"1\" class=\"dataframe\">\n  <thead>\n    <tr style=\"text-align: right;\">\n      <th></th>\n      <th>nDCG@1</th>\n      <th>nDCG@10</th>\n      <th>nDCG@15</th>\n    </tr>\n  </thead>\n  <tbody>\n    <tr>\n      <th>Training</th>\n      <td>0.9933</td>\n      <td>0.9596</td>\n      <td>0.9491</td>\n    </tr>\n    <tr>\n      <th>Validation</th>\n      <td>0.9600</td>\n      <td>0.8961</td>\n      <td>0.8772</td>\n    </tr>\n    <tr>\n      <th>Test</th>\n      <td>0.9250</td>\n      <td>0.9057</td>\n      <td>0.8909</td>\n    </tr>\n  </tbody>\n</table>\n</div>"
     },
     "metadata": {},
     "output_type": "display_data"
    },
    {
     "name": "stdout",
     "output_type": "stream",
     "text": [
      "Test set\n"
     ]
    },
    {
     "data": {
      "text/plain": "                    nDCG@1  nDCG@10  nDCG@15\nrandom_permutation  0.4815   0.6017   0.6220\nperfect_nDCG        1.0000   1.0000   1.0000\nworste_nDCG         0.1382   0.3228   0.3545",
      "text/html": "<div>\n<style scoped>\n    .dataframe tbody tr th:only-of-type {\n        vertical-align: middle;\n    }\n\n    .dataframe tbody tr th {\n        vertical-align: top;\n    }\n\n    .dataframe thead th {\n        text-align: right;\n    }\n</style>\n<table border=\"1\" class=\"dataframe\">\n  <thead>\n    <tr style=\"text-align: right;\">\n      <th></th>\n      <th>nDCG@1</th>\n      <th>nDCG@10</th>\n      <th>nDCG@15</th>\n    </tr>\n  </thead>\n  <tbody>\n    <tr>\n      <th>random_permutation</th>\n      <td>0.4815</td>\n      <td>0.6017</td>\n      <td>0.6220</td>\n    </tr>\n    <tr>\n      <th>perfect_nDCG</th>\n      <td>1.0000</td>\n      <td>1.0000</td>\n      <td>1.0000</td>\n    </tr>\n    <tr>\n      <th>worste_nDCG</th>\n      <td>0.1382</td>\n      <td>0.3228</td>\n      <td>0.3545</td>\n    </tr>\n  </tbody>\n</table>\n</div>"
     },
     "metadata": {},
     "output_type": "display_data"
    }
   ],
   "source": [
    "# nDCG\n",
    "nDCG_train = gs.eval_model(model=best_model, df=gs.train, qIds=gs.qIds_train, nDCG_at=[1,10,15])\n",
    "nDCG_valid = gs.eval_model(model=best_model, df=gs.valid, qIds=gs.qIds_val, nDCG_at=[1,10,15])\n",
    "nDCG_test = gs.eval_model(model=best_model, df=gs.test, qIds=gs.qIds_test, nDCG_at=[1,10,15])\n",
    "\n",
    "other_evals_tr = gs.other_eval(df=gs.test, qIds=gs.qIds_test, nDCG_at=[1,10,15])\n",
    "\n",
    "display(pd.DataFrame([nDCG_train,nDCG_valid,nDCG_test],index=[\"Training\",\"Validation\",\"Test\"]))\n",
    "\n",
    "print(\"Test set\")\n",
    "display(pd.DataFrame(other_evals_tr).T)"
   ],
   "metadata": {
    "collapsed": false,
    "ExecuteTime": {
     "end_time": "2023-10-29T16:50:48.892759Z",
     "start_time": "2023-10-29T16:50:48.290277800Z"
    }
   },
   "id": "181eb67fc94ea911"
  },
  {
   "cell_type": "markdown",
   "source": [
    "# Example of Job-offer"
   ],
   "metadata": {
    "collapsed": false
   },
   "id": "bde8e98933aef69"
  },
  {
   "cell_type": "code",
   "execution_count": 13,
   "outputs": [
    {
     "data": {
      "text/plain": "Empty DataFrame\nColumns: [kId, labels]\nIndex: []",
      "text/html": "<div>\n<style scoped>\n    .dataframe tbody tr th:only-of-type {\n        vertical-align: middle;\n    }\n\n    .dataframe tbody tr th {\n        vertical-align: top;\n    }\n\n    .dataframe thead th {\n        text-align: right;\n    }\n</style>\n<table border=\"1\" class=\"dataframe\">\n  <thead>\n    <tr style=\"text-align: right;\">\n      <th></th>\n      <th>kId</th>\n      <th>labels</th>\n    </tr>\n  </thead>\n  <tbody>\n  </tbody>\n</table>\n</div>"
     },
     "execution_count": 13,
     "metadata": {},
     "output_type": "execute_result"
    }
   ],
   "source": [
    "# gs.test[gs.test[\"qId\"]==85][[\"kId\",\"labels\"]].sort_values(\"labels\",ascending=False).head(15)"
   ],
   "metadata": {
    "collapsed": false,
    "ExecuteTime": {
     "end_time": "2023-10-29T16:50:49.064779100Z",
     "start_time": "2023-10-29T16:50:48.894757800Z"
    }
   },
   "id": "fb77292a9bfd48e"
  },
  {
   "cell_type": "code",
   "execution_count": 14,
   "outputs": [
    {
     "ename": "ValueError",
     "evalue": "Found array with 0 sample(s) (shape=(0, 11)) while a minimum of 1 is required.",
     "output_type": "error",
     "traceback": [
      "\u001B[1;31m---------------------------------------------------------------------------\u001B[0m",
      "\u001B[1;31mValueError\u001B[0m                                Traceback (most recent call last)",
      "Cell \u001B[1;32mIn[14], line 2\u001B[0m\n\u001B[0;32m      1\u001B[0m features \u001B[38;5;241m=\u001B[39m gs\u001B[38;5;241m.\u001B[39mtest[gs\u001B[38;5;241m.\u001B[39mtest[\u001B[38;5;124m\"\u001B[39m\u001B[38;5;124mqId\u001B[39m\u001B[38;5;124m\"\u001B[39m]\u001B[38;5;241m==\u001B[39m\u001B[38;5;241m85\u001B[39m]\n\u001B[1;32m----> 2\u001B[0m y_pred \u001B[38;5;241m=\u001B[39m best_model\u001B[38;5;241m.\u001B[39mpredict(np\u001B[38;5;241m.\u001B[39masarray(features\u001B[38;5;241m.\u001B[39miloc[:,\u001B[38;5;241m2\u001B[39m:\u001B[38;5;241m13\u001B[39m]\u001B[38;5;241m.\u001B[39mvalues))\n\u001B[0;32m      3\u001B[0m y_pred \u001B[38;5;241m=\u001B[39m pd\u001B[38;5;241m.\u001B[39mDataFrame(y_pred, index\u001B[38;5;241m=\u001B[39mfeatures\u001B[38;5;241m.\u001B[39mindex, columns\u001B[38;5;241m=\u001B[39m[\u001B[38;5;124m\"\u001B[39m\u001B[38;5;124mlambdas\u001B[39m\u001B[38;5;124m\"\u001B[39m])\n\u001B[0;32m      4\u001B[0m dt_final \u001B[38;5;241m=\u001B[39m pd\u001B[38;5;241m.\u001B[39mmerge(features, y_pred, left_index\u001B[38;5;241m=\u001B[39m\u001B[38;5;28;01mTrue\u001B[39;00m, right_index\u001B[38;5;241m=\u001B[39m\u001B[38;5;28;01mTrue\u001B[39;00m)\n",
      "File \u001B[1;32m~\\anaconda3\\envs\\FindHR\\Lib\\site-packages\\lightgbm\\sklearn.py:797\u001B[0m, in \u001B[0;36mLGBMModel.predict\u001B[1;34m(self, X, raw_score, start_iteration, num_iteration, pred_leaf, pred_contrib, **kwargs)\u001B[0m\n\u001B[0;32m    795\u001B[0m     \u001B[38;5;28;01mraise\u001B[39;00m LGBMNotFittedError(\u001B[38;5;124m\"\u001B[39m\u001B[38;5;124mEstimator not fitted, call fit before exploiting the model.\u001B[39m\u001B[38;5;124m\"\u001B[39m)\n\u001B[0;32m    796\u001B[0m \u001B[38;5;28;01mif\u001B[39;00m \u001B[38;5;129;01mnot\u001B[39;00m \u001B[38;5;28misinstance\u001B[39m(X, (pd_DataFrame, dt_DataTable)):\n\u001B[1;32m--> 797\u001B[0m     X \u001B[38;5;241m=\u001B[39m _LGBMCheckArray(X, accept_sparse\u001B[38;5;241m=\u001B[39m\u001B[38;5;28;01mTrue\u001B[39;00m, force_all_finite\u001B[38;5;241m=\u001B[39m\u001B[38;5;28;01mFalse\u001B[39;00m)\n\u001B[0;32m    798\u001B[0m n_features \u001B[38;5;241m=\u001B[39m X\u001B[38;5;241m.\u001B[39mshape[\u001B[38;5;241m1\u001B[39m]\n\u001B[0;32m    799\u001B[0m \u001B[38;5;28;01mif\u001B[39;00m \u001B[38;5;28mself\u001B[39m\u001B[38;5;241m.\u001B[39m_n_features \u001B[38;5;241m!=\u001B[39m n_features:\n",
      "File \u001B[1;32m~\\anaconda3\\envs\\FindHR\\Lib\\site-packages\\sklearn\\utils\\validation.py:931\u001B[0m, in \u001B[0;36mcheck_array\u001B[1;34m(array, accept_sparse, accept_large_sparse, dtype, order, copy, force_all_finite, ensure_2d, allow_nd, ensure_min_samples, ensure_min_features, estimator, input_name)\u001B[0m\n\u001B[0;32m    929\u001B[0m     n_samples \u001B[38;5;241m=\u001B[39m _num_samples(array)\n\u001B[0;32m    930\u001B[0m     \u001B[38;5;28;01mif\u001B[39;00m n_samples \u001B[38;5;241m<\u001B[39m ensure_min_samples:\n\u001B[1;32m--> 931\u001B[0m         \u001B[38;5;28;01mraise\u001B[39;00m \u001B[38;5;167;01mValueError\u001B[39;00m(\n\u001B[0;32m    932\u001B[0m             \u001B[38;5;124m\"\u001B[39m\u001B[38;5;124mFound array with \u001B[39m\u001B[38;5;132;01m%d\u001B[39;00m\u001B[38;5;124m sample(s) (shape=\u001B[39m\u001B[38;5;132;01m%s\u001B[39;00m\u001B[38;5;124m) while a\u001B[39m\u001B[38;5;124m\"\u001B[39m\n\u001B[0;32m    933\u001B[0m             \u001B[38;5;124m\"\u001B[39m\u001B[38;5;124m minimum of \u001B[39m\u001B[38;5;132;01m%d\u001B[39;00m\u001B[38;5;124m is required\u001B[39m\u001B[38;5;132;01m%s\u001B[39;00m\u001B[38;5;124m.\u001B[39m\u001B[38;5;124m\"\u001B[39m\n\u001B[0;32m    934\u001B[0m             \u001B[38;5;241m%\u001B[39m (n_samples, array\u001B[38;5;241m.\u001B[39mshape, ensure_min_samples, context)\n\u001B[0;32m    935\u001B[0m         )\n\u001B[0;32m    937\u001B[0m \u001B[38;5;28;01mif\u001B[39;00m ensure_min_features \u001B[38;5;241m>\u001B[39m \u001B[38;5;241m0\u001B[39m \u001B[38;5;129;01mand\u001B[39;00m array\u001B[38;5;241m.\u001B[39mndim \u001B[38;5;241m==\u001B[39m \u001B[38;5;241m2\u001B[39m:\n\u001B[0;32m    938\u001B[0m     n_features \u001B[38;5;241m=\u001B[39m array\u001B[38;5;241m.\u001B[39mshape[\u001B[38;5;241m1\u001B[39m]\n",
      "\u001B[1;31mValueError\u001B[0m: Found array with 0 sample(s) (shape=(0, 11)) while a minimum of 1 is required."
     ]
    }
   ],
   "source": [
    "# features = gs.test[gs.test[\"qId\"]==85]\n",
    "# y_pred = best_model.predict(np.asarray(features.iloc[:,2:13].values))\n",
    "# y_pred = pd.DataFrame(y_pred, index=features.index, columns=[\"lambdas\"])\n",
    "# dt_final = pd.merge(features, y_pred, left_index=True, right_index=True)\n",
    "# dt_final.sort_values(\"lambdas\",ascending=False)[[\"kId\",\"labels\"]].head(15)"
   ],
   "metadata": {
    "collapsed": false,
    "ExecuteTime": {
     "end_time": "2023-10-29T16:50:50.156812200Z",
     "start_time": "2023-10-29T16:50:48.965772Z"
    }
   },
   "id": "ed6b538f3a811585"
  }
 ],
 "metadata": {
  "kernelspec": {
   "display_name": "Python 3",
   "language": "python",
   "name": "python3"
  },
  "language_info": {
   "codemirror_mode": {
    "name": "ipython",
    "version": 2
   },
   "file_extension": ".py",
   "mimetype": "text/x-python",
   "name": "python",
   "nbconvert_exporter": "python",
   "pygments_lexer": "ipython2",
   "version": "2.7.6"
  }
 },
 "nbformat": 4,
 "nbformat_minor": 5
}
