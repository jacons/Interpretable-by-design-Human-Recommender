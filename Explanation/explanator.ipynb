{
 "cells": [
  {
   "cell_type": "code",
   "execution_count": 19,
   "id": "initial_id",
   "metadata": {
    "collapsed": true,
    "ExecuteTime": {
     "end_time": "2023-11-12T18:37:57.481512400Z",
     "start_time": "2023-11-12T18:37:56.276348400Z"
    }
   },
   "outputs": [],
   "source": [
    "from Class_utils.parameters import *\n",
    "from Class_utils.JobGraph import JobGraph\n",
    "from Class_utils.FitnessFunctions import FitnessFunctions\n",
    "\n",
    "import pandas as pd"
   ]
  },
  {
   "cell_type": "code",
   "execution_count": 20,
   "outputs": [],
   "source": [
    "job_graph = JobGraph(file_paths)\n",
    "fitness_functions = FitnessFunctions(job_graph, file_paths)"
   ],
   "metadata": {
    "collapsed": false,
    "ExecuteTime": {
     "end_time": "2023-11-12T18:38:27.117895400Z",
     "start_time": "2023-11-12T18:37:57.481512400Z"
    }
   },
   "id": "eba8876054736055"
  },
  {
   "cell_type": "code",
   "execution_count": 21,
   "outputs": [],
   "source": [
    "model_path = \"../Models/GlassBox/figs/saved_models/FIGSReg.pkl\"\n",
    "job_offers_path = \"../outputs/0_job_Offers.csv\"\n",
    "curricula_path = \"../outputs/0_curricula.csv\"\n",
    "\n",
    "job_offers = pd.read_csv(job_offers_path, index_col=0)\n",
    "curricula = pd.read_csv(curricula_path)"
   ],
   "metadata": {
    "collapsed": false,
    "ExecuteTime": {
     "end_time": "2023-11-12T18:38:27.377480100Z",
     "start_time": "2023-11-12T18:38:27.120216600Z"
    }
   },
   "id": "8bc5972e984814cf"
  },
  {
   "cell_type": "code",
   "execution_count": 24,
   "outputs": [],
   "source": [
    "from Explanation import FIGSExplanation\n",
    "%reload_ext autoreload\n",
    "%autoreload 2\n",
    "\n",
    "explanator = FIGSExplanation(job_graph,fitness_functions, model_path,job_offers,curricula).qId(0)"
   ],
   "metadata": {
    "collapsed": false,
    "ExecuteTime": {
     "end_time": "2023-11-12T18:38:42.321073100Z",
     "start_time": "2023-11-12T18:38:40.390926200Z"
    }
   },
   "id": "9a5bc2a49bb9bc0e"
  },
  {
   "cell_type": "code",
   "execution_count": 26,
   "outputs": [
    {
     "data": {
      "text/plain": "    qId  kId         Education  Age                  City  JobRange  \\\n0     0    0         Master-D.   40                 Locri        70   \n1     0    1               PhD   24     Cornedo Vicentino        50   \n2     0    2         Master-D.   43               Catania        60   \n3     0    3         Master-D.   37                Turate        80   \n4     0    4         Master-D.   31  Palazzo San Gervasio        30   \n..  ...  ...               ...  ...                   ...       ...   \n70    0   70         Master-D.   43                Milano        30   \n71    0   71         Master-D.   43          Poggiomarino        40   \n72    0   72         Master-D.   31    Trescore Balneario        70   \n73    0   73  Less-than-degree   21                Fasano        60   \n74    0   74         Master-D.   54                Milano        80   \n\n                                         Competences0  \\\n0                               use testing equipment   \n1                               use testing equipment   \n2                               use testing equipment   \n3                               use testing equipment   \n4                               use testing equipment   \n..                                                ...   \n70  perform financial risk management in internati...   \n71                               match food with wine   \n72                work in textile manufacturing teams   \n73                                     show diplomacy   \n74                                   value properties   \n\n                                         Competences1  \\\n0                                      supervise work   \n1                        monitor packaging operations   \n2                               undertake inspections   \n3                               undertake inspections   \n4                                    perform test run   \n..                                                ...   \n70                            manage tender processes   \n71                          handle sensitive products   \n72  perform laboratory tests on footwear or leathe...   \n73                            remove cheating players   \n74                         inspect taxation documents   \n\n                                 Competences2                Competences3  \\\n0                    read standard blueprints    prepare audit activities   \n1                   conduct performance tests     check for damaged items   \n2                            replace machines     maintain test equipment   \n3                 inspect quality of products   conduct performance tests   \n4                     maintain test equipment            lead inspections   \n..                                        ...                         ...   \n70                           manage processes  maintain financial records   \n71  ensure compliance with legal requirements    carry out active selling   \n72                                          -                           -   \n73         monitor casino client satisfaction                manage staff   \n74                                          -                           -   \n\n    ...                         Knowledge4                         Knowledge5  \\\n0   ...                                  -                                  -   \n1   ...                                  -                                  -   \n2   ...  manufacturing of sports equipment                 furniture industry   \n3   ...                                  -                                  -   \n4   ...                                  -                                  -   \n..  ...                                ...                                ...   \n70  ...                                  -                                  -   \n71  ...                                  -                                  -   \n72  ...                 footwear materials  footwear manufacturing technology   \n73  ...                                  -                                  -   \n74  ...                                  -                                  -   \n\n   Knowledge6 Language0 Language1 Language2 Language_level0 Language_level1  \\\n0           -   English         -         -              B1               -   \n1           -   English         -         -              B1               -   \n2           -   English    French         -              B1              B1   \n3           -   English   Spanish   Italian              B1              B1   \n4           -   English         -         -              B1               -   \n..        ...       ...       ...       ...             ...             ...   \n70          -   Spanish  Albanian    Arabic              B1              C2   \n71          -   Italian         -         -              C2               -   \n72          -         -         -         -               -               -   \n73          -   Italian         -         -              C2               -   \n74          -    French   Italian         -              B1              C2   \n\n   Language_level2 Experience  \n0                -          5  \n1                -          2  \n2                -          4  \n3               C2          3  \n4                -          3  \n..             ...        ...  \n70              A1          1  \n71               -          2  \n72               -          1  \n73               -          1  \n74               -          3  \n\n[75 rows x 27 columns]",
      "text/html": "<div>\n<style scoped>\n    .dataframe tbody tr th:only-of-type {\n        vertical-align: middle;\n    }\n\n    .dataframe tbody tr th {\n        vertical-align: top;\n    }\n\n    .dataframe thead th {\n        text-align: right;\n    }\n</style>\n<table border=\"1\" class=\"dataframe\">\n  <thead>\n    <tr style=\"text-align: right;\">\n      <th></th>\n      <th>qId</th>\n      <th>kId</th>\n      <th>Education</th>\n      <th>Age</th>\n      <th>City</th>\n      <th>JobRange</th>\n      <th>Competences0</th>\n      <th>Competences1</th>\n      <th>Competences2</th>\n      <th>Competences3</th>\n      <th>...</th>\n      <th>Knowledge4</th>\n      <th>Knowledge5</th>\n      <th>Knowledge6</th>\n      <th>Language0</th>\n      <th>Language1</th>\n      <th>Language2</th>\n      <th>Language_level0</th>\n      <th>Language_level1</th>\n      <th>Language_level2</th>\n      <th>Experience</th>\n    </tr>\n  </thead>\n  <tbody>\n    <tr>\n      <th>0</th>\n      <td>0</td>\n      <td>0</td>\n      <td>Master-D.</td>\n      <td>40</td>\n      <td>Locri</td>\n      <td>70</td>\n      <td>use testing equipment</td>\n      <td>supervise work</td>\n      <td>read standard blueprints</td>\n      <td>prepare audit activities</td>\n      <td>...</td>\n      <td>-</td>\n      <td>-</td>\n      <td>-</td>\n      <td>English</td>\n      <td>-</td>\n      <td>-</td>\n      <td>B1</td>\n      <td>-</td>\n      <td>-</td>\n      <td>5</td>\n    </tr>\n    <tr>\n      <th>1</th>\n      <td>0</td>\n      <td>1</td>\n      <td>PhD</td>\n      <td>24</td>\n      <td>Cornedo Vicentino</td>\n      <td>50</td>\n      <td>use testing equipment</td>\n      <td>monitor packaging operations</td>\n      <td>conduct performance tests</td>\n      <td>check for damaged items</td>\n      <td>...</td>\n      <td>-</td>\n      <td>-</td>\n      <td>-</td>\n      <td>English</td>\n      <td>-</td>\n      <td>-</td>\n      <td>B1</td>\n      <td>-</td>\n      <td>-</td>\n      <td>2</td>\n    </tr>\n    <tr>\n      <th>2</th>\n      <td>0</td>\n      <td>2</td>\n      <td>Master-D.</td>\n      <td>43</td>\n      <td>Catania</td>\n      <td>60</td>\n      <td>use testing equipment</td>\n      <td>undertake inspections</td>\n      <td>replace machines</td>\n      <td>maintain test equipment</td>\n      <td>...</td>\n      <td>manufacturing of sports equipment</td>\n      <td>furniture industry</td>\n      <td>-</td>\n      <td>English</td>\n      <td>French</td>\n      <td>-</td>\n      <td>B1</td>\n      <td>B1</td>\n      <td>-</td>\n      <td>4</td>\n    </tr>\n    <tr>\n      <th>3</th>\n      <td>0</td>\n      <td>3</td>\n      <td>Master-D.</td>\n      <td>37</td>\n      <td>Turate</td>\n      <td>80</td>\n      <td>use testing equipment</td>\n      <td>undertake inspections</td>\n      <td>inspect quality of products</td>\n      <td>conduct performance tests</td>\n      <td>...</td>\n      <td>-</td>\n      <td>-</td>\n      <td>-</td>\n      <td>English</td>\n      <td>Spanish</td>\n      <td>Italian</td>\n      <td>B1</td>\n      <td>B1</td>\n      <td>C2</td>\n      <td>3</td>\n    </tr>\n    <tr>\n      <th>4</th>\n      <td>0</td>\n      <td>4</td>\n      <td>Master-D.</td>\n      <td>31</td>\n      <td>Palazzo San Gervasio</td>\n      <td>30</td>\n      <td>use testing equipment</td>\n      <td>perform test run</td>\n      <td>maintain test equipment</td>\n      <td>lead inspections</td>\n      <td>...</td>\n      <td>-</td>\n      <td>-</td>\n      <td>-</td>\n      <td>English</td>\n      <td>-</td>\n      <td>-</td>\n      <td>B1</td>\n      <td>-</td>\n      <td>-</td>\n      <td>3</td>\n    </tr>\n    <tr>\n      <th>...</th>\n      <td>...</td>\n      <td>...</td>\n      <td>...</td>\n      <td>...</td>\n      <td>...</td>\n      <td>...</td>\n      <td>...</td>\n      <td>...</td>\n      <td>...</td>\n      <td>...</td>\n      <td>...</td>\n      <td>...</td>\n      <td>...</td>\n      <td>...</td>\n      <td>...</td>\n      <td>...</td>\n      <td>...</td>\n      <td>...</td>\n      <td>...</td>\n      <td>...</td>\n      <td>...</td>\n    </tr>\n    <tr>\n      <th>70</th>\n      <td>0</td>\n      <td>70</td>\n      <td>Master-D.</td>\n      <td>43</td>\n      <td>Milano</td>\n      <td>30</td>\n      <td>perform financial risk management in internati...</td>\n      <td>manage tender processes</td>\n      <td>manage processes</td>\n      <td>maintain financial records</td>\n      <td>...</td>\n      <td>-</td>\n      <td>-</td>\n      <td>-</td>\n      <td>Spanish</td>\n      <td>Albanian</td>\n      <td>Arabic</td>\n      <td>B1</td>\n      <td>C2</td>\n      <td>A1</td>\n      <td>1</td>\n    </tr>\n    <tr>\n      <th>71</th>\n      <td>0</td>\n      <td>71</td>\n      <td>Master-D.</td>\n      <td>43</td>\n      <td>Poggiomarino</td>\n      <td>40</td>\n      <td>match food with wine</td>\n      <td>handle sensitive products</td>\n      <td>ensure compliance with legal requirements</td>\n      <td>carry out active selling</td>\n      <td>...</td>\n      <td>-</td>\n      <td>-</td>\n      <td>-</td>\n      <td>Italian</td>\n      <td>-</td>\n      <td>-</td>\n      <td>C2</td>\n      <td>-</td>\n      <td>-</td>\n      <td>2</td>\n    </tr>\n    <tr>\n      <th>72</th>\n      <td>0</td>\n      <td>72</td>\n      <td>Master-D.</td>\n      <td>31</td>\n      <td>Trescore Balneario</td>\n      <td>70</td>\n      <td>work in textile manufacturing teams</td>\n      <td>perform laboratory tests on footwear or leathe...</td>\n      <td>-</td>\n      <td>-</td>\n      <td>...</td>\n      <td>footwear materials</td>\n      <td>footwear manufacturing technology</td>\n      <td>-</td>\n      <td>-</td>\n      <td>-</td>\n      <td>-</td>\n      <td>-</td>\n      <td>-</td>\n      <td>-</td>\n      <td>1</td>\n    </tr>\n    <tr>\n      <th>73</th>\n      <td>0</td>\n      <td>73</td>\n      <td>Less-than-degree</td>\n      <td>21</td>\n      <td>Fasano</td>\n      <td>60</td>\n      <td>show diplomacy</td>\n      <td>remove cheating players</td>\n      <td>monitor casino client satisfaction</td>\n      <td>manage staff</td>\n      <td>...</td>\n      <td>-</td>\n      <td>-</td>\n      <td>-</td>\n      <td>Italian</td>\n      <td>-</td>\n      <td>-</td>\n      <td>C2</td>\n      <td>-</td>\n      <td>-</td>\n      <td>1</td>\n    </tr>\n    <tr>\n      <th>74</th>\n      <td>0</td>\n      <td>74</td>\n      <td>Master-D.</td>\n      <td>54</td>\n      <td>Milano</td>\n      <td>80</td>\n      <td>value properties</td>\n      <td>inspect taxation documents</td>\n      <td>-</td>\n      <td>-</td>\n      <td>...</td>\n      <td>-</td>\n      <td>-</td>\n      <td>-</td>\n      <td>French</td>\n      <td>Italian</td>\n      <td>-</td>\n      <td>B1</td>\n      <td>C2</td>\n      <td>-</td>\n      <td>3</td>\n    </tr>\n  </tbody>\n</table>\n<p>75 rows × 27 columns</p>\n</div>"
     },
     "execution_count": 26,
     "metadata": {},
     "output_type": "execute_result"
    }
   ],
   "source": [],
   "metadata": {
    "collapsed": false,
    "ExecuteTime": {
     "end_time": "2023-11-12T18:38:57.370530100Z",
     "start_time": "2023-11-12T18:38:56.916557200Z"
    }
   },
   "id": "b763fb5c3dbaf812"
  }
 ],
 "metadata": {
  "kernelspec": {
   "display_name": "Python 3",
   "language": "python",
   "name": "python3"
  },
  "language_info": {
   "codemirror_mode": {
    "name": "ipython",
    "version": 2
   },
   "file_extension": ".py",
   "mimetype": "text/x-python",
   "name": "python",
   "nbconvert_exporter": "python",
   "pygments_lexer": "ipython2",
   "version": "2.7.6"
  }
 },
 "nbformat": 4,
 "nbformat_minor": 5
}
