{
 "cells": [
  {
   "cell_type": "code",
   "execution_count": null,
   "id": "initial_id",
   "metadata": {
    "collapsed": true
   },
   "outputs": [],
   "source": [
    "from Class_utils.parameters import *\n",
    "from Class_utils.JobGraph import JobGraph\n",
    "from Class_utils.FitnessFunctions import FitnessFunctions\n",
    "\n",
    "import pandas as pd"
   ]
  },
  {
   "cell_type": "code",
   "execution_count": null,
   "outputs": [],
   "source": [
    "job_graph = JobGraph(file_paths)\n",
    "fitness_functions = FitnessFunctions(job_graph, file_paths)"
   ],
   "metadata": {
    "collapsed": false
   },
   "id": "eba8876054736055"
  },
  {
   "cell_type": "code",
   "execution_count": null,
   "outputs": [],
   "source": [
    "model_path = \"../Models/GlassBox/figs/saved_models/FIGSReg.pkl\"\n",
    "job_offers_path = \"../outputs/0_job_Offers.csv\"\n",
    "curricula_path = \"../outputs/0_curricula.csv\"\n",
    "\n",
    "job_offers = pd.read_csv(job_offers_path, index_col=0)\n",
    "curricula = pd.read_csv(curricula_path,index_col=[0,1])"
   ],
   "metadata": {
    "collapsed": false
   },
   "id": "8bc5972e984814cf"
  },
  {
   "cell_type": "code",
   "execution_count": null,
   "outputs": [],
   "source": [
    "from Explanation import FIGSExplanation\n",
    "%reload_ext autoreload\n",
    "%autoreload 2\n",
    "\n",
    "explanator = FIGSExplanation(job_graph,fitness_functions, model_path, job_offers, curricula).qId(0)"
   ],
   "metadata": {
    "collapsed": false
   },
   "id": "9a5bc2a49bb9bc0e"
  },
  {
   "cell_type": "code",
   "execution_count": null,
   "outputs": [],
   "source": [
    "explanator.current_job"
   ],
   "metadata": {
    "collapsed": false
   },
   "id": "9389aa0e2289aecf"
  },
  {
   "cell_type": "code",
   "execution_count": null,
   "outputs": [],
   "source": [
    "explanator.curricula"
   ],
   "metadata": {
    "collapsed": false
   },
   "id": "bc8e247256a55944"
  },
  {
   "cell_type": "code",
   "execution_count": null,
   "outputs": [],
   "source": [
    "explanator.perform_top()"
   ],
   "metadata": {
    "collapsed": false
   },
   "id": "a1e659b034c830d1"
  },
  {
   "cell_type": "code",
   "execution_count": null,
   "outputs": [],
   "source": [
    "explanator.get_position(43)"
   ],
   "metadata": {
    "collapsed": false
   },
   "id": "308f8ab8b80acbca"
  }
 ],
 "metadata": {
  "kernelspec": {
   "display_name": "Python 3",
   "language": "python",
   "name": "python3"
  },
  "language_info": {
   "codemirror_mode": {
    "name": "ipython",
    "version": 2
   },
   "file_extension": ".py",
   "mimetype": "text/x-python",
   "name": "python",
   "nbconvert_exporter": "python",
   "pygments_lexer": "ipython2",
   "version": "2.7.6"
  }
 },
 "nbformat": 4,
 "nbformat_minor": 5
}
