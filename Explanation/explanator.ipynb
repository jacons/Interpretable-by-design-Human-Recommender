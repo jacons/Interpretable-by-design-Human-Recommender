{
 "cells": [
  {
   "cell_type": "code",
   "execution_count": 19,
   "id": "initial_id",
   "metadata": {
    "collapsed": true,
    "ExecuteTime": {
     "end_time": "2023-11-12T18:37:57.481512400Z",
     "start_time": "2023-11-12T18:37:56.276348400Z"
    }
   },
   "outputs": [],
   "source": [
    "from Class_utils.parameters import *\n",
    "from Class_utils.JobGraph import JobGraph\n",
    "from Class_utils.FitnessFunctions import FitnessFunctions\n",
    "\n",
    "import pandas as pd"
   ]
  },
  {
   "cell_type": "code",
   "execution_count": 20,
   "outputs": [],
   "source": [
    "job_graph = JobGraph(file_paths)\n",
    "fitness_functions = FitnessFunctions(job_graph, file_paths)"
   ],
   "metadata": {
    "collapsed": false,
    "ExecuteTime": {
     "end_time": "2023-11-12T18:38:27.117895400Z",
     "start_time": "2023-11-12T18:37:57.481512400Z"
    }
   },
   "id": "eba8876054736055"
  },
  {
   "cell_type": "code",
   "execution_count": 21,
   "outputs": [],
   "source": [
    "model_path = \"../Models/GlassBox/figs/saved_models/FIGSReg.pkl\"\n",
    "job_offers_path = \"../outputs/0_job_Offers.csv\"\n",
    "curricula_path = \"../outputs/0_curricula.csv\"\n",
    "\n",
    "job_offers = pd.read_csv(job_offers_path, index_col=0)\n",
    "curricula = pd.read_csv(curricula_path)"
   ],
   "metadata": {
    "collapsed": false,
    "ExecuteTime": {
     "end_time": "2023-11-12T18:38:27.377480100Z",
     "start_time": "2023-11-12T18:38:27.120216600Z"
    }
   },
   "id": "8bc5972e984814cf"
  },
  {
   "cell_type": "code",
   "execution_count": 24,
   "outputs": [],
   "source": [
    "from Explanation import FIGSExplanation\n",
    "%reload_ext autoreload\n",
    "%autoreload 2\n",
    "\n",
    "explanator = FIGSExplanation(job_graph,fitness_functions, model_path,job_offers,curricula).qId(0)"
   ],
   "metadata": {
    "collapsed": false,
    "ExecuteTime": {
     "end_time": "2023-11-12T18:38:42.321073100Z",
     "start_time": "2023-11-12T18:38:40.390926200Z"
    }
   },
   "id": "9a5bc2a49bb9bc0e"
  }
 ],
 "metadata": {
  "kernelspec": {
   "display_name": "Python 3",
   "language": "python",
   "name": "python3"
  },
  "language_info": {
   "codemirror_mode": {
    "name": "ipython",
    "version": 2
   },
   "file_extension": ".py",
   "mimetype": "text/x-python",
   "name": "python",
   "nbconvert_exporter": "python",
   "pygments_lexer": "ipython2",
   "version": "2.7.6"
  }
 },
 "nbformat": 4,
 "nbformat_minor": 5
}
