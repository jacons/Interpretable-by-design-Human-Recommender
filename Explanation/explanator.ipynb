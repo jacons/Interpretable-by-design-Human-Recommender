{
 "cells": [
  {
   "cell_type": "code",
   "execution_count": 23,
   "id": "initial_id",
   "metadata": {
    "collapsed": true,
    "ExecuteTime": {
     "end_time": "2023-11-25T16:04:45.304237800Z",
     "start_time": "2023-11-25T16:04:44.858618200Z"
    }
   },
   "outputs": [],
   "source": [
    "from Class_utils.parameters import *\n",
    "from Class_utils.JobGraph import JobGraph\n",
    "from Class_utils.FitnessFunctions import FitnessFunctions\n",
    "\n",
    "import pandas as pd"
   ]
  },
  {
   "cell_type": "code",
   "execution_count": 24,
   "outputs": [
    {
     "name": "stdout",
     "output_type": "stream",
     "text": [
      "Cache found loading...done\n"
     ]
    }
   ],
   "source": [
    "job_graph = JobGraph(file_paths, **job_graph_par)\n",
    "fitness_functions = FitnessFunctions(job_graph, file_paths)"
   ],
   "metadata": {
    "collapsed": false,
    "ExecuteTime": {
     "end_time": "2023-11-25T16:04:46.991610100Z",
     "start_time": "2023-11-25T16:04:45.308067Z"
    }
   },
   "id": "eba8876054736055"
  },
  {
   "cell_type": "code",
   "execution_count": 25,
   "outputs": [],
   "source": [
    "model_path = \"../Models/GlassBox/figs/saved_models/FIGSReg.pkl\"\n",
    "job_offers_path = \"../outputs/0_job_Offers.csv\"\n",
    "curricula_path = \"../outputs/0_curricula.csv\"\n",
    "\n",
    "job_offers = pd.read_csv(job_offers_path, index_col=0)\n",
    "curricula = pd.read_csv(curricula_path,index_col=[0,1])"
   ],
   "metadata": {
    "collapsed": false,
    "ExecuteTime": {
     "end_time": "2023-11-25T16:04:47.189783500Z",
     "start_time": "2023-11-25T16:04:46.991610100Z"
    }
   },
   "id": "8bc5972e984814cf"
  },
  {
   "cell_type": "code",
   "execution_count": 26,
   "outputs": [],
   "source": [
    "from Explanation import FIGSExplanation\n",
    "%reload_ext autoreload\n",
    "%autoreload 2\n",
    "\n",
    "explanator = FIGSExplanation(job_graph,fitness_functions, model_path, job_offers, curricula).qId(0)"
   ],
   "metadata": {
    "collapsed": false,
    "ExecuteTime": {
     "end_time": "2023-11-25T16:04:47.403338900Z",
     "start_time": "2023-11-25T16:04:47.194870900Z"
    }
   },
   "id": "9a5bc2a49bb9bc0e"
  },
  {
   "cell_type": "code",
   "execution_count": 27,
   "outputs": [
    {
     "data": {
      "text/plain": "                                                   Job           metadata  \\\nqId                                                                         \n0    leather goods quality control laboratory techn...  {'group': '3119'}   \n\n    Edu_essential Edu_optional  AgeMin  AgeMax      City  \\\nqId                                                        \n0     Bachelor-D.            -      21      34  Marcaria   \n\n    Competence_essential0                              Competence_essential1  \\\nqId                                                                            \n0            use IT tools  reduce environmental impact of footwear manufa...   \n\n               Competence_essential2  ... Knowledge_optional1  \\\nqId                                   ...                       \n0    manage footwear quality systems  ...                   -   \n\n    Knowledge_optional2 Language_essential0 Language_essential1  \\\nqId                                                               \n0                     -             Chinese                   -   \n\n    Language_optional0 Language_level0 Language_level1 Language_level2  \\\nqId                                                                      \n0                    -              B1               -               -   \n\n    Experience_essential Experience_optional  \nqId                                           \n0                      2                True  \n\n[1 rows x 29 columns]",
      "text/html": "<div>\n<style scoped>\n    .dataframe tbody tr th:only-of-type {\n        vertical-align: middle;\n    }\n\n    .dataframe tbody tr th {\n        vertical-align: top;\n    }\n\n    .dataframe thead th {\n        text-align: right;\n    }\n</style>\n<table border=\"1\" class=\"dataframe\">\n  <thead>\n    <tr style=\"text-align: right;\">\n      <th></th>\n      <th>Job</th>\n      <th>metadata</th>\n      <th>Edu_essential</th>\n      <th>Edu_optional</th>\n      <th>AgeMin</th>\n      <th>AgeMax</th>\n      <th>City</th>\n      <th>Competence_essential0</th>\n      <th>Competence_essential1</th>\n      <th>Competence_essential2</th>\n      <th>...</th>\n      <th>Knowledge_optional1</th>\n      <th>Knowledge_optional2</th>\n      <th>Language_essential0</th>\n      <th>Language_essential1</th>\n      <th>Language_optional0</th>\n      <th>Language_level0</th>\n      <th>Language_level1</th>\n      <th>Language_level2</th>\n      <th>Experience_essential</th>\n      <th>Experience_optional</th>\n    </tr>\n    <tr>\n      <th>qId</th>\n      <th></th>\n      <th></th>\n      <th></th>\n      <th></th>\n      <th></th>\n      <th></th>\n      <th></th>\n      <th></th>\n      <th></th>\n      <th></th>\n      <th></th>\n      <th></th>\n      <th></th>\n      <th></th>\n      <th></th>\n      <th></th>\n      <th></th>\n      <th></th>\n      <th></th>\n      <th></th>\n      <th></th>\n    </tr>\n  </thead>\n  <tbody>\n    <tr>\n      <th>0</th>\n      <td>leather goods quality control laboratory techn...</td>\n      <td>{'group': '3119'}</td>\n      <td>Bachelor-D.</td>\n      <td>-</td>\n      <td>21</td>\n      <td>34</td>\n      <td>Marcaria</td>\n      <td>use IT tools</td>\n      <td>reduce environmental impact of footwear manufa...</td>\n      <td>manage footwear quality systems</td>\n      <td>...</td>\n      <td>-</td>\n      <td>-</td>\n      <td>Chinese</td>\n      <td>-</td>\n      <td>-</td>\n      <td>B1</td>\n      <td>-</td>\n      <td>-</td>\n      <td>2</td>\n      <td>True</td>\n    </tr>\n  </tbody>\n</table>\n<p>1 rows × 29 columns</p>\n</div>"
     },
     "execution_count": 27,
     "metadata": {},
     "output_type": "execute_result"
    }
   ],
   "source": [
    "explanator.current_job"
   ],
   "metadata": {
    "collapsed": false,
    "ExecuteTime": {
     "end_time": "2023-11-25T16:04:47.622175700Z",
     "start_time": "2023-11-25T16:04:47.406638300Z"
    }
   },
   "id": "9389aa0e2289aecf"
  },
  {
   "cell_type": "code",
   "execution_count": 28,
   "outputs": [
    {
     "data": {
      "text/plain": "                                                   metadata    Education  Age  \\\nqId kId                                                                         \n0   0     {'occ': '7bf11599-d0bb-4789-9886-55c87f5da449'...    Master-D.   33   \n    1     {'occ': '7bf11599-d0bb-4789-9886-55c87f5da449'...  Bachelor-D.   28   \n    2     {'occ': '0e68f523-3206-4896-b725-44150dd22057'...  Bachelor-D.   32   \n    3     {'occ': '3e0b4b9b-b624-4ceb-9bc9-9627cdfb0b81'...    Master-D.   28   \n    4     {'occ': '1f8967ce-9faa-4d56-a656-50e041f7d07e'...    Master-D.   24   \n...                                                     ...          ...  ...   \n119 9610  {'occ': '45037d43-a8f5-4f46-b332-b2935bc305f4'...    Master-D.   35   \n    9611  {'occ': '49607371-2712-4b0a-8d7c-1b4bc22d9581'...       Degree   19   \n    9612  {'occ': 'a5a4e4d6-e705-4b38-96b5-225f8ab01f2c'...       Degree   57   \n    9613  {'occ': 'a945757e-e171-46a9-847a-13cf04f7cd27'...    Master-D.   56   \n    9614  {'occ': '1209b85e-80f1-490f-a7e1-6ad220bb956d'...    Master-D.   25   \n\n                          City  JobRange                         Competences0  \\\nqId kId                                                                         \n0   0                    Forli        90                         use IT tools   \n    1     Barberino Val d'Elsa        90         use communication techniques   \n    2                Arcidosso        70                         use IT tools   \n    3                     Nule        60         use communication techniques   \n    4                  Venezia        40                         use IT tools   \n...                        ...       ...                                  ...   \n119 9610         Caltanissetta        30         supervise unloading of cargo   \n    9611                Novara        30       manage freight payment methods   \n    9612               Salerno        70  identify new business opportunities   \n    9613           Crespiatica        30                       supply machine   \n    9614              Pozzuoli        40             prepare footwear samples   \n\n                                               Competences1  \\\nqId kId                                                       \n0   0     reduce environmental impact of footwear manufa...   \n    1                                          use IT tools   \n    2     reduce environmental impact of footwear manufa...   \n    3     reduce environmental impact of footwear manufa...   \n    4     reduce environmental impact of footwear manufa...   \n...                                                     ...   \n119 9610                                         stay alert   \n    9611  ensure regulatory compliance concerning distri...   \n    9612                       build business relationships   \n    9613                                sharpen edged tools   \n    9614                  implement footwear marketing plan   \n\n                                               Competences2  \\\nqId kId                                                       \n0   0     plan supply chain logistics for footwear and l...   \n    1     reduce environmental impact of footwear manufa...   \n    2                        plan leather goods manufacture   \n    3                     identify with the company's goals   \n    4                       manage footwear quality systems   \n...                                                     ...   \n119 9610                           practice emergency stops   \n    9611                                                  -   \n    9612                                                  -   \n    9613                           program a CNC controller   \n    9614                                distinguish fabrics   \n\n                                               Competences3  \\\nqId kId                                                       \n0   0     perform laboratory tests on footwear or leathe...   \n    1                       manage footwear quality systems   \n    2                       manage footwear quality systems   \n    3                          execute working instructions   \n    4                                                     -   \n...                                                     ...   \n119 9610                             manoeuvre heavy trucks   \n    9611                                                  -   \n    9612                                                  -   \n    9613                    prepare wood production reports   \n    9614             create technical sketches for footwear   \n\n                                               Competences4  ...  \\\nqId kId                                                      ...   \n0   0                       manage footwear quality systems  ...   \n    1     communicate commercial and technical issues in...  ...   \n    2               determine lather goods warehouse layout  ...   \n    3                          adapt to changing situations  ...   \n    4                                                     -  ...   \n...                                                     ...  ...   \n119 9610                                                  -  ...   \n    9611                                                  -  ...   \n    9612                                                  -  ...   \n    9613                                         pack goods  ...   \n    9614                                                  -  ...   \n\n                                             Knowledge4  \\\nqId kId                                                   \n0   0                     footwear finishing techniques   \n    1                     footwear finishing techniques   \n    2                          leather goods components   \n    3                      functionalities of machinery   \n    4                health and safety in the workplace   \n...                                                 ...   \n119 9610                                              -   \n    9611                                              -   \n    9612                                              -   \n    9613                     manufacturing of furniture   \n    9614  footwear and leather goods marketing planning   \n\n                                Knowledge5            Knowledge6 Language0  \\\nqId kId                                                                      \n0   0                                    -                     -   Spanish   \n    1                                    -                     -   Spanish   \n    2                                    -                     -   Italian   \n    3                                    -                     -   Spanish   \n    4        footwear finishing techniques                     -   Chinese   \n...                                    ...                   ...       ...   \n119 9610                                 -                     -   Italian   \n    9611                                 -                     -    French   \n    9612                                 -                     -    French   \n    9613  manufacturing of daily use goods  cutting technologies   Italian   \n    9614                                 -                     -    French   \n\n         Language1 Language2 Language_level0 Language_level1 Language_level2  \\\nqId kId                                                                        \n0   0      Italian         -            Null            Null               -   \n    1      Italian   English            Null            Null              B1   \n    2       German   English              C2            Null              C1   \n    3      Italian   Chinese            Null            Null              B1   \n    4            -         -              B1               -               -   \n...            ...       ...             ...             ...             ...   \n119 9610   English         -            Null            Null               -   \n    9611         -         -            Null               -               -   \n    9612  Albanian         -            Null            Null               -   \n    9613    French         -            Null            Null               -   \n    9614    Arabic  Albanian            Null            Null            Null   \n\n         Experience  \nqId kId              \n0   0             0  \n    1             4  \n    2             3  \n    3             0  \n    4             1  \n...             ...  \n119 9610          0  \n    9611          1  \n    9612          4  \n    9613          3  \n    9614          0  \n\n[9615 rows x 26 columns]",
      "text/html": "<div>\n<style scoped>\n    .dataframe tbody tr th:only-of-type {\n        vertical-align: middle;\n    }\n\n    .dataframe tbody tr th {\n        vertical-align: top;\n    }\n\n    .dataframe thead th {\n        text-align: right;\n    }\n</style>\n<table border=\"1\" class=\"dataframe\">\n  <thead>\n    <tr style=\"text-align: right;\">\n      <th></th>\n      <th></th>\n      <th>metadata</th>\n      <th>Education</th>\n      <th>Age</th>\n      <th>City</th>\n      <th>JobRange</th>\n      <th>Competences0</th>\n      <th>Competences1</th>\n      <th>Competences2</th>\n      <th>Competences3</th>\n      <th>Competences4</th>\n      <th>...</th>\n      <th>Knowledge4</th>\n      <th>Knowledge5</th>\n      <th>Knowledge6</th>\n      <th>Language0</th>\n      <th>Language1</th>\n      <th>Language2</th>\n      <th>Language_level0</th>\n      <th>Language_level1</th>\n      <th>Language_level2</th>\n      <th>Experience</th>\n    </tr>\n    <tr>\n      <th>qId</th>\n      <th>kId</th>\n      <th></th>\n      <th></th>\n      <th></th>\n      <th></th>\n      <th></th>\n      <th></th>\n      <th></th>\n      <th></th>\n      <th></th>\n      <th></th>\n      <th></th>\n      <th></th>\n      <th></th>\n      <th></th>\n      <th></th>\n      <th></th>\n      <th></th>\n      <th></th>\n      <th></th>\n      <th></th>\n      <th></th>\n    </tr>\n  </thead>\n  <tbody>\n    <tr>\n      <th rowspan=\"5\" valign=\"top\">0</th>\n      <th>0</th>\n      <td>{'occ': '7bf11599-d0bb-4789-9886-55c87f5da449'...</td>\n      <td>Master-D.</td>\n      <td>33</td>\n      <td>Forli</td>\n      <td>90</td>\n      <td>use IT tools</td>\n      <td>reduce environmental impact of footwear manufa...</td>\n      <td>plan supply chain logistics for footwear and l...</td>\n      <td>perform laboratory tests on footwear or leathe...</td>\n      <td>manage footwear quality systems</td>\n      <td>...</td>\n      <td>footwear finishing techniques</td>\n      <td>-</td>\n      <td>-</td>\n      <td>Spanish</td>\n      <td>Italian</td>\n      <td>-</td>\n      <td>Null</td>\n      <td>Null</td>\n      <td>-</td>\n      <td>0</td>\n    </tr>\n    <tr>\n      <th>1</th>\n      <td>{'occ': '7bf11599-d0bb-4789-9886-55c87f5da449'...</td>\n      <td>Bachelor-D.</td>\n      <td>28</td>\n      <td>Barberino Val d'Elsa</td>\n      <td>90</td>\n      <td>use communication techniques</td>\n      <td>use IT tools</td>\n      <td>reduce environmental impact of footwear manufa...</td>\n      <td>manage footwear quality systems</td>\n      <td>communicate commercial and technical issues in...</td>\n      <td>...</td>\n      <td>footwear finishing techniques</td>\n      <td>-</td>\n      <td>-</td>\n      <td>Spanish</td>\n      <td>Italian</td>\n      <td>English</td>\n      <td>Null</td>\n      <td>Null</td>\n      <td>B1</td>\n      <td>4</td>\n    </tr>\n    <tr>\n      <th>2</th>\n      <td>{'occ': '0e68f523-3206-4896-b725-44150dd22057'...</td>\n      <td>Bachelor-D.</td>\n      <td>32</td>\n      <td>Arcidosso</td>\n      <td>70</td>\n      <td>use IT tools</td>\n      <td>reduce environmental impact of footwear manufa...</td>\n      <td>plan leather goods manufacture</td>\n      <td>manage footwear quality systems</td>\n      <td>determine lather goods warehouse layout</td>\n      <td>...</td>\n      <td>leather goods components</td>\n      <td>-</td>\n      <td>-</td>\n      <td>Italian</td>\n      <td>German</td>\n      <td>English</td>\n      <td>C2</td>\n      <td>Null</td>\n      <td>C1</td>\n      <td>3</td>\n    </tr>\n    <tr>\n      <th>3</th>\n      <td>{'occ': '3e0b4b9b-b624-4ceb-9bc9-9627cdfb0b81'...</td>\n      <td>Master-D.</td>\n      <td>28</td>\n      <td>Nule</td>\n      <td>60</td>\n      <td>use communication techniques</td>\n      <td>reduce environmental impact of footwear manufa...</td>\n      <td>identify with the company's goals</td>\n      <td>execute working instructions</td>\n      <td>adapt to changing situations</td>\n      <td>...</td>\n      <td>functionalities of machinery</td>\n      <td>-</td>\n      <td>-</td>\n      <td>Spanish</td>\n      <td>Italian</td>\n      <td>Chinese</td>\n      <td>Null</td>\n      <td>Null</td>\n      <td>B1</td>\n      <td>0</td>\n    </tr>\n    <tr>\n      <th>4</th>\n      <td>{'occ': '1f8967ce-9faa-4d56-a656-50e041f7d07e'...</td>\n      <td>Master-D.</td>\n      <td>24</td>\n      <td>Venezia</td>\n      <td>40</td>\n      <td>use IT tools</td>\n      <td>reduce environmental impact of footwear manufa...</td>\n      <td>manage footwear quality systems</td>\n      <td>-</td>\n      <td>-</td>\n      <td>...</td>\n      <td>health and safety in the workplace</td>\n      <td>footwear finishing techniques</td>\n      <td>-</td>\n      <td>Chinese</td>\n      <td>-</td>\n      <td>-</td>\n      <td>B1</td>\n      <td>-</td>\n      <td>-</td>\n      <td>1</td>\n    </tr>\n    <tr>\n      <th>...</th>\n      <th>...</th>\n      <td>...</td>\n      <td>...</td>\n      <td>...</td>\n      <td>...</td>\n      <td>...</td>\n      <td>...</td>\n      <td>...</td>\n      <td>...</td>\n      <td>...</td>\n      <td>...</td>\n      <td>...</td>\n      <td>...</td>\n      <td>...</td>\n      <td>...</td>\n      <td>...</td>\n      <td>...</td>\n      <td>...</td>\n      <td>...</td>\n      <td>...</td>\n      <td>...</td>\n      <td>...</td>\n    </tr>\n    <tr>\n      <th rowspan=\"5\" valign=\"top\">119</th>\n      <th>9610</th>\n      <td>{'occ': '45037d43-a8f5-4f46-b332-b2935bc305f4'...</td>\n      <td>Master-D.</td>\n      <td>35</td>\n      <td>Caltanissetta</td>\n      <td>30</td>\n      <td>supervise unloading of cargo</td>\n      <td>stay alert</td>\n      <td>practice emergency stops</td>\n      <td>manoeuvre heavy trucks</td>\n      <td>-</td>\n      <td>...</td>\n      <td>-</td>\n      <td>-</td>\n      <td>-</td>\n      <td>Italian</td>\n      <td>English</td>\n      <td>-</td>\n      <td>Null</td>\n      <td>Null</td>\n      <td>-</td>\n      <td>0</td>\n    </tr>\n    <tr>\n      <th>9611</th>\n      <td>{'occ': '49607371-2712-4b0a-8d7c-1b4bc22d9581'...</td>\n      <td>Degree</td>\n      <td>19</td>\n      <td>Novara</td>\n      <td>30</td>\n      <td>manage freight payment methods</td>\n      <td>ensure regulatory compliance concerning distri...</td>\n      <td>-</td>\n      <td>-</td>\n      <td>-</td>\n      <td>...</td>\n      <td>-</td>\n      <td>-</td>\n      <td>-</td>\n      <td>French</td>\n      <td>-</td>\n      <td>-</td>\n      <td>Null</td>\n      <td>-</td>\n      <td>-</td>\n      <td>1</td>\n    </tr>\n    <tr>\n      <th>9612</th>\n      <td>{'occ': 'a5a4e4d6-e705-4b38-96b5-225f8ab01f2c'...</td>\n      <td>Degree</td>\n      <td>57</td>\n      <td>Salerno</td>\n      <td>70</td>\n      <td>identify new business opportunities</td>\n      <td>build business relationships</td>\n      <td>-</td>\n      <td>-</td>\n      <td>-</td>\n      <td>...</td>\n      <td>-</td>\n      <td>-</td>\n      <td>-</td>\n      <td>French</td>\n      <td>Albanian</td>\n      <td>-</td>\n      <td>Null</td>\n      <td>Null</td>\n      <td>-</td>\n      <td>4</td>\n    </tr>\n    <tr>\n      <th>9613</th>\n      <td>{'occ': 'a945757e-e171-46a9-847a-13cf04f7cd27'...</td>\n      <td>Master-D.</td>\n      <td>56</td>\n      <td>Crespiatica</td>\n      <td>30</td>\n      <td>supply machine</td>\n      <td>sharpen edged tools</td>\n      <td>program a CNC controller</td>\n      <td>prepare wood production reports</td>\n      <td>pack goods</td>\n      <td>...</td>\n      <td>manufacturing of furniture</td>\n      <td>manufacturing of daily use goods</td>\n      <td>cutting technologies</td>\n      <td>Italian</td>\n      <td>French</td>\n      <td>-</td>\n      <td>Null</td>\n      <td>Null</td>\n      <td>-</td>\n      <td>3</td>\n    </tr>\n    <tr>\n      <th>9614</th>\n      <td>{'occ': '1209b85e-80f1-490f-a7e1-6ad220bb956d'...</td>\n      <td>Master-D.</td>\n      <td>25</td>\n      <td>Pozzuoli</td>\n      <td>40</td>\n      <td>prepare footwear samples</td>\n      <td>implement footwear marketing plan</td>\n      <td>distinguish fabrics</td>\n      <td>create technical sketches for footwear</td>\n      <td>-</td>\n      <td>...</td>\n      <td>footwear and leather goods marketing planning</td>\n      <td>-</td>\n      <td>-</td>\n      <td>French</td>\n      <td>Arabic</td>\n      <td>Albanian</td>\n      <td>Null</td>\n      <td>Null</td>\n      <td>Null</td>\n      <td>0</td>\n    </tr>\n  </tbody>\n</table>\n<p>9615 rows × 26 columns</p>\n</div>"
     },
     "execution_count": 28,
     "metadata": {},
     "output_type": "execute_result"
    }
   ],
   "source": [
    "explanator.curricula"
   ],
   "metadata": {
    "collapsed": false,
    "ExecuteTime": {
     "end_time": "2023-11-25T16:04:47.935939600Z",
     "start_time": "2023-11-25T16:04:47.622175700Z"
    }
   },
   "id": "bc8e247256a55944"
  },
  {
   "cell_type": "code",
   "execution_count": 29,
   "outputs": [
    {
     "name": "stderr",
     "output_type": "stream",
     "text": [
      "Generating the fitness scores: 100%|██████████| 1/1 [00:00<00:00,  5.46it/s, qId=0]\n"
     ]
    }
   ],
   "source": [
    "explanator.perform_top()"
   ],
   "metadata": {
    "collapsed": false,
    "ExecuteTime": {
     "end_time": "2023-11-25T16:04:48.275160100Z",
     "start_time": "2023-11-25T16:04:47.855358900Z"
    }
   },
   "id": "a1e659b034c830d1"
  },
  {
   "cell_type": "code",
   "execution_count": 30,
   "outputs": [
    {
     "data": {
      "text/plain": "18"
     },
     "execution_count": 30,
     "metadata": {},
     "output_type": "execute_result"
    }
   ],
   "source": [
    "explanator.get_position(43)"
   ],
   "metadata": {
    "collapsed": false,
    "ExecuteTime": {
     "end_time": "2023-11-25T16:04:48.556660600Z",
     "start_time": "2023-11-25T16:04:48.269889200Z"
    }
   },
   "id": "308f8ab8b80acbca"
  },
  {
   "cell_type": "code",
   "execution_count": 39,
   "outputs": [
    {
     "name": "stdout",
     "output_type": "stream",
     "text": [
      "No\n",
      "siii 1\n",
      "No\n",
      "No\n",
      "No\n",
      "No\n",
      "No\n"
     ]
    }
   ],
   "source": [
    "\n",
    "from Class_utils.FitnessClasses import Features\n",
    "\n",
    "explanator.get_max_position(43)"
   ],
   "metadata": {
    "collapsed": false,
    "ExecuteTime": {
     "end_time": "2023-11-25T16:30:57.068207100Z",
     "start_time": "2023-11-25T16:30:54.874360800Z"
    }
   },
   "id": "650b08f7632ff788"
  },
  {
   "cell_type": "code",
   "execution_count": 40,
   "outputs": [
    {
     "data": {
      "text/plain": "Index(['index', 'qId', 'kId', 'fitness_edu_basic', 'fitness_edu_bonus',\n       'fitness_city', 'fitness_age', 'fitness_exp_basic', 'fitness_exp_bonus',\n       'fitness_lang_basic', 'fitness_lang_bonus', 'fitness_comp_basic',\n       'fitness_comp_bonus', 'fitness_know_basic', 'fitness_knowl_bonus',\n       'lambda'],\n      dtype='object')"
     },
     "execution_count": 40,
     "metadata": {},
     "output_type": "execute_result"
    }
   ],
   "source": [
    "explanator.fitness_matrix.columns"
   ],
   "metadata": {
    "collapsed": false,
    "ExecuteTime": {
     "end_time": "2023-11-25T16:42:40.218487Z",
     "start_time": "2023-11-25T16:42:37.760709Z"
    }
   },
   "id": "b8e4f83576e4fbde"
  }
 ],
 "metadata": {
  "kernelspec": {
   "display_name": "Python 3",
   "language": "python",
   "name": "python3"
  },
  "language_info": {
   "codemirror_mode": {
    "name": "ipython",
    "version": 2
   },
   "file_extension": ".py",
   "mimetype": "text/x-python",
   "name": "python",
   "nbconvert_exporter": "python",
   "pygments_lexer": "ipython2",
   "version": "2.7.6"
  }
 },
 "nbformat": 4,
 "nbformat_minor": 5
}
