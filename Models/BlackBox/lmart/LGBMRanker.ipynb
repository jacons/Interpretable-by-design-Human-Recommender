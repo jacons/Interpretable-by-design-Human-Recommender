{
 "cells": [
  {
   "cell_type": "code",
   "execution_count": 20,
   "outputs": [],
   "source": [
    "from Models.BlackBox.lmart.lgbmranker_class import LGBMRanker_class\n",
    "import pandas as pd\n",
    "%reload_ext autoreload\n",
    "%autoreload 2"
   ],
   "metadata": {
    "collapsed": false,
    "ExecuteTime": {
     "end_time": "2023-11-11T17:41:48.931112400Z",
     "start_time": "2023-11-11T17:41:48.613077Z"
    }
   },
   "id": "af1e066990852cdc"
  },
  {
   "cell_type": "code",
   "execution_count": 11,
   "outputs": [],
   "source": [
    "lMart_parameter = dict(\n",
    "    boosting_type=[\"dart\", \"gbdt\"],\n",
    "    num_leaves=[2, 5, 10, 20, 30, 40],\n",
    "    max_depth=[-1],\n",
    "    n_estimators=[75, 80, 100, 150, 200],\n",
    "    learning_rate=[0.02, 0.05, 0.08, 0.1, 0.15, 0.2],\n",
    "    reg_lambda=[0.00005, 0.0001, 0.0002, 0.0003]\n",
    ")\n",
    "gridsearch_parameters = dict(\n",
    "    path=\"./../../../outputs/scores/\",\n",
    "    name=\"0\",\n",
    "    nDCG_at=15\n",
    ")"
   ],
   "metadata": {
    "collapsed": false,
    "ExecuteTime": {
     "end_time": "2023-11-11T17:29:04.818180800Z",
     "start_time": "2023-11-11T17:29:04.451451400Z"
    }
   },
   "id": "62e35e89252ff522"
  },
  {
   "cell_type": "markdown",
   "source": [
    "# Grid-search"
   ],
   "metadata": {
    "collapsed": false
   },
   "id": "3cef4ced860a9c6"
  },
  {
   "cell_type": "code",
   "execution_count": 21,
   "outputs": [],
   "source": [
    "gs = LGBMRanker_class(**gridsearch_parameters)"
   ],
   "metadata": {
    "collapsed": false,
    "ExecuteTime": {
     "end_time": "2023-11-11T17:41:53.068431Z",
     "start_time": "2023-11-11T17:41:52.717489100Z"
    }
   },
   "id": "fe7387649e612014"
  },
  {
   "cell_type": "code",
   "execution_count": 13,
   "outputs": [
    {
     "name": "stderr",
     "output_type": "stream",
     "text": [
      "100%|██████████| 1440/1440 [08:05<00:00,  2.97it/s, nDCG_15=0.998]\n"
     ]
    }
   ],
   "source": [
    "best_ = gs.grid_search(lMart_parameter)\n",
    "gs.save_model(best_[0],\"LGBMRanker\")"
   ],
   "metadata": {
    "collapsed": false,
    "ExecuteTime": {
     "end_time": "2023-11-11T17:37:13.326324800Z",
     "start_time": "2023-11-11T17:29:07.588905300Z"
    }
   },
   "id": "92efd44b4260f0ca"
  },
  {
   "cell_type": "markdown",
   "source": [
    "# Metric evaluation"
   ],
   "metadata": {
    "collapsed": false
   },
   "id": "ed0bb8172dc6632a"
  },
  {
   "cell_type": "code",
   "execution_count": 22,
   "outputs": [],
   "source": [
    "best_model = gs.load_model(\"./saved_models/LGBMRanker\")"
   ],
   "metadata": {
    "collapsed": false,
    "ExecuteTime": {
     "end_time": "2023-11-11T17:41:55.132163Z",
     "start_time": "2023-11-11T17:41:54.840301300Z"
    }
   },
   "id": "2d55f8a31bdb68d"
  },
  {
   "cell_type": "code",
   "execution_count": 23,
   "outputs": [
    {
     "data": {
      "text/plain": "            nDCG@1  nDCG@10  nDCG@15\nTraining    1.0000   0.9981   0.9987\nValidation  0.9950   0.9968   0.9978\nTest        0.9888   0.9946   0.9964",
      "text/html": "<div>\n<style scoped>\n    .dataframe tbody tr th:only-of-type {\n        vertical-align: middle;\n    }\n\n    .dataframe tbody tr th {\n        vertical-align: top;\n    }\n\n    .dataframe thead th {\n        text-align: right;\n    }\n</style>\n<table border=\"1\" class=\"dataframe\">\n  <thead>\n    <tr style=\"text-align: right;\">\n      <th></th>\n      <th>nDCG@1</th>\n      <th>nDCG@10</th>\n      <th>nDCG@15</th>\n    </tr>\n  </thead>\n  <tbody>\n    <tr>\n      <th>Training</th>\n      <td>1.0000</td>\n      <td>0.9981</td>\n      <td>0.9987</td>\n    </tr>\n    <tr>\n      <th>Validation</th>\n      <td>0.9950</td>\n      <td>0.9968</td>\n      <td>0.9978</td>\n    </tr>\n    <tr>\n      <th>Test</th>\n      <td>0.9888</td>\n      <td>0.9946</td>\n      <td>0.9964</td>\n    </tr>\n  </tbody>\n</table>\n</div>"
     },
     "metadata": {},
     "output_type": "display_data"
    },
    {
     "name": "stdout",
     "output_type": "stream",
     "text": [
      "Test set\n"
     ]
    },
    {
     "data": {
      "text/plain": "                    nDCG@1  nDCG@10  nDCG@15\nrandom_permutation  0.7204   0.7581   0.7872\nperfect_nDCG        1.0000   1.0000   1.0000\nworste_nDCG         0.3404   0.4935   0.5814",
      "text/html": "<div>\n<style scoped>\n    .dataframe tbody tr th:only-of-type {\n        vertical-align: middle;\n    }\n\n    .dataframe tbody tr th {\n        vertical-align: top;\n    }\n\n    .dataframe thead th {\n        text-align: right;\n    }\n</style>\n<table border=\"1\" class=\"dataframe\">\n  <thead>\n    <tr style=\"text-align: right;\">\n      <th></th>\n      <th>nDCG@1</th>\n      <th>nDCG@10</th>\n      <th>nDCG@15</th>\n    </tr>\n  </thead>\n  <tbody>\n    <tr>\n      <th>random_permutation</th>\n      <td>0.7204</td>\n      <td>0.7581</td>\n      <td>0.7872</td>\n    </tr>\n    <tr>\n      <th>perfect_nDCG</th>\n      <td>1.0000</td>\n      <td>1.0000</td>\n      <td>1.0000</td>\n    </tr>\n    <tr>\n      <th>worste_nDCG</th>\n      <td>0.3404</td>\n      <td>0.4935</td>\n      <td>0.5814</td>\n    </tr>\n  </tbody>\n</table>\n</div>"
     },
     "metadata": {},
     "output_type": "display_data"
    }
   ],
   "source": [
    "# nDCG\n",
    "nDCG_train = gs.eval_model(model=best_model, dt=gs.train, qIds=gs.qIds_train, nDCG_at=[1,10,15])\n",
    "nDCG_valid = gs.eval_model(model=best_model, dt=gs.valid, qIds=gs.qIds_valid, nDCG_at=[1,10,15])\n",
    "nDCG_test = gs.eval_model(model=best_model, dt=gs.test, qIds=gs.qIds_test, nDCG_at=[1,10,15])\n",
    "\n",
    "other_evals_tr = gs.other_eval(df=gs.test, qIds=gs.qIds_test, nDCG_at=[1,10,15])\n",
    "\n",
    "display(pd.DataFrame([nDCG_train,nDCG_valid,nDCG_test],index=[\"Training\",\"Validation\",\"Test\"]))\n",
    "\n",
    "print(\"Test set\")\n",
    "display(pd.DataFrame(other_evals_tr).T)"
   ],
   "metadata": {
    "collapsed": false,
    "ExecuteTime": {
     "end_time": "2023-11-11T17:41:58.057730100Z",
     "start_time": "2023-11-11T17:41:56.302922700Z"
    }
   },
   "id": "1a629f3b092f39b4"
  }
 ],
 "metadata": {
  "kernelspec": {
   "display_name": "Python 3",
   "language": "python",
   "name": "python3"
  },
  "language_info": {
   "codemirror_mode": {
    "name": "ipython",
    "version": 2
   },
   "file_extension": ".py",
   "mimetype": "text/x-python",
   "name": "python",
   "nbconvert_exporter": "python",
   "pygments_lexer": "ipython2",
   "version": "2.7.6"
  }
 },
 "nbformat": 4,
 "nbformat_minor": 5
}
