{
 "cells": [
  {
   "cell_type": "code",
   "execution_count": 1,
   "outputs": [],
   "source": [
    "        from Models.BlackBox.lmart.lgbmranker_class import LGBMRanker_class\n",
    "import pandas as pd\n",
    "%reload_ext autoreload\n",
    "%autoreload 2"
   ],
   "metadata": {
    "collapsed": false
   },
   "id": "af1e066990852cdc"
  },
  {
   "cell_type": "code",
   "execution_count": 4,
   "outputs": [],
   "source": [
    "lMart_parameter = dict(\n",
    "    boosting_type=[\"dart\", \"gbdt\"],\n",
    "    num_leaves=[2, 5, 10, 20, 30, 40],\n",
    "    max_depth=[-1],\n",
    "    n_estimators=[75, 80, 100, 150, 200],\n",
    "    learning_rate=[0.02, 0.05, 0.08, 0.1, 0.15, 0.2],\n",
    "    reg_lambda=[0.00005, 0.0001, 0.0002, 0.0003]\n",
    ")\n",
    "gridsearch_parameters = dict(\n",
    "    path=\"./../../../outputs/scores/\",\n",
    "    name=\"0\",\n",
    "    nDCG_at=15\n",
    ")"
   ],
   "metadata": {
    "collapsed": false,
    "ExecuteTime": {
     "end_time": "2023-12-01T09:18:38.846056100Z",
     "start_time": "2023-12-01T09:18:38.575895600Z"
    }
   },
   "id": "62e35e89252ff522"
  },
  {
   "cell_type": "markdown",
   "source": [
    "# Grid-search"
   ],
   "metadata": {
    "collapsed": false
   },
   "id": "3cef4ced860a9c6"
  },
  {
   "cell_type": "code",
   "execution_count": 5,
   "outputs": [],
   "source": [
    "gs = LGBMRanker_class(**gridsearch_parameters)"
   ],
   "metadata": {
    "collapsed": false,
    "ExecuteTime": {
     "end_time": "2023-12-01T09:18:38.981276Z",
     "start_time": "2023-12-01T09:18:38.848128400Z"
    }
   },
   "id": "fe7387649e612014"
  },
  {
   "cell_type": "code",
   "execution_count": 6,
   "outputs": [
    {
     "name": "stderr",
     "output_type": "stream",
     "text": [
      "Finding the best model: 100%|██████████| 1440/1440 [13:53<00:00,  1.73it/s, nDCG_15=0.984]\n"
     ]
    }
   ],
   "source": [
    "best_ = gs.grid_search(lMart_parameter)\n",
    "gs.save_model(best_[0],\"LGBMRanker\")"
   ],
   "metadata": {
    "collapsed": false,
    "ExecuteTime": {
     "end_time": "2023-12-01T09:32:32.317097500Z",
     "start_time": "2023-12-01T09:18:38.981276Z"
    }
   },
   "id": "92efd44b4260f0ca"
  },
  {
   "cell_type": "markdown",
   "source": [
    "# Metric evaluation"
   ],
   "metadata": {
    "collapsed": false
   },
   "id": "ed0bb8172dc6632a"
  },
  {
   "cell_type": "code",
   "execution_count": 7,
   "outputs": [],
   "source": [
    "best_model = gs.load_model(\"./saved_models/LGBMRanker\")"
   ],
   "metadata": {
    "collapsed": false,
    "ExecuteTime": {
     "end_time": "2023-12-01T09:32:32.410123700Z",
     "start_time": "2023-12-01T09:32:32.308452300Z"
    }
   },
   "id": "2d55f8a31bdb68d"
  },
  {
   "cell_type": "code",
   "execution_count": 8,
   "outputs": [
    {
     "data": {
      "text/plain": "            nDCG@1  nDCG@10  nDCG@15\nTraining    0.9637   0.9720   0.9753\nValidation  0.9442   0.9752   0.9837\nTest        0.9386   0.9652   0.9742",
      "text/html": "<div>\n<style scoped>\n    .dataframe tbody tr th:only-of-type {\n        vertical-align: middle;\n    }\n\n    .dataframe tbody tr th {\n        vertical-align: top;\n    }\n\n    .dataframe thead th {\n        text-align: right;\n    }\n</style>\n<table border=\"1\" class=\"dataframe\">\n  <thead>\n    <tr style=\"text-align: right;\">\n      <th></th>\n      <th>nDCG@1</th>\n      <th>nDCG@10</th>\n      <th>nDCG@15</th>\n    </tr>\n  </thead>\n  <tbody>\n    <tr>\n      <th>Training</th>\n      <td>0.9637</td>\n      <td>0.9720</td>\n      <td>0.9753</td>\n    </tr>\n    <tr>\n      <th>Validation</th>\n      <td>0.9442</td>\n      <td>0.9752</td>\n      <td>0.9837</td>\n    </tr>\n    <tr>\n      <th>Test</th>\n      <td>0.9386</td>\n      <td>0.9652</td>\n      <td>0.9742</td>\n    </tr>\n  </tbody>\n</table>\n</div>"
     },
     "metadata": {},
     "output_type": "display_data"
    },
    {
     "name": "stdout",
     "output_type": "stream",
     "text": [
      "Test set\n"
     ]
    },
    {
     "data": {
      "text/plain": "                    nDCG@1  nDCG@10  nDCG@15\nrandom_permutation  0.6969   0.7741   0.8092\nperfect_nDCG        1.0000   1.0000   1.0000\nworste_nDCG         0.2516   0.4907   0.5905",
      "text/html": "<div>\n<style scoped>\n    .dataframe tbody tr th:only-of-type {\n        vertical-align: middle;\n    }\n\n    .dataframe tbody tr th {\n        vertical-align: top;\n    }\n\n    .dataframe thead th {\n        text-align: right;\n    }\n</style>\n<table border=\"1\" class=\"dataframe\">\n  <thead>\n    <tr style=\"text-align: right;\">\n      <th></th>\n      <th>nDCG@1</th>\n      <th>nDCG@10</th>\n      <th>nDCG@15</th>\n    </tr>\n  </thead>\n  <tbody>\n    <tr>\n      <th>random_permutation</th>\n      <td>0.6969</td>\n      <td>0.7741</td>\n      <td>0.8092</td>\n    </tr>\n    <tr>\n      <th>perfect_nDCG</th>\n      <td>1.0000</td>\n      <td>1.0000</td>\n      <td>1.0000</td>\n    </tr>\n    <tr>\n      <th>worste_nDCG</th>\n      <td>0.2516</td>\n      <td>0.4907</td>\n      <td>0.5905</td>\n    </tr>\n  </tbody>\n</table>\n</div>"
     },
     "metadata": {},
     "output_type": "display_data"
    }
   ],
   "source": [
    "# nDCG\n",
    "nDCG_train = gs.eval_model(model=best_model, dt=gs.train, qIds=gs.qIds_train, nDCG_at=[1,10,15])\n",
    "nDCG_valid = gs.eval_model(model=best_model, dt=gs.valid, qIds=gs.qIds_valid, nDCG_at=[1,10,15])\n",
    "nDCG_test = gs.eval_model(model=best_model, dt=gs.test, qIds=gs.qIds_test, nDCG_at=[1,10,15])\n",
    "\n",
    "other_evals_tr = gs.other_eval(df=gs.test, qIds=gs.qIds_test, nDCG_at=[1,10,15])\n",
    "\n",
    "display(pd.DataFrame([nDCG_train,nDCG_valid,nDCG_test],index=[\"Training\",\"Validation\",\"Test\"]))\n",
    "\n",
    "print(\"Test set\")\n",
    "display(pd.DataFrame(other_evals_tr).T)"
   ],
   "metadata": {
    "collapsed": false,
    "ExecuteTime": {
     "end_time": "2023-12-01T09:32:37.415601800Z",
     "start_time": "2023-12-01T09:32:32.410123700Z"
    }
   },
   "id": "1a629f3b092f39b4"
  }
 ],
 "metadata": {
  "kernelspec": {
   "display_name": "Python 3",
   "language": "python",
   "name": "python3"
  },
  "language_info": {
   "codemirror_mode": {
    "name": "ipython",
    "version": 2
   },
   "file_extension": ".py",
   "mimetype": "text/x-python",
   "name": "python",
   "nbconvert_exporter": "python",
   "pygments_lexer": "ipython2",
   "version": "2.7.6"
  }
 },
 "nbformat": 4,
 "nbformat_minor": 5
}
