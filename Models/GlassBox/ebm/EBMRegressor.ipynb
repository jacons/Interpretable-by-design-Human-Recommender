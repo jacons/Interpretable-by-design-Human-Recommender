{
 "nbformat": 4,
 "nbformat_minor": 0,
 "metadata": {
  "colab": {
   "provenance": []
  },
  "kernelspec": {
   "name": "python3",
   "language": "python",
   "display_name": "Python 3 (ipykernel)"
  },
  "language_info": {
   "name": "python"
  }
 },
 "cells": [
  {
   "cell_type": "code",
   "execution_count": null,
   "outputs": [],
   "source": [
    "from Models.GlassBox.ebm.ebm_class import EBM_class\n",
    "from interpret.glassbox import ExplainableBoostingRegressor\n",
    "import matplotlib.pyplot as  plt\n",
    "import pandas as pd\n",
    "%reload_ext autoreload\n",
    "%autoreload 2"
   ],
   "metadata": {
    "collapsed": false
   }
  },
  {
   "cell_type": "code",
   "execution_count": null,
   "outputs": [],
   "source": [
    "EBM_parameter = dict(\n",
    "    learning_rate= [0.005, 0.01, 0.02, 0.03],\n",
    "    min_samples_leaf=[2, 3, 4, 5, 6, 7, 8, 9, 10],\n",
    "    max_leaves=[2, 3, 4, 5, 6, 7],\n",
    "    interactions=[10, 15, 20],\n",
    ")\n",
    "gridsearch_parameters = dict(\n",
    "    path=\"./../../../outputs/scores/\",\n",
    "    name=\"0\",\n",
    "    nDCG_at=15\n",
    ")"
   ],
   "metadata": {
    "collapsed": false
   }
  },
  {
   "cell_type": "markdown",
   "source": [
    "# Grid-search"
   ],
   "metadata": {
    "collapsed": false
   }
  },
  {
   "cell_type": "code",
   "execution_count": null,
   "outputs": [],
   "source": [
    "gs = EBM_class(**gridsearch_parameters)"
   ],
   "metadata": {
    "collapsed": false
   }
  },
  {
   "cell_type": "code",
   "source": [
    "best_ = gs.grid_search(\n",
    "    EBMModel=ExplainableBoostingRegressor,  \n",
    "    hyperparameters=EBM_parameter)\n",
    "gs.save_model(best_[0], name=\"EBMReg\")"
   ],
   "metadata": {
    "colab": {
     "base_uri": "https://localhost:8080/"
    },
    "id": "2gbo5MKO39kV",
    "outputId": "e47443e1-d412-4cd7-f1be-34644e4a1ac5"
   },
   "execution_count": null,
   "outputs": []
  },
  {
   "cell_type": "markdown",
   "source": [
    "# Metric evaluation"
   ],
   "metadata": {
    "collapsed": false
   }
  },
  {
   "cell_type": "code",
   "source": [
    "best_model = gs.load_model(name=\"./saved_models/EBMReg\")"
   ],
   "metadata": {
    "colab": {
     "base_uri": "https://localhost:8080/",
     "height": 424
    },
    "id": "5-EIA4HciPv-",
    "outputId": "7d305a67-e249-4086-b5ef-202fa42c003c"
   },
   "execution_count": null,
   "outputs": []
  },
  {
   "cell_type": "code",
   "execution_count": null,
   "outputs": [],
   "source": [
    "best_model   "
   ],
   "metadata": {
    "collapsed": false
   }
  },
  {
   "cell_type": "code",
   "execution_count": null,
   "outputs": [],
   "source": [
    "# nDCG on test-set\n",
    "nDCG_train = gs.eval_model(model=best_model, df=gs.train, nDCG_at=[1,10,15])\n",
    "nDCG_valid = gs.eval_model(model=best_model, df=gs.valid, nDCG_at=[1,10,15])\n",
    "nDCG_test = gs.eval_model(model=best_model, df=gs.test, nDCG_at=[1,10,15])\n",
    "\n",
    "display(pd.DataFrame([nDCG_train,nDCG_valid,nDCG_test],index=[\"Training\",\"Validation\",\"Test\"]))"
   ],
   "metadata": {
    "collapsed": false
   }
  },
  {
   "cell_type": "code",
   "execution_count": null,
   "outputs": [],
   "source": [
    "from interpret import show\n",
    "show(best_model.explain_global())"
   ],
   "metadata": {
    "collapsed": false
   }
  },
  {
   "cell_type": "markdown",
   "source": [
    "# Explanation"
   ],
   "metadata": {
    "collapsed": false
   }
  },
  {
   "cell_type": "code",
   "execution_count": null,
   "outputs": [],
   "source": [
    "best_model = gs.load_model(name=\"./saved_models/EBMReg\")"
   ],
   "metadata": {
    "collapsed": false
   }
  },
  {
   "cell_type": "code",
   "execution_count": null,
   "outputs": [],
   "source": [
    "best_model"
   ],
   "metadata": {
    "collapsed": false
   }
  },
  {
   "cell_type": "code",
   "execution_count": null,
   "outputs": [],
   "source": [
    "f, axs = plt.subplots(ncols=3,nrows=4,figsize=(20,15))\n",
    "\n",
    "for i, feature in enumerate(best_model.feature_names):\n",
    "\n",
    "    x,y = gs.explanation(best_model, i)\n",
    "    axs[int(i/3)][i%3].set_xlabel(\"Value\")\n",
    "    axs[int(i/3)][i%3].set_ylabel(\"Contribute\")\n",
    "    axs[int(i/3)][i%3].grid()\n",
    "    axs[int(i/3)][i%3].plot(x,y, label=feature, color=\"#a74e25\")\n",
    "    axs[int(i/3)][i%3].legend()\n",
    "plt.show()"
   ],
   "metadata": {
    "collapsed": false
   }
  }
 ]
}
