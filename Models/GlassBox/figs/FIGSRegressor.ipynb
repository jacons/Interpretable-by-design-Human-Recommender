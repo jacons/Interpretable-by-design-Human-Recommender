{
 "cells": [
  {
   "cell_type": "code",
   "execution_count": 1,
   "outputs": [],
   "source": [
    "import pandas as pd\n",
    "import numpy as np\n",
    "from GlassBox.figs.figs_utils import FIGSGridSearch\n",
    "from imodels import FIGSRegressor\n",
    "%reload_ext autoreload\n",
    "%autoreload 2"
   ],
   "metadata": {
    "collapsed": false,
    "ExecuteTime": {
     "end_time": "2023-10-29T17:00:21.922859400Z",
     "start_time": "2023-10-29T17:00:18.980051200Z"
    }
   },
   "id": "5be52892517a6579"
  },
  {
   "cell_type": "code",
   "execution_count": 2,
   "outputs": [],
   "source": [
    "FIGS_parameter = dict(\n",
    "    max_rules= [5,10,15,20,25],\n",
    "    max_trees=[2,3,4,5,6,7,8,9,10],\n",
    "    min_impurity_decrease=[0.1, 0.2, 0.3],\n",
    ")\n",
    "gridsearch_parameters = dict( # unbalanced sources\n",
    "    train=\"../../outputs/scores/scores_tr.csv\",\n",
    "    valid=\"../../outputs/scores/scores_vl.csv\",\n",
    "    test=\"../../outputs/scores/scores_ts.csv\",\n",
    "    task=\"Regression\",\n",
    "    nDCG_at=15\n",
    ")\n",
    "gridsearch_parameters2 = dict( # balanced sources\n",
    "    train=\"../../outputs/bal_scores/scores_tr.csv\",\n",
    "    valid=\"../../outputs/bal_scores/scores_vl.csv\",\n",
    "    test=\"../../outputs/bal_scores/scores_ts.csv\",\n",
    "    task=\"Regression\",\n",
    "    nDCG_at=15\n",
    ")"
   ],
   "metadata": {
    "collapsed": false,
    "ExecuteTime": {
     "end_time": "2023-10-29T17:00:22.003369700Z",
     "start_time": "2023-10-29T17:00:21.925861100Z"
    }
   },
   "id": "fa9ce073f133f705"
  },
  {
   "cell_type": "markdown",
   "source": [
    "# Grid-search"
   ],
   "metadata": {
    "collapsed": false
   },
   "id": "685644129de16cf7"
  },
  {
   "cell_type": "code",
   "execution_count": 3,
   "outputs": [],
   "source": [
    "gs = FIGSGridSearch(**gridsearch_parameters)"
   ],
   "metadata": {
    "collapsed": false,
    "ExecuteTime": {
     "end_time": "2023-10-29T17:00:22.113181700Z",
     "start_time": "2023-10-29T17:00:22.003369700Z"
    }
   },
   "id": "fea90109df5bede3"
  },
  {
   "cell_type": "code",
   "execution_count": 4,
   "outputs": [
    {
     "name": "stderr",
     "output_type": "stream",
     "text": [
      "100%|██████████| 135/135 [01:08<00:00,  1.98it/s, nDCG=0.857]\n"
     ]
    }
   ],
   "source": [
    "best_ = gs.grid_search(FIGSRegressor, FIGS_parameter)\n",
    "gs.save_model(best_[0], name=\"FIGSReg_unbalanced\")"
   ],
   "metadata": {
    "collapsed": false,
    "ExecuteTime": {
     "end_time": "2023-10-29T17:01:30.399238600Z",
     "start_time": "2023-10-29T17:00:22.114183500Z"
    }
   },
   "id": "26c0a5184ead5814"
  },
  {
   "cell_type": "markdown",
   "source": [
    "# Metric evalutation"
   ],
   "metadata": {
    "collapsed": false
   },
   "id": "3580a215e625c71e"
  },
  {
   "cell_type": "code",
   "execution_count": 5,
   "outputs": [],
   "source": [
    "best_model = gs.load_model(name=\"./saved_models/FIGSReg_unbalanced\")"
   ],
   "metadata": {
    "collapsed": false,
    "ExecuteTime": {
     "end_time": "2023-10-29T17:01:30.479631600Z",
     "start_time": "2023-10-29T17:01:30.396244300Z"
    }
   },
   "id": "ab5898905b133ad7"
  },
  {
   "cell_type": "code",
   "execution_count": 6,
   "outputs": [
    {
     "data": {
      "text/plain": "            nDCG@1  nDCG@10  nDCG@15\nTraining    0.9075   0.9129   0.8970\nValidation  0.9550   0.8764   0.8568\nTest        0.9167   0.8800   0.8580",
      "text/html": "<div>\n<style scoped>\n    .dataframe tbody tr th:only-of-type {\n        vertical-align: middle;\n    }\n\n    .dataframe tbody tr th {\n        vertical-align: top;\n    }\n\n    .dataframe thead th {\n        text-align: right;\n    }\n</style>\n<table border=\"1\" class=\"dataframe\">\n  <thead>\n    <tr style=\"text-align: right;\">\n      <th></th>\n      <th>nDCG@1</th>\n      <th>nDCG@10</th>\n      <th>nDCG@15</th>\n    </tr>\n  </thead>\n  <tbody>\n    <tr>\n      <th>Training</th>\n      <td>0.9075</td>\n      <td>0.9129</td>\n      <td>0.8970</td>\n    </tr>\n    <tr>\n      <th>Validation</th>\n      <td>0.9550</td>\n      <td>0.8764</td>\n      <td>0.8568</td>\n    </tr>\n    <tr>\n      <th>Test</th>\n      <td>0.9167</td>\n      <td>0.8800</td>\n      <td>0.8580</td>\n    </tr>\n  </tbody>\n</table>\n</div>"
     },
     "metadata": {},
     "output_type": "display_data"
    }
   ],
   "source": [
    "# nDCG on test-set\n",
    "nDCG_train = gs.eval_model(model=best_model, df=gs.train, nDCG_at=[1,10,15])\n",
    "nDCG_valid = gs.eval_model(model=best_model, df=gs.valid, nDCG_at=[1,10,15])\n",
    "nDCG_test = gs.eval_model(model=best_model, df=gs.test, nDCG_at=[1,10,15])\n",
    "\n",
    "display(pd.DataFrame([nDCG_train,nDCG_valid,nDCG_test],index=[\"Training\",\"Validation\",\"Test\"]))"
   ],
   "metadata": {
    "collapsed": false,
    "ExecuteTime": {
     "end_time": "2023-10-29T17:01:30.933507100Z",
     "start_time": "2023-10-29T17:01:30.481632500Z"
    }
   },
   "id": "11c511ecc7a93007"
  },
  {
   "cell_type": "markdown",
   "source": [
    "# Grid search - balanced"
   ],
   "metadata": {
    "collapsed": false
   },
   "id": "8c4853f1adcf3a77"
  },
  {
   "cell_type": "code",
   "execution_count": 9,
   "outputs": [],
   "source": [
    "gs = FIGSGridSearch(**gridsearch_parameters2)"
   ],
   "metadata": {
    "collapsed": false,
    "ExecuteTime": {
     "end_time": "2023-10-29T17:01:31.233137700Z",
     "start_time": "2023-10-29T17:01:31.104121200Z"
    }
   },
   "id": "8a630d4b434af532"
  },
  {
   "cell_type": "code",
   "execution_count": 10,
   "outputs": [
    {
     "name": "stderr",
     "output_type": "stream",
     "text": [
      "100%|██████████| 135/135 [00:44<00:00,  3.02it/s, nDCG=0.877]\n"
     ]
    }
   ],
   "source": [
    "best_ = gs.grid_search(FIGSRegressor, FIGS_parameter)\n",
    "gs.save_model(best_[0], name=\"FIGSReg_balanced\")"
   ],
   "metadata": {
    "collapsed": false,
    "ExecuteTime": {
     "end_time": "2023-10-29T17:02:16.171287700Z",
     "start_time": "2023-10-29T17:01:31.218153Z"
    }
   },
   "id": "469868aca369e49e"
  },
  {
   "cell_type": "code",
   "execution_count": 11,
   "outputs": [],
   "source": [
    "best_model = gs.load_model(name=\"./saved_models/FIGSReg_balanced\")"
   ],
   "metadata": {
    "collapsed": false,
    "ExecuteTime": {
     "end_time": "2023-10-29T17:02:16.257894800Z",
     "start_time": "2023-10-29T17:02:16.168283500Z"
    }
   },
   "id": "7099e57c3599a725"
  },
  {
   "cell_type": "code",
   "execution_count": 12,
   "outputs": [
    {
     "data": {
      "text/plain": "            nDCG@1  nDCG@10  nDCG@15\nTraining    0.9558   0.9389   0.9284\nValidation  0.9717   0.8969   0.8773\nTest        0.9136   0.9068   0.8900",
      "text/html": "<div>\n<style scoped>\n    .dataframe tbody tr th:only-of-type {\n        vertical-align: middle;\n    }\n\n    .dataframe tbody tr th {\n        vertical-align: top;\n    }\n\n    .dataframe thead th {\n        text-align: right;\n    }\n</style>\n<table border=\"1\" class=\"dataframe\">\n  <thead>\n    <tr style=\"text-align: right;\">\n      <th></th>\n      <th>nDCG@1</th>\n      <th>nDCG@10</th>\n      <th>nDCG@15</th>\n    </tr>\n  </thead>\n  <tbody>\n    <tr>\n      <th>Training</th>\n      <td>0.9558</td>\n      <td>0.9389</td>\n      <td>0.9284</td>\n    </tr>\n    <tr>\n      <th>Validation</th>\n      <td>0.9717</td>\n      <td>0.8969</td>\n      <td>0.8773</td>\n    </tr>\n    <tr>\n      <th>Test</th>\n      <td>0.9136</td>\n      <td>0.9068</td>\n      <td>0.8900</td>\n    </tr>\n  </tbody>\n</table>\n</div>"
     },
     "metadata": {},
     "output_type": "display_data"
    }
   ],
   "source": [
    "# nDCG on test-set\n",
    "nDCG_train = gs.eval_model(model=best_model, df=gs.train, nDCG_at=[1,10,15])\n",
    "nDCG_valid = gs.eval_model(model=best_model, df=gs.valid, nDCG_at=[1,10,15])\n",
    "nDCG_test = gs.eval_model(model=best_model, df=gs.test, nDCG_at=[1,10,15])\n",
    "\n",
    "display(pd.DataFrame([nDCG_train,nDCG_valid,nDCG_test],index=[\"Training\",\"Validation\",\"Test\"]))"
   ],
   "metadata": {
    "collapsed": false,
    "ExecuteTime": {
     "end_time": "2023-10-29T17:02:16.623170600Z",
     "start_time": "2023-10-29T17:02:16.257894800Z"
    }
   },
   "id": "b2918be29e0efd04"
  }
 ],
 "metadata": {
  "kernelspec": {
   "display_name": "Python 3",
   "language": "python",
   "name": "python3"
  },
  "language_info": {
   "codemirror_mode": {
    "name": "ipython",
    "version": 2
   },
   "file_extension": ".py",
   "mimetype": "text/x-python",
   "name": "python",
   "nbconvert_exporter": "python",
   "pygments_lexer": "ipython2",
   "version": "2.7.6"
  }
 },
 "nbformat": 4,
 "nbformat_minor": 5
}
