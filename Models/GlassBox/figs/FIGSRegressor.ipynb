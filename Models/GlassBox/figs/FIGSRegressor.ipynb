{
 "cells": [
  {
   "cell_type": "code",
   "execution_count": 7,
   "outputs": [],
   "source": [
    "import pandas as pd\n",
    "from Models.GlassBox.figs.figs_class import FIGS_class\n",
    "from imodels import FIGSRegressor\n",
    "%reload_ext autoreload\n",
    "%autoreload 2"
   ],
   "metadata": {
    "collapsed": false,
    "ExecuteTime": {
     "end_time": "2023-11-12T18:36:53.012865Z",
     "start_time": "2023-11-12T18:36:52.383347700Z"
    }
   },
   "id": "5be52892517a6579"
  },
  {
   "cell_type": "code",
   "execution_count": 8,
   "outputs": [],
   "source": [
    "FIGS_parameter = dict(\n",
    "    max_rules= [5,10,15,20,25],\n",
    "    max_trees=[2,3,4,5,6,7,8,9,10],\n",
    "    min_impurity_decrease=[0.1, 0.2, 0.3],\n",
    ")\n",
    "gridsearch_parameters = dict(\n",
    "    path=\"./../../../outputs/scores/\",\n",
    "    name=\"0\",\n",
    "    nDCG_at=15\n",
    ")"
   ],
   "metadata": {
    "collapsed": false,
    "ExecuteTime": {
     "end_time": "2023-11-12T18:36:53.180876900Z",
     "start_time": "2023-11-12T18:36:53.038772700Z"
    }
   },
   "id": "fa9ce073f133f705"
  },
  {
   "cell_type": "markdown",
   "source": [
    "# Grid-search"
   ],
   "metadata": {
    "collapsed": false
   },
   "id": "685644129de16cf7"
  },
  {
   "cell_type": "code",
   "execution_count": 9,
   "outputs": [],
   "source": [
    "gs = FIGS_class(**gridsearch_parameters)"
   ],
   "metadata": {
    "collapsed": false,
    "ExecuteTime": {
     "end_time": "2023-11-12T18:36:53.366815100Z",
     "start_time": "2023-11-12T18:36:53.185382100Z"
    }
   },
   "id": "fea90109df5bede3"
  },
  {
   "cell_type": "code",
   "execution_count": 10,
   "outputs": [
    {
     "name": "stderr",
     "output_type": "stream",
     "text": [
      "100%|██████████| 135/135 [00:56<00:00,  2.40it/s, nDCG=0.983]\n"
     ]
    }
   ],
   "source": [
    "best_ = gs.grid_search(FIGSRegressor, FIGS_parameter)\n",
    "gs.save_model(best_[0], name=\"FIGSReg\")"
   ],
   "metadata": {
    "collapsed": false,
    "ExecuteTime": {
     "end_time": "2023-11-12T18:37:49.821743Z",
     "start_time": "2023-11-12T18:36:53.371750600Z"
    }
   },
   "id": "26c0a5184ead5814"
  },
  {
   "cell_type": "markdown",
   "source": [
    "# Metric evalutation"
   ],
   "metadata": {
    "collapsed": false
   },
   "id": "3580a215e625c71e"
  },
  {
   "cell_type": "code",
   "execution_count": 11,
   "outputs": [],
   "source": [
    "best_model = gs.load_model(name=\"./saved_models/FIGSReg\")"
   ],
   "metadata": {
    "collapsed": false,
    "ExecuteTime": {
     "end_time": "2023-11-12T18:37:49.967901400Z",
     "start_time": "2023-11-12T18:37:49.821743Z"
    }
   },
   "id": "ab5898905b133ad7"
  },
  {
   "cell_type": "code",
   "execution_count": 12,
   "outputs": [
    {
     "data": {
      "text/plain": "            nDCG@1  nDCG@10  nDCG@15\nTraining    0.9205   0.9564   0.9658\nValidation  0.9329   0.9770   0.9833\nTest        0.9322   0.9663   0.9747",
      "text/html": "<div>\n<style scoped>\n    .dataframe tbody tr th:only-of-type {\n        vertical-align: middle;\n    }\n\n    .dataframe tbody tr th {\n        vertical-align: top;\n    }\n\n    .dataframe thead th {\n        text-align: right;\n    }\n</style>\n<table border=\"1\" class=\"dataframe\">\n  <thead>\n    <tr style=\"text-align: right;\">\n      <th></th>\n      <th>nDCG@1</th>\n      <th>nDCG@10</th>\n      <th>nDCG@15</th>\n    </tr>\n  </thead>\n  <tbody>\n    <tr>\n      <th>Training</th>\n      <td>0.9205</td>\n      <td>0.9564</td>\n      <td>0.9658</td>\n    </tr>\n    <tr>\n      <th>Validation</th>\n      <td>0.9329</td>\n      <td>0.9770</td>\n      <td>0.9833</td>\n    </tr>\n    <tr>\n      <th>Test</th>\n      <td>0.9322</td>\n      <td>0.9663</td>\n      <td>0.9747</td>\n    </tr>\n  </tbody>\n</table>\n</div>"
     },
     "metadata": {},
     "output_type": "display_data"
    }
   ],
   "source": [
    "# nDCG on test-set\n",
    "nDCG_train = gs.eval_model(model=best_model, df=gs.train, nDCG_at=[1,10,15])\n",
    "nDCG_valid = gs.eval_model(model=best_model, df=gs.valid, nDCG_at=[1,10,15])\n",
    "nDCG_test = gs.eval_model(model=best_model, df=gs.test, nDCG_at=[1,10,15])\n",
    "\n",
    "display(pd.DataFrame([nDCG_train,nDCG_valid,nDCG_test],index=[\"Training\",\"Validation\",\"Test\"]))"
   ],
   "metadata": {
    "collapsed": false,
    "ExecuteTime": {
     "end_time": "2023-11-12T18:37:50.755606100Z",
     "start_time": "2023-11-12T18:37:49.970447900Z"
    }
   },
   "id": "11c511ecc7a93007"
  }
 ],
 "metadata": {
  "kernelspec": {
   "display_name": "Python 3",
   "language": "python",
   "name": "python3"
  },
  "language_info": {
   "codemirror_mode": {
    "name": "ipython",
    "version": 2
   },
   "file_extension": ".py",
   "mimetype": "text/x-python",
   "name": "python",
   "nbconvert_exporter": "python",
   "pygments_lexer": "ipython2",
   "version": "2.7.6"
  }
 },
 "nbformat": 4,
 "nbformat_minor": 5
}
