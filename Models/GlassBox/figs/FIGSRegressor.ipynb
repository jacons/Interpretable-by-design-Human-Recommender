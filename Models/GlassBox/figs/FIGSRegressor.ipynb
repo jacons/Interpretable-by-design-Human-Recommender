{
 "cells": [
  {
   "cell_type": "code",
   "execution_count": 9,
   "outputs": [],
   "source": [
    "import pandas as pd\n",
    "from Models.GlassBox.figs.figs_class import FIGS_class\n",
    "%reload_ext autoreload\n",
    "%autoreload 2"
   ],
   "metadata": {
    "collapsed": false,
    "ExecuteTime": {
     "end_time": "2023-12-21T20:42:40.257071700Z",
     "start_time": "2023-12-21T20:42:39.103615200Z"
    }
   },
   "id": "5be52892517a6579"
  },
  {
   "cell_type": "code",
   "execution_count": 10,
   "outputs": [],
   "source": [
    "FIGS_parameter = dict(\n",
    "    max_rules= [5,10,15,20,25],\n",
    "    max_trees=[2,3,4,5,6,7,8,9,10],\n",
    "    min_impurity_decrease=[0.1, 0.2, 0.3],\n",
    ")\n",
    "gridsearch_parameters = dict(\n",
    "    path=\"./../../../outputs/scores/\",\n",
    "    name=\"0\",\n",
    "    nDCG_at=15\n",
    ")"
   ],
   "metadata": {
    "collapsed": false,
    "ExecuteTime": {
     "end_time": "2023-12-21T20:42:40.390117Z",
     "start_time": "2023-12-21T20:42:40.260420200Z"
    }
   },
   "id": "fa9ce073f133f705"
  },
  {
   "cell_type": "markdown",
   "source": [
    "# Grid-search"
   ],
   "metadata": {
    "collapsed": false
   },
   "id": "685644129de16cf7"
  },
  {
   "cell_type": "code",
   "execution_count": 11,
   "outputs": [],
   "source": [
    "gs = FIGS_class(**gridsearch_parameters)"
   ],
   "metadata": {
    "collapsed": false,
    "ExecuteTime": {
     "end_time": "2023-12-21T20:42:40.591898300Z",
     "start_time": "2023-12-21T20:42:40.394669100Z"
    }
   },
   "id": "fea90109df5bede3"
  },
  {
   "cell_type": "code",
   "execution_count": 12,
   "outputs": [
    {
     "name": "stderr",
     "output_type": "stream",
     "text": [
      "Finding the best model: 100%|██████████| 135/135 [01:51<00:00,  1.21it/s, nDCG=0.981]\n"
     ]
    }
   ],
   "source": [
    "best_ = gs.grid_search(FIGS_parameter)\n",
    "gs.save_model(best_[0], name=\"FIGSReg\")"
   ],
   "metadata": {
    "collapsed": false,
    "ExecuteTime": {
     "end_time": "2023-12-21T20:44:32.609701900Z",
     "start_time": "2023-12-21T20:42:40.578319800Z"
    }
   },
   "id": "26c0a5184ead5814"
  },
  {
   "cell_type": "markdown",
   "source": [
    "# Metric evalutation"
   ],
   "metadata": {
    "collapsed": false
   },
   "id": "3580a215e625c71e"
  },
  {
   "cell_type": "code",
   "execution_count": 13,
   "outputs": [],
   "source": [
    "best_model = gs.load_model(name=\"./saved_models/FIGSReg\")"
   ],
   "metadata": {
    "collapsed": false,
    "ExecuteTime": {
     "end_time": "2023-12-21T20:44:32.745399200Z",
     "start_time": "2023-12-21T20:44:32.608632300Z"
    }
   },
   "id": "ab5898905b133ad7"
  },
  {
   "cell_type": "code",
   "execution_count": 14,
   "outputs": [
    {
     "data": {
      "text/plain": "            nDCG@1  nDCG@10  nDCG@15\nTraining    0.9201   0.9530   0.9618\nValidation  0.9376   0.9724   0.9814\nTest        0.9159   0.9590   0.9697",
      "text/html": "<div>\n<style scoped>\n    .dataframe tbody tr th:only-of-type {\n        vertical-align: middle;\n    }\n\n    .dataframe tbody tr th {\n        vertical-align: top;\n    }\n\n    .dataframe thead th {\n        text-align: right;\n    }\n</style>\n<table border=\"1\" class=\"dataframe\">\n  <thead>\n    <tr style=\"text-align: right;\">\n      <th></th>\n      <th>nDCG@1</th>\n      <th>nDCG@10</th>\n      <th>nDCG@15</th>\n    </tr>\n  </thead>\n  <tbody>\n    <tr>\n      <th>Training</th>\n      <td>0.9201</td>\n      <td>0.9530</td>\n      <td>0.9618</td>\n    </tr>\n    <tr>\n      <th>Validation</th>\n      <td>0.9376</td>\n      <td>0.9724</td>\n      <td>0.9814</td>\n    </tr>\n    <tr>\n      <th>Test</th>\n      <td>0.9159</td>\n      <td>0.9590</td>\n      <td>0.9697</td>\n    </tr>\n  </tbody>\n</table>\n</div>"
     },
     "metadata": {},
     "output_type": "display_data"
    }
   ],
   "source": [
    "# nDCG on test-set\n",
    "nDCG_train = gs.eval_model(model=best_model, df=gs.train, nDCG_at=[1,10,15])\n",
    "nDCG_valid = gs.eval_model(model=best_model, df=gs.valid, nDCG_at=[1,10,15])\n",
    "nDCG_test = gs.eval_model(model=best_model, df=gs.test, nDCG_at=[1,10,15])\n",
    "\n",
    "display(pd.DataFrame([nDCG_train,nDCG_valid,nDCG_test],index=[\"Training\",\"Validation\",\"Test\"]))"
   ],
   "metadata": {
    "collapsed": false,
    "ExecuteTime": {
     "end_time": "2023-12-21T20:44:34.071613100Z",
     "start_time": "2023-12-21T20:44:32.750365500Z"
    }
   },
   "id": "11c511ecc7a93007"
  },
  {
   "cell_type": "code",
   "execution_count": 15,
   "outputs": [
    {
     "name": "stdout",
     "output_type": "stream",
     "text": [
      "> ------------------------------\n",
      "> FIGS-Fast Interpretable Greedy-Tree Sums:\n",
      "> \tPredictions are made by summing the \"Val\" reached by traversing each tree.\n",
      "> \tFor classifiers, a sigmoid function is then applied to the sum.\n",
      "> ------------------------------\n",
      "fitness_comp_basic <= 0.125 (Tree #0 root)\n",
      "\tfitness_edu_basic <= 0.500 (split)\n",
      "\t\tVal: 27.000 (leaf)\n",
      "\t\tfitness_lang_lvl_basic <= 0.250 (split)\n",
      "\t\t\tVal: 35.824 (leaf)\n",
      "\t\t\tVal: 41.157 (leaf)\n",
      "\tfitness_know_bonus <= 0.167 (split)\n",
      "\t\tfitness_lang_lvl_basic <= 0.250 (split)\n",
      "\t\t\tfitness_know_basic <= 0.708 (split)\n",
      "\t\t\t\tVal: 49.605 (leaf)\n",
      "\t\t\t\tVal: 52.794 (leaf)\n",
      "\t\t\tfitness_know_basic <= 0.708 (split)\n",
      "\t\t\t\tVal: 55.452 (leaf)\n",
      "\t\t\t\tVal: 58.367 (leaf)\n",
      "\t\tfitness_lang_lvl_basic <= 0.250 (split)\n",
      "\t\t\tVal: 56.590 (leaf)\n",
      "\t\t\tfitness_know_bonus <= 0.583 (split)\n",
      "\t\t\t\tVal: 60.926 (leaf)\n",
      "\t\t\t\tVal: 63.583 (leaf)\n",
      "\n",
      "\t+\n",
      "fitness_exp_basic <= 0.500 (Tree #1 root)\n",
      "\tVal: -3.606 (leaf)\n",
      "\tfitness_exp_bonus <= 0.500 (split)\n",
      "\t\tVal: 4.351 (leaf)\n",
      "\t\tVal: 8.113 (leaf)\n",
      "\n",
      "\t+\n",
      "fitness_lang_basic <= 0.750 (Tree #2 root)\n",
      "\tfitness_lang_basic <= 0.250 (split)\n",
      "\t\tVal: -5.024 (leaf)\n",
      "\t\tVal: -3.108 (leaf)\n",
      "\tVal: 3.694 (leaf)\n",
      "\n",
      "\t+\n",
      "fitness_edu_bonus <= 0.500 (Tree #3 root)\n",
      "\tVal: -0.948 (leaf)\n",
      "\tVal: 5.597 (leaf)\n",
      "\n",
      "\t+\n",
      "fitness_comp_basic <= 0.583 (Tree #4 root)\n",
      "\tfitness_comp_basic <= 0.125 (split)\n",
      "\t\tfitness_comp_sim_basic <= 0.125 (split)\n",
      "\t\t\tVal: -2.303 (leaf)\n",
      "\t\t\tVal: 0.968 (leaf)\n",
      "\t\tfitness_comp_basic <= 0.417 (split)\n",
      "\t\t\tVal: -3.915 (leaf)\n",
      "\t\t\tVal: -1.451 (leaf)\n",
      "\tVal: 1.204 (leaf)\n",
      "\n",
      "\t+\n",
      "fitness_comp_bonus <= 0.167 (Tree #5 root)\n",
      "\tfitness_comp_sim_bonus <= 0.125 (split)\n",
      "\t\tVal: -1.314 (leaf)\n",
      "\t\tVal: 0.048 (leaf)\n",
      "\tVal: 3.241 (leaf)\n",
      "\n",
      "\t+\n",
      "fitness_lang_bonus <= 0.250 (Tree #6 root)\n",
      "\tVal: -0.170 (leaf)\n",
      "\tVal: 2.164 (leaf)\n",
      "\n",
      "\t+\n",
      "fitness_age <= 0.500 (Tree #7 root)\n",
      "\tVal: -1.325 (leaf)\n",
      "\tfitness_city <= 0.250 (split)\n",
      "\t\tVal: 0.237 (leaf)\n",
      "\t\tVal: 2.303 (leaf)\n",
      "\n",
      "\t+\n",
      "fitness_comp_sim_basic <= 0.375 (Tree #8 root)\n",
      "\tfitness_edu_bonus <= 0.500 (split)\n",
      "\t\tVal: -0.052 (leaf)\n",
      "\t\tVal: -1.586 (leaf)\n",
      "\tVal: 1.834 (leaf)\n"
     ]
    }
   ],
   "source": [
    "print(best_model)"
   ],
   "metadata": {
    "collapsed": false,
    "ExecuteTime": {
     "end_time": "2023-12-21T20:44:34.237732400Z",
     "start_time": "2023-12-21T20:44:34.075463400Z"
    }
   },
   "id": "5bc995083f962aac"
  },
  {
   "cell_type": "code",
   "execution_count": 17,
   "outputs": [],
   "source": [
    "# for i in range(len(best_model.trees_)):\n",
    "#     best_model.plot(tree_number=i)"
   ],
   "metadata": {
    "collapsed": false,
    "ExecuteTime": {
     "end_time": "2023-12-21T20:45:09.163081100Z",
     "start_time": "2023-12-21T20:45:09.015165200Z"
    }
   },
   "id": "c5efaf4f492df20a"
  }
 ],
 "metadata": {
  "kernelspec": {
   "display_name": "Python 3",
   "language": "python",
   "name": "python3"
  },
  "language_info": {
   "codemirror_mode": {
    "name": "ipython",
    "version": 2
   },
   "file_extension": ".py",
   "mimetype": "text/x-python",
   "name": "python",
   "nbconvert_exporter": "python",
   "pygments_lexer": "ipython2",
   "version": "2.7.6"
  }
 },
 "nbformat": 4,
 "nbformat_minor": 5
}
