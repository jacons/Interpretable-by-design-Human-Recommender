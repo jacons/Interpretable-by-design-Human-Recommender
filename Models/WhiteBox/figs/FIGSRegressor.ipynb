{
 "cells": [
  {
   "cell_type": "code",
   "execution_count": 11,
   "id": "initial_id",
   "metadata": {
    "collapsed": true,
    "ExecuteTime": {
     "end_time": "2023-12-28T17:58:39.272909300Z",
     "start_time": "2023-12-28T17:58:39.039587800Z"
    }
   },
   "outputs": [],
   "source": [
    "import pandas as pd\n",
    "from Models.WhiteBox.figs.figs_class import FIGS_class\n",
    "%reload_ext autoreload\n",
    "%autoreload 2"
   ]
  },
  {
   "cell_type": "code",
   "outputs": [],
   "source": [
    "FIGS_parameter = dict(\n",
    "    max_rules= [5,10,15,20,25],\n",
    "    max_trees=[2,3,4,5,6,7,8,9,10],\n",
    "    min_impurity_decrease=[0.1, 0.2, 0.3],\n",
    ")\n",
    "gridsearch_parameters = dict(\n",
    "    path=\"./../../../outputs/scores/\",\n",
    "    name=\"0\",\n",
    "    nDCG_at=15\n",
    ")"
   ],
   "metadata": {
    "collapsed": false,
    "ExecuteTime": {
     "end_time": "2023-12-28T17:58:39.477038800Z",
     "start_time": "2023-12-28T17:58:39.275137100Z"
    }
   },
   "id": "e19d1aae25c0b6e2",
   "execution_count": 12
  },
  {
   "cell_type": "markdown",
   "source": [
    "# # Grid-search"
   ],
   "metadata": {
    "collapsed": false
   },
   "id": "faa1e2d21b7cfa2e"
  },
  {
   "cell_type": "code",
   "outputs": [],
   "source": [
    "gs = FIGS_class(**gridsearch_parameters)"
   ],
   "metadata": {
    "collapsed": false,
    "ExecuteTime": {
     "end_time": "2023-12-28T17:58:39.875045900Z",
     "start_time": "2023-12-28T17:58:39.479257Z"
    }
   },
   "id": "ae4fff7c532fe99d",
   "execution_count": 13
  },
  {
   "cell_type": "code",
   "outputs": [
    {
     "name": "stderr",
     "output_type": "stream",
     "text": [
      "Finding the best model: 100%|██████████| 135/135 [02:24<00:00,  1.07s/it, nDCG=0.982]\n"
     ]
    }
   ],
   "source": [
    "best_ = gs.grid_search(FIGS_parameter)\n",
    "gs.save_model(best_[0], name=\"FIGSReg\")"
   ],
   "metadata": {
    "collapsed": false,
    "ExecuteTime": {
     "end_time": "2023-12-28T18:01:04.919472500Z",
     "start_time": "2023-12-28T17:58:39.877336300Z"
    }
   },
   "id": "74bfe4f95c835ac1",
   "execution_count": 14
  },
  {
   "cell_type": "markdown",
   "source": [
    "# # Metric evalutation"
   ],
   "metadata": {
    "collapsed": false
   },
   "id": "e0e17004fb00f60"
  },
  {
   "cell_type": "code",
   "outputs": [],
   "source": [
    "best_model = gs.load_model(name=\"./saved_models/FIGSReg\")"
   ],
   "metadata": {
    "collapsed": false,
    "ExecuteTime": {
     "end_time": "2023-12-28T18:01:05.243713400Z",
     "start_time": "2023-12-28T18:01:04.919472500Z"
    }
   },
   "id": "b293f7ac2dc1a307",
   "execution_count": 15
  },
  {
   "cell_type": "code",
   "outputs": [
    {
     "data": {
      "text/plain": "            nDCG@1  nDCG@10  nDCG@15\nTraining    0.9184   0.9551   0.9647\nValidation  0.9377   0.9740   0.9820\nTest        0.9286   0.9620   0.9721",
      "text/html": "<div>\n<style scoped>\n    .dataframe tbody tr th:only-of-type {\n        vertical-align: middle;\n    }\n\n    .dataframe tbody tr th {\n        vertical-align: top;\n    }\n\n    .dataframe thead th {\n        text-align: right;\n    }\n</style>\n<table border=\"1\" class=\"dataframe\">\n  <thead>\n    <tr style=\"text-align: right;\">\n      <th></th>\n      <th>nDCG@1</th>\n      <th>nDCG@10</th>\n      <th>nDCG@15</th>\n    </tr>\n  </thead>\n  <tbody>\n    <tr>\n      <th>Training</th>\n      <td>0.9184</td>\n      <td>0.9551</td>\n      <td>0.9647</td>\n    </tr>\n    <tr>\n      <th>Validation</th>\n      <td>0.9377</td>\n      <td>0.9740</td>\n      <td>0.9820</td>\n    </tr>\n    <tr>\n      <th>Test</th>\n      <td>0.9286</td>\n      <td>0.9620</td>\n      <td>0.9721</td>\n    </tr>\n  </tbody>\n</table>\n</div>"
     },
     "metadata": {},
     "output_type": "display_data"
    }
   ],
   "source": [
    "# nDCG on test-set\n",
    "nDCG_train = gs.eval_model(model=best_model, df=gs.train, nDCG_at=[1,10,15])\n",
    "nDCG_valid = gs.eval_model(model=best_model, df=gs.valid, nDCG_at=[1,10,15])\n",
    "nDCG_test = gs.eval_model(model=best_model, df=gs.test, nDCG_at=[1,10,15])\n",
    "\n",
    "display(pd.DataFrame([nDCG_train,nDCG_valid,nDCG_test],index=[\"Training\",\"Validation\",\"Test\"]))"
   ],
   "metadata": {
    "collapsed": false,
    "ExecuteTime": {
     "end_time": "2023-12-28T18:01:07.248251900Z",
     "start_time": "2023-12-28T18:01:05.248074Z"
    }
   },
   "id": "8b788b11205d05f0",
   "execution_count": 16
  },
  {
   "cell_type": "code",
   "outputs": [
    {
     "name": "stdout",
     "output_type": "stream",
     "text": [
      "> ------------------------------\n",
      "> FIGS-Fast Interpretable Greedy-Tree Sums:\n",
      "> \tPredictions are made by summing the \"Val\" reached by traversing each tree.\n",
      "> \tFor classifiers, a sigmoid function is then applied to the sum.\n",
      "> ------------------------------\n",
      "fitness_comp_essential <= 0.125 (Tree #0 root)\n",
      "\tfitness_edu_basic <= 0.500 (split)\n",
      "\t\tVal: 30.805 (leaf)\n",
      "\t\tVal: 38.704 (leaf)\n",
      "\tfitness_lang_lvl_basic <= 0.250 (split)\n",
      "\t\tfitness_know_essential <= 0.583 (split)\n",
      "\t\t\tVal: 52.147 (leaf)\n",
      "\t\t\tVal: 55.527 (leaf)\n",
      "\t\tfitness_know_essential <= 0.583 (split)\n",
      "\t\t\tfitness_know_essential <= 0.417 (split)\n",
      "\t\t\t\tVal: 56.417 (leaf)\n",
      "\t\t\t\tVal: 59.234 (leaf)\n",
      "\t\t\tVal: 62.158 (leaf)\n",
      "\n",
      "\t+\n",
      "fitness_lang_basic <= 0.750 (Tree #1 root)\n",
      "\tVal: -4.908 (leaf)\n",
      "\tVal: 4.025 (leaf)\n",
      "\n",
      "\t+\n",
      "fitness_exp_basic <= 0.500 (Tree #2 root)\n",
      "\tVal: -3.186 (leaf)\n",
      "\tfitness_exp_bonus <= 0.500 (split)\n",
      "\t\tVal: 5.158 (leaf)\n",
      "\t\tVal: 7.659 (leaf)\n",
      "\n",
      "\t+\n",
      "fitness_edu_bonus <= 0.500 (Tree #3 root)\n",
      "\tVal: -0.925 (leaf)\n",
      "\tVal: 5.399 (leaf)\n",
      "\n",
      "\t+\n",
      "fitness_know_optional <= 0.167 (Tree #4 root)\n",
      "\tfitness_know_sim_optional <= 0.125 (split)\n",
      "\t\tVal: -1.351 (leaf)\n",
      "\t\tVal: 0.137 (leaf)\n",
      "\tfitness_know_optional <= 0.583 (split)\n",
      "\t\tVal: 2.881 (leaf)\n",
      "\t\tVal: 5.530 (leaf)\n",
      "\n",
      "\t+\n",
      "fitness_comp_optional <= 0.167 (Tree #5 root)\n",
      "\tfitness_comp_sim_bonus <= 0.125 (split)\n",
      "\t\tVal: -0.830 (leaf)\n",
      "\t\tVal: 0.252 (leaf)\n",
      "\tVal: 3.673 (leaf)\n",
      "\n",
      "\t+\n",
      "fitness_comp_essential <= 0.583 (Tree #6 root)\n",
      "\tfitness_comp_essential <= 0.125 (split)\n",
      "\t\tfitness_lang_lvl_basic <= 0.250 (split)\n",
      "\t\t\tfitness_know_sim_essential <= 0.125 (split)\n",
      "\t\t\t\tVal: -1.645 (leaf)\n",
      "\t\t\t\tVal: 1.342 (leaf)\n",
      "\t\t\tVal: 5.244 (leaf)\n",
      "\t\tfitness_comp_essential <= 0.417 (split)\n",
      "\t\t\tVal: -3.599 (leaf)\n",
      "\t\t\tVal: -1.401 (leaf)\n",
      "\tVal: 0.953 (leaf)\n",
      "\n",
      "\t+\n",
      "fitness_lang_bonus <= 0.250 (Tree #7 root)\n",
      "\tfitness_know_sim_essential <= 0.375 (split)\n",
      "\t\tVal: -0.393 (leaf)\n",
      "\t\tVal: 2.861 (leaf)\n",
      "\tVal: 2.736 (leaf)\n",
      "\n",
      "\t+\n",
      "fitness_age <= 0.500 (Tree #8 root)\n",
      "\tVal: -1.571 (leaf)\n",
      "\tfitness_comp_sim_essential <= 0.375 (split)\n",
      "\t\tVal: 0.290 (leaf)\n",
      "\t\tVal: 2.026 (leaf)\n",
      "\n",
      "\t+\n",
      "fitness_lang_basic <= 0.750 (Tree #9 root)\n",
      "\tVal: 0.776 (leaf)\n",
      "\tVal: -0.637 (leaf)\n"
     ]
    }
   ],
   "source": [
    "print(best_model)"
   ],
   "metadata": {
    "collapsed": false,
    "ExecuteTime": {
     "end_time": "2023-12-28T18:01:07.540882600Z",
     "start_time": "2023-12-28T18:01:07.241471500Z"
    }
   },
   "id": "41f8ac61ed255ab7",
   "execution_count": 17
  },
  {
   "cell_type": "code",
   "outputs": [],
   "source": [
    "# for i in range(len(best_model.trees_)):\n",
    "#     best_model.plot(tree_number=i)"
   ],
   "metadata": {
    "collapsed": false,
    "ExecuteTime": {
     "end_time": "2023-12-28T18:01:07.878555700Z",
     "start_time": "2023-12-28T18:01:07.526052200Z"
    }
   },
   "id": "9cfc98c24e3f6f03",
   "execution_count": 18
  }
 ],
 "metadata": {
  "kernelspec": {
   "display_name": "Python 3",
   "language": "python",
   "name": "python3"
  },
  "language_info": {
   "codemirror_mode": {
    "name": "ipython",
    "version": 2
   },
   "file_extension": ".py",
   "mimetype": "text/x-python",
   "name": "python",
   "nbconvert_exporter": "python",
   "pygments_lexer": "ipython2",
   "version": "2.7.6"
  }
 },
 "nbformat": 4,
 "nbformat_minor": 5
}
