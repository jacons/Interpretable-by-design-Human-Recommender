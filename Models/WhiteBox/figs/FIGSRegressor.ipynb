{
 "cells": [
  {
   "cell_type": "code",
   "execution_count": 1,
   "outputs": [],
   "source": [
    "import pandas as pd\n",
    "from Models.WhiteBox.figs.figs_class import FIGS_class\n",
    "%reload_ext autoreload\n",
    "%autoreload 2"
   ],
   "metadata": {
    "collapsed": false,
    "ExecuteTime": {
     "end_time": "2023-12-24T15:41:25.243802500Z",
     "start_time": "2023-12-24T15:41:22.615249100Z"
    }
   },
   "id": "5be52892517a6579"
  },
  {
   "cell_type": "code",
   "execution_count": 2,
   "outputs": [],
   "source": [
    "FIGS_parameter = dict(\n",
    "    max_rules= [5,10,15,20,25],\n",
    "    max_trees=[2,3,4,5,6,7,8,9,10],\n",
    "    min_impurity_decrease=[0.1, 0.2, 0.3],\n",
    ")\n",
    "gridsearch_parameters = dict(\n",
    "    path=\"./../../../outputs/scores/\",\n",
    "    name=\"0\",\n",
    "    nDCG_at=15\n",
    ")"
   ],
   "metadata": {
    "collapsed": false,
    "ExecuteTime": {
     "end_time": "2023-12-24T15:41:25.317009800Z",
     "start_time": "2023-12-24T15:41:25.248375900Z"
    }
   },
   "id": "fa9ce073f133f705"
  },
  {
   "cell_type": "markdown",
   "source": [
    "# Grid-search"
   ],
   "metadata": {
    "collapsed": false
   },
   "id": "685644129de16cf7"
  },
  {
   "cell_type": "code",
   "execution_count": 3,
   "outputs": [],
   "source": [
    "gs = FIGS_class(**gridsearch_parameters)"
   ],
   "metadata": {
    "collapsed": false,
    "ExecuteTime": {
     "end_time": "2023-12-24T15:41:25.422223300Z",
     "start_time": "2023-12-24T15:41:25.320488800Z"
    }
   },
   "id": "fea90109df5bede3"
  },
  {
   "cell_type": "code",
   "execution_count": 4,
   "outputs": [
    {
     "name": "stderr",
     "output_type": "stream",
     "text": [
      "Finding the best model: 100%|██████████| 135/135 [01:50<00:00,  1.23it/s, nDCG=0.98]\n"
     ]
    }
   ],
   "source": [
    "best_ = gs.grid_search(FIGS_parameter)\n",
    "gs.save_model(best_[0], name=\"FIGSReg\")"
   ],
   "metadata": {
    "collapsed": false,
    "ExecuteTime": {
     "end_time": "2023-12-24T15:43:15.681399400Z",
     "start_time": "2023-12-24T15:41:25.425761600Z"
    }
   },
   "id": "26c0a5184ead5814"
  },
  {
   "cell_type": "markdown",
   "source": [
    "# Metric evalutation"
   ],
   "metadata": {
    "collapsed": false
   },
   "id": "3580a215e625c71e"
  },
  {
   "cell_type": "code",
   "execution_count": 5,
   "outputs": [],
   "source": [
    "best_model = gs.load_model(name=\"./saved_models/FIGSReg\")"
   ],
   "metadata": {
    "collapsed": false,
    "ExecuteTime": {
     "end_time": "2023-12-24T15:43:15.750256500Z",
     "start_time": "2023-12-24T15:43:15.676664300Z"
    }
   },
   "id": "ab5898905b133ad7"
  },
  {
   "cell_type": "code",
   "execution_count": 6,
   "outputs": [
    {
     "data": {
      "text/plain": "            nDCG@1  nDCG@10  nDCG@15\nTraining    0.9160   0.9528   0.9626\nValidation  0.9296   0.9713   0.9801\nTest        0.9298   0.9600   0.9703",
      "text/html": "<div>\n<style scoped>\n    .dataframe tbody tr th:only-of-type {\n        vertical-align: middle;\n    }\n\n    .dataframe tbody tr th {\n        vertical-align: top;\n    }\n\n    .dataframe thead th {\n        text-align: right;\n    }\n</style>\n<table border=\"1\" class=\"dataframe\">\n  <thead>\n    <tr style=\"text-align: right;\">\n      <th></th>\n      <th>nDCG@1</th>\n      <th>nDCG@10</th>\n      <th>nDCG@15</th>\n    </tr>\n  </thead>\n  <tbody>\n    <tr>\n      <th>Training</th>\n      <td>0.9160</td>\n      <td>0.9528</td>\n      <td>0.9626</td>\n    </tr>\n    <tr>\n      <th>Validation</th>\n      <td>0.9296</td>\n      <td>0.9713</td>\n      <td>0.9801</td>\n    </tr>\n    <tr>\n      <th>Test</th>\n      <td>0.9298</td>\n      <td>0.9600</td>\n      <td>0.9703</td>\n    </tr>\n  </tbody>\n</table>\n</div>"
     },
     "metadata": {},
     "output_type": "display_data"
    }
   ],
   "source": [
    "# nDCG on test-set\n",
    "nDCG_train = gs.eval_model(model=best_model, df=gs.train, nDCG_at=[1,10,15])\n",
    "nDCG_valid = gs.eval_model(model=best_model, df=gs.valid, nDCG_at=[1,10,15])\n",
    "nDCG_test = gs.eval_model(model=best_model, df=gs.test, nDCG_at=[1,10,15])\n",
    "\n",
    "display(pd.DataFrame([nDCG_train,nDCG_valid,nDCG_test],index=[\"Training\",\"Validation\",\"Test\"]))"
   ],
   "metadata": {
    "collapsed": false,
    "ExecuteTime": {
     "end_time": "2023-12-24T15:43:17.171184500Z",
     "start_time": "2023-12-24T15:43:15.752685900Z"
    }
   },
   "id": "11c511ecc7a93007"
  },
  {
   "cell_type": "code",
   "execution_count": 7,
   "outputs": [
    {
     "name": "stdout",
     "output_type": "stream",
     "text": [
      "> ------------------------------\n",
      "> FIGS-Fast Interpretable Greedy-Tree Sums:\n",
      "> \tPredictions are made by summing the \"Val\" reached by traversing each tree.\n",
      "> \tFor classifiers, a sigmoid function is then applied to the sum.\n",
      "> ------------------------------\n",
      "fitness_know_essential <= 0.125 (Tree #0 root)\n",
      "\tfitness_edu_basic <= 0.500 (split)\n",
      "\t\tVal: 26.531 (leaf)\n",
      "\t\tVal: 34.384 (leaf)\n",
      "\tfitness_lang_lvl_basic <= 0.750 (split)\n",
      "\t\tfitness_comp_essential <= 0.417 (split)\n",
      "\t\t\tVal: 50.491 (leaf)\n",
      "\t\t\tVal: 54.059 (leaf)\n",
      "\t\tfitness_comp_essential <= 0.292 (split)\n",
      "\t\t\tVal: 56.276 (leaf)\n",
      "\t\t\tVal: 59.295 (leaf)\n",
      "\n",
      "\t+\n",
      "fitness_exp_basic <= 0.500 (Tree #1 root)\n",
      "\tVal: -3.440 (leaf)\n",
      "\tfitness_exp_bonus <= 0.500 (split)\n",
      "\t\tVal: 4.579 (leaf)\n",
      "\t\tVal: 7.535 (leaf)\n",
      "\n",
      "\t+\n",
      "fitness_lang_basic <= 0.250 (Tree #2 root)\n",
      "\tVal: -7.191 (leaf)\n",
      "\tfitness_comp_essential <= 0.583 (split)\n",
      "\t\tVal: 0.239 (leaf)\n",
      "\t\tVal: 3.135 (leaf)\n",
      "\n",
      "\t+\n",
      "fitness_edu_bonus <= 0.500 (Tree #3 root)\n",
      "\tfitness_comp_sim_bonus <= 0.125 (split)\n",
      "\t\tVal: -0.563 (leaf)\n",
      "\t\tVal: 0.356 (leaf)\n",
      "\tVal: 5.887 (leaf)\n",
      "\n",
      "\t+\n",
      "fitness_know_optional <= 0.167 (Tree #4 root)\n",
      "\tfitness_know_sim_optional <= 0.125 (split)\n",
      "\t\tVal: -1.857 (leaf)\n",
      "\t\tVal: -0.555 (leaf)\n",
      "\tVal: 4.238 (leaf)\n",
      "\n",
      "\t+\n",
      "fitness_comp_optional <= 0.167 (Tree #5 root)\n",
      "\tfitness_know_essential <= 0.125 (split)\n",
      "\t\tfitness_lang_lvl_basic <= 0.750 (split)\n",
      "\t\t\tfitness_know_sim_essential <= 0.125 (split)\n",
      "\t\t\t\tVal: 0.698 (leaf)\n",
      "\t\t\t\tVal: 3.576 (leaf)\n",
      "\t\t\tVal: 8.236 (leaf)\n",
      "\t\tfitness_know_essential <= 0.583 (split)\n",
      "\t\t\tVal: -3.657 (leaf)\n",
      "\t\t\tfitness_city <= 0.250 (split)\n",
      "\t\t\t\tfitness_know_essential <= 0.708 (split)\n",
      "\t\t\t\t\tVal: -1.802 (leaf)\n",
      "\t\t\t\t\tVal: 0.061 (leaf)\n",
      "\t\t\t\tVal: 2.255 (leaf)\n",
      "\tVal: 4.048 (leaf)\n",
      "\n",
      "\t+\n",
      "fitness_lang_bonus <= 0.250 (Tree #6 root)\n",
      "\tfitness_age <= 0.500 (split)\n",
      "\t\tVal: -1.967 (leaf)\n",
      "\t\tfitness_know_essential <= 0.125 (split)\n",
      "\t\t\tVal: 1.746 (leaf)\n",
      "\t\t\tVal: -0.089 (leaf)\n",
      "\tVal: 2.764 (leaf)\n",
      "\n",
      "\t+\n",
      "fitness_know_sim_essential <= 0.375 (Tree #7 root)\n",
      "\tVal: -0.112 (leaf)\n",
      "\tVal: 2.830 (leaf)\n",
      "\n",
      "\t+\n",
      "fitness_comp_sim_essential <= 0.375 (Tree #8 root)\n",
      "\tVal: -0.229 (leaf)\n",
      "\tVal: 1.303 (leaf)\n"
     ]
    }
   ],
   "source": [
    "print(best_model)"
   ],
   "metadata": {
    "collapsed": false,
    "ExecuteTime": {
     "end_time": "2023-12-24T15:43:17.241830900Z",
     "start_time": "2023-12-24T15:43:17.172315900Z"
    }
   },
   "id": "5bc995083f962aac"
  },
  {
   "cell_type": "code",
   "execution_count": 8,
   "outputs": [],
   "source": [
    "# for i in range(len(best_model.trees_)):\n",
    "#     best_model.plot(tree_number=i)"
   ],
   "metadata": {
    "collapsed": false,
    "ExecuteTime": {
     "end_time": "2023-12-24T15:43:17.314341600Z",
     "start_time": "2023-12-24T15:43:17.244161600Z"
    }
   },
   "id": "c5efaf4f492df20a"
  }
 ],
 "metadata": {
  "kernelspec": {
   "display_name": "Python 3",
   "language": "python",
   "name": "python3"
  },
  "language_info": {
   "codemirror_mode": {
    "name": "ipython",
    "version": 2
   },
   "file_extension": ".py",
   "mimetype": "text/x-python",
   "name": "python",
   "nbconvert_exporter": "python",
   "pygments_lexer": "ipython2",
   "version": "2.7.6"
  }
 },
 "nbformat": 4,
 "nbformat_minor": 5
}
